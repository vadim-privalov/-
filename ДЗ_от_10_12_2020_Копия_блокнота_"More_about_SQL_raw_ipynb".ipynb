{
  "nbformat": 4,
  "nbformat_minor": 0,
  "metadata": {
    "colab": {
      "name": "ДЗ от 10.12.2020 Копия блокнота \"More_about_SQL_raw.ipynb\"",
      "provenance": [],
      "collapsed_sections": [],
      "include_colab_link": true
    },
    "kernelspec": {
      "name": "python3",
      "display_name": "Python 3"
    }
  },
  "cells": [
    {
      "cell_type": "markdown",
      "metadata": {
        "id": "view-in-github",
        "colab_type": "text"
      },
      "source": [
        "<a href=\"https://colab.research.google.com/github/vadim-privalov/-/blob/main/%D0%94%D0%97_%D0%BE%D1%82_10_12_2020_%D0%9A%D0%BE%D0%BF%D0%B8%D1%8F_%D0%B1%D0%BB%D0%BE%D0%BA%D0%BD%D0%BE%D1%82%D0%B0_%22More_about_SQL_raw_ipynb%22.ipynb\" target=\"_parent\"><img src=\"https://colab.research.google.com/assets/colab-badge.svg\" alt=\"Open In Colab\"/></a>"
      ]
    },
    {
      "cell_type": "markdown",
      "metadata": {
        "id": "fPu_17Y2qo8X"
      },
      "source": [
        "## План занятия\n",
        "\n",
        "- Повторим как создавать БД при помощи SQLalchemy\n",
        "- Разберем новые операторы в SQL\n",
        "- Разберем подробнее ORM (объектно-реляционное отображение) в SQLalchemy"
      ]
    },
    {
      "cell_type": "markdown",
      "metadata": {
        "id": "eug_b6nh7G83"
      },
      "source": [
        "(задание из презентации)"
      ]
    },
    {
      "cell_type": "code",
      "metadata": {
        "id": "BS7R-wFwTkiF"
      },
      "source": [
        "import matplotlib.pyplot as plt\n",
        "import pandas as pd\n",
        "import numpy as np"
      ],
      "execution_count": 1,
      "outputs": []
    },
    {
      "cell_type": "code",
      "metadata": {
        "id": "98olMNYWJS4y",
        "colab": {
          "base_uri": "https://localhost:8080/"
        },
        "outputId": "e3150539-211f-48ea-8f8c-862ba1e6824a"
      },
      "source": [
        "prices = np.random.permutation(np.arange(10))\n",
        "prices"
      ],
      "execution_count": null,
      "outputs": [
        {
          "output_type": "execute_result",
          "data": {
            "text/plain": [
              "array([5, 2, 0, 1, 7, 8, 4, 3, 6, 9])"
            ]
          },
          "metadata": {
            "tags": []
          },
          "execution_count": 25
        }
      ]
    },
    {
      "cell_type": "code",
      "metadata": {
        "id": "EH4RpcYeJS7v",
        "colab": {
          "base_uri": "https://localhost:8080/"
        },
        "outputId": "e0c8064b-6bc7-4e31-9126-07ce0854fe68"
      },
      "source": [
        "k = 3\n",
        "for i in range(len(prices)):\n",
        "    n_leq = 0\n",
        "    for j in range(len(prices)):\n",
        "        if prices[j] >= prices[i]:\n",
        "            n_leq += 1\n",
        "    if n_leq == k:\n",
        "        print(prices[i])\n",
        "        break"
      ],
      "execution_count": null,
      "outputs": [
        {
          "output_type": "stream",
          "text": [
            "7\n"
          ],
          "name": "stdout"
        }
      ]
    },
    {
      "cell_type": "markdown",
      "metadata": {
        "id": "BoZKQ5V3piYh"
      },
      "source": [
        "# SQLAlchemy. Recap"
      ]
    },
    {
      "cell_type": "code",
      "metadata": {
        "id": "0_PUKeLFHoXG"
      },
      "source": [
        "import sys\n",
        "from sqlalchemy import Column, ForeignKey, Integer, String\n",
        "from sqlalchemy.ext.declarative import declarative_base\n",
        "from sqlalchemy.orm import relationship\n",
        "from sqlalchemy import create_engine"
      ],
      "execution_count": 2,
      "outputs": []
    },
    {
      "cell_type": "code",
      "metadata": {
        "id": "XcyrGKGQNakJ"
      },
      "source": [
        "from IPython.display import display\n",
        "import pandas as pd\n",
        "import sqlalchemy\n",
        "\n",
        "def sql(query):\n",
        "    print()\n",
        "    print(query)\n",
        "    print()\n",
        "\n",
        "def get_results(query):\n",
        "    global engine\n",
        "    q = query.statement if isinstance(query, sqlalchemy.orm.query.Query) else query\n",
        "    return pd.read_sql(q, engine)\n",
        "\n",
        "def display_results(query):\n",
        "    df = get_results(query)\n",
        "    display(df)\n",
        "    #sql(query)\n"
      ],
      "execution_count": 3,
      "outputs": []
    },
    {
      "cell_type": "code",
      "metadata": {
        "id": "U9unHD1rHoZ-"
      },
      "source": [
        "Base = declarative_base()\n",
        "\n",
        "class Person(Base):\n",
        "    __tablename__= 'person'\n",
        "    \n",
        "    id = Column(Integer, primary_key=True)\n",
        "    name = Column(String(250), nullable=False)\n",
        "    \n",
        "class Address(Base):\n",
        "    __tablename__ = 'address'\n",
        "\n",
        "    id = Column(Integer, primary_key=True)\n",
        "    country = Column(String(250))\n",
        "    state = Column(String(250))\n",
        "    street_name = Column(String(250))\n",
        "    street_number = Column(String(250))\n",
        "    post_code = Column(String(250))\n",
        "    person_id = Column(Integer, ForeignKey('person.id'))\n",
        "    person = relationship(Person)\n",
        "\n",
        "engine = create_engine('sqlite:///sqlalchemy_example.db')\n",
        "\n",
        "connection = engine.connect()\n",
        "\n",
        "Base.metadata.create_all(engine)"
      ],
      "execution_count": 4,
      "outputs": []
    },
    {
      "cell_type": "code",
      "metadata": {
        "id": "LkspRLHqHodh"
      },
      "source": [
        "from sqlalchemy import create_engine\n",
        "from sqlalchemy.orm import sessionmaker"
      ],
      "execution_count": 5,
      "outputs": []
    },
    {
      "cell_type": "code",
      "metadata": {
        "id": "bo69cqrBYMSn"
      },
      "source": [
        ""
      ],
      "execution_count": 5,
      "outputs": []
    },
    {
      "cell_type": "code",
      "metadata": {
        "id": "85QKyqHBH92d"
      },
      "source": [
        "DBSession = sessionmaker(bind=engine)\n",
        "session = DBSession()\n",
        "\n",
        "new_person = Person(name='Nawin')\n",
        "session.add(new_person)\n",
        "session.commit()\n",
        "\n",
        "new_address = Address(post_code='48103',country = 'USA', state = 'WA', street_name ='West Huron Street', street_number ='1', person=new_person)\n",
        "session.add(new_address)\n",
        "session.commit()"
      ],
      "execution_count": 6,
      "outputs": []
    },
    {
      "cell_type": "code",
      "metadata": {
        "id": "i2ZumUw_H-Ex",
        "colab": {
          "base_uri": "https://localhost:8080/"
        },
        "outputId": "98ba6c2e-cba2-4d0b-eeac-f4c5a23c339e"
      },
      "source": [
        "engine.table_names()"
      ],
      "execution_count": 7,
      "outputs": [
        {
          "output_type": "execute_result",
          "data": {
            "text/plain": [
              "['address', 'person']"
            ]
          },
          "metadata": {
            "tags": []
          },
          "execution_count": 7
        }
      ]
    },
    {
      "cell_type": "code",
      "metadata": {
        "id": "v3N1k0QRNcwj",
        "colab": {
          "base_uri": "https://localhost:8080/",
          "height": 80
        },
        "outputId": "fb36d0a0-667a-4c4b-a142-d898ea7f23f0"
      },
      "source": [
        "from sqlalchemy import select \n",
        "\n",
        "query = select([Person])\n",
        "\n",
        "display_results(query)"
      ],
      "execution_count": 8,
      "outputs": [
        {
          "output_type": "display_data",
          "data": {
            "text/html": [
              "<div>\n",
              "<style scoped>\n",
              "    .dataframe tbody tr th:only-of-type {\n",
              "        vertical-align: middle;\n",
              "    }\n",
              "\n",
              "    .dataframe tbody tr th {\n",
              "        vertical-align: top;\n",
              "    }\n",
              "\n",
              "    .dataframe thead th {\n",
              "        text-align: right;\n",
              "    }\n",
              "</style>\n",
              "<table border=\"1\" class=\"dataframe\">\n",
              "  <thead>\n",
              "    <tr style=\"text-align: right;\">\n",
              "      <th></th>\n",
              "      <th>id</th>\n",
              "      <th>name</th>\n",
              "    </tr>\n",
              "  </thead>\n",
              "  <tbody>\n",
              "    <tr>\n",
              "      <th>0</th>\n",
              "      <td>1</td>\n",
              "      <td>Nawin</td>\n",
              "    </tr>\n",
              "  </tbody>\n",
              "</table>\n",
              "</div>"
            ],
            "text/plain": [
              "   id   name\n",
              "0   1  Nawin"
            ]
          },
          "metadata": {
            "tags": []
          }
        }
      ]
    },
    {
      "cell_type": "code",
      "metadata": {
        "id": "JIojZxdwacFy",
        "colab": {
          "base_uri": "https://localhost:8080/",
          "height": 80
        },
        "outputId": "a385a20c-b1a1-43e8-973f-6823839a4f62"
      },
      "source": [
        "query = select([Address])\n",
        "display_results(query)"
      ],
      "execution_count": 9,
      "outputs": [
        {
          "output_type": "display_data",
          "data": {
            "text/html": [
              "<div>\n",
              "<style scoped>\n",
              "    .dataframe tbody tr th:only-of-type {\n",
              "        vertical-align: middle;\n",
              "    }\n",
              "\n",
              "    .dataframe tbody tr th {\n",
              "        vertical-align: top;\n",
              "    }\n",
              "\n",
              "    .dataframe thead th {\n",
              "        text-align: right;\n",
              "    }\n",
              "</style>\n",
              "<table border=\"1\" class=\"dataframe\">\n",
              "  <thead>\n",
              "    <tr style=\"text-align: right;\">\n",
              "      <th></th>\n",
              "      <th>id</th>\n",
              "      <th>country</th>\n",
              "      <th>state</th>\n",
              "      <th>street_name</th>\n",
              "      <th>street_number</th>\n",
              "      <th>post_code</th>\n",
              "      <th>person_id</th>\n",
              "    </tr>\n",
              "  </thead>\n",
              "  <tbody>\n",
              "    <tr>\n",
              "      <th>0</th>\n",
              "      <td>1</td>\n",
              "      <td>USA</td>\n",
              "      <td>WA</td>\n",
              "      <td>West Huron Street</td>\n",
              "      <td>1</td>\n",
              "      <td>48103</td>\n",
              "      <td>1</td>\n",
              "    </tr>\n",
              "  </tbody>\n",
              "</table>\n",
              "</div>"
            ],
            "text/plain": [
              "   id country state        street_name street_number post_code  person_id\n",
              "0   1     USA    WA  West Huron Street             1     48103          1"
            ]
          },
          "metadata": {
            "tags": []
          }
        }
      ]
    },
    {
      "cell_type": "markdown",
      "metadata": {
        "id": "Q9tgst13N3z7"
      },
      "source": [
        "Добавим несколько людей с разными адресами"
      ]
    },
    {
      "cell_type": "code",
      "metadata": {
        "id": "e6hvE5fqO4mI"
      },
      "source": [
        "from sqlalchemy import exists\n",
        "\n",
        "def record_exists(session, name):\n",
        "    return session.query(exists().where(Person.name == name)).scalar()"
      ],
      "execution_count": 10,
      "outputs": []
    },
    {
      "cell_type": "code",
      "metadata": {
        "id": "_IEuM9rAO4ud",
        "colab": {
          "base_uri": "https://localhost:8080/"
        },
        "outputId": "bf69bb44-7489-4b30-dd37-10dfd580ac3d"
      },
      "source": [
        "record_exists(session, 'Nawin')"
      ],
      "execution_count": null,
      "outputs": [
        {
          "output_type": "execute_result",
          "data": {
            "text/plain": [
              "True"
            ]
          },
          "metadata": {
            "tags": []
          },
          "execution_count": 35
        }
      ]
    },
    {
      "cell_type": "code",
      "metadata": {
        "id": "EQ1xe2CNPsHN",
        "colab": {
          "base_uri": "https://localhost:8080/"
        },
        "outputId": "62f87d9f-fb94-4f7c-cde5-242a15995381"
      },
      "source": [
        "record_exists(session, 'Lisa')"
      ],
      "execution_count": null,
      "outputs": [
        {
          "output_type": "execute_result",
          "data": {
            "text/plain": [
              "False"
            ]
          },
          "metadata": {
            "tags": []
          },
          "execution_count": 36
        }
      ]
    },
    {
      "cell_type": "code",
      "metadata": {
        "id": "9f9xwmVfU7x9"
      },
      "source": [
        "names = ['Moshe', 'Lisa', 'Nika']\n",
        "adress_info = [('141700', 'Russia', 'Moscow', 'Pervomay Street', '42'), #Moshe adress\n",
        "               ('141700', 'Russia', 'Moscow', 'Pervomay Street', '42'), #Lisa adress\n",
        "               ('655689', 'USA', 'CA', 'Green Street', '104')] #Nika adress"
      ],
      "execution_count": 11,
      "outputs": []
    },
    {
      "cell_type": "code",
      "metadata": {
        "id": "ryWBclC4PZco"
      },
      "source": [
        "for i, name, adress in zip(range(len(names)), names, adress_info):\n",
        "    if not record_exists(session, name):\n",
        "        new_person = Person(name=name)\n",
        "        new_address = Address(country=adress[1],state=adress[2], street_number=adress[4], post_code=adress[0],street_name =adress[3], person=new_person)\n",
        "        session.add(new_person)\n",
        "        session.add(new_address)\n",
        "    else:\n",
        "        print(\"Already exists, skipping...\")\n",
        "\n",
        "session.commit()"
      ],
      "execution_count": 12,
      "outputs": []
    },
    {
      "cell_type": "markdown",
      "metadata": {
        "id": "VpBJwAU8QJ92"
      },
      "source": [
        "Проверим теперь таблицу"
      ]
    },
    {
      "cell_type": "code",
      "metadata": {
        "id": "OmotKm8-PZgu",
        "colab": {
          "base_uri": "https://localhost:8080/",
          "height": 173
        },
        "outputId": "53229310-0e8f-4748-dbc6-5e558cdadf17"
      },
      "source": [
        "query = select([Person])\n",
        "display_results(query)"
      ],
      "execution_count": 13,
      "outputs": [
        {
          "output_type": "display_data",
          "data": {
            "text/html": [
              "<div>\n",
              "<style scoped>\n",
              "    .dataframe tbody tr th:only-of-type {\n",
              "        vertical-align: middle;\n",
              "    }\n",
              "\n",
              "    .dataframe tbody tr th {\n",
              "        vertical-align: top;\n",
              "    }\n",
              "\n",
              "    .dataframe thead th {\n",
              "        text-align: right;\n",
              "    }\n",
              "</style>\n",
              "<table border=\"1\" class=\"dataframe\">\n",
              "  <thead>\n",
              "    <tr style=\"text-align: right;\">\n",
              "      <th></th>\n",
              "      <th>id</th>\n",
              "      <th>name</th>\n",
              "    </tr>\n",
              "  </thead>\n",
              "  <tbody>\n",
              "    <tr>\n",
              "      <th>0</th>\n",
              "      <td>1</td>\n",
              "      <td>Nawin</td>\n",
              "    </tr>\n",
              "    <tr>\n",
              "      <th>1</th>\n",
              "      <td>2</td>\n",
              "      <td>Moshe</td>\n",
              "    </tr>\n",
              "    <tr>\n",
              "      <th>2</th>\n",
              "      <td>3</td>\n",
              "      <td>Lisa</td>\n",
              "    </tr>\n",
              "    <tr>\n",
              "      <th>3</th>\n",
              "      <td>4</td>\n",
              "      <td>Nika</td>\n",
              "    </tr>\n",
              "  </tbody>\n",
              "</table>\n",
              "</div>"
            ],
            "text/plain": [
              "   id   name\n",
              "0   1  Nawin\n",
              "1   2  Moshe\n",
              "2   3   Lisa\n",
              "3   4   Nika"
            ]
          },
          "metadata": {
            "tags": []
          }
        }
      ]
    },
    {
      "cell_type": "code",
      "metadata": {
        "id": "tReT7S1HVxNL",
        "colab": {
          "base_uri": "https://localhost:8080/",
          "height": 173
        },
        "outputId": "769607d2-ba2a-466d-9e7a-f7443bdf4e94"
      },
      "source": [
        "query = select([Address])\n",
        "display_results(query)"
      ],
      "execution_count": 14,
      "outputs": [
        {
          "output_type": "display_data",
          "data": {
            "text/html": [
              "<div>\n",
              "<style scoped>\n",
              "    .dataframe tbody tr th:only-of-type {\n",
              "        vertical-align: middle;\n",
              "    }\n",
              "\n",
              "    .dataframe tbody tr th {\n",
              "        vertical-align: top;\n",
              "    }\n",
              "\n",
              "    .dataframe thead th {\n",
              "        text-align: right;\n",
              "    }\n",
              "</style>\n",
              "<table border=\"1\" class=\"dataframe\">\n",
              "  <thead>\n",
              "    <tr style=\"text-align: right;\">\n",
              "      <th></th>\n",
              "      <th>id</th>\n",
              "      <th>country</th>\n",
              "      <th>state</th>\n",
              "      <th>street_name</th>\n",
              "      <th>street_number</th>\n",
              "      <th>post_code</th>\n",
              "      <th>person_id</th>\n",
              "    </tr>\n",
              "  </thead>\n",
              "  <tbody>\n",
              "    <tr>\n",
              "      <th>0</th>\n",
              "      <td>1</td>\n",
              "      <td>USA</td>\n",
              "      <td>WA</td>\n",
              "      <td>West Huron Street</td>\n",
              "      <td>1</td>\n",
              "      <td>48103</td>\n",
              "      <td>1</td>\n",
              "    </tr>\n",
              "    <tr>\n",
              "      <th>1</th>\n",
              "      <td>2</td>\n",
              "      <td>Russia</td>\n",
              "      <td>Moscow</td>\n",
              "      <td>Pervomay Street</td>\n",
              "      <td>42</td>\n",
              "      <td>141700</td>\n",
              "      <td>2</td>\n",
              "    </tr>\n",
              "    <tr>\n",
              "      <th>2</th>\n",
              "      <td>3</td>\n",
              "      <td>Russia</td>\n",
              "      <td>Moscow</td>\n",
              "      <td>Pervomay Street</td>\n",
              "      <td>42</td>\n",
              "      <td>141700</td>\n",
              "      <td>3</td>\n",
              "    </tr>\n",
              "    <tr>\n",
              "      <th>3</th>\n",
              "      <td>4</td>\n",
              "      <td>USA</td>\n",
              "      <td>CA</td>\n",
              "      <td>Green Street</td>\n",
              "      <td>104</td>\n",
              "      <td>655689</td>\n",
              "      <td>4</td>\n",
              "    </tr>\n",
              "  </tbody>\n",
              "</table>\n",
              "</div>"
            ],
            "text/plain": [
              "   id country   state        street_name street_number post_code  person_id\n",
              "0   1     USA      WA  West Huron Street             1     48103          1\n",
              "1   2  Russia  Moscow    Pervomay Street            42    141700          2\n",
              "2   3  Russia  Moscow    Pervomay Street            42    141700          3\n",
              "3   4     USA      CA       Green Street           104    655689          4"
            ]
          },
          "metadata": {
            "tags": []
          }
        }
      ]
    },
    {
      "cell_type": "markdown",
      "metadata": {
        "id": "G1TjwzfiSnSi"
      },
      "source": [
        "Другой способ добавления с использованием **add_all()**"
      ]
    },
    {
      "cell_type": "code",
      "metadata": {
        "id": "ux3E1H-_QOEY"
      },
      "source": [
        "session.add_all([Person(name='Max'),\n",
        "                 Person(name='Dan'),\n",
        "                 Person(name='Alex')])\n",
        "session.commit()"
      ],
      "execution_count": 15,
      "outputs": []
    },
    {
      "cell_type": "code",
      "metadata": {
        "id": "KQ0xg_YwQOIi",
        "colab": {
          "base_uri": "https://localhost:8080/",
          "height": 266
        },
        "outputId": "ef699201-83d4-4a3e-cb68-99824914f2ce"
      },
      "source": [
        "query = select([Person.id, Person.name])\n",
        "display_results(query)"
      ],
      "execution_count": 16,
      "outputs": [
        {
          "output_type": "display_data",
          "data": {
            "text/html": [
              "<div>\n",
              "<style scoped>\n",
              "    .dataframe tbody tr th:only-of-type {\n",
              "        vertical-align: middle;\n",
              "    }\n",
              "\n",
              "    .dataframe tbody tr th {\n",
              "        vertical-align: top;\n",
              "    }\n",
              "\n",
              "    .dataframe thead th {\n",
              "        text-align: right;\n",
              "    }\n",
              "</style>\n",
              "<table border=\"1\" class=\"dataframe\">\n",
              "  <thead>\n",
              "    <tr style=\"text-align: right;\">\n",
              "      <th></th>\n",
              "      <th>id</th>\n",
              "      <th>name</th>\n",
              "    </tr>\n",
              "  </thead>\n",
              "  <tbody>\n",
              "    <tr>\n",
              "      <th>0</th>\n",
              "      <td>1</td>\n",
              "      <td>Nawin</td>\n",
              "    </tr>\n",
              "    <tr>\n",
              "      <th>1</th>\n",
              "      <td>2</td>\n",
              "      <td>Moshe</td>\n",
              "    </tr>\n",
              "    <tr>\n",
              "      <th>2</th>\n",
              "      <td>3</td>\n",
              "      <td>Lisa</td>\n",
              "    </tr>\n",
              "    <tr>\n",
              "      <th>3</th>\n",
              "      <td>4</td>\n",
              "      <td>Nika</td>\n",
              "    </tr>\n",
              "    <tr>\n",
              "      <th>4</th>\n",
              "      <td>5</td>\n",
              "      <td>Max</td>\n",
              "    </tr>\n",
              "    <tr>\n",
              "      <th>5</th>\n",
              "      <td>6</td>\n",
              "      <td>Dan</td>\n",
              "    </tr>\n",
              "    <tr>\n",
              "      <th>6</th>\n",
              "      <td>7</td>\n",
              "      <td>Alex</td>\n",
              "    </tr>\n",
              "  </tbody>\n",
              "</table>\n",
              "</div>"
            ],
            "text/plain": [
              "   id   name\n",
              "0   1  Nawin\n",
              "1   2  Moshe\n",
              "2   3   Lisa\n",
              "3   4   Nika\n",
              "4   5    Max\n",
              "5   6    Dan\n",
              "6   7   Alex"
            ]
          },
          "metadata": {
            "tags": []
          }
        }
      ]
    },
    {
      "cell_type": "code",
      "metadata": {
        "id": "agOyki3aUGv5",
        "colab": {
          "base_uri": "https://localhost:8080/",
          "height": 173
        },
        "outputId": "7e53b7a8-141b-418b-f9f1-a3d9c53eaaa0"
      },
      "source": [
        "query = select([Address])\n",
        "display_results(query)"
      ],
      "execution_count": 17,
      "outputs": [
        {
          "output_type": "display_data",
          "data": {
            "text/html": [
              "<div>\n",
              "<style scoped>\n",
              "    .dataframe tbody tr th:only-of-type {\n",
              "        vertical-align: middle;\n",
              "    }\n",
              "\n",
              "    .dataframe tbody tr th {\n",
              "        vertical-align: top;\n",
              "    }\n",
              "\n",
              "    .dataframe thead th {\n",
              "        text-align: right;\n",
              "    }\n",
              "</style>\n",
              "<table border=\"1\" class=\"dataframe\">\n",
              "  <thead>\n",
              "    <tr style=\"text-align: right;\">\n",
              "      <th></th>\n",
              "      <th>id</th>\n",
              "      <th>country</th>\n",
              "      <th>state</th>\n",
              "      <th>street_name</th>\n",
              "      <th>street_number</th>\n",
              "      <th>post_code</th>\n",
              "      <th>person_id</th>\n",
              "    </tr>\n",
              "  </thead>\n",
              "  <tbody>\n",
              "    <tr>\n",
              "      <th>0</th>\n",
              "      <td>1</td>\n",
              "      <td>USA</td>\n",
              "      <td>WA</td>\n",
              "      <td>West Huron Street</td>\n",
              "      <td>1</td>\n",
              "      <td>48103</td>\n",
              "      <td>1</td>\n",
              "    </tr>\n",
              "    <tr>\n",
              "      <th>1</th>\n",
              "      <td>2</td>\n",
              "      <td>Russia</td>\n",
              "      <td>Moscow</td>\n",
              "      <td>Pervomay Street</td>\n",
              "      <td>42</td>\n",
              "      <td>141700</td>\n",
              "      <td>2</td>\n",
              "    </tr>\n",
              "    <tr>\n",
              "      <th>2</th>\n",
              "      <td>3</td>\n",
              "      <td>Russia</td>\n",
              "      <td>Moscow</td>\n",
              "      <td>Pervomay Street</td>\n",
              "      <td>42</td>\n",
              "      <td>141700</td>\n",
              "      <td>3</td>\n",
              "    </tr>\n",
              "    <tr>\n",
              "      <th>3</th>\n",
              "      <td>4</td>\n",
              "      <td>USA</td>\n",
              "      <td>CA</td>\n",
              "      <td>Green Street</td>\n",
              "      <td>104</td>\n",
              "      <td>655689</td>\n",
              "      <td>4</td>\n",
              "    </tr>\n",
              "  </tbody>\n",
              "</table>\n",
              "</div>"
            ],
            "text/plain": [
              "   id country   state        street_name street_number post_code  person_id\n",
              "0   1     USA      WA  West Huron Street             1     48103          1\n",
              "1   2  Russia  Moscow    Pervomay Street            42    141700          2\n",
              "2   3  Russia  Moscow    Pervomay Street            42    141700          3\n",
              "3   4     USA      CA       Green Street           104    655689          4"
            ]
          },
          "metadata": {
            "tags": []
          }
        }
      ]
    },
    {
      "cell_type": "markdown",
      "metadata": {
        "id": "Tk8GSFPQJUq1"
      },
      "source": [
        "# Синтаксис 'чистых' SQL запросов. Повторение + новый материал"
      ]
    },
    {
      "cell_type": "markdown",
      "metadata": {
        "id": "1TVvVSm-KR27"
      },
      "source": [
        "## Create"
      ]
    },
    {
      "cell_type": "code",
      "metadata": {
        "id": "UvXnXjd2gSwV",
        "colab": {
          "base_uri": "https://localhost:8080/"
        },
        "outputId": "d84b757a-bb0d-4979-a9e6-ef5ac5ff5e2d"
      },
      "source": [
        "engine.table_names()"
      ],
      "execution_count": 18,
      "outputs": [
        {
          "output_type": "execute_result",
          "data": {
            "text/plain": [
              "['address', 'person']"
            ]
          },
          "metadata": {
            "tags": []
          },
          "execution_count": 18
        }
      ]
    },
    {
      "cell_type": "code",
      "metadata": {
        "id": "BBwCJxdhJJKq",
        "colab": {
          "base_uri": "https://localhost:8080/"
        },
        "outputId": "4ca8a304-5f7b-4a65-f723-a53090714df5"
      },
      "source": [
        "connection.execute('''\n",
        "CREATE TABLE friends (\n",
        "    id_ INT UNSIGNED AUTO_INCREMENT,\n",
        "    friendName VARCHAR(50),\n",
        "    phone VARCHAR(50),\n",
        "    addressLine1 VARCHAR(50),\n",
        "    addressLine2 VARCHAR(50),\n",
        "    city VARCHAR(50),\n",
        "    state VARCHAR(50),\n",
        "    postalCode VARCHAR(50),\n",
        "    country VARCHAR(50),\n",
        "    PRIMARY KEY(id_)\n",
        ");\n",
        "''')"
      ],
      "execution_count": null,
      "outputs": [
        {
          "output_type": "execute_result",
          "data": {
            "text/plain": [
              "<sqlalchemy.engine.result.ResultProxy at 0x7f9f4fa342b0>"
            ]
          },
          "metadata": {
            "tags": []
          },
          "execution_count": 23
        }
      ]
    },
    {
      "cell_type": "code",
      "metadata": {
        "id": "rQjWWZT7JJNm",
        "colab": {
          "base_uri": "https://localhost:8080/"
        },
        "outputId": "b1bf70e0-6fd9-46d5-f4c8-7989b47e6f87"
      },
      "source": [
        "engine.table_names()"
      ],
      "execution_count": null,
      "outputs": [
        {
          "output_type": "execute_result",
          "data": {
            "text/plain": [
              "['address', 'friends', 'person']"
            ]
          },
          "metadata": {
            "tags": []
          },
          "execution_count": 24
        }
      ]
    },
    {
      "cell_type": "code",
      "metadata": {
        "id": "JLldzWvUTgma"
      },
      "source": [
        "result = connection.execute(\"select * from friends\")\n",
        "for row in result:\n",
        "    print(\"Friend info\", row)"
      ],
      "execution_count": null,
      "outputs": []
    },
    {
      "cell_type": "code",
      "metadata": {
        "id": "kPLBrNtccwR6",
        "colab": {
          "base_uri": "https://localhost:8080/",
          "height": 49
        },
        "outputId": "1c61eb80-b569-4cdf-be74-07b446f8a467"
      },
      "source": [
        "sql = 'SELECT * from friends;'\n",
        "pd.read_sql(sql, connection)"
      ],
      "execution_count": null,
      "outputs": [
        {
          "output_type": "execute_result",
          "data": {
            "text/html": [
              "<div>\n",
              "<style scoped>\n",
              "    .dataframe tbody tr th:only-of-type {\n",
              "        vertical-align: middle;\n",
              "    }\n",
              "\n",
              "    .dataframe tbody tr th {\n",
              "        vertical-align: top;\n",
              "    }\n",
              "\n",
              "    .dataframe thead th {\n",
              "        text-align: right;\n",
              "    }\n",
              "</style>\n",
              "<table border=\"1\" class=\"dataframe\">\n",
              "  <thead>\n",
              "    <tr style=\"text-align: right;\">\n",
              "      <th></th>\n",
              "      <th>id_</th>\n",
              "      <th>friendName</th>\n",
              "      <th>phone</th>\n",
              "      <th>addressLine1</th>\n",
              "      <th>addressLine2</th>\n",
              "      <th>city</th>\n",
              "      <th>state</th>\n",
              "      <th>postalCode</th>\n",
              "      <th>country</th>\n",
              "    </tr>\n",
              "  </thead>\n",
              "  <tbody>\n",
              "  </tbody>\n",
              "</table>\n",
              "</div>"
            ],
            "text/plain": [
              "Empty DataFrame\n",
              "Columns: [id_, friendName, phone, addressLine1, addressLine2, city, state, postalCode, country]\n",
              "Index: []"
            ]
          },
          "metadata": {
            "tags": []
          },
          "execution_count": 26
        }
      ]
    },
    {
      "cell_type": "code",
      "metadata": {
        "id": "pGEHbMkXdCVm",
        "colab": {
          "base_uri": "https://localhost:8080/",
          "height": 297
        },
        "outputId": "48d305fe-810d-40d9-bbf9-ea7d8812acbb"
      },
      "source": [
        "pd.read_sql('SELECT * from person;', connection)"
      ],
      "execution_count": null,
      "outputs": [
        {
          "output_type": "execute_result",
          "data": {
            "text/html": [
              "<div>\n",
              "<style scoped>\n",
              "    .dataframe tbody tr th:only-of-type {\n",
              "        vertical-align: middle;\n",
              "    }\n",
              "\n",
              "    .dataframe tbody tr th {\n",
              "        vertical-align: top;\n",
              "    }\n",
              "\n",
              "    .dataframe thead th {\n",
              "        text-align: right;\n",
              "    }\n",
              "</style>\n",
              "<table border=\"1\" class=\"dataframe\">\n",
              "  <thead>\n",
              "    <tr style=\"text-align: right;\">\n",
              "      <th></th>\n",
              "      <th>id</th>\n",
              "      <th>name</th>\n",
              "    </tr>\n",
              "  </thead>\n",
              "  <tbody>\n",
              "    <tr>\n",
              "      <th>0</th>\n",
              "      <td>1</td>\n",
              "      <td>Nawin</td>\n",
              "    </tr>\n",
              "    <tr>\n",
              "      <th>1</th>\n",
              "      <td>2</td>\n",
              "      <td>Moshe</td>\n",
              "    </tr>\n",
              "    <tr>\n",
              "      <th>2</th>\n",
              "      <td>3</td>\n",
              "      <td>Lisa</td>\n",
              "    </tr>\n",
              "    <tr>\n",
              "      <th>3</th>\n",
              "      <td>4</td>\n",
              "      <td>Nika</td>\n",
              "    </tr>\n",
              "    <tr>\n",
              "      <th>4</th>\n",
              "      <td>5</td>\n",
              "      <td>Nawin</td>\n",
              "    </tr>\n",
              "    <tr>\n",
              "      <th>5</th>\n",
              "      <td>6</td>\n",
              "      <td>Max</td>\n",
              "    </tr>\n",
              "    <tr>\n",
              "      <th>6</th>\n",
              "      <td>7</td>\n",
              "      <td>Dan</td>\n",
              "    </tr>\n",
              "    <tr>\n",
              "      <th>7</th>\n",
              "      <td>8</td>\n",
              "      <td>Alex</td>\n",
              "    </tr>\n",
              "  </tbody>\n",
              "</table>\n",
              "</div>"
            ],
            "text/plain": [
              "   id   name\n",
              "0   1  Nawin\n",
              "1   2  Moshe\n",
              "2   3   Lisa\n",
              "3   4   Nika\n",
              "4   5  Nawin\n",
              "5   6    Max\n",
              "6   7    Dan\n",
              "7   8   Alex"
            ]
          },
          "metadata": {
            "tags": []
          },
          "execution_count": 27
        }
      ]
    },
    {
      "cell_type": "code",
      "metadata": {
        "id": "aliIYD8hdRol",
        "colab": {
          "base_uri": "https://localhost:8080/"
        },
        "outputId": "756d2892-cbfd-4fc6-a154-13927024d208"
      },
      "source": [
        "result = connection.execute(\n",
        "'''SELECT\n",
        "    country,\n",
        "    state,\n",
        "    post_code\n",
        "FROM \n",
        "    address\n",
        "WHERE \n",
        "    country = 'USA' AND \n",
        "    state = 'CA';\n",
        "''')\n",
        "\n",
        "for row in result:\n",
        "    print(\"adress info\", row)"
      ],
      "execution_count": null,
      "outputs": [
        {
          "output_type": "stream",
          "text": [
            "adress info ('USA', 'CA', '655689')\n"
          ],
          "name": "stdout"
        }
      ]
    },
    {
      "cell_type": "markdown",
      "metadata": {
        "id": "buDcmd75lGfi"
      },
      "source": [
        "## Insert into"
      ]
    },
    {
      "cell_type": "code",
      "metadata": {
        "id": "eypcVnH4kGOI",
        "colab": {
          "base_uri": "https://localhost:8080/"
        },
        "outputId": "282565d7-27c9-4010-d2bc-852fbe3abf4e"
      },
      "source": [
        "connection.execute(\n",
        "\"\"\"\n",
        "INSERT INTO friends (\n",
        "    id_,\n",
        "    country,\n",
        "    state,\n",
        "    postalCode\n",
        ")\n",
        "VALUES (1, \"UK\", \"London\", 5678)\n",
        "\"\"\"\n",
        ")"
      ],
      "execution_count": null,
      "outputs": [
        {
          "output_type": "execute_result",
          "data": {
            "text/plain": [
              "<sqlalchemy.engine.result.ResultProxy at 0x7f9f4fa2ef98>"
            ]
          },
          "metadata": {
            "tags": []
          },
          "execution_count": 29
        }
      ]
    },
    {
      "cell_type": "code",
      "metadata": {
        "id": "YGOVUsVUlJyW",
        "colab": {
          "base_uri": "https://localhost:8080/",
          "height": 80
        },
        "outputId": "375810de-3d1d-4cdf-c40a-16ee2538d7e1"
      },
      "source": [
        "pd.read_sql('SELECT * from friends;', connection)"
      ],
      "execution_count": null,
      "outputs": [
        {
          "output_type": "execute_result",
          "data": {
            "text/html": [
              "<div>\n",
              "<style scoped>\n",
              "    .dataframe tbody tr th:only-of-type {\n",
              "        vertical-align: middle;\n",
              "    }\n",
              "\n",
              "    .dataframe tbody tr th {\n",
              "        vertical-align: top;\n",
              "    }\n",
              "\n",
              "    .dataframe thead th {\n",
              "        text-align: right;\n",
              "    }\n",
              "</style>\n",
              "<table border=\"1\" class=\"dataframe\">\n",
              "  <thead>\n",
              "    <tr style=\"text-align: right;\">\n",
              "      <th></th>\n",
              "      <th>id_</th>\n",
              "      <th>friendName</th>\n",
              "      <th>phone</th>\n",
              "      <th>addressLine1</th>\n",
              "      <th>addressLine2</th>\n",
              "      <th>city</th>\n",
              "      <th>state</th>\n",
              "      <th>postalCode</th>\n",
              "      <th>country</th>\n",
              "    </tr>\n",
              "  </thead>\n",
              "  <tbody>\n",
              "    <tr>\n",
              "      <th>0</th>\n",
              "      <td>1</td>\n",
              "      <td>None</td>\n",
              "      <td>None</td>\n",
              "      <td>None</td>\n",
              "      <td>None</td>\n",
              "      <td>None</td>\n",
              "      <td>London</td>\n",
              "      <td>5678</td>\n",
              "      <td>UK</td>\n",
              "    </tr>\n",
              "  </tbody>\n",
              "</table>\n",
              "</div>"
            ],
            "text/plain": [
              "   id_ friendName phone addressLine1  ...  city   state postalCode country\n",
              "0    1       None  None         None  ...  None  London       5678      UK\n",
              "\n",
              "[1 rows x 9 columns]"
            ]
          },
          "metadata": {
            "tags": []
          },
          "execution_count": 30
        }
      ]
    },
    {
      "cell_type": "markdown",
      "metadata": {
        "id": "OgcTKIWalDc6"
      },
      "source": [
        "## Update"
      ]
    },
    {
      "cell_type": "code",
      "metadata": {
        "id": "I3LAmOy2k0ti",
        "colab": {
          "base_uri": "https://localhost:8080/"
        },
        "outputId": "a7888f1d-eca6-4e1d-8378-de569de19e6b"
      },
      "source": [
        "connection.execute(\n",
        "'''\n",
        "UPDATE friends \n",
        "\n",
        "SET\n",
        "    friendName = \"Mike\"\n",
        "WHERE \n",
        "    country = \"UK\"\n",
        "''')"
      ],
      "execution_count": null,
      "outputs": [
        {
          "output_type": "execute_result",
          "data": {
            "text/plain": [
              "<sqlalchemy.engine.result.ResultProxy at 0x7f9f4fa34208>"
            ]
          },
          "metadata": {
            "tags": []
          },
          "execution_count": 31
        }
      ]
    },
    {
      "cell_type": "code",
      "metadata": {
        "id": "8F8nAH2YkW53",
        "colab": {
          "base_uri": "https://localhost:8080/",
          "height": 80
        },
        "outputId": "0a0622e3-fc1b-4204-8b19-51c858044324"
      },
      "source": [
        "pd.read_sql('SELECT * from friends;', connection)"
      ],
      "execution_count": null,
      "outputs": [
        {
          "output_type": "execute_result",
          "data": {
            "text/html": [
              "<div>\n",
              "<style scoped>\n",
              "    .dataframe tbody tr th:only-of-type {\n",
              "        vertical-align: middle;\n",
              "    }\n",
              "\n",
              "    .dataframe tbody tr th {\n",
              "        vertical-align: top;\n",
              "    }\n",
              "\n",
              "    .dataframe thead th {\n",
              "        text-align: right;\n",
              "    }\n",
              "</style>\n",
              "<table border=\"1\" class=\"dataframe\">\n",
              "  <thead>\n",
              "    <tr style=\"text-align: right;\">\n",
              "      <th></th>\n",
              "      <th>id_</th>\n",
              "      <th>friendName</th>\n",
              "      <th>phone</th>\n",
              "      <th>addressLine1</th>\n",
              "      <th>addressLine2</th>\n",
              "      <th>city</th>\n",
              "      <th>state</th>\n",
              "      <th>postalCode</th>\n",
              "      <th>country</th>\n",
              "    </tr>\n",
              "  </thead>\n",
              "  <tbody>\n",
              "    <tr>\n",
              "      <th>0</th>\n",
              "      <td>1</td>\n",
              "      <td>Mike</td>\n",
              "      <td>None</td>\n",
              "      <td>None</td>\n",
              "      <td>None</td>\n",
              "      <td>None</td>\n",
              "      <td>London</td>\n",
              "      <td>5678</td>\n",
              "      <td>UK</td>\n",
              "    </tr>\n",
              "  </tbody>\n",
              "</table>\n",
              "</div>"
            ],
            "text/plain": [
              "   id_ friendName phone addressLine1  ...  city   state postalCode country\n",
              "0    1       Mike  None         None  ...  None  London       5678      UK\n",
              "\n",
              "[1 rows x 9 columns]"
            ]
          },
          "metadata": {
            "tags": []
          },
          "execution_count": 32
        }
      ]
    },
    {
      "cell_type": "markdown",
      "metadata": {
        "id": "migpKc_tX5rq"
      },
      "source": [
        "## Insert into select"
      ]
    },
    {
      "cell_type": "code",
      "metadata": {
        "id": "4IWsR3znTgrZ",
        "colab": {
          "base_uri": "https://localhost:8080/"
        },
        "outputId": "d76f95b4-cdad-463e-e4ea-0d1a58e4b4f1"
      },
      "source": [
        "connection.execute(\n",
        "'''\n",
        "INSERT INTO friends (\n",
        "    country,\n",
        "    state,\n",
        "    postalCode\n",
        ")\n",
        "SELECT\n",
        "    country,\n",
        "    state,\n",
        "    post_code\n",
        "FROM \n",
        "    address\n",
        "WHERE \n",
        "    country = 'USA' AND \n",
        "    state = 'CA';\n",
        "''')"
      ],
      "execution_count": null,
      "outputs": [
        {
          "output_type": "execute_result",
          "data": {
            "text/plain": [
              "<sqlalchemy.engine.result.ResultProxy at 0x7f9f4fa399e8>"
            ]
          },
          "metadata": {
            "tags": []
          },
          "execution_count": 33
        }
      ]
    },
    {
      "cell_type": "code",
      "metadata": {
        "id": "1yV3A2AsTgwr",
        "colab": {
          "base_uri": "https://localhost:8080/",
          "height": 111
        },
        "outputId": "6dff223a-bc5b-4529-824b-b24b2a506314"
      },
      "source": [
        "pd.read_sql('SELECT * from friends;', connection)"
      ],
      "execution_count": null,
      "outputs": [
        {
          "output_type": "execute_result",
          "data": {
            "text/html": [
              "<div>\n",
              "<style scoped>\n",
              "    .dataframe tbody tr th:only-of-type {\n",
              "        vertical-align: middle;\n",
              "    }\n",
              "\n",
              "    .dataframe tbody tr th {\n",
              "        vertical-align: top;\n",
              "    }\n",
              "\n",
              "    .dataframe thead th {\n",
              "        text-align: right;\n",
              "    }\n",
              "</style>\n",
              "<table border=\"1\" class=\"dataframe\">\n",
              "  <thead>\n",
              "    <tr style=\"text-align: right;\">\n",
              "      <th></th>\n",
              "      <th>id_</th>\n",
              "      <th>friendName</th>\n",
              "      <th>phone</th>\n",
              "      <th>addressLine1</th>\n",
              "      <th>addressLine2</th>\n",
              "      <th>city</th>\n",
              "      <th>state</th>\n",
              "      <th>postalCode</th>\n",
              "      <th>country</th>\n",
              "    </tr>\n",
              "  </thead>\n",
              "  <tbody>\n",
              "    <tr>\n",
              "      <th>0</th>\n",
              "      <td>1.0</td>\n",
              "      <td>Mike</td>\n",
              "      <td>None</td>\n",
              "      <td>None</td>\n",
              "      <td>None</td>\n",
              "      <td>None</td>\n",
              "      <td>London</td>\n",
              "      <td>5678</td>\n",
              "      <td>UK</td>\n",
              "    </tr>\n",
              "    <tr>\n",
              "      <th>1</th>\n",
              "      <td>NaN</td>\n",
              "      <td>None</td>\n",
              "      <td>None</td>\n",
              "      <td>None</td>\n",
              "      <td>None</td>\n",
              "      <td>None</td>\n",
              "      <td>CA</td>\n",
              "      <td>655689</td>\n",
              "      <td>USA</td>\n",
              "    </tr>\n",
              "  </tbody>\n",
              "</table>\n",
              "</div>"
            ],
            "text/plain": [
              "   id_ friendName phone addressLine1  ...  city   state postalCode country\n",
              "0  1.0       Mike  None         None  ...  None  London       5678      UK\n",
              "1  NaN       None  None         None  ...  None      CA     655689     USA\n",
              "\n",
              "[2 rows x 9 columns]"
            ]
          },
          "metadata": {
            "tags": []
          },
          "execution_count": 34
        }
      ]
    },
    {
      "cell_type": "markdown",
      "metadata": {
        "id": "Skkm-u8_nVIX"
      },
      "source": [
        "## Drop"
      ]
    },
    {
      "cell_type": "code",
      "metadata": {
        "id": "hrlHc-kknTG5",
        "colab": {
          "base_uri": "https://localhost:8080/"
        },
        "outputId": "d4ef1dfc-71de-4fef-abf8-b755bb7ba5a8"
      },
      "source": [
        "connection.execute('DROP TABLE friends;')"
      ],
      "execution_count": null,
      "outputs": [
        {
          "output_type": "execute_result",
          "data": {
            "text/plain": [
              "<sqlalchemy.engine.result.ResultProxy at 0x7f9f4fa39320>"
            ]
          },
          "metadata": {
            "tags": []
          },
          "execution_count": 35
        }
      ]
    },
    {
      "cell_type": "code",
      "metadata": {
        "id": "dodI0YRrnLST",
        "colab": {
          "base_uri": "https://localhost:8080/"
        },
        "outputId": "c72519f0-4ea7-44c5-c984-8ac0595db6a3"
      },
      "source": [
        "engine.table_names()"
      ],
      "execution_count": null,
      "outputs": [
        {
          "output_type": "execute_result",
          "data": {
            "text/plain": [
              "['address', 'person']"
            ]
          },
          "metadata": {
            "tags": []
          },
          "execution_count": 36
        }
      ]
    },
    {
      "cell_type": "markdown",
      "metadata": {
        "id": "JomhfuPXnlTM"
      },
      "source": [
        "## Create view\n",
        "\n",
        "CREATE VIEW создаст представление по заданному вами условию"
      ]
    },
    {
      "cell_type": "code",
      "metadata": {
        "id": "ubXisimnninm",
        "colab": {
          "base_uri": "https://localhost:8080/"
        },
        "outputId": "d02adf16-4d27-4b01-d1f1-9ed9307fb21a"
      },
      "source": [
        "connection.execute('''\n",
        "CREATE VIEW test_view AS\n",
        "    SELECT \n",
        "        street_name, \n",
        "        street_number\n",
        "    FROM\n",
        "        address\n",
        "    ORDER BY street_number;\n",
        "''')"
      ],
      "execution_count": null,
      "outputs": [
        {
          "output_type": "execute_result",
          "data": {
            "text/plain": [
              "<sqlalchemy.engine.result.ResultProxy at 0x7f9f4f9d5d30>"
            ]
          },
          "metadata": {
            "tags": []
          },
          "execution_count": 37
        }
      ]
    },
    {
      "cell_type": "code",
      "metadata": {
        "id": "0lVQhhwcnive",
        "colab": {
          "base_uri": "https://localhost:8080/"
        },
        "outputId": "7a48563f-4b1b-4723-97b1-910fe08d40ee"
      },
      "source": [
        "engine.table_names()"
      ],
      "execution_count": null,
      "outputs": [
        {
          "output_type": "execute_result",
          "data": {
            "text/plain": [
              "['address', 'person']"
            ]
          },
          "metadata": {
            "tags": []
          },
          "execution_count": 38
        }
      ]
    },
    {
      "cell_type": "markdown",
      "metadata": {
        "id": "YdTxSpTSpGe3"
      },
      "source": [
        "Но в pandas таблицы и представления разделяют одно пространство имен "
      ]
    },
    {
      "cell_type": "code",
      "metadata": {
        "id": "Zn_-IxDAhaXF",
        "colab": {
          "base_uri": "https://localhost:8080/",
          "height": 204
        },
        "outputId": "d76c9f0b-b041-4815-f472-4ad9da2d6f14"
      },
      "source": [
        "pd.read_sql('SELECT * from test_view;', connection)"
      ],
      "execution_count": null,
      "outputs": [
        {
          "output_type": "execute_result",
          "data": {
            "text/html": [
              "<div>\n",
              "<style scoped>\n",
              "    .dataframe tbody tr th:only-of-type {\n",
              "        vertical-align: middle;\n",
              "    }\n",
              "\n",
              "    .dataframe tbody tr th {\n",
              "        vertical-align: top;\n",
              "    }\n",
              "\n",
              "    .dataframe thead th {\n",
              "        text-align: right;\n",
              "    }\n",
              "</style>\n",
              "<table border=\"1\" class=\"dataframe\">\n",
              "  <thead>\n",
              "    <tr style=\"text-align: right;\">\n",
              "      <th></th>\n",
              "      <th>street_name</th>\n",
              "      <th>street_number</th>\n",
              "    </tr>\n",
              "  </thead>\n",
              "  <tbody>\n",
              "    <tr>\n",
              "      <th>0</th>\n",
              "      <td>West Huron Street</td>\n",
              "      <td>1</td>\n",
              "    </tr>\n",
              "    <tr>\n",
              "      <th>1</th>\n",
              "      <td>West Huron Street</td>\n",
              "      <td>1</td>\n",
              "    </tr>\n",
              "    <tr>\n",
              "      <th>2</th>\n",
              "      <td>Green Street</td>\n",
              "      <td>104</td>\n",
              "    </tr>\n",
              "    <tr>\n",
              "      <th>3</th>\n",
              "      <td>Pervomay Street</td>\n",
              "      <td>42</td>\n",
              "    </tr>\n",
              "    <tr>\n",
              "      <th>4</th>\n",
              "      <td>Pervomay Street</td>\n",
              "      <td>42</td>\n",
              "    </tr>\n",
              "  </tbody>\n",
              "</table>\n",
              "</div>"
            ],
            "text/plain": [
              "         street_name street_number\n",
              "0  West Huron Street             1\n",
              "1  West Huron Street             1\n",
              "2       Green Street           104\n",
              "3    Pervomay Street            42\n",
              "4    Pervomay Street            42"
            ]
          },
          "metadata": {
            "tags": []
          },
          "execution_count": 39
        }
      ]
    },
    {
      "cell_type": "code",
      "metadata": {
        "id": "vGZvvVcKpv8S",
        "colab": {
          "base_uri": "https://localhost:8080/"
        },
        "outputId": "ac3d999b-e9c3-4105-ca4f-31ab617a27bf"
      },
      "source": [
        "connection.execute('''\n",
        "drop view test_view;\n",
        "''')"
      ],
      "execution_count": null,
      "outputs": [
        {
          "output_type": "execute_result",
          "data": {
            "text/plain": [
              "<sqlalchemy.engine.result.ResultProxy at 0x7f9f4fa39710>"
            ]
          },
          "metadata": {
            "tags": []
          },
          "execution_count": 40
        }
      ]
    },
    {
      "cell_type": "markdown",
      "metadata": {
        "id": "wovwv7tisQMD"
      },
      "source": [
        "## Case\n",
        "\n",
        "Выражение MySQL CASE - это структура потока управления, которая позволяет добавлять логику if-else к запросу. Вообще говоря, вы можете использовать выражение CASE в любом месте, которое допускает допустимое выражение, например, предложения SELECT, WHERE и ORDER BY."
      ]
    },
    {
      "cell_type": "code",
      "metadata": {
        "id": "bRf5I9ZmsbP6",
        "colab": {
          "base_uri": "https://localhost:8080/",
          "height": 173
        },
        "outputId": "624c3b92-ee5c-4eb0-aa11-6f28112164a2"
      },
      "source": [
        "pd.read_sql('SELECT * from address;', connection)"
      ],
      "execution_count": 19,
      "outputs": [
        {
          "output_type": "execute_result",
          "data": {
            "text/html": [
              "<div>\n",
              "<style scoped>\n",
              "    .dataframe tbody tr th:only-of-type {\n",
              "        vertical-align: middle;\n",
              "    }\n",
              "\n",
              "    .dataframe tbody tr th {\n",
              "        vertical-align: top;\n",
              "    }\n",
              "\n",
              "    .dataframe thead th {\n",
              "        text-align: right;\n",
              "    }\n",
              "</style>\n",
              "<table border=\"1\" class=\"dataframe\">\n",
              "  <thead>\n",
              "    <tr style=\"text-align: right;\">\n",
              "      <th></th>\n",
              "      <th>id</th>\n",
              "      <th>country</th>\n",
              "      <th>state</th>\n",
              "      <th>street_name</th>\n",
              "      <th>street_number</th>\n",
              "      <th>post_code</th>\n",
              "      <th>person_id</th>\n",
              "    </tr>\n",
              "  </thead>\n",
              "  <tbody>\n",
              "    <tr>\n",
              "      <th>0</th>\n",
              "      <td>1</td>\n",
              "      <td>USA</td>\n",
              "      <td>WA</td>\n",
              "      <td>West Huron Street</td>\n",
              "      <td>1</td>\n",
              "      <td>48103</td>\n",
              "      <td>1</td>\n",
              "    </tr>\n",
              "    <tr>\n",
              "      <th>1</th>\n",
              "      <td>2</td>\n",
              "      <td>Russia</td>\n",
              "      <td>Moscow</td>\n",
              "      <td>Pervomay Street</td>\n",
              "      <td>42</td>\n",
              "      <td>141700</td>\n",
              "      <td>2</td>\n",
              "    </tr>\n",
              "    <tr>\n",
              "      <th>2</th>\n",
              "      <td>3</td>\n",
              "      <td>Russia</td>\n",
              "      <td>Moscow</td>\n",
              "      <td>Pervomay Street</td>\n",
              "      <td>42</td>\n",
              "      <td>141700</td>\n",
              "      <td>3</td>\n",
              "    </tr>\n",
              "    <tr>\n",
              "      <th>3</th>\n",
              "      <td>4</td>\n",
              "      <td>USA</td>\n",
              "      <td>CA</td>\n",
              "      <td>Green Street</td>\n",
              "      <td>104</td>\n",
              "      <td>655689</td>\n",
              "      <td>4</td>\n",
              "    </tr>\n",
              "  </tbody>\n",
              "</table>\n",
              "</div>"
            ],
            "text/plain": [
              "   id country   state        street_name street_number post_code  person_id\n",
              "0   1     USA      WA  West Huron Street             1     48103          1\n",
              "1   2  Russia  Moscow    Pervomay Street            42    141700          2\n",
              "2   3  Russia  Moscow    Pervomay Street            42    141700          3\n",
              "3   4     USA      CA       Green Street           104    655689          4"
            ]
          },
          "metadata": {
            "tags": []
          },
          "execution_count": 19
        }
      ]
    },
    {
      "cell_type": "code",
      "metadata": {
        "id": "We_1tKRysPRT"
      },
      "source": [
        "pd.read_sql('''\n",
        "SELECT \n",
        "    name `Имя`,\n",
        "    country `Страна`,\n",
        "    CASE country\n",
        "\t\tWHEN \"Russia\" THEN 'Живет в России'\n",
        "        WHEN \"USA\" THEN 'Живет в США'\n",
        "        ELSE 'Живет в другой стране'\n",
        "\tend `Страна проживания`\n",
        "FROM\n",
        "    (SELECT \n",
        "\t\tcountry\n",
        "\tFROM\n",
        "\t\taddress\n",
        "\tINNER JOIN person\n",
        "\t\tON  address.person_id = person.id) as cte\n",
        "ORDER BY country;\n",
        "''', connection)"
      ],
      "execution_count": null,
      "outputs": []
    },
    {
      "cell_type": "markdown",
      "metadata": {
        "id": "dDbCLqIwxk-y"
      },
      "source": [
        "Вопрос: Почему в данном случае плохо использовать следующий синтаксис \"JOIN ... USING (id)\" ?\n",
        "\n",
        "Как это исправить?"
      ]
    },
    {
      "cell_type": "code",
      "metadata": {
        "colab": {
          "base_uri": "https://localhost:8080/",
          "height": 173
        },
        "id": "g89L_Jfngip0",
        "outputId": "cf3cb887-9b91-438b-e4fe-ce94b41245cb"
      },
      "source": [
        "pd.read_sql('''\n",
        "SELECT \n",
        "    name 'Имя',\n",
        "    country 'Страна',\n",
        "    CASE country\n",
        "\t\tWHEN \"Russia\" THEN 'Живет в России'\n",
        "        WHEN \"USA\" THEN 'Живет в США'\n",
        "        ELSE 'Живет в другой стране'\n",
        "\tend 'Страна проживания'\n",
        "FROM\n",
        "    (SELECT \n",
        "\t\tcountry,\n",
        "        name\n",
        "\tFROM\n",
        "\t\taddress\n",
        "\tINNER JOIN person\n",
        "\t\tUSING (id))\n",
        "ORDER BY country;\n",
        "''', connection)"
      ],
      "execution_count": 20,
      "outputs": [
        {
          "output_type": "execute_result",
          "data": {
            "text/html": [
              "<div>\n",
              "<style scoped>\n",
              "    .dataframe tbody tr th:only-of-type {\n",
              "        vertical-align: middle;\n",
              "    }\n",
              "\n",
              "    .dataframe tbody tr th {\n",
              "        vertical-align: top;\n",
              "    }\n",
              "\n",
              "    .dataframe thead th {\n",
              "        text-align: right;\n",
              "    }\n",
              "</style>\n",
              "<table border=\"1\" class=\"dataframe\">\n",
              "  <thead>\n",
              "    <tr style=\"text-align: right;\">\n",
              "      <th></th>\n",
              "      <th>Имя</th>\n",
              "      <th>Страна</th>\n",
              "      <th>Страна проживания</th>\n",
              "    </tr>\n",
              "  </thead>\n",
              "  <tbody>\n",
              "    <tr>\n",
              "      <th>0</th>\n",
              "      <td>Moshe</td>\n",
              "      <td>Russia</td>\n",
              "      <td>Живет в России</td>\n",
              "    </tr>\n",
              "    <tr>\n",
              "      <th>1</th>\n",
              "      <td>Lisa</td>\n",
              "      <td>Russia</td>\n",
              "      <td>Живет в России</td>\n",
              "    </tr>\n",
              "    <tr>\n",
              "      <th>2</th>\n",
              "      <td>Nawin</td>\n",
              "      <td>USA</td>\n",
              "      <td>Живет в США</td>\n",
              "    </tr>\n",
              "    <tr>\n",
              "      <th>3</th>\n",
              "      <td>Nika</td>\n",
              "      <td>USA</td>\n",
              "      <td>Живет в США</td>\n",
              "    </tr>\n",
              "  </tbody>\n",
              "</table>\n",
              "</div>"
            ],
            "text/plain": [
              "     Имя  Страна Страна проживания\n",
              "0  Moshe  Russia    Живет в России\n",
              "1   Lisa  Russia    Живет в России\n",
              "2  Nawin     USA       Живет в США\n",
              "3   Nika     USA       Живет в США"
            ]
          },
          "metadata": {
            "tags": []
          },
          "execution_count": 20
        }
      ]
    },
    {
      "cell_type": "markdown",
      "metadata": {
        "id": "4m8LUONLwBjo"
      },
      "source": [
        "ЗАДАНИЕ\n",
        "\n",
        "Добавить еще один столбец - Имя человека"
      ]
    },
    {
      "cell_type": "code",
      "metadata": {
        "id": "ZCkDQdavx0ro",
        "colab": {
          "base_uri": "https://localhost:8080/"
        },
        "outputId": "1efabcde-7a50-4235-ede4-781e013216a5"
      },
      "source": [
        "from sqlalchemy import create_engine\r\n",
        "engine = create_engine('sqlite:///sqlalchemy_example.db')\r\n",
        "\r\n",
        "engine.execute('alter table address add column person_name VARCHAR(50)')"
      ],
      "execution_count": 21,
      "outputs": [
        {
          "output_type": "execute_result",
          "data": {
            "text/plain": [
              "<sqlalchemy.engine.result.ResultProxy at 0x7f8fa368f710>"
            ]
          },
          "metadata": {
            "tags": []
          },
          "execution_count": 21
        }
      ]
    },
    {
      "cell_type": "code",
      "metadata": {
        "id": "UApCLBYExNmq",
        "colab": {
          "base_uri": "https://localhost:8080/",
          "height": 173
        },
        "outputId": "1c201308-4d97-43b5-f760-7628ee135437"
      },
      "source": [
        "# Таблица после добавления столбца\r\n",
        "pd.read_sql('SELECT * from address;', connection)"
      ],
      "execution_count": 41,
      "outputs": [
        {
          "output_type": "execute_result",
          "data": {
            "text/html": [
              "<div>\n",
              "<style scoped>\n",
              "    .dataframe tbody tr th:only-of-type {\n",
              "        vertical-align: middle;\n",
              "    }\n",
              "\n",
              "    .dataframe tbody tr th {\n",
              "        vertical-align: top;\n",
              "    }\n",
              "\n",
              "    .dataframe thead th {\n",
              "        text-align: right;\n",
              "    }\n",
              "</style>\n",
              "<table border=\"1\" class=\"dataframe\">\n",
              "  <thead>\n",
              "    <tr style=\"text-align: right;\">\n",
              "      <th></th>\n",
              "      <th>id</th>\n",
              "      <th>country</th>\n",
              "      <th>state</th>\n",
              "      <th>street_name</th>\n",
              "      <th>street_number</th>\n",
              "      <th>post_code</th>\n",
              "      <th>person_id</th>\n",
              "      <th>person_name</th>\n",
              "    </tr>\n",
              "  </thead>\n",
              "  <tbody>\n",
              "    <tr>\n",
              "      <th>0</th>\n",
              "      <td>1</td>\n",
              "      <td>USA</td>\n",
              "      <td>WA</td>\n",
              "      <td>West Huron Street</td>\n",
              "      <td>1</td>\n",
              "      <td>48103</td>\n",
              "      <td>1</td>\n",
              "      <td>None</td>\n",
              "    </tr>\n",
              "    <tr>\n",
              "      <th>1</th>\n",
              "      <td>2</td>\n",
              "      <td>Russia</td>\n",
              "      <td>Moscow</td>\n",
              "      <td>Pervomay Street</td>\n",
              "      <td>42</td>\n",
              "      <td>141700</td>\n",
              "      <td>2</td>\n",
              "      <td>None</td>\n",
              "    </tr>\n",
              "    <tr>\n",
              "      <th>2</th>\n",
              "      <td>3</td>\n",
              "      <td>Russia</td>\n",
              "      <td>Moscow</td>\n",
              "      <td>Pervomay Street</td>\n",
              "      <td>42</td>\n",
              "      <td>141700</td>\n",
              "      <td>3</td>\n",
              "      <td>None</td>\n",
              "    </tr>\n",
              "    <tr>\n",
              "      <th>3</th>\n",
              "      <td>4</td>\n",
              "      <td>USA</td>\n",
              "      <td>CA</td>\n",
              "      <td>Green Street</td>\n",
              "      <td>104</td>\n",
              "      <td>655689</td>\n",
              "      <td>4</td>\n",
              "      <td>None</td>\n",
              "    </tr>\n",
              "  </tbody>\n",
              "</table>\n",
              "</div>"
            ],
            "text/plain": [
              "   id country   state  ... post_code person_id person_name\n",
              "0   1     USA      WA  ...     48103         1        None\n",
              "1   2  Russia  Moscow  ...    141700         2        None\n",
              "2   3  Russia  Moscow  ...    141700         3        None\n",
              "3   4     USA      CA  ...    655689         4        None\n",
              "\n",
              "[4 rows x 8 columns]"
            ]
          },
          "metadata": {
            "tags": []
          },
          "execution_count": 41
        }
      ]
    },
    {
      "cell_type": "code",
      "metadata": {
        "id": "6YjOoSdjm28V"
      },
      "source": [
        "session.commit()"
      ],
      "execution_count": 23,
      "outputs": []
    },
    {
      "cell_type": "markdown",
      "metadata": {
        "id": "vhK_7BXMxCEP"
      },
      "source": [
        "ДОП ЗАДАНИЕ**\n",
        "\n",
        "Если человек живет в Москве, то вывести его имя, улицу и почтовый код"
      ]
    },
    {
      "cell_type": "code",
      "metadata": {
        "colab": {
          "base_uri": "https://localhost:8080/",
          "height": 111
        },
        "id": "T7HsrcYdwQ2d",
        "outputId": "fed11c33-ff67-49b4-f25d-0d645cab32bf"
      },
      "source": [
        "pd.read_sql('''\r\n",
        "SELECT \r\n",
        "    name 'Имя',\r\n",
        "    post_code 'Почтовый код',\r\n",
        "    street_name 'Улица',\r\n",
        "    CASE state\r\n",
        "\t\tWHEN \"Moscow\" THEN 'Москвa'\r\n",
        "        end 'Город проживания'\r\n",
        "FROM\r\n",
        "    (SELECT \r\n",
        "\t\tstate,\r\n",
        "        name,\r\n",
        "            street_name,    \r\n",
        "                post_code    \r\n",
        "\tFROM\r\n",
        "\t\taddress\r\n",
        "\tINNER JOIN person\r\n",
        "\t\tUSING (id))\r\n",
        "  WHERE state LIKE 'Moscow';\r\n",
        "    ''', connection)"
      ],
      "execution_count": 42,
      "outputs": [
        {
          "output_type": "execute_result",
          "data": {
            "text/html": [
              "<div>\n",
              "<style scoped>\n",
              "    .dataframe tbody tr th:only-of-type {\n",
              "        vertical-align: middle;\n",
              "    }\n",
              "\n",
              "    .dataframe tbody tr th {\n",
              "        vertical-align: top;\n",
              "    }\n",
              "\n",
              "    .dataframe thead th {\n",
              "        text-align: right;\n",
              "    }\n",
              "</style>\n",
              "<table border=\"1\" class=\"dataframe\">\n",
              "  <thead>\n",
              "    <tr style=\"text-align: right;\">\n",
              "      <th></th>\n",
              "      <th>Имя</th>\n",
              "      <th>Почтовый код</th>\n",
              "      <th>Улица</th>\n",
              "      <th>Город проживания</th>\n",
              "    </tr>\n",
              "  </thead>\n",
              "  <tbody>\n",
              "    <tr>\n",
              "      <th>0</th>\n",
              "      <td>Moshe</td>\n",
              "      <td>141700</td>\n",
              "      <td>Pervomay Street</td>\n",
              "      <td>Москвa</td>\n",
              "    </tr>\n",
              "    <tr>\n",
              "      <th>1</th>\n",
              "      <td>Lisa</td>\n",
              "      <td>141700</td>\n",
              "      <td>Pervomay Street</td>\n",
              "      <td>Москвa</td>\n",
              "    </tr>\n",
              "  </tbody>\n",
              "</table>\n",
              "</div>"
            ],
            "text/plain": [
              "     Имя Почтовый код            Улица Город проживания\n",
              "0  Moshe       141700  Pervomay Street           Москвa\n",
              "1   Lisa       141700  Pervomay Street           Москвa"
            ]
          },
          "metadata": {
            "tags": []
          },
          "execution_count": 42
        }
      ]
    },
    {
      "cell_type": "code",
      "metadata": {
        "id": "0l0Neh7D2AVz"
      },
      "source": [
        "session.commit()"
      ],
      "execution_count": 44,
      "outputs": []
    },
    {
      "cell_type": "markdown",
      "metadata": {
        "id": "8lJN0Vnn6tG5"
      },
      "source": [
        "Ответ на задание со слайда.\r\n",
        "Это с использованием оконной функции:\r\n",
        "SELECT * (или column1, column2………)\r\n",
        "ROW_NUMBER() OVER() AS new_column\r\n",
        "FROM custom table\r\n",
        "ORDER BY new_column ASC;\r\n",
        "# где функция ROW_NUMBER() OVER() добавляет автоматически нумеруемый столбец new_column в таблицу custom tablу и сортрует записи в порядке возрастания\r\n"
      ]
    },
    {
      "cell_type": "markdown",
      "metadata": {
        "id": "JKrp-BOtxVz7"
      },
      "source": [
        "# Работа с датами"
      ]
    },
    {
      "cell_type": "markdown",
      "metadata": {
        "id": "dEEI2CaFyHH1"
      },
      "source": [
        "## Date\n",
        "\n",
        "MySQL DATE - один из пяти временных типов данных, используемых для управления значениями даты. MySQL использует формат гггг-мм-дд для хранения значения даты. Этот формат является фиксированным, и его невозможно изменить. (Для собственных форматов дат используйте DATE_FORMAT)\n",
        "\n",
        "MySQL использует 3 байта для хранения значения DATE. Значения ДАТЫ варьируются от 1000-01-01 до 9999-12-31."
      ]
    },
    {
      "cell_type": "code",
      "metadata": {
        "id": "mfCSKHubqHOq"
      },
      "source": [
        "connection.execute('''\n",
        "CREATE TABLE people (\n",
        "    id INT AUTO_INCREMENT PRIMARY KEY,\n",
        "    first_name VARCHAR(50) NOT NULL,\n",
        "    last_name VARCHAR(50) NOT NULL,\n",
        "    birth_date DATE NOT NULL\n",
        ");\n",
        "''')"
      ],
      "execution_count": null,
      "outputs": []
    },
    {
      "cell_type": "code",
      "metadata": {
        "id": "d00r9x71xYgO"
      },
      "source": [
        "engine.table_names()"
      ],
      "execution_count": null,
      "outputs": []
    },
    {
      "cell_type": "code",
      "metadata": {
        "id": "1tld4rn9xYpM"
      },
      "source": [
        "pd.read_sql('''SELECT * from people''', connection)"
      ],
      "execution_count": null,
      "outputs": []
    },
    {
      "cell_type": "markdown",
      "metadata": {
        "id": "HK4I_i6Pyk8q"
      },
      "source": [
        "Добавим элемент"
      ]
    },
    {
      "cell_type": "code",
      "metadata": {
        "id": "HwU9Vu4VqHQj"
      },
      "source": [
        "connection.execute('''\n",
        "INSERT INTO people(first_name, last_name, birth_date)\n",
        "VALUES('John','Doe','1990-09-01');\n",
        "''')"
      ],
      "execution_count": null,
      "outputs": []
    },
    {
      "cell_type": "markdown",
      "metadata": {
        "id": "ujZcNsq7yjPV"
      },
      "source": [
        "Посмотрим на результат"
      ]
    },
    {
      "cell_type": "code",
      "metadata": {
        "id": "UlTPeilgyfFF"
      },
      "source": [
        "pd.read_sql('''\n",
        "SELECT \n",
        "    id,\n",
        "    first_name, \n",
        "    last_name, \n",
        "    birth_date\n",
        "FROM\n",
        "    people;\n",
        "''', connection)"
      ],
      "execution_count": null,
      "outputs": []
    },
    {
      "cell_type": "markdown",
      "metadata": {
        "id": "_qtkJ766yuL3"
      },
      "source": [
        "## Функции от дат"
      ]
    },
    {
      "cell_type": "code",
      "metadata": {
        "id": "XJSZqubizNTu"
      },
      "source": [
        "!pip install mysql-connector-python"
      ],
      "execution_count": null,
      "outputs": []
    },
    {
      "cell_type": "code",
      "metadata": {
        "id": "RZRazmmpyfPK"
      },
      "source": [
        "import datetime\n",
        "datetime.datetime.now() #текущее время"
      ],
      "execution_count": null,
      "outputs": []
    },
    {
      "cell_type": "code",
      "metadata": {
        "id": "OpmjMO4Gywo-"
      },
      "source": [
        "pd.read_sql('''\n",
        "SELECT CURRENT_TIMESTAMP\n",
        "''', connection)"
      ],
      "execution_count": null,
      "outputs": []
    },
    {
      "cell_type": "code",
      "metadata": {
        "id": "GAL3TJ-P19LU"
      },
      "source": [
        "pd.read_sql('''\n",
        "SELECT DATE(CURRENT_TIMESTAMP) as `текущее время`;\n",
        "''', connection)"
      ],
      "execution_count": null,
      "outputs": []
    },
    {
      "cell_type": "code",
      "metadata": {
        "id": "zkjNwB8Bywey"
      },
      "source": [
        "pd.read_sql('''\n",
        "SELECT CURRENT_TIME\n",
        "''', connection)"
      ],
      "execution_count": null,
      "outputs": []
    },
    {
      "cell_type": "markdown",
      "metadata": {
        "id": "G1L0QsEr9Z_q"
      },
      "source": [
        "## Работа с триггером\n",
        "\n",
        "Триггеры по своей сути представляют обработчики событий. Они выполняются при наступлении какого-либо простого действия в SQL. Такими действиями обычно являются: удаление, вставка и обновление данных.\n",
        "\n",
        "То есть, триггер — это по сути ловушка, которая срабатывает при определенном действии. Триггер позволяет автоматизировать некоторые расчетные рутинные действия. Примеры мы разберем дальше.\n",
        "\n",
        "Оператор для создания следующий:\n",
        "\n",
        "`CREATE TRIGGER name_trigger`\n",
        "\n",
        "После оператора и имени триггера необходимо указать в каком случае будет срабатывать триггер. Возможно 6 вариантов:\n",
        "\n",
        "* BEFORE INSERT\n",
        "* BEFORE UPDATE\n",
        "* BEFORE DELETE\n",
        "* AFTER INSERT\n",
        "* AFTER UPDATE\n",
        "* AFTER DELETE"
      ]
    },
    {
      "cell_type": "code",
      "metadata": {
        "id": "Qn2B8hiZ9eha"
      },
      "source": [
        "connection.execute(\n",
        "'''\n",
        "CREATE TABLE IF NOT EXISTS test_table(\n",
        "    id int INTEGER AUTO_INCREMENT PRIMARY KEY NOT NULL,\n",
        "    text TEXT NOT NULL\n",
        ");\n",
        "''')"
      ],
      "execution_count": null,
      "outputs": []
    },
    {
      "cell_type": "code",
      "metadata": {
        "id": "RXjeOmK59m6E"
      },
      "source": [
        "connection.execute('''\n",
        "    CREATE TABLE IF NOT EXISTS log_data(\n",
        "        id int AUTO_INCREMENT PRIMARY KEY,\n",
        "        action text not null,\n",
        "        table_name text not null\n",
        "    );\n",
        "''')"
      ],
      "execution_count": null,
      "outputs": []
    },
    {
      "cell_type": "code",
      "metadata": {
        "id": "lYFVO6GR_Zj_"
      },
      "source": [
        "connection.execute('''\n",
        "    CREATE TRIGGER log_changes AFTER INSERT ON test_table\n",
        "    FOR EACH ROW BEGIN\n",
        "        INSERT INTO log_data (table_name, action) \n",
        "        VALUES ('test_table', 'add row');\n",
        "    END;\n",
        "''')"
      ],
      "execution_count": null,
      "outputs": []
    },
    {
      "cell_type": "code",
      "metadata": {
        "id": "fP41iFDh9esN"
      },
      "source": [
        "connection.execute('''\n",
        "insert into test_table(id, text) values (1, 'ttfhrtht')\n",
        "''')"
      ],
      "execution_count": null,
      "outputs": []
    },
    {
      "cell_type": "code",
      "metadata": {
        "id": "t8EB0mPG-Ec-"
      },
      "source": [
        "pd.read_sql('Select * from test_table', connection)"
      ],
      "execution_count": null,
      "outputs": []
    },
    {
      "cell_type": "code",
      "metadata": {
        "id": "lZoi0DRj9euw"
      },
      "source": [
        "pd.read_sql('Select * from log_data', connection)"
      ],
      "execution_count": null,
      "outputs": []
    },
    {
      "cell_type": "code",
      "metadata": {
        "id": "wKBZUDNP_y67"
      },
      "source": [
        "connection.execute('''\n",
        "insert into test_table(id, text) values (2, 'ttsrgrgsrh')\n",
        "''')"
      ],
      "execution_count": null,
      "outputs": []
    },
    {
      "cell_type": "code",
      "metadata": {
        "id": "f6YQdLgDm5E2"
      },
      "source": [
        "pd.read_sql('Select * from test_table', connection)"
      ],
      "execution_count": null,
      "outputs": []
    },
    {
      "cell_type": "code",
      "metadata": {
        "id": "bw81iNJg_zG_"
      },
      "source": [
        "pd.read_sql('Select * from log_data', connection)"
      ],
      "execution_count": null,
      "outputs": []
    },
    {
      "cell_type": "markdown",
      "metadata": {
        "id": "QCZ58eH2AE0M"
      },
      "source": [
        "Создание базы данных подписок по id"
      ]
    },
    {
      "cell_type": "code",
      "metadata": {
        "id": "FddD76GpADex"
      },
      "source": [
        "connection.execute('''\n",
        "CREATE TABLE IF NOT EXISTS subscriptions(\n",
        "    subscriptionId INT AUTO_INCREMENT,\n",
        "    userId INT,\n",
        "    dailyEmail BOOLEAN NOT NULL DEFAULT FALSE,\n",
        "    weeklyEmail BOOLEAN NOT NULL DEFAULT FALSE,\n",
        "    specialOffer BOOLEAN NOT NULL DEFAULT FALSE,\n",
        "    phone BOOLEAN NOT NULL DEFAULT FALSE,\n",
        "    PRIMARY KEY (subscriptionId)\n",
        "    );\n",
        "''')"
      ],
      "execution_count": null,
      "outputs": []
    },
    {
      "cell_type": "markdown",
      "metadata": {
        "id": "5n35eu7LAJHP"
      },
      "source": [
        "Создание базы данных пользователей с внешним ключем на список подписок"
      ]
    },
    {
      "cell_type": "code",
      "metadata": {
        "id": "vw1SpcrcADq5"
      },
      "source": [
        "connection.execute('''\n",
        "CREATE TABLE IF NOT EXISTS users(\n",
        "    userId INT AUTO_INCREMENT,\n",
        "    subscription_id INT,\n",
        "    firstName VARCHAR(255) NOT NULL,\n",
        "    secondName VARCHAR(255) NOT NULL,\n",
        "    email VARCHAR(255) NOT NULL,\n",
        "    emailConfimed BOOLEAN NOT NULL DEFAULT FALSE,\n",
        "    PRIMARY KEY (userId),\n",
        "    FOREIGN KEY (subscription_id)\n",
        "        REFERENCES subscriptions(subscriptionId)\n",
        "        ON UPDATE RESTRICT ON DELETE CASCADE\n",
        "    );\n",
        "''')"
      ],
      "execution_count": null,
      "outputs": []
    },
    {
      "cell_type": "markdown",
      "metadata": {
        "id": "JsN2ORwZAOOT"
      },
      "source": [
        "Загрузим пустую бд и удалим id (чтоб не получить ошибки автоинкремента)"
      ]
    },
    {
      "cell_type": "code",
      "metadata": {
        "id": "YfWVewCzAD4O"
      },
      "source": [
        "subscriptions = pd.read_sql('Select * from subscriptions', connection)\n",
        "# дропаем столбец, который автоинкрементируется\n",
        "del subscriptions['subscriptionId']\n",
        "subscriptions.head()"
      ],
      "execution_count": null,
      "outputs": []
    },
    {
      "cell_type": "markdown",
      "metadata": {
        "id": "Pd5TWDImAQtd"
      },
      "source": [
        "добавим строку в конец датафрейма"
      ]
    },
    {
      "cell_type": "code",
      "metadata": {
        "id": "843IXEF3AD61"
      },
      "source": [
        "subscriptions.loc[len(subscriptions)] = [0, False, False, False, False]\n",
        "subscriptions.head()"
      ],
      "execution_count": null,
      "outputs": []
    },
    {
      "cell_type": "markdown",
      "metadata": {
        "id": "_pLNxwlkAV6W"
      },
      "source": [
        "Добавим датафрейм в таблицу"
      ]
    },
    {
      "cell_type": "code",
      "metadata": {
        "id": "azOHj7C1ARqO"
      },
      "source": [
        "# добавляем в конец\n",
        "subscriptions.to_sql('subscriptions', connection, if_exists='append', index=False)"
      ],
      "execution_count": null,
      "outputs": []
    },
    {
      "cell_type": "code",
      "metadata": {
        "id": "fuVJkyqeAXgy"
      },
      "source": [
        "pd.read_sql('Select * from subscriptions', connection)"
      ],
      "execution_count": null,
      "outputs": []
    },
    {
      "cell_type": "markdown",
      "metadata": {
        "id": "ZyQFsIVgAeJq"
      },
      "source": [
        "\n",
        "Создадим пользователя и удалим userId (чтоб не было ошибок автоинкремента)"
      ]
    },
    {
      "cell_type": "code",
      "metadata": {
        "id": "NOJg_X2iAXtW"
      },
      "source": [
        "# создаем пользователя\n",
        "users = pd.read_sql('Select * from users', connection)\n",
        "# дропаем столбец, который автоинкрементируется\n",
        "del users['userId']\n",
        "users.head()"
      ],
      "execution_count": null,
      "outputs": []
    },
    {
      "cell_type": "code",
      "metadata": {
        "id": "uvXQ9gZ-ARsx"
      },
      "source": [
        "users.loc[len(users)] = [1, 'Illya', 'Tykhov', 'tixons.work@gmail.com', True]\n",
        "users.head()"
      ],
      "execution_count": null,
      "outputs": []
    },
    {
      "cell_type": "markdown",
      "metadata": {
        "id": "Zran9v4kAoiI"
      },
      "source": [
        "Добавим датафрейм в таблицу sql"
      ]
    },
    {
      "cell_type": "code",
      "metadata": {
        "id": "e0aDpDulAEQz"
      },
      "source": [
        "users.to_sql('users', connection, if_exists='append', index=False)"
      ],
      "execution_count": null,
      "outputs": []
    },
    {
      "cell_type": "code",
      "metadata": {
        "id": "Uy7tyfG5Akgv"
      },
      "source": [
        "pd.read_sql('Select * from users', connection)"
      ],
      "execution_count": null,
      "outputs": []
    },
    {
      "cell_type": "markdown",
      "metadata": {
        "id": "HOHZx79eBdiG"
      },
      "source": [
        "Агрегатная функция выполняет вычисление для нескольких значений и возвращает одно значение. Например, можно использовать агрегатную функцию AVG (), которая принимает несколько чисел и возвращает среднее значение чисел. Синтаксис:\n",
        "\n",
        "`\n",
        "function_name(DISTINCT | ALL expression)\n",
        "`"
      ]
    },
    {
      "cell_type": "code",
      "metadata": {
        "id": "qNhaSleQBVlJ"
      },
      "source": [
        "pd.read_sql('''\n",
        "SELECT \n",
        "    COUNT(subscription_id) `количество`,\n",
        "    AVG(subscription_id) `средняя величина`,\n",
        "    MIN(subscription_id) `минимальная величина`,\n",
        "    MAX(subscription_id) `максимальная величина`\n",
        "FROM \n",
        "    users;\n",
        "''', connection)"
      ],
      "execution_count": null,
      "outputs": []
    },
    {
      "cell_type": "code",
      "metadata": {
        "id": "63Qq_dJWB2rL"
      },
      "source": [
        "pd.read_sql('''\n",
        "SELECT \n",
        "    firstName `Имя`,\n",
        "    COUNT(*) `Количество`\n",
        "FROM\n",
        "    users\n",
        "GROUP BY subscription_id\n",
        "ORDER BY subscription_id;\n",
        "''', connection)"
      ],
      "execution_count": null,
      "outputs": []
    },
    {
      "cell_type": "code",
      "metadata": {
        "id": "S63hrWPhIzUq"
      },
      "source": [
        "# Пример интерфейса для работы с данными"
      ],
      "execution_count": null,
      "outputs": []
    },
    {
      "cell_type": "code",
      "metadata": {
        "id": "Cy7OzdFTI3pn"
      },
      "source": [
        "import sqlite3\n",
        "conn = sqlite3.connect('mydatabase.db')\n",
        "\n",
        "cursor = conn.cursor()"
      ],
      "execution_count": null,
      "outputs": []
    },
    {
      "cell_type": "code",
      "metadata": {
        "id": "g0Opz_OOI34b"
      },
      "source": [
        "cursor.execute(\n",
        "'''\n",
        "CREATE TABLE user\n",
        "    (id INTEGER PRIMARY KEY AUTOINCREMENT,\n",
        "    name VARCHAR(255),\n",
        "    lastName VARCHAR(255),\n",
        "    age integer,\n",
        "    deletedFlg integer\n",
        "    )\n",
        "'''\n",
        ")\n",
        "conn.commit()"
      ],
      "execution_count": null,
      "outputs": []
    },
    {
      "cell_type": "code",
      "metadata": {
        "id": "5PwPbgbeI4HZ"
      },
      "source": [
        "cursor.execute(\n",
        "'''\n",
        "INSERT INTO user(\n",
        "    name,\n",
        "    lastName,\n",
        "    age,\n",
        "    deletedFlg\n",
        ")\n",
        "VALUES ('Петя', 'Иванов', 31, 0)\n",
        "'''\n",
        ")\n",
        "conn.commit()"
      ],
      "execution_count": null,
      "outputs": []
    },
    {
      "cell_type": "code",
      "metadata": {
        "id": "f2z6fXExI4Kb"
      },
      "source": [
        "cursor.execute('SELECT * FROM user')\n",
        "db_ =  cursor.fetchall()\n",
        "\n",
        "for element in db_:\n",
        "    print(element)"
      ],
      "execution_count": null,
      "outputs": []
    },
    {
      "cell_type": "markdown",
      "metadata": {
        "id": "sjKHYejeJ1ii"
      },
      "source": [
        "Добавим еще элементов 2умя способами"
      ]
    },
    {
      "cell_type": "markdown",
      "metadata": {
        "id": "mnC03T0yJ45B"
      },
      "source": [
        "1 способ"
      ]
    },
    {
      "cell_type": "code",
      "metadata": {
        "id": "UrE21eYeI4b5"
      },
      "source": [
        "cursor.execute(\n",
        "'''\n",
        "INSERT INTO user(\n",
        "    name,\n",
        "    lastName,\n",
        "    age,\n",
        "    deletedFlg\n",
        ")\n",
        "VALUES ('Катя', 'Петрова', 30, 0),\n",
        "        ('Аня', 'Воронцова', 25, 0),\n",
        "        ('Дима', 'Петров', 35, 0)\n",
        "'''\n",
        ")\n",
        "conn.commit()"
      ],
      "execution_count": null,
      "outputs": []
    },
    {
      "cell_type": "code",
      "metadata": {
        "id": "VucwRbBzJjBM"
      },
      "source": [
        "cursor.execute('SELECT * FROM user')\n",
        "db_ =  cursor.fetchall()\n",
        "\n",
        "for element in db_:\n",
        "    print(element)"
      ],
      "execution_count": null,
      "outputs": []
    },
    {
      "cell_type": "markdown",
      "metadata": {
        "id": "JOUotcYdJ7sJ"
      },
      "source": [
        "2 способ"
      ]
    },
    {
      "cell_type": "code",
      "metadata": {
        "id": "TK4JhQX3J7Ez"
      },
      "source": [
        "values = [\n",
        "          ('Карина', 'Иванова', 26, 0),\n",
        "          ('Вася', 'Воронцов', 28, 0),\n",
        "          ('Света', 'Михайлова', 31, 0)\n",
        "]\n",
        "\n",
        "cursor.executemany('''\n",
        "INSERT INTO user(\n",
        "    name,\n",
        "    lastName,\n",
        "    age,\n",
        "    deletedFlg\n",
        ")\n",
        "VALUES (?, ?, ?, ?)\n",
        "''', values)\n",
        "conn.commit()"
      ],
      "execution_count": null,
      "outputs": []
    },
    {
      "cell_type": "code",
      "metadata": {
        "id": "4CtHmsK3KG9X"
      },
      "source": [
        "cursor.execute('SELECT * FROM user')\n",
        "db_ =  cursor.fetchall()\n",
        "\n",
        "for element in db_:\n",
        "    print(element)"
      ],
      "execution_count": null,
      "outputs": []
    },
    {
      "cell_type": "markdown",
      "metadata": {
        "id": "FYtlz-y-Jk3F"
      },
      "source": [
        "ЗАДАНИЕ\n",
        "\n",
        "Как вывести результат в таблице pandas dataframe?"
      ]
    },
    {
      "cell_type": "code",
      "metadata": {
        "id": "rFMUZMdwp9vj"
      },
      "source": [
        "pd.read_sql('SELECT * FROM user' , conn)"
      ],
      "execution_count": null,
      "outputs": []
    },
    {
      "cell_type": "code",
      "metadata": {
        "id": "P6-XBwIzJuzv"
      },
      "source": [
        "# TODO"
      ],
      "execution_count": null,
      "outputs": []
    },
    {
      "cell_type": "markdown",
      "metadata": {
        "id": "PszocDAeKKuq"
      },
      "source": [
        "Пример интерфейса для дальнейшей работы с данными"
      ]
    },
    {
      "cell_type": "code",
      "metadata": {
        "id": "t_m6eI84KOuV"
      },
      "source": [
        "import sqlite3\n",
        "import pandas as pd\n",
        "\n",
        "class my_interface():\n",
        "    # db_name - название таблицы\n",
        "    def __init__(self, db_name):\n",
        "        # создаем объект подключения с названием бд\n",
        "        self.conn = sqlite3.connect(f'{db_name}.db')\n",
        "        # операции с бд\n",
        "        self.cursor = self.conn.cursor()\n",
        "        \n",
        "        # создание таблиц\n",
        "        # таблица пользователей\n",
        "        self.create_users()\n",
        "        # таблица логирования\n",
        "        self.create_log_info()\n",
        "        \n",
        "#         print(pd.read_sql(\"SELECT name FROM sqlite_master WHERE type='table';\", conn) )\n",
        "    \n",
        "    # создание таблицы пользователей\n",
        "    def create_users(self):\n",
        "        try:\n",
        "            self.cursor.execute(\n",
        "            '''\n",
        "            CREATE TABLE users\n",
        "                (id INTEGER PRIMARY KEY AUTOINCREMENT,\n",
        "                name VARCHAR(255),\n",
        "                lastName VARCHAR(255),\n",
        "                age integer,\n",
        "                deletedFlg integer\n",
        "                )\n",
        "            '''\n",
        "            )\n",
        "        except Exception as e:\n",
        "            print(e)\n",
        "      \n",
        "    # создание таблицы логирования\n",
        "    def create_log_info(self):\n",
        "        try:\n",
        "            self.cursor.execute(\n",
        "            '''\n",
        "            CREATE TABLE loginfo\n",
        "                (id INTEGER PRIMARY KEY AUTOINCREMENT,\n",
        "                tablename VARCHAR(255) NOT NULL,\n",
        "                action VARCHAR(255) NOT NULL,\n",
        "                timestamp DATE DEFAULT (datetime('now','localtime'))\n",
        "                )\n",
        "            '''\n",
        "            )\n",
        "        except Exception as e:\n",
        "            print(e)\n",
        "      \n",
        "    # логирование действий\n",
        "    def log_info(self, tablename, action):\n",
        "        self.cursor.execute(f'INSERT INTO loginfo(tablename, action) VALUES (\\'{tablename}\\', \\'{action}\\');')\n",
        "        self.conn.commit()\n",
        "      \n",
        "    # логическое удаление из таблицы tablename по id\n",
        "    def delete(self, tablename, id_, **kwargs):\n",
        "        print(f'UPDATE {tablename} SET deletedFlg = 1 WHERE id = {id_}')\n",
        "        self.cursor.execute(f'UPDATE {tablename} SET deletedFlg = 1 WHERE id = {id_}')\n",
        "        self.log_info(tablename, 'delete')\n",
        "        self.conn.commit()\n",
        "\n",
        "    # отобразить данные из тыблицы tablename с ограничениями, описанными в kwargs\n",
        "    def show_data(self, tablename, **kwargs):\n",
        "        self.log_info(tablename, 'show')\n",
        "        if kwargs != {}:\n",
        "            if kwargs.get('limit') is not None:\n",
        "                # возвращаем запрос с ограничениями на кол-во элементов, которые считываем из kwargs\n",
        "                return pd.read_sql(f\"SELECT * FROM {tablename} LIMIT {kwargs.get('limit')};\", self.conn) \n",
        "        return pd.read_sql(f\"SELECT * FROM {tablename}\", self.conn) \n",
        "      \n",
        "#     def add_users(self, values):\n",
        "#         self.cursor.executemany('''\n",
        "#         INSERT INTO users(    \n",
        "#             name,\n",
        "#             lastName,\n",
        "#             age,\n",
        "#             deletedFlg\n",
        "#         )\n",
        "#         VALUES (?, ?, ?, ?)\n",
        "#         ''', values)\n",
        "#         self.conn.commit()\n",
        "    \n",
        "    # добавление данных в таблицу tablename с полями, описанными в fields (list)\n",
        "    def add_data(self, tablename, fields, values):\n",
        "        # продумать интеграцию через to_sql библиотеки pandas\n",
        "        # вставляем значения в таблицу, распаковываем названия полей и ? для подстановки данных\n",
        "        # объединяем в одну строку суммированием\n",
        "        self.cursor.executemany(\n",
        "              \"INSERT INTO \" + \n",
        "              tablename + '(' + \n",
        "              ', '.join(fields) +\n",
        "              ') VALUES (' + \n",
        "              ', '.join(['?' for i in range(len(values[0]))]) + ');'\n",
        "        , values)\n",
        "        self.conn.commit()\n",
        "        self.log_info(tablename, 'add')\n"
      ],
      "execution_count": null,
      "outputs": []
    },
    {
      "cell_type": "code",
      "metadata": {
        "id": "IQWi-jUbKay1"
      },
      "source": [
        "values = [\n",
        "          ('Аня', 'Иванова', 26, 0),\n",
        "          ('Вася', 'Воронцов', 28, 0),\n",
        "          ('Лена', 'Петрова', 31, 0)\n",
        "        ]\n",
        "        "
      ],
      "execution_count": null,
      "outputs": []
    },
    {
      "cell_type": "markdown",
      "metadata": {
        "id": "7bK17g7fKk-N"
      },
      "source": [
        "ЗАДАНИЕ\n",
        "\n",
        "1. Создать таблицу при помощи my_interface()"
      ]
    },
    {
      "cell_type": "code",
      "metadata": {
        "id": "ddOFKcZCNF1C"
      },
      "source": [
        "# TODO"
      ],
      "execution_count": null,
      "outputs": []
    },
    {
      "cell_type": "code",
      "metadata": {
        "id": "QrKVrVzcrroD"
      },
      "source": [
        "interface = my_interface('my_interface')"
      ],
      "execution_count": null,
      "outputs": []
    },
    {
      "cell_type": "code",
      "metadata": {
        "id": "BT_RjoUULRXi"
      },
      "source": [
        "interface.show_data('users')"
      ],
      "execution_count": null,
      "outputs": []
    },
    {
      "cell_type": "markdown",
      "metadata": {
        "id": "r55XnePBKzCz"
      },
      "source": [
        "2. Добавить данные в таблицу `users` при помощи метода add_data()"
      ]
    },
    {
      "cell_type": "code",
      "metadata": {
        "id": "jOrRavs1NIoq"
      },
      "source": [
        "# TODO"
      ],
      "execution_count": null,
      "outputs": []
    },
    {
      "cell_type": "code",
      "metadata": {
        "id": "T70iqj4jsRTI"
      },
      "source": [
        "interface.add_data('users', ['name', 'lastName', 'age', 'deletedFlg'], values)"
      ],
      "execution_count": null,
      "outputs": []
    },
    {
      "cell_type": "code",
      "metadata": {
        "id": "huLUDnbJr_C2"
      },
      "source": [
        ""
      ],
      "execution_count": null,
      "outputs": []
    },
    {
      "cell_type": "code",
      "metadata": {
        "id": "NTyKCQKashpz"
      },
      "source": [
        ""
      ],
      "execution_count": null,
      "outputs": []
    },
    {
      "cell_type": "code",
      "metadata": {
        "id": "1ThwImbusiCc"
      },
      "source": [
        ""
      ],
      "execution_count": null,
      "outputs": []
    },
    {
      "cell_type": "code",
      "metadata": {
        "id": "UXUVNnMlLAEu"
      },
      "source": [
        "interface.show_data('users')"
      ],
      "execution_count": null,
      "outputs": []
    },
    {
      "cell_type": "markdown",
      "metadata": {
        "id": "vK6l-k5ULgVp"
      },
      "source": [
        "3. Удалить пользователя с id = 1 при помощи delete()"
      ]
    },
    {
      "cell_type": "code",
      "metadata": {
        "id": "cpZNjSzKNKHG"
      },
      "source": [
        "# TODO"
      ],
      "execution_count": null,
      "outputs": []
    },
    {
      "cell_type": "code",
      "metadata": {
        "id": "rykF2X41sqd1"
      },
      "source": [
        "interface.delete('users', 1)"
      ],
      "execution_count": null,
      "outputs": []
    },
    {
      "cell_type": "code",
      "metadata": {
        "id": "hXc5cRSbK5Jo"
      },
      "source": [
        "interface.show_data('users')"
      ],
      "execution_count": null,
      "outputs": []
    },
    {
      "cell_type": "markdown",
      "metadata": {
        "id": "YowWDOSjLq7T"
      },
      "source": [
        "4. Вывести логи по всем предыдущим операциям show_data('loginfo', limit = 5)"
      ]
    },
    {
      "cell_type": "code",
      "metadata": {
        "id": "Ga7fK094szPD"
      },
      "source": [
        "interface.show_data('loginfo', limit = 5)"
      ],
      "execution_count": null,
      "outputs": []
    },
    {
      "cell_type": "code",
      "metadata": {
        "id": "a1gTbDuRNLTy"
      },
      "source": [
        "# TODO"
      ],
      "execution_count": null,
      "outputs": []
    },
    {
      "cell_type": "markdown",
      "metadata": {
        "id": "kZkT8LzDThIA"
      },
      "source": [
        "# ORM (объектно-реляционное отображение) на примере SQLalchemy"
      ]
    },
    {
      "cell_type": "markdown",
      "metadata": {
        "id": "Dwdjv9HgTnZZ"
      },
      "source": [
        "В этой части мы пройдем основные функции и подходы к созданию БД при помощи такого замечательного инструмента как SQLAlchemy :)"
      ]
    },
    {
      "cell_type": "markdown",
      "metadata": {
        "id": "txyJbOACsGKF"
      },
      "source": [
        "Переключим наше внимание на объектно-реляционное отображение. Первой целью является использование описанной нами системы таблиц метаданных для предоставления возможности переноса функций заданного пользователем класса на коллекцию столбцов в таблице базы данных. Второй целью является предоставление возможности описания отношений между заданными пользователем классами, которые будут основываться на отношениях между таблицами в базе данных.\n",
        "\n",
        "В **SQLAlchemy** такая связь называется «отображением», что соответствует широко известному шаблону проектирования с названием «DataMapper»"
      ]
    },
    {
      "cell_type": "markdown",
      "metadata": {
        "id": "6c5sZ6H_sQp0"
      },
      "source": [
        "## Классическое представление классов таблиц"
      ]
    },
    {
      "cell_type": "markdown",
      "metadata": {
        "id": "KP9i3rXYsYKX"
      },
      "source": [
        "Объект класса `sqlalchemy.orm.mapper.Mapper` связывает колонки из схемы таблицы и атрибуты Python класса."
      ]
    },
    {
      "cell_type": "code",
      "metadata": {
        "id": "zbSSgbIc2_Lv"
      },
      "source": [
        "from sqlalchemy import Table, MetaData, Column, Integer, String, ForeignKey\n",
        "from sqlalchemy.orm import mapper, relationship\n",
        "\n",
        "metadata = MetaData()\n",
        "\n",
        "user = Table('user', metadata,\n",
        "             Column('id', Integer, primary_key=True),\n",
        "             Column('name', String(50)),\n",
        "             Column('fullname', String(50)),\n",
        "             Column('password', String(12))\n",
        "             )\n",
        "\n",
        "\n",
        "address = Table('address', metadata,\n",
        "                Column('id', Integer, primary_key=True),\n",
        "                Column('user_id', Integer, ForeignKey('user.id')),\n",
        "                Column('email_address', String(50))\n",
        "                )\n",
        "\n",
        "\n",
        "class User(object):\n",
        "    pass\n",
        "\n",
        "\n",
        "class Address(object):\n",
        "    pass\n",
        "\n",
        "print(dir(User))\n",
        "\n",
        "mapper(\n",
        "    User, user,\n",
        "    properties={\n",
        "        'addresses': relationship(Address, backref='user',\n",
        "                                  order_by=address.c.id)\n",
        "    })\n",
        "\n",
        "print(dir(User))\n",
        "\n",
        "mapper(Address, address)"
      ],
      "execution_count": null,
      "outputs": []
    },
    {
      "cell_type": "markdown",
      "metadata": {
        "id": "BYg54dxDshzM"
      },
      "source": [
        "## Декларативное представление классов таблиц"
      ]
    },
    {
      "cell_type": "markdown",
      "metadata": {
        "id": "gz5c6LBSslyA"
      },
      "source": [
        "Каждый класс, представляющий таблицу в БД, должен наследоваться от базового класса который создается при помощи функции `sqlalchemy.ext.declarative.declarative_base().`"
      ]
    },
    {
      "cell_type": "code",
      "metadata": {
        "id": "1FybWPQVqHfp"
      },
      "source": [
        "from sqlalchemy.ext.declarative import declarative_base\n",
        "Base = declarative_base()\n"
      ],
      "execution_count": null,
      "outputs": []
    },
    {
      "cell_type": "code",
      "metadata": {
        "id": "g3rcxgKuJJTm"
      },
      "source": [
        "from sqlalchemy import Column, Integer, String\n",
        "\n",
        "class User(Base):\n",
        "     __tablename__ = 'user'\n",
        "\n",
        "     id = Column(Integer, primary_key=True)\n",
        "     name = Column(String)\n",
        "     fullname = Column(String)\n",
        "\n",
        "     def __repr__(self):\n",
        "         return \"<User(%r, %r)>\" % (\n",
        "                 self.name, self.fullname\n",
        "             )"
      ],
      "execution_count": null,
      "outputs": []
    },
    {
      "cell_type": "markdown",
      "metadata": {
        "id": "h-_3zplBs6rY"
      },
      "source": [
        "## Схема таблицы"
      ]
    },
    {
      "cell_type": "markdown",
      "metadata": {
        "id": "-EeEeeYss9hH"
      },
      "source": [
        "Для каждого класса унаследованного от базового автоматически создается схема таблицы (объект класса sqlalchemy.schema.Table) и привязывается к нему через атрибут` __table__.`"
      ]
    },
    {
      "cell_type": "code",
      "metadata": {
        "id": "yxqs2RUps4Nl"
      },
      "source": [
        "User.__table__"
      ],
      "execution_count": null,
      "outputs": []
    },
    {
      "cell_type": "markdown",
      "metadata": {
        "id": "PfyVBINXtDN5"
      },
      "source": [
        "## MetaData"
      ]
    },
    {
      "cell_type": "markdown",
      "metadata": {
        "id": "nWgQ5QtltGbF"
      },
      "source": [
        "Любой класс таблицы автоматически ассоциируется с объектом sqlalchemy.schema.Table, который автоматически добавляется в список `sqlalchemy.schema.MetaData. `\n",
        "\n",
        "Базовый класс `Base`, созданный при помощи функции `sqlalchemy.ext.declarative.declarative_base()`, является более высокоуровневой абстракцией над `sqlalchemy.schema.MetaData`, которая позволяет описывать таблицы декларативным способом. Таким образом все классы-таблицы имеют свою схему, которая хранится в атрибуте metadata базового класса Base:"
      ]
    },
    {
      "cell_type": "code",
      "metadata": {
        "id": "S8MymSzEs4gm"
      },
      "source": [
        "Base.metadata"
      ],
      "execution_count": null,
      "outputs": []
    },
    {
      "cell_type": "code",
      "metadata": {
        "id": "279Z_l_stBID"
      },
      "source": [
        "Base.metadata.tables.items()"
      ],
      "execution_count": null,
      "outputs": []
    },
    {
      "cell_type": "markdown",
      "metadata": {
        "id": "qhfMiKdYtVbR"
      },
      "source": [
        "Благодаря тому что Base содержит в себе объект `sqlalchemy.schema.MetaData`, вы можете пользоваться всеми его возможностями."
      ]
    },
    {
      "cell_type": "code",
      "metadata": {
        "id": "iqj_S0NdtBao"
      },
      "source": [
        "from sqlalchemy import create_engine\n",
        "engine = create_engine('sqlite://')\n",
        "Base.metadata.create_all(engine)"
      ],
      "execution_count": null,
      "outputs": []
    },
    {
      "cell_type": "markdown",
      "metadata": {
        "id": "YpRExr-Btfla"
      },
      "source": [
        "## Mapper"
      ]
    },
    {
      "cell_type": "markdown",
      "metadata": {
        "id": "5Xv05ph0tlPQ"
      },
      "source": [
        "Объект класса `sqlalchemy.orm.mapper.Mapper` связывает колонки из схемы таблицы и атрибуты из класса таблицы унаследованного от Base."
      ]
    },
    {
      "cell_type": "code",
      "metadata": {
        "id": "REk0CCQftBd-"
      },
      "source": [
        "from sqlalchemy import Column, ForeignKey, Integer, String\n",
        "from sqlalchemy.ext.declarative import declarative_base\n",
        "from sqlalchemy.orm import relationship\n",
        "\n",
        "Base = declarative_base()\n",
        "\n",
        "\n",
        "class User(Base):\n",
        "    __tablename__ = 'user'\n",
        "\n",
        "    id = Column(Integer, primary_key=True)\n",
        "    name = Column(String)\n",
        "    fullname = Column(String)\n",
        "    password = Column('password', String)\n",
        "\n",
        "    addresses = relationship(\"Address\", backref=\"user\",\n",
        "                             order_by=\"Address.id\")\n",
        "\n",
        "\n",
        "class Address(Base):\n",
        "    __tablename__ = 'address'\n",
        "\n",
        "    id = Column(Integer, primary_key=True)\n",
        "    user_id = Column(ForeignKey('user.id'))\n",
        "    email_address = Column(String)\n",
        "\n",
        "address1 = Address(email_address=\"vas@example.com\")\n",
        "address2 = Address(email_address=\"vas2@example.com\")\n",
        "address3 = Address(email_address=\"vasya@example.com\")\n",
        "\n",
        "print(\"Mapper relationship: \" + str(User.__mapper__.relationships))\n",
        "print(\"Mapper columns: \" + str(User.__mapper__.c.items()))\n",
        "\n",
        "user1 = User(name=\"Вася\")\n",
        "user1.addresses = [address1, address2, address3]\n",
        "print(\"User1 columns: \" + str(user1.__table__.c.items()))\n",
        "print(address1.user.name)"
      ],
      "execution_count": null,
      "outputs": []
    },
    {
      "cell_type": "code",
      "metadata": {
        "id": "FKNgvGgtxp-q"
      },
      "source": [
        "engine = create_engine('sqlite://')\n",
        "Base.metadata.create_all(engine)"
      ],
      "execution_count": null,
      "outputs": []
    },
    {
      "cell_type": "markdown",
      "metadata": {
        "id": "PeJwLX1jtvAZ"
      },
      "source": [
        "## Конструктор класса"
      ]
    },
    {
      "cell_type": "markdown",
      "metadata": {
        "id": "sx-9FTC2tz7t"
      },
      "source": [
        "Декларативно описанный класс таблицы содержит в себе конструктор по умолчанию."
      ]
    },
    {
      "cell_type": "code",
      "metadata": {
        "id": "4Wgm3cA_txFc"
      },
      "source": [
        "ed_user = User(name='ed', fullname='Edward Jones', password = '123456')"
      ],
      "execution_count": null,
      "outputs": []
    },
    {
      "cell_type": "markdown",
      "metadata": {
        "id": "pKMBQVb3t67E"
      },
      "source": [
        "Можно переопределить конструктор вручную\n",
        "\n",
        "```\n",
        "class User(Base):\n",
        "    __tablename__ = 'user'\n",
        "\n",
        "    def __init__(self, name, fullname):\n",
        "       self.name = name\n",
        "       self.fullname = fullname\n",
        "\n",
        "    id = Column(Integer, primary_key=True)\n",
        "    name = Column(String)\n",
        "    fullname = Column(String)\n",
        "    password = Column(String)\n",
        "\n",
        "    addresses = relationship(\"Address\", backref=\"user\",\n",
        "                             order_by=\"Address.id\")\n",
        "```"
      ]
    },
    {
      "cell_type": "markdown",
      "metadata": {
        "id": "ZGD9H06ZuKGZ"
      },
      "source": [
        "Поле `User.id` является первичным ключом, если его значение не указанно явно или такой id не существует в БД, то объект считается новым. После записи объекта в БД, значение поля id автоматически присваивается."
      ]
    },
    {
      "cell_type": "code",
      "metadata": {
        "id": "NklPYGLptxuI"
      },
      "source": [
        "print(ed_user.name, ed_user.fullname, ed_user.password)"
      ],
      "execution_count": null,
      "outputs": []
    },
    {
      "cell_type": "code",
      "metadata": {
        "id": "QfAErzkutxxV"
      },
      "source": [
        "print(ed_user.id)"
      ],
      "execution_count": null,
      "outputs": []
    },
    {
      "cell_type": "markdown",
      "metadata": {
        "id": "gajlh9mkuW0K"
      },
      "source": [
        "## Сессии"
      ]
    },
    {
      "cell_type": "markdown",
      "metadata": {
        "id": "yuPGEoq7uatn"
      },
      "source": [
        "Сессии являются более абстрактным уровнем над механизмом соединения с СУБД `sqlalchemy.engine.Engine.` Они включают в себя функции хранения состояния объектов таблиц и записи этого состояния, по требованию, в БД.\n",
        "\n",
        "См:\n",
        "\n",
        "http://docs.sqlalchemy.org/en/latest/orm/session_basics.html\n",
        "\n",
        "https://ru.wikibooks.org/wiki/SQLAlchemy/Sessions"
      ]
    },
    {
      "cell_type": "markdown",
      "metadata": {
        "id": "kBZHIYv0umXh"
      },
      "source": [
        "Сессии создаются при помощи экземпляра класса `sqlalchemy.orm.session.Session.`"
      ]
    },
    {
      "cell_type": "code",
      "metadata": {
        "id": "xma3cHkntyGP"
      },
      "source": [
        "from sqlalchemy.orm import Session\n",
        "session = Session(bind=engine)"
      ],
      "execution_count": null,
      "outputs": []
    },
    {
      "cell_type": "code",
      "metadata": {
        "id": "WHUX1MMjtyal"
      },
      "source": [
        "session.add(ed_user)"
      ],
      "execution_count": null,
      "outputs": []
    },
    {
      "cell_type": "code",
      "metadata": {
        "id": "dKuXJcX4w7HS"
      },
      "source": [
        "session.commit()"
      ],
      "execution_count": null,
      "outputs": []
    },
    {
      "cell_type": "markdown",
      "metadata": {
        "id": "dJHUoFYwux8V"
      },
      "source": [
        "Перед выполнением любого запроса из сессии, состояние сессии автоматически переносится в БД. В нашем случае, не сохраненный объект `ed_user` добавляется в БД."
      ]
    },
    {
      "cell_type": "code",
      "metadata": {
        "id": "rW3CjoW3usFC"
      },
      "source": [
        "our_user = session.query(User).filter_by(name='ed').first()"
      ],
      "execution_count": null,
      "outputs": []
    },
    {
      "cell_type": "code",
      "metadata": {
        "id": "lJCIenUqusah"
      },
      "source": [
        "our_user"
      ],
      "execution_count": null,
      "outputs": []
    },
    {
      "cell_type": "code",
      "metadata": {
        "id": "vdP6AB1ltyu-"
      },
      "source": [
        "our_user.id"
      ],
      "execution_count": null,
      "outputs": []
    },
    {
      "cell_type": "code",
      "metadata": {
        "id": "v4BI_ofEs4jw"
      },
      "source": [
        "ed_user.id"
      ],
      "execution_count": null,
      "outputs": []
    },
    {
      "cell_type": "markdown",
      "metadata": {
        "id": "0-aMpjmtx9hd"
      },
      "source": [
        "Что проверяет следующее условие?"
      ]
    },
    {
      "cell_type": "code",
      "metadata": {
        "id": "mt8wMDfss45r"
      },
      "source": [
        "ed_user == our_user is ed_user"
      ],
      "execution_count": null,
      "outputs": []
    },
    {
      "cell_type": "code",
      "metadata": {
        "id": "dN4N6xRSyELU"
      },
      "source": [
        "session.add_all([\n",
        "     User(name='wendy', fullname='Wendy Weathersmith'),\n",
        "     User(name='mary', fullname='Mary Contrary'),\n",
        "     User(name='fred', fullname='Fred Flinstone')\n",
        " ])"
      ],
      "execution_count": null,
      "outputs": []
    },
    {
      "cell_type": "markdown",
      "metadata": {
        "id": "ZKdjasmXyJ8D"
      },
      "source": [
        "Если объект, находящийся в сессии, поменялся, то он помечается как `dirty.` Все измененные объекты в сессии доступны через атрибут `sqlalchemy.orm.session.Session.dirty`"
      ]
    },
    {
      "cell_type": "code",
      "metadata": {
        "id": "8uL4-n9RyEil"
      },
      "source": [
        "ed_user.fullname = 'Ed Jones'"
      ],
      "execution_count": null,
      "outputs": []
    },
    {
      "cell_type": "code",
      "metadata": {
        "id": "BhyQoTC70YPv"
      },
      "source": [
        "session.commit()"
      ],
      "execution_count": null,
      "outputs": []
    },
    {
      "cell_type": "markdown",
      "metadata": {
        "id": "qm0fA9_oyTek"
      },
      "source": [
        ""
      ]
    },
    {
      "cell_type": "code",
      "metadata": {
        "id": "As9YqfWis2qc"
      },
      "source": [
        "for i in session.dirty:\n",
        "    print(i)"
      ],
      "execution_count": null,
      "outputs": []
    },
    {
      "cell_type": "markdown",
      "metadata": {
        "id": "RezV0utkyyyF"
      },
      "source": [
        "Новые объекты, попавшие в сессию после ее сохранения или в новую сессию, доступны через атрибут `sqlalchemy.orm.session.Session.new`"
      ]
    },
    {
      "cell_type": "code",
      "metadata": {
        "id": "nOqnF70FyRsF"
      },
      "source": [
        "session.new"
      ],
      "execution_count": null,
      "outputs": []
    },
    {
      "cell_type": "markdown",
      "metadata": {
        "id": "Jz131v1uy3xh"
      },
      "source": [
        "Метод `sqlalchemy.orm.session.Session.commit()` сохраняет состояние сессии в БД и подтверждает SQL транзакцию, в рамках которой выполнялись все предыдущие запросы."
      ]
    },
    {
      "cell_type": "code",
      "metadata": {
        "id": "dqvhPk2ay6QZ"
      },
      "source": [
        "session.commit()"
      ],
      "execution_count": null,
      "outputs": []
    },
    {
      "cell_type": "code",
      "metadata": {
        "id": "B2HQhLDHy7Ef"
      },
      "source": [
        "ed_user.name"
      ],
      "execution_count": null,
      "outputs": []
    },
    {
      "cell_type": "markdown",
      "metadata": {
        "id": "w1PYP5YxzWyw"
      },
      "source": [
        "## SQL запросы через ORM"
      ]
    },
    {
      "cell_type": "markdown",
      "metadata": {
        "id": "H-M3ShxGzb7_"
      },
      "source": [
        "Операции над атрибутами класса таблицы равносильны операциям над объектом `sqlalchemy.schema.Column.` Поэтому их можно использовать в конструкторе SQL запросов. Результатом выполнения SQL выражения будет список значений записи в БД."
      ]
    },
    {
      "cell_type": "code",
      "metadata": {
        "id": "3DcDrO8azUr-"
      },
      "source": [
        "print(User.name == \"ed\")"
      ],
      "execution_count": null,
      "outputs": []
    },
    {
      "cell_type": "code",
      "metadata": {
        "id": "MdgIVxCIzVDN"
      },
      "source": [
        "from sqlalchemy import select\n",
        "sel = select([User.name, User.fullname]).where(User.name == 'ed').order_by(User.id)"
      ],
      "execution_count": null,
      "outputs": []
    },
    {
      "cell_type": "code",
      "metadata": {
        "id": "ZUXTZkLszVHv"
      },
      "source": [
        "session.connection().execute(sel).fetchall()"
      ],
      "execution_count": null,
      "outputs": []
    },
    {
      "cell_type": "markdown",
      "metadata": {
        "id": "ll0uEb9O0yUy"
      },
      "source": [
        "ORM позволяет конструировать запросы при помощи метода `sqlalchemy.orm.session.Session.query().` Этот метод создает объект класса `sqlalchemy.orm.query.Query`, который является более высокой абстракцией конструктора SQL выражения в SQLAlchemy.\n",
        "\n",
        "ORM, в отличии от стандартного конструктора SQL выражения, позволяет создавать запросы более наглядно и возвращать результат в виде объектов которые привязаны к сессии."
      ]
    },
    {
      "cell_type": "code",
      "metadata": {
        "id": "9IVCRq2q1XGf"
      },
      "source": [
        ""
      ],
      "execution_count": null,
      "outputs": []
    },
    {
      "cell_type": "code",
      "metadata": {
        "id": "p55obPY0yxjA"
      },
      "source": [
        "for name, fullname in session.query(User.name, User.fullname):\n",
        "    print(name, fullname)\n"
      ],
      "execution_count": null,
      "outputs": []
    },
    {
      "cell_type": "markdown",
      "metadata": {
        "id": "c8kliNvI1OQP"
      },
      "source": [
        "Или комбинировать значения полей с объектами."
      ]
    },
    {
      "cell_type": "code",
      "metadata": {
        "id": "1T0uMmIj0kFv"
      },
      "source": [
        "for row in session.query(User, User.name):\n",
        "    print(row.User.name,row.User.fullname, '...',row.name)"
      ],
      "execution_count": null,
      "outputs": []
    },
    {
      "cell_type": "markdown",
      "metadata": {
        "id": "EEDDHhyi173g"
      },
      "source": [
        "## Ограничения и условия"
      ]
    },
    {
      "cell_type": "markdown",
      "metadata": {
        "id": "ynrVINco2AQI"
      },
      "source": [
        "**LIMIT, OFFSET**\n",
        "\n",
        "Выбор конкретной строки запроса делается не средствами языка Python, а на стороне СУБД, за счет конструкции `LIMIT ? OFFSET ?`, что значительно ускоряет выполнение запроса. Для программиста это выглядит прозрачно, как будто он работает с Python списком."
      ]
    },
    {
      "cell_type": "code",
      "metadata": {
        "id": "amMSJ6n91L8o"
      },
      "source": [
        "u = session.query(User).order_by(User.id)[2]\n",
        "print(u.fullname)"
      ],
      "execution_count": null,
      "outputs": []
    },
    {
      "cell_type": "markdown",
      "metadata": {
        "id": "_8hJ3ez52hiO"
      },
      "source": [
        "Аналогично работают и Python срезы."
      ]
    },
    {
      "cell_type": "code",
      "metadata": {
        "id": "7ec69PSH2gVP"
      },
      "source": [
        "for u in session.query(User).order_by(User.id)[:]:\n",
        "    print(u.fullname)"
      ],
      "execution_count": null,
      "outputs": []
    },
    {
      "cell_type": "markdown",
      "metadata": {
        "id": "fK13YQFX2vr0"
      },
      "source": [
        "**WHERE**\n",
        "\n",
        "Условие `WHERE` соответствует методу `sqlalchemy.orm.query.Query.filter_by().`"
      ]
    },
    {
      "cell_type": "code",
      "metadata": {
        "id": "H2jtVhRU1MCP"
      },
      "source": [
        "for name in session.query(User.name).\\\n",
        "                 filter_by(fullname='Edward Jones'):\n",
        "                 print(name)"
      ],
      "execution_count": null,
      "outputs": []
    },
    {
      "cell_type": "markdown",
      "metadata": {
        "id": "1rJslViE2_9G"
      },
      "source": [
        "Или более функциональному методу `sqlalchemy.orm.query.Query.filter()`"
      ]
    },
    {
      "cell_type": "code",
      "metadata": {
        "id": "k1tnUbsM2oM9"
      },
      "source": [
        "for name, in session.query(User.name).\\\n",
        "                 filter(User.fullname == 'Edward Jones'):\n",
        "                 print(name)"
      ],
      "execution_count": null,
      "outputs": []
    },
    {
      "cell_type": "code",
      "metadata": {
        "id": "z1ErmI8a2oSq"
      },
      "source": [
        "from sqlalchemy import or_\n",
        "for name, in session.query(User.name).\\\n",
        "                 filter(or_(User.fullname == 'Edward Jones', User.id < 5)):\n",
        "                 print(name)"
      ],
      "execution_count": null,
      "outputs": []
    },
    {
      "cell_type": "markdown",
      "metadata": {
        "id": "8xf7y1gi3Mj-"
      },
      "source": [
        "Последовательное выполнение методов `sqlalchemy.orm.query.Query.filter()` соединяет условия `WHERE` при помощи оператора `AND`, аналогично конструкции `select().where().`"
      ]
    },
    {
      "cell_type": "code",
      "metadata": {
        "id": "KOhCFKdH2oZf"
      },
      "source": [
        "for user in session.query(User).\\\n",
        "                         filter(User.name == 'ed').\\\n",
        "                         filter(User.fullname == 'Ed Jones'):\n",
        "                         print(user.name)"
      ],
      "execution_count": null,
      "outputs": []
    },
    {
      "cell_type": "markdown",
      "metadata": {
        "id": "vds6-uZS3kZc"
      },
      "source": [
        "## Выполнение SQL выражений"
      ]
    },
    {
      "cell_type": "markdown",
      "metadata": {
        "id": "8Tb5_N3z3oZ3"
      },
      "source": [
        "Сам объект класса `sqlalchemy.orm.query.Query` не выполняет обращений к БД."
      ]
    },
    {
      "cell_type": "code",
      "metadata": {
        "id": "8UyU1A6S3i-F"
      },
      "source": [
        "query = session.query(User).filter_by(fullname='Ed Jones')"
      ],
      "execution_count": null,
      "outputs": []
    },
    {
      "cell_type": "markdown",
      "metadata": {
        "id": "SPV0bMWb320q"
      },
      "source": [
        "Для этого существуют специальные методы этого класса, например :\n",
        "\n",
        "- `sqlalchemy.orm.query.Query.all()`\n",
        "- `sqlalchemy.orm.query.Query.first()` - выполнит запрос и вернет первую строку запроса или None\n",
        "- `sqlalchemy.orm.query.Query.one()` - выполнит запрос, вернет первую строку запроса и проверит что она одна и только одна, иначе вызовет исключение sqlalchemy.orm.exc.NoResultFound.\n"
      ]
    },
    {
      "cell_type": "code",
      "metadata": {
        "id": "vJlnY7gk3q3D"
      },
      "source": [
        "for i in query.all():\n",
        "    print(i.name)"
      ],
      "execution_count": null,
      "outputs": []
    },
    {
      "cell_type": "code",
      "metadata": {
        "id": "_-iyQTtP3rUH"
      },
      "source": [
        "query.first().name"
      ],
      "execution_count": null,
      "outputs": []
    },
    {
      "cell_type": "code",
      "metadata": {
        "id": "RcYpjOyg3jWy"
      },
      "source": [
        "query.one().name"
      ],
      "execution_count": null,
      "outputs": []
    },
    {
      "cell_type": "code",
      "metadata": {
        "id": "6MbQvNI33jvX"
      },
      "source": [
        "query = session.query(User).filter_by(fullname='nonexistent')\n",
        "query.one()"
      ],
      "execution_count": null,
      "outputs": []
    },
    {
      "cell_type": "code",
      "metadata": {
        "id": "Lu7k5Qqw466F"
      },
      "source": [
        "engine.table_names()"
      ],
      "execution_count": null,
      "outputs": []
    },
    {
      "cell_type": "code",
      "metadata": {
        "id": "ytyMqSSM5FDo"
      },
      "source": [
        "Address.__table__.drop(engine)"
      ],
      "execution_count": null,
      "outputs": []
    },
    {
      "cell_type": "code",
      "metadata": {
        "id": "azqkKuGN5Szj"
      },
      "source": [
        "User.__table__.drop(engine)"
      ],
      "execution_count": null,
      "outputs": []
    },
    {
      "cell_type": "code",
      "metadata": {
        "id": "nAelrxgE5ItN"
      },
      "source": [
        "engine.table_names()"
      ],
      "execution_count": null,
      "outputs": []
    },
    {
      "cell_type": "code",
      "metadata": {
        "id": "RB0gL-EA6PF_"
      },
      "source": [
        ""
      ],
      "execution_count": null,
      "outputs": []
    },
    {
      "cell_type": "code",
      "metadata": {
        "id": "-tVn0snE6PMd"
      },
      "source": [
        ""
      ],
      "execution_count": null,
      "outputs": []
    },
    {
      "cell_type": "code",
      "metadata": {
        "id": "P4qk_SSy6PT5"
      },
      "source": [
        ""
      ],
      "execution_count": null,
      "outputs": []
    }
  ]
}
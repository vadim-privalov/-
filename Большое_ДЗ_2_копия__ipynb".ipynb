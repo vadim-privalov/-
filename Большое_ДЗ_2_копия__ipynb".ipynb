{
  "nbformat": 4,
  "nbformat_minor": 0,
  "metadata": {
    "colab": {
      "name": "Большое_ДЗ_2_копия_.ipynb\"",
      "provenance": [],
      "collapsed_sections": [],
      "include_colab_link": true
    },
    "kernelspec": {
      "name": "python3",
      "display_name": "Python 3"
    }
  },
  "cells": [
    {
      "cell_type": "markdown",
      "metadata": {
        "id": "view-in-github",
        "colab_type": "text"
      },
      "source": [
        "<a href=\"https://colab.research.google.com/github/vadim-privalov/-/blob/main/%D0%91%D0%BE%D0%BB%D1%8C%D1%88%D0%BE%D0%B5_%D0%94%D0%97_2_%D0%BA%D0%BE%D0%BF%D0%B8%D1%8F__ipynb%22.ipynb\" target=\"_parent\"><img src=\"https://colab.research.google.com/assets/colab-badge.svg\" alt=\"Open In Colab\"/></a>"
      ]
    },
    {
      "cell_type": "markdown",
      "metadata": {
        "id": "PtRJ8Lka-cuI"
      },
      "source": [
        "<h2 style=\"text-align: center;\"><b>Большое домашнее задание 2. Участие в соревнованиях на Kaggle. Работа с нерепрезентативными данными.\n",
        "</b></h2>\n",
        "\n",
        "ДЗ в колабе: https://colab.research.google.com/drive/18Hi97eESCrXYht-7SIoj_19pwcZhl17Y?usp=sharing\n",
        "\n",
        "В этом домашнем задании нам нужно применить в реальном соревновании накопленные знания по машинному обучению и анализу данных!\n",
        "\n",
        "- Нужно будет провести предобработку [данных с Kaggle](https://www.kaggle.com/sid321axn/thoraric-surgery). Затем нужно будет предсказать колонку DGN (диагноз). Это задача классификации. \n",
        "- Описание датасета (что значит признаки): https://archive.ics.uci.edu/ml/datasets/Thoracic+Surgery+Data \n",
        "- Не забудьте провести анализ данных перед тем, как применять ML-модели! Вам нужно сначала понять, с чем Вы имеете дело, поискать зависимости в данных, понять природу этих зависимостей, и только после этого уже подбирать алгоритмы. Данные с подвохом! Внимательно смотрите на распределения признаков в каждом из классов!\n",
        "- В качестве основы можно использовать наработки с занятий. Необходимо попробовать сделать аугментацию данных, т.к. данных очень мало, для обучения содержательных моделей их не хватит.\n",
        "- Попробуйте kNN, логистическую регрессию, SVM. Поэкспериментируйте с добавлением композитных признаков (например, полиномиальных), выбором ядра (для SVM). Подберите гиперпараметры по кросс-валидации (GridSearchCV или RandomSearchCV, второй вариант предпочтительнее).  \n",
        "- Достичь идеального качества Вам не удастся, да и гнаться за этим не стоит. Гораздо важнее провести вдумчивый анализ и показать, что Вы разобрались в теме.\n",
        "\n",
        "**Правила:**\n",
        "\n",
        "- **Дедлайн один:** 29 января 23:59. Решения, отправленные позже, проверяться не будут, кроме случаев наличия уважительной причины.\n",
        "\n",
        "\n",
        "\n",
        "Решения, размещенные на каких-либо интернет-ресурсах, не принимаются.\n",
        " При написании кода придерживайтесь `pep8` и используйте `type hints`.\n",
        "\n",
        "**После жесткого дедлайна задания не принимаются. Так как дальше будет работа только над проектом**"
      ]
    },
    {
      "cell_type": "code",
      "metadata": {
        "id": "gfXnteaCG0Ag"
      },
      "source": [
        "# Загружаем библиотеки\r\n",
        "import pandas as pd\r\n",
        "import numpy as np\r\n",
        "import matplotlib.pyplot as plt\r\n",
        "import seaborn as sns\r\n",
        "import sklearn\r\n",
        "pd.options.display.max_rows = 10\r\n",
        "from imblearn.under_sampling import TomekLinks\r\n",
        "from sklearn.linear_model import LogisticRegression\r\n",
        "from sklearn.svm import SVC\r\n",
        "from sklearn import tree\r\n",
        "from random import sample\r\n",
        "import warnings\r\n",
        "from imblearn.over_sampling import SMOTE, ADASYN\r\n",
        "warnings.filterwarnings(\"ignore\")"
      ],
      "execution_count": 1,
      "outputs": []
    },
    {
      "cell_type": "code",
      "metadata": {
        "colab": {
          "base_uri": "https://localhost:8080/"
        },
        "id": "-McVXUm2CMy6",
        "outputId": "86067484-3d80-467d-900a-a0b31427d5b3"
      },
      "source": [
        "pip install -U imbalanced-learn"
      ],
      "execution_count": 2,
      "outputs": [
        {
          "output_type": "stream",
          "text": [
            "Requirement already up-to-date: imbalanced-learn in /usr/local/lib/python3.6/dist-packages (0.7.0)\n",
            "Requirement already satisfied, skipping upgrade: scikit-learn>=0.23 in /usr/local/lib/python3.6/dist-packages (from imbalanced-learn) (0.24.1)\n",
            "Requirement already satisfied, skipping upgrade: scipy>=0.19.1 in /usr/local/lib/python3.6/dist-packages (from imbalanced-learn) (1.4.1)\n",
            "Requirement already satisfied, skipping upgrade: numpy>=1.13.3 in /usr/local/lib/python3.6/dist-packages (from imbalanced-learn) (1.19.5)\n",
            "Requirement already satisfied, skipping upgrade: joblib>=0.11 in /usr/local/lib/python3.6/dist-packages (from imbalanced-learn) (1.0.0)\n",
            "Requirement already satisfied, skipping upgrade: threadpoolctl>=2.0.0 in /usr/local/lib/python3.6/dist-packages (from scikit-learn>=0.23->imbalanced-learn) (2.1.0)\n"
          ],
          "name": "stdout"
        }
      ]
    },
    {
      "cell_type": "code",
      "metadata": {
        "colab": {
          "base_uri": "https://localhost:8080/",
          "height": 450
        },
        "id": "osj0jC5e2OP6",
        "outputId": "aa0e70c3-2af2-4a45-ea90-15e2d08e5c1f"
      },
      "source": [
        "# Загружаем датасет с Гитхаб и отобразим его\r\n",
        "df = pd.read_csv('https://raw.githubusercontent.com/vadim-privalov/-/main/ThoraricSurgery.csv',\r\n",
        "                 sep = ',', index_col = 'id')\r\n",
        "df"
      ],
      "execution_count": 3,
      "outputs": [
        {
          "output_type": "execute_result",
          "data": {
            "text/html": [
              "<div>\n",
              "<style scoped>\n",
              "    .dataframe tbody tr th:only-of-type {\n",
              "        vertical-align: middle;\n",
              "    }\n",
              "\n",
              "    .dataframe tbody tr th {\n",
              "        vertical-align: top;\n",
              "    }\n",
              "\n",
              "    .dataframe thead th {\n",
              "        text-align: right;\n",
              "    }\n",
              "</style>\n",
              "<table border=\"1\" class=\"dataframe\">\n",
              "  <thead>\n",
              "    <tr style=\"text-align: right;\">\n",
              "      <th></th>\n",
              "      <th>DGN</th>\n",
              "      <th>PRE4</th>\n",
              "      <th>PRE5</th>\n",
              "      <th>PRE6</th>\n",
              "      <th>PRE7</th>\n",
              "      <th>PRE8</th>\n",
              "      <th>PRE9</th>\n",
              "      <th>PRE10</th>\n",
              "      <th>PRE11</th>\n",
              "      <th>PRE14</th>\n",
              "      <th>PRE17</th>\n",
              "      <th>PRE19</th>\n",
              "      <th>PRE25</th>\n",
              "      <th>PRE30</th>\n",
              "      <th>PRE32</th>\n",
              "      <th>AGE</th>\n",
              "      <th>Risk1Yr</th>\n",
              "    </tr>\n",
              "    <tr>\n",
              "      <th>id</th>\n",
              "      <th></th>\n",
              "      <th></th>\n",
              "      <th></th>\n",
              "      <th></th>\n",
              "      <th></th>\n",
              "      <th></th>\n",
              "      <th></th>\n",
              "      <th></th>\n",
              "      <th></th>\n",
              "      <th></th>\n",
              "      <th></th>\n",
              "      <th></th>\n",
              "      <th></th>\n",
              "      <th></th>\n",
              "      <th></th>\n",
              "      <th></th>\n",
              "      <th></th>\n",
              "    </tr>\n",
              "  </thead>\n",
              "  <tbody>\n",
              "    <tr>\n",
              "      <th>1</th>\n",
              "      <td>DGN2</td>\n",
              "      <td>2.88</td>\n",
              "      <td>2.16</td>\n",
              "      <td>PRZ1</td>\n",
              "      <td>F</td>\n",
              "      <td>F</td>\n",
              "      <td>F</td>\n",
              "      <td>T</td>\n",
              "      <td>T</td>\n",
              "      <td>OC14</td>\n",
              "      <td>F</td>\n",
              "      <td>F</td>\n",
              "      <td>F</td>\n",
              "      <td>T</td>\n",
              "      <td>F</td>\n",
              "      <td>60</td>\n",
              "      <td>F</td>\n",
              "    </tr>\n",
              "    <tr>\n",
              "      <th>2</th>\n",
              "      <td>DGN3</td>\n",
              "      <td>3.40</td>\n",
              "      <td>1.88</td>\n",
              "      <td>PRZ0</td>\n",
              "      <td>F</td>\n",
              "      <td>F</td>\n",
              "      <td>F</td>\n",
              "      <td>F</td>\n",
              "      <td>F</td>\n",
              "      <td>OC12</td>\n",
              "      <td>F</td>\n",
              "      <td>F</td>\n",
              "      <td>F</td>\n",
              "      <td>T</td>\n",
              "      <td>F</td>\n",
              "      <td>51</td>\n",
              "      <td>F</td>\n",
              "    </tr>\n",
              "    <tr>\n",
              "      <th>3</th>\n",
              "      <td>DGN3</td>\n",
              "      <td>2.76</td>\n",
              "      <td>2.08</td>\n",
              "      <td>PRZ1</td>\n",
              "      <td>F</td>\n",
              "      <td>F</td>\n",
              "      <td>F</td>\n",
              "      <td>T</td>\n",
              "      <td>F</td>\n",
              "      <td>OC11</td>\n",
              "      <td>F</td>\n",
              "      <td>F</td>\n",
              "      <td>F</td>\n",
              "      <td>T</td>\n",
              "      <td>F</td>\n",
              "      <td>59</td>\n",
              "      <td>F</td>\n",
              "    </tr>\n",
              "    <tr>\n",
              "      <th>4</th>\n",
              "      <td>DGN3</td>\n",
              "      <td>3.68</td>\n",
              "      <td>3.04</td>\n",
              "      <td>PRZ0</td>\n",
              "      <td>F</td>\n",
              "      <td>F</td>\n",
              "      <td>F</td>\n",
              "      <td>F</td>\n",
              "      <td>F</td>\n",
              "      <td>OC11</td>\n",
              "      <td>F</td>\n",
              "      <td>F</td>\n",
              "      <td>F</td>\n",
              "      <td>F</td>\n",
              "      <td>F</td>\n",
              "      <td>54</td>\n",
              "      <td>F</td>\n",
              "    </tr>\n",
              "    <tr>\n",
              "      <th>5</th>\n",
              "      <td>DGN3</td>\n",
              "      <td>2.44</td>\n",
              "      <td>0.96</td>\n",
              "      <td>PRZ2</td>\n",
              "      <td>F</td>\n",
              "      <td>T</td>\n",
              "      <td>F</td>\n",
              "      <td>T</td>\n",
              "      <td>T</td>\n",
              "      <td>OC11</td>\n",
              "      <td>F</td>\n",
              "      <td>F</td>\n",
              "      <td>F</td>\n",
              "      <td>T</td>\n",
              "      <td>F</td>\n",
              "      <td>73</td>\n",
              "      <td>T</td>\n",
              "    </tr>\n",
              "    <tr>\n",
              "      <th>...</th>\n",
              "      <td>...</td>\n",
              "      <td>...</td>\n",
              "      <td>...</td>\n",
              "      <td>...</td>\n",
              "      <td>...</td>\n",
              "      <td>...</td>\n",
              "      <td>...</td>\n",
              "      <td>...</td>\n",
              "      <td>...</td>\n",
              "      <td>...</td>\n",
              "      <td>...</td>\n",
              "      <td>...</td>\n",
              "      <td>...</td>\n",
              "      <td>...</td>\n",
              "      <td>...</td>\n",
              "      <td>...</td>\n",
              "      <td>...</td>\n",
              "    </tr>\n",
              "    <tr>\n",
              "      <th>466</th>\n",
              "      <td>DGN2</td>\n",
              "      <td>3.88</td>\n",
              "      <td>2.12</td>\n",
              "      <td>PRZ1</td>\n",
              "      <td>F</td>\n",
              "      <td>F</td>\n",
              "      <td>F</td>\n",
              "      <td>T</td>\n",
              "      <td>F</td>\n",
              "      <td>OC13</td>\n",
              "      <td>F</td>\n",
              "      <td>F</td>\n",
              "      <td>F</td>\n",
              "      <td>T</td>\n",
              "      <td>F</td>\n",
              "      <td>63</td>\n",
              "      <td>F</td>\n",
              "    </tr>\n",
              "    <tr>\n",
              "      <th>467</th>\n",
              "      <td>DGN3</td>\n",
              "      <td>3.76</td>\n",
              "      <td>3.12</td>\n",
              "      <td>PRZ0</td>\n",
              "      <td>F</td>\n",
              "      <td>F</td>\n",
              "      <td>F</td>\n",
              "      <td>F</td>\n",
              "      <td>F</td>\n",
              "      <td>OC11</td>\n",
              "      <td>F</td>\n",
              "      <td>F</td>\n",
              "      <td>F</td>\n",
              "      <td>T</td>\n",
              "      <td>F</td>\n",
              "      <td>61</td>\n",
              "      <td>F</td>\n",
              "    </tr>\n",
              "    <tr>\n",
              "      <th>468</th>\n",
              "      <td>DGN3</td>\n",
              "      <td>3.04</td>\n",
              "      <td>2.08</td>\n",
              "      <td>PRZ1</td>\n",
              "      <td>F</td>\n",
              "      <td>F</td>\n",
              "      <td>F</td>\n",
              "      <td>T</td>\n",
              "      <td>F</td>\n",
              "      <td>OC13</td>\n",
              "      <td>F</td>\n",
              "      <td>F</td>\n",
              "      <td>F</td>\n",
              "      <td>F</td>\n",
              "      <td>F</td>\n",
              "      <td>52</td>\n",
              "      <td>F</td>\n",
              "    </tr>\n",
              "    <tr>\n",
              "      <th>469</th>\n",
              "      <td>DGN3</td>\n",
              "      <td>1.96</td>\n",
              "      <td>1.68</td>\n",
              "      <td>PRZ1</td>\n",
              "      <td>F</td>\n",
              "      <td>F</td>\n",
              "      <td>F</td>\n",
              "      <td>T</td>\n",
              "      <td>T</td>\n",
              "      <td>OC12</td>\n",
              "      <td>F</td>\n",
              "      <td>F</td>\n",
              "      <td>F</td>\n",
              "      <td>T</td>\n",
              "      <td>F</td>\n",
              "      <td>79</td>\n",
              "      <td>F</td>\n",
              "    </tr>\n",
              "    <tr>\n",
              "      <th>470</th>\n",
              "      <td>DGN3</td>\n",
              "      <td>4.72</td>\n",
              "      <td>3.56</td>\n",
              "      <td>PRZ0</td>\n",
              "      <td>F</td>\n",
              "      <td>F</td>\n",
              "      <td>F</td>\n",
              "      <td>F</td>\n",
              "      <td>F</td>\n",
              "      <td>OC12</td>\n",
              "      <td>F</td>\n",
              "      <td>F</td>\n",
              "      <td>F</td>\n",
              "      <td>T</td>\n",
              "      <td>F</td>\n",
              "      <td>51</td>\n",
              "      <td>F</td>\n",
              "    </tr>\n",
              "  </tbody>\n",
              "</table>\n",
              "<p>470 rows × 17 columns</p>\n",
              "</div>"
            ],
            "text/plain": [
              "      DGN  PRE4  PRE5  PRE6 PRE7 PRE8  ... PRE19 PRE25 PRE30 PRE32 AGE Risk1Yr\n",
              "id                                     ...                                    \n",
              "1    DGN2  2.88  2.16  PRZ1    F    F  ...     F     F     T     F  60       F\n",
              "2    DGN3  3.40  1.88  PRZ0    F    F  ...     F     F     T     F  51       F\n",
              "3    DGN3  2.76  2.08  PRZ1    F    F  ...     F     F     T     F  59       F\n",
              "4    DGN3  3.68  3.04  PRZ0    F    F  ...     F     F     F     F  54       F\n",
              "5    DGN3  2.44  0.96  PRZ2    F    T  ...     F     F     T     F  73       T\n",
              "..    ...   ...   ...   ...  ...  ...  ...   ...   ...   ...   ...  ..     ...\n",
              "466  DGN2  3.88  2.12  PRZ1    F    F  ...     F     F     T     F  63       F\n",
              "467  DGN3  3.76  3.12  PRZ0    F    F  ...     F     F     T     F  61       F\n",
              "468  DGN3  3.04  2.08  PRZ1    F    F  ...     F     F     F     F  52       F\n",
              "469  DGN3  1.96  1.68  PRZ1    F    F  ...     F     F     T     F  79       F\n",
              "470  DGN3  4.72  3.56  PRZ0    F    F  ...     F     F     T     F  51       F\n",
              "\n",
              "[470 rows x 17 columns]"
            ]
          },
          "metadata": {
            "tags": []
          },
          "execution_count": 3
        }
      ]
    },
    {
      "cell_type": "code",
      "metadata": {
        "colab": {
          "base_uri": "https://localhost:8080/",
          "height": 297
        },
        "id": "CW9mHJIt76yj",
        "outputId": "2aeb6bd1-3903-4124-af5d-58aba0507fda"
      },
      "source": [
        "df.describe() # отображаем статистику по столбцам с цисловыми значениями"
      ],
      "execution_count": 4,
      "outputs": [
        {
          "output_type": "execute_result",
          "data": {
            "text/html": [
              "<div>\n",
              "<style scoped>\n",
              "    .dataframe tbody tr th:only-of-type {\n",
              "        vertical-align: middle;\n",
              "    }\n",
              "\n",
              "    .dataframe tbody tr th {\n",
              "        vertical-align: top;\n",
              "    }\n",
              "\n",
              "    .dataframe thead th {\n",
              "        text-align: right;\n",
              "    }\n",
              "</style>\n",
              "<table border=\"1\" class=\"dataframe\">\n",
              "  <thead>\n",
              "    <tr style=\"text-align: right;\">\n",
              "      <th></th>\n",
              "      <th>PRE4</th>\n",
              "      <th>PRE5</th>\n",
              "      <th>AGE</th>\n",
              "    </tr>\n",
              "  </thead>\n",
              "  <tbody>\n",
              "    <tr>\n",
              "      <th>count</th>\n",
              "      <td>470.000000</td>\n",
              "      <td>470.000000</td>\n",
              "      <td>470.000000</td>\n",
              "    </tr>\n",
              "    <tr>\n",
              "      <th>mean</th>\n",
              "      <td>3.281638</td>\n",
              "      <td>4.568702</td>\n",
              "      <td>62.534043</td>\n",
              "    </tr>\n",
              "    <tr>\n",
              "      <th>std</th>\n",
              "      <td>0.871395</td>\n",
              "      <td>11.767857</td>\n",
              "      <td>8.706902</td>\n",
              "    </tr>\n",
              "    <tr>\n",
              "      <th>min</th>\n",
              "      <td>1.440000</td>\n",
              "      <td>0.960000</td>\n",
              "      <td>21.000000</td>\n",
              "    </tr>\n",
              "    <tr>\n",
              "      <th>25%</th>\n",
              "      <td>2.600000</td>\n",
              "      <td>1.960000</td>\n",
              "      <td>57.000000</td>\n",
              "    </tr>\n",
              "    <tr>\n",
              "      <th>50%</th>\n",
              "      <td>3.160000</td>\n",
              "      <td>2.400000</td>\n",
              "      <td>62.000000</td>\n",
              "    </tr>\n",
              "    <tr>\n",
              "      <th>75%</th>\n",
              "      <td>3.807500</td>\n",
              "      <td>3.080000</td>\n",
              "      <td>69.000000</td>\n",
              "    </tr>\n",
              "    <tr>\n",
              "      <th>max</th>\n",
              "      <td>6.300000</td>\n",
              "      <td>86.300000</td>\n",
              "      <td>87.000000</td>\n",
              "    </tr>\n",
              "  </tbody>\n",
              "</table>\n",
              "</div>"
            ],
            "text/plain": [
              "             PRE4        PRE5         AGE\n",
              "count  470.000000  470.000000  470.000000\n",
              "mean     3.281638    4.568702   62.534043\n",
              "std      0.871395   11.767857    8.706902\n",
              "min      1.440000    0.960000   21.000000\n",
              "25%      2.600000    1.960000   57.000000\n",
              "50%      3.160000    2.400000   62.000000\n",
              "75%      3.807500    3.080000   69.000000\n",
              "max      6.300000   86.300000   87.000000"
            ]
          },
          "metadata": {
            "tags": []
          },
          "execution_count": 4
        }
      ]
    },
    {
      "cell_type": "markdown",
      "metadata": {
        "id": "5BCy8bXnC9Xw"
      },
      "source": [
        "Из полученных данных видим, что возраст пациентов не выбивается запредельно (младенцы и столетние), а так же значения PRE 4 и 5 не имеют непонятного разброса\r\n"
      ]
    },
    {
      "cell_type": "code",
      "metadata": {
        "colab": {
          "base_uri": "https://localhost:8080/",
          "height": 450
        },
        "id": "UyzJ6t5HDfc9",
        "outputId": "b3136a92-75fd-45b1-f2ef-e7f86da83b53"
      },
      "source": [
        "# Переменуем столбцы с данными для понимания входных данных и дальнейшего удобства в работе\r\n",
        "df.rename(columns = {'DGN': 'диагноз', 'PRE4': 'легкие', 'PRE5': 'производительность', 'PRE6': 'состояние', 'PRE7': 'боль',\r\n",
        "          'PRE8': 'кровохаркание', 'PRE9': 'одышка', 'PRE10': 'кашель', 'PRE11': 'слабость', 'PRE14': 'размер', 'PRE17': 'диабет',\r\n",
        "          'PRE19': 'им', 'PRE25': 'артерии', 'PRE30': 'курение', 'PRE32': 'астма', 'AGE': 'возраст', 'Risk1Yr': 'смертность'},\r\n",
        "            inplace=True)\r\n",
        "df"
      ],
      "execution_count": 5,
      "outputs": [
        {
          "output_type": "execute_result",
          "data": {
            "text/html": [
              "<div>\n",
              "<style scoped>\n",
              "    .dataframe tbody tr th:only-of-type {\n",
              "        vertical-align: middle;\n",
              "    }\n",
              "\n",
              "    .dataframe tbody tr th {\n",
              "        vertical-align: top;\n",
              "    }\n",
              "\n",
              "    .dataframe thead th {\n",
              "        text-align: right;\n",
              "    }\n",
              "</style>\n",
              "<table border=\"1\" class=\"dataframe\">\n",
              "  <thead>\n",
              "    <tr style=\"text-align: right;\">\n",
              "      <th></th>\n",
              "      <th>диагноз</th>\n",
              "      <th>легкие</th>\n",
              "      <th>производительность</th>\n",
              "      <th>состояние</th>\n",
              "      <th>боль</th>\n",
              "      <th>кровохаркание</th>\n",
              "      <th>одышка</th>\n",
              "      <th>кашель</th>\n",
              "      <th>слабость</th>\n",
              "      <th>размер</th>\n",
              "      <th>диабет</th>\n",
              "      <th>им</th>\n",
              "      <th>артерии</th>\n",
              "      <th>курение</th>\n",
              "      <th>астма</th>\n",
              "      <th>возраст</th>\n",
              "      <th>смертность</th>\n",
              "    </tr>\n",
              "    <tr>\n",
              "      <th>id</th>\n",
              "      <th></th>\n",
              "      <th></th>\n",
              "      <th></th>\n",
              "      <th></th>\n",
              "      <th></th>\n",
              "      <th></th>\n",
              "      <th></th>\n",
              "      <th></th>\n",
              "      <th></th>\n",
              "      <th></th>\n",
              "      <th></th>\n",
              "      <th></th>\n",
              "      <th></th>\n",
              "      <th></th>\n",
              "      <th></th>\n",
              "      <th></th>\n",
              "      <th></th>\n",
              "    </tr>\n",
              "  </thead>\n",
              "  <tbody>\n",
              "    <tr>\n",
              "      <th>1</th>\n",
              "      <td>DGN2</td>\n",
              "      <td>2.88</td>\n",
              "      <td>2.16</td>\n",
              "      <td>PRZ1</td>\n",
              "      <td>F</td>\n",
              "      <td>F</td>\n",
              "      <td>F</td>\n",
              "      <td>T</td>\n",
              "      <td>T</td>\n",
              "      <td>OC14</td>\n",
              "      <td>F</td>\n",
              "      <td>F</td>\n",
              "      <td>F</td>\n",
              "      <td>T</td>\n",
              "      <td>F</td>\n",
              "      <td>60</td>\n",
              "      <td>F</td>\n",
              "    </tr>\n",
              "    <tr>\n",
              "      <th>2</th>\n",
              "      <td>DGN3</td>\n",
              "      <td>3.40</td>\n",
              "      <td>1.88</td>\n",
              "      <td>PRZ0</td>\n",
              "      <td>F</td>\n",
              "      <td>F</td>\n",
              "      <td>F</td>\n",
              "      <td>F</td>\n",
              "      <td>F</td>\n",
              "      <td>OC12</td>\n",
              "      <td>F</td>\n",
              "      <td>F</td>\n",
              "      <td>F</td>\n",
              "      <td>T</td>\n",
              "      <td>F</td>\n",
              "      <td>51</td>\n",
              "      <td>F</td>\n",
              "    </tr>\n",
              "    <tr>\n",
              "      <th>3</th>\n",
              "      <td>DGN3</td>\n",
              "      <td>2.76</td>\n",
              "      <td>2.08</td>\n",
              "      <td>PRZ1</td>\n",
              "      <td>F</td>\n",
              "      <td>F</td>\n",
              "      <td>F</td>\n",
              "      <td>T</td>\n",
              "      <td>F</td>\n",
              "      <td>OC11</td>\n",
              "      <td>F</td>\n",
              "      <td>F</td>\n",
              "      <td>F</td>\n",
              "      <td>T</td>\n",
              "      <td>F</td>\n",
              "      <td>59</td>\n",
              "      <td>F</td>\n",
              "    </tr>\n",
              "    <tr>\n",
              "      <th>4</th>\n",
              "      <td>DGN3</td>\n",
              "      <td>3.68</td>\n",
              "      <td>3.04</td>\n",
              "      <td>PRZ0</td>\n",
              "      <td>F</td>\n",
              "      <td>F</td>\n",
              "      <td>F</td>\n",
              "      <td>F</td>\n",
              "      <td>F</td>\n",
              "      <td>OC11</td>\n",
              "      <td>F</td>\n",
              "      <td>F</td>\n",
              "      <td>F</td>\n",
              "      <td>F</td>\n",
              "      <td>F</td>\n",
              "      <td>54</td>\n",
              "      <td>F</td>\n",
              "    </tr>\n",
              "    <tr>\n",
              "      <th>5</th>\n",
              "      <td>DGN3</td>\n",
              "      <td>2.44</td>\n",
              "      <td>0.96</td>\n",
              "      <td>PRZ2</td>\n",
              "      <td>F</td>\n",
              "      <td>T</td>\n",
              "      <td>F</td>\n",
              "      <td>T</td>\n",
              "      <td>T</td>\n",
              "      <td>OC11</td>\n",
              "      <td>F</td>\n",
              "      <td>F</td>\n",
              "      <td>F</td>\n",
              "      <td>T</td>\n",
              "      <td>F</td>\n",
              "      <td>73</td>\n",
              "      <td>T</td>\n",
              "    </tr>\n",
              "    <tr>\n",
              "      <th>...</th>\n",
              "      <td>...</td>\n",
              "      <td>...</td>\n",
              "      <td>...</td>\n",
              "      <td>...</td>\n",
              "      <td>...</td>\n",
              "      <td>...</td>\n",
              "      <td>...</td>\n",
              "      <td>...</td>\n",
              "      <td>...</td>\n",
              "      <td>...</td>\n",
              "      <td>...</td>\n",
              "      <td>...</td>\n",
              "      <td>...</td>\n",
              "      <td>...</td>\n",
              "      <td>...</td>\n",
              "      <td>...</td>\n",
              "      <td>...</td>\n",
              "    </tr>\n",
              "    <tr>\n",
              "      <th>466</th>\n",
              "      <td>DGN2</td>\n",
              "      <td>3.88</td>\n",
              "      <td>2.12</td>\n",
              "      <td>PRZ1</td>\n",
              "      <td>F</td>\n",
              "      <td>F</td>\n",
              "      <td>F</td>\n",
              "      <td>T</td>\n",
              "      <td>F</td>\n",
              "      <td>OC13</td>\n",
              "      <td>F</td>\n",
              "      <td>F</td>\n",
              "      <td>F</td>\n",
              "      <td>T</td>\n",
              "      <td>F</td>\n",
              "      <td>63</td>\n",
              "      <td>F</td>\n",
              "    </tr>\n",
              "    <tr>\n",
              "      <th>467</th>\n",
              "      <td>DGN3</td>\n",
              "      <td>3.76</td>\n",
              "      <td>3.12</td>\n",
              "      <td>PRZ0</td>\n",
              "      <td>F</td>\n",
              "      <td>F</td>\n",
              "      <td>F</td>\n",
              "      <td>F</td>\n",
              "      <td>F</td>\n",
              "      <td>OC11</td>\n",
              "      <td>F</td>\n",
              "      <td>F</td>\n",
              "      <td>F</td>\n",
              "      <td>T</td>\n",
              "      <td>F</td>\n",
              "      <td>61</td>\n",
              "      <td>F</td>\n",
              "    </tr>\n",
              "    <tr>\n",
              "      <th>468</th>\n",
              "      <td>DGN3</td>\n",
              "      <td>3.04</td>\n",
              "      <td>2.08</td>\n",
              "      <td>PRZ1</td>\n",
              "      <td>F</td>\n",
              "      <td>F</td>\n",
              "      <td>F</td>\n",
              "      <td>T</td>\n",
              "      <td>F</td>\n",
              "      <td>OC13</td>\n",
              "      <td>F</td>\n",
              "      <td>F</td>\n",
              "      <td>F</td>\n",
              "      <td>F</td>\n",
              "      <td>F</td>\n",
              "      <td>52</td>\n",
              "      <td>F</td>\n",
              "    </tr>\n",
              "    <tr>\n",
              "      <th>469</th>\n",
              "      <td>DGN3</td>\n",
              "      <td>1.96</td>\n",
              "      <td>1.68</td>\n",
              "      <td>PRZ1</td>\n",
              "      <td>F</td>\n",
              "      <td>F</td>\n",
              "      <td>F</td>\n",
              "      <td>T</td>\n",
              "      <td>T</td>\n",
              "      <td>OC12</td>\n",
              "      <td>F</td>\n",
              "      <td>F</td>\n",
              "      <td>F</td>\n",
              "      <td>T</td>\n",
              "      <td>F</td>\n",
              "      <td>79</td>\n",
              "      <td>F</td>\n",
              "    </tr>\n",
              "    <tr>\n",
              "      <th>470</th>\n",
              "      <td>DGN3</td>\n",
              "      <td>4.72</td>\n",
              "      <td>3.56</td>\n",
              "      <td>PRZ0</td>\n",
              "      <td>F</td>\n",
              "      <td>F</td>\n",
              "      <td>F</td>\n",
              "      <td>F</td>\n",
              "      <td>F</td>\n",
              "      <td>OC12</td>\n",
              "      <td>F</td>\n",
              "      <td>F</td>\n",
              "      <td>F</td>\n",
              "      <td>T</td>\n",
              "      <td>F</td>\n",
              "      <td>51</td>\n",
              "      <td>F</td>\n",
              "    </tr>\n",
              "  </tbody>\n",
              "</table>\n",
              "<p>470 rows × 17 columns</p>\n",
              "</div>"
            ],
            "text/plain": [
              "    диагноз  легкие  производительность  ... астма возраст смертность\n",
              "id                                       ...                         \n",
              "1      DGN2    2.88                2.16  ...     F      60          F\n",
              "2      DGN3    3.40                1.88  ...     F      51          F\n",
              "3      DGN3    2.76                2.08  ...     F      59          F\n",
              "4      DGN3    3.68                3.04  ...     F      54          F\n",
              "5      DGN3    2.44                0.96  ...     F      73          T\n",
              "..      ...     ...                 ...  ...   ...     ...        ...\n",
              "466    DGN2    3.88                2.12  ...     F      63          F\n",
              "467    DGN3    3.76                3.12  ...     F      61          F\n",
              "468    DGN3    3.04                2.08  ...     F      52          F\n",
              "469    DGN3    1.96                1.68  ...     F      79          F\n",
              "470    DGN3    4.72                3.56  ...     F      51          F\n",
              "\n",
              "[470 rows x 17 columns]"
            ]
          },
          "metadata": {
            "tags": []
          },
          "execution_count": 5
        }
      ]
    },
    {
      "cell_type": "code",
      "metadata": {
        "colab": {
          "base_uri": "https://localhost:8080/"
        },
        "id": "tEw2Qy2sD1V4",
        "outputId": "5e93985d-5af9-43c6-d7fd-aaee04c293fd"
      },
      "source": [
        "# Зная общее количество строк, проверяем наш df на наличие NaN по каждому столбцу\r\n",
        "df.count(axis=0) "
      ],
      "execution_count": 6,
      "outputs": [
        {
          "output_type": "execute_result",
          "data": {
            "text/plain": [
              "диагноз               470\n",
              "легкие                470\n",
              "производительность    470\n",
              "состояние             470\n",
              "боль                  470\n",
              "                     ... \n",
              "артерии               470\n",
              "курение               470\n",
              "астма                 470\n",
              "возраст               470\n",
              "смертность            470\n",
              "Length: 17, dtype: int64"
            ]
          },
          "metadata": {
            "tags": []
          },
          "execution_count": 6
        }
      ]
    },
    {
      "cell_type": "code",
      "metadata": {
        "colab": {
          "base_uri": "https://localhost:8080/"
        },
        "id": "jpApc9d9EWOv",
        "outputId": "b78c9853-221f-4410-f857-cc5b0ed8f599"
      },
      "source": [
        "# определяем типы данных по столбцам\r\n",
        "df.dtypes "
      ],
      "execution_count": 7,
      "outputs": [
        {
          "output_type": "execute_result",
          "data": {
            "text/plain": [
              "диагноз                object\n",
              "легкие                float64\n",
              "производительность    float64\n",
              "состояние              object\n",
              "боль                   object\n",
              "                       ...   \n",
              "артерии                object\n",
              "курение                object\n",
              "астма                  object\n",
              "возраст                 int64\n",
              "смертность             object\n",
              "Length: 17, dtype: object"
            ]
          },
          "metadata": {
            "tags": []
          },
          "execution_count": 7
        }
      ]
    },
    {
      "cell_type": "markdown",
      "metadata": {
        "id": "ZtaUFsiKE_4X"
      },
      "source": [
        "Как видно из ответа, у нас есть столбцы с \"обьектами\", которые необходимо перевести в цифровые данные. Для этого перемешиваем df для дальнейшей работы с моделями обучения) и вызываем класс предобработки данных"
      ]
    },
    {
      "cell_type": "code",
      "metadata": {
        "id": "x60NvA1QFsyX"
      },
      "source": [
        "# перемешка\r\n",
        "df = df.sample(frac=1).reset_index(drop=True)\r\n"
      ],
      "execution_count": 8,
      "outputs": []
    },
    {
      "cell_type": "code",
      "metadata": {
        "colab": {
          "base_uri": "https://localhost:8080/",
          "height": 204
        },
        "id": "HCAUJ7DVFzBg",
        "outputId": "20599ca8-997e-414f-b704-bfe831ed490e"
      },
      "source": [
        "# Подключаем класс для предобработки данных\r\n",
        "from sklearn import preprocessing\r\n",
        "\r\n",
        "# Напишем функцию, которая принимает на вход DataFrame, кодирует числовыми значениями категориальные признаки\r\n",
        "# и возвращает обновленный DataFrame и сами кодировщики.\r\n",
        "def number_encode_features(init_df):\r\n",
        "    result = init_df.copy() \r\n",
        "    encoders = {}\r\n",
        "    for column in result.columns:\r\n",
        "        if result.dtypes[column] == np.object: # np.object -- строковый тип / если тип столбца - строка, то нужно его закодировать\r\n",
        "            encoders[column] = preprocessing.LabelEncoder() # для колонки column создаем кодировщик\r\n",
        "            result[column] = encoders[column].fit_transform(result[column]) # применяем кодировщик к столбцу и перезаписываем столбец\r\n",
        "    return result, encoders\r\n",
        "\r\n",
        "encoded_data, encoders = number_encode_features(df) \r\n",
        "encoded_data.head()"
      ],
      "execution_count": 9,
      "outputs": [
        {
          "output_type": "execute_result",
          "data": {
            "text/html": [
              "<div>\n",
              "<style scoped>\n",
              "    .dataframe tbody tr th:only-of-type {\n",
              "        vertical-align: middle;\n",
              "    }\n",
              "\n",
              "    .dataframe tbody tr th {\n",
              "        vertical-align: top;\n",
              "    }\n",
              "\n",
              "    .dataframe thead th {\n",
              "        text-align: right;\n",
              "    }\n",
              "</style>\n",
              "<table border=\"1\" class=\"dataframe\">\n",
              "  <thead>\n",
              "    <tr style=\"text-align: right;\">\n",
              "      <th></th>\n",
              "      <th>диагноз</th>\n",
              "      <th>легкие</th>\n",
              "      <th>производительность</th>\n",
              "      <th>состояние</th>\n",
              "      <th>боль</th>\n",
              "      <th>кровохаркание</th>\n",
              "      <th>одышка</th>\n",
              "      <th>кашель</th>\n",
              "      <th>слабость</th>\n",
              "      <th>размер</th>\n",
              "      <th>диабет</th>\n",
              "      <th>им</th>\n",
              "      <th>артерии</th>\n",
              "      <th>курение</th>\n",
              "      <th>астма</th>\n",
              "      <th>возраст</th>\n",
              "      <th>смертность</th>\n",
              "    </tr>\n",
              "  </thead>\n",
              "  <tbody>\n",
              "    <tr>\n",
              "      <th>0</th>\n",
              "      <td>2</td>\n",
              "      <td>3.04</td>\n",
              "      <td>2.16</td>\n",
              "      <td>1</td>\n",
              "      <td>0</td>\n",
              "      <td>0</td>\n",
              "      <td>0</td>\n",
              "      <td>1</td>\n",
              "      <td>0</td>\n",
              "      <td>1</td>\n",
              "      <td>0</td>\n",
              "      <td>0</td>\n",
              "      <td>0</td>\n",
              "      <td>0</td>\n",
              "      <td>0</td>\n",
              "      <td>78</td>\n",
              "      <td>0</td>\n",
              "    </tr>\n",
              "    <tr>\n",
              "      <th>1</th>\n",
              "      <td>1</td>\n",
              "      <td>3.40</td>\n",
              "      <td>2.76</td>\n",
              "      <td>1</td>\n",
              "      <td>0</td>\n",
              "      <td>1</td>\n",
              "      <td>0</td>\n",
              "      <td>1</td>\n",
              "      <td>0</td>\n",
              "      <td>1</td>\n",
              "      <td>0</td>\n",
              "      <td>0</td>\n",
              "      <td>0</td>\n",
              "      <td>1</td>\n",
              "      <td>0</td>\n",
              "      <td>56</td>\n",
              "      <td>0</td>\n",
              "    </tr>\n",
              "    <tr>\n",
              "      <th>2</th>\n",
              "      <td>2</td>\n",
              "      <td>1.46</td>\n",
              "      <td>1.00</td>\n",
              "      <td>1</td>\n",
              "      <td>0</td>\n",
              "      <td>1</td>\n",
              "      <td>0</td>\n",
              "      <td>1</td>\n",
              "      <td>0</td>\n",
              "      <td>0</td>\n",
              "      <td>0</td>\n",
              "      <td>0</td>\n",
              "      <td>0</td>\n",
              "      <td>1</td>\n",
              "      <td>0</td>\n",
              "      <td>68</td>\n",
              "      <td>0</td>\n",
              "    </tr>\n",
              "    <tr>\n",
              "      <th>3</th>\n",
              "      <td>1</td>\n",
              "      <td>2.58</td>\n",
              "      <td>1.64</td>\n",
              "      <td>2</td>\n",
              "      <td>0</td>\n",
              "      <td>1</td>\n",
              "      <td>0</td>\n",
              "      <td>1</td>\n",
              "      <td>1</td>\n",
              "      <td>1</td>\n",
              "      <td>0</td>\n",
              "      <td>0</td>\n",
              "      <td>0</td>\n",
              "      <td>1</td>\n",
              "      <td>0</td>\n",
              "      <td>63</td>\n",
              "      <td>0</td>\n",
              "    </tr>\n",
              "    <tr>\n",
              "      <th>4</th>\n",
              "      <td>2</td>\n",
              "      <td>2.88</td>\n",
              "      <td>2.48</td>\n",
              "      <td>0</td>\n",
              "      <td>0</td>\n",
              "      <td>0</td>\n",
              "      <td>0</td>\n",
              "      <td>0</td>\n",
              "      <td>0</td>\n",
              "      <td>0</td>\n",
              "      <td>0</td>\n",
              "      <td>0</td>\n",
              "      <td>0</td>\n",
              "      <td>1</td>\n",
              "      <td>0</td>\n",
              "      <td>71</td>\n",
              "      <td>0</td>\n",
              "    </tr>\n",
              "  </tbody>\n",
              "</table>\n",
              "</div>"
            ],
            "text/plain": [
              "   диагноз  легкие  производительность  ...  астма  возраст  смертность\n",
              "0        2    3.04                2.16  ...      0       78           0\n",
              "1        1    3.40                2.76  ...      0       56           0\n",
              "2        2    1.46                1.00  ...      0       68           0\n",
              "3        1    2.58                1.64  ...      0       63           0\n",
              "4        2    2.88                2.48  ...      0       71           0\n",
              "\n",
              "[5 rows x 17 columns]"
            ]
          },
          "metadata": {
            "tags": []
          },
          "execution_count": 9
        }
      ]
    },
    {
      "cell_type": "code",
      "metadata": {
        "colab": {
          "base_uri": "https://localhost:8080/"
        },
        "id": "hBI0FaNQGFkI",
        "outputId": "21dc2c3d-bade-42bc-c4cc-e0695306085b"
      },
      "source": [
        "# опять смотрим данные по столбцам, что бы удостовериться в произошедшей предобработке и исключения ошибки в ходе дальнейшей работы\r\n",
        "encoded_data.dtypes"
      ],
      "execution_count": 10,
      "outputs": [
        {
          "output_type": "execute_result",
          "data": {
            "text/plain": [
              "диагноз                 int64\n",
              "легкие                float64\n",
              "производительность    float64\n",
              "состояние               int64\n",
              "боль                    int64\n",
              "                       ...   \n",
              "артерии                 int64\n",
              "курение                 int64\n",
              "астма                   int64\n",
              "возраст                 int64\n",
              "смертность              int64\n",
              "Length: 17, dtype: object"
            ]
          },
          "metadata": {
            "tags": []
          },
          "execution_count": 10
        }
      ]
    },
    {
      "cell_type": "code",
      "metadata": {
        "colab": {
          "base_uri": "https://localhost:8080/",
          "height": 398
        },
        "id": "fTAoH21TGnRP",
        "outputId": "03681c21-0309-455d-84fd-99431766e288"
      },
      "source": [
        "# т.к. мы решаем задачу классификации и предсказываем Диагноз, то определяем \r\n",
        "# количество уникальных значений по классам в столбце Диагноз и отображаем данные графически\r\n",
        "s = encoded_data['диагноз'].value_counts()\r\n",
        "s1 = sum(encoded_data[\"диагноз\"]) / len(encoded_data[\"диагноз\"])\r\n",
        "print(s)\r\n",
        "s.plot(kind='bar')\r\n",
        "plt.show()"
      ],
      "execution_count": 11,
      "outputs": [
        {
          "output_type": "stream",
          "text": [
            "2    349\n",
            "1     52\n",
            "3     47\n",
            "4     15\n",
            "5      4\n",
            "6      2\n",
            "0      1\n",
            "Name: диагноз, dtype: int64\n"
          ],
          "name": "stdout"
        },
        {
          "output_type": "display_data",
          "data": {
            "image/png": "[encoded data removed]",
            "text/plain": [
              "<Figure size 432x288 with 1 Axes>"
            ]
          },
          "metadata": {
            "tags": [],
            "needs_background": "light"
          }
        }
      ]
    },
    {
      "cell_type": "markdown",
      "metadata": {
        "id": "wtyrhTTcHQIZ"
      },
      "source": [
        "Количество наших данныех по наблюдениям и определения диагноза имеют сильный разброс, поэтому надо либо удалять миннимальные наблюдения (но данных и так мало) либо обьединить какие то диагнозы, а то модель будет обучаться только по диагнозу 2 "
      ]
    },
    {
      "cell_type": "code",
      "metadata": {
        "colab": {
          "base_uri": "https://localhost:8080/",
          "height": 204
        },
        "id": "DwaRDcLrH8zu",
        "outputId": "134253d5-d6e6-4d40-a4cf-fbfcb38f69a3"
      },
      "source": [
        "# обьединим дагнозы 0, 5, 6 и 4, обозначив их как диагноз 4\r\n",
        "encoded_data['диагноз'] = np.where(encoded_data['диагноз'].isin([0, 5, 6]), 4, encoded_data['диагноз'])\r\n",
        "encoded_data.head()"
      ],
      "execution_count": 12,
      "outputs": [
        {
          "output_type": "execute_result",
          "data": {
            "text/html": [
              "<div>\n",
              "<style scoped>\n",
              "    .dataframe tbody tr th:only-of-type {\n",
              "        vertical-align: middle;\n",
              "    }\n",
              "\n",
              "    .dataframe tbody tr th {\n",
              "        vertical-align: top;\n",
              "    }\n",
              "\n",
              "    .dataframe thead th {\n",
              "        text-align: right;\n",
              "    }\n",
              "</style>\n",
              "<table border=\"1\" class=\"dataframe\">\n",
              "  <thead>\n",
              "    <tr style=\"text-align: right;\">\n",
              "      <th></th>\n",
              "      <th>диагноз</th>\n",
              "      <th>легкие</th>\n",
              "      <th>производительность</th>\n",
              "      <th>состояние</th>\n",
              "      <th>боль</th>\n",
              "      <th>кровохаркание</th>\n",
              "      <th>одышка</th>\n",
              "      <th>кашель</th>\n",
              "      <th>слабость</th>\n",
              "      <th>размер</th>\n",
              "      <th>диабет</th>\n",
              "      <th>им</th>\n",
              "      <th>артерии</th>\n",
              "      <th>курение</th>\n",
              "      <th>астма</th>\n",
              "      <th>возраст</th>\n",
              "      <th>смертность</th>\n",
              "    </tr>\n",
              "  </thead>\n",
              "  <tbody>\n",
              "    <tr>\n",
              "      <th>0</th>\n",
              "      <td>2</td>\n",
              "      <td>3.04</td>\n",
              "      <td>2.16</td>\n",
              "      <td>1</td>\n",
              "      <td>0</td>\n",
              "      <td>0</td>\n",
              "      <td>0</td>\n",
              "      <td>1</td>\n",
              "      <td>0</td>\n",
              "      <td>1</td>\n",
              "      <td>0</td>\n",
              "      <td>0</td>\n",
              "      <td>0</td>\n",
              "      <td>0</td>\n",
              "      <td>0</td>\n",
              "      <td>78</td>\n",
              "      <td>0</td>\n",
              "    </tr>\n",
              "    <tr>\n",
              "      <th>1</th>\n",
              "      <td>1</td>\n",
              "      <td>3.40</td>\n",
              "      <td>2.76</td>\n",
              "      <td>1</td>\n",
              "      <td>0</td>\n",
              "      <td>1</td>\n",
              "      <td>0</td>\n",
              "      <td>1</td>\n",
              "      <td>0</td>\n",
              "      <td>1</td>\n",
              "      <td>0</td>\n",
              "      <td>0</td>\n",
              "      <td>0</td>\n",
              "      <td>1</td>\n",
              "      <td>0</td>\n",
              "      <td>56</td>\n",
              "      <td>0</td>\n",
              "    </tr>\n",
              "    <tr>\n",
              "      <th>2</th>\n",
              "      <td>2</td>\n",
              "      <td>1.46</td>\n",
              "      <td>1.00</td>\n",
              "      <td>1</td>\n",
              "      <td>0</td>\n",
              "      <td>1</td>\n",
              "      <td>0</td>\n",
              "      <td>1</td>\n",
              "      <td>0</td>\n",
              "      <td>0</td>\n",
              "      <td>0</td>\n",
              "      <td>0</td>\n",
              "      <td>0</td>\n",
              "      <td>1</td>\n",
              "      <td>0</td>\n",
              "      <td>68</td>\n",
              "      <td>0</td>\n",
              "    </tr>\n",
              "    <tr>\n",
              "      <th>3</th>\n",
              "      <td>1</td>\n",
              "      <td>2.58</td>\n",
              "      <td>1.64</td>\n",
              "      <td>2</td>\n",
              "      <td>0</td>\n",
              "      <td>1</td>\n",
              "      <td>0</td>\n",
              "      <td>1</td>\n",
              "      <td>1</td>\n",
              "      <td>1</td>\n",
              "      <td>0</td>\n",
              "      <td>0</td>\n",
              "      <td>0</td>\n",
              "      <td>1</td>\n",
              "      <td>0</td>\n",
              "      <td>63</td>\n",
              "      <td>0</td>\n",
              "    </tr>\n",
              "    <tr>\n",
              "      <th>4</th>\n",
              "      <td>2</td>\n",
              "      <td>2.88</td>\n",
              "      <td>2.48</td>\n",
              "      <td>0</td>\n",
              "      <td>0</td>\n",
              "      <td>0</td>\n",
              "      <td>0</td>\n",
              "      <td>0</td>\n",
              "      <td>0</td>\n",
              "      <td>0</td>\n",
              "      <td>0</td>\n",
              "      <td>0</td>\n",
              "      <td>0</td>\n",
              "      <td>1</td>\n",
              "      <td>0</td>\n",
              "      <td>71</td>\n",
              "      <td>0</td>\n",
              "    </tr>\n",
              "  </tbody>\n",
              "</table>\n",
              "</div>"
            ],
            "text/plain": [
              "   диагноз  легкие  производительность  ...  астма  возраст  смертность\n",
              "0        2    3.04                2.16  ...      0       78           0\n",
              "1        1    3.40                2.76  ...      0       56           0\n",
              "2        2    1.46                1.00  ...      0       68           0\n",
              "3        1    2.58                1.64  ...      0       63           0\n",
              "4        2    2.88                2.48  ...      0       71           0\n",
              "\n",
              "[5 rows x 17 columns]"
            ]
          },
          "metadata": {
            "tags": []
          },
          "execution_count": 12
        }
      ]
    },
    {
      "cell_type": "code",
      "metadata": {
        "colab": {
          "base_uri": "https://localhost:8080/",
          "height": 347
        },
        "id": "bIL82icVIQBW",
        "outputId": "6f368cce-a70e-40f0-f046-220a25bb359d"
      },
      "source": [
        "# смотрим, что получилось после обьединения\r\n",
        "s = encoded_data['диагноз'].value_counts()\r\n",
        "s1 = sum(encoded_data[\"диагноз\"]) / len(encoded_data[\"диагноз\"])\r\n",
        "print(s)\r\n",
        "s.plot(kind='bar')\r\n",
        "plt.show()"
      ],
      "execution_count": 13,
      "outputs": [
        {
          "output_type": "stream",
          "text": [
            "2    349\n",
            "1     52\n",
            "3     47\n",
            "4     22\n",
            "Name: диагноз, dtype: int64\n"
          ],
          "name": "stdout"
        },
        {
          "output_type": "display_data",
          "data": {
            "image/png": "[encoded data removed]",
            "text/plain": [
              "<Figure size 432x288 with 1 Axes>"
            ]
          },
          "metadata": {
            "tags": [],
            "needs_background": "light"
          }
        }
      ]
    },
    {
      "cell_type": "markdown",
      "metadata": {
        "id": "BdYivyqvImxn"
      },
      "source": [
        "Получились не такие огромные (в сотни раз) разбросы по наблюдениям"
      ]
    },
    {
      "cell_type": "code",
      "metadata": {
        "colab": {
          "base_uri": "https://localhost:8080/",
          "height": 419
        },
        "id": "5AByJfQBIwIn",
        "outputId": "94ce1395-66ce-468e-f29a-565a9097590c"
      },
      "source": [
        "# выделяем целевую переменную и удаляем ее из нашего df\r\n",
        "y = np.array(encoded_data['диагноз'])\r\n",
        "del encoded_data['диагноз']\r\n",
        "encoded_data"
      ],
      "execution_count": 14,
      "outputs": [
        {
          "output_type": "execute_result",
          "data": {
            "text/html": [
              "<div>\n",
              "<style scoped>\n",
              "    .dataframe tbody tr th:only-of-type {\n",
              "        vertical-align: middle;\n",
              "    }\n",
              "\n",
              "    .dataframe tbody tr th {\n",
              "        vertical-align: top;\n",
              "    }\n",
              "\n",
              "    .dataframe thead th {\n",
              "        text-align: right;\n",
              "    }\n",
              "</style>\n",
              "<table border=\"1\" class=\"dataframe\">\n",
              "  <thead>\n",
              "    <tr style=\"text-align: right;\">\n",
              "      <th></th>\n",
              "      <th>легкие</th>\n",
              "      <th>производительность</th>\n",
              "      <th>состояние</th>\n",
              "      <th>боль</th>\n",
              "      <th>кровохаркание</th>\n",
              "      <th>одышка</th>\n",
              "      <th>кашель</th>\n",
              "      <th>слабость</th>\n",
              "      <th>размер</th>\n",
              "      <th>диабет</th>\n",
              "      <th>им</th>\n",
              "      <th>артерии</th>\n",
              "      <th>курение</th>\n",
              "      <th>астма</th>\n",
              "      <th>возраст</th>\n",
              "      <th>смертность</th>\n",
              "    </tr>\n",
              "  </thead>\n",
              "  <tbody>\n",
              "    <tr>\n",
              "      <th>0</th>\n",
              "      <td>3.04</td>\n",
              "      <td>2.16</td>\n",
              "      <td>1</td>\n",
              "      <td>0</td>\n",
              "      <td>0</td>\n",
              "      <td>0</td>\n",
              "      <td>1</td>\n",
              "      <td>0</td>\n",
              "      <td>1</td>\n",
              "      <td>0</td>\n",
              "      <td>0</td>\n",
              "      <td>0</td>\n",
              "      <td>0</td>\n",
              "      <td>0</td>\n",
              "      <td>78</td>\n",
              "      <td>0</td>\n",
              "    </tr>\n",
              "    <tr>\n",
              "      <th>1</th>\n",
              "      <td>3.40</td>\n",
              "      <td>2.76</td>\n",
              "      <td>1</td>\n",
              "      <td>0</td>\n",
              "      <td>1</td>\n",
              "      <td>0</td>\n",
              "      <td>1</td>\n",
              "      <td>0</td>\n",
              "      <td>1</td>\n",
              "      <td>0</td>\n",
              "      <td>0</td>\n",
              "      <td>0</td>\n",
              "      <td>1</td>\n",
              "      <td>0</td>\n",
              "      <td>56</td>\n",
              "      <td>0</td>\n",
              "    </tr>\n",
              "    <tr>\n",
              "      <th>2</th>\n",
              "      <td>1.46</td>\n",
              "      <td>1.00</td>\n",
              "      <td>1</td>\n",
              "      <td>0</td>\n",
              "      <td>1</td>\n",
              "      <td>0</td>\n",
              "      <td>1</td>\n",
              "      <td>0</td>\n",
              "      <td>0</td>\n",
              "      <td>0</td>\n",
              "      <td>0</td>\n",
              "      <td>0</td>\n",
              "      <td>1</td>\n",
              "      <td>0</td>\n",
              "      <td>68</td>\n",
              "      <td>0</td>\n",
              "    </tr>\n",
              "    <tr>\n",
              "      <th>3</th>\n",
              "      <td>2.58</td>\n",
              "      <td>1.64</td>\n",
              "      <td>2</td>\n",
              "      <td>0</td>\n",
              "      <td>1</td>\n",
              "      <td>0</td>\n",
              "      <td>1</td>\n",
              "      <td>1</td>\n",
              "      <td>1</td>\n",
              "      <td>0</td>\n",
              "      <td>0</td>\n",
              "      <td>0</td>\n",
              "      <td>1</td>\n",
              "      <td>0</td>\n",
              "      <td>63</td>\n",
              "      <td>0</td>\n",
              "    </tr>\n",
              "    <tr>\n",
              "      <th>4</th>\n",
              "      <td>2.88</td>\n",
              "      <td>2.48</td>\n",
              "      <td>0</td>\n",
              "      <td>0</td>\n",
              "      <td>0</td>\n",
              "      <td>0</td>\n",
              "      <td>0</td>\n",
              "      <td>0</td>\n",
              "      <td>0</td>\n",
              "      <td>0</td>\n",
              "      <td>0</td>\n",
              "      <td>0</td>\n",
              "      <td>1</td>\n",
              "      <td>0</td>\n",
              "      <td>71</td>\n",
              "      <td>0</td>\n",
              "    </tr>\n",
              "    <tr>\n",
              "      <th>...</th>\n",
              "      <td>...</td>\n",
              "      <td>...</td>\n",
              "      <td>...</td>\n",
              "      <td>...</td>\n",
              "      <td>...</td>\n",
              "      <td>...</td>\n",
              "      <td>...</td>\n",
              "      <td>...</td>\n",
              "      <td>...</td>\n",
              "      <td>...</td>\n",
              "      <td>...</td>\n",
              "      <td>...</td>\n",
              "      <td>...</td>\n",
              "      <td>...</td>\n",
              "      <td>...</td>\n",
              "      <td>...</td>\n",
              "    </tr>\n",
              "    <tr>\n",
              "      <th>465</th>\n",
              "      <td>2.88</td>\n",
              "      <td>2.16</td>\n",
              "      <td>0</td>\n",
              "      <td>0</td>\n",
              "      <td>0</td>\n",
              "      <td>0</td>\n",
              "      <td>0</td>\n",
              "      <td>0</td>\n",
              "      <td>1</td>\n",
              "      <td>0</td>\n",
              "      <td>0</td>\n",
              "      <td>0</td>\n",
              "      <td>1</td>\n",
              "      <td>0</td>\n",
              "      <td>59</td>\n",
              "      <td>0</td>\n",
              "    </tr>\n",
              "    <tr>\n",
              "      <th>466</th>\n",
              "      <td>3.04</td>\n",
              "      <td>2.04</td>\n",
              "      <td>1</td>\n",
              "      <td>0</td>\n",
              "      <td>0</td>\n",
              "      <td>0</td>\n",
              "      <td>1</td>\n",
              "      <td>0</td>\n",
              "      <td>1</td>\n",
              "      <td>0</td>\n",
              "      <td>0</td>\n",
              "      <td>0</td>\n",
              "      <td>1</td>\n",
              "      <td>0</td>\n",
              "      <td>67</td>\n",
              "      <td>0</td>\n",
              "    </tr>\n",
              "    <tr>\n",
              "      <th>467</th>\n",
              "      <td>2.96</td>\n",
              "      <td>1.88</td>\n",
              "      <td>1</td>\n",
              "      <td>0</td>\n",
              "      <td>0</td>\n",
              "      <td>0</td>\n",
              "      <td>1</td>\n",
              "      <td>1</td>\n",
              "      <td>3</td>\n",
              "      <td>0</td>\n",
              "      <td>0</td>\n",
              "      <td>0</td>\n",
              "      <td>1</td>\n",
              "      <td>0</td>\n",
              "      <td>60</td>\n",
              "      <td>0</td>\n",
              "    </tr>\n",
              "    <tr>\n",
              "      <th>468</th>\n",
              "      <td>4.56</td>\n",
              "      <td>72.80</td>\n",
              "      <td>0</td>\n",
              "      <td>1</td>\n",
              "      <td>1</td>\n",
              "      <td>0</td>\n",
              "      <td>1</td>\n",
              "      <td>0</td>\n",
              "      <td>1</td>\n",
              "      <td>0</td>\n",
              "      <td>0</td>\n",
              "      <td>0</td>\n",
              "      <td>1</td>\n",
              "      <td>0</td>\n",
              "      <td>57</td>\n",
              "      <td>0</td>\n",
              "    </tr>\n",
              "    <tr>\n",
              "      <th>469</th>\n",
              "      <td>3.80</td>\n",
              "      <td>3.68</td>\n",
              "      <td>0</td>\n",
              "      <td>0</td>\n",
              "      <td>0</td>\n",
              "      <td>0</td>\n",
              "      <td>0</td>\n",
              "      <td>0</td>\n",
              "      <td>1</td>\n",
              "      <td>0</td>\n",
              "      <td>0</td>\n",
              "      <td>0</td>\n",
              "      <td>0</td>\n",
              "      <td>0</td>\n",
              "      <td>63</td>\n",
              "      <td>0</td>\n",
              "    </tr>\n",
              "  </tbody>\n",
              "</table>\n",
              "<p>470 rows × 16 columns</p>\n",
              "</div>"
            ],
            "text/plain": [
              "     легкие  производительность  состояние  ...  астма  возраст  смертность\n",
              "0      3.04                2.16          1  ...      0       78           0\n",
              "1      3.40                2.76          1  ...      0       56           0\n",
              "2      1.46                1.00          1  ...      0       68           0\n",
              "3      2.58                1.64          2  ...      0       63           0\n",
              "4      2.88                2.48          0  ...      0       71           0\n",
              "..      ...                 ...        ...  ...    ...      ...         ...\n",
              "465    2.88                2.16          0  ...      0       59           0\n",
              "466    3.04                2.04          1  ...      0       67           0\n",
              "467    2.96                1.88          1  ...      0       60           0\n",
              "468    4.56               72.80          0  ...      0       57           0\n",
              "469    3.80                3.68          0  ...      0       63           0\n",
              "\n",
              "[470 rows x 16 columns]"
            ]
          },
          "metadata": {
            "tags": []
          },
          "execution_count": 14
        }
      ]
    },
    {
      "cell_type": "code",
      "metadata": {
        "colab": {
          "base_uri": "https://localhost:8080/",
          "height": 511
        },
        "id": "n-wnoPwjI9zX",
        "outputId": "ab2e54a6-c9d5-48d0-e3b2-b780a6862d9f"
      },
      "source": [
        "# смотрим на балансировку наших данных по столбцам\r\n",
        "fig = plt.figure(figsize=(16,8))\r\n",
        "cols = 5\r\n",
        "\r\n",
        "rows = np.ceil(float(encoded_data.shape[1]) / cols)\r\n",
        "for i, column in enumerate(encoded_data.columns):\r\n",
        "    ax = fig.add_subplot(rows, cols, i + 1)\r\n",
        "    ax.set_title(column)\r\n",
        "    encoded_data[column].hist(axes=ax)\r\n",
        "    plt.xticks(rotation=\"vertical\")\r\n",
        "plt.subplots_adjust(hspace=0.7, wspace=0.2)"
      ],
      "execution_count": 15,
      "outputs": [
        {
          "output_type": "display_data",
          "data": {
            "image/png": "[encoded data removed]",
            "text/plain": [
              "<Figure size 1152x576 with 16 Axes>"
            ]
          },
          "metadata": {
            "tags": [],
            "needs_background": "light"
          }
        }
      ]
    },
    {
      "cell_type": "markdown",
      "metadata": {
        "id": "9ktpZN64JU-m"
      },
      "source": [
        "Данные не сбалансированы, столбцы \"размер, возраст\""
      ]
    },
    {
      "cell_type": "code",
      "metadata": {
        "colab": {
          "base_uri": "https://localhost:8080/",
          "height": 894
        },
        "id": "-940BMwqJg9G",
        "outputId": "e1e99051-ea3e-424a-f572-720efa9818be"
      },
      "source": [
        "# проверяем наши данные на зависимость друг от друга\r\n",
        "plt.subplots(figsize=(15,15))\r\n",
        "encoded_data, encoders = number_encode_features(encoded_data)\r\n",
        "sns.heatmap(encoded_data.corr(), annot = True, fmt='.1g', square=True, cmap= 'coolwarm')\r\n",
        "plt.show()"
      ],
      "execution_count": 16,
      "outputs": [
        {
          "output_type": "display_data",
          "data": {
            "image/png": "[encoded data removed]",
            "text/plain": [
              "<Figure size 1080x1080 with 2 Axes>"
            ]
          },
          "metadata": {
            "tags": [],
            "needs_background": "light"
          }
        }
      ]
    },
    {
      "cell_type": "markdown",
      "metadata": {
        "id": "eHsFRxztJyN3"
      },
      "source": [
        "Единичной связанности нет, но зависимость состояние - кашель и слабость явно выбиваются из общего распределения. Для чистоты предсказывания диагноза можно удалить данные по состоянию"
      ]
    },
    {
      "cell_type": "code",
      "metadata": {
        "id": "hcxe23cmKRzm"
      },
      "source": [
        "encoded_data = encoded_data.drop(['состояние' ], axis = 1)"
      ],
      "execution_count": 17,
      "outputs": []
    },
    {
      "cell_type": "code",
      "metadata": {
        "colab": {
          "base_uri": "https://localhost:8080/"
        },
        "id": "e9R8Q4FyKXNf",
        "outputId": "f2550120-2b22-4959-a782-ffe6c9002255"
      },
      "source": [
        "# Передаем наши данные в массив-матрицу и масштабируем данные\r\n",
        "from sklearn.preprocessing import scale\r\n",
        "X = np.array(encoded_data[encoded_data._get_numeric_data().columns])\r\n",
        "\r\n",
        "X_scaled = scale(np.array(X, dtype='float'), with_std=True, with_mean=True)\r\n",
        "X_scaled"
      ],
      "execution_count": 18,
      "outputs": [
        {
          "output_type": "execute_result",
          "data": {
            "text/plain": [
              "array([[-0.277596  , -0.20490295, -0.26573489, ..., -0.06537205,\n",
              "         1.7781798 , -0.41833001],\n",
              "       [ 0.13597486, -0.15386228, -0.26573489, ..., -0.06537205,\n",
              "        -0.75124366, -0.41833001],\n",
              "       [-2.09271255, -0.30358158, -0.26573489, ..., -0.06537205,\n",
              "         0.62844186, -0.41833001],\n",
              "       ...,\n",
              "       [-0.36950063, -0.22872193, -0.26573489, ..., -0.06537205,\n",
              "        -0.29134848, -0.41833001],\n",
              "       [ 1.46859208,  5.80428533,  3.76314899, ..., -0.06537205,\n",
              "        -0.63626986, -0.41833001],\n",
              "       [ 0.59549804, -0.07559992, -0.26573489, ..., -0.06537205,\n",
              "         0.0535729 , -0.41833001]])"
            ]
          },
          "metadata": {
            "tags": []
          },
          "execution_count": 18
        }
      ]
    },
    {
      "cell_type": "code",
      "metadata": {
        "colab": {
          "base_uri": "https://localhost:8080/"
        },
        "id": "jhaSY8fjK-YW",
        "outputId": "bff01bba-5b9c-44fe-8095-49a8c18e2f79"
      },
      "source": [
        "# Проверим целевую переменную на наличие значения 0\r\n",
        "not_churn_ids = np.argwhere(y == 0).flatten()\r\n",
        "print('Всего не ушедших', len(not_churn_ids))\r\n",
        "not_churn_ids"
      ],
      "execution_count": 19,
      "outputs": [
        {
          "output_type": "stream",
          "text": [
            "Всего не ушедших 0\n"
          ],
          "name": "stdout"
        },
        {
          "output_type": "execute_result",
          "data": {
            "text/plain": [
              "array([], dtype=int64)"
            ]
          },
          "metadata": {
            "tags": []
          },
          "execution_count": 19
        }
      ]
    },
    {
      "cell_type": "markdown",
      "metadata": {
        "id": "dRO6QFtDLi7n"
      },
      "source": [
        "Т.к. значений 0 у нас нет, то и удалять никакие строки не будем"
      ]
    },
    {
      "cell_type": "code",
      "metadata": {
        "colab": {
          "base_uri": "https://localhost:8080/"
        },
        "id": "HkVcecESMCVA",
        "outputId": "aabf391e-8c29-4b26-b3a2-c8d190d86bd8"
      },
      "source": [
        "# для простоты работы перепресвоим массив Х и отобразим итоговые размеры признаков\r\n",
        "X = X_scaled\r\n",
        "X.shape, y.shape"
      ],
      "execution_count": 20,
      "outputs": [
        {
          "output_type": "execute_result",
          "data": {
            "text/plain": [
              "((470, 15), (470,))"
            ]
          },
          "metadata": {
            "tags": []
          },
          "execution_count": 20
        }
      ]
    },
    {
      "cell_type": "code",
      "metadata": {
        "id": "eYPmjbfkMrMP"
      },
      "source": [
        "# Разделим наш массив на тестовую часть и обучаемую\r\n",
        "from sklearn.model_selection import train_test_split\r\n",
        "\r\n",
        "X_train, X_test, y_train, y_test = train_test_split(X, y, test_size=0.20)"
      ],
      "execution_count": 21,
      "outputs": []
    },
    {
      "cell_type": "markdown",
      "metadata": {
        "id": "GwHEwW7CNlw_"
      },
      "source": [
        "Не добавляя ни каких новых признаков попробуем обучить нашу модель"
      ]
    },
    {
      "cell_type": "code",
      "metadata": {
        "colab": {
          "base_uri": "https://localhost:8080/"
        },
        "id": "voYBX0mhNdCA",
        "outputId": "0463971c-1bd1-44f1-abe1-399a7fd2c273"
      },
      "source": [
        "np.array(np.linspace(1, 100, 10), dtype='int')"
      ],
      "execution_count": 22,
      "outputs": [
        {
          "output_type": "execute_result",
          "data": {
            "text/plain": [
              "array([  1,  12,  23,  34,  45,  56,  67,  78,  89, 100])"
            ]
          },
          "metadata": {
            "tags": []
          },
          "execution_count": 22
        }
      ]
    },
    {
      "cell_type": "code",
      "metadata": {
        "colab": {
          "base_uri": "https://localhost:8080/"
        },
        "id": "nJoHcWnINyPu",
        "outputId": "54da0b7f-b00d-4581-a1c3-b2e4224ab6eb"
      },
      "source": [
        "from sklearn.model_selection import GridSearchCV\r\n",
        "from sklearn.neighbors import KNeighborsClassifier\r\n",
        "knn = KNeighborsClassifier()\r\n",
        "\r\n",
        "grid = {'n_neighbors': np.array(np.linspace(1, 100), dtype='int')} \r\n",
        "\r\n",
        "# Создаем объект кросс-валидации\r\n",
        "gs = GridSearchCV(knn, grid, cv=10)\r\n",
        "\r\n",
        "# Обучаем его\r\n",
        "gs.fit(X_train, y_train)"
      ],
      "execution_count": 23,
      "outputs": [
        {
          "output_type": "execute_result",
          "data": {
            "text/plain": [
              "GridSearchCV(cv=10, estimator=KNeighborsClassifier(),\n",
              "             param_grid={'n_neighbors': array([  1,   3,   5,   7,   9,  11,  13,  15,  17,  19,  21,  23,  25,\n",
              "        27,  29,  31,  33,  35,  37,  39,  41,  43,  45,  47,  49,  51,\n",
              "        53,  55,  57,  59,  61,  63,  65,  67,  69,  71,  73,  75,  77,\n",
              "        79,  81,  83,  85,  87,  89,  91,  93,  95,  97, 100])})"
            ]
          },
          "metadata": {
            "tags": []
          },
          "execution_count": 23
        }
      ]
    },
    {
      "cell_type": "code",
      "metadata": {
        "id": "IewH_qoZObiv"
      },
      "source": [
        "# Функция отрисовки графиков\r\n",
        "def grid_plot(x, y, x_label, title, y_label='knn'):\r\n",
        "    plt.figure(figsize=(12, 6))\r\n",
        "    plt.grid(True)\r\n",
        "    plt.plot(x, y, 'go-')\r\n",
        "    plt.xlabel(x_label)\r\n",
        "    plt.ylabel(y_label)\r\n",
        "    plt.title(title)"
      ],
      "execution_count": 24,
      "outputs": []
    },
    {
      "cell_type": "code",
      "metadata": {
        "colab": {
          "base_uri": "https://localhost:8080/",
          "height": 405
        },
        "id": "ZE4vW5XgOiCH",
        "outputId": "1581313b-328b-4f53-806a-b764c47c76d7"
      },
      "source": [
        "grid_plot(grid['n_neighbors'], gs.cv_results_['mean_test_score'], 'n_neighbors', 'KNeighborsClassifier')"
      ],
      "execution_count": 25,
      "outputs": [
        {
          "output_type": "display_data",
          "data": {
            "image/png": "[encoded data removed]",
            "text/plain": [
              "<Figure size 864x432 with 1 Axes>"
            ]
          },
          "metadata": {
            "tags": [],
            "needs_background": "light"
          }
        }
      ]
    },
    {
      "cell_type": "code",
      "metadata": {
        "colab": {
          "base_uri": "https://localhost:8080/"
        },
        "id": "pYeLyaoOOp-f",
        "outputId": "5e035121-4237-486f-d02f-70798ede6141"
      },
      "source": [
        "gs.best_params_, gs.best_score_"
      ],
      "execution_count": 26,
      "outputs": [
        {
          "output_type": "execute_result",
          "data": {
            "text/plain": [
              "({'n_neighbors': 17}, 0.7500711237553344)"
            ]
          },
          "metadata": {
            "tags": []
          },
          "execution_count": 26
        }
      ]
    },
    {
      "cell_type": "code",
      "metadata": {
        "id": "gCTJyDU7Ouy_"
      },
      "source": [
        "knn = KNeighborsClassifier(n_neighbors=7) \r\n",
        "# тренируем knn\r\n",
        "clf_knn = knn.fit(X_train, y_train)\r\n",
        "# вычисляем прогноз\r\n",
        "y_knn = clf_knn.predict(X_test)"
      ],
      "execution_count": 27,
      "outputs": []
    },
    {
      "cell_type": "code",
      "metadata": {
        "colab": {
          "base_uri": "https://localhost:8080/"
        },
        "id": "ukhgyUoPSGnw",
        "outputId": "df9448aa-aeb0-496c-d81a-9e4c6e4196c6"
      },
      "source": [
        "from sklearn import metrics\r\n",
        "print(metrics.classification_report(y_test, y_knn))"
      ],
      "execution_count": 28,
      "outputs": [
        {
          "output_type": "stream",
          "text": [
            "              precision    recall  f1-score   support\n",
            "\n",
            "           1       0.00      0.00      0.00         7\n",
            "           2       0.72      0.99      0.83        67\n",
            "           3       0.00      0.00      0.00        11\n",
            "           4       0.00      0.00      0.00         9\n",
            "\n",
            "    accuracy                           0.70        94\n",
            "   macro avg       0.18      0.25      0.21        94\n",
            "weighted avg       0.51      0.70      0.59        94\n",
            "\n"
          ],
          "name": "stdout"
        }
      ]
    },
    {
      "cell_type": "markdown",
      "metadata": {
        "id": "ejiB3_jMM5Jv"
      },
      "source": [
        "Т.к. данных для корректного обучения очень мало, данные нерепрезентативны, то  введем полиномные признаки и проведем аугументацию (путем добавления данных в меньшие классы)\r\n"
      ]
    },
    {
      "cell_type": "code",
      "metadata": {
        "colab": {
          "base_uri": "https://localhost:8080/"
        },
        "id": "c7luCJXDSaQG",
        "outputId": "878a77c3-aee7-4492-c35b-231f93790a57"
      },
      "source": [
        "from sklearn.preprocessing import PolynomialFeatures\r\n",
        "def create_polinomial(X, degree = 2):\r\n",
        "    return PolynomialFeatures(degree).fit_transform(X)\r\n",
        "X_train = create_polinomial(X_train, 2)\r\n",
        "X_test = create_polinomial(X_test, 2)\r\n",
        "X_train.shape, X_test.shape    "
      ],
      "execution_count": 29,
      "outputs": [
        {
          "output_type": "execute_result",
          "data": {
            "text/plain": [
              "((376, 136), (94, 136))"
            ]
          },
          "metadata": {
            "tags": []
          },
          "execution_count": 29
        }
      ]
    },
    {
      "cell_type": "code",
      "metadata": {
        "colab": {
          "base_uri": "https://localhost:8080/"
        },
        "id": "t1YidYw9TNO-",
        "outputId": "0150426d-62c0-48e0-b90c-49fc110ceec7"
      },
      "source": [
        "def oversample_data(X, y):\r\n",
        "    return ADASYN(sampling_strategy='minority').fit_resample(np.array(X), np.array(y))\r\n",
        "def augment_data(X, y):\r\n",
        "    try:\r\n",
        "        X, y = oversample_data(X, y)\r\n",
        "    except:\r\n",
        "        pass\r\n",
        "    return X, y\r\n",
        "X_train, y_train = augment_data(X_train, y_train)\r\n",
        "X_train.shape, y_train.shape\r\n"
      ],
      "execution_count": 30,
      "outputs": [
        {
          "output_type": "execute_result",
          "data": {
            "text/plain": [
              "((641, 136), (641,))"
            ]
          },
          "metadata": {
            "tags": []
          },
          "execution_count": 30
        }
      ]
    },
    {
      "cell_type": "markdown",
      "metadata": {
        "id": "vB7S8f_zT2Au"
      },
      "source": [
        "Данных стало больше, попробуем еще раз обучить наши модели"
      ]
    },
    {
      "cell_type": "code",
      "metadata": {
        "colab": {
          "base_uri": "https://localhost:8080/"
        },
        "id": "NIvalGjYUQWW",
        "outputId": "ef18b2a4-c827-451b-af5e-4860d92d1f25"
      },
      "source": [
        "np.array(np.linspace(1, 100, 10), dtype='int')"
      ],
      "execution_count": 31,
      "outputs": [
        {
          "output_type": "execute_result",
          "data": {
            "text/plain": [
              "array([  1,  12,  23,  34,  45,  56,  67,  78,  89, 100])"
            ]
          },
          "metadata": {
            "tags": []
          },
          "execution_count": 31
        }
      ]
    },
    {
      "cell_type": "code",
      "metadata": {
        "colab": {
          "base_uri": "https://localhost:8080/"
        },
        "id": "p3vb6YBJUXeE",
        "outputId": "e215fc35-8443-4386-e545-cdf628ff922d"
      },
      "source": [
        "from sklearn.neighbors import KNeighborsClassifier\r\n",
        "knn = KNeighborsClassifier()\r\n",
        "# Зададим сетку - среди каких значений выбирать наилучший параметр.\r\n",
        "grid = {'n_neighbors': np.array(np.linspace(1, 100), dtype='int')} \r\n",
        "\r\n",
        "# Создаем объект кросс-валидации\r\n",
        "gs = GridSearchCV(knn, grid, cv=10)\r\n",
        "\r\n",
        "# Обучаем его\r\n",
        "gs.fit(X_train, y_train)"
      ],
      "execution_count": 32,
      "outputs": [
        {
          "output_type": "execute_result",
          "data": {
            "text/plain": [
              "GridSearchCV(cv=10, estimator=KNeighborsClassifier(),\n",
              "             param_grid={'n_neighbors': array([  1,   3,   5,   7,   9,  11,  13,  15,  17,  19,  21,  23,  25,\n",
              "        27,  29,  31,  33,  35,  37,  39,  41,  43,  45,  47,  49,  51,\n",
              "        53,  55,  57,  59,  61,  63,  65,  67,  69,  71,  73,  75,  77,\n",
              "        79,  81,  83,  85,  87,  89,  91,  93,  95,  97, 100])})"
            ]
          },
          "metadata": {
            "tags": []
          },
          "execution_count": 32
        }
      ]
    },
    {
      "cell_type": "code",
      "metadata": {
        "colab": {
          "base_uri": "https://localhost:8080/",
          "height": 405
        },
        "id": "5IEctLIsUl--",
        "outputId": "b41bf4e8-71d8-496d-d9a9-d3a63ad56127"
      },
      "source": [
        "grid_plot(grid['n_neighbors'], gs.cv_results_['mean_test_score'], 'n_neighbors', 'KNeighborsClassifier')"
      ],
      "execution_count": 33,
      "outputs": [
        {
          "output_type": "display_data",
          "data": {
            "image/png": "[encoded data removed]",
            "text/plain": [
              "<Figure size 864x432 with 1 Axes>"
            ]
          },
          "metadata": {
            "tags": [],
            "needs_background": "light"
          }
        }
      ]
    },
    {
      "cell_type": "code",
      "metadata": {
        "colab": {
          "base_uri": "https://localhost:8080/"
        },
        "id": "mdqP5SBCUo_x",
        "outputId": "5e7c438b-2c17-452e-af36-9e8d0839aa32"
      },
      "source": [
        "gs.best_params_, gs.best_score_"
      ],
      "execution_count": 34,
      "outputs": [
        {
          "output_type": "execute_result",
          "data": {
            "text/plain": [
              "({'n_neighbors': 3}, 0.79875)"
            ]
          },
          "metadata": {
            "tags": []
          },
          "execution_count": 34
        }
      ]
    },
    {
      "cell_type": "code",
      "metadata": {
        "colab": {
          "base_uri": "https://localhost:8080/"
        },
        "id": "xivRikv5Uu1W",
        "outputId": "5afc8698-4e28-4176-a8e1-702e6d5d6132"
      },
      "source": [
        "knn = KNeighborsClassifier(n_neighbors=7) \r\n",
        "# тренируем knn\r\n",
        "clf_knn = knn.fit(X_train, y_train)\r\n",
        "# вычисляем прогноз\r\n",
        "y_knn = clf_knn.predict(X_test)\r\n",
        "# возвращаем метрики\r\n",
        "print(metrics.classification_report(y_test, y_knn))"
      ],
      "execution_count": 35,
      "outputs": [
        {
          "output_type": "stream",
          "text": [
            "              precision    recall  f1-score   support\n",
            "\n",
            "           1       0.00      0.00      0.00         7\n",
            "           2       0.74      0.87      0.80        67\n",
            "           3       0.00      0.00      0.00        11\n",
            "           4       0.08      0.11      0.09         9\n",
            "\n",
            "    accuracy                           0.63        94\n",
            "   macro avg       0.21      0.24      0.22        94\n",
            "weighted avg       0.54      0.63      0.58        94\n",
            "\n"
          ],
          "name": "stdout"
        }
      ]
    },
    {
      "cell_type": "markdown",
      "metadata": {
        "id": "biS1GjmvVLS_"
      },
      "source": [
        "После введения дополнительных искуственных данных, модель стала предсказывать и другие диагнозы"
      ]
    },
    {
      "cell_type": "code",
      "metadata": {
        "id": "yzFqWLigVXqO"
      },
      "source": [
        "# метод опорных векторов\r\n",
        "from sklearn.svm import SVC"
      ],
      "execution_count": 36,
      "outputs": []
    },
    {
      "cell_type": "code",
      "metadata": {
        "colab": {
          "base_uri": "https://localhost:8080/"
        },
        "id": "t5FD7BZeVuzY",
        "outputId": "04438f35-4940-4257-bf1e-701630cd9f01"
      },
      "source": [
        "# вычисляем лучший коэффициент C и \"ядра\"\r\n",
        "alg = SVC()\r\n",
        "\r\n",
        "grid = {'C': np.array(np.linspace(0.001, 10), dtype='float'), # коэффициент С\r\n",
        "        'kernel': ['linear', 'poly', 'rbf', 'sigmoid'], # ядра\r\n",
        "        }\r\n",
        "\r\n",
        "gs = GridSearchCV(alg, grid, verbose=2, n_jobs = -1, scoring = 'f1')\r\n",
        "gs.fit(X_train, y_train)\r\n",
        "gs.best_params_, gs.best_score_"
      ],
      "execution_count": 37,
      "outputs": [
        {
          "output_type": "stream",
          "text": [
            "Fitting 5 folds for each of 200 candidates, totalling 1000 fits\n"
          ],
          "name": "stdout"
        },
        {
          "output_type": "execute_result",
          "data": {
            "text/plain": [
              "({'C': 0.001, 'kernel': 'linear'}, nan)"
            ]
          },
          "metadata": {
            "tags": []
          },
          "execution_count": 37
        }
      ]
    },
    {
      "cell_type": "code",
      "metadata": {
        "colab": {
          "base_uri": "https://localhost:8080/"
        },
        "id": "SNvJt6lNXBuf",
        "outputId": "40126d23-e894-4b94-ef0c-aebde31f910b"
      },
      "source": [
        "alg = SVC(C =  0.001, kernel = 'linear')\r\n",
        "alg.fit(X_train, y_train)\r\n",
        "preds = alg.predict(X_test)\r\n",
        "print(metrics.classification_report(y_test, preds))"
      ],
      "execution_count": 38,
      "outputs": [
        {
          "output_type": "stream",
          "text": [
            "              precision    recall  f1-score   support\n",
            "\n",
            "           1       0.00      0.00      0.00         7\n",
            "           2       0.76      0.84      0.79        67\n",
            "           3       0.00      0.00      0.00        11\n",
            "           4       0.10      0.22      0.14         9\n",
            "\n",
            "    accuracy                           0.62        94\n",
            "   macro avg       0.21      0.26      0.23        94\n",
            "weighted avg       0.55      0.62      0.58        94\n",
            "\n"
          ],
          "name": "stdout"
        }
      ]
    },
    {
      "cell_type": "markdown",
      "metadata": {
        "id": "OG5DPVJAXRlH"
      },
      "source": [
        "Модель чуть подтянула Диагноз 4, но ухудшила Диагноз 2"
      ]
    },
    {
      "cell_type": "code",
      "metadata": {
        "colab": {
          "base_uri": "https://localhost:8080/"
        },
        "id": "lfsTakDsXZUn",
        "outputId": "2afc2b98-e01a-4782-cdf3-57668f325cc6"
      },
      "source": [
        "# логистическая, используем GridSearch для автоматического подбора параметров\r\n",
        "alg = LogisticRegression(class_weight = 'balanced')\r\n",
        "\r\n",
        "grid = {'penalty': ['l1', 'l2', 'elasticnet'],\r\n",
        "        'C': np.array(np.logspace(-3, 2, num = 10), dtype='float')}\r\n",
        "\r\n",
        "gs = GridSearchCV(alg, grid, verbose=2, n_jobs = -1)\r\n",
        "gs.fit(X_train, y_train)\r\n",
        "gs.best_params_, gs.best_score_"
      ],
      "execution_count": 39,
      "outputs": [
        {
          "output_type": "stream",
          "text": [
            "Fitting 5 folds for each of 30 candidates, totalling 150 fits\n"
          ],
          "name": "stdout"
        },
        {
          "output_type": "execute_result",
          "data": {
            "text/plain": [
              "({'C': 100.0, 'penalty': 'l2'}, 0.6695009689922481)"
            ]
          },
          "metadata": {
            "tags": []
          },
          "execution_count": 39
        }
      ]
    },
    {
      "cell_type": "code",
      "metadata": {
        "colab": {
          "base_uri": "https://localhost:8080/"
        },
        "id": "dE5ixwKsXv8n",
        "outputId": "3fc3f70a-dc4d-4c47-d411-9f2449e5023e"
      },
      "source": [
        "logreg = LogisticRegression(penalty='l2', C = 100.0)\r\n",
        "\r\n",
        "logreg.fit(X_train, y_train)\r\n",
        "\r\n",
        "preds = logreg.predict(X_test)\r\n",
        "\r\n",
        "print(metrics.classification_report(y_test, preds))"
      ],
      "execution_count": 40,
      "outputs": [
        {
          "output_type": "stream",
          "text": [
            "              precision    recall  f1-score   support\n",
            "\n",
            "           1       0.12      0.14      0.13         7\n",
            "           2       0.77      0.85      0.81        67\n",
            "           3       0.17      0.09      0.12        11\n",
            "           4       0.17      0.11      0.13         9\n",
            "\n",
            "    accuracy                           0.64        94\n",
            "   macro avg       0.31      0.30      0.30        94\n",
            "weighted avg       0.59      0.64      0.61        94\n",
            "\n"
          ],
          "name": "stdout"
        }
      ]
    },
    {
      "cell_type": "markdown",
      "metadata": {
        "id": "lS3yJIdlYAyv"
      },
      "source": [
        "Логистическая регрессия показала себя лучше других и пусть плохо, но обучилась по всем 4 диагнозам"
      ]
    },
    {
      "cell_type": "markdown",
      "metadata": {
        "id": "gw4LcSc0a8EB"
      },
      "source": [
        "Для логистической регресси попробуем улучшить производительность с подходами OneVSRest / OneVSOne и сравнить с нашим предыдушим обучением"
      ]
    },
    {
      "cell_type": "code",
      "metadata": {
        "id": "m7CxDhTHchD2"
      },
      "source": [
        "from sklearn.multiclass import OneVsRestClassifier, OneVsOneClassifier\r\n",
        "from sklearn.model_selection import cross_val_score\r\n",
        "from sklearn import metrics\r\n",
        "from numpy import mean"
      ],
      "execution_count": 41,
      "outputs": []
    },
    {
      "cell_type": "code",
      "metadata": {
        "colab": {
          "base_uri": "https://localhost:8080/",
          "height": 159
        },
        "id": "yW6cP0jrcvtG",
        "outputId": "811df92c-78e5-4311-b61c-33ffc0f0dff3"
      },
      "source": [
        "names = [\"Logistic\"]\r\n",
        "\r\n",
        "\r\n",
        "classifiers = [LogisticRegression(random_state = 2, solver = 'lbfgs', max_iter = 5000, multi_class = 'auto')]\r\n",
        "\r\n",
        "def train_clfs(classifiers, X, y):\r\n",
        "    scoring = 'balanced_accuracy'\r\n",
        "    \r\n",
        "    scores_multi_val, scores_ovr_val, scores_ovo_val = [], [], []\r\n",
        "    \r\n",
        "    for model in classifiers:\r\n",
        "        \r\n",
        "        score = mean(cross_val_score(model, X, y, cv=5, scoring = scoring))\r\n",
        "        scores_multi_val.append(score)\r\n",
        "        \r\n",
        "        score = mean(cross_val_score(OneVsRestClassifier(model), X, y, cv=5, scoring = scoring))\r\n",
        "        scores_ovr_val.append(score)\r\n",
        "        \r\n",
        "        score = mean(cross_val_score(OneVsOneClassifier(model), X, y, cv=5, scoring = scoring))\r\n",
        "        scores_ovo_val.append(score)\r\n",
        "        \r\n",
        "    scores_val = [scores_multi_val, scores_ovr_val, scores_ovo_val]\r\n",
        "        \r\n",
        "    return scores_val\r\n",
        "\r\n",
        "\r\n",
        "#Обучение модели\r\n",
        "scores_val = train_clfs(classifiers, X, y)\r\n",
        "\r\n",
        "\r\n",
        "#display results\r\n",
        "from IPython.display import display, HTML\r\n",
        "\r\n",
        "print(\"Cross Validation Scores\")\r\n",
        "df_val = pd.DataFrame(scores_val, \r\n",
        "               columns =['LogReg']) \r\n",
        "df_val = df_val.set_index([pd.Index(['Multiclass', 'OneVsRest', 'OneVsOne'])])\r\n",
        "display(df_val)\r\n",
        "\r\n"
      ],
      "execution_count": 42,
      "outputs": [
        {
          "output_type": "stream",
          "text": [
            "Cross Validation Scores\n"
          ],
          "name": "stdout"
        },
        {
          "output_type": "display_data",
          "data": {
            "text/html": [
              "<div>\n",
              "<style scoped>\n",
              "    .dataframe tbody tr th:only-of-type {\n",
              "        vertical-align: middle;\n",
              "    }\n",
              "\n",
              "    .dataframe tbody tr th {\n",
              "        vertical-align: top;\n",
              "    }\n",
              "\n",
              "    .dataframe thead th {\n",
              "        text-align: right;\n",
              "    }\n",
              "</style>\n",
              "<table border=\"1\" class=\"dataframe\">\n",
              "  <thead>\n",
              "    <tr style=\"text-align: right;\">\n",
              "      <th></th>\n",
              "      <th>LogReg</th>\n",
              "    </tr>\n",
              "  </thead>\n",
              "  <tbody>\n",
              "    <tr>\n",
              "      <th>Multiclass</th>\n",
              "      <td>0.252847</td>\n",
              "    </tr>\n",
              "    <tr>\n",
              "      <th>OneVsRest</th>\n",
              "      <td>0.255000</td>\n",
              "    </tr>\n",
              "    <tr>\n",
              "      <th>OneVsOne</th>\n",
              "      <td>0.248561</td>\n",
              "    </tr>\n",
              "  </tbody>\n",
              "</table>\n",
              "</div>"
            ],
            "text/plain": [
              "              LogReg\n",
              "Multiclass  0.252847\n",
              "OneVsRest   0.255000\n",
              "OneVsOne    0.248561"
            ]
          },
          "metadata": {
            "tags": []
          }
        }
      ]
    },
    {
      "cell_type": "markdown",
      "metadata": {
        "id": "fYJmTPfLeLKP"
      },
      "source": [
        "Из-за малого количесва данных, результаты не сильно разняться и все показали очень маленький результат, но тем не менее в нашем случае OneVsRest повел себя лучше других"
      ]
    }
  ]
}
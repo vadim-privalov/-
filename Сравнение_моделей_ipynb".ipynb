{
  "nbformat": 4,
  "nbformat_minor": 0,
  "metadata": {
    "colab": {
      "name": "Сравнение моделей.ipynb\"",
      "provenance": [],
      "collapsed_sections": [],
      "mount_file_id": "1MXJ4A40Yx7MR8VbPrzT1kieTuqDkAsKC",
      "authorship_tag": "ABX9TyPno9pmQ+NX+OOLcPBmQFjR",
      "include_colab_link": true
    },
    "kernelspec": {
      "name": "python3",
      "display_name": "Python 3"
    }
  },
  "cells": [
    {
      "cell_type": "markdown",
      "metadata": {
        "id": "view-in-github",
        "colab_type": "text"
      },
      "source": [
        "<a href=\"https://colab.research.google.com/github/vadim-privalov/-/blob/main/%D0%A1%D1%80%D0%B0%D0%B2%D0%BD%D0%B5%D0%BD%D0%B8%D0%B5_%D0%BC%D0%BE%D0%B4%D0%B5%D0%BB%D0%B5%D0%B9_ipynb%22.ipynb\" target=\"_parent\"><img src=\"https://colab.research.google.com/assets/colab-badge.svg\" alt=\"Open In Colab\"/></a>"
      ]
    },
    {
      "cell_type": "markdown",
      "metadata": {
        "id": "isFI_hehZI9b"
      },
      "source": [
        "**Финальный проект. Решение задачи бинарной классификаци, сравнение классических линейных моделей и простейшей нейросети**"
      ]
    },
    {
      "cell_type": "markdown",
      "metadata": {
        "id": "8tUzvFPMPVbp"
      },
      "source": [
        "Вашему вниманию представлена задача по классификации совершенной транзакции , совершил ли ее сам клиент или его данными воспользовались мошенники.\r\n",
        "В этом наборе данных представлены транзакции, которые произошли за два дня, из которых у нас 492 мошенничества из 284 807 транзакций. Набор данных сильно несбалансирован, на положительный класс (мошенничество) приходится 0,172% всех транзакций.\r\n",
        "\r\n",
        "К сожалению, из-за проблем с конфиденциальностью данные зашифрованны. Характеристики V1, V2,… V28 - это основные компоненты нашего датасета, единственными функциями, которые не были преобразованы, являются «Время» и «Количество». Функция «Время» содержит секунды, прошедшие между каждой транзакцией и первой транзакцией в наборе данных. Функция «Сумма» - это сумма транзакции. Функция «Класс» - это переменная ответа, которая принимает значение 1 в случае мошенничества и 0 в противном случае."
      ]
    },
    {
      "cell_type": "markdown",
      "metadata": {
        "id": "H4y0LkF8aV9b"
      },
      "source": [
        "Т.к. наш датасет большого размера (> 25Мб), то копируем его на Гугл диск, подключаем \"Драйвер\" связи ноутбука и диска и указываем путь к нашим данным"
      ]
    },
    {
      "cell_type": "code",
      "metadata": {
        "colab": {
          "base_uri": "https://localhost:8080/"
        },
        "id": "ifN1xgrcMnr0",
        "outputId": "4751103a-afd3-48c2-cc54-76724fee77b8"
      },
      "source": [
        "from google.colab import drive\r\n",
        "drive.mount('/content/drive')"
      ],
      "execution_count": null,
      "outputs": [
        {
          "output_type": "stream",
          "text": [
            "Mounted at /content/drive\n"
          ],
          "name": "stdout"
        }
      ]
    },
    {
      "cell_type": "code",
      "metadata": {
        "colab": {
          "base_uri": "https://localhost:8080/"
        },
        "id": "yjXHa_6qNYcu",
        "outputId": "7c12e850-9768-4690-e2d7-e5b363310977"
      },
      "source": [
        "\r\n",
        "!ls '/content/drive/MyDrive/creditcard.csv'"
      ],
      "execution_count": null,
      "outputs": [
        {
          "output_type": "stream",
          "text": [
            "/content/drive/MyDrive/creditcard.csv\n"
          ],
          "name": "stdout"
        }
      ]
    },
    {
      "cell_type": "markdown",
      "metadata": {
        "id": "CXxmyxUbaukL"
      },
      "source": [
        "Импортируем необходимые нам для работы библиотеки"
      ]
    },
    {
      "cell_type": "code",
      "metadata": {
        "id": "unoQWirkPxZU",
        "colab": {
          "base_uri": "https://localhost:8080/"
        },
        "outputId": "eb09bd81-e80c-4104-9c4e-4fddf432cd0e"
      },
      "source": [
        "import pandas as pd\r\n",
        "import numpy as np\r\n",
        "import matplotlib.pyplot as plt\r\n",
        "import seaborn as sns\r\n",
        "import sklearn\r\n",
        "import os\r\n",
        "import warnings\r\n",
        "pd.options.display.max_rows = 10\r\n",
        "from imblearn.under_sampling import TomekLinks\r\n",
        "from sklearn.neighbors import KNeighborsClassifier\r\n",
        "from sklearn.linear_model import LogisticRegression\r\n",
        "from sklearn import tree\r\n",
        "from sklearn.ensemble import RandomForestClassifier\r\n",
        "from random import sample\r\n",
        "from sklearn.model_selection import cross_val_score, train_test_split\r\n",
        "from  sklearn.feature_extraction.text import CountVectorizer\r\n",
        "warnings.filterwarnings(\"ignore\")"
      ],
      "execution_count": null,
      "outputs": [
        {
          "output_type": "stream",
          "text": [
            "/usr/local/lib/python3.7/dist-packages/sklearn/externals/six.py:31: FutureWarning: The module is deprecated in version 0.21 and will be removed in version 0.23 since we've dropped support for Python 2.7. Please rely on the official version of six (https://pypi.org/project/six/).\n",
            "  \"(https://pypi.org/project/six/).\", FutureWarning)\n",
            "/usr/local/lib/python3.7/dist-packages/sklearn/utils/deprecation.py:144: FutureWarning: The sklearn.neighbors.base module is  deprecated in version 0.22 and will be removed in version 0.24. The corresponding classes / functions should instead be imported from sklearn.neighbors. Anything that cannot be imported from sklearn.neighbors is now part of the private API.\n",
            "  warnings.warn(message, FutureWarning)\n"
          ],
          "name": "stderr"
        }
      ]
    },
    {
      "cell_type": "markdown",
      "metadata": {
        "id": "oQzm2xUAa640"
      },
      "source": [
        "Загружаем наш датафрейм и открываем его"
      ]
    },
    {
      "cell_type": "code",
      "metadata": {
        "id": "6v1ZKicxQE_2",
        "colab": {
          "base_uri": "https://localhost:8080/",
          "height": 427
        },
        "outputId": "ee490fad-8924-449a-f795-141ed42225ff"
      },
      "source": [
        "df = pd.read_csv(filepath_or_buffer = \"/content/drive/MyDrive/creditcard.csv\",\r\n",
        "                           sep = ',')\r\n",
        "df"
      ],
      "execution_count": null,
      "outputs": [
        {
          "output_type": "execute_result",
          "data": {
            "text/html": [
              "<div>\n",
              "<style scoped>\n",
              "    .dataframe tbody tr th:only-of-type {\n",
              "        vertical-align: middle;\n",
              "    }\n",
              "\n",
              "    .dataframe tbody tr th {\n",
              "        vertical-align: top;\n",
              "    }\n",
              "\n",
              "    .dataframe thead th {\n",
              "        text-align: right;\n",
              "    }\n",
              "</style>\n",
              "<table border=\"1\" class=\"dataframe\">\n",
              "  <thead>\n",
              "    <tr style=\"text-align: right;\">\n",
              "      <th></th>\n",
              "      <th>Time</th>\n",
              "      <th>V1</th>\n",
              "      <th>V2</th>\n",
              "      <th>V3</th>\n",
              "      <th>V4</th>\n",
              "      <th>V5</th>\n",
              "      <th>V6</th>\n",
              "      <th>V7</th>\n",
              "      <th>V8</th>\n",
              "      <th>V9</th>\n",
              "      <th>V10</th>\n",
              "      <th>V11</th>\n",
              "      <th>V12</th>\n",
              "      <th>V13</th>\n",
              "      <th>V14</th>\n",
              "      <th>V15</th>\n",
              "      <th>V16</th>\n",
              "      <th>V17</th>\n",
              "      <th>V18</th>\n",
              "      <th>V19</th>\n",
              "      <th>V20</th>\n",
              "      <th>V21</th>\n",
              "      <th>V22</th>\n",
              "      <th>V23</th>\n",
              "      <th>V24</th>\n",
              "      <th>V25</th>\n",
              "      <th>V26</th>\n",
              "      <th>V27</th>\n",
              "      <th>V28</th>\n",
              "      <th>Amount</th>\n",
              "      <th>Class</th>\n",
              "    </tr>\n",
              "  </thead>\n",
              "  <tbody>\n",
              "    <tr>\n",
              "      <th>0</th>\n",
              "      <td>0.0</td>\n",
              "      <td>-1.359807</td>\n",
              "      <td>-0.072781</td>\n",
              "      <td>2.536347</td>\n",
              "      <td>1.378155</td>\n",
              "      <td>-0.338321</td>\n",
              "      <td>0.462388</td>\n",
              "      <td>0.239599</td>\n",
              "      <td>0.098698</td>\n",
              "      <td>0.363787</td>\n",
              "      <td>0.090794</td>\n",
              "      <td>-0.551600</td>\n",
              "      <td>-0.617801</td>\n",
              "      <td>-0.991390</td>\n",
              "      <td>-0.311169</td>\n",
              "      <td>1.468177</td>\n",
              "      <td>-0.470401</td>\n",
              "      <td>0.207971</td>\n",
              "      <td>0.025791</td>\n",
              "      <td>0.403993</td>\n",
              "      <td>0.251412</td>\n",
              "      <td>-0.018307</td>\n",
              "      <td>0.277838</td>\n",
              "      <td>-0.110474</td>\n",
              "      <td>0.066928</td>\n",
              "      <td>0.128539</td>\n",
              "      <td>-0.189115</td>\n",
              "      <td>0.133558</td>\n",
              "      <td>-0.021053</td>\n",
              "      <td>149.62</td>\n",
              "      <td>0</td>\n",
              "    </tr>\n",
              "    <tr>\n",
              "      <th>1</th>\n",
              "      <td>0.0</td>\n",
              "      <td>1.191857</td>\n",
              "      <td>0.266151</td>\n",
              "      <td>0.166480</td>\n",
              "      <td>0.448154</td>\n",
              "      <td>0.060018</td>\n",
              "      <td>-0.082361</td>\n",
              "      <td>-0.078803</td>\n",
              "      <td>0.085102</td>\n",
              "      <td>-0.255425</td>\n",
              "      <td>-0.166974</td>\n",
              "      <td>1.612727</td>\n",
              "      <td>1.065235</td>\n",
              "      <td>0.489095</td>\n",
              "      <td>-0.143772</td>\n",
              "      <td>0.635558</td>\n",
              "      <td>0.463917</td>\n",
              "      <td>-0.114805</td>\n",
              "      <td>-0.183361</td>\n",
              "      <td>-0.145783</td>\n",
              "      <td>-0.069083</td>\n",
              "      <td>-0.225775</td>\n",
              "      <td>-0.638672</td>\n",
              "      <td>0.101288</td>\n",
              "      <td>-0.339846</td>\n",
              "      <td>0.167170</td>\n",
              "      <td>0.125895</td>\n",
              "      <td>-0.008983</td>\n",
              "      <td>0.014724</td>\n",
              "      <td>2.69</td>\n",
              "      <td>0</td>\n",
              "    </tr>\n",
              "    <tr>\n",
              "      <th>2</th>\n",
              "      <td>1.0</td>\n",
              "      <td>-1.358354</td>\n",
              "      <td>-1.340163</td>\n",
              "      <td>1.773209</td>\n",
              "      <td>0.379780</td>\n",
              "      <td>-0.503198</td>\n",
              "      <td>1.800499</td>\n",
              "      <td>0.791461</td>\n",
              "      <td>0.247676</td>\n",
              "      <td>-1.514654</td>\n",
              "      <td>0.207643</td>\n",
              "      <td>0.624501</td>\n",
              "      <td>0.066084</td>\n",
              "      <td>0.717293</td>\n",
              "      <td>-0.165946</td>\n",
              "      <td>2.345865</td>\n",
              "      <td>-2.890083</td>\n",
              "      <td>1.109969</td>\n",
              "      <td>-0.121359</td>\n",
              "      <td>-2.261857</td>\n",
              "      <td>0.524980</td>\n",
              "      <td>0.247998</td>\n",
              "      <td>0.771679</td>\n",
              "      <td>0.909412</td>\n",
              "      <td>-0.689281</td>\n",
              "      <td>-0.327642</td>\n",
              "      <td>-0.139097</td>\n",
              "      <td>-0.055353</td>\n",
              "      <td>-0.059752</td>\n",
              "      <td>378.66</td>\n",
              "      <td>0</td>\n",
              "    </tr>\n",
              "    <tr>\n",
              "      <th>3</th>\n",
              "      <td>1.0</td>\n",
              "      <td>-0.966272</td>\n",
              "      <td>-0.185226</td>\n",
              "      <td>1.792993</td>\n",
              "      <td>-0.863291</td>\n",
              "      <td>-0.010309</td>\n",
              "      <td>1.247203</td>\n",
              "      <td>0.237609</td>\n",
              "      <td>0.377436</td>\n",
              "      <td>-1.387024</td>\n",
              "      <td>-0.054952</td>\n",
              "      <td>-0.226487</td>\n",
              "      <td>0.178228</td>\n",
              "      <td>0.507757</td>\n",
              "      <td>-0.287924</td>\n",
              "      <td>-0.631418</td>\n",
              "      <td>-1.059647</td>\n",
              "      <td>-0.684093</td>\n",
              "      <td>1.965775</td>\n",
              "      <td>-1.232622</td>\n",
              "      <td>-0.208038</td>\n",
              "      <td>-0.108300</td>\n",
              "      <td>0.005274</td>\n",
              "      <td>-0.190321</td>\n",
              "      <td>-1.175575</td>\n",
              "      <td>0.647376</td>\n",
              "      <td>-0.221929</td>\n",
              "      <td>0.062723</td>\n",
              "      <td>0.061458</td>\n",
              "      <td>123.50</td>\n",
              "      <td>0</td>\n",
              "    </tr>\n",
              "    <tr>\n",
              "      <th>4</th>\n",
              "      <td>2.0</td>\n",
              "      <td>-1.158233</td>\n",
              "      <td>0.877737</td>\n",
              "      <td>1.548718</td>\n",
              "      <td>0.403034</td>\n",
              "      <td>-0.407193</td>\n",
              "      <td>0.095921</td>\n",
              "      <td>0.592941</td>\n",
              "      <td>-0.270533</td>\n",
              "      <td>0.817739</td>\n",
              "      <td>0.753074</td>\n",
              "      <td>-0.822843</td>\n",
              "      <td>0.538196</td>\n",
              "      <td>1.345852</td>\n",
              "      <td>-1.119670</td>\n",
              "      <td>0.175121</td>\n",
              "      <td>-0.451449</td>\n",
              "      <td>-0.237033</td>\n",
              "      <td>-0.038195</td>\n",
              "      <td>0.803487</td>\n",
              "      <td>0.408542</td>\n",
              "      <td>-0.009431</td>\n",
              "      <td>0.798278</td>\n",
              "      <td>-0.137458</td>\n",
              "      <td>0.141267</td>\n",
              "      <td>-0.206010</td>\n",
              "      <td>0.502292</td>\n",
              "      <td>0.219422</td>\n",
              "      <td>0.215153</td>\n",
              "      <td>69.99</td>\n",
              "      <td>0</td>\n",
              "    </tr>\n",
              "    <tr>\n",
              "      <th>...</th>\n",
              "      <td>...</td>\n",
              "      <td>...</td>\n",
              "      <td>...</td>\n",
              "      <td>...</td>\n",
              "      <td>...</td>\n",
              "      <td>...</td>\n",
              "      <td>...</td>\n",
              "      <td>...</td>\n",
              "      <td>...</td>\n",
              "      <td>...</td>\n",
              "      <td>...</td>\n",
              "      <td>...</td>\n",
              "      <td>...</td>\n",
              "      <td>...</td>\n",
              "      <td>...</td>\n",
              "      <td>...</td>\n",
              "      <td>...</td>\n",
              "      <td>...</td>\n",
              "      <td>...</td>\n",
              "      <td>...</td>\n",
              "      <td>...</td>\n",
              "      <td>...</td>\n",
              "      <td>...</td>\n",
              "      <td>...</td>\n",
              "      <td>...</td>\n",
              "      <td>...</td>\n",
              "      <td>...</td>\n",
              "      <td>...</td>\n",
              "      <td>...</td>\n",
              "      <td>...</td>\n",
              "      <td>...</td>\n",
              "    </tr>\n",
              "    <tr>\n",
              "      <th>284802</th>\n",
              "      <td>172786.0</td>\n",
              "      <td>-11.881118</td>\n",
              "      <td>10.071785</td>\n",
              "      <td>-9.834783</td>\n",
              "      <td>-2.066656</td>\n",
              "      <td>-5.364473</td>\n",
              "      <td>-2.606837</td>\n",
              "      <td>-4.918215</td>\n",
              "      <td>7.305334</td>\n",
              "      <td>1.914428</td>\n",
              "      <td>4.356170</td>\n",
              "      <td>-1.593105</td>\n",
              "      <td>2.711941</td>\n",
              "      <td>-0.689256</td>\n",
              "      <td>4.626942</td>\n",
              "      <td>-0.924459</td>\n",
              "      <td>1.107641</td>\n",
              "      <td>1.991691</td>\n",
              "      <td>0.510632</td>\n",
              "      <td>-0.682920</td>\n",
              "      <td>1.475829</td>\n",
              "      <td>0.213454</td>\n",
              "      <td>0.111864</td>\n",
              "      <td>1.014480</td>\n",
              "      <td>-0.509348</td>\n",
              "      <td>1.436807</td>\n",
              "      <td>0.250034</td>\n",
              "      <td>0.943651</td>\n",
              "      <td>0.823731</td>\n",
              "      <td>0.77</td>\n",
              "      <td>0</td>\n",
              "    </tr>\n",
              "    <tr>\n",
              "      <th>284803</th>\n",
              "      <td>172787.0</td>\n",
              "      <td>-0.732789</td>\n",
              "      <td>-0.055080</td>\n",
              "      <td>2.035030</td>\n",
              "      <td>-0.738589</td>\n",
              "      <td>0.868229</td>\n",
              "      <td>1.058415</td>\n",
              "      <td>0.024330</td>\n",
              "      <td>0.294869</td>\n",
              "      <td>0.584800</td>\n",
              "      <td>-0.975926</td>\n",
              "      <td>-0.150189</td>\n",
              "      <td>0.915802</td>\n",
              "      <td>1.214756</td>\n",
              "      <td>-0.675143</td>\n",
              "      <td>1.164931</td>\n",
              "      <td>-0.711757</td>\n",
              "      <td>-0.025693</td>\n",
              "      <td>-1.221179</td>\n",
              "      <td>-1.545556</td>\n",
              "      <td>0.059616</td>\n",
              "      <td>0.214205</td>\n",
              "      <td>0.924384</td>\n",
              "      <td>0.012463</td>\n",
              "      <td>-1.016226</td>\n",
              "      <td>-0.606624</td>\n",
              "      <td>-0.395255</td>\n",
              "      <td>0.068472</td>\n",
              "      <td>-0.053527</td>\n",
              "      <td>24.79</td>\n",
              "      <td>0</td>\n",
              "    </tr>\n",
              "    <tr>\n",
              "      <th>284804</th>\n",
              "      <td>172788.0</td>\n",
              "      <td>1.919565</td>\n",
              "      <td>-0.301254</td>\n",
              "      <td>-3.249640</td>\n",
              "      <td>-0.557828</td>\n",
              "      <td>2.630515</td>\n",
              "      <td>3.031260</td>\n",
              "      <td>-0.296827</td>\n",
              "      <td>0.708417</td>\n",
              "      <td>0.432454</td>\n",
              "      <td>-0.484782</td>\n",
              "      <td>0.411614</td>\n",
              "      <td>0.063119</td>\n",
              "      <td>-0.183699</td>\n",
              "      <td>-0.510602</td>\n",
              "      <td>1.329284</td>\n",
              "      <td>0.140716</td>\n",
              "      <td>0.313502</td>\n",
              "      <td>0.395652</td>\n",
              "      <td>-0.577252</td>\n",
              "      <td>0.001396</td>\n",
              "      <td>0.232045</td>\n",
              "      <td>0.578229</td>\n",
              "      <td>-0.037501</td>\n",
              "      <td>0.640134</td>\n",
              "      <td>0.265745</td>\n",
              "      <td>-0.087371</td>\n",
              "      <td>0.004455</td>\n",
              "      <td>-0.026561</td>\n",
              "      <td>67.88</td>\n",
              "      <td>0</td>\n",
              "    </tr>\n",
              "    <tr>\n",
              "      <th>284805</th>\n",
              "      <td>172788.0</td>\n",
              "      <td>-0.240440</td>\n",
              "      <td>0.530483</td>\n",
              "      <td>0.702510</td>\n",
              "      <td>0.689799</td>\n",
              "      <td>-0.377961</td>\n",
              "      <td>0.623708</td>\n",
              "      <td>-0.686180</td>\n",
              "      <td>0.679145</td>\n",
              "      <td>0.392087</td>\n",
              "      <td>-0.399126</td>\n",
              "      <td>-1.933849</td>\n",
              "      <td>-0.962886</td>\n",
              "      <td>-1.042082</td>\n",
              "      <td>0.449624</td>\n",
              "      <td>1.962563</td>\n",
              "      <td>-0.608577</td>\n",
              "      <td>0.509928</td>\n",
              "      <td>1.113981</td>\n",
              "      <td>2.897849</td>\n",
              "      <td>0.127434</td>\n",
              "      <td>0.265245</td>\n",
              "      <td>0.800049</td>\n",
              "      <td>-0.163298</td>\n",
              "      <td>0.123205</td>\n",
              "      <td>-0.569159</td>\n",
              "      <td>0.546668</td>\n",
              "      <td>0.108821</td>\n",
              "      <td>0.104533</td>\n",
              "      <td>10.00</td>\n",
              "      <td>0</td>\n",
              "    </tr>\n",
              "    <tr>\n",
              "      <th>284806</th>\n",
              "      <td>172792.0</td>\n",
              "      <td>-0.533413</td>\n",
              "      <td>-0.189733</td>\n",
              "      <td>0.703337</td>\n",
              "      <td>-0.506271</td>\n",
              "      <td>-0.012546</td>\n",
              "      <td>-0.649617</td>\n",
              "      <td>1.577006</td>\n",
              "      <td>-0.414650</td>\n",
              "      <td>0.486180</td>\n",
              "      <td>-0.915427</td>\n",
              "      <td>-1.040458</td>\n",
              "      <td>-0.031513</td>\n",
              "      <td>-0.188093</td>\n",
              "      <td>-0.084316</td>\n",
              "      <td>0.041333</td>\n",
              "      <td>-0.302620</td>\n",
              "      <td>-0.660377</td>\n",
              "      <td>0.167430</td>\n",
              "      <td>-0.256117</td>\n",
              "      <td>0.382948</td>\n",
              "      <td>0.261057</td>\n",
              "      <td>0.643078</td>\n",
              "      <td>0.376777</td>\n",
              "      <td>0.008797</td>\n",
              "      <td>-0.473649</td>\n",
              "      <td>-0.818267</td>\n",
              "      <td>-0.002415</td>\n",
              "      <td>0.013649</td>\n",
              "      <td>217.00</td>\n",
              "      <td>0</td>\n",
              "    </tr>\n",
              "  </tbody>\n",
              "</table>\n",
              "<p>284807 rows × 31 columns</p>\n",
              "</div>"
            ],
            "text/plain": [
              "            Time         V1         V2  ...       V28  Amount  Class\n",
              "0            0.0  -1.359807  -0.072781  ... -0.021053  149.62      0\n",
              "1            0.0   1.191857   0.266151  ...  0.014724    2.69      0\n",
              "2            1.0  -1.358354  -1.340163  ... -0.059752  378.66      0\n",
              "3            1.0  -0.966272  -0.185226  ...  0.061458  123.50      0\n",
              "4            2.0  -1.158233   0.877737  ...  0.215153   69.99      0\n",
              "...          ...        ...        ...  ...       ...     ...    ...\n",
              "284802  172786.0 -11.881118  10.071785  ...  0.823731    0.77      0\n",
              "284803  172787.0  -0.732789  -0.055080  ... -0.053527   24.79      0\n",
              "284804  172788.0   1.919565  -0.301254  ... -0.026561   67.88      0\n",
              "284805  172788.0  -0.240440   0.530483  ...  0.104533   10.00      0\n",
              "284806  172792.0  -0.533413  -0.189733  ...  0.013649  217.00      0\n",
              "\n",
              "[284807 rows x 31 columns]"
            ]
          },
          "metadata": {
            "tags": []
          },
          "execution_count": 4
        }
      ]
    },
    {
      "cell_type": "markdown",
      "metadata": {
        "id": "68zFYXLvbtbe"
      },
      "source": [
        "Имеем 31 столбец и 284 807 строк. Датафрейм большого размера и имеет смысл удалить из него данные, которые ни какого влияния на ожидаемый результат не окажут, а только в холостую будут расходовать вычислительные способности компьютера.\r\n",
        "Т.к. мы однозначно не можем удалить данные V.....(мы просто не знаем что они подразумевают и какую роль играют), но вот данные \"Time\" на совершенно не нужны, поэтому просто удалим весь столбец"
      ]
    },
    {
      "cell_type": "code",
      "metadata": {
        "colab": {
          "base_uri": "https://localhost:8080/",
          "height": 427
        },
        "id": "8A2sjEuDQn30",
        "outputId": "4c8c8f48-de57-4962-f330-5f6947fedfd4"
      },
      "source": [
        "del df['Time']\r\n",
        "df"
      ],
      "execution_count": null,
      "outputs": [
        {
          "output_type": "execute_result",
          "data": {
            "text/html": [
              "<div>\n",
              "<style scoped>\n",
              "    .dataframe tbody tr th:only-of-type {\n",
              "        vertical-align: middle;\n",
              "    }\n",
              "\n",
              "    .dataframe tbody tr th {\n",
              "        vertical-align: top;\n",
              "    }\n",
              "\n",
              "    .dataframe thead th {\n",
              "        text-align: right;\n",
              "    }\n",
              "</style>\n",
              "<table border=\"1\" class=\"dataframe\">\n",
              "  <thead>\n",
              "    <tr style=\"text-align: right;\">\n",
              "      <th></th>\n",
              "      <th>V1</th>\n",
              "      <th>V2</th>\n",
              "      <th>V3</th>\n",
              "      <th>V4</th>\n",
              "      <th>V5</th>\n",
              "      <th>V6</th>\n",
              "      <th>V7</th>\n",
              "      <th>V8</th>\n",
              "      <th>V9</th>\n",
              "      <th>V10</th>\n",
              "      <th>V11</th>\n",
              "      <th>V12</th>\n",
              "      <th>V13</th>\n",
              "      <th>V14</th>\n",
              "      <th>V15</th>\n",
              "      <th>V16</th>\n",
              "      <th>V17</th>\n",
              "      <th>V18</th>\n",
              "      <th>V19</th>\n",
              "      <th>V20</th>\n",
              "      <th>V21</th>\n",
              "      <th>V22</th>\n",
              "      <th>V23</th>\n",
              "      <th>V24</th>\n",
              "      <th>V25</th>\n",
              "      <th>V26</th>\n",
              "      <th>V27</th>\n",
              "      <th>V28</th>\n",
              "      <th>Amount</th>\n",
              "      <th>Class</th>\n",
              "    </tr>\n",
              "  </thead>\n",
              "  <tbody>\n",
              "    <tr>\n",
              "      <th>0</th>\n",
              "      <td>-1.359807</td>\n",
              "      <td>-0.072781</td>\n",
              "      <td>2.536347</td>\n",
              "      <td>1.378155</td>\n",
              "      <td>-0.338321</td>\n",
              "      <td>0.462388</td>\n",
              "      <td>0.239599</td>\n",
              "      <td>0.098698</td>\n",
              "      <td>0.363787</td>\n",
              "      <td>0.090794</td>\n",
              "      <td>-0.551600</td>\n",
              "      <td>-0.617801</td>\n",
              "      <td>-0.991390</td>\n",
              "      <td>-0.311169</td>\n",
              "      <td>1.468177</td>\n",
              "      <td>-0.470401</td>\n",
              "      <td>0.207971</td>\n",
              "      <td>0.025791</td>\n",
              "      <td>0.403993</td>\n",
              "      <td>0.251412</td>\n",
              "      <td>-0.018307</td>\n",
              "      <td>0.277838</td>\n",
              "      <td>-0.110474</td>\n",
              "      <td>0.066928</td>\n",
              "      <td>0.128539</td>\n",
              "      <td>-0.189115</td>\n",
              "      <td>0.133558</td>\n",
              "      <td>-0.021053</td>\n",
              "      <td>149.62</td>\n",
              "      <td>0</td>\n",
              "    </tr>\n",
              "    <tr>\n",
              "      <th>1</th>\n",
              "      <td>1.191857</td>\n",
              "      <td>0.266151</td>\n",
              "      <td>0.166480</td>\n",
              "      <td>0.448154</td>\n",
              "      <td>0.060018</td>\n",
              "      <td>-0.082361</td>\n",
              "      <td>-0.078803</td>\n",
              "      <td>0.085102</td>\n",
              "      <td>-0.255425</td>\n",
              "      <td>-0.166974</td>\n",
              "      <td>1.612727</td>\n",
              "      <td>1.065235</td>\n",
              "      <td>0.489095</td>\n",
              "      <td>-0.143772</td>\n",
              "      <td>0.635558</td>\n",
              "      <td>0.463917</td>\n",
              "      <td>-0.114805</td>\n",
              "      <td>-0.183361</td>\n",
              "      <td>-0.145783</td>\n",
              "      <td>-0.069083</td>\n",
              "      <td>-0.225775</td>\n",
              "      <td>-0.638672</td>\n",
              "      <td>0.101288</td>\n",
              "      <td>-0.339846</td>\n",
              "      <td>0.167170</td>\n",
              "      <td>0.125895</td>\n",
              "      <td>-0.008983</td>\n",
              "      <td>0.014724</td>\n",
              "      <td>2.69</td>\n",
              "      <td>0</td>\n",
              "    </tr>\n",
              "    <tr>\n",
              "      <th>2</th>\n",
              "      <td>-1.358354</td>\n",
              "      <td>-1.340163</td>\n",
              "      <td>1.773209</td>\n",
              "      <td>0.379780</td>\n",
              "      <td>-0.503198</td>\n",
              "      <td>1.800499</td>\n",
              "      <td>0.791461</td>\n",
              "      <td>0.247676</td>\n",
              "      <td>-1.514654</td>\n",
              "      <td>0.207643</td>\n",
              "      <td>0.624501</td>\n",
              "      <td>0.066084</td>\n",
              "      <td>0.717293</td>\n",
              "      <td>-0.165946</td>\n",
              "      <td>2.345865</td>\n",
              "      <td>-2.890083</td>\n",
              "      <td>1.109969</td>\n",
              "      <td>-0.121359</td>\n",
              "      <td>-2.261857</td>\n",
              "      <td>0.524980</td>\n",
              "      <td>0.247998</td>\n",
              "      <td>0.771679</td>\n",
              "      <td>0.909412</td>\n",
              "      <td>-0.689281</td>\n",
              "      <td>-0.327642</td>\n",
              "      <td>-0.139097</td>\n",
              "      <td>-0.055353</td>\n",
              "      <td>-0.059752</td>\n",
              "      <td>378.66</td>\n",
              "      <td>0</td>\n",
              "    </tr>\n",
              "    <tr>\n",
              "      <th>3</th>\n",
              "      <td>-0.966272</td>\n",
              "      <td>-0.185226</td>\n",
              "      <td>1.792993</td>\n",
              "      <td>-0.863291</td>\n",
              "      <td>-0.010309</td>\n",
              "      <td>1.247203</td>\n",
              "      <td>0.237609</td>\n",
              "      <td>0.377436</td>\n",
              "      <td>-1.387024</td>\n",
              "      <td>-0.054952</td>\n",
              "      <td>-0.226487</td>\n",
              "      <td>0.178228</td>\n",
              "      <td>0.507757</td>\n",
              "      <td>-0.287924</td>\n",
              "      <td>-0.631418</td>\n",
              "      <td>-1.059647</td>\n",
              "      <td>-0.684093</td>\n",
              "      <td>1.965775</td>\n",
              "      <td>-1.232622</td>\n",
              "      <td>-0.208038</td>\n",
              "      <td>-0.108300</td>\n",
              "      <td>0.005274</td>\n",
              "      <td>-0.190321</td>\n",
              "      <td>-1.175575</td>\n",
              "      <td>0.647376</td>\n",
              "      <td>-0.221929</td>\n",
              "      <td>0.062723</td>\n",
              "      <td>0.061458</td>\n",
              "      <td>123.50</td>\n",
              "      <td>0</td>\n",
              "    </tr>\n",
              "    <tr>\n",
              "      <th>4</th>\n",
              "      <td>-1.158233</td>\n",
              "      <td>0.877737</td>\n",
              "      <td>1.548718</td>\n",
              "      <td>0.403034</td>\n",
              "      <td>-0.407193</td>\n",
              "      <td>0.095921</td>\n",
              "      <td>0.592941</td>\n",
              "      <td>-0.270533</td>\n",
              "      <td>0.817739</td>\n",
              "      <td>0.753074</td>\n",
              "      <td>-0.822843</td>\n",
              "      <td>0.538196</td>\n",
              "      <td>1.345852</td>\n",
              "      <td>-1.119670</td>\n",
              "      <td>0.175121</td>\n",
              "      <td>-0.451449</td>\n",
              "      <td>-0.237033</td>\n",
              "      <td>-0.038195</td>\n",
              "      <td>0.803487</td>\n",
              "      <td>0.408542</td>\n",
              "      <td>-0.009431</td>\n",
              "      <td>0.798278</td>\n",
              "      <td>-0.137458</td>\n",
              "      <td>0.141267</td>\n",
              "      <td>-0.206010</td>\n",
              "      <td>0.502292</td>\n",
              "      <td>0.219422</td>\n",
              "      <td>0.215153</td>\n",
              "      <td>69.99</td>\n",
              "      <td>0</td>\n",
              "    </tr>\n",
              "    <tr>\n",
              "      <th>...</th>\n",
              "      <td>...</td>\n",
              "      <td>...</td>\n",
              "      <td>...</td>\n",
              "      <td>...</td>\n",
              "      <td>...</td>\n",
              "      <td>...</td>\n",
              "      <td>...</td>\n",
              "      <td>...</td>\n",
              "      <td>...</td>\n",
              "      <td>...</td>\n",
              "      <td>...</td>\n",
              "      <td>...</td>\n",
              "      <td>...</td>\n",
              "      <td>...</td>\n",
              "      <td>...</td>\n",
              "      <td>...</td>\n",
              "      <td>...</td>\n",
              "      <td>...</td>\n",
              "      <td>...</td>\n",
              "      <td>...</td>\n",
              "      <td>...</td>\n",
              "      <td>...</td>\n",
              "      <td>...</td>\n",
              "      <td>...</td>\n",
              "      <td>...</td>\n",
              "      <td>...</td>\n",
              "      <td>...</td>\n",
              "      <td>...</td>\n",
              "      <td>...</td>\n",
              "      <td>...</td>\n",
              "    </tr>\n",
              "    <tr>\n",
              "      <th>284802</th>\n",
              "      <td>-11.881118</td>\n",
              "      <td>10.071785</td>\n",
              "      <td>-9.834783</td>\n",
              "      <td>-2.066656</td>\n",
              "      <td>-5.364473</td>\n",
              "      <td>-2.606837</td>\n",
              "      <td>-4.918215</td>\n",
              "      <td>7.305334</td>\n",
              "      <td>1.914428</td>\n",
              "      <td>4.356170</td>\n",
              "      <td>-1.593105</td>\n",
              "      <td>2.711941</td>\n",
              "      <td>-0.689256</td>\n",
              "      <td>4.626942</td>\n",
              "      <td>-0.924459</td>\n",
              "      <td>1.107641</td>\n",
              "      <td>1.991691</td>\n",
              "      <td>0.510632</td>\n",
              "      <td>-0.682920</td>\n",
              "      <td>1.475829</td>\n",
              "      <td>0.213454</td>\n",
              "      <td>0.111864</td>\n",
              "      <td>1.014480</td>\n",
              "      <td>-0.509348</td>\n",
              "      <td>1.436807</td>\n",
              "      <td>0.250034</td>\n",
              "      <td>0.943651</td>\n",
              "      <td>0.823731</td>\n",
              "      <td>0.77</td>\n",
              "      <td>0</td>\n",
              "    </tr>\n",
              "    <tr>\n",
              "      <th>284803</th>\n",
              "      <td>-0.732789</td>\n",
              "      <td>-0.055080</td>\n",
              "      <td>2.035030</td>\n",
              "      <td>-0.738589</td>\n",
              "      <td>0.868229</td>\n",
              "      <td>1.058415</td>\n",
              "      <td>0.024330</td>\n",
              "      <td>0.294869</td>\n",
              "      <td>0.584800</td>\n",
              "      <td>-0.975926</td>\n",
              "      <td>-0.150189</td>\n",
              "      <td>0.915802</td>\n",
              "      <td>1.214756</td>\n",
              "      <td>-0.675143</td>\n",
              "      <td>1.164931</td>\n",
              "      <td>-0.711757</td>\n",
              "      <td>-0.025693</td>\n",
              "      <td>-1.221179</td>\n",
              "      <td>-1.545556</td>\n",
              "      <td>0.059616</td>\n",
              "      <td>0.214205</td>\n",
              "      <td>0.924384</td>\n",
              "      <td>0.012463</td>\n",
              "      <td>-1.016226</td>\n",
              "      <td>-0.606624</td>\n",
              "      <td>-0.395255</td>\n",
              "      <td>0.068472</td>\n",
              "      <td>-0.053527</td>\n",
              "      <td>24.79</td>\n",
              "      <td>0</td>\n",
              "    </tr>\n",
              "    <tr>\n",
              "      <th>284804</th>\n",
              "      <td>1.919565</td>\n",
              "      <td>-0.301254</td>\n",
              "      <td>-3.249640</td>\n",
              "      <td>-0.557828</td>\n",
              "      <td>2.630515</td>\n",
              "      <td>3.031260</td>\n",
              "      <td>-0.296827</td>\n",
              "      <td>0.708417</td>\n",
              "      <td>0.432454</td>\n",
              "      <td>-0.484782</td>\n",
              "      <td>0.411614</td>\n",
              "      <td>0.063119</td>\n",
              "      <td>-0.183699</td>\n",
              "      <td>-0.510602</td>\n",
              "      <td>1.329284</td>\n",
              "      <td>0.140716</td>\n",
              "      <td>0.313502</td>\n",
              "      <td>0.395652</td>\n",
              "      <td>-0.577252</td>\n",
              "      <td>0.001396</td>\n",
              "      <td>0.232045</td>\n",
              "      <td>0.578229</td>\n",
              "      <td>-0.037501</td>\n",
              "      <td>0.640134</td>\n",
              "      <td>0.265745</td>\n",
              "      <td>-0.087371</td>\n",
              "      <td>0.004455</td>\n",
              "      <td>-0.026561</td>\n",
              "      <td>67.88</td>\n",
              "      <td>0</td>\n",
              "    </tr>\n",
              "    <tr>\n",
              "      <th>284805</th>\n",
              "      <td>-0.240440</td>\n",
              "      <td>0.530483</td>\n",
              "      <td>0.702510</td>\n",
              "      <td>0.689799</td>\n",
              "      <td>-0.377961</td>\n",
              "      <td>0.623708</td>\n",
              "      <td>-0.686180</td>\n",
              "      <td>0.679145</td>\n",
              "      <td>0.392087</td>\n",
              "      <td>-0.399126</td>\n",
              "      <td>-1.933849</td>\n",
              "      <td>-0.962886</td>\n",
              "      <td>-1.042082</td>\n",
              "      <td>0.449624</td>\n",
              "      <td>1.962563</td>\n",
              "      <td>-0.608577</td>\n",
              "      <td>0.509928</td>\n",
              "      <td>1.113981</td>\n",
              "      <td>2.897849</td>\n",
              "      <td>0.127434</td>\n",
              "      <td>0.265245</td>\n",
              "      <td>0.800049</td>\n",
              "      <td>-0.163298</td>\n",
              "      <td>0.123205</td>\n",
              "      <td>-0.569159</td>\n",
              "      <td>0.546668</td>\n",
              "      <td>0.108821</td>\n",
              "      <td>0.104533</td>\n",
              "      <td>10.00</td>\n",
              "      <td>0</td>\n",
              "    </tr>\n",
              "    <tr>\n",
              "      <th>284806</th>\n",
              "      <td>-0.533413</td>\n",
              "      <td>-0.189733</td>\n",
              "      <td>0.703337</td>\n",
              "      <td>-0.506271</td>\n",
              "      <td>-0.012546</td>\n",
              "      <td>-0.649617</td>\n",
              "      <td>1.577006</td>\n",
              "      <td>-0.414650</td>\n",
              "      <td>0.486180</td>\n",
              "      <td>-0.915427</td>\n",
              "      <td>-1.040458</td>\n",
              "      <td>-0.031513</td>\n",
              "      <td>-0.188093</td>\n",
              "      <td>-0.084316</td>\n",
              "      <td>0.041333</td>\n",
              "      <td>-0.302620</td>\n",
              "      <td>-0.660377</td>\n",
              "      <td>0.167430</td>\n",
              "      <td>-0.256117</td>\n",
              "      <td>0.382948</td>\n",
              "      <td>0.261057</td>\n",
              "      <td>0.643078</td>\n",
              "      <td>0.376777</td>\n",
              "      <td>0.008797</td>\n",
              "      <td>-0.473649</td>\n",
              "      <td>-0.818267</td>\n",
              "      <td>-0.002415</td>\n",
              "      <td>0.013649</td>\n",
              "      <td>217.00</td>\n",
              "      <td>0</td>\n",
              "    </tr>\n",
              "  </tbody>\n",
              "</table>\n",
              "<p>284807 rows × 30 columns</p>\n",
              "</div>"
            ],
            "text/plain": [
              "               V1         V2        V3  ...       V28  Amount  Class\n",
              "0       -1.359807  -0.072781  2.536347  ... -0.021053  149.62      0\n",
              "1        1.191857   0.266151  0.166480  ...  0.014724    2.69      0\n",
              "2       -1.358354  -1.340163  1.773209  ... -0.059752  378.66      0\n",
              "3       -0.966272  -0.185226  1.792993  ...  0.061458  123.50      0\n",
              "4       -1.158233   0.877737  1.548718  ...  0.215153   69.99      0\n",
              "...           ...        ...       ...  ...       ...     ...    ...\n",
              "284802 -11.881118  10.071785 -9.834783  ...  0.823731    0.77      0\n",
              "284803  -0.732789  -0.055080  2.035030  ... -0.053527   24.79      0\n",
              "284804   1.919565  -0.301254 -3.249640  ... -0.026561   67.88      0\n",
              "284805  -0.240440   0.530483  0.702510  ...  0.104533   10.00      0\n",
              "284806  -0.533413  -0.189733  0.703337  ...  0.013649  217.00      0\n",
              "\n",
              "[284807 rows x 30 columns]"
            ]
          },
          "metadata": {
            "tags": []
          },
          "execution_count": 5
        }
      ]
    },
    {
      "cell_type": "markdown",
      "metadata": {
        "id": "mbGrMU7BfJIR"
      },
      "source": [
        "Выводим статистику по нашим столбцам, для того, что бы попытаться оценить наши данные в первом приближении"
      ]
    },
    {
      "cell_type": "code",
      "metadata": {
        "colab": {
          "base_uri": "https://localhost:8080/",
          "height": 308
        },
        "id": "R_urpd5VQ1oU",
        "outputId": "abb790fc-8cc3-43b5-8724-dfdfe4404535"
      },
      "source": [
        "df.describe() "
      ],
      "execution_count": null,
      "outputs": [
        {
          "output_type": "execute_result",
          "data": {
            "text/html": [
              "<div>\n",
              "<style scoped>\n",
              "    .dataframe tbody tr th:only-of-type {\n",
              "        vertical-align: middle;\n",
              "    }\n",
              "\n",
              "    .dataframe tbody tr th {\n",
              "        vertical-align: top;\n",
              "    }\n",
              "\n",
              "    .dataframe thead th {\n",
              "        text-align: right;\n",
              "    }\n",
              "</style>\n",
              "<table border=\"1\" class=\"dataframe\">\n",
              "  <thead>\n",
              "    <tr style=\"text-align: right;\">\n",
              "      <th></th>\n",
              "      <th>V1</th>\n",
              "      <th>V2</th>\n",
              "      <th>V3</th>\n",
              "      <th>V4</th>\n",
              "      <th>V5</th>\n",
              "      <th>V6</th>\n",
              "      <th>V7</th>\n",
              "      <th>V8</th>\n",
              "      <th>V9</th>\n",
              "      <th>V10</th>\n",
              "      <th>V11</th>\n",
              "      <th>V12</th>\n",
              "      <th>V13</th>\n",
              "      <th>V14</th>\n",
              "      <th>V15</th>\n",
              "      <th>V16</th>\n",
              "      <th>V17</th>\n",
              "      <th>V18</th>\n",
              "      <th>V19</th>\n",
              "      <th>V20</th>\n",
              "      <th>V21</th>\n",
              "      <th>V22</th>\n",
              "      <th>V23</th>\n",
              "      <th>V24</th>\n",
              "      <th>V25</th>\n",
              "      <th>V26</th>\n",
              "      <th>V27</th>\n",
              "      <th>V28</th>\n",
              "      <th>Amount</th>\n",
              "      <th>Class</th>\n",
              "    </tr>\n",
              "  </thead>\n",
              "  <tbody>\n",
              "    <tr>\n",
              "      <th>count</th>\n",
              "      <td>2.848070e+05</td>\n",
              "      <td>2.848070e+05</td>\n",
              "      <td>2.848070e+05</td>\n",
              "      <td>2.848070e+05</td>\n",
              "      <td>2.848070e+05</td>\n",
              "      <td>2.848070e+05</td>\n",
              "      <td>2.848070e+05</td>\n",
              "      <td>2.848070e+05</td>\n",
              "      <td>2.848070e+05</td>\n",
              "      <td>2.848070e+05</td>\n",
              "      <td>2.848070e+05</td>\n",
              "      <td>2.848070e+05</td>\n",
              "      <td>2.848070e+05</td>\n",
              "      <td>2.848070e+05</td>\n",
              "      <td>2.848070e+05</td>\n",
              "      <td>2.848070e+05</td>\n",
              "      <td>2.848070e+05</td>\n",
              "      <td>2.848070e+05</td>\n",
              "      <td>2.848070e+05</td>\n",
              "      <td>2.848070e+05</td>\n",
              "      <td>2.848070e+05</td>\n",
              "      <td>2.848070e+05</td>\n",
              "      <td>2.848070e+05</td>\n",
              "      <td>2.848070e+05</td>\n",
              "      <td>2.848070e+05</td>\n",
              "      <td>2.848070e+05</td>\n",
              "      <td>2.848070e+05</td>\n",
              "      <td>2.848070e+05</td>\n",
              "      <td>284807.000000</td>\n",
              "      <td>284807.000000</td>\n",
              "    </tr>\n",
              "    <tr>\n",
              "      <th>mean</th>\n",
              "      <td>3.919560e-15</td>\n",
              "      <td>5.688174e-16</td>\n",
              "      <td>-8.769071e-15</td>\n",
              "      <td>2.782312e-15</td>\n",
              "      <td>-1.552563e-15</td>\n",
              "      <td>2.010663e-15</td>\n",
              "      <td>-1.694249e-15</td>\n",
              "      <td>-1.927028e-16</td>\n",
              "      <td>-3.137024e-15</td>\n",
              "      <td>1.768627e-15</td>\n",
              "      <td>9.170318e-16</td>\n",
              "      <td>-1.810658e-15</td>\n",
              "      <td>1.693438e-15</td>\n",
              "      <td>1.479045e-15</td>\n",
              "      <td>3.482336e-15</td>\n",
              "      <td>1.392007e-15</td>\n",
              "      <td>-7.528491e-16</td>\n",
              "      <td>4.328772e-16</td>\n",
              "      <td>9.049732e-16</td>\n",
              "      <td>5.085503e-16</td>\n",
              "      <td>1.537294e-16</td>\n",
              "      <td>7.959909e-16</td>\n",
              "      <td>5.367590e-16</td>\n",
              "      <td>4.458112e-15</td>\n",
              "      <td>1.453003e-15</td>\n",
              "      <td>1.699104e-15</td>\n",
              "      <td>-3.660161e-16</td>\n",
              "      <td>-1.206049e-16</td>\n",
              "      <td>88.349619</td>\n",
              "      <td>0.001727</td>\n",
              "    </tr>\n",
              "    <tr>\n",
              "      <th>std</th>\n",
              "      <td>1.958696e+00</td>\n",
              "      <td>1.651309e+00</td>\n",
              "      <td>1.516255e+00</td>\n",
              "      <td>1.415869e+00</td>\n",
              "      <td>1.380247e+00</td>\n",
              "      <td>1.332271e+00</td>\n",
              "      <td>1.237094e+00</td>\n",
              "      <td>1.194353e+00</td>\n",
              "      <td>1.098632e+00</td>\n",
              "      <td>1.088850e+00</td>\n",
              "      <td>1.020713e+00</td>\n",
              "      <td>9.992014e-01</td>\n",
              "      <td>9.952742e-01</td>\n",
              "      <td>9.585956e-01</td>\n",
              "      <td>9.153160e-01</td>\n",
              "      <td>8.762529e-01</td>\n",
              "      <td>8.493371e-01</td>\n",
              "      <td>8.381762e-01</td>\n",
              "      <td>8.140405e-01</td>\n",
              "      <td>7.709250e-01</td>\n",
              "      <td>7.345240e-01</td>\n",
              "      <td>7.257016e-01</td>\n",
              "      <td>6.244603e-01</td>\n",
              "      <td>6.056471e-01</td>\n",
              "      <td>5.212781e-01</td>\n",
              "      <td>4.822270e-01</td>\n",
              "      <td>4.036325e-01</td>\n",
              "      <td>3.300833e-01</td>\n",
              "      <td>250.120109</td>\n",
              "      <td>0.041527</td>\n",
              "    </tr>\n",
              "    <tr>\n",
              "      <th>min</th>\n",
              "      <td>-5.640751e+01</td>\n",
              "      <td>-7.271573e+01</td>\n",
              "      <td>-4.832559e+01</td>\n",
              "      <td>-5.683171e+00</td>\n",
              "      <td>-1.137433e+02</td>\n",
              "      <td>-2.616051e+01</td>\n",
              "      <td>-4.355724e+01</td>\n",
              "      <td>-7.321672e+01</td>\n",
              "      <td>-1.343407e+01</td>\n",
              "      <td>-2.458826e+01</td>\n",
              "      <td>-4.797473e+00</td>\n",
              "      <td>-1.868371e+01</td>\n",
              "      <td>-5.791881e+00</td>\n",
              "      <td>-1.921433e+01</td>\n",
              "      <td>-4.498945e+00</td>\n",
              "      <td>-1.412985e+01</td>\n",
              "      <td>-2.516280e+01</td>\n",
              "      <td>-9.498746e+00</td>\n",
              "      <td>-7.213527e+00</td>\n",
              "      <td>-5.449772e+01</td>\n",
              "      <td>-3.483038e+01</td>\n",
              "      <td>-1.093314e+01</td>\n",
              "      <td>-4.480774e+01</td>\n",
              "      <td>-2.836627e+00</td>\n",
              "      <td>-1.029540e+01</td>\n",
              "      <td>-2.604551e+00</td>\n",
              "      <td>-2.256568e+01</td>\n",
              "      <td>-1.543008e+01</td>\n",
              "      <td>0.000000</td>\n",
              "      <td>0.000000</td>\n",
              "    </tr>\n",
              "    <tr>\n",
              "      <th>25%</th>\n",
              "      <td>-9.203734e-01</td>\n",
              "      <td>-5.985499e-01</td>\n",
              "      <td>-8.903648e-01</td>\n",
              "      <td>-8.486401e-01</td>\n",
              "      <td>-6.915971e-01</td>\n",
              "      <td>-7.682956e-01</td>\n",
              "      <td>-5.540759e-01</td>\n",
              "      <td>-2.086297e-01</td>\n",
              "      <td>-6.430976e-01</td>\n",
              "      <td>-5.354257e-01</td>\n",
              "      <td>-7.624942e-01</td>\n",
              "      <td>-4.055715e-01</td>\n",
              "      <td>-6.485393e-01</td>\n",
              "      <td>-4.255740e-01</td>\n",
              "      <td>-5.828843e-01</td>\n",
              "      <td>-4.680368e-01</td>\n",
              "      <td>-4.837483e-01</td>\n",
              "      <td>-4.988498e-01</td>\n",
              "      <td>-4.562989e-01</td>\n",
              "      <td>-2.117214e-01</td>\n",
              "      <td>-2.283949e-01</td>\n",
              "      <td>-5.423504e-01</td>\n",
              "      <td>-1.618463e-01</td>\n",
              "      <td>-3.545861e-01</td>\n",
              "      <td>-3.171451e-01</td>\n",
              "      <td>-3.269839e-01</td>\n",
              "      <td>-7.083953e-02</td>\n",
              "      <td>-5.295979e-02</td>\n",
              "      <td>5.600000</td>\n",
              "      <td>0.000000</td>\n",
              "    </tr>\n",
              "    <tr>\n",
              "      <th>50%</th>\n",
              "      <td>1.810880e-02</td>\n",
              "      <td>6.548556e-02</td>\n",
              "      <td>1.798463e-01</td>\n",
              "      <td>-1.984653e-02</td>\n",
              "      <td>-5.433583e-02</td>\n",
              "      <td>-2.741871e-01</td>\n",
              "      <td>4.010308e-02</td>\n",
              "      <td>2.235804e-02</td>\n",
              "      <td>-5.142873e-02</td>\n",
              "      <td>-9.291738e-02</td>\n",
              "      <td>-3.275735e-02</td>\n",
              "      <td>1.400326e-01</td>\n",
              "      <td>-1.356806e-02</td>\n",
              "      <td>5.060132e-02</td>\n",
              "      <td>4.807155e-02</td>\n",
              "      <td>6.641332e-02</td>\n",
              "      <td>-6.567575e-02</td>\n",
              "      <td>-3.636312e-03</td>\n",
              "      <td>3.734823e-03</td>\n",
              "      <td>-6.248109e-02</td>\n",
              "      <td>-2.945017e-02</td>\n",
              "      <td>6.781943e-03</td>\n",
              "      <td>-1.119293e-02</td>\n",
              "      <td>4.097606e-02</td>\n",
              "      <td>1.659350e-02</td>\n",
              "      <td>-5.213911e-02</td>\n",
              "      <td>1.342146e-03</td>\n",
              "      <td>1.124383e-02</td>\n",
              "      <td>22.000000</td>\n",
              "      <td>0.000000</td>\n",
              "    </tr>\n",
              "    <tr>\n",
              "      <th>75%</th>\n",
              "      <td>1.315642e+00</td>\n",
              "      <td>8.037239e-01</td>\n",
              "      <td>1.027196e+00</td>\n",
              "      <td>7.433413e-01</td>\n",
              "      <td>6.119264e-01</td>\n",
              "      <td>3.985649e-01</td>\n",
              "      <td>5.704361e-01</td>\n",
              "      <td>3.273459e-01</td>\n",
              "      <td>5.971390e-01</td>\n",
              "      <td>4.539234e-01</td>\n",
              "      <td>7.395934e-01</td>\n",
              "      <td>6.182380e-01</td>\n",
              "      <td>6.625050e-01</td>\n",
              "      <td>4.931498e-01</td>\n",
              "      <td>6.488208e-01</td>\n",
              "      <td>5.232963e-01</td>\n",
              "      <td>3.996750e-01</td>\n",
              "      <td>5.008067e-01</td>\n",
              "      <td>4.589494e-01</td>\n",
              "      <td>1.330408e-01</td>\n",
              "      <td>1.863772e-01</td>\n",
              "      <td>5.285536e-01</td>\n",
              "      <td>1.476421e-01</td>\n",
              "      <td>4.395266e-01</td>\n",
              "      <td>3.507156e-01</td>\n",
              "      <td>2.409522e-01</td>\n",
              "      <td>9.104512e-02</td>\n",
              "      <td>7.827995e-02</td>\n",
              "      <td>77.165000</td>\n",
              "      <td>0.000000</td>\n",
              "    </tr>\n",
              "    <tr>\n",
              "      <th>max</th>\n",
              "      <td>2.454930e+00</td>\n",
              "      <td>2.205773e+01</td>\n",
              "      <td>9.382558e+00</td>\n",
              "      <td>1.687534e+01</td>\n",
              "      <td>3.480167e+01</td>\n",
              "      <td>7.330163e+01</td>\n",
              "      <td>1.205895e+02</td>\n",
              "      <td>2.000721e+01</td>\n",
              "      <td>1.559499e+01</td>\n",
              "      <td>2.374514e+01</td>\n",
              "      <td>1.201891e+01</td>\n",
              "      <td>7.848392e+00</td>\n",
              "      <td>7.126883e+00</td>\n",
              "      <td>1.052677e+01</td>\n",
              "      <td>8.877742e+00</td>\n",
              "      <td>1.731511e+01</td>\n",
              "      <td>9.253526e+00</td>\n",
              "      <td>5.041069e+00</td>\n",
              "      <td>5.591971e+00</td>\n",
              "      <td>3.942090e+01</td>\n",
              "      <td>2.720284e+01</td>\n",
              "      <td>1.050309e+01</td>\n",
              "      <td>2.252841e+01</td>\n",
              "      <td>4.584549e+00</td>\n",
              "      <td>7.519589e+00</td>\n",
              "      <td>3.517346e+00</td>\n",
              "      <td>3.161220e+01</td>\n",
              "      <td>3.384781e+01</td>\n",
              "      <td>25691.160000</td>\n",
              "      <td>1.000000</td>\n",
              "    </tr>\n",
              "  </tbody>\n",
              "</table>\n",
              "</div>"
            ],
            "text/plain": [
              "                 V1            V2  ...         Amount          Class\n",
              "count  2.848070e+05  2.848070e+05  ...  284807.000000  284807.000000\n",
              "mean   3.919560e-15  5.688174e-16  ...      88.349619       0.001727\n",
              "std    1.958696e+00  1.651309e+00  ...     250.120109       0.041527\n",
              "min   -5.640751e+01 -7.271573e+01  ...       0.000000       0.000000\n",
              "25%   -9.203734e-01 -5.985499e-01  ...       5.600000       0.000000\n",
              "50%    1.810880e-02  6.548556e-02  ...      22.000000       0.000000\n",
              "75%    1.315642e+00  8.037239e-01  ...      77.165000       0.000000\n",
              "max    2.454930e+00  2.205773e+01  ...   25691.160000       1.000000\n",
              "\n",
              "[8 rows x 30 columns]"
            ]
          },
          "metadata": {
            "tags": []
          },
          "execution_count": 6
        }
      ]
    },
    {
      "cell_type": "markdown",
      "metadata": {
        "id": "43f6mlPIfljJ"
      },
      "source": [
        "Видим, что значения по столбцу \"Траты\" имеют огромный разброс по данным"
      ]
    },
    {
      "cell_type": "markdown",
      "metadata": {
        "id": "ZP3dBT6JgB9Q"
      },
      "source": [
        "Вычисляем количество значений, отличных от NaN, по каждому столбцу, что бы исключить ошибки в дальнейшем"
      ]
    },
    {
      "cell_type": "code",
      "metadata": {
        "colab": {
          "base_uri": "https://localhost:8080/"
        },
        "id": "nZV4itNjQ8i8",
        "outputId": "fe5f7add-3b8a-4d49-db8a-0014c4c4ff72"
      },
      "source": [
        "df.count(axis=0) "
      ],
      "execution_count": null,
      "outputs": [
        {
          "output_type": "execute_result",
          "data": {
            "text/plain": [
              "V1        284807\n",
              "V2        284807\n",
              "V3        284807\n",
              "V4        284807\n",
              "V5        284807\n",
              "           ...  \n",
              "V26       284807\n",
              "V27       284807\n",
              "V28       284807\n",
              "Amount    284807\n",
              "Class     284807\n",
              "Length: 30, dtype: int64"
            ]
          },
          "metadata": {
            "tags": []
          },
          "execution_count": 7
        }
      ]
    },
    {
      "cell_type": "markdown",
      "metadata": {
        "id": "42Caqnc6gUa8"
      },
      "source": [
        "У нас не NaТ, т.к. число значений отличных от NaN совпадает с общим числом строк"
      ]
    },
    {
      "cell_type": "markdown",
      "metadata": {
        "id": "vK9aH0-mg1il"
      },
      "source": [
        "Посмотрим на типы данных наших столбцов:"
      ]
    },
    {
      "cell_type": "code",
      "metadata": {
        "colab": {
          "base_uri": "https://localhost:8080/"
        },
        "id": "d65ke46pgwS1",
        "outputId": "151812e6-08b0-4697-bec0-dbac16ef2806"
      },
      "source": [
        "df.dtypes"
      ],
      "execution_count": null,
      "outputs": [
        {
          "output_type": "execute_result",
          "data": {
            "text/plain": [
              "V1        float64\n",
              "V2        float64\n",
              "V3        float64\n",
              "V4        float64\n",
              "V5        float64\n",
              "           ...   \n",
              "V26       float64\n",
              "V27       float64\n",
              "V28       float64\n",
              "Amount    float64\n",
              "Class       int64\n",
              "Length: 30, dtype: object"
            ]
          },
          "metadata": {
            "tags": []
          },
          "execution_count": 8
        }
      ]
    },
    {
      "cell_type": "markdown",
      "metadata": {
        "id": "VWc7zNJJhDzM"
      },
      "source": [
        "Все данные нашего датафрейма имеют \"цифровой\" вид, т.е. нет категориальных данных и отпадает необходимость проводить кодировку."
      ]
    },
    {
      "cell_type": "markdown",
      "metadata": {
        "id": "JmgoCKFAixzH"
      },
      "source": [
        "Перемешиваем наш датафрейм"
      ]
    },
    {
      "cell_type": "code",
      "metadata": {
        "colab": {
          "base_uri": "https://localhost:8080/",
          "height": 427
        },
        "id": "fxAK-vOVUPR0",
        "outputId": "98b1d9c7-bde1-4b8a-eaae-97f51c64db0e"
      },
      "source": [
        "df = df.sample(frac=1).reset_index(drop=True)\r\n",
        "df"
      ],
      "execution_count": null,
      "outputs": [
        {
          "output_type": "execute_result",
          "data": {
            "text/html": [
              "<div>\n",
              "<style scoped>\n",
              "    .dataframe tbody tr th:only-of-type {\n",
              "        vertical-align: middle;\n",
              "    }\n",
              "\n",
              "    .dataframe tbody tr th {\n",
              "        vertical-align: top;\n",
              "    }\n",
              "\n",
              "    .dataframe thead th {\n",
              "        text-align: right;\n",
              "    }\n",
              "</style>\n",
              "<table border=\"1\" class=\"dataframe\">\n",
              "  <thead>\n",
              "    <tr style=\"text-align: right;\">\n",
              "      <th></th>\n",
              "      <th>V1</th>\n",
              "      <th>V2</th>\n",
              "      <th>V3</th>\n",
              "      <th>V4</th>\n",
              "      <th>V5</th>\n",
              "      <th>V6</th>\n",
              "      <th>V7</th>\n",
              "      <th>V8</th>\n",
              "      <th>V9</th>\n",
              "      <th>V10</th>\n",
              "      <th>V11</th>\n",
              "      <th>V12</th>\n",
              "      <th>V13</th>\n",
              "      <th>V14</th>\n",
              "      <th>V15</th>\n",
              "      <th>V16</th>\n",
              "      <th>V17</th>\n",
              "      <th>V18</th>\n",
              "      <th>V19</th>\n",
              "      <th>V20</th>\n",
              "      <th>V21</th>\n",
              "      <th>V22</th>\n",
              "      <th>V23</th>\n",
              "      <th>V24</th>\n",
              "      <th>V25</th>\n",
              "      <th>V26</th>\n",
              "      <th>V27</th>\n",
              "      <th>V28</th>\n",
              "      <th>Amount</th>\n",
              "      <th>Class</th>\n",
              "    </tr>\n",
              "  </thead>\n",
              "  <tbody>\n",
              "    <tr>\n",
              "      <th>0</th>\n",
              "      <td>1.410619</td>\n",
              "      <td>-1.009365</td>\n",
              "      <td>0.184630</td>\n",
              "      <td>-1.379168</td>\n",
              "      <td>-1.422450</td>\n",
              "      <td>-1.063709</td>\n",
              "      <td>-0.664360</td>\n",
              "      <td>-0.174446</td>\n",
              "      <td>-2.273997</td>\n",
              "      <td>1.618986</td>\n",
              "      <td>1.365454</td>\n",
              "      <td>-0.507570</td>\n",
              "      <td>-0.566037</td>\n",
              "      <td>0.299992</td>\n",
              "      <td>-0.255918</td>\n",
              "      <td>-0.389869</td>\n",
              "      <td>0.496327</td>\n",
              "      <td>-0.033225</td>\n",
              "      <td>0.241404</td>\n",
              "      <td>-0.316915</td>\n",
              "      <td>-0.488213</td>\n",
              "      <td>-1.240060</td>\n",
              "      <td>0.201232</td>\n",
              "      <td>0.438873</td>\n",
              "      <td>0.136254</td>\n",
              "      <td>-0.559070</td>\n",
              "      <td>-0.006472</td>\n",
              "      <td>0.015558</td>\n",
              "      <td>49.90</td>\n",
              "      <td>0</td>\n",
              "    </tr>\n",
              "    <tr>\n",
              "      <th>1</th>\n",
              "      <td>1.202023</td>\n",
              "      <td>0.109317</td>\n",
              "      <td>0.217145</td>\n",
              "      <td>0.193697</td>\n",
              "      <td>-0.306459</td>\n",
              "      <td>-1.000975</td>\n",
              "      <td>0.124776</td>\n",
              "      <td>-0.306617</td>\n",
              "      <td>1.322301</td>\n",
              "      <td>-0.593052</td>\n",
              "      <td>1.224810</td>\n",
              "      <td>-2.133244</td>\n",
              "      <td>1.565823</td>\n",
              "      <td>1.874033</td>\n",
              "      <td>0.388089</td>\n",
              "      <td>-0.411406</td>\n",
              "      <td>0.946169</td>\n",
              "      <td>-0.910133</td>\n",
              "      <td>-0.532673</td>\n",
              "      <td>-0.107395</td>\n",
              "      <td>-0.169405</td>\n",
              "      <td>-0.239903</td>\n",
              "      <td>0.027137</td>\n",
              "      <td>0.414827</td>\n",
              "      <td>0.275356</td>\n",
              "      <td>1.009209</td>\n",
              "      <td>-0.118300</td>\n",
              "      <td>-0.006739</td>\n",
              "      <td>32.00</td>\n",
              "      <td>0</td>\n",
              "    </tr>\n",
              "    <tr>\n",
              "      <th>2</th>\n",
              "      <td>2.016247</td>\n",
              "      <td>0.166647</td>\n",
              "      <td>-1.745843</td>\n",
              "      <td>0.524195</td>\n",
              "      <td>0.231544</td>\n",
              "      <td>-1.386145</td>\n",
              "      <td>0.306779</td>\n",
              "      <td>-0.389984</td>\n",
              "      <td>0.541653</td>\n",
              "      <td>-0.498994</td>\n",
              "      <td>-0.304668</td>\n",
              "      <td>0.238711</td>\n",
              "      <td>0.341921</td>\n",
              "      <td>-0.789210</td>\n",
              "      <td>0.916111</td>\n",
              "      <td>0.151338</td>\n",
              "      <td>0.408880</td>\n",
              "      <td>0.396701</td>\n",
              "      <td>-0.486326</td>\n",
              "      <td>-0.149729</td>\n",
              "      <td>0.212387</td>\n",
              "      <td>0.769238</td>\n",
              "      <td>-0.043467</td>\n",
              "      <td>-0.137379</td>\n",
              "      <td>0.251802</td>\n",
              "      <td>-0.097144</td>\n",
              "      <td>-0.000751</td>\n",
              "      <td>-0.028304</td>\n",
              "      <td>22.80</td>\n",
              "      <td>0</td>\n",
              "    </tr>\n",
              "    <tr>\n",
              "      <th>3</th>\n",
              "      <td>2.071229</td>\n",
              "      <td>-0.164599</td>\n",
              "      <td>-1.158184</td>\n",
              "      <td>0.396703</td>\n",
              "      <td>-0.207664</td>\n",
              "      <td>-1.165591</td>\n",
              "      <td>0.078853</td>\n",
              "      <td>-0.239411</td>\n",
              "      <td>0.781389</td>\n",
              "      <td>0.117999</td>\n",
              "      <td>-1.131849</td>\n",
              "      <td>-0.417111</td>\n",
              "      <td>-1.427549</td>\n",
              "      <td>0.568606</td>\n",
              "      <td>0.217312</td>\n",
              "      <td>0.009030</td>\n",
              "      <td>-0.254980</td>\n",
              "      <td>-0.635293</td>\n",
              "      <td>0.211914</td>\n",
              "      <td>-0.316478</td>\n",
              "      <td>-0.316302</td>\n",
              "      <td>-0.850633</td>\n",
              "      <td>0.340030</td>\n",
              "      <td>-0.151909</td>\n",
              "      <td>-0.330108</td>\n",
              "      <td>0.210149</td>\n",
              "      <td>-0.080881</td>\n",
              "      <td>-0.064660</td>\n",
              "      <td>1.98</td>\n",
              "      <td>0</td>\n",
              "    </tr>\n",
              "    <tr>\n",
              "      <th>4</th>\n",
              "      <td>-0.797718</td>\n",
              "      <td>-0.570103</td>\n",
              "      <td>0.037638</td>\n",
              "      <td>-2.168010</td>\n",
              "      <td>1.194625</td>\n",
              "      <td>-1.206352</td>\n",
              "      <td>0.657955</td>\n",
              "      <td>-0.182741</td>\n",
              "      <td>-1.643850</td>\n",
              "      <td>-0.009793</td>\n",
              "      <td>0.325004</td>\n",
              "      <td>-0.260299</td>\n",
              "      <td>-0.299902</td>\n",
              "      <td>0.154574</td>\n",
              "      <td>-2.098648</td>\n",
              "      <td>0.640170</td>\n",
              "      <td>0.003010</td>\n",
              "      <td>-1.214901</td>\n",
              "      <td>0.586310</td>\n",
              "      <td>0.247067</td>\n",
              "      <td>0.409771</td>\n",
              "      <td>0.867900</td>\n",
              "      <td>-0.225873</td>\n",
              "      <td>-0.351682</td>\n",
              "      <td>0.455894</td>\n",
              "      <td>-0.102062</td>\n",
              "      <td>0.016626</td>\n",
              "      <td>0.116949</td>\n",
              "      <td>56.96</td>\n",
              "      <td>0</td>\n",
              "    </tr>\n",
              "    <tr>\n",
              "      <th>...</th>\n",
              "      <td>...</td>\n",
              "      <td>...</td>\n",
              "      <td>...</td>\n",
              "      <td>...</td>\n",
              "      <td>...</td>\n",
              "      <td>...</td>\n",
              "      <td>...</td>\n",
              "      <td>...</td>\n",
              "      <td>...</td>\n",
              "      <td>...</td>\n",
              "      <td>...</td>\n",
              "      <td>...</td>\n",
              "      <td>...</td>\n",
              "      <td>...</td>\n",
              "      <td>...</td>\n",
              "      <td>...</td>\n",
              "      <td>...</td>\n",
              "      <td>...</td>\n",
              "      <td>...</td>\n",
              "      <td>...</td>\n",
              "      <td>...</td>\n",
              "      <td>...</td>\n",
              "      <td>...</td>\n",
              "      <td>...</td>\n",
              "      <td>...</td>\n",
              "      <td>...</td>\n",
              "      <td>...</td>\n",
              "      <td>...</td>\n",
              "      <td>...</td>\n",
              "      <td>...</td>\n",
              "    </tr>\n",
              "    <tr>\n",
              "      <th>284802</th>\n",
              "      <td>-0.724152</td>\n",
              "      <td>1.021383</td>\n",
              "      <td>1.132639</td>\n",
              "      <td>-1.544895</td>\n",
              "      <td>0.247339</td>\n",
              "      <td>-0.676981</td>\n",
              "      <td>0.837985</td>\n",
              "      <td>-0.266815</td>\n",
              "      <td>0.092266</td>\n",
              "      <td>0.252803</td>\n",
              "      <td>1.176852</td>\n",
              "      <td>0.813743</td>\n",
              "      <td>0.557649</td>\n",
              "      <td>-0.267903</td>\n",
              "      <td>-0.301848</td>\n",
              "      <td>0.622791</td>\n",
              "      <td>-1.167308</td>\n",
              "      <td>0.019287</td>\n",
              "      <td>-0.324517</td>\n",
              "      <td>0.242852</td>\n",
              "      <td>-0.077948</td>\n",
              "      <td>-0.045516</td>\n",
              "      <td>-0.151349</td>\n",
              "      <td>0.048324</td>\n",
              "      <td>-0.176779</td>\n",
              "      <td>0.717371</td>\n",
              "      <td>-0.149800</td>\n",
              "      <td>-0.091023</td>\n",
              "      <td>0.79</td>\n",
              "      <td>0</td>\n",
              "    </tr>\n",
              "    <tr>\n",
              "      <th>284803</th>\n",
              "      <td>-1.518731</td>\n",
              "      <td>1.024115</td>\n",
              "      <td>1.763515</td>\n",
              "      <td>-0.989589</td>\n",
              "      <td>-0.762285</td>\n",
              "      <td>-0.363313</td>\n",
              "      <td>0.164776</td>\n",
              "      <td>0.198028</td>\n",
              "      <td>0.965062</td>\n",
              "      <td>0.475019</td>\n",
              "      <td>0.916405</td>\n",
              "      <td>0.489324</td>\n",
              "      <td>-0.886602</td>\n",
              "      <td>-0.505790</td>\n",
              "      <td>-1.080060</td>\n",
              "      <td>0.209905</td>\n",
              "      <td>-0.485581</td>\n",
              "      <td>0.213983</td>\n",
              "      <td>-0.217645</td>\n",
              "      <td>0.228652</td>\n",
              "      <td>0.049149</td>\n",
              "      <td>0.628476</td>\n",
              "      <td>-0.183944</td>\n",
              "      <td>0.598371</td>\n",
              "      <td>-0.191161</td>\n",
              "      <td>0.892681</td>\n",
              "      <td>-0.216486</td>\n",
              "      <td>-0.219761</td>\n",
              "      <td>12.99</td>\n",
              "      <td>0</td>\n",
              "    </tr>\n",
              "    <tr>\n",
              "      <th>284804</th>\n",
              "      <td>-1.258704</td>\n",
              "      <td>-0.032560</td>\n",
              "      <td>3.760179</td>\n",
              "      <td>4.880899</td>\n",
              "      <td>0.696797</td>\n",
              "      <td>3.786621</td>\n",
              "      <td>-1.402996</td>\n",
              "      <td>0.883948</td>\n",
              "      <td>0.873015</td>\n",
              "      <td>0.887910</td>\n",
              "      <td>1.208067</td>\n",
              "      <td>-1.860606</td>\n",
              "      <td>1.928294</td>\n",
              "      <td>0.134696</td>\n",
              "      <td>-1.597374</td>\n",
              "      <td>-1.187173</td>\n",
              "      <td>1.855962</td>\n",
              "      <td>-0.208504</td>\n",
              "      <td>0.656236</td>\n",
              "      <td>0.062953</td>\n",
              "      <td>0.004550</td>\n",
              "      <td>1.040622</td>\n",
              "      <td>-0.433750</td>\n",
              "      <td>-1.326326</td>\n",
              "      <td>-0.182111</td>\n",
              "      <td>0.681577</td>\n",
              "      <td>0.043642</td>\n",
              "      <td>-0.185071</td>\n",
              "      <td>57.05</td>\n",
              "      <td>0</td>\n",
              "    </tr>\n",
              "    <tr>\n",
              "      <th>284805</th>\n",
              "      <td>1.187322</td>\n",
              "      <td>0.010091</td>\n",
              "      <td>0.075855</td>\n",
              "      <td>1.342862</td>\n",
              "      <td>1.595523</td>\n",
              "      <td>4.294689</td>\n",
              "      <td>-1.306149</td>\n",
              "      <td>1.162367</td>\n",
              "      <td>-0.217213</td>\n",
              "      <td>0.691915</td>\n",
              "      <td>-0.407903</td>\n",
              "      <td>-0.266782</td>\n",
              "      <td>0.260515</td>\n",
              "      <td>-0.092139</td>\n",
              "      <td>1.279121</td>\n",
              "      <td>1.628971</td>\n",
              "      <td>-1.437861</td>\n",
              "      <td>0.900218</td>\n",
              "      <td>-1.048755</td>\n",
              "      <td>-0.001973</td>\n",
              "      <td>0.177577</td>\n",
              "      <td>0.373311</td>\n",
              "      <td>-0.058398</td>\n",
              "      <td>1.004974</td>\n",
              "      <td>0.413102</td>\n",
              "      <td>0.126034</td>\n",
              "      <td>0.049653</td>\n",
              "      <td>0.034768</td>\n",
              "      <td>1.18</td>\n",
              "      <td>0</td>\n",
              "    </tr>\n",
              "    <tr>\n",
              "      <th>284806</th>\n",
              "      <td>1.222846</td>\n",
              "      <td>0.380377</td>\n",
              "      <td>0.482129</td>\n",
              "      <td>1.108062</td>\n",
              "      <td>-0.303232</td>\n",
              "      <td>-0.866639</td>\n",
              "      <td>0.174594</td>\n",
              "      <td>-0.236953</td>\n",
              "      <td>-0.075531</td>\n",
              "      <td>-0.031075</td>\n",
              "      <td>-0.224775</td>\n",
              "      <td>0.677918</td>\n",
              "      <td>0.902318</td>\n",
              "      <td>0.160643</td>\n",
              "      <td>0.928357</td>\n",
              "      <td>0.135551</td>\n",
              "      <td>-0.526530</td>\n",
              "      <td>-0.269098</td>\n",
              "      <td>-0.378173</td>\n",
              "      <td>-0.072322</td>\n",
              "      <td>-0.040973</td>\n",
              "      <td>-0.061822</td>\n",
              "      <td>-0.035327</td>\n",
              "      <td>0.397767</td>\n",
              "      <td>0.569874</td>\n",
              "      <td>-0.442174</td>\n",
              "      <td>0.026928</td>\n",
              "      <td>0.028488</td>\n",
              "      <td>9.99</td>\n",
              "      <td>0</td>\n",
              "    </tr>\n",
              "  </tbody>\n",
              "</table>\n",
              "<p>284807 rows × 30 columns</p>\n",
              "</div>"
            ],
            "text/plain": [
              "              V1        V2        V3  ...       V28  Amount  Class\n",
              "0       1.410619 -1.009365  0.184630  ...  0.015558   49.90      0\n",
              "1       1.202023  0.109317  0.217145  ... -0.006739   32.00      0\n",
              "2       2.016247  0.166647 -1.745843  ... -0.028304   22.80      0\n",
              "3       2.071229 -0.164599 -1.158184  ... -0.064660    1.98      0\n",
              "4      -0.797718 -0.570103  0.037638  ...  0.116949   56.96      0\n",
              "...          ...       ...       ...  ...       ...     ...    ...\n",
              "284802 -0.724152  1.021383  1.132639  ... -0.091023    0.79      0\n",
              "284803 -1.518731  1.024115  1.763515  ... -0.219761   12.99      0\n",
              "284804 -1.258704 -0.032560  3.760179  ... -0.185071   57.05      0\n",
              "284805  1.187322  0.010091  0.075855  ...  0.034768    1.18      0\n",
              "284806  1.222846  0.380377  0.482129  ...  0.028488    9.99      0\n",
              "\n",
              "[284807 rows x 30 columns]"
            ]
          },
          "metadata": {
            "tags": []
          },
          "execution_count": 9
        }
      ]
    },
    {
      "cell_type": "markdown",
      "metadata": {
        "id": "7wNBMVJTjPP6"
      },
      "source": [
        "Выделим целевую переменную в отдельный формат и удалим ее из обучающей выборки."
      ]
    },
    {
      "cell_type": "code",
      "metadata": {
        "colab": {
          "base_uri": "https://localhost:8080/",
          "height": 427
        },
        "id": "R2pEgjSuRLPs",
        "outputId": "6c3c60e5-bd41-4331-e267-c28052077416"
      },
      "source": [
        "y = np.array(df['Class'])\r\n",
        "X = df.drop(['Class'], axis = 1)\r\n",
        "X"
      ],
      "execution_count": null,
      "outputs": [
        {
          "output_type": "execute_result",
          "data": {
            "text/html": [
              "<div>\n",
              "<style scoped>\n",
              "    .dataframe tbody tr th:only-of-type {\n",
              "        vertical-align: middle;\n",
              "    }\n",
              "\n",
              "    .dataframe tbody tr th {\n",
              "        vertical-align: top;\n",
              "    }\n",
              "\n",
              "    .dataframe thead th {\n",
              "        text-align: right;\n",
              "    }\n",
              "</style>\n",
              "<table border=\"1\" class=\"dataframe\">\n",
              "  <thead>\n",
              "    <tr style=\"text-align: right;\">\n",
              "      <th></th>\n",
              "      <th>V1</th>\n",
              "      <th>V2</th>\n",
              "      <th>V3</th>\n",
              "      <th>V4</th>\n",
              "      <th>V5</th>\n",
              "      <th>V6</th>\n",
              "      <th>V7</th>\n",
              "      <th>V8</th>\n",
              "      <th>V9</th>\n",
              "      <th>V10</th>\n",
              "      <th>V11</th>\n",
              "      <th>V12</th>\n",
              "      <th>V13</th>\n",
              "      <th>V14</th>\n",
              "      <th>V15</th>\n",
              "      <th>V16</th>\n",
              "      <th>V17</th>\n",
              "      <th>V18</th>\n",
              "      <th>V19</th>\n",
              "      <th>V20</th>\n",
              "      <th>V21</th>\n",
              "      <th>V22</th>\n",
              "      <th>V23</th>\n",
              "      <th>V24</th>\n",
              "      <th>V25</th>\n",
              "      <th>V26</th>\n",
              "      <th>V27</th>\n",
              "      <th>V28</th>\n",
              "      <th>Amount</th>\n",
              "    </tr>\n",
              "  </thead>\n",
              "  <tbody>\n",
              "    <tr>\n",
              "      <th>0</th>\n",
              "      <td>1.410619</td>\n",
              "      <td>-1.009365</td>\n",
              "      <td>0.184630</td>\n",
              "      <td>-1.379168</td>\n",
              "      <td>-1.422450</td>\n",
              "      <td>-1.063709</td>\n",
              "      <td>-0.664360</td>\n",
              "      <td>-0.174446</td>\n",
              "      <td>-2.273997</td>\n",
              "      <td>1.618986</td>\n",
              "      <td>1.365454</td>\n",
              "      <td>-0.507570</td>\n",
              "      <td>-0.566037</td>\n",
              "      <td>0.299992</td>\n",
              "      <td>-0.255918</td>\n",
              "      <td>-0.389869</td>\n",
              "      <td>0.496327</td>\n",
              "      <td>-0.033225</td>\n",
              "      <td>0.241404</td>\n",
              "      <td>-0.316915</td>\n",
              "      <td>-0.488213</td>\n",
              "      <td>-1.240060</td>\n",
              "      <td>0.201232</td>\n",
              "      <td>0.438873</td>\n",
              "      <td>0.136254</td>\n",
              "      <td>-0.559070</td>\n",
              "      <td>-0.006472</td>\n",
              "      <td>0.015558</td>\n",
              "      <td>49.90</td>\n",
              "    </tr>\n",
              "    <tr>\n",
              "      <th>1</th>\n",
              "      <td>1.202023</td>\n",
              "      <td>0.109317</td>\n",
              "      <td>0.217145</td>\n",
              "      <td>0.193697</td>\n",
              "      <td>-0.306459</td>\n",
              "      <td>-1.000975</td>\n",
              "      <td>0.124776</td>\n",
              "      <td>-0.306617</td>\n",
              "      <td>1.322301</td>\n",
              "      <td>-0.593052</td>\n",
              "      <td>1.224810</td>\n",
              "      <td>-2.133244</td>\n",
              "      <td>1.565823</td>\n",
              "      <td>1.874033</td>\n",
              "      <td>0.388089</td>\n",
              "      <td>-0.411406</td>\n",
              "      <td>0.946169</td>\n",
              "      <td>-0.910133</td>\n",
              "      <td>-0.532673</td>\n",
              "      <td>-0.107395</td>\n",
              "      <td>-0.169405</td>\n",
              "      <td>-0.239903</td>\n",
              "      <td>0.027137</td>\n",
              "      <td>0.414827</td>\n",
              "      <td>0.275356</td>\n",
              "      <td>1.009209</td>\n",
              "      <td>-0.118300</td>\n",
              "      <td>-0.006739</td>\n",
              "      <td>32.00</td>\n",
              "    </tr>\n",
              "    <tr>\n",
              "      <th>2</th>\n",
              "      <td>2.016247</td>\n",
              "      <td>0.166647</td>\n",
              "      <td>-1.745843</td>\n",
              "      <td>0.524195</td>\n",
              "      <td>0.231544</td>\n",
              "      <td>-1.386145</td>\n",
              "      <td>0.306779</td>\n",
              "      <td>-0.389984</td>\n",
              "      <td>0.541653</td>\n",
              "      <td>-0.498994</td>\n",
              "      <td>-0.304668</td>\n",
              "      <td>0.238711</td>\n",
              "      <td>0.341921</td>\n",
              "      <td>-0.789210</td>\n",
              "      <td>0.916111</td>\n",
              "      <td>0.151338</td>\n",
              "      <td>0.408880</td>\n",
              "      <td>0.396701</td>\n",
              "      <td>-0.486326</td>\n",
              "      <td>-0.149729</td>\n",
              "      <td>0.212387</td>\n",
              "      <td>0.769238</td>\n",
              "      <td>-0.043467</td>\n",
              "      <td>-0.137379</td>\n",
              "      <td>0.251802</td>\n",
              "      <td>-0.097144</td>\n",
              "      <td>-0.000751</td>\n",
              "      <td>-0.028304</td>\n",
              "      <td>22.80</td>\n",
              "    </tr>\n",
              "    <tr>\n",
              "      <th>3</th>\n",
              "      <td>2.071229</td>\n",
              "      <td>-0.164599</td>\n",
              "      <td>-1.158184</td>\n",
              "      <td>0.396703</td>\n",
              "      <td>-0.207664</td>\n",
              "      <td>-1.165591</td>\n",
              "      <td>0.078853</td>\n",
              "      <td>-0.239411</td>\n",
              "      <td>0.781389</td>\n",
              "      <td>0.117999</td>\n",
              "      <td>-1.131849</td>\n",
              "      <td>-0.417111</td>\n",
              "      <td>-1.427549</td>\n",
              "      <td>0.568606</td>\n",
              "      <td>0.217312</td>\n",
              "      <td>0.009030</td>\n",
              "      <td>-0.254980</td>\n",
              "      <td>-0.635293</td>\n",
              "      <td>0.211914</td>\n",
              "      <td>-0.316478</td>\n",
              "      <td>-0.316302</td>\n",
              "      <td>-0.850633</td>\n",
              "      <td>0.340030</td>\n",
              "      <td>-0.151909</td>\n",
              "      <td>-0.330108</td>\n",
              "      <td>0.210149</td>\n",
              "      <td>-0.080881</td>\n",
              "      <td>-0.064660</td>\n",
              "      <td>1.98</td>\n",
              "    </tr>\n",
              "    <tr>\n",
              "      <th>4</th>\n",
              "      <td>-0.797718</td>\n",
              "      <td>-0.570103</td>\n",
              "      <td>0.037638</td>\n",
              "      <td>-2.168010</td>\n",
              "      <td>1.194625</td>\n",
              "      <td>-1.206352</td>\n",
              "      <td>0.657955</td>\n",
              "      <td>-0.182741</td>\n",
              "      <td>-1.643850</td>\n",
              "      <td>-0.009793</td>\n",
              "      <td>0.325004</td>\n",
              "      <td>-0.260299</td>\n",
              "      <td>-0.299902</td>\n",
              "      <td>0.154574</td>\n",
              "      <td>-2.098648</td>\n",
              "      <td>0.640170</td>\n",
              "      <td>0.003010</td>\n",
              "      <td>-1.214901</td>\n",
              "      <td>0.586310</td>\n",
              "      <td>0.247067</td>\n",
              "      <td>0.409771</td>\n",
              "      <td>0.867900</td>\n",
              "      <td>-0.225873</td>\n",
              "      <td>-0.351682</td>\n",
              "      <td>0.455894</td>\n",
              "      <td>-0.102062</td>\n",
              "      <td>0.016626</td>\n",
              "      <td>0.116949</td>\n",
              "      <td>56.96</td>\n",
              "    </tr>\n",
              "    <tr>\n",
              "      <th>...</th>\n",
              "      <td>...</td>\n",
              "      <td>...</td>\n",
              "      <td>...</td>\n",
              "      <td>...</td>\n",
              "      <td>...</td>\n",
              "      <td>...</td>\n",
              "      <td>...</td>\n",
              "      <td>...</td>\n",
              "      <td>...</td>\n",
              "      <td>...</td>\n",
              "      <td>...</td>\n",
              "      <td>...</td>\n",
              "      <td>...</td>\n",
              "      <td>...</td>\n",
              "      <td>...</td>\n",
              "      <td>...</td>\n",
              "      <td>...</td>\n",
              "      <td>...</td>\n",
              "      <td>...</td>\n",
              "      <td>...</td>\n",
              "      <td>...</td>\n",
              "      <td>...</td>\n",
              "      <td>...</td>\n",
              "      <td>...</td>\n",
              "      <td>...</td>\n",
              "      <td>...</td>\n",
              "      <td>...</td>\n",
              "      <td>...</td>\n",
              "      <td>...</td>\n",
              "    </tr>\n",
              "    <tr>\n",
              "      <th>284802</th>\n",
              "      <td>-0.724152</td>\n",
              "      <td>1.021383</td>\n",
              "      <td>1.132639</td>\n",
              "      <td>-1.544895</td>\n",
              "      <td>0.247339</td>\n",
              "      <td>-0.676981</td>\n",
              "      <td>0.837985</td>\n",
              "      <td>-0.266815</td>\n",
              "      <td>0.092266</td>\n",
              "      <td>0.252803</td>\n",
              "      <td>1.176852</td>\n",
              "      <td>0.813743</td>\n",
              "      <td>0.557649</td>\n",
              "      <td>-0.267903</td>\n",
              "      <td>-0.301848</td>\n",
              "      <td>0.622791</td>\n",
              "      <td>-1.167308</td>\n",
              "      <td>0.019287</td>\n",
              "      <td>-0.324517</td>\n",
              "      <td>0.242852</td>\n",
              "      <td>-0.077948</td>\n",
              "      <td>-0.045516</td>\n",
              "      <td>-0.151349</td>\n",
              "      <td>0.048324</td>\n",
              "      <td>-0.176779</td>\n",
              "      <td>0.717371</td>\n",
              "      <td>-0.149800</td>\n",
              "      <td>-0.091023</td>\n",
              "      <td>0.79</td>\n",
              "    </tr>\n",
              "    <tr>\n",
              "      <th>284803</th>\n",
              "      <td>-1.518731</td>\n",
              "      <td>1.024115</td>\n",
              "      <td>1.763515</td>\n",
              "      <td>-0.989589</td>\n",
              "      <td>-0.762285</td>\n",
              "      <td>-0.363313</td>\n",
              "      <td>0.164776</td>\n",
              "      <td>0.198028</td>\n",
              "      <td>0.965062</td>\n",
              "      <td>0.475019</td>\n",
              "      <td>0.916405</td>\n",
              "      <td>0.489324</td>\n",
              "      <td>-0.886602</td>\n",
              "      <td>-0.505790</td>\n",
              "      <td>-1.080060</td>\n",
              "      <td>0.209905</td>\n",
              "      <td>-0.485581</td>\n",
              "      <td>0.213983</td>\n",
              "      <td>-0.217645</td>\n",
              "      <td>0.228652</td>\n",
              "      <td>0.049149</td>\n",
              "      <td>0.628476</td>\n",
              "      <td>-0.183944</td>\n",
              "      <td>0.598371</td>\n",
              "      <td>-0.191161</td>\n",
              "      <td>0.892681</td>\n",
              "      <td>-0.216486</td>\n",
              "      <td>-0.219761</td>\n",
              "      <td>12.99</td>\n",
              "    </tr>\n",
              "    <tr>\n",
              "      <th>284804</th>\n",
              "      <td>-1.258704</td>\n",
              "      <td>-0.032560</td>\n",
              "      <td>3.760179</td>\n",
              "      <td>4.880899</td>\n",
              "      <td>0.696797</td>\n",
              "      <td>3.786621</td>\n",
              "      <td>-1.402996</td>\n",
              "      <td>0.883948</td>\n",
              "      <td>0.873015</td>\n",
              "      <td>0.887910</td>\n",
              "      <td>1.208067</td>\n",
              "      <td>-1.860606</td>\n",
              "      <td>1.928294</td>\n",
              "      <td>0.134696</td>\n",
              "      <td>-1.597374</td>\n",
              "      <td>-1.187173</td>\n",
              "      <td>1.855962</td>\n",
              "      <td>-0.208504</td>\n",
              "      <td>0.656236</td>\n",
              "      <td>0.062953</td>\n",
              "      <td>0.004550</td>\n",
              "      <td>1.040622</td>\n",
              "      <td>-0.433750</td>\n",
              "      <td>-1.326326</td>\n",
              "      <td>-0.182111</td>\n",
              "      <td>0.681577</td>\n",
              "      <td>0.043642</td>\n",
              "      <td>-0.185071</td>\n",
              "      <td>57.05</td>\n",
              "    </tr>\n",
              "    <tr>\n",
              "      <th>284805</th>\n",
              "      <td>1.187322</td>\n",
              "      <td>0.010091</td>\n",
              "      <td>0.075855</td>\n",
              "      <td>1.342862</td>\n",
              "      <td>1.595523</td>\n",
              "      <td>4.294689</td>\n",
              "      <td>-1.306149</td>\n",
              "      <td>1.162367</td>\n",
              "      <td>-0.217213</td>\n",
              "      <td>0.691915</td>\n",
              "      <td>-0.407903</td>\n",
              "      <td>-0.266782</td>\n",
              "      <td>0.260515</td>\n",
              "      <td>-0.092139</td>\n",
              "      <td>1.279121</td>\n",
              "      <td>1.628971</td>\n",
              "      <td>-1.437861</td>\n",
              "      <td>0.900218</td>\n",
              "      <td>-1.048755</td>\n",
              "      <td>-0.001973</td>\n",
              "      <td>0.177577</td>\n",
              "      <td>0.373311</td>\n",
              "      <td>-0.058398</td>\n",
              "      <td>1.004974</td>\n",
              "      <td>0.413102</td>\n",
              "      <td>0.126034</td>\n",
              "      <td>0.049653</td>\n",
              "      <td>0.034768</td>\n",
              "      <td>1.18</td>\n",
              "    </tr>\n",
              "    <tr>\n",
              "      <th>284806</th>\n",
              "      <td>1.222846</td>\n",
              "      <td>0.380377</td>\n",
              "      <td>0.482129</td>\n",
              "      <td>1.108062</td>\n",
              "      <td>-0.303232</td>\n",
              "      <td>-0.866639</td>\n",
              "      <td>0.174594</td>\n",
              "      <td>-0.236953</td>\n",
              "      <td>-0.075531</td>\n",
              "      <td>-0.031075</td>\n",
              "      <td>-0.224775</td>\n",
              "      <td>0.677918</td>\n",
              "      <td>0.902318</td>\n",
              "      <td>0.160643</td>\n",
              "      <td>0.928357</td>\n",
              "      <td>0.135551</td>\n",
              "      <td>-0.526530</td>\n",
              "      <td>-0.269098</td>\n",
              "      <td>-0.378173</td>\n",
              "      <td>-0.072322</td>\n",
              "      <td>-0.040973</td>\n",
              "      <td>-0.061822</td>\n",
              "      <td>-0.035327</td>\n",
              "      <td>0.397767</td>\n",
              "      <td>0.569874</td>\n",
              "      <td>-0.442174</td>\n",
              "      <td>0.026928</td>\n",
              "      <td>0.028488</td>\n",
              "      <td>9.99</td>\n",
              "    </tr>\n",
              "  </tbody>\n",
              "</table>\n",
              "<p>284807 rows × 29 columns</p>\n",
              "</div>"
            ],
            "text/plain": [
              "              V1        V2        V3  ...       V27       V28  Amount\n",
              "0       1.410619 -1.009365  0.184630  ... -0.006472  0.015558   49.90\n",
              "1       1.202023  0.109317  0.217145  ... -0.118300 -0.006739   32.00\n",
              "2       2.016247  0.166647 -1.745843  ... -0.000751 -0.028304   22.80\n",
              "3       2.071229 -0.164599 -1.158184  ... -0.080881 -0.064660    1.98\n",
              "4      -0.797718 -0.570103  0.037638  ...  0.016626  0.116949   56.96\n",
              "...          ...       ...       ...  ...       ...       ...     ...\n",
              "284802 -0.724152  1.021383  1.132639  ... -0.149800 -0.091023    0.79\n",
              "284803 -1.518731  1.024115  1.763515  ... -0.216486 -0.219761   12.99\n",
              "284804 -1.258704 -0.032560  3.760179  ...  0.043642 -0.185071   57.05\n",
              "284805  1.187322  0.010091  0.075855  ...  0.049653  0.034768    1.18\n",
              "284806  1.222846  0.380377  0.482129  ...  0.026928  0.028488    9.99\n",
              "\n",
              "[284807 rows x 29 columns]"
            ]
          },
          "metadata": {
            "tags": []
          },
          "execution_count": 10
        }
      ]
    },
    {
      "cell_type": "markdown",
      "metadata": {
        "id": "LfqVckwmjyDf"
      },
      "source": [
        "Построим гистограммы и оценим распределение величин по признакам в наших данных"
      ]
    },
    {
      "cell_type": "code",
      "metadata": {
        "colab": {
          "base_uri": "https://localhost:8080/",
          "height": 520
        },
        "id": "qQ1WXcb8RRTc",
        "outputId": "0c54e319-53c1-44d5-97f0-e5b7b80dc0cd"
      },
      "source": [
        "fig = plt.figure(figsize=(16,8))\r\n",
        "cols = 5\r\n",
        "\r\n",
        "rows = np.ceil(float(X.shape[1]) / cols)\r\n",
        "for i, column in enumerate(X.columns):\r\n",
        "    ax = fig.add_subplot(rows, cols, i + 1)\r\n",
        "    ax.set_title(column)\r\n",
        "    X[column].hist(axes=ax, bins=50)\r\n",
        "    plt.xticks(rotation=\"vertical\")\r\n",
        "plt.subplots_adjust(hspace=0.7, wspace=0.2)"
      ],
      "execution_count": null,
      "outputs": [
        {
          "output_type": "display_data",
          "data": {
            "image/png": "[encoded data removed]",
            "text/plain": [
              "<Figure size 1152x576 with 29 Axes>"
            ]
          },
          "metadata": {
            "tags": [],
            "needs_background": "light"
          }
        }
      ]
    },
    {
      "cell_type": "markdown",
      "metadata": {
        "id": "SEhwT1xhkZZ_"
      },
      "source": [
        "Наши данные сильно не сбалансированны"
      ]
    },
    {
      "cell_type": "markdown",
      "metadata": {
        "id": "EgkZ7klZkmuf"
      },
      "source": [
        "Построим матрицу корреляций, выбросим данные с единичной линейной зависимостью - они просто повысят вычислительную сложность модели."
      ]
    },
    {
      "cell_type": "code",
      "metadata": {
        "colab": {
          "base_uri": "https://localhost:8080/",
          "height": 850
        },
        "id": "d1oYShw_gOtF",
        "outputId": "7e21635b-a115-4c22-8bcd-b513739493dd"
      },
      "source": [
        "correlation = X.corr()\r\n",
        "plt.figure(figsize=(15,15))\r\n",
        "sns.heatmap(correlation, square=True, cmap= 'coolwarm')\r\n",
        "plt.title('Корреляция между различными признаками')\r\n",
        "plt.show()"
      ],
      "execution_count": null,
      "outputs": [
        {
          "output_type": "display_data",
          "data": {
            "image/png": "[encoded data removed]",
            "text/plain": [
              "<Figure size 1080x1080 with 2 Axes>"
            ]
          },
          "metadata": {
            "tags": [],
            "needs_background": "light"
          }
        }
      ]
    },
    {
      "cell_type": "markdown",
      "metadata": {
        "id": "BvQZ3wdPkGNc"
      },
      "source": [
        "\"Тепловая карта\" позволяет сделать вывод об отсутствии \"единичных\" зависимостей и следовательно нет необходимости сокращаь наши данные."
      ]
    },
    {
      "cell_type": "markdown",
      "metadata": {
        "id": "EtPi1dLUkc6T"
      },
      "source": [
        "Создадим обучающую выборку Х, переведем получанные цифровые данные в np.array"
      ]
    },
    {
      "cell_type": "code",
      "metadata": {
        "colab": {
          "base_uri": "https://localhost:8080/"
        },
        "id": "kVvnf4QrojnL",
        "outputId": "940ad75a-0043-4507-a338-7ad14a547dfc"
      },
      "source": [
        "X = np.array(X[X.columns])\r\n",
        "X"
      ],
      "execution_count": null,
      "outputs": [
        {
          "output_type": "execute_result",
          "data": {
            "text/plain": [
              "array([[ 1.41061910e+00, -1.00936458e+00,  1.84630292e-01, ...,\n",
              "        -6.47194828e-03,  1.55581850e-02,  4.99000000e+01],\n",
              "       [ 1.20202338e+00,  1.09317481e-01,  2.17145422e-01, ...,\n",
              "        -1.18300162e-01, -6.73889371e-03,  3.20000000e+01],\n",
              "       [ 2.01624678e+00,  1.66646799e-01, -1.74584333e+00, ...,\n",
              "        -7.50729768e-04, -2.83043621e-02,  2.28000000e+01],\n",
              "       ...,\n",
              "       [-1.25870366e+00, -3.25596694e-02,  3.76017896e+00, ...,\n",
              "         4.36416415e-02, -1.85070879e-01,  5.70500000e+01],\n",
              "       [ 1.18732232e+00,  1.00908277e-02,  7.58552234e-02, ...,\n",
              "         4.96533263e-02,  3.47682461e-02,  1.18000000e+00],\n",
              "       [ 1.22284621e+00,  3.80376668e-01,  4.82128750e-01, ...,\n",
              "         2.69282164e-02,  2.84882254e-02,  9.99000000e+00]])"
            ]
          },
          "metadata": {
            "tags": []
          },
          "execution_count": 13
        }
      ]
    },
    {
      "cell_type": "markdown",
      "metadata": {
        "id": "xKA9_Ju8pD0x"
      },
      "source": [
        "Т.к. изначально мы определили, что наши данные сильно разбросаны, нормализуем их"
      ]
    },
    {
      "cell_type": "code",
      "metadata": {
        "colab": {
          "base_uri": "https://localhost:8080/"
        },
        "id": "u0wYZ0UIRvac",
        "outputId": "6d98b540-8e23-4dcb-d9aa-d827c76bbb17"
      },
      "source": [
        "from sklearn.preprocessing import scale\r\n",
        "X_scaled = scale(np.array(X, dtype='float'), with_std=True, with_mean=True)\r\n",
        "X_scaled"
      ],
      "execution_count": null,
      "outputs": [
        {
          "output_type": "execute_result",
          "data": {
            "text/plain": [
              "array([[ 7.20184099e-01, -6.11252413e-01,  1.21767523e-01, ...,\n",
              "        -1.60342879e-02,  4.71342052e-02, -1.53724892e-01],\n",
              "       [ 6.13686664e-01,  6.62006325e-02,  1.43211929e-01, ...,\n",
              "        -2.93089311e-01, -2.04157747e-02, -2.25290635e-01],\n",
              "       [ 1.02938410e+00,  1.00918201e-01, -1.15142004e+00, ...,\n",
              "        -1.85993718e-03, -8.57493090e-02, -2.62073028e-01],\n",
              "       ...,\n",
              "       [-6.42624477e-01, -1.97175300e-02,  2.47991634e+00, ...,\n",
              "         1.08122410e-01, -5.60680363e-01, -1.25138576e-01],\n",
              "       [ 6.06181114e-01,  6.11081754e-03,  5.00280997e-02, ...,\n",
              "         1.23016393e-01,  1.05331930e-01, -3.48511651e-01],\n",
              "       [ 6.24317646e-01,  2.30349034e-01,  3.17973952e-01, ...,\n",
              "         6.67148062e-02,  8.63063309e-02, -3.13288512e-01]])"
            ]
          },
          "metadata": {
            "tags": []
          },
          "execution_count": 14
        }
      ]
    },
    {
      "cell_type": "markdown",
      "metadata": {
        "id": "QgKHZAUvpjNj"
      },
      "source": [
        "Затем находим индексы в зависимости от метки класса и выбрасываем лишние."
      ]
    },
    {
      "cell_type": "code",
      "metadata": {
        "colab": {
          "base_uri": "https://localhost:8080/"
        },
        "id": "i4s5XQe6R8yO",
        "outputId": "c98bbfb7-845e-4f33-af1a-9eed14c8141b"
      },
      "source": [
        "# np.argwhere вернет индексы тех элементов массива y (целевой переменной), где значение 0\r\n",
        "not_churn_ids = np.argwhere(y == 0).flatten()\r\n",
        "print('Всего не ушедших', len(not_churn_ids))\r\n",
        "not_churn_ids"
      ],
      "execution_count": null,
      "outputs": [
        {
          "output_type": "stream",
          "text": [
            "Всего не ушедших 284315\n"
          ],
          "name": "stdout"
        },
        {
          "output_type": "execute_result",
          "data": {
            "text/plain": [
              "array([     0,      1,      2, ..., 284804, 284805, 284806])"
            ]
          },
          "metadata": {
            "tags": []
          },
          "execution_count": 15
        }
      ]
    },
    {
      "cell_type": "markdown",
      "metadata": {
        "id": "EoHU5YQotxqw"
      },
      "source": [
        "Перемешаем массив с выбранным random state (чтоб в дальнейшем у нас совпадали выборки) выберем в нем \"лишние\" id тех, кто остались (кто портит нам прогноз алгоритма). Кол-во \"лишних\" = кол-во оставшихся - кол-во ушедшых."
      ]
    },
    {
      "cell_type": "code",
      "metadata": {
        "colab": {
          "base_uri": "https://localhost:8080/"
        },
        "id": "Hfn4coq9Trr2",
        "outputId": "7fdfa98c-1a95-466e-c448-fb5eb2c0b770"
      },
      "source": [
        "from sklearn.utils import shuffle\r\n",
        "\r\n",
        "not_churn_ids = shuffle(not_churn_ids, random_state = 42)\r\n",
        "not_churn_ids = not_churn_ids[len(np.argwhere(y == 1).flatten()):]\r\n",
        "print(len(not_churn_ids))\r\n",
        "not_churn_ids"
      ],
      "execution_count": null,
      "outputs": [
        {
          "output_type": "stream",
          "text": [
            "283823\n"
          ],
          "name": "stdout"
        },
        {
          "output_type": "execute_result",
          "data": {
            "text/plain": [
              "array([140114,  28819,  73320, ..., 132159, 147117, 122167])"
            ]
          },
          "metadata": {
            "tags": []
          },
          "execution_count": 16
        }
      ]
    },
    {
      "cell_type": "markdown",
      "metadata": {
        "id": "Mdjgeo61uS-2"
      },
      "source": [
        "Проверим, сбалансированны ли классы, (оставшиеся) - (\"лишние\") = (ушедшие)"
      ]
    },
    {
      "cell_type": "code",
      "metadata": {
        "colab": {
          "base_uri": "https://localhost:8080/"
        },
        "id": "hBmN91IWTySk",
        "outputId": "3ef2ebfb-9d48-49f6-eaa6-0e27ca6145b5"
      },
      "source": [
        "len(np.argwhere(y == 0).flatten()) - len(not_churn_ids) == len(np.argwhere(y == 1).flatten())"
      ],
      "execution_count": null,
      "outputs": [
        {
          "output_type": "execute_result",
          "data": {
            "text/plain": [
              "True"
            ]
          },
          "metadata": {
            "tags": []
          },
          "execution_count": 17
        }
      ]
    },
    {
      "cell_type": "markdown",
      "metadata": {
        "id": "CcVcqAajvJm2"
      },
      "source": [
        "Удаляем \"лишние\" id из X и y"
      ]
    },
    {
      "cell_type": "code",
      "metadata": {
        "id": "CRt8D6XwT2n0"
      },
      "source": [
        "# np.delete принимает массив, индексы, которые выбросить и по какой оси выкидывать\r\n",
        "X = np.delete(X_scaled, not_churn_ids, 0)\r\n",
        "y = np.delete(y, not_churn_ids, 0)"
      ],
      "execution_count": null,
      "outputs": []
    },
    {
      "cell_type": "markdown",
      "metadata": {
        "id": "h6RO5A40vUQu"
      },
      "source": [
        "Выводим размеры наших выборок"
      ]
    },
    {
      "cell_type": "code",
      "metadata": {
        "colab": {
          "base_uri": "https://localhost:8080/"
        },
        "id": "oDrAErvTT-Uc",
        "outputId": "59f47521-363d-479d-c5d8-6e414b5e8221"
      },
      "source": [
        "X.shape, y.shape"
      ],
      "execution_count": null,
      "outputs": [
        {
          "output_type": "execute_result",
          "data": {
            "text/plain": [
              "((984, 29), (984,))"
            ]
          },
          "metadata": {
            "tags": []
          },
          "execution_count": 19
        }
      ]
    },
    {
      "cell_type": "markdown",
      "metadata": {
        "id": "HVAEoidOvc-X"
      },
      "source": [
        "Разбиваем наши выборки на обучающие и тестовые в соотношении 100/20 (они нам понадобятся в дальнейшем)"
      ]
    },
    {
      "cell_type": "code",
      "metadata": {
        "id": "uRsxE8QUUrod"
      },
      "source": [
        "from sklearn.model_selection import train_test_split\r\n",
        "\r\n",
        "X_train, X_test, y_train, y_test = train_test_split(X, y, test_size=0.2)"
      ],
      "execution_count": null,
      "outputs": []
    },
    {
      "cell_type": "markdown",
      "metadata": {
        "id": "9vCUGg-3W3EL"
      },
      "source": [
        "Сохраним дополнительно массив X_ml, он понадобится нам в дальнейшем при работе с моделью MLPC"
      ]
    },
    {
      "cell_type": "code",
      "metadata": {
        "id": "JZmUcydWXT-v"
      },
      "source": [
        "X_ml = X"
      ],
      "execution_count": null,
      "outputs": []
    },
    {
      "cell_type": "markdown",
      "metadata": {
        "id": "gJaEmtKmwhUp"
      },
      "source": [
        "Инициализируем и попробуем построить три классические модели для решения нашей задачи (логистическая регрессия, случайный лес и метод ближайших сосоедей), затем отобразим построенные гиперплоскости полученные в ходе обучения наших моделей"
      ]
    },
    {
      "cell_type": "code",
      "metadata": {
        "colab": {
          "base_uri": "https://localhost:8080/",
          "height": 499
        },
        "id": "N3FWr1_uUvzU",
        "outputId": "d8bb5342-aeff-4178-c1eb-0d6f6121b699"
      },
      "source": [
        "import matplotlib.gridspec as gridspec\r\n",
        "import itertools\r\n",
        "from mlxtend.plotting import plot_decision_regions\r\n",
        "\r\n",
        "# Initializing Classifiers\r\n",
        "clf1 = LogisticRegression(random_state=0)\r\n",
        "clf2 = RandomForestClassifier(random_state=0)\r\n",
        "clf3 = KNeighborsClassifier(n_neighbors = 3)\r\n",
        "\r\n",
        "X = X[:,[0, 2]]\r\n",
        "\r\n",
        "# Plotting Decision Regions\r\n",
        "gs = gridspec.GridSpec(2, 2)\r\n",
        "fig = plt.figure(figsize=(10, 8))\r\n",
        "\r\n",
        "for clf, lab, grd in zip([clf1, clf2, clf3],\r\n",
        "                         ['Logistic Regression', 'Random Forest', 'KNN'],\r\n",
        "                         itertools.product([0, 1], repeat=2)):\r\n",
        "    clf.fit(X, y)\r\n",
        "    ax = plt.subplot(gs[grd[0], grd[1]])\r\n",
        "    fig = plot_decision_regions(X=X, y=y, clf=clf, legend=2)\r\n",
        "    plt.title(lab)\r\n",
        "plt.show()"
      ],
      "execution_count": null,
      "outputs": [
        {
          "output_type": "display_data",
          "data": {
            "image/png": "[encoded data removed]",
            "text/plain": [
              "<Figure size 720x576 with 3 Axes>"
            ]
          },
          "metadata": {
            "tags": [],
            "needs_background": "light"
          }
        }
      ]
    },
    {
      "cell_type": "markdown",
      "metadata": {
        "id": "431VctJ9yr42"
      },
      "source": [
        "Видим, что наши гиперплоскост построены не совсем корректно, поэтому попытаемся оптимизировать наши алгоритмы с помощью подбора классификаторов (мультикласс, OneVsOne - один против одного и OneVsRest - один против двух (в нашем случае)) и выведем значения предсказания наших моделей."
      ]
    },
    {
      "cell_type": "markdown",
      "metadata": {
        "id": "thnq0trabgcw"
      },
      "source": [
        "Выбрав модель Random Forest Multiclass получаем метрики "
      ]
    },
    {
      "cell_type": "code",
      "metadata": {
        "colab": {
          "base_uri": "https://localhost:8080/"
        },
        "id": "hvs3mnvscSI_",
        "outputId": "4248d6d3-f14d-4a37-b208-fc363ba08ade"
      },
      "source": [
        "from sklearn.metrics import recall_score\r\n",
        "from sklearn import metrics\r\n",
        "rf = RandomForestClassifier(max_depth=3, n_estimators=100, random_state = 2)\r\n",
        "rf.fit(X_train, y_train)\r\n",
        "y_pred = rf.predict(X_test)\r\n",
        "print(metrics.classification_report(y_test, y_pred))\r\n",
        "\r\n"
      ],
      "execution_count": null,
      "outputs": [
        {
          "output_type": "stream",
          "text": [
            "              precision    recall  f1-score   support\n",
            "\n",
            "           0       0.91      1.00      0.95        96\n",
            "           1       1.00      0.90      0.95       101\n",
            "\n",
            "    accuracy                           0.95       197\n",
            "   macro avg       0.95      0.95      0.95       197\n",
            "weighted avg       0.95      0.95      0.95       197\n",
            "\n"
          ],
          "name": "stdout"
        }
      ]
    },
    {
      "cell_type": "code",
      "metadata": {
        "colab": {
          "base_uri": "https://localhost:8080/",
          "height": 279
        },
        "id": "ucLyrRYen5KP",
        "outputId": "20dd97fd-9d62-4064-febf-b6b18123df9c"
      },
      "source": [
        "fpr, tpr, thresholds = metrics.roc_curve(y_test, y_pred)\r\n",
        "roc_auc = metrics.auc(fpr, tpr)\r\n",
        "display = metrics.RocCurveDisplay(fpr=fpr, tpr=tpr, roc_auc=roc_auc,estimator_name='предсказание')\r\n",
        "display.plot()  \r\n",
        "plt.show()   \r\n"
      ],
      "execution_count": null,
      "outputs": [
        {
          "output_type": "display_data",
          "data": {
            "image/png": "[encoded data removed]",
            "text/plain": [
              "<Figure size 432x288 with 1 Axes>"
            ]
          },
          "metadata": {
            "tags": [],
            "needs_background": "light"
          }
        }
      ]
    },
    {
      "cell_type": "markdown",
      "metadata": {
        "id": "AcfEV1GB4NHz"
      },
      "source": [
        "Для решения нашей задачи попробуем построить нейронню сеть MLPClassifier (Многослойный классификатор персептрона), которая оптимизирует функцию логарифмических потерь с помощью стохастического градиентного спуска. Задаем размер нейронного слоя - 200, адаптивную скороть обучения и максимальное количество итераций - 10000. Обучаем нашу модель и получаем значение предсказаний."
      ]
    },
    {
      "cell_type": "code",
      "metadata": {
        "id": "WKCP_Q0CYhH3"
      },
      "source": [
        "from sklearn.metrics import recall_score\r\n",
        "from sklearn.neural_network import MLPClassifier"
      ],
      "execution_count": null,
      "outputs": []
    },
    {
      "cell_type": "code",
      "metadata": {
        "colab": {
          "base_uri": "https://localhost:8080/"
        },
        "id": "TMSTpo6vZuVO",
        "outputId": "2f119970-0be5-4804-baa6-5c7e9f566719"
      },
      "source": [
        "MLPC = MLPClassifier(hidden_layer_sizes=(200,), learning_rate = 'adaptive', max_iter=10000)\r\n",
        "MLPC.fit(X_train, y_train)\r\n",
        "y_pred = MLPC.predict(X_test)\r\n",
        "# Получаем значения recall\r\n",
        "recall_acc = recall_score (y_test,y_pred)\r\n",
        "print('Точность',recall_acc)"
      ],
      "execution_count": null,
      "outputs": [
        {
          "output_type": "stream",
          "text": [
            "Точность 0.9405940594059405\n"
          ],
          "name": "stdout"
        }
      ]
    },
    {
      "cell_type": "markdown",
      "metadata": {
        "id": "Q3PoonMN78Un"
      },
      "source": [
        "Посмотрим на метрики качества нашей нейросети через classification report"
      ]
    },
    {
      "cell_type": "code",
      "metadata": {
        "colab": {
          "base_uri": "https://localhost:8080/"
        },
        "id": "5aLaqu3x7auU",
        "outputId": "3f78222f-a06e-41ae-e1cc-e8616b538a2e"
      },
      "source": [
        "print(metrics.classification_report(y_test, y_pred))"
      ],
      "execution_count": null,
      "outputs": [
        {
          "output_type": "stream",
          "text": [
            "              precision    recall  f1-score   support\n",
            "\n",
            "           0       0.94      1.00      0.97        96\n",
            "           1       1.00      0.94      0.97       101\n",
            "\n",
            "    accuracy                           0.97       197\n",
            "   macro avg       0.97      0.97      0.97       197\n",
            "weighted avg       0.97      0.97      0.97       197\n",
            "\n"
          ],
          "name": "stdout"
        }
      ]
    },
    {
      "cell_type": "markdown",
      "metadata": {
        "id": "ors3RivN8FRS"
      },
      "source": [
        "Соотношение f1 имеет довольно хорошие значения"
      ]
    },
    {
      "cell_type": "markdown",
      "metadata": {
        "id": "77QG0eTpsvLy"
      },
      "source": [
        "Посмотрим на полученную гиперплоскость"
      ]
    },
    {
      "cell_type": "code",
      "metadata": {
        "colab": {
          "base_uri": "https://localhost:8080/",
          "height": 262
        },
        "id": "X4xySREQs3QD",
        "outputId": "b8d62d53-eed3-47e3-85db-814bf143a4a7"
      },
      "source": [
        "clf1 = MLPClassifier(hidden_layer_sizes=(200,), learning_rate = 'adaptive', max_iter=10000)\r\n",
        "\r\n",
        "\r\n",
        "X_ml = X_ml[:,[0, 2]]\r\n",
        "\r\n",
        "# Plotting Decision Regions\r\n",
        "gs = gridspec.GridSpec(2, 2)\r\n",
        "fig = plt.figure(figsize=(10, 8))\r\n",
        "\r\n",
        "for clf, lab, grd in zip([clf1],\r\n",
        "                         ['MLPC'],\r\n",
        "                         itertools.product([0, 1], repeat=2)):\r\n",
        "    clf.fit(X_ml, y)\r\n",
        "    ax = plt.subplot(gs[grd[0], grd[1]])\r\n",
        "    fig = plot_decision_regions(X=X, y=y, clf=clf, legend=2)\r\n",
        "    plt.title(lab)\r\n",
        "plt.show()"
      ],
      "execution_count": null,
      "outputs": [
        {
          "output_type": "display_data",
          "data": {
            "image/png": "[encoded data removed]",
            "text/plain": [
              "<Figure size 720x576 with 1 Axes>"
            ]
          },
          "metadata": {
            "tags": [],
            "needs_background": "light"
          }
        }
      ]
    },
    {
      "cell_type": "markdown",
      "metadata": {
        "id": "UIKwweCptrep"
      },
      "source": [
        "Построим ROC кривую"
      ]
    },
    {
      "cell_type": "code",
      "metadata": {
        "colab": {
          "base_uri": "https://localhost:8080/",
          "height": 279
        },
        "id": "mS2L3CHqtxLY",
        "outputId": "5a15c47c-36cb-4621-bdee-4a0cf1f9e4b2"
      },
      "source": [
        "fpr, tpr, thresholds = metrics.roc_curve(y_test, y_pred)\r\n",
        "roc_auc = metrics.auc(fpr, tpr)\r\n",
        "display = metrics.RocCurveDisplay(fpr=fpr, tpr=tpr, roc_auc=roc_auc,estimator_name='предсказание')\r\n",
        "display.plot()  \r\n",
        "plt.show() "
      ],
      "execution_count": null,
      "outputs": [
        {
          "output_type": "display_data",
          "data": {
            "image/png": "[encoded data removed]",
            "text/plain": [
              "<Figure size 432x288 with 1 Axes>"
            ]
          },
          "metadata": {
            "tags": [],
            "needs_background": "light"
          }
        }
      ]
    }
  ]
}
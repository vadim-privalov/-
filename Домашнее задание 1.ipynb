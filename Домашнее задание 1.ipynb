{
 "cells": [
  {
   "cell_type": "code",
   "execution_count": 7,
   "metadata": {},
   "outputs": [
    {
     "name": "stdout",
     "output_type": "stream",
     "text": [
      "[1, 2, 3, 4, 5, 6, 7, 8, 9, 10]\n",
      "[1, 2, 3, 4, 5, 6, 7, 8, 9, 10]\n"
     ]
    }
   ],
   "source": [
    "# Задание 1\n",
    "# Первый способ\n",
    "a1=[]\n",
    "for i in range(1, 11):\n",
    "        a1.append(i)\n",
    "print(a1)\n",
    "\n",
    "# Второй способ\n",
    "a2 = [i for i in range(1, 11)]\n",
    "print(a2)\n"
   ]
  },
  {
   "cell_type": "code",
   "execution_count": 8,
   "metadata": {},
   "outputs": [
    {
     "name": "stdout",
     "output_type": "stream",
     "text": [
      "[2, 4, 6, 8, 10]\n",
      "[2, 4, 6, 8, 10]\n"
     ]
    }
   ],
   "source": [
    "# Задание 2\n",
    "# Первый способ\n",
    "b1=[]\n",
    "for i in range(2, 11, 2):\n",
    "        b1.append(i)\n",
    "print(b1)\n",
    "\n",
    "# Второй способ\n",
    "b2 = [i for i in range(2, 11, 2)]\n",
    "print(b2)"
   ]
  },
  {
   "cell_type": "code",
   "execution_count": 9,
   "metadata": {},
   "outputs": [
    {
     "data": {
      "text/plain": [
       "999999999960.0"
      ]
     },
     "execution_count": 9,
     "metadata": {},
     "output_type": "execute_result"
    }
   ],
   "source": [
    "# Задание 3\n",
    "x = ((100 ** 3) ** 2) - ((10 ** 3) / (5 ** 2))\n",
    "x"
   ]
  },
  {
   "cell_type": "code",
   "execution_count": 10,
   "metadata": {},
   "outputs": [
    {
     "data": {
      "text/plain": [
       "'True'"
      ]
     },
     "execution_count": 10,
     "metadata": {},
     "output_type": "execute_result"
    }
   ],
   "source": [
    "# Задание 4\n",
    "y = \"True\" if ((3 **15 > 3000) and ((3 ** 7) < (7 ** 5))) else \"False\"\n",
    "y"
   ]
  },
  {
   "cell_type": "code",
   "execution_count": 11,
   "metadata": {},
   "outputs": [
    {
     "name": "stdout",
     "output_type": "stream",
     "text": [
      "Введите цену товара: 1000\n",
      "все ок\n"
     ]
    }
   ],
   "source": [
    "# Задание 5\n",
    "price = int(input('Введите цену товара: '))\n",
    "if price < 800:\n",
    "    print(\"цена ниже рыночной\")\n",
    "elif price > 1200:\n",
    "    print(\"цена выше рынка \")\n",
    "else:\n",
    "    print(\"все ок\")\n"
   ]
  },
  {
   "cell_type": "code",
   "execution_count": 12,
   "metadata": {},
   "outputs": [
    {
     "data": {
      "text/plain": [
       "{'price_1': 500, 'price_2': 400, 'price_3': 600}"
      ]
     },
     "execution_count": 12,
     "metadata": {},
     "output_type": "execute_result"
    }
   ],
   "source": [
    "# Задание 6\n",
    "dictionary_1 = {'price_1': 300, 'price_2': 400}\n",
    "dictionary_2 = {'price_1': 500, 'price_3': 600}\n",
    "dictionary_1.update(dictionary_2)\n",
    "dictionary_1"
   ]
  },
  {
   "cell_type": "code",
   "execution_count": 13,
   "metadata": {},
   "outputs": [],
   "source": [
    "import time\n",
    "import numpy as np\n",
    "import pandas as pd"
   ]
  },
  {
   "cell_type": "code",
   "execution_count": 14,
   "metadata": {},
   "outputs": [
    {
     "name": "stdout",
     "output_type": "stream",
     "text": [
      "\n",
      " Частное массивов :\n",
      "Время затраченное на деление списков типа list: 0.12167167663574219 секунд\n",
      "Время затраченное на деление массивов типа ndarray: 0.004987239837646484 секунд\n"
     ]
    }
   ],
   "source": [
    "# Задание 7\n",
    "# Зададим размер списка/массива\n",
    "size = 10 ** 6\n",
    "# создадим списки типа list\n",
    "list1 = range(1, size) \n",
    "list2 = range(1, size) \n",
    "   \n",
    "# создадим массивы типа ndarrays \n",
    "array1 = np.arange(1, size + 1)   \n",
    "array2 = np.arange(1, size + 1) \n",
    "\n",
    "print(\"\\n Частное массивов :\")\n",
    "\n",
    "# Включим счетчик времени перед делением\n",
    "initialTime = time.time() \n",
    "  \n",
    "# разделим элементы списков\n",
    "resultList = [(a / b) for a, b in zip(list1, list2)] \n",
    "   \n",
    "# посчитаем затраченное время\n",
    "print(\"Время затраченное на деление списков типа list:\",  \n",
    "      (time.time() - initialTime), \n",
    "      \"секунд\") \n",
    "   \n",
    "# Включим новый счетчик времени перед новым делением\n",
    "initialTime = time.time() \n",
    "  \n",
    "# разделим элементы массивов \n",
    "resultArray = array1 / array2 \n",
    "   \n",
    "# посчитаем затраченное время\n",
    "print(\"Время затраченное на деление массивов типа ndarray:\", \n",
    "      (time.time() - initialTime), \n",
    "      \"секунд\")"
   ]
  },
  {
   "cell_type": "code",
   "execution_count": 15,
   "metadata": {},
   "outputs": [
    {
     "name": "stdout",
     "output_type": "stream",
     "text": [
      "28\n",
      "84\n",
      "98\n",
      "168\n",
      "182\n",
      "189\n",
      "238\n",
      "280\n",
      "287\n",
      "308\n",
      "378\n",
      "385\n",
      "448\n",
      "483\n"
     ]
    }
   ],
   "source": [
    "# Задание 8\n",
    "# Создаем цикл, затем проверяем на деление без остатка на 7 и содержание \"8\"\n",
    "for x in range(500):\n",
    "     if x % 7 == 0 and '8' in str (x):\n",
    "            print(x)"
   ]
  },
  {
   "cell_type": "code",
   "execution_count": 16,
   "metadata": {},
   "outputs": [
    {
     "name": "stdout",
     "output_type": "stream",
     "text": [
      "{'abc': (0, 3), 'def': (1, 3), 'hello': (2, 5), 'world': (3, 5)}\n"
     ]
    }
   ],
   "source": [
    "# Задание 9\n",
    "# создаем новый список, в котором измеряем длину отдельного элемента массива и из него составляем пару\n",
    "mas = ['abc', 'def', 'hello', 'world']\n",
    "newmas = {value: (index, len(value),) for index, value in enumerate(mas)}\n",
    "print(newmas)"
   ]
  },
  {
   "cell_type": "code",
   "execution_count": 17,
   "metadata": {},
   "outputs": [
    {
     "name": "stdout",
     "output_type": "stream",
     "text": [
      "Cумма 6, названия [['a', 'b']]\n"
     ]
    }
   ],
   "source": [
    "# Задание 10\n",
    "summ = 0\n",
    "names = []\n",
    "def another_func(*args, **kwargs):\n",
    "    return args\n",
    "summ = sum(another_func(1, 2, 3, a=4, b=5))\n",
    "def another_func(*args, **kwargs):\n",
    "    return kwargs\n",
    "names.append(list(dict.keys(another_func(1, 2, 3, a=4, b=5))))\n",
    "print(f'Cумма {summ}, названия {names}')\n",
    "# Понимаю, что накрутил решение, но смог тошлько так......"
   ]
  },
  {
   "cell_type": "code",
   "execution_count": null,
   "metadata": {},
   "outputs": [],
   "source": []
  }
 ],
 "metadata": {
  "kernelspec": {
   "display_name": "Python 3",
   "language": "python",
   "name": "python3"
  },
  "language_info": {
   "codemirror_mode": {
    "name": "ipython",
    "version": 3
   },
   "file_extension": ".py",
   "mimetype": "text/x-python",
   "name": "python",
   "nbconvert_exporter": "python",
   "pygments_lexer": "ipython3",
   "version": "3.7.6"
  }
 },
 "nbformat": 4,
 "nbformat_minor": 4
}

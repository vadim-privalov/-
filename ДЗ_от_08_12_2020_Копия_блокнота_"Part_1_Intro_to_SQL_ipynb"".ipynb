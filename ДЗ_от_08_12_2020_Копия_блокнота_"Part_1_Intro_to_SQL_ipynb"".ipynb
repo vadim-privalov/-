{
  "nbformat": 4,
  "nbformat_minor": 0,
  "metadata": {
    "colab": {
      "name": "ДЗ от 08.12.2020 Копия блокнота \"Part_1.Intro_to_SQL.ipynb\"\"",
      "provenance": [],
      "collapsed_sections": [],
      "include_colab_link": true
    },
    "kernelspec": {
      "name": "python3",
      "display_name": "Python 3"
    }
  },
  "cells": [
    {
      "cell_type": "markdown",
      "metadata": {
        "id": "view-in-github",
        "colab_type": "text"
      },
      "source": [
        "<a href=\"https://colab.research.google.com/github/vadim-privalov/-/blob/main/%D0%94%D0%97_%D0%BE%D1%82_08_12_2020_%D0%9A%D0%BE%D0%BF%D0%B8%D1%8F_%D0%B1%D0%BB%D0%BE%D0%BA%D0%BD%D0%BE%D1%82%D0%B0_%22Part_1_Intro_to_SQL_ipynb%22%22.ipynb\" target=\"_parent\"><img src=\"https://colab.research.google.com/assets/colab-badge.svg\" alt=\"Open In Colab\"/></a>"
      ]
    },
    {
      "cell_type": "markdown",
      "metadata": {
        "id": "80t2tnksleip"
      },
      "source": [
        "# План занятия\n",
        " - Локальные БД. Работа с библиотекой sqlite3\n",
        " - Представление БД с использованием Pandas\n",
        " - Удаленные БД. Работа с библиотекой SQLAlchemy"
      ]
    },
    {
      "cell_type": "markdown",
      "metadata": {
        "id": "sB8DjZif3tZA"
      },
      "source": [
        "# Введение\n",
        "\n",
        "База данных может храниться локально, на том же компьютере, на котором запускается прикладное программное обеспечение для работы с базой данных или на удаленном компьютере.\n",
        "\n",
        "Google Colab (точнее Python, запускаемый в среде Google Colab) позволяет работать и с условно «локальной» базой данных и с базой данных на удаленном сервере. \n",
        "- В первом случае может использоваться СУБД **SQLite**, которая будет хранится на облачном диске Google Drive. Для среды Google Colab это будет локальная БД.\n",
        "- В случае работы с удаленной БД можно использовать **SQLAlchemy**.\n",
        "\n",
        "Оба модуля **SQLite** и **SQLAlchemy** рассмотрим ниже."
      ]
    },
    {
      "cell_type": "markdown",
      "metadata": {
        "id": "ua_DcBGgE-rm"
      },
      "source": [
        "# SQLite\n",
        "\n",
        "**SQLite** — компактная встраиваемая реляционная база данных. Является чисто реляционной базой данных.\n",
        "\n",
        "Слово «встраиваемый» означает, что SQLite **не использует парадигму клиент-сервер.** Модуль sqlite3 входит в установочный пакет языка Python, является компонентом стандартной библиотеки и не требует отдельной загрузки и установки."
      ]
    },
    {
      "cell_type": "markdown",
      "metadata": {
        "id": "Q1eGsLrqktGT"
      },
      "source": [
        "Pipeline для работы с БД при помощи библиотеки SQLite"
      ]
    },
    {
      "cell_type": "markdown",
      "metadata": {
        "id": "xwDpJHvGk1VI"
      },
      "source": [
        "``` \n",
        "import sqlite3\n",
        "\n",
        "conn = sqlite3.connect(path)\n",
        "\n",
        "cursor = conn.cursor()\n",
        "\n",
        "# Работа с БД\n",
        "# ...\n",
        "# ...\n",
        "\n",
        "cursor.close()\n",
        "conn.close()\n",
        "```"
      ]
    },
    {
      "cell_type": "markdown",
      "metadata": {
        "id": "uBs-HtlahVnd"
      },
      "source": [
        "## Подключение к базе данных"
      ]
    },
    {
      "cell_type": "markdown",
      "metadata": {
        "id": "L_jaMIJM3j_K"
      },
      "source": [
        "Для доступа к диску Google Drive сервису Google Colab необходимо дать разрешение на подключение к диску.\n",
        "\n",
        "Для подключения и разрешения доступа Google Colab к диску Google Drive используем следующий код:"
      ]
    },
    {
      "cell_type": "code",
      "metadata": {
        "colab": {
          "base_uri": "https://localhost:8080/"
        },
        "id": "dAglsJlB3OLq",
        "outputId": "c1c1d46d-23e1-46e5-949c-b810a4fd6c4e"
      },
      "source": [
        "from google.colab import drive\n",
        "drive.mount('/content/drive')"
      ],
      "execution_count": null,
      "outputs": [
        {
          "output_type": "stream",
          "text": [
            "Drive already mounted at /content/drive; to attempt to forcibly remount, call drive.mount(\"/content/drive\", force_remount=True).\n"
          ],
          "name": "stdout"
        }
      ]
    },
    {
      "cell_type": "markdown",
      "metadata": {
        "id": "Vbw0opr1hZC-"
      },
      "source": [
        "Подключаем модуль для работы с базой SQLite"
      ]
    },
    {
      "cell_type": "code",
      "metadata": {
        "id": "FZJh6NFAhaU_"
      },
      "source": [
        "import sqlite3"
      ],
      "execution_count": null,
      "outputs": []
    },
    {
      "cell_type": "markdown",
      "metadata": {
        "id": "lkTvGLP-LZWv"
      },
      "source": [
        "Непосредственно модуль sqlite3 – это API к СУБД SQLite. Своего рода адаптер, который переводит команды, написанные на Питоне, в команды, которые понимает SQLite. Как и наоборот, доставляет ответы от SQLite в python-программу."
      ]
    },
    {
      "cell_type": "code",
      "metadata": {
        "colab": {
          "base_uri": "https://localhost:8080/"
        },
        "id": "QtG-Ux5fLdNq",
        "outputId": "51295dcc-73ca-48cd-f9a1-05424546170b"
      },
      "source": [
        "dir(sqlite3)"
      ],
      "execution_count": null,
      "outputs": [
        {
          "output_type": "execute_result",
          "data": {
            "text/plain": [
              "['Binary',\n",
              " 'Cache',\n",
              " 'Connection',\n",
              " 'Cursor',\n",
              " 'DataError',\n",
              " 'DatabaseError',\n",
              " 'Date',\n",
              " 'DateFromTicks',\n",
              " 'Error',\n",
              " 'IntegrityError',\n",
              " 'InterfaceError',\n",
              " 'InternalError',\n",
              " 'NotSupportedError',\n",
              " 'OperationalError',\n",
              " 'OptimizedUnicode',\n",
              " 'PARSE_COLNAMES',\n",
              " 'PARSE_DECLTYPES',\n",
              " 'PrepareProtocol',\n",
              " 'ProgrammingError',\n",
              " 'Row',\n",
              " 'SQLITE_ALTER_TABLE',\n",
              " 'SQLITE_ANALYZE',\n",
              " 'SQLITE_ATTACH',\n",
              " 'SQLITE_CREATE_INDEX',\n",
              " 'SQLITE_CREATE_TABLE',\n",
              " 'SQLITE_CREATE_TEMP_INDEX',\n",
              " 'SQLITE_CREATE_TEMP_TABLE',\n",
              " 'SQLITE_CREATE_TEMP_TRIGGER',\n",
              " 'SQLITE_CREATE_TEMP_VIEW',\n",
              " 'SQLITE_CREATE_TRIGGER',\n",
              " 'SQLITE_CREATE_VIEW',\n",
              " 'SQLITE_DELETE',\n",
              " 'SQLITE_DENY',\n",
              " 'SQLITE_DETACH',\n",
              " 'SQLITE_DROP_INDEX',\n",
              " 'SQLITE_DROP_TABLE',\n",
              " 'SQLITE_DROP_TEMP_INDEX',\n",
              " 'SQLITE_DROP_TEMP_TABLE',\n",
              " 'SQLITE_DROP_TEMP_TRIGGER',\n",
              " 'SQLITE_DROP_TEMP_VIEW',\n",
              " 'SQLITE_DROP_TRIGGER',\n",
              " 'SQLITE_DROP_VIEW',\n",
              " 'SQLITE_IGNORE',\n",
              " 'SQLITE_INSERT',\n",
              " 'SQLITE_OK',\n",
              " 'SQLITE_PRAGMA',\n",
              " 'SQLITE_READ',\n",
              " 'SQLITE_REINDEX',\n",
              " 'SQLITE_SELECT',\n",
              " 'SQLITE_TRANSACTION',\n",
              " 'SQLITE_UPDATE',\n",
              " 'Statement',\n",
              " 'Time',\n",
              " 'TimeFromTicks',\n",
              " 'Timestamp',\n",
              " 'TimestampFromTicks',\n",
              " 'Warning',\n",
              " '__builtins__',\n",
              " '__cached__',\n",
              " '__doc__',\n",
              " '__file__',\n",
              " '__loader__',\n",
              " '__name__',\n",
              " '__package__',\n",
              " '__path__',\n",
              " '__spec__',\n",
              " 'adapt',\n",
              " 'adapters',\n",
              " 'apilevel',\n",
              " 'collections',\n",
              " 'complete_statement',\n",
              " 'connect',\n",
              " 'converters',\n",
              " 'datetime',\n",
              " 'dbapi2',\n",
              " 'enable_callback_tracebacks',\n",
              " 'enable_shared_cache',\n",
              " 'paramstyle',\n",
              " 'register_adapter',\n",
              " 'register_converter',\n",
              " 'sqlite_version',\n",
              " 'sqlite_version_info',\n",
              " 'threadsafety',\n",
              " 'time',\n",
              " 'version',\n",
              " 'version_info']"
            ]
          },
          "metadata": {
            "tags": []
          },
          "execution_count": 3
        }
      ]
    },
    {
      "cell_type": "markdown",
      "metadata": {
        "id": "ktxOs6gxhkcv"
      },
      "source": [
        "Создадим папку \"my_databases\", где будут хранится наши БД"
      ]
    },
    {
      "cell_type": "code",
      "metadata": {
        "id": "hHke_8Vehq5G"
      },
      "source": [
        "import os\n",
        "path = \"./drive/My Drive/my_databases\"\n",
        "if not os.path.exists(path):\n",
        "    os.mkdir(path)"
      ],
      "execution_count": null,
      "outputs": []
    },
    {
      "cell_type": "code",
      "metadata": {
        "colab": {
          "base_uri": "https://localhost:8080/"
        },
        "id": "LDDoqBLxTcaQ",
        "outputId": "80abaad3-6790-45bc-806f-96b7884f7bf7"
      },
      "source": [
        "os.path.exists(path)"
      ],
      "execution_count": null,
      "outputs": [
        {
          "output_type": "execute_result",
          "data": {
            "text/plain": [
              "True"
            ]
          },
          "metadata": {
            "tags": []
          },
          "execution_count": 5
        }
      ]
    },
    {
      "cell_type": "markdown",
      "metadata": {
        "id": "ATDnFJTrhfKC"
      },
      "source": [
        "Подключаемся к базе test.db. Если этого файла нет в каталоге, то он будет создан.\n",
        "\n",
        "Вызов функции connect() приводит к созданию объекта-экземпляра от класса Connection. Этот объект обеспечивает связь с файлом базы данных, представляет конкретную БД в программе:"
      ]
    },
    {
      "cell_type": "code",
      "metadata": {
        "colab": {
          "base_uri": "https://localhost:8080/"
        },
        "id": "KV6p7ngjhins",
        "outputId": "2a73c034-6f0a-4384-def0-6da4029c0403"
      },
      "source": [
        "conn = sqlite3.connect(path + '/test.db')\n",
        "print(\"Opened database successfully\");"
      ],
      "execution_count": null,
      "outputs": [
        {
          "output_type": "stream",
          "text": [
            "Opened database successfully\n"
          ],
          "name": "stdout"
        }
      ]
    },
    {
      "cell_type": "markdown",
      "metadata": {
        "id": "x3QgLWzeL3cn"
      },
      "source": [
        "После того как экземпляр Connection создан, чтобы выполнять SQL-команды, надо создать еще один объект, но теперь уже от класса Cursor. Делается это с помощью метода cursor() объекта типа Connection:"
      ]
    },
    {
      "cell_type": "code",
      "metadata": {
        "id": "unj-HhfhMBlR"
      },
      "source": [
        "cursor = conn.cursor()"
      ],
      "execution_count": null,
      "outputs": []
    },
    {
      "cell_type": "code",
      "metadata": {
        "id": "_xkGEn95uh6W",
        "colab": {
          "base_uri": "https://localhost:8080/"
        },
        "outputId": "89125642-81b7-433b-904e-dad5e7c5ccde"
      },
      "source": [
        "cursor.execute('''\n",
        "CREATE TABLE IF NOT EXISTS team_data(team text, \n",
        "                      country text, \n",
        "                      season integer, \n",
        "                      total_goals integer);''')\n",
        "\n",
        "conn.commit()\n",
        "\n",
        "print(\"Table created successfully\");\n",
        "\n",
        "#conn.close()"
      ],
      "execution_count": null,
      "outputs": [
        {
          "output_type": "stream",
          "text": [
            "Table created successfully\n"
          ],
          "name": "stdout"
        }
      ]
    },
    {
      "cell_type": "markdown",
      "metadata": {
        "id": "tY_zkuSjM6e6"
      },
      "source": [
        "Заполнять таблицы можно тоже с помощью **execute().**"
      ]
    },
    {
      "cell_type": "code",
      "metadata": {
        "id": "r9SeHPpgu73Z",
        "colab": {
          "base_uri": "https://localhost:8080/"
        },
        "outputId": "a9137f56-78e7-44ef-fbeb-da100244cfb4"
      },
      "source": [
        "# INSERTING VALUES\n",
        "\n",
        "cursor.execute(\"INSERT INTO team_data VALUES('Real Madrid', 'Spain', 2019, 53);\")\n",
        "cursor.execute(\"INSERT INTO team_data VALUES('Barcelona', 'Spain', 2019, 47);\")"
      ],
      "execution_count": null,
      "outputs": [
        {
          "output_type": "execute_result",
          "data": {
            "text/plain": [
              "<sqlite3.Cursor at 0x7f96d57e6810>"
            ]
          },
          "metadata": {
            "tags": []
          },
          "execution_count": 72
        }
      ]
    },
    {
      "cell_type": "markdown",
      "metadata": {
        "id": "D9Zp5U9ONROr"
      },
      "source": [
        "Однако, если требуется вставить несколько записей, лучше воспользоваться методом **executemany():**"
      ]
    },
    {
      "cell_type": "code",
      "metadata": {
        "colab": {
          "base_uri": "https://localhost:8080/"
        },
        "id": "zZsi_SyHNPd5",
        "outputId": "f6dea413-4a0e-42ef-aeb2-f681e6befd4a"
      },
      "source": [
        "sections = [('Arsenal', 'UK', 2019, 52), ('Real Madrid', 'Spain', 2018, 49),\n",
        "             ('Barcelona', 'Spain', 2018, 45), ('Arsenal', 'UK', 2018, 50 )]\n",
        "cursor.executemany(\"INSERT INTO team_data VALUES (?, ?, ?, ?)\", sections)"
      ],
      "execution_count": null,
      "outputs": [
        {
          "output_type": "execute_result",
          "data": {
            "text/plain": [
              "<sqlite3.Cursor at 0x7f7aeb2d3ab0>"
            ]
          },
          "metadata": {
            "tags": []
          },
          "execution_count": 26
        }
      ]
    },
    {
      "cell_type": "markdown",
      "metadata": {
        "id": "AmGdFOz5NZEL"
      },
      "source": [
        "Для того, чтобы корректно завершить работу с базой данных, надо применить изменения (выполнить транзакцию) **commit()** и разорвать соединение **close()**. Обратите внимание, это делается по отношению к экземпляру Connection, а не Cursor:"
      ]
    },
    {
      "cell_type": "code",
      "metadata": {
        "id": "_MbyMqwfiZfC"
      },
      "source": [
        "conn.commit()\n",
        "conn.close()"
      ],
      "execution_count": null,
      "outputs": []
    },
    {
      "cell_type": "code",
      "metadata": {
        "id": "L9nIsr9Jwuds"
      },
      "source": [
        "# Average goal by team\n",
        "\n",
        "conn = sqlite3.connect(path + '/test.db')\n",
        "# Создаем объект типа cursor для доступа к данным\n",
        "cursor = conn.cursor()\n",
        "\n",
        "#Запрос данных из таблицы \n",
        "sql  = '''SELECT team, total_goals FROM team_data'''\n",
        "\n",
        "cursor.execute(sql)\n",
        "\n",
        "for row in cursor:\n",
        "    print(row)"
      ],
      "execution_count": null,
      "outputs": []
    },
    {
      "cell_type": "code",
      "metadata": {
        "colab": {
          "base_uri": "https://localhost:8080/"
        },
        "id": "53iht_UoSNUT",
        "outputId": "c00b4204-8d7a-4d45-ef17-9bf8fb08f55d"
      },
      "source": [
        "#Запрос данных из таблицы \n",
        "sql  = ''' SELECT team, AVG(total_goals) FROM team_data'''\n",
        "\n",
        "cursor.execute(sql)\n",
        "\n",
        "for row in cursor:\n",
        "    print(row)"
      ],
      "execution_count": null,
      "outputs": [
        {
          "output_type": "stream",
          "text": [
            "('Arsenal', 49.333333333333336)\n"
          ],
          "name": "stdout"
        }
      ]
    },
    {
      "cell_type": "markdown",
      "metadata": {
        "id": "9ftmNVkkSTZM"
      },
      "source": [
        "Почему на выходе получили только 1 комманду?"
      ]
    },
    {
      "cell_type": "code",
      "metadata": {
        "colab": {
          "base_uri": "https://localhost:8080/"
        },
        "id": "j-lHaxoHR8nW",
        "outputId": "59ce77a1-69bc-49a9-ee23-21b807c3713d"
      },
      "source": [
        "sql  = ''' SELECT team, AVG(total_goals) AS avg_goals FROM team_data GROUP BY team;'''\n",
        "cursor.execute(sql)\n",
        "\n",
        "for row in cursor:\n",
        "  print(row)"
      ],
      "execution_count": null,
      "outputs": [
        {
          "output_type": "stream",
          "text": [
            "('Arsenal', 51.0)\n",
            "('Barcelona', 46.0)\n",
            "('Real Madrid', 51.0)\n"
          ],
          "name": "stdout"
        }
      ]
    },
    {
      "cell_type": "code",
      "metadata": {
        "id": "3a-Cc7ObR99i"
      },
      "source": [
        "cursor.close()\n",
        "conn.close()"
      ],
      "execution_count": null,
      "outputs": []
    },
    {
      "cell_type": "code",
      "metadata": {
        "id": "HfJEEubPye8h",
        "colab": {
          "base_uri": "https://localhost:8080/"
        },
        "outputId": "85b7cb42-5138-4b1e-d42d-1a460ccc66cd"
      },
      "source": [
        "# First try to filter the teams with average goals higher than 50\n",
        "# This query will generate an error\n",
        "\n",
        "conn = sqlite3.connect(path + '/test.db')\n",
        "cursor = conn.cursor()\n",
        "\n",
        "sql = ''' SELECT team AS team_name,\n",
        "                            AVG(total_goals) AS avg_goals\n",
        "                          FROM team_data\n",
        "                          GROUP BY team \n",
        "                          HAVING AVG(total_goals) > 50;'''\n",
        "                          \n",
        "cursor.execute(sql)\n",
        "\n",
        "for row in cursor:\n",
        "  print(row)\n",
        "conn.close()"
      ],
      "execution_count": null,
      "outputs": [
        {
          "output_type": "stream",
          "text": [
            "('Arsenal', 51.0)\n",
            "('Real Madrid', 51.0)\n"
          ],
          "name": "stdout"
        }
      ]
    },
    {
      "cell_type": "code",
      "metadata": {
        "id": "NlJ3wc21zU3l",
        "colab": {
          "base_uri": "https://localhost:8080/"
        },
        "outputId": "25323bbc-900b-4ab8-f5c2-ad0f6b3bb68f"
      },
      "source": [
        "# Now, the correct query, using the appropriate sub-query\n",
        "\n",
        "conn = sqlite3.connect(path + '/test.db')\n",
        "\n",
        "cursor = conn.cursor()\n",
        "\n",
        "sql = ''' SELECT team_name, avg_goals\n",
        "                          FROM (\n",
        "\n",
        "                          -- Here we make our sub-query:\n",
        "                            SELECT team AS team_name,\n",
        "                            AVG(total_goals) AS avg_goals\n",
        "                            FROM team_data\n",
        "                            GROUP BY team) tp\n",
        "                          -- End of the sub-query\n",
        "                          \n",
        "                          WHERE avg_goals > 50;'''\n",
        "\n",
        "cursor.execute(sql)\n",
        "\n",
        "for row in cursor:\n",
        "  print(row)\n",
        "conn.close()"
      ],
      "execution_count": null,
      "outputs": [
        {
          "output_type": "stream",
          "text": [
            "('Arsenal', 51.0)\n",
            "('Real Madrid', 51.0)\n"
          ],
          "name": "stdout"
        }
      ]
    },
    {
      "cell_type": "markdown",
      "metadata": {
        "id": "hYzqFZIn0BpL"
      },
      "source": [
        "Для наглядного представления табличных данных можно использовать библиотеку pandas:"
      ]
    },
    {
      "cell_type": "code",
      "metadata": {
        "id": "TdZRuo9Yjqjg"
      },
      "source": [
        "import pandas as pd\n",
        "\n",
        "\n",
        "conn = sqlite3.connect(path + '/test.db')\n",
        "cursor = conn.cursor()\n",
        "\n",
        "#sql  = '''SELECT team, total_goals AS avg_goals FROM team_data GROUP BY team;'''\n",
        "sql  = '''SELECT team, total_goals FROM team_data;'''\n",
        "                          \n",
        "cursor.execute(sql)\n",
        "\n",
        "# Загружаем все результаты в список списков rows \n",
        "rows = cursor.fetchall()"
      ],
      "execution_count": null,
      "outputs": []
    },
    {
      "cell_type": "code",
      "metadata": {
        "colab": {
          "base_uri": "https://localhost:8080/"
        },
        "id": "Y_jAk9adXEaF",
        "outputId": "35a53475-38e8-4410-8bb3-85f32c12af68"
      },
      "source": [
        "rows"
      ],
      "execution_count": null,
      "outputs": [
        {
          "output_type": "execute_result",
          "data": {
            "text/plain": [
              "[]"
            ]
          },
          "metadata": {
            "tags": []
          },
          "execution_count": 10
        }
      ]
    },
    {
      "cell_type": "code",
      "metadata": {
        "colab": {
          "base_uri": "https://localhost:8080/",
          "height": 421
        },
        "id": "rd7OlD97jrFm",
        "outputId": "b4c6a986-9a4f-4a4a-81aa-de28e1b404d5"
      },
      "source": [
        "pd.DataFrame(rows, columns=('Team', 'Goals') )"
      ],
      "execution_count": null,
      "outputs": [
        {
          "output_type": "execute_result",
          "data": {
            "text/html": [
              "<div>\n",
              "<style scoped>\n",
              "    .dataframe tbody tr th:only-of-type {\n",
              "        vertical-align: middle;\n",
              "    }\n",
              "\n",
              "    .dataframe tbody tr th {\n",
              "        vertical-align: top;\n",
              "    }\n",
              "\n",
              "    .dataframe thead th {\n",
              "        text-align: right;\n",
              "    }\n",
              "</style>\n",
              "<table border=\"1\" class=\"dataframe\">\n",
              "  <thead>\n",
              "    <tr style=\"text-align: right;\">\n",
              "      <th></th>\n",
              "      <th>Team</th>\n",
              "      <th>Goals</th>\n",
              "    </tr>\n",
              "  </thead>\n",
              "  <tbody>\n",
              "    <tr>\n",
              "      <th>0</th>\n",
              "      <td>Real Madrid</td>\n",
              "      <td>53</td>\n",
              "    </tr>\n",
              "    <tr>\n",
              "      <th>1</th>\n",
              "      <td>Barcelona</td>\n",
              "      <td>47</td>\n",
              "    </tr>\n",
              "    <tr>\n",
              "      <th>2</th>\n",
              "      <td>Arsenal</td>\n",
              "      <td>52</td>\n",
              "    </tr>\n",
              "    <tr>\n",
              "      <th>3</th>\n",
              "      <td>Real Madrid</td>\n",
              "      <td>49</td>\n",
              "    </tr>\n",
              "    <tr>\n",
              "      <th>4</th>\n",
              "      <td>Barcelona</td>\n",
              "      <td>45</td>\n",
              "    </tr>\n",
              "    <tr>\n",
              "      <th>5</th>\n",
              "      <td>Arsenal</td>\n",
              "      <td>50</td>\n",
              "    </tr>\n",
              "    <tr>\n",
              "      <th>6</th>\n",
              "      <td>Real Madrid</td>\n",
              "      <td>53</td>\n",
              "    </tr>\n",
              "    <tr>\n",
              "      <th>7</th>\n",
              "      <td>Barcelona</td>\n",
              "      <td>47</td>\n",
              "    </tr>\n",
              "    <tr>\n",
              "      <th>8</th>\n",
              "      <td>Arsenal</td>\n",
              "      <td>52</td>\n",
              "    </tr>\n",
              "    <tr>\n",
              "      <th>9</th>\n",
              "      <td>Real Madrid</td>\n",
              "      <td>49</td>\n",
              "    </tr>\n",
              "    <tr>\n",
              "      <th>10</th>\n",
              "      <td>Barcelona</td>\n",
              "      <td>45</td>\n",
              "    </tr>\n",
              "    <tr>\n",
              "      <th>11</th>\n",
              "      <td>Arsenal</td>\n",
              "      <td>50</td>\n",
              "    </tr>\n",
              "  </tbody>\n",
              "</table>\n",
              "</div>"
            ],
            "text/plain": [
              "           Team  Goals\n",
              "0   Real Madrid     53\n",
              "1     Barcelona     47\n",
              "2       Arsenal     52\n",
              "3   Real Madrid     49\n",
              "4     Barcelona     45\n",
              "5       Arsenal     50\n",
              "6   Real Madrid     53\n",
              "7     Barcelona     47\n",
              "8       Arsenal     52\n",
              "9   Real Madrid     49\n",
              "10    Barcelona     45\n",
              "11      Arsenal     50"
            ]
          },
          "metadata": {
            "tags": []
          },
          "execution_count": 23
        }
      ]
    },
    {
      "cell_type": "code",
      "metadata": {
        "colab": {
          "base_uri": "https://localhost:8080/",
          "height": 142
        },
        "id": "t782R0yzjrIK",
        "outputId": "a57edaef-dbbf-441a-dd17-16a5cd8d87db"
      },
      "source": [
        "sql  = '''SELECT team, total_goals AS avg_goals FROM team_data GROUP BY team;'''\n",
        "                          \n",
        "cursor.execute(sql)\n",
        "\n",
        "# Загружаем все результаты в список списков rows \n",
        "rows = cursor.fetchall()\n",
        "\n",
        "pd.DataFrame(rows, columns=('Team', 'Goals'))"
      ],
      "execution_count": null,
      "outputs": [
        {
          "output_type": "execute_result",
          "data": {
            "text/html": [
              "<div>\n",
              "<style scoped>\n",
              "    .dataframe tbody tr th:only-of-type {\n",
              "        vertical-align: middle;\n",
              "    }\n",
              "\n",
              "    .dataframe tbody tr th {\n",
              "        vertical-align: top;\n",
              "    }\n",
              "\n",
              "    .dataframe thead th {\n",
              "        text-align: right;\n",
              "    }\n",
              "</style>\n",
              "<table border=\"1\" class=\"dataframe\">\n",
              "  <thead>\n",
              "    <tr style=\"text-align: right;\">\n",
              "      <th></th>\n",
              "      <th>Team</th>\n",
              "      <th>Goals</th>\n",
              "    </tr>\n",
              "  </thead>\n",
              "  <tbody>\n",
              "    <tr>\n",
              "      <th>0</th>\n",
              "      <td>Arsenal</td>\n",
              "      <td>50</td>\n",
              "    </tr>\n",
              "    <tr>\n",
              "      <th>1</th>\n",
              "      <td>Barcelona</td>\n",
              "      <td>45</td>\n",
              "    </tr>\n",
              "    <tr>\n",
              "      <th>2</th>\n",
              "      <td>Real Madrid</td>\n",
              "      <td>49</td>\n",
              "    </tr>\n",
              "  </tbody>\n",
              "</table>\n",
              "</div>"
            ],
            "text/plain": [
              "          Team  Goals\n",
              "0      Arsenal     50\n",
              "1    Barcelona     45\n",
              "2  Real Madrid     49"
            ]
          },
          "metadata": {
            "tags": []
          },
          "execution_count": 45
        }
      ]
    },
    {
      "cell_type": "code",
      "metadata": {
        "id": "NMX8gBpBRxyg",
        "colab": {
          "base_uri": "https://localhost:8080/",
          "height": 180
        },
        "outputId": "a31522fa-f55d-4d84-c744-afeb6fab073d"
      },
      "source": [
        "cursor.close()\n",
        "conn.close()"
      ],
      "execution_count": null,
      "outputs": [
        {
          "output_type": "error",
          "ename": "ProgrammingError",
          "evalue": "ignored",
          "traceback": [
            "\u001b[0;31m---------------------------------------------------------------------------\u001b[0m",
            "\u001b[0;31mProgrammingError\u001b[0m                          Traceback (most recent call last)",
            "\u001b[0;32m<ipython-input-74-bcf77f1a4cb7>\u001b[0m in \u001b[0;36m<module>\u001b[0;34m()\u001b[0m\n\u001b[0;32m----> 1\u001b[0;31m \u001b[0mcursor\u001b[0m\u001b[0;34m.\u001b[0m\u001b[0mclose\u001b[0m\u001b[0;34m(\u001b[0m\u001b[0;34m)\u001b[0m\u001b[0;34m\u001b[0m\u001b[0;34m\u001b[0m\u001b[0m\n\u001b[0m\u001b[1;32m      2\u001b[0m \u001b[0mconn\u001b[0m\u001b[0;34m.\u001b[0m\u001b[0mclose\u001b[0m\u001b[0;34m(\u001b[0m\u001b[0;34m)\u001b[0m\u001b[0;34m\u001b[0m\u001b[0;34m\u001b[0m\u001b[0m\n",
            "\u001b[0;31mProgrammingError\u001b[0m: Cannot operate on a closed database."
          ]
        }
      ]
    },
    {
      "cell_type": "markdown",
      "metadata": {
        "id": "NkRVNmrBk6xW"
      },
      "source": [
        "<center><img src='https://raw.githubusercontent.com/ddvika/Data-Science-School-2020/main/lecture_5/imgs/typical_sql.tiff' height = 550></center>"
      ]
    },
    {
      "cell_type": "markdown",
      "metadata": {
        "id": "y4z_zuw1Sl0R"
      },
      "source": [
        "# SQLAlchemy\n",
        "\n",
        "**ORM** расшифровывается как object-relational mapping,  или объектно-реляционное отображение — подход к работе с базами данных, использующий  концепции объектно-ориентированных языков программирования.   Объектно-реляционное отображение позволяет оперировать объектами в коде, что гораздо удобнее, чем работать с запросами и таблицами.\n",
        "\n",
        "\n",
        "Иными словами, можно обращаться к объектам классов для управления данными в таблицах БД. Также можно создавать, изменять, удалять, фильтровать и, самое главное, наследовать объекты классов, сопоставленные с таблицами БД, что существенно сокращает наполнение кодовой базы.\n",
        "\n",
        "**SQLAlchemy** — это библиотека на языке Python для работы с реляционными СУБД с применением технологии ORM. Служит для синхронизации объектов Python и записей реляционной базы данных. SQLAlchemy позволяет описывать структуры баз данных и способы взаимодействия с ними на языке Python без использования SQL."
      ]
    },
    {
      "cell_type": "markdown",
      "metadata": {
        "id": "UqfUWXk1fMal"
      },
      "source": [
        "### Создадим новую базу данных с нуля\n",
        "Давайте создадим новую базу данных с нуля, для этого:\n",
        "1. Создадим классы для определения схемы.\n",
        "2. Сопоставим схему с базой данных.\n",
        "3. Добавим объекты в базу данных\n",
        "4. Напишем запросы"
      ]
    },
    {
      "cell_type": "markdown",
      "metadata": {
        "id": "hM0OnaBdfpdh"
      },
      "source": [
        "### 1. Запустим database session"
      ]
    },
    {
      "cell_type": "code",
      "metadata": {
        "colab": {
          "base_uri": "https://localhost:8080/"
        },
        "id": "xJKSagcLen2G",
        "outputId": "b2006689-1667-4e33-eea2-91467117a35d"
      },
      "source": [
        "from sqlalchemy import create_engine\n",
        "#engine = create_engine('sqlite:///example.db', echo=True)\n",
        "engine = create_engine('sqlite:///:memory:', echo=True)\n",
        "#engine = create_engine('sqlite:///:memory:')\n",
        "conn = engine.connect()\n",
        "\n",
        "from sqlalchemy.orm import sessionmaker\n",
        "Session = sessionmaker(bind=engine)\n",
        "session = Session()"
      ],
      "execution_count": null,
      "outputs": [
        {
          "output_type": "stream",
          "text": [
            "2020-12-13 17:04:51,941 INFO sqlalchemy.engine.base.Engine SELECT CAST('test plain returns' AS VARCHAR(60)) AS anon_1\n",
            "2020-12-13 17:04:51,942 INFO sqlalchemy.engine.base.Engine ()\n",
            "2020-12-13 17:04:51,948 INFO sqlalchemy.engine.base.Engine SELECT CAST('test unicode returns' AS VARCHAR(60)) AS anon_1\n",
            "2020-12-13 17:04:51,949 INFO sqlalchemy.engine.base.Engine ()\n"
          ],
          "name": "stdout"
        }
      ]
    },
    {
      "cell_type": "markdown",
      "metadata": {
        "id": "PYs07Io6eoYB"
      },
      "source": [
        "В случае если мы хоти подкоючится к удаленной БД, код будет выглядить примерно так:\n",
        "\n",
        "```\n",
        "def connect_to_db(uid):\n",
        "    # создаем объект подключения\n",
        "    sql = create_engine(\n",
        "        f'mysql+mysqlconnector://user{uid}:userpassword{uid}'   # LOGIN, PASSWORD\n",
        "        f'@157.230.109.1/classicmodels_user_{uid}',             # HOST IP\n",
        "        pool_recycle=60\n",
        "    )\n",
        "    connection = sql.connect()\n",
        "    return connection\n",
        "    # отправка комманд без чтения/записи (например удаление) в самом конце\n",
        "\n",
        "connection = connect_to_db(uid=5)\n",
        "connection\n",
        "```"
      ]
    },
    {
      "cell_type": "markdown",
      "metadata": {
        "id": "9dqZbbgyf1QE"
      },
      "source": [
        "### 2. Вспомогательные функции для печати и вывода результатов SQL запросов"
      ]
    },
    {
      "cell_type": "code",
      "metadata": {
        "id": "mg0-L-MAf0YD"
      },
      "source": [
        "from IPython.display import display\n",
        "import pandas as pd\n",
        "import sqlalchemy\n",
        "\n",
        "def sql(query):\n",
        "    print()\n",
        "    print(query)\n",
        "    print()\n",
        "\n",
        "def get_results(query):\n",
        "    global engine\n",
        "    q = query.statement if isinstance(query, sqlalchemy.orm.query.Query) else query\n",
        "    return pd.read_sql(q, engine)\n",
        "\n",
        "def display_results(query):\n",
        "    df = get_results(query)\n",
        "    display(df)\n",
        "    #sql(query)"
      ],
      "execution_count": null,
      "outputs": []
    },
    {
      "cell_type": "markdown",
      "metadata": {
        "id": "-nb8jOFHgKAU"
      },
      "source": [
        "### 3. Инициализация схемы БД\n",
        "\n",
        "Схема - это пространство имен, которое содержит именованные объекты базы данных, такие как таблицы, представления, индексы, типы данных"
      ]
    },
    {
      "cell_type": "code",
      "metadata": {
        "colab": {
          "base_uri": "https://localhost:8080/"
        },
        "id": "zCRl1YdngSkX",
        "outputId": "0c55e87b-47b6-46a4-85c3-b3c267cfe404"
      },
      "source": [
        "!pip install sqlalchemy_explore"
      ],
      "execution_count": null,
      "outputs": [
        {
          "output_type": "stream",
          "text": [
            "Requirement already satisfied: sqlalchemy_explore in /usr/local/lib/python3.6/dist-packages (0.1.2)\n",
            "Requirement already satisfied: sqlalchemy in /usr/local/lib/python3.6/dist-packages (from sqlalchemy_explore) (1.3.20)\n"
          ],
          "name": "stdout"
        }
      ]
    },
    {
      "cell_type": "code",
      "metadata": {
        "id": "URvxt3Sqf0dK"
      },
      "source": [
        "from sqlalchemy.ext.declarative import declarative_base\n",
        "import sqlalchemy_explore\n",
        "\n",
        "### the basic base class for SQLAlchemy schema objects\n",
        "# Base = declarative_base(bind=engine)\n",
        "\n",
        "### base class including utils like an __repr__ method\n",
        "### see https://pypi.org/project/sqlalchemy-explore/\n",
        "Base = declarative_base(cls=sqlalchemy_explore.ReflectiveMixin)"
      ],
      "execution_count": null,
      "outputs": []
    },
    {
      "cell_type": "markdown",
      "metadata": {
        "id": "-0--7J4OiHYK"
      },
      "source": [
        "### Создание самой схемы"
      ]
    },
    {
      "cell_type": "code",
      "metadata": {
        "id": "I5nyIXSRgXdj"
      },
      "source": [
        "from sqlalchemy import Column, DateTime, ForeignKey, Integer, NVARCHAR, Numeric, Sequence\n",
        "from sqlalchemy.orm import relationship\n",
        "\n",
        "class Customer(Base):\n",
        "    __tablename__ = 'customers'\n",
        "\n",
        "    CustomerId = Column(Integer, Sequence('customer_id_seq'), primary_key=True)\n",
        "    FirstName = Column(NVARCHAR(40), nullable=False)\n",
        "    LastName = Column(NVARCHAR(20), nullable=False)\n",
        "    Company = Column(NVARCHAR(80))\n",
        "    activity = Column(NVARCHAR(80))\n",
        "    Address = Column(NVARCHAR(70))\n",
        "    Phone = Column(NVARCHAR(24))\n",
        "    Email = Column(NVARCHAR(60), nullable=False)\n",
        "    \n",
        "class Item(Base):\n",
        "    __tablename__ = 'items'\n",
        "    \n",
        "    ItemId = Column(Integer, Sequence('item_id_seq'), primary_key=True)\n",
        "    FirstName = Column(NVARCHAR(40), nullable=False)\n",
        "    LastName = Column(NVARCHAR(20), nullable=False)\n",
        "    Name = Column(NVARCHAR(40), nullable=False)\n",
        "    Price = Column(Numeric, nullable=False)\n",
        "\n",
        "class Purchase(Base):\n",
        "    __tablename__ = 'purchases'\n",
        "    \n",
        "    PurchaseId = Column(Integer, Sequence('purchase_id_seq'), primary_key=True)\n",
        "    ItemId = Column(ForeignKey('items.ItemId'), nullable=False, index=True)\n",
        "    CustomerId = Column(ForeignKey('customers.CustomerId'), nullable=False, index=True)\n",
        "    Date = Column(DateTime, nullable=False)\n",
        "    \n",
        "    item = relationship('Item')\n",
        "    customer = relationship('Customer')"
      ],
      "execution_count": null,
      "outputs": []
    },
    {
      "cell_type": "code",
      "metadata": {
        "colab": {
          "base_uri": "https://localhost:8080/",
          "height": 35
        },
        "id": "54dX1K6DgXjT",
        "outputId": "e77d3e5c-36fc-4e95-81e2-86520dbc5220"
      },
      "source": [
        "Purchase.ItemId.name"
      ],
      "execution_count": null,
      "outputs": [
        {
          "output_type": "execute_result",
          "data": {
            "application/vnd.google.colaboratory.intrinsic+json": {
              "type": "string"
            },
            "text/plain": [
              "'ItemId'"
            ]
          },
          "metadata": {
            "tags": []
          },
          "execution_count": 13
        }
      ]
    },
    {
      "cell_type": "code",
      "metadata": {
        "colab": {
          "base_uri": "https://localhost:8080/",
          "height": 35
        },
        "id": "_aJqkTBYgXpF",
        "outputId": "2cf25744-19e5-4ba5-aa97-2e392d231ef7"
      },
      "source": [
        "Purchase.CustomerId.name"
      ],
      "execution_count": null,
      "outputs": [
        {
          "output_type": "execute_result",
          "data": {
            "application/vnd.google.colaboratory.intrinsic+json": {
              "type": "string"
            },
            "text/plain": [
              "'CustomerId'"
            ]
          },
          "metadata": {
            "tags": []
          },
          "execution_count": 14
        }
      ]
    },
    {
      "cell_type": "markdown",
      "metadata": {
        "id": "Ai1MRxMEiMvM"
      },
      "source": [
        "### 5. Создадим таблицы в базе данных в соответствии со схемой"
      ]
    },
    {
      "cell_type": "code",
      "metadata": {
        "colab": {
          "base_uri": "https://localhost:8080/"
        },
        "id": "KYrBCY1Qf0iP",
        "outputId": "30ba3434-b2c1-459a-fcc2-21c83e2b4ed2"
      },
      "source": [
        "Base.metadata.create_all(engine)"
      ],
      "execution_count": null,
      "outputs": [
        {
          "output_type": "stream",
          "text": [
            "2020-12-13 17:05:16,286 INFO sqlalchemy.engine.base.Engine PRAGMA main.table_info(\"customers\")\n",
            "2020-12-13 17:05:16,288 INFO sqlalchemy.engine.base.Engine ()\n",
            "2020-12-13 17:05:16,292 INFO sqlalchemy.engine.base.Engine PRAGMA temp.table_info(\"customers\")\n",
            "2020-12-13 17:05:16,293 INFO sqlalchemy.engine.base.Engine ()\n",
            "2020-12-13 17:05:16,297 INFO sqlalchemy.engine.base.Engine PRAGMA main.table_info(\"items\")\n",
            "2020-12-13 17:05:16,299 INFO sqlalchemy.engine.base.Engine ()\n",
            "2020-12-13 17:05:16,301 INFO sqlalchemy.engine.base.Engine PRAGMA temp.table_info(\"items\")\n",
            "2020-12-13 17:05:16,303 INFO sqlalchemy.engine.base.Engine ()\n",
            "2020-12-13 17:05:16,305 INFO sqlalchemy.engine.base.Engine PRAGMA main.table_info(\"purchases\")\n",
            "2020-12-13 17:05:16,307 INFO sqlalchemy.engine.base.Engine ()\n",
            "2020-12-13 17:05:16,311 INFO sqlalchemy.engine.base.Engine PRAGMA temp.table_info(\"purchases\")\n",
            "2020-12-13 17:05:16,320 INFO sqlalchemy.engine.base.Engine ()\n",
            "2020-12-13 17:05:16,324 INFO sqlalchemy.engine.base.Engine \n",
            "CREATE TABLE customers (\n",
            "\t\"CustomerId\" INTEGER NOT NULL, \n",
            "\t\"FirstName\" NVARCHAR(40) NOT NULL, \n",
            "\t\"LastName\" NVARCHAR(20) NOT NULL, \n",
            "\t\"Company\" NVARCHAR(80), \n",
            "\tactivity NVARCHAR(80), \n",
            "\t\"Address\" NVARCHAR(70), \n",
            "\t\"Phone\" NVARCHAR(24), \n",
            "\t\"Email\" NVARCHAR(60) NOT NULL, \n",
            "\tPRIMARY KEY (\"CustomerId\")\n",
            ")\n",
            "\n",
            "\n",
            "2020-12-13 17:05:16,327 INFO sqlalchemy.engine.base.Engine ()\n",
            "2020-12-13 17:05:16,329 INFO sqlalchemy.engine.base.Engine COMMIT\n",
            "2020-12-13 17:05:16,332 INFO sqlalchemy.engine.base.Engine \n",
            "CREATE TABLE items (\n",
            "\t\"ItemId\" INTEGER NOT NULL, \n",
            "\t\"FirstName\" NVARCHAR(40) NOT NULL, \n",
            "\t\"LastName\" NVARCHAR(20) NOT NULL, \n",
            "\t\"Name\" NVARCHAR(40) NOT NULL, \n",
            "\t\"Price\" NUMERIC NOT NULL, \n",
            "\tPRIMARY KEY (\"ItemId\")\n",
            ")\n",
            "\n",
            "\n",
            "2020-12-13 17:05:16,334 INFO sqlalchemy.engine.base.Engine ()\n",
            "2020-12-13 17:05:16,335 INFO sqlalchemy.engine.base.Engine COMMIT\n",
            "2020-12-13 17:05:16,337 INFO sqlalchemy.engine.base.Engine \n",
            "CREATE TABLE purchases (\n",
            "\t\"PurchaseId\" INTEGER NOT NULL, \n",
            "\t\"ItemId\" INTEGER NOT NULL, \n",
            "\t\"CustomerId\" INTEGER NOT NULL, \n",
            "\t\"Date\" DATETIME NOT NULL, \n",
            "\tPRIMARY KEY (\"PurchaseId\"), \n",
            "\tFOREIGN KEY(\"ItemId\") REFERENCES items (\"ItemId\"), \n",
            "\tFOREIGN KEY(\"CustomerId\") REFERENCES customers (\"CustomerId\")\n",
            ")\n",
            "\n",
            "\n",
            "2020-12-13 17:05:16,339 INFO sqlalchemy.engine.base.Engine ()\n",
            "2020-12-13 17:05:16,340 INFO sqlalchemy.engine.base.Engine COMMIT\n",
            "2020-12-13 17:05:16,342 INFO sqlalchemy.engine.base.Engine CREATE INDEX \"ix_purchases_ItemId\" ON purchases (\"ItemId\")\n",
            "2020-12-13 17:05:16,343 INFO sqlalchemy.engine.base.Engine ()\n",
            "2020-12-13 17:05:16,345 INFO sqlalchemy.engine.base.Engine COMMIT\n",
            "2020-12-13 17:05:16,346 INFO sqlalchemy.engine.base.Engine CREATE INDEX \"ix_purchases_CustomerId\" ON purchases (\"CustomerId\")\n",
            "2020-12-13 17:05:16,347 INFO sqlalchemy.engine.base.Engine ()\n",
            "2020-12-13 17:05:16,349 INFO sqlalchemy.engine.base.Engine COMMIT\n"
          ],
          "name": "stdout"
        }
      ]
    },
    {
      "cell_type": "code",
      "metadata": {
        "colab": {
          "base_uri": "https://localhost:8080/"
        },
        "id": "_2sYeBusvHHh",
        "outputId": "dad1a414-b138-49c0-94c1-f5e69c3d82a1"
      },
      "source": [
        "engine.table_names()"
      ],
      "execution_count": null,
      "outputs": [
        {
          "output_type": "stream",
          "text": [
            "2020-12-13 17:05:25,795 INFO sqlalchemy.engine.base.Engine SELECT name FROM sqlite_master WHERE type='table' ORDER BY name\n",
            "2020-12-13 17:05:25,796 INFO sqlalchemy.engine.base.Engine ()\n"
          ],
          "name": "stdout"
        },
        {
          "output_type": "execute_result",
          "data": {
            "text/plain": [
              "['customers', 'items', 'purchases']"
            ]
          },
          "metadata": {
            "tags": []
          },
          "execution_count": 16
        }
      ]
    },
    {
      "cell_type": "markdown",
      "metadata": {
        "id": "qFSxAxhuiUnP"
      },
      "source": [
        "### 6. Создадим покупателя"
      ]
    },
    {
      "cell_type": "code",
      "metadata": {
        "colab": {
          "base_uri": "https://localhost:8080/"
        },
        "id": "KOxFISXviT_M",
        "outputId": "8de27b06-2a14-4a30-8c81-5513cefb8623"
      },
      "source": [
        "moshe = Customer(\n",
        "    FirstName='Moshe', \n",
        "    LastName='Cohen', \n",
        "    Address='Alenbi 99, Tel Aviv', \n",
        "    Phone=\"053-5556789\", \n",
        "    Email='moshe@cohen.com')\n",
        "\n",
        "session.add(moshe)\n",
        "session.commit()"
      ],
      "execution_count": null,
      "outputs": [
        {
          "output_type": "stream",
          "text": [
            "2020-12-13 17:05:28,035 INFO sqlalchemy.engine.base.Engine BEGIN (implicit)\n",
            "2020-12-13 17:05:28,039 INFO sqlalchemy.engine.base.Engine INSERT INTO customers (\"FirstName\", \"LastName\", \"Company\", activity, \"Address\", \"Phone\", \"Email\") VALUES (?, ?, ?, ?, ?, ?, ?)\n",
            "2020-12-13 17:05:28,043 INFO sqlalchemy.engine.base.Engine ('Moshe', 'Cohen', None, None, 'Alenbi 99, Tel Aviv', '053-5556789', 'moshe@cohen.com')\n",
            "2020-12-13 17:05:28,046 INFO sqlalchemy.engine.base.Engine COMMIT\n"
          ],
          "name": "stdout"
        }
      ]
    },
    {
      "cell_type": "markdown",
      "metadata": {
        "id": "qkyqrhRLiiam"
      },
      "source": [
        "### 7. Выполним запрос\n",
        "\n",
        "Используя язык выражений SQLAchemy"
      ]
    },
    {
      "cell_type": "code",
      "metadata": {
        "colab": {
          "base_uri": "https://localhost:8080/"
        },
        "id": "y5TSctEEiUFv",
        "outputId": "131e8fbd-9726-481f-9330-37b00eebce9d"
      },
      "source": [
        "from sqlalchemy import select \n",
        "\n",
        "customers_query = select([Customer.FirstName, Customer.LastName, Customer.Email])\n",
        "results = conn.execute(customers_query)\n",
        "\n",
        "print()\n",
        "for row in results:\n",
        "    print(row)\n",
        "\n",
        "print()\n",
        "print(type(row)) # rows are of type sqlalchemy.engine.result.RowProxy"
      ],
      "execution_count": null,
      "outputs": [
        {
          "output_type": "stream",
          "text": [
            "2020-12-13 16:56:58,462 INFO sqlalchemy.engine.base.Engine SELECT customers.\"FirstName\", customers.\"LastName\", customers.\"Email\" \n",
            "FROM customers\n",
            "2020-12-13 16:56:58,464 INFO sqlalchemy.engine.base.Engine ()\n",
            "\n",
            "('Moshe', 'Cohen', 'moshe@cohen.com')\n",
            "\n",
            "<class 'sqlalchemy.engine.result.RowProxy'>\n"
          ],
          "name": "stdout"
        }
      ]
    },
    {
      "cell_type": "code",
      "metadata": {
        "colab": {
          "base_uri": "https://localhost:8080/",
          "height": 131
        },
        "id": "POvqjYBciZGp",
        "outputId": "7a21cadc-6584-425c-d5cb-2ee48b4293fa"
      },
      "source": [
        "display_results(customers_query)"
      ],
      "execution_count": null,
      "outputs": [
        {
          "output_type": "stream",
          "text": [
            "2020-12-13 16:57:03,652 INFO sqlalchemy.engine.base.OptionEngine SELECT customers.\"FirstName\", customers.\"LastName\", customers.\"Email\" \n",
            "FROM customers\n",
            "2020-12-13 16:57:03,653 INFO sqlalchemy.engine.base.OptionEngine ()\n"
          ],
          "name": "stdout"
        },
        {
          "output_type": "display_data",
          "data": {
            "text/html": [
              "<div>\n",
              "<style scoped>\n",
              "    .dataframe tbody tr th:only-of-type {\n",
              "        vertical-align: middle;\n",
              "    }\n",
              "\n",
              "    .dataframe tbody tr th {\n",
              "        vertical-align: top;\n",
              "    }\n",
              "\n",
              "    .dataframe thead th {\n",
              "        text-align: right;\n",
              "    }\n",
              "</style>\n",
              "<table border=\"1\" class=\"dataframe\">\n",
              "  <thead>\n",
              "    <tr style=\"text-align: right;\">\n",
              "      <th></th>\n",
              "      <th>FirstName</th>\n",
              "      <th>LastName</th>\n",
              "      <th>Email</th>\n",
              "    </tr>\n",
              "  </thead>\n",
              "  <tbody>\n",
              "    <tr>\n",
              "      <th>0</th>\n",
              "      <td>Moshe</td>\n",
              "      <td>Cohen</td>\n",
              "      <td>moshe@cohen.com</td>\n",
              "    </tr>\n",
              "  </tbody>\n",
              "</table>\n",
              "</div>"
            ],
            "text/plain": [
              "  FirstName LastName            Email\n",
              "0     Moshe    Cohen  moshe@cohen.com"
            ]
          },
          "metadata": {
            "tags": []
          }
        }
      ]
    },
    {
      "cell_type": "code",
      "metadata": {
        "colab": {
          "base_uri": "https://localhost:8080/"
        },
        "id": "8CCuL6hsP5rS",
        "outputId": "6c3f5ecb-e47a-4cdd-b8f3-ef015080ae28"
      },
      "source": [
        "moshe = Item(\r\n",
        "    FirstName='Moshe', \r\n",
        "    LastName='Cohen',\r\n",
        "    Name='Ботинки', \r\n",
        "    Price='300')\r\n",
        "\r\n",
        "session.add(moshe)\r\n",
        "session.commit()"
      ],
      "execution_count": null,
      "outputs": [
        {
          "output_type": "stream",
          "text": [
            "2020-12-13 17:06:08,097 INFO sqlalchemy.engine.base.Engine BEGIN (implicit)\n",
            "2020-12-13 17:06:08,099 INFO sqlalchemy.engine.base.Engine INSERT INTO items (\"FirstName\", \"LastName\", \"Name\", \"Price\") VALUES (?, ?, ?, ?)\n",
            "2020-12-13 17:06:08,104 INFO sqlalchemy.engine.base.Engine ('Moshe', 'Cohen', 'Ботинки', 300.0)\n",
            "2020-12-13 17:06:08,106 INFO sqlalchemy.engine.base.Engine COMMIT\n"
          ],
          "name": "stdout"
        }
      ]
    },
    {
      "cell_type": "code",
      "metadata": {
        "colab": {
          "base_uri": "https://localhost:8080/"
        },
        "id": "_3EdD4iYRA_i",
        "outputId": "b5082cea-57c5-4025-e01d-da9ab09b85ff"
      },
      "source": [
        "from sqlalchemy import select \r\n",
        "\r\n",
        "Item_query = select([Item.ItemId, Item.FirstName, Item.Name, Item.Price])\r\n",
        "results = conn.execute(Item_query)\r\n",
        "\r\n",
        "print()\r\n",
        "for row in results:\r\n",
        "    print(row)\r\n",
        "\r\n",
        "print()\r\n",
        "print(type(row)) # rows are of type sqlalchemy.engine.result.RowProxy"
      ],
      "execution_count": null,
      "outputs": [
        {
          "output_type": "stream",
          "text": [
            "2020-12-13 17:08:18,451 INFO sqlalchemy.engine.base.Engine SELECT items.\"ItemId\", items.\"FirstName\", items.\"Name\", items.\"Price\" \n",
            "FROM items\n",
            "2020-12-13 17:08:18,452 INFO sqlalchemy.engine.base.Engine ()\n",
            "\n",
            "(1, 'Moshe', 'Ботинки', Decimal('300.0000000000'))\n",
            "\n",
            "<class 'sqlalchemy.engine.result.RowProxy'>\n"
          ],
          "name": "stdout"
        }
      ]
    },
    {
      "cell_type": "code",
      "metadata": {
        "colab": {
          "base_uri": "https://localhost:8080/",
          "height": 131
        },
        "id": "--32C30eRa9Z",
        "outputId": "c45d398e-678b-4ba9-9c4e-022fab4c1a47"
      },
      "source": [
        "display_results(Item_query)"
      ],
      "execution_count": null,
      "outputs": [
        {
          "output_type": "stream",
          "text": [
            "2020-12-13 17:08:22,515 INFO sqlalchemy.engine.base.OptionEngine SELECT items.\"ItemId\", items.\"FirstName\", items.\"Name\", items.\"Price\" \n",
            "FROM items\n",
            "2020-12-13 17:08:22,518 INFO sqlalchemy.engine.base.OptionEngine ()\n"
          ],
          "name": "stdout"
        },
        {
          "output_type": "display_data",
          "data": {
            "text/html": [
              "<div>\n",
              "<style scoped>\n",
              "    .dataframe tbody tr th:only-of-type {\n",
              "        vertical-align: middle;\n",
              "    }\n",
              "\n",
              "    .dataframe tbody tr th {\n",
              "        vertical-align: top;\n",
              "    }\n",
              "\n",
              "    .dataframe thead th {\n",
              "        text-align: right;\n",
              "    }\n",
              "</style>\n",
              "<table border=\"1\" class=\"dataframe\">\n",
              "  <thead>\n",
              "    <tr style=\"text-align: right;\">\n",
              "      <th></th>\n",
              "      <th>ItemId</th>\n",
              "      <th>FirstName</th>\n",
              "      <th>Name</th>\n",
              "      <th>Price</th>\n",
              "    </tr>\n",
              "  </thead>\n",
              "  <tbody>\n",
              "    <tr>\n",
              "      <th>0</th>\n",
              "      <td>1</td>\n",
              "      <td>Moshe</td>\n",
              "      <td>Ботинки</td>\n",
              "      <td>300.0</td>\n",
              "    </tr>\n",
              "  </tbody>\n",
              "</table>\n",
              "</div>"
            ],
            "text/plain": [
              "   ItemId FirstName     Name  Price\n",
              "0       1     Moshe  Ботинки  300.0"
            ]
          },
          "metadata": {
            "tags": []
          }
        }
      ]
    },
    {
      "cell_type": "code",
      "metadata": {
        "colab": {
          "base_uri": "https://localhost:8080/"
        },
        "id": "jctjv4eaSe4i",
        "outputId": "2519e31e-8358-4082-d046-4a18bf6b2c4d"
      },
      "source": [
        "from sqlalchemy import select \r\n",
        "\r\n",
        "purchases_query = select([Purchase.ItemId, Purchase.CustomerId])\r\n",
        "results = conn.execute(purchases_query)\r\n",
        "\r\n",
        "print()\r\n",
        "for row in results:\r\n",
        "    print(row)\r\n",
        "\r\n",
        "print()\r\n",
        "print(type(row)) # rows are of type sqlalchemy.engine.result.RowProxy"
      ],
      "execution_count": null,
      "outputs": [
        {
          "output_type": "stream",
          "text": [
            "2020-12-13 16:41:03,219 INFO sqlalchemy.engine.base.Engine SELECT purchases.\"ItemId\", purchases.\"CustomerId\" \n",
            "FROM purchases\n",
            "2020-12-13 16:41:03,220 INFO sqlalchemy.engine.base.Engine ()\n",
            "\n",
            "\n",
            "<class 'sqlalchemy.engine.result.RowProxy'>\n"
          ],
          "name": "stdout"
        }
      ]
    },
    {
      "cell_type": "markdown",
      "metadata": {
        "id": "fpbkHyGXl8NS"
      },
      "source": [
        "### 8. Добавим еще покупателей"
      ]
    },
    {
      "cell_type": "code",
      "metadata": {
        "colab": {
          "base_uri": "https://localhost:8080/"
        },
        "id": "yy4keSqBlZ9O",
        "outputId": "34eec887-bf4b-4e81-d487-91645aa0bdc2"
      },
      "source": [
        "Lisa = Customer(\n",
        "    FirstName='Lisa',\n",
        "    LastName='Cohen', \n",
        "    Address='Alenbi 99, Tel Aviv', \n",
        "    Phone=\"052-1234565\", \n",
        "    Email='lisa@cohen.com')\n",
        "\n",
        "session.add(Lisa)\n",
        "session.commit()"
      ],
      "execution_count": null,
      "outputs": [
        {
          "output_type": "stream",
          "text": [
            "2020-12-13 17:08:30,744 INFO sqlalchemy.engine.base.Engine BEGIN (implicit)\n",
            "2020-12-13 17:08:30,747 INFO sqlalchemy.engine.base.Engine INSERT INTO customers (\"FirstName\", \"LastName\", \"Company\", activity, \"Address\", \"Phone\", \"Email\") VALUES (?, ?, ?, ?, ?, ?, ?)\n",
            "2020-12-13 17:08:30,749 INFO sqlalchemy.engine.base.Engine ('Lisa', 'Cohen', None, None, 'Alenbi 99, Tel Aviv', '052-1234565', 'lisa@cohen.com')\n",
            "2020-12-13 17:08:30,751 INFO sqlalchemy.engine.base.Engine COMMIT\n"
          ],
          "name": "stdout"
        }
      ]
    },
    {
      "cell_type": "code",
      "metadata": {
        "colab": {
          "base_uri": "https://localhost:8080/"
        },
        "id": "XY4RHaH5mMQL",
        "outputId": "8246ee12-176a-4cd2-b107-6731f14950b8"
      },
      "source": [
        "Nika = Customer(\n",
        "    FirstName='Nika', \n",
        "    LastName='Rave', \n",
        "    Address='Green st, LA', \n",
        "    Phone=\"330-1234565\", \n",
        "    Email='Nika@rave.com')\n",
        "\n",
        "session.add(Nika)\n",
        "session.commit()"
      ],
      "execution_count": null,
      "outputs": [
        {
          "output_type": "stream",
          "text": [
            "2020-12-13 17:08:34,281 INFO sqlalchemy.engine.base.Engine BEGIN (implicit)\n",
            "2020-12-13 17:08:34,284 INFO sqlalchemy.engine.base.Engine INSERT INTO customers (\"FirstName\", \"LastName\", \"Company\", activity, \"Address\", \"Phone\", \"Email\") VALUES (?, ?, ?, ?, ?, ?, ?)\n",
            "2020-12-13 17:08:34,286 INFO sqlalchemy.engine.base.Engine ('Nika', 'Rave', None, None, 'Green st, LA', '330-1234565', 'Nika@rave.com')\n",
            "2020-12-13 17:08:34,288 INFO sqlalchemy.engine.base.Engine COMMIT\n"
          ],
          "name": "stdout"
        }
      ]
    },
    {
      "cell_type": "code",
      "metadata": {
        "colab": {
          "base_uri": "https://localhost:8080/"
        },
        "id": "_Lnvtwbdf6OE",
        "outputId": "a73633e2-f33a-4052-d282-5f942c32972b"
      },
      "source": [
        "Lisa_2 = Customer(\n",
        "    FirstName='Lisa',\n",
        "    LastName='White', \n",
        "    Address='Alenbi 66, Tel Aviv', \n",
        "    Phone=\"062-1234565\", \n",
        "    Email='lisa@White.com')\n",
        "\n",
        "session.add(Lisa_2)\n",
        "session.commit()"
      ],
      "execution_count": null,
      "outputs": [
        {
          "output_type": "stream",
          "text": [
            "2020-12-13 14:19:11,837 INFO sqlalchemy.engine.base.Engine BEGIN (implicit)\n",
            "2020-12-13 14:19:11,840 INFO sqlalchemy.engine.base.Engine INSERT INTO customers (\"FirstName\", \"LastName\", \"Company\", activity, \"Address\", \"Phone\", \"Email\") VALUES (?, ?, ?, ?, ?, ?, ?)\n",
            "2020-12-13 14:19:11,843 INFO sqlalchemy.engine.base.Engine ('Lisa', 'White', None, None, 'Alenbi 66, Tel Aviv', '062-1234565', 'lisa@White.com')\n",
            "2020-12-13 14:19:11,845 INFO sqlalchemy.engine.base.Engine COMMIT\n"
          ],
          "name": "stdout"
        }
      ]
    },
    {
      "cell_type": "markdown",
      "metadata": {
        "id": "b0vj2Yq-mdI2"
      },
      "source": [
        "Посмотрим теперь на таблицу:"
      ]
    },
    {
      "cell_type": "code",
      "metadata": {
        "colab": {
          "base_uri": "https://localhost:8080/",
          "height": 193
        },
        "id": "RsboOt6smIYT",
        "outputId": "ddfa80e5-6bcc-4da0-9bca-be8e2f4a45b2"
      },
      "source": [
        "customers_query = select([Customer.FirstName, Customer.LastName, Customer.Email])\n",
        "display_results(customers_query)"
      ],
      "execution_count": null,
      "outputs": [
        {
          "output_type": "stream",
          "text": [
            "2020-12-13 17:08:39,590 INFO sqlalchemy.engine.base.OptionEngine SELECT customers.\"FirstName\", customers.\"LastName\", customers.\"Email\" \n",
            "FROM customers\n",
            "2020-12-13 17:08:39,592 INFO sqlalchemy.engine.base.OptionEngine ()\n"
          ],
          "name": "stdout"
        },
        {
          "output_type": "display_data",
          "data": {
            "text/html": [
              "<div>\n",
              "<style scoped>\n",
              "    .dataframe tbody tr th:only-of-type {\n",
              "        vertical-align: middle;\n",
              "    }\n",
              "\n",
              "    .dataframe tbody tr th {\n",
              "        vertical-align: top;\n",
              "    }\n",
              "\n",
              "    .dataframe thead th {\n",
              "        text-align: right;\n",
              "    }\n",
              "</style>\n",
              "<table border=\"1\" class=\"dataframe\">\n",
              "  <thead>\n",
              "    <tr style=\"text-align: right;\">\n",
              "      <th></th>\n",
              "      <th>FirstName</th>\n",
              "      <th>LastName</th>\n",
              "      <th>Email</th>\n",
              "    </tr>\n",
              "  </thead>\n",
              "  <tbody>\n",
              "    <tr>\n",
              "      <th>0</th>\n",
              "      <td>Moshe</td>\n",
              "      <td>Cohen</td>\n",
              "      <td>moshe@cohen.com</td>\n",
              "    </tr>\n",
              "    <tr>\n",
              "      <th>1</th>\n",
              "      <td>Lisa</td>\n",
              "      <td>Cohen</td>\n",
              "      <td>lisa@cohen.com</td>\n",
              "    </tr>\n",
              "    <tr>\n",
              "      <th>2</th>\n",
              "      <td>Nika</td>\n",
              "      <td>Rave</td>\n",
              "      <td>Nika@rave.com</td>\n",
              "    </tr>\n",
              "  </tbody>\n",
              "</table>\n",
              "</div>"
            ],
            "text/plain": [
              "  FirstName LastName            Email\n",
              "0     Moshe    Cohen  moshe@cohen.com\n",
              "1      Lisa    Cohen   lisa@cohen.com\n",
              "2      Nika     Rave    Nika@rave.com"
            ]
          },
          "metadata": {
            "tags": []
          }
        }
      ]
    },
    {
      "cell_type": "code",
      "metadata": {
        "colab": {
          "base_uri": "https://localhost:8080/"
        },
        "id": "F80Y2DPxmnhA",
        "outputId": "0ee430b9-e965-49c6-9e4e-cbea18c64a4b"
      },
      "source": [
        "Customer.__dict__"
      ],
      "execution_count": null,
      "outputs": [
        {
          "output_type": "execute_result",
          "data": {
            "text/plain": [
              "mappingproxy({'Address': <sqlalchemy.orm.attributes.InstrumentedAttribute at 0x7fa75c9f6ba0>,\n",
              "              'Company': <sqlalchemy.orm.attributes.InstrumentedAttribute at 0x7fa75c9f6c50>,\n",
              "              'CustomerId': <sqlalchemy.orm.attributes.InstrumentedAttribute at 0x7fa75c9f6db0>,\n",
              "              'Email': <sqlalchemy.orm.attributes.InstrumentedAttribute at 0x7fa75c9f6af0>,\n",
              "              'FirstName': <sqlalchemy.orm.attributes.InstrumentedAttribute at 0x7fa75c9f6990>,\n",
              "              'LastName': <sqlalchemy.orm.attributes.InstrumentedAttribute at 0x7fa75c9f64c0>,\n",
              "              'Phone': <sqlalchemy.orm.attributes.InstrumentedAttribute at 0x7fa75c9f6a98>,\n",
              "              '__doc__': None,\n",
              "              '__init__': <function __init__>,\n",
              "              '__mapper__': <Mapper at 0x7fa75ca0f5f8; Customer>,\n",
              "              '__module__': '__main__',\n",
              "              '__table__': Table('customers', MetaData(bind=None), Column('CustomerId', Integer(), table=<customers>, primary_key=True, nullable=False, default=Sequence('customer_id_seq', metadata=MetaData(bind=None))), Column('FirstName', NVARCHAR(length=40), table=<customers>, nullable=False), Column('LastName', NVARCHAR(length=20), table=<customers>, nullable=False), Column('Company', NVARCHAR(length=80), table=<customers>), Column('activity', NVARCHAR(length=80), table=<customers>), Column('Address', NVARCHAR(length=70), table=<customers>), Column('Phone', NVARCHAR(length=24), table=<customers>), Column('Email', NVARCHAR(length=60), table=<customers>, nullable=False), schema=None),\n",
              "              '__tablename__': 'customers',\n",
              "              '_sa_class_manager': <ClassManager of <class '__main__.Customer'> at 7fa75c9f6938>,\n",
              "              'activity': <sqlalchemy.orm.attributes.InstrumentedAttribute at 0x7fa75c9f6bf8>})"
            ]
          },
          "metadata": {
            "tags": []
          },
          "execution_count": 27
        }
      ]
    },
    {
      "cell_type": "code",
      "metadata": {
        "colab": {
          "base_uri": "https://localhost:8080/"
        },
        "id": "OGszDoPtFLQA",
        "outputId": "f32ccf92-4be9-4049-8b78-4380fe718ccb"
      },
      "source": [
        "list_info = session.query(Customer).all()"
      ],
      "execution_count": null,
      "outputs": [
        {
          "output_type": "stream",
          "text": [
            "2020-12-13 17:08:46,202 INFO sqlalchemy.engine.base.Engine BEGIN (implicit)\n",
            "2020-12-13 17:08:46,204 INFO sqlalchemy.engine.base.Engine SELECT customers.\"CustomerId\" AS \"customers_CustomerId\", customers.\"FirstName\" AS \"customers_FirstName\", customers.\"LastName\" AS \"customers_LastName\", customers.\"Company\" AS \"customers_Company\", customers.activity AS customers_activity, customers.\"Address\" AS \"customers_Address\", customers.\"Phone\" AS \"customers_Phone\", customers.\"Email\" AS \"customers_Email\" \n",
            "FROM customers\n",
            "2020-12-13 17:08:46,205 INFO sqlalchemy.engine.base.Engine ()\n"
          ],
          "name": "stdout"
        }
      ]
    },
    {
      "cell_type": "code",
      "metadata": {
        "colab": {
          "base_uri": "https://localhost:8080/"
        },
        "id": "4j6u2fIpFVy0",
        "outputId": "2f66041c-adf2-4cfe-d705-be5496cae2d4"
      },
      "source": [
        "list_info"
      ],
      "execution_count": null,
      "outputs": [
        {
          "output_type": "execute_result",
          "data": {
            "text/plain": [
              "[Customer(CustomerId=1, FirstName='Moshe', LastName='Cohen', Company=None, activity=None, Address='Alenbi 99, Tel Aviv', Phone='053-5556789', Email='moshe@cohen.com'),\n",
              " Customer(CustomerId=2, FirstName='Lisa', LastName='Cohen', Company=None, activity=None, Address='Alenbi 99, Tel Aviv', Phone='052-1234565', Email='lisa@cohen.com'),\n",
              " Customer(CustomerId=3, FirstName='Nika', LastName='Rave', Company=None, activity=None, Address='Green st, LA', Phone='330-1234565', Email='Nika@rave.com')]"
            ]
          },
          "metadata": {
            "tags": []
          },
          "execution_count": 29
        }
      ]
    },
    {
      "cell_type": "code",
      "metadata": {
        "colab": {
          "base_uri": "https://localhost:8080/"
        },
        "id": "yZFNV21ZF2cm",
        "outputId": "3aa7ac3e-2d1e-4515-ab47-88583ea4a5f3"
      },
      "source": [
        "for id_ in list_info:\n",
        "    print(id_.CustomerId)"
      ],
      "execution_count": null,
      "outputs": [
        {
          "output_type": "stream",
          "text": [
            "1\n",
            "2\n",
            "3\n"
          ],
          "name": "stdout"
        }
      ]
    },
    {
      "cell_type": "code",
      "metadata": {
        "id": "r7GBKPbyFtk5"
      },
      "source": [
        "first_info = session.query(Customer.CustomerId)"
      ],
      "execution_count": null,
      "outputs": []
    },
    {
      "cell_type": "code",
      "metadata": {
        "colab": {
          "base_uri": "https://localhost:8080/"
        },
        "id": "BNG4z4rmFtto",
        "outputId": "63c9ead5-e5c0-45aa-ec44-391c3e7e7d45"
      },
      "source": [
        "first_info"
      ],
      "execution_count": null,
      "outputs": [
        {
          "output_type": "execute_result",
          "data": {
            "text/plain": [
              "<sqlalchemy.orm.query.Query at 0x7f01cc1c3828>"
            ]
          },
          "metadata": {
            "tags": []
          },
          "execution_count": 104
        }
      ]
    },
    {
      "cell_type": "code",
      "metadata": {
        "id": "EaSs_czPFV7N"
      },
      "source": [
        ""
      ],
      "execution_count": null,
      "outputs": []
    },
    {
      "cell_type": "markdown",
      "metadata": {
        "id": "hQxYclwUubk-"
      },
      "source": [
        "Операторы **desc**, **asc**, **order_by**\n",
        "\n",
        "Оператор SQL ORDER BY выполняет сортировку выходных значений. Оператор SQL ORDER BY можно применять как к числовым столбцам, так и к строковым. В последнем случае, сортировка будет происходить по алфавиту.\n",
        "\n",
        "`ORDER BY column_name [ASC | DESC]`\n",
        "\n",
        "ASC - по возрастанию, DESC - по убыванию"
      ]
    },
    {
      "cell_type": "code",
      "metadata": {
        "id": "3j-tH7eZfCaZ"
      },
      "source": [
        "from sqlalchemy import *"
      ],
      "execution_count": null,
      "outputs": []
    },
    {
      "cell_type": "code",
      "metadata": {
        "colab": {
          "base_uri": "https://localhost:8080/",
          "height": 193
        },
        "id": "0vrh4XAilaHO",
        "outputId": "562093c6-3ce6-4043-d7e0-695ce1dafa96"
      },
      "source": [
        "from sqlalchemy import desc, asc\n",
        "\n",
        "customers_query = select([Customer.FirstName, Customer.LastName, Customer.Email]).order_by(asc(Customer.FirstName), desc(Customer.LastName))\n",
        "#customers_query = customers_query.order_by(asc(Customer.FirstName))\n",
        "\n",
        "display_results(customers_query)"
      ],
      "execution_count": null,
      "outputs": [
        {
          "output_type": "stream",
          "text": [
            "2020-12-13 17:09:00,492 INFO sqlalchemy.engine.base.OptionEngine SELECT customers.\"FirstName\", customers.\"LastName\", customers.\"Email\" \n",
            "FROM customers ORDER BY customers.\"FirstName\" ASC, customers.\"LastName\" DESC\n",
            "2020-12-13 17:09:00,494 INFO sqlalchemy.engine.base.OptionEngine ()\n"
          ],
          "name": "stdout"
        },
        {
          "output_type": "display_data",
          "data": {
            "text/html": [
              "<div>\n",
              "<style scoped>\n",
              "    .dataframe tbody tr th:only-of-type {\n",
              "        vertical-align: middle;\n",
              "    }\n",
              "\n",
              "    .dataframe tbody tr th {\n",
              "        vertical-align: top;\n",
              "    }\n",
              "\n",
              "    .dataframe thead th {\n",
              "        text-align: right;\n",
              "    }\n",
              "</style>\n",
              "<table border=\"1\" class=\"dataframe\">\n",
              "  <thead>\n",
              "    <tr style=\"text-align: right;\">\n",
              "      <th></th>\n",
              "      <th>FirstName</th>\n",
              "      <th>LastName</th>\n",
              "      <th>Email</th>\n",
              "    </tr>\n",
              "  </thead>\n",
              "  <tbody>\n",
              "    <tr>\n",
              "      <th>0</th>\n",
              "      <td>Lisa</td>\n",
              "      <td>Cohen</td>\n",
              "      <td>lisa@cohen.com</td>\n",
              "    </tr>\n",
              "    <tr>\n",
              "      <th>1</th>\n",
              "      <td>Moshe</td>\n",
              "      <td>Cohen</td>\n",
              "      <td>moshe@cohen.com</td>\n",
              "    </tr>\n",
              "    <tr>\n",
              "      <th>2</th>\n",
              "      <td>Nika</td>\n",
              "      <td>Rave</td>\n",
              "      <td>Nika@rave.com</td>\n",
              "    </tr>\n",
              "  </tbody>\n",
              "</table>\n",
              "</div>"
            ],
            "text/plain": [
              "  FirstName LastName            Email\n",
              "0      Lisa    Cohen   lisa@cohen.com\n",
              "1     Moshe    Cohen  moshe@cohen.com\n",
              "2      Nika     Rave    Nika@rave.com"
            ]
          },
          "metadata": {
            "tags": []
          }
        }
      ]
    },
    {
      "cell_type": "code",
      "metadata": {
        "colab": {
          "base_uri": "https://localhost:8080/",
          "height": 193
        },
        "id": "3cEc3sCZn8UF",
        "outputId": "fbdb7fa4-6bec-4391-8f2c-0df28b9af025"
      },
      "source": [
        "customers_query = customers_query.order_by(desc(Customer.FirstName))\n",
        "\n",
        "display_results(customers_query)"
      ],
      "execution_count": null,
      "outputs": [
        {
          "output_type": "stream",
          "text": [
            "2020-12-13 16:58:10,158 INFO sqlalchemy.engine.base.OptionEngine SELECT customers.\"FirstName\", customers.\"LastName\", customers.\"Email\" \n",
            "FROM customers ORDER BY customers.\"FirstName\" ASC, customers.\"LastName\" DESC, customers.\"FirstName\" DESC\n",
            "2020-12-13 16:58:10,159 INFO sqlalchemy.engine.base.OptionEngine ()\n"
          ],
          "name": "stdout"
        },
        {
          "output_type": "display_data",
          "data": {
            "text/html": [
              "<div>\n",
              "<style scoped>\n",
              "    .dataframe tbody tr th:only-of-type {\n",
              "        vertical-align: middle;\n",
              "    }\n",
              "\n",
              "    .dataframe tbody tr th {\n",
              "        vertical-align: top;\n",
              "    }\n",
              "\n",
              "    .dataframe thead th {\n",
              "        text-align: right;\n",
              "    }\n",
              "</style>\n",
              "<table border=\"1\" class=\"dataframe\">\n",
              "  <thead>\n",
              "    <tr style=\"text-align: right;\">\n",
              "      <th></th>\n",
              "      <th>FirstName</th>\n",
              "      <th>LastName</th>\n",
              "      <th>Email</th>\n",
              "    </tr>\n",
              "  </thead>\n",
              "  <tbody>\n",
              "    <tr>\n",
              "      <th>0</th>\n",
              "      <td>Lisa</td>\n",
              "      <td>Cohen</td>\n",
              "      <td>lisa@cohen.com</td>\n",
              "    </tr>\n",
              "    <tr>\n",
              "      <th>1</th>\n",
              "      <td>Moshe</td>\n",
              "      <td>Cohen</td>\n",
              "      <td>moshe@cohen.com</td>\n",
              "    </tr>\n",
              "    <tr>\n",
              "      <th>2</th>\n",
              "      <td>Nika</td>\n",
              "      <td>Rave</td>\n",
              "      <td>Nika@rave.com</td>\n",
              "    </tr>\n",
              "  </tbody>\n",
              "</table>\n",
              "</div>"
            ],
            "text/plain": [
              "  FirstName LastName            Email\n",
              "0      Lisa    Cohen   lisa@cohen.com\n",
              "1     Moshe    Cohen  moshe@cohen.com\n",
              "2      Nika     Rave    Nika@rave.com"
            ]
          },
          "metadata": {
            "tags": []
          }
        }
      ]
    },
    {
      "cell_type": "markdown",
      "metadata": {
        "id": "_JfBzH4FuYxd"
      },
      "source": [
        "**where**\n",
        "Оператор SQL WHERE служит для задания дополнительного условия выборки, операций вставки, редактирования и удаления записей.\n",
        "\n",
        "`where condition`"
      ]
    },
    {
      "cell_type": "code",
      "metadata": {
        "colab": {
          "base_uri": "https://localhost:8080/",
          "height": 148
        },
        "id": "FBvycyqmsheX",
        "outputId": "c101c16b-05a9-4bce-e206-27bd8c4830fb"
      },
      "source": [
        "customers_query = select([Customer.FirstName, Customer.LastName, Customer.Email])\n",
        "customers_query = customers_query.where(Customer.FirstName == 'Lisa')\n",
        "\n",
        "display_results(customers_query)"
      ],
      "execution_count": null,
      "outputs": [
        {
          "output_type": "stream",
          "text": [
            "2020-12-13 16:58:17,578 INFO sqlalchemy.engine.base.OptionEngine SELECT customers.\"FirstName\", customers.\"LastName\", customers.\"Email\" \n",
            "FROM customers \n",
            "WHERE customers.\"FirstName\" = ?\n",
            "2020-12-13 16:58:17,583 INFO sqlalchemy.engine.base.OptionEngine ('Lisa',)\n"
          ],
          "name": "stdout"
        },
        {
          "output_type": "display_data",
          "data": {
            "text/html": [
              "<div>\n",
              "<style scoped>\n",
              "    .dataframe tbody tr th:only-of-type {\n",
              "        vertical-align: middle;\n",
              "    }\n",
              "\n",
              "    .dataframe tbody tr th {\n",
              "        vertical-align: top;\n",
              "    }\n",
              "\n",
              "    .dataframe thead th {\n",
              "        text-align: right;\n",
              "    }\n",
              "</style>\n",
              "<table border=\"1\" class=\"dataframe\">\n",
              "  <thead>\n",
              "    <tr style=\"text-align: right;\">\n",
              "      <th></th>\n",
              "      <th>FirstName</th>\n",
              "      <th>LastName</th>\n",
              "      <th>Email</th>\n",
              "    </tr>\n",
              "  </thead>\n",
              "  <tbody>\n",
              "    <tr>\n",
              "      <th>0</th>\n",
              "      <td>Lisa</td>\n",
              "      <td>Cohen</td>\n",
              "      <td>lisa@cohen.com</td>\n",
              "    </tr>\n",
              "  </tbody>\n",
              "</table>\n",
              "</div>"
            ],
            "text/plain": [
              "  FirstName LastName           Email\n",
              "0      Lisa    Cohen  lisa@cohen.com"
            ]
          },
          "metadata": {
            "tags": []
          }
        }
      ]
    },
    {
      "cell_type": "code",
      "metadata": {
        "id": "UUJsP93ugxUE"
      },
      "source": [
        "customers_query = select([Customer.FirstName, Customer.LastName, Customer.Email])\n",
        "customers_query = customers_query.where(Customer.FirstName == 'Lisa').order_by(asc(Customer.LastName))"
      ],
      "execution_count": null,
      "outputs": []
    },
    {
      "cell_type": "code",
      "metadata": {
        "colab": {
          "base_uri": "https://localhost:8080/",
          "height": 148
        },
        "id": "nf78FV4Lga-U",
        "outputId": "3e30f689-ca77-427f-b456-1a46b9ff8fd4"
      },
      "source": [
        "display_results(customers_query)"
      ],
      "execution_count": null,
      "outputs": [
        {
          "output_type": "stream",
          "text": [
            "2020-12-13 16:58:25,333 INFO sqlalchemy.engine.base.OptionEngine SELECT customers.\"FirstName\", customers.\"LastName\", customers.\"Email\" \n",
            "FROM customers \n",
            "WHERE customers.\"FirstName\" = ?\n",
            "2020-12-13 16:58:25,336 INFO sqlalchemy.engine.base.OptionEngine ('Lisa',)\n"
          ],
          "name": "stdout"
        },
        {
          "output_type": "display_data",
          "data": {
            "text/html": [
              "<div>\n",
              "<style scoped>\n",
              "    .dataframe tbody tr th:only-of-type {\n",
              "        vertical-align: middle;\n",
              "    }\n",
              "\n",
              "    .dataframe tbody tr th {\n",
              "        vertical-align: top;\n",
              "    }\n",
              "\n",
              "    .dataframe thead th {\n",
              "        text-align: right;\n",
              "    }\n",
              "</style>\n",
              "<table border=\"1\" class=\"dataframe\">\n",
              "  <thead>\n",
              "    <tr style=\"text-align: right;\">\n",
              "      <th></th>\n",
              "      <th>FirstName</th>\n",
              "      <th>LastName</th>\n",
              "      <th>Email</th>\n",
              "    </tr>\n",
              "  </thead>\n",
              "  <tbody>\n",
              "    <tr>\n",
              "      <th>0</th>\n",
              "      <td>Lisa</td>\n",
              "      <td>Cohen</td>\n",
              "      <td>lisa@cohen.com</td>\n",
              "    </tr>\n",
              "  </tbody>\n",
              "</table>\n",
              "</div>"
            ],
            "text/plain": [
              "  FirstName LastName           Email\n",
              "0      Lisa    Cohen  lisa@cohen.com"
            ]
          },
          "metadata": {
            "tags": []
          }
        }
      ]
    },
    {
      "cell_type": "markdown",
      "metadata": {
        "id": "hSVfs1IPsQl0"
      },
      "source": [
        "Документация по операторам в SQLAchemy:\n",
        "\n",
        "https://docs.sqlalchemy.org/en/13/core/sqlelement.html"
      ]
    },
    {
      "cell_type": "markdown",
      "metadata": {
        "id": "A7oCKgfNlIrD"
      },
      "source": [
        "## SQLAchemy + Pandas"
      ]
    },
    {
      "cell_type": "code",
      "metadata": {
        "id": "qFRX0AbliZNm"
      },
      "source": [
        "import pandas as pd"
      ],
      "execution_count": null,
      "outputs": []
    },
    {
      "cell_type": "code",
      "metadata": {
        "colab": {
          "base_uri": "https://localhost:8080/",
          "height": 35
        },
        "id": "Hb5nniFklCHb",
        "outputId": "7df9266d-47d9-41bd-8696-8e53a46ade65"
      },
      "source": [
        "#выведем название нашей таблицы\n",
        "Item.__tablename__"
      ],
      "execution_count": null,
      "outputs": [
        {
          "output_type": "execute_result",
          "data": {
            "application/vnd.google.colaboratory.intrinsic+json": {
              "type": "string"
            },
            "text/plain": [
              "'items'"
            ]
          },
          "metadata": {
            "tags": []
          },
          "execution_count": 49
        }
      ]
    },
    {
      "cell_type": "code",
      "metadata": {
        "colab": {
          "base_uri": "https://localhost:8080/",
          "height": 244
        },
        "id": "47RSBePYiUM2",
        "outputId": "7a72df72-4614-4c29-d89e-b57c287b9517"
      },
      "source": [
        "df = pd.read_sql('SELECT * FROM customers', conn)\n",
        "df.tail()"
      ],
      "execution_count": null,
      "outputs": [
        {
          "output_type": "stream",
          "text": [
            "2020-12-13 16:58:38,620 INFO sqlalchemy.engine.base.Engine PRAGMA main.table_info(\"SELECT * FROM customers\")\n",
            "2020-12-13 16:58:38,621 INFO sqlalchemy.engine.base.Engine ()\n",
            "2020-12-13 16:58:38,623 INFO sqlalchemy.engine.base.Engine PRAGMA temp.table_info(\"SELECT * FROM customers\")\n",
            "2020-12-13 16:58:38,624 INFO sqlalchemy.engine.base.Engine ()\n",
            "2020-12-13 16:58:38,626 INFO sqlalchemy.engine.base.Engine SELECT * FROM customers\n",
            "2020-12-13 16:58:38,628 INFO sqlalchemy.engine.base.Engine ()\n"
          ],
          "name": "stdout"
        },
        {
          "output_type": "execute_result",
          "data": {
            "text/html": [
              "<div>\n",
              "<style scoped>\n",
              "    .dataframe tbody tr th:only-of-type {\n",
              "        vertical-align: middle;\n",
              "    }\n",
              "\n",
              "    .dataframe tbody tr th {\n",
              "        vertical-align: top;\n",
              "    }\n",
              "\n",
              "    .dataframe thead th {\n",
              "        text-align: right;\n",
              "    }\n",
              "</style>\n",
              "<table border=\"1\" class=\"dataframe\">\n",
              "  <thead>\n",
              "    <tr style=\"text-align: right;\">\n",
              "      <th></th>\n",
              "      <th>CustomerId</th>\n",
              "      <th>FirstName</th>\n",
              "      <th>LastName</th>\n",
              "      <th>Company</th>\n",
              "      <th>activity</th>\n",
              "      <th>Address</th>\n",
              "      <th>Phone</th>\n",
              "      <th>Email</th>\n",
              "    </tr>\n",
              "  </thead>\n",
              "  <tbody>\n",
              "    <tr>\n",
              "      <th>0</th>\n",
              "      <td>1</td>\n",
              "      <td>Moshe</td>\n",
              "      <td>Cohen</td>\n",
              "      <td>None</td>\n",
              "      <td>None</td>\n",
              "      <td>Alenbi 99, Tel Aviv</td>\n",
              "      <td>053-5556789</td>\n",
              "      <td>moshe@cohen.com</td>\n",
              "    </tr>\n",
              "    <tr>\n",
              "      <th>1</th>\n",
              "      <td>2</td>\n",
              "      <td>Lisa</td>\n",
              "      <td>Cohen</td>\n",
              "      <td>None</td>\n",
              "      <td>None</td>\n",
              "      <td>Alenbi 99, Tel Aviv</td>\n",
              "      <td>052-1234565</td>\n",
              "      <td>lisa@cohen.com</td>\n",
              "    </tr>\n",
              "    <tr>\n",
              "      <th>2</th>\n",
              "      <td>3</td>\n",
              "      <td>Nika</td>\n",
              "      <td>Rave</td>\n",
              "      <td>None</td>\n",
              "      <td>None</td>\n",
              "      <td>Green st, LA</td>\n",
              "      <td>330-1234565</td>\n",
              "      <td>Nika@rave.com</td>\n",
              "    </tr>\n",
              "  </tbody>\n",
              "</table>\n",
              "</div>"
            ],
            "text/plain": [
              "   CustomerId FirstName  ...        Phone            Email\n",
              "0           1     Moshe  ...  053-5556789  moshe@cohen.com\n",
              "1           2      Lisa  ...  052-1234565   lisa@cohen.com\n",
              "2           3      Nika  ...  330-1234565    Nika@rave.com\n",
              "\n",
              "[3 rows x 8 columns]"
            ]
          },
          "metadata": {
            "tags": []
          },
          "execution_count": 35
        }
      ]
    },
    {
      "cell_type": "code",
      "metadata": {
        "colab": {
          "base_uri": "https://localhost:8080/",
          "height": 663
        },
        "id": "8N_pMxycvWZ7",
        "outputId": "7a264aae-7903-4e4c-b909-c76c8a870299"
      },
      "source": [
        "# Если хотим получить отсортированные значения - ключевая команда ORDER BY\n",
        "sql = \"\"\"\n",
        "SELECT \n",
        "    *\n",
        "FROM\n",
        "    customers\n",
        "ORDER BY \n",
        "    LastName ASC;\n",
        "\"\"\"\n",
        "df = pd.read_sql(sql, conn)\n",
        "\n",
        "df.head()"
      ],
      "execution_count": null,
      "outputs": [
        {
          "output_type": "stream",
          "text": [
            "2020-12-13 17:31:20,365 INFO sqlalchemy.engine.base.Engine PRAGMA main.table_info(\"\n",
            "SELECT \n",
            "    *\n",
            "FROM\n",
            "    customers\n",
            "ORDER BY \n",
            "    LastName ASC;\n",
            "\")\n",
            "2020-12-13 17:31:20,367 INFO sqlalchemy.engine.base.Engine ()\n",
            "2020-12-13 17:31:20,370 INFO sqlalchemy.engine.base.Engine PRAGMA temp.table_info(\"\n",
            "SELECT \n",
            "    *\n",
            "FROM\n",
            "    customers\n",
            "ORDER BY \n",
            "    LastName ASC;\n",
            "\")\n",
            "2020-12-13 17:31:20,372 INFO sqlalchemy.engine.base.Engine ()\n",
            "2020-12-13 17:31:20,374 INFO sqlalchemy.engine.base.Engine \n",
            "SELECT \n",
            "    *\n",
            "FROM\n",
            "    customers\n",
            "ORDER BY \n",
            "    LastName ASC;\n",
            "\n",
            "2020-12-13 17:31:20,376 INFO sqlalchemy.engine.base.Engine ()\n"
          ],
          "name": "stdout"
        },
        {
          "output_type": "execute_result",
          "data": {
            "text/html": [
              "<div>\n",
              "<style scoped>\n",
              "    .dataframe tbody tr th:only-of-type {\n",
              "        vertical-align: middle;\n",
              "    }\n",
              "\n",
              "    .dataframe tbody tr th {\n",
              "        vertical-align: top;\n",
              "    }\n",
              "\n",
              "    .dataframe thead th {\n",
              "        text-align: right;\n",
              "    }\n",
              "</style>\n",
              "<table border=\"1\" class=\"dataframe\">\n",
              "  <thead>\n",
              "    <tr style=\"text-align: right;\">\n",
              "      <th></th>\n",
              "      <th>CustomerId</th>\n",
              "      <th>FirstName</th>\n",
              "      <th>LastName</th>\n",
              "      <th>Company</th>\n",
              "      <th>activity</th>\n",
              "      <th>Address</th>\n",
              "      <th>Phone</th>\n",
              "      <th>Email</th>\n",
              "    </tr>\n",
              "  </thead>\n",
              "  <tbody>\n",
              "    <tr>\n",
              "      <th>0</th>\n",
              "      <td>6</td>\n",
              "      <td>Ed</td>\n",
              "      <td>Black</td>\n",
              "      <td>None</td>\n",
              "      <td>None</td>\n",
              "      <td>Alia 12, Dimona</td>\n",
              "      <td>034-1542560</td>\n",
              "      <td>Ed@Black.com</td>\n",
              "    </tr>\n",
              "    <tr>\n",
              "      <th>1</th>\n",
              "      <td>7</td>\n",
              "      <td>Alan</td>\n",
              "      <td>Black</td>\n",
              "      <td>None</td>\n",
              "      <td>None</td>\n",
              "      <td>Alia 12, Dimona</td>\n",
              "      <td>034-1542562</td>\n",
              "      <td>Alan@Black.com</td>\n",
              "    </tr>\n",
              "    <tr>\n",
              "      <th>2</th>\n",
              "      <td>8</td>\n",
              "      <td>Jessica</td>\n",
              "      <td>Black</td>\n",
              "      <td>None</td>\n",
              "      <td>None</td>\n",
              "      <td>Alia 12, Dimona</td>\n",
              "      <td>034-1542561</td>\n",
              "      <td>Jessica@Black.com</td>\n",
              "    </tr>\n",
              "    <tr>\n",
              "      <th>3</th>\n",
              "      <td>1</td>\n",
              "      <td>Moshe</td>\n",
              "      <td>Cohen</td>\n",
              "      <td>None</td>\n",
              "      <td>None</td>\n",
              "      <td>Alenbi 99, Tel Aviv</td>\n",
              "      <td>053-5556789</td>\n",
              "      <td>moshe@cohen.com</td>\n",
              "    </tr>\n",
              "    <tr>\n",
              "      <th>4</th>\n",
              "      <td>2</td>\n",
              "      <td>Lisa</td>\n",
              "      <td>Cohen</td>\n",
              "      <td>None</td>\n",
              "      <td>None</td>\n",
              "      <td>Alenbi 99, Tel Aviv</td>\n",
              "      <td>052-1234565</td>\n",
              "      <td>lisa@cohen.com</td>\n",
              "    </tr>\n",
              "  </tbody>\n",
              "</table>\n",
              "</div>"
            ],
            "text/plain": [
              "   CustomerId FirstName  ...        Phone              Email\n",
              "0           6        Ed  ...  034-1542560       Ed@Black.com\n",
              "1           7      Alan  ...  034-1542562     Alan@Black.com\n",
              "2           8   Jessica  ...  034-1542561  Jessica@Black.com\n",
              "3           1     Moshe  ...  053-5556789    moshe@cohen.com\n",
              "4           2      Lisa  ...  052-1234565     lisa@cohen.com\n",
              "\n",
              "[5 rows x 8 columns]"
            ]
          },
          "metadata": {
            "tags": []
          },
          "execution_count": 50
        }
      ]
    },
    {
      "cell_type": "code",
      "metadata": {
        "colab": {
          "base_uri": "https://localhost:8080/",
          "height": 570
        },
        "id": "-UA9_QlHf0ne",
        "outputId": "31a6b82a-322a-45aa-9df3-207582e973d9"
      },
      "source": [
        "# Если хотим получить уникальные значения - ключевая команда DISTINCT\n",
        "df = pd.read_sql(\"\"\"\n",
        "SELECT \n",
        "    DISTINCT LastName\n",
        "FROM\n",
        "    customers\n",
        "ORDER BY \n",
        "    LastName;\n",
        "\"\"\", conn)\n",
        "\n",
        "df.head()"
      ],
      "execution_count": null,
      "outputs": [
        {
          "output_type": "stream",
          "text": [
            "2020-12-13 16:42:46,463 INFO sqlalchemy.engine.base.Engine PRAGMA main.table_info(\"\n",
            "SELECT \n",
            "    DISTINCT LastName\n",
            "FROM\n",
            "    customers\n",
            "ORDER BY \n",
            "    LastName;\n",
            "\")\n",
            "2020-12-13 16:42:46,464 INFO sqlalchemy.engine.base.Engine ()\n",
            "2020-12-13 16:42:46,465 INFO sqlalchemy.engine.base.Engine PRAGMA temp.table_info(\"\n",
            "SELECT \n",
            "    DISTINCT LastName\n",
            "FROM\n",
            "    customers\n",
            "ORDER BY \n",
            "    LastName;\n",
            "\")\n",
            "2020-12-13 16:42:46,466 INFO sqlalchemy.engine.base.Engine ()\n",
            "2020-12-13 16:42:46,467 INFO sqlalchemy.engine.base.Engine \n",
            "SELECT \n",
            "    DISTINCT LastName\n",
            "FROM\n",
            "    customers\n",
            "ORDER BY \n",
            "    LastName;\n",
            "\n",
            "2020-12-13 16:42:46,468 INFO sqlalchemy.engine.base.Engine ()\n"
          ],
          "name": "stdout"
        },
        {
          "output_type": "execute_result",
          "data": {
            "text/html": [
              "<div>\n",
              "<style scoped>\n",
              "    .dataframe tbody tr th:only-of-type {\n",
              "        vertical-align: middle;\n",
              "    }\n",
              "\n",
              "    .dataframe tbody tr th {\n",
              "        vertical-align: top;\n",
              "    }\n",
              "\n",
              "    .dataframe thead th {\n",
              "        text-align: right;\n",
              "    }\n",
              "</style>\n",
              "<table border=\"1\" class=\"dataframe\">\n",
              "  <thead>\n",
              "    <tr style=\"text-align: right;\">\n",
              "      <th></th>\n",
              "      <th>LastName</th>\n",
              "    </tr>\n",
              "  </thead>\n",
              "  <tbody>\n",
              "    <tr>\n",
              "      <th>0</th>\n",
              "      <td>Cohen</td>\n",
              "    </tr>\n",
              "    <tr>\n",
              "      <th>1</th>\n",
              "      <td>Rave</td>\n",
              "    </tr>\n",
              "  </tbody>\n",
              "</table>\n",
              "</div>"
            ],
            "text/plain": [
              "  LastName\n",
              "0    Cohen\n",
              "1     Rave"
            ]
          },
          "metadata": {
            "tags": []
          },
          "execution_count": 111
        }
      ]
    },
    {
      "cell_type": "markdown",
      "metadata": {
        "id": "mckZNlhL2NLq"
      },
      "source": [
        "# ДЗ\n",
        " Дедлайн **15.12.2020, 23:59**\n",
        "  \n",
        "- Решить первые 20 задач с сайта https://www.sql-ex.ru (Раздел SELECT(обучающий этап)). Оценивается пропорционально кол-ву выполненных задач. + 20 % (еще 15 задач)\n",
        "\n",
        "- Дополнить таблицу 'items' и 'purchases' 5ью экземплярами (каждую) на Ваш Выбор. Важно: они должны быть привязаны к существующим покупателям Lisa, Nika, Moshe.\n",
        "- При помощи запроса SQLAlchemy вывести все покупки Lisa. Вывести тоже самое при помощи Pandas."
      ]
    },
    {
      "cell_type": "markdown",
      "metadata": {
        "id": "fykV6I7tkAPK"
      },
      "source": [
        "\n",
        "<center><img src='https://github.com/ddvika/Data-Science-School-2020/blob/main/lecture_5/imgs/i-know-sql.jpg?raw=true'></center>"
      ]
    },
    {
      "cell_type": "markdown",
      "metadata": {
        "id": "8XiY1rUiKyfm"
      },
      "source": [
        ""
      ]
    },
    {
      "cell_type": "code",
      "metadata": {
        "id": "5c34MwqpkCeh"
      },
      "source": [
        ""
      ],
      "execution_count": null,
      "outputs": []
    },
    {
      "cell_type": "markdown",
      "metadata": {
        "id": "wBXgW82-Qd9y"
      },
      "source": [
        "![image.png](data:image/png;base64,iVBORw0KGgoAAAANSUhEUgAAAiwAAAEnCAYAAACKWBi3AAAgAElEQVR4Aey9h3dVR7bu2//Au3fcd885/brPafex2+1IDkIBJIRyRDlthb21tyLKOaAcUM45J0SyTbaNjU0GEySUQIDttslgcs783qi1Jdo67Xa324CxvTTGHmtphapZs76q+lbVnDV/w3f8Hb10HOt3F3PlzPuw4y0en1nFgy2T4dG9CU/funyG7Tt2c/HqLc5+fZThQ1/St2Mra9Zs5tylm5z96hgH+g9z7sxpLl64xv3bd7ly4RR79g1x8ZvzHNjfz9cnTnDj1s0J6X77n5f8HHhN7Uzzh+v4jcHr/Eb/dX4z5xWq16/89mOc/sthtu7cw5Vb97h3/RbnT5/gi2MnePTwMXeu3eLKhdNs276TC1fvSO9dOv0le/bu59J1UabHXPnmCrdv3ubSmdMMHjzI8VMn2bJiHZt37uPqteucO32W+3fucfzzz7l06TLXLn/DzZvXOH3yBGfOnWWw7yBnLmnLcebESW7cvs/lc+c5ceoUp06f5vi5b7j3cILI3/3P8DBYWsKkSfCnP8HMmRAYCLdvf+fzx48OsrdvhK+/Ps6Fq1e5cvMm5058wfDICJvXbGLLJ9vY/NHHHDs6ysChY9y4cYvbt+9w4vPD9A0c4dzZ01y6eJ37t+5w9eIZ9vUd5PqdB5JO/jI6woGBo9y+eZ3BgQG++PJLzpy/wNWbNzhx4hRXbtzk+tWLfHPuFN+cOsVfzn6DKOKju7c4/dUJzp46w+kz33Dv/uPvlF1cvLt3DTfSjbnXHMqdbAseHdvLvdYIHh3Z89d3Ht1neP8eBka/hseP+eJQH/sOjvLo0WPu3rnBldv3nzx7/uRXnLt0Xfv/ncu8/04bW/sPc/vWDYYH+vjyq5McGRpk9Ouz3L91lf1793P81BkuXLrErRs3uXbxLHv29EnlfPToIbdvXuHkydPcuHOX82e+5sTZC1y7co37j+DujRtcv3qDm1eucPbkGU5/fZpTx09z+crfx/PjK1e1sl2/Dps28bC0kruFZTw6NPqkDOLk6vmv2bp9O6ev3OTO1evcvH6L65cusLl3NZ/s3sede484+cUoh4b72fThWjZv3cL6T/by9RdHGRk9yvETp7h47QZXbtzg66MjHD76NVev3eLRg4dcu3SRM6fOcuv2Pe7euMXno4OM/uWkNv/HDxnu28vwsb9w7fJNHty5xeef/wVRhdcvXOHmzdtcPnOWE2dOc+r0Gb46c45b9x5NkP3b/3xx9jplaw6z49B5vjp/k82DZ9mw//S3H3lyfvvKLW5cPsuBocPc+Zu28ohzFy5Jzz64c42t721k3dpNHD91jgsXv+HKhfN88eXXXLt5i9u3rvPl0WH2Do5y75HA3mM+H+pj6OiX7NmylUODI7z/8Qds/vQTtmwd4MxfjjJ05Di3b1xi5+49XLhyjdu3ha7ucP7MCc6c/Jozp05y4fxF/j6Sx4px9Sr4+MD06fDKKzB1KtjZwRdfPCknjx5w/ep1bl2/zLEjRxjqG+QvJ05w8+ptTh//ikvX7/Lo7nWuXb/GzetXGNq5jhXrPuTkhSuc+2qU/pGjXLjwDfv37+Or0+c4f/ost+894OQXf+Hs+cvcuXGVE58fo+/gIS5+c5WH9x9KfeDlb06xdcfOsT4Pvj4ywsixr7h49iR9fUOcPHmKE6fOSP3ViW8u8vAfFhZtvyT6pxkztOWdMgWsrGBk5K/lBY4fGWT3vkHufSvRx3dvcevaVY4eGuToV6e5e/MqZ0+f5tz5y9o+4/EDBg/s5+gXJ7l+/QInT57hxpWbnPziGH39I5y/dImbN67Qf2Avw4eOcuXyZa5duyx6IE4cPyFh4dqVb/j82BFOnr3IvYf3JP3u7x/i/MUr3L//kPu3bnDq1Bm+Pnmar06d4vzVv992pQLduwcRETBrlra8kyeDqSkcOPCt8j7m2qXLXL9+XarnyzdvcO70KS5fuQOP73Pm5AmuXLvN/duXOXrkc+17D25z/IujnPzmmoTXS9+cYPjYcR49esSlyxelZ8785Rhnr9zgwc1bnDp+HG2vd08a6wb27mXk2HGpT75z5zZfff01165dYffW7Xx+4gKPH9xkx86dfHX2ElcvnuXUqZOcOfkVV6/f+Jbc33H68CEkJMDs2drx6O23wdgYduyY8LAo7w1R3ivXuCLKK8b8S7eAh5w9dZJLl2/y8O41jowe07736C4nvzzG8XNXpP+vXDzF0NGvePDwEZfHynv++BecuniVB7fvcPr4ce4Cv5mQ69g/9x7e5/i18zx8cANufQkPrvH4pmhw/xjB50+f4a4Y757Sn1NeEn/ytuU/fex4I8iDN4M8eF1hzbJtHz2lHP5+Mme+PPP3bz7rO/fvw9278OjvDwb/SISHD8bq6+FfB/R/9M7zvn9g3342bdrM4x3t3F9Xyt1af+51xvH4phbIP0qee7c4e3ZsIP5RCb0oLz/muzD56LG2nh8++JtR/oUQfOT4VZo3fU7Plr9I5OWdXcd/tFxXTp/jjujBfsDf4zvX6D84yoOHDxhvVQ/vPcXO6tuyiI5etF/Rjn/k35VzX3PrGYn5I0X76+tPsbx/TfQFPhP98lOq3xe4lH8VTfQxoryCsP2Ef99JWH5Ceb4za9EdPx7rlL/zAfniz1YDYuCY0Bc/+IGj0M+25L8+wS/fuMetp/k18+tToVxiWQO/ag38LAjLr7qG5MLLGpA1IGtA1oCsAVkD370kJOtF1oCsAVkDsgZkDcgakDXwImngN8IAU/7JOpAxIGNAxoCMARkDMgZeZAz85vKVq8g/WQcyBmQMyBiQMSBjQMbAi4yB39y+fRvxu3v3Lvfv3+PePfkn6+DFwcD9MTzeuXNHxqbcNmUMPEcMiPFA2+7ksUEeE16MMeE3t26JfTluc+7cOb766iuOHz8u/2QdvDAY+Prrrzl58iRXrlx5YWSS24jcR/waMCDa3uXLlzl9+jTi/NdQZrmML3bblgiLmF05cuQIu3btYu/evfJP1sELg4E9e/bQ19cnEWoZmz+vtnngwAH27dv3XH4CG/v375fy+uyzz14Y/P6cMbt7927OnDnD0NAQ4vznXBZZ9p9X3/H36usJYTl27JgESNHJyD9ZBy8KBsQgNDAwwPnz52Vc/sza5tq1a1m3bh0bN77Ppk2b2LTpQzZs2MD6DRukozj/Z38ijY0bN/7d58W99957j507d9Lf3y9j5SlgRZDNs2fPcujQIYkIvih9gizHr3d8kgnLU2jYcgN6dg1IJizPRrf79x9gcHiY/v4+9h84IM1iiZksgWVx/K7zb+Ncemas7Wif18o5/p74In///fe5ceMGVy6e59DQIIOHPuf6rdtcu3qFq1evSr9r16595/n4fXG8dvUqFy6c4cKFi1y6fJmrV65I256Ld8VSochD2FqIAfbDDz/k4MGDMmF5Cv2aTFieTdv7djuSz3+YjmXC8hQatgy6Hwa6H6IvmbA8C932MTjYx8qmOjZ9spuBg33s2rmTvQf6GRwcYO/ePezbv19aCtj32W727NkrkQCJmPQfpG//Pnbs3EXfwCBDAwfZvWsX+/v6GRTnu3fTf3CA3bt38fHHH0tbOOze0kl6dR0d1XW8/8mAFODj/p27PHjwgBvXrnLz9l0e3b/D5ctXuHv/Pvcf3OfmjZvcvXuPBw8f8vjxI458toHe3rVcv3OH+/fu8s0333B/bNv7ixcvSmkNDg5KMzkyYXk6mJEJy9PR4w/p7+Rnv1/nEwiLWPsdGj7E8OBB+geGODQyzIH9+1/wr5U+Rg4d5vDhwwwO9NN/cJDR0VFGhgfZf6CP4UMjHOw7IH1FymD4fjC8iPqRCcuzqLM+Dh3upzQqlJXrdzByYDfV+ekk5RTR291CREwQWXk1fPzhBtLiwwhJTqe+upnlvWtZubSGDWvXkZYQRXlTJyt7WgkOjSA9t4XlvfVER0XQvWw9B/oOPCEsH3/YQM36TXy2ehmVS2rYeWAQQYR2fLqdlsIiVq7dzebNKymor+aj97ezsesd3l//DhsPHGLDil6WLn+Xwwd30trayLr+oxLhqaqqIi4ujvXr1+Pp6cnNmzcZHh6WCctT/ACTCcuzaHtymj9mnJlAWPr69rOqt511m3eyd9uHtPWu4sgXX0oGuaOHDjE0PMLRo0cZHT0sfXEdOnSYI6OHJBuDQyMjEjkYHhlmZOQQI4cOMTIyxMjIqBTpVzx79Ig4H2RUkIuhIQ4d1r4zNDzE0dEj0nOjo0c5euwoQ4P90hTv4MghKc+jR49IUZRHDh9GnA8NHpRIyMDBA6xe1k5dbQ3vbdpO/67NVFZWsGz1JimS7Ts9K9i2ex/9Y9PdP0ZZ8rvPv7HJhOVZ6FyQ/H4q4yPZ+Ek/Q3s/obQoBbXKl8W5OZR3dtOa30p+TjI9K1ZR1VhGcmwG7S0raa1Np21pF5kJoSwKDSKpKIv3Vm9kcUI+4apAEpKTKKlt4kDfwSeE5dMPagnPXcLqdVu4eOkbljdX0bbqPbpbO1i97XPuXjhCaVExIsb2/rXLCVdkcvToYXJqK6hILmRlUwfdDbkk5xSz/MAoPH6EWA7y9fXl1VdflWzvxFSOsHUStjLyDMvTwYxMWJ6OHp/duLGf/v6DElEfGhj4wRMLom89ODDIoBhL/9HERF8fB/vFUut+abn44MGJdmJiiVnMrIqPhv6xCYL+g/30jRPo/fvpG5dVyu+AxAEGBg6OTYr0Se1X6OrgwIC0VC1kE+kd7O+XyinuTSAsQyOHqE1TY+nkTajKAbfwNBpLCklLS6W0rpkVve0kxidRUFjN9q1bqSotJLOgnvc3vkdlawfvtC1l5bL3aGmpoqmmnp6la+jprGTtpk/paK0hLbuA9R9upLy2no1r1tBS20JnfQdr3ltDfmkB6z7YQGFBJpmpWaxav5XRo4dY29FAcnIKSanprN+yk6XVZSTGZ7Hxo10c++JzugqTmDzZgLYV77LuvRX4udmSW16Nt4sn9R2deM0xp2PDLkYG5XXtZ9dwnl3DlgnLs9BtH4dGB6lJiiQxNY+qijxCwoKJjYmnrLaWlnfeYWlFN8tXdJOWGIkyJobOjg6SYqJJzU2numoJao2KnLwCmhprCQ1SEpVZSWdrJdGJyXSv+oD9+/dJhEUELd22bTkbBw892eH7o84SUqtXcuHrUapy81m9+kPWremmpLmOlcvX8sGqLWzesoHEogq2b9rFtpWrKK0p5v1d2/ho6CiPH96XloMEaRFbMYi/hw8fyoRlfHB4SkeZsDyLtvf00uzr72fPzq2sXL6M997/mMHBIQYGhxgdPSQRhcHhEQ4fGpGIxOHDowwcPIgY40cPaycURo8c5uO1a1i/cSvHjo5y4ICYeT3M8OAAA2Ji4dAhDo7ZuO3f9xk7du7gQF8/+z77jB3bd3PgW5MAgpxs2bSBZctX8dn+fvr79rNz20727tOSoqGhQfbs3MY776xi9dpNDI0M88Ha1Wzc9Cn9B8Uy8142b/6EvoEBtn/6Cbv27mfn5g/oXbqUzdt3snvXDgYO9k8kLJ/tPcCXnw8TZD6N//W7yXy0ZRPW04yITwjBUeFKWKAvTkEJaCyNSc4qJMxXweQp+nSu/4hopQuzX9ND57WZxGaXUxLpz3wTVyxsdImKDmOB8Txsbe3wD4nDwGQevu7uOC1UEe2mwkJHn//95mwqm2qZb2mM/hszSSt7h9PfnCDXxxYPd3+cvJwISozG0k1JQVow5l4aDn95gq3renF1sMLG3pHMxGjmW5vz5aVb5AT54BOQhMbSmeWb+zh6eOhnsLz19MD8cyQn3yWzTFieDSaEPcrePbvZ9OEHbN2xi+1btkpHUQfar61++vduJz06jLSqeqmj27L1E3bu+Uz6gtq8eTP7Bgb59N1uQoODad/4CaMjA3y0aRM7d+9lzx6xzLNZIhMPHgi7lAc8fCRic99n46qV7Bw+Ld27cuEcV27cgUf3OHP2HPfuP5JsVm7fucX9B495/OiRtFncg8ePefToIffvP5DIibB/Gf8bPx8ZGZGNbp8SWRE4kAnLs2l739XP/SvXxKpFS00+i1KyychOYenaD9nx8QfUNXWzf3CQD5d3UtvUyc5dW2hpauDTrTtZs7SDqoZWutrbWb72Q1Y31hCiiaXrvXWSPVpXezOrP/iYTz9aR01LAx/v+IzDhw7RVZtF+OLFHDr2BS3Z6cTGVDF0REuMBNEZGuxjRU876SkJZFZ1smfzuwS6RbP5s0G2fbCaTZ9uZ2lpHu6ewfSu2cyHq5qJDI5m+brNDI+McHD3p4S7+rBy40aiFynJKKklJy6J+qZW3n1vJRXlOXStWjqRsPQPDvLpez3MnfIajiF5fHV4J5azLCgoTMVD5UFsRAB2ymB83T1R+rtg7u6Bi6MrJfV1eLpZYWNgj52hBR6h4aQGqXBwCsDVzYjktMWYGRuRkr2E5soy9MxMCA8MxMslhCBrU0ysnDH3C6CkvAhPVxdsDSzIKF3FqfPHyfNbSEhwHMogHyKzMnBx9yFhkQZlRBpHv/icNWveoWflcjys5qGMSCfIz4n8ihp8XH1oXNqL+8y5pJc18+EYk/tXgCG/89M1XJmwPDvdiy80sXwi3IDFUUy9Soa1E7yEhDHtIH19B548K57Rvqf1KhJTwcLgVnRc4rq4Lwa7d955h23btrF9+3a2b9smnW/b8jErV6xiy46dbNu2VXJD3rF9O9u2b5cMf7dv38a27dp3pOvj70tpaNPZunWrNq3xNLdtk9JZvXo1n376qezW/JRIi0xYnl3bexpjijDDqKsponH9Do589gHxGSmExwTjHxDJkoIaMhbnse7DD8hNiCYgIIDstERSI+JIS08mMSmZ3Ow0WiqryUxdQn5pFjm5iwnQaIjNyiQhNY7F5XXsFW16YJjPtqymqDqPvpEv2LFhDcWZrRwcHUHMnIgloH37D3Dsyy9Y21ZPYU0vx44dpDKlgo93HuTTdStYve5Dtn2wjiU5GdS2dFIan0pmVjbZIo+BEQ7s2Ex5zGKyclNITM+ktKmVgswsikqK2bB+LWmRbvhG504kLAf6+9mybhVFpZVsPzDAUN8eVi5dyUcffcCHm94nLVqJqUcQ727YSt/+XbQ319LevYK1a1awfM0aPt24iU82b2X5ym56l63kgw8+YeP6lWzdtZeNa9+hqamJtRs2snL1arZ88glr313L2lXvapnfhnWsWtnLhg83s2nNOt7/aDtDI4N8tOYd1q3byOo17/LJrn1sWrWUqspW9uwdYHhokE0bVlNZXUtr9zL6hL3M3m1EqezRMfNky2d7ea+rjdqaGla894G0NvY0gCKn8fwaskxYnp+unyauBWkRRvxPCMs4adm+nd179qAlI9u1ZEbc+5E/kY/Y+FLk+zTL8WtOSyYsL3bbEzMftRXZLK5so72xhOKqYsLDlaSk5VNfWUPi4kK27NxC2qIwwuNTqKhYQklyHsuX1lLbXE9NdQZlucUU5tRSWVfM4rQYAoPDKauqIyU7k+4PdjA6PED/wDCb17YRkxLB7oNH+LCnldjgPPaNDLD+3TVs27WPkUPDLKstJjosno937GVw/1aSNUks/2AHOz9az8aNH7Fz5w7eX7uUrIwCKvMraGlpIiE9hy37R9i/9X1K44v5dNcu6quLyKpvZ8PGtVRkLSY1MZPsnBjS0vImEhbRwQjvIGHUOiCtXQnjvBFpPUuwuZ3bt7J7Xx+jh4clAxqxLibWyIaGhhkZHmZweEhyixwZHkFMzw4NDTA0NCJ9uQmDXWFsOzQ4KD07MCgMaoaktazBAUE+hrTGQ4ODDIm0BoTR7X4GhoYlFjc8NMxAfz9iXU6svUlra2NGQ8IIWFRe/4H9HBwc5tBgP+9vWMsn23dz+MgRyUh4aHDgHxsWPaUvk19zJ/e0yy4Tlhe70/y++hbk4Xn/vk8e+d4Pw5JMWH6Yvp43vsQYumn9CnLz8iiub+Hg0Ajvr15FaXklm3fu5J3magorGvnk0w+pLCtj+crVbHh3DR9/tJGNH2xk48bVfLB+LXnZ2bR0rmKg7wCNtRW09yxn9do1fLRttzR2i60O3l3aTFZ2Nh9v/4zVbfVkZxeyadMGinLz2LZvkEPDB+lqqCK/sITule+x46ONZGdm07H2Iz5dv4r3Vr/PxxveISc3m3c+3sr+3ZvIzc1g2YZNDA0OsX/PDtYtX8fgoSN8vGkD765bS21JAYWFdXz86XbWr3+Pfft2TSQsYjvc71P6wYMDkuGL2Gjq+577ye/19Ut7SAhS85PL8qLr6gWXTyYsL3hbe8HxI7f/fx0/MmH513X3PHAn9Y2DQxwZHeXwyIjW0HZoWPpAFx/3wsBWTChIBrSjo9KkwODQINI4PiAMa4WR7iCjR44wMjxEX18/YhJCTD6IiQXtpIDWpm1waETyFhbLP2LS4OixIxzYs5vtn+5AGNwKWYaFQe/oKGJyQHgEHTl6hOEBsUWK8EQakDySpPsDB+nrH2B09Ihk4CveFca8g8ODkp2p8A6SJjYOH5YMiIWxsDAoFkvXE7yE/hFheR6VIOfxYjeS510/MmGR8fC8MSfnp8WcTFjktve9bUHYskluyc9PTzJhkb8QX+hZKJmwPL/O4Hs7J7mdvNDt5FnUnUxY5Lb3LHD1Y9J8QljkaM2/jGiWfy/K5c/1uhytWcblzxW7P3e55WjNctt70TAsEZbbt29L0XCPHz/BiRMn5Z+sgxcKA6dOnebatesvlExyO5H7iV86BsR4cPXqNc6ePYc8Nsh4fxHwLhGWW7ducevWTW7fusEt+Sfr4AXCwDgmb9y4JtfLC1Qvcj/xy+8rb9+6yXi7E+dynf/y6/xFr2OJsNy//5jtW1rpbglkeXeU/JN1IGNAxoCMARkDMgZkDLxQGJAIi9jl+qMPKqgrd6ClTkFrnUJ7rNcexbXn8WuuVdDR5Etnozfi/Hnk+ffy6Gzxo6fF74ku/t5zz/q60EN7oy9dzb50NPo80UlrvfdPLtv3lV2SW9Rlk8+PqkuBB1H29oafHhPfV1753k/bXmX9y/qXMfDLx8ATwrJ5UzWNVa50NKnobFbR3eZPe6OSzmZ/etrUdDWrpHvSeYt4Rnu9u9WfrhZ/6Z54Zvy6SKO9SSW929OqTUuk9+TZFn/pWfFcV7M/nU1K6dnKIhfKK3xYKuWvff9J3q1qRH4dTconR5GeVl41Ih9xb/yaVh5tecbz7W5VS/mI54Q87Y3aPLpbVGP/Czn8KcqwIzXZnpZGf5aK8rdMLL94t7tNzbff6xjXidBV87dkF2Uc05lU3jGZpWvifEwWIaP0G9PjuPwVBc5kZzpQXOQplVs8093iT1uDH12iPGP6HdeNuC/pZKysIh3pWpOStrE66GwS18b1+dd6EvUvyjVeXnHeM16/43IL+Vq09S9kF+8IXIj8tTrV1mVNqRslpQqpLsdxJd7T6kBbD0/0IXD35N4YtpqVFOU6kpPlSEW5t1QPf6238fqTj+M6l48yFmQMyBj4JWNgAmFpa1CQF2eI0t+QxABd5lrNprHeh+JcJ+qqfWmtUVBS4Ep9tS/1pe4UL3GlON+F6jIvaaCqKvekpsyd0gI3mhqUdDb4UZTnQmmRhzRQdjQqqasUMwZKGioV0q+x2oeGagUtgjg0+mA27yUMXebR2aJmWbuKohwnamr86GryozTfmZJCdzqblVSXedLVpqaxSkFDlTdl+S6Ul3hJg39dmRdNNd7UVilorPKmpUFJk8ijXkllgQvF+a401/tJA213qzaPympfaeBf2qkhSaPPnDlvEJu8kOZab0qWuFFX40tLlRf52U7UVPjS26GmJM+ZqiofLWlpUtFSq9Dqo9KbxgpPSQ+NNX601npTX+VDU42ChmpvaisVNNf4UF/pTUOFgo4WDb1tKurLvagocqO+xo/mKgUVpQpWdAUQHzQPe+upLFpkiqeXHqkZjpjM+SNxaa60VXpSmO8hyf5EJ5UKGmt8qCx0pSDHmdoqb+qqFHS0aljWrqa23JPWJhU1RaJuPGmr86Yw10Wqq9ZGJRV5zlRX+dLR4CvpvLjYk44GP+oqFDTX+lBf40NtiTtlBW60NvjTXq+gKM9Z0r+oW0E8ljX74WT+GrPMZ9PW6E9bvQ9NdX60VvtIstWWuUuyNTcoqa/woq1JTVuNt1SXVUVulBW609OmJMR7Dna204hOWEhDqaeUhkxa5E75l9wpy2WT8S1j4LsxMIGwtDd5kx2hy1uv/V+mzX6D8ipfHCxewtB0EiYLpksDmqPxn3lr9ttkLbZF59V/R+E3D+tZL+NsPxlLF32WZFpiOOcPWDjoEKPWwWjeq0zX+SMlVWreafPF1WEKbk5TmTL1dQKcpuNoOxNb+8n4h5vjZDGZWTr/jY7h65jYzSDQezY2VlOwsplBoFKXmXNew2beG0QEmzDtpX/D3m02f/7P35KQ6kqY6zTe+vNLRIdZYKP3GiGa2Rg6ziDERx83Fx0mT/o9wYHzsJz3CnNm/p6wRGfWLAsmRj0bE8vJmCyYTH6xL2uWqpg/7SUsrKdjZjON3FwHnCz/zNRZr7Ak141Aj2noW0wnXK2HieGfmar3KiVVKlb1BhOnmsnMqX9A10GXqnwnzPVeZrbZbKL85mBlPgd3pzfw9Z2DvtlraDz1cLCdi9eCN3F0N6Q02w7zGS8TFm6KudmbWBhPISXDXTvT1KCkvUHJqlZfjOa+wmuv/Q5HhQk1+baYzp+EjekkQoKMmfnHf8fWdRZvvPQ7QgJMmT/lD9havYW5qy42lq/j6DOfhgov7K1exsZ1Dgqn6VhbvEl4jDXmc/+IoZ0uEf56mOi/xrw5bxPoqcPc2a9hZvMGPu6zsZr7Jr6Kmdj4m1KSaM6caf+JvdcCVD4zmWv4OrOnTKK+JZDeBk+cTScxW+cVZhm8joXJTPx8dHDznM3M1x31el0AACAASURBVH5P6CJzDA3/gLn5FJyc9THR+y/0zaeh/9b/xT3AkvTo+cx4+z9wVZuxvCNAKntnnSd+DvoUl/lOmNWSG/Z3N2xZL7JeZAzIGPilYWAiYWn2JidSlz/94X/xx9f+QEmJN5am/4V38AJMp72KhdVkTM2nMGvGKxRWKDB77d9JyXDC7NX/w3/87v8QFmePj8WbWFtOwtDwz0Sr9dGZ9AfemPr/UVCpZk2XivnT/52XXvkdcwzewsfyLaZN+iOTZ/4RW+epzDR8A2e3Gbgq5zLP4E9M/dMfCIuyZqHe65gueJsFLvr42b6BjdVUjF/9b3RNX2XqS/+Nl4suJmaTsJj1Gh6O+hhPeQmlYipz7KejcZjE73/3b7w17b8JDTFiwdQ/Mumt/xdNjCMbVwVhr/s7/MMtsZv+EkFxzmxYrsZk5suELLJigfErGBu+iZ3lZPSm/5bMIl+ywnTRMXkLo8n/xdwFU3F2mU1+iS+rl2nwtZnKQpupzHOYibvTVEzMpqA3721UztN56/VXmD3jt3gqZvH65H/DaM6fMDHRxXXeaxjpvsbMP/2WyS//nuIKH0xn/xuvzZ5Ee1ugNGMkllM6Wvx5t12JocF/87vf/m/MHeeTukiHmVa6xPlPQ8/oDUz+/DK6Jn9m8h9ewt/dAKOpL7Mo2AADm2ksWPAqhiZvMNtAkM/f858v/RtuvmYoXd7AIdAKleMbOAdZ42HxR2bMn4q/1xy8bSdjb2OAh9Ob6M19nVmv/BYD/T9iLAiQxVtYWUxmnsUsgnx1mDbtj0z60+vUt4fQusSat6b9CWdXHRx95mKt+wZW5m/y+z/8X95+478ICZiPrvHLhAbNZ97UP7PA5E/MnPMnJk/6HQ6us7ExfQ0bqzcwstVhRU+wtITU0ehHWb6bPMMiLWPKHfEvrSOWyyNjWsbAP8bABMLSWu9FYbIJIYtMSNDo4+Eyl/lz/4OpBm8QFGlNZqIJzi4zcHHRo7LKG83CaeTkuhDsMovw0Pl4+xkSppyHi/0s1H76BKoMiYuxxN9vFmVVKla2KVG4Ticqzoao4PlEquYSGWJGWKgR8YsXStP/b7/5H7wx+1WCIi0pybLC0W4agWFWJAbr8rtX/xMn13ksyXYgwMWIjm4Nsd5GxESY4+Y1Eye7OSRG2+JtMxkn27eYrPMyQQoDAoMsiIsyxl85l5BgCyKCdUhMd2VlVyDFmVbY2U3DXbWARmGv0hFAUbIZDrZTUQTMJyPGHGfb2Xi7ziQx0ZZgpT4uHkbkZVjj5qpDSKgZtfVq2koW8sqbv8dp4TSmzHqZgMB5uLvOQOFrRGKoMSEBlsRHGBAZboyHSp+MOGuC/M2J8tHDwWY6aoU+ShcdwkMWoAo0IdBTj9gk5zFbHqVkD7SsxRcfHwPS0h0kwhCdaEeAmw7O9vrkZ2h10tapIc7HiPhwC1Suc0hNtEAZYkKAnw4ODjMICrEkQKNDRLwNwV6zcHKaSXWNkqgAPUISHKjNscdzoQ4xsTaEukzj5Zf/gJfXXLITLFF7ziU1wRxNhAWh6jm4Os9CpTYmRGlAcpw1fs7zqG9S09vsyyIfPaZN/j2vTn0FVagFqTHGuKvmkxphQmqcGW+9+f9gZD6NuCQ7QgMMKK3yJy/RhEURZgR5zMbNcQaaMAuWtmu09lH1nvja61Ekz7A8sROSO7h/3MHJOpJ1JGPgl4OBCYSlsdJVsh0RBpRi4F7RriI2wpD0fE9WdQVIRo/CAFM7iCjp6dBIX7897Rp62zWSHUVPu5quVn+kY4vWsHJpmxh0lLQ1KKV0hRGrZKQ5duyRDEfVrOoJIC3ejORsN1Z1B9LTppGMS5d1BVKRY0dIpDW9XYFP8uloVNHdPpaHyHPM8LOnI4CeJl+Sos2ob1CzokPIJgxktc9I6TarJKPV7rE8xLvCgFTI+NdrGpa2a41JRRk7G4XRqkoqq9BBz5ihrjBobSh2Jjjamp5WFckxZtTXq+kVepRkEjL6092qQRj99rZptDoS18ZkXtqhoXdMnyJt8f//tNUQBrPjulsmPSsMgv21hrdCl+2iDCrpKAxgRTpCtvF3RPnFuagPrVxjMrWoJLlEeSQj21aVZB9UkmZDVIQtvT2iLrTpS2m0jpVrLL1xQ2ahK2GnJIytV/UEkptqRWyK01hdqhEy97QH0NPgRUiwIZW1/tq6GTPqlgyIx7Exloeoj/EOR8jwP3Uyfk8+/lVPsi5kXcgYkDHwS8TARMJS5fpkcBCFFQPkss5Alrb6S+fPWgESoWkPoFfk962BSthviMFseYdGsmf4p+RoUtHbEfDEA+efeudHTLcLDyFJvkblc833mZVL6LxNw7LOH6Dzb+lP1J8gecLId0JdjhGa5Z2BdI15LT2zMnxLHjkPuQOXMSBjQMbAzxsD30tY5Mr9eVeuXH9y/ckYkDEgY0DGwC8FAzJhkb/CJ8yq/VKALZdD7qRlDMgYkDHwy8KATFhkwiITFhkDMgZkDMgYkDHwwmNAJiwySF94kMpfSb+sryS5PuX6lDEgY+BfwcBzJSzCMPWfEVJsay/2HvlnnpWfkYEvY0DGgIwBGQMyBn75GPhbwiJiurSpaavzlTYrE+ThaQGhudKLNrElvohNM5ZuR6taSl9cl/JpUtFapaCl1pf2J/F+fvkV8bR0LKcjY0XGgIwBGQMyBn6JGJhIWKrdpDg9FYvms8R3Lku859FUraRL7PnRqpaIRqfYj0Ts9yH23BBB8NoE4fCT9t4Q54KMdHUG0NnqT6fYf0UiJiIAoS8Fah0aa/2pjTWlKtOd3l41pSHzqVviTn2OCx1tGnqWBlMRvYCyxc70dAVI6WvzkAH4SwSgXCYZ1zIGZAzIGJAx8M9gYAJhaWr0ojZhATkKIzo7A2gqcqcu3ZaaTGdqUy2pSLKjKsaCQt+5lIRZ0FLpQUWqLV1LQ+mo86IyzoqKSFPynHUoCbKgIsmSxipferoCtYTFfzZNjRoqlDpkO8+lfrEV6QveoibPlap0e1or3CnVzCPTYhLl2e40L3GgJHA+FYkOtP+Ty0n/TKHlZ+TGIWNAxoCMARkDMgZ+XhiYQFhamr0o859DcZwD3d0BdC8LpTnLkuQp/0WOjxEdbSpyraZTme1BachcSuPMyTB/jZJQC+rSbchz06O1xoss0xk0VKoo8plEpose1Ysd6Gj1k2ZYmhrUVGp0yXYxoC7ZgkyLqVSl2ZDvr0ehhy4VGe7SDEtpghXZtq9L5CjDaioN1UppV10ZYD8vgMn1JdeXjAEZAzIGZAw8DQxMICxNDZ7Up5mT7awn2ZDUZTpRGTWfDPNJ5LjMoi7fnQI3fWoKPCn2N6A03pwsp6mUBRqSYT2JPC9D2luV5Fjr0NwUSLHfFJYELiB74WRqizwpCpxDU6OaMqUOxTGOLF+hJs9xJhXJVuSr9CjwmktVrjslagOKYyzIcZpMReJCajMcaKlXyTYtskfTU7OnehqNR05D7oRlDMgYkDHw/DAwgbA0VrnS2aqiNt6CAuU8ioLMqM91oDrDieZiZyoizMmxmkqWqx5l0Xa0NXhTrNSlSGlIVZo9VUn2tDf5URFlTWuThtpkEwr85lISbiVdX6KcRUO1iobFNtRku9HV6kdljCX1BS5UptnTXOJMkZ8+hRpjGip8aMiwo0g5j7JwkZ6/HEdGJiwyYZExIGNAxoCMgV8pBv6GsAi2KGxOlvUE0S0C8LX4Swa0wpunu0NFaaAJjdUqukWMmSYVXSJejzDEFcEDhXeRCHDYHSgFDRRBCMW93p5glnX6UxG7gMZKX7rE8y0i+KByzHhX5PFXo15h5CuMdTtEmsLAVzLsfX4s7l9lzMIVWwSNFLGX/tU05Pde/HqW60iuIxkDMgZkDDx/DPwNYRHReqsLXMhIsaWhTilF6RURf7tatMEEeztFpGG19L94Vtzr7RSRnLWDdGezispCFzJT7Sgq9KCrWUlhlj1ZaY40j82SCDKyrCsAEflZRDAWQQNFlF8RXVhE9BVBC5d3BUjRlUXaPcLjqFnMsGijCWvvB0rRkiXS06p1k5YiMosgiZ0BdDWNESLhQi1ctYVHkwhQOJbess4A6VxEHx6PMCw8m7qFDOL9ZpU24KIob7O/JIukBxHlWQQ4FO+PySieF9GP2+u8WRxtQlzKQrratPcl2Vu0eQv5hB618vjTKZVfK6cM/ucPflnnss5lDMgYkDHw88HABMLSUudBdb4dPp66xEaak5VsR1WJJ9WF7pSXeJGRYE3eEk+qCpypLPGiJNuZ8hIPkmPMyM0VSzxqljX7ovDRJzzSkpJSL1pKXFC76uHtNZ20XDd62zW0V3sRE2xMdr4HZbl2RMRa0dHqT2aiJbHRFqREmROxyJSyYnfSIs3IzvGkscqdljofirOcSYmxICJ0ATlLPOhp85dsapprfCgocKIo24G4KAuqq33oblFRW+pBY4031RUiDQUJ0VYULXElLtyEqHAziovc6WjV0NXgS3WBB0XpdkSFmVNb40dtoQtxcfZUlblRVOJOXbELZcUKuhp8SAk3IXKRGUUFblL5S0oU5MXOw952Gmn5HjRXuhK5yIScXDfqi71prPYiP9+J6lIFTTUKais8qFziSl6uO13yjIw8I/UrneKVB4ufz2Ah15VcVz81BiYQlvZmDxJVRqRneLL+3TB6G73RuM1AHWhOctR8LK2n4uFuRGSQCW5eOngsnElmpjORfjpYmM2msTmAFS2+eHrpEhxiQmqqA+U5juRlKCjJNWFxtgvvdKqJDZ9PVLQdRZk2BAXPJSzEFB9PPSLCTClc4kpmjAn+QcbEh5kRojElOMCQhFgjkhPm42A0i7R4C1S+Mymt8KO3S0VmoA3JAYYscNKlpNgDtWImqZkLWdETRHqEMdnpC0lNtsDPVwcbmxl4+5kQpzYmQmNJfIwREbF2lGU6kqIyR+k4k8hwMzTBhri5TsPWZhYx8faE++vg5mtEfa1SIkIZUfPxURtTXeZJiOdMFtrrEqs0JXOxPTEhdmQkGKJW6hMeZklGkB0RSl2sfQxJiltIdYkTKUkLKC/wICfbnW6ZsMiERSYsMgZkDMgYkDHwvRiYQFhaGzxZkmiGSmVMcb4LNUUehPrNwVtjwuJoI6zsZhIRak58tBXpWU7SjEi0ei7u1lMwNZ5JTb2GlS0+uCv0SUywwsdpLsEaI1JSHYkMnEVCujPvdalZFDyPuBQnKnJsCVDNJTrCAjeHmURFmFNZ4U1diROpWY5kxlgQGGhGeIgRIerpuHnpkqCyparAiZQEYzpaA+ntVhPjrIvCcy4BCbYS4QnwmUlsih3LuoKoWbIQf4/ZKJTz0PjNwtFFl4QkB8qSHSlO8yQlZh6ODjNwcNQjyd+SEIUuKbFWBGrm4eo8BV/FPLKznYnz18PJ05DGerEspaG+2IHkbGfKUixwNJuErdUc4iOsWLzYlqQgM8LVC8hJdyA13hql+UzUwSaEJNkQEWzG4gQzwsONqCrxoiDfQ1om+qmZq5y//PUkY0DGgIwBGQMvMgYmEJbGKje6W5Skx5gREmBMXtpCyvLdKct1oaTQk9QYcxJTF1Je7EFzgz9NFZ6U5joSHbaAhDh7Whv9WdqiIi3BgrCQBWQm2+PrOofwRWZovGYQGmHK0q5gWsrdWeRvSHqOG4VpVgSGm9PSqCQl0oSISCsaqxWUlXrSWe9NjEbM+LhTVuhAUakHdUs8qa/0orzImbYmf7paVRSniaUrBeXlHmQlWxEplpPKFZIdSmeLmp4WJRViSafMk4hQE7KWuNFY6kVdmQ/l+QuJDDMhM92F2nxXfMzeROm/gOY6JRV5TkSGmZOf60hhkSuVeY4UF3rS3aqmqcqT8nIFDaUu0vJUcpITTTWeLAo2JDvPidx0JxqqfagociM/xZ66Kh9KyzzITbIiLMgIb3cDcjOdyMlyk2dY5K+K7/2qeJE7EFk2eYCTMSBj4HlhYCJhqXSho1nNu8tDeXdpkDSQCvsKsWQhGdd2BNDbppYG7B6xDf+YYeqyzkCWdahpb9DGCRKGrcu7g1jWrqKxxk86721V0VDtRVujChEEcdxQdVl3oGR02znmYbOsXSMZpQqjV+GFJIxzhUFvV4taMnwVbtdSvi1aI19hdCsZ/7b6I94Vco0bzXa3jRnUNiq1hrOtat7pCZKMfUUawhBX2N0IeZe2C4NYP+pKPOnpCJTSkYyAOwOk8grjXMnYWBjdNiifyCjKsrwrkN6xUAUib2FcK+QQZRJ66xGeTs0quptV9LRrWNEVQEu1N22izK3+UnrPq8LlfOTORcaAjAEZAzIGfo4YmEBYmmvcaaxwJy7KnOw8N5Z1CCKikQZsaSBuUUneL921HqRHW9PdFSgRAeFFIw383YE0lXvQVKukS8yOhJnT3KwdoMX7K7oCpUFbeAYJ+5KmYidSo23o6Qp6QoiEEa2YwVgmXKLHgh8Kr5yl7QESEREeQsJwV3jajHsnSca+LT6kJlrQ2hLAiu5Aept8iAmzoa5OeOVoCUZTtYLqKh+Ep5NEIFr9Je8eIZsgRWI2ZmVvMMtafYlfZE55pZ80S/MsKlbkL3knybML8uyCjAEZAzIGZAzIGPiHGJhAWNoaFeTEGeLvPw9loBExCZZEhpuyJMeBALUBuaUKmotd8HWahpvdTIqyXakpc6Ok1I2qLHvCQk3xd3gLR2cDspIsSEh0pK7UiWDlXKIXmRIWZExxqYKCNEvCwq0oSrMk0s+IwlwnCgvdSIo0JjvDldI8O4KD51Ne7i3Zd3Q1+ZEaa0KQcj6xYQuIiramrc6baNU8klJcaKpyJ8BzJnbOs6ip8CY00ISSJc54OBlRUauSiI/YHyU72pC55tNIS7Snrlp4HDmSlmpLkFqf1DQXmkrdiFDPp6Lcl+LFtsTGOEizI8+CsMhpyl84MgZkDMgYkDEgY+Cfx8DfEJbcBCM8PHSICDbFw3saEQm2xITok5Jkg9rbCB8fYxJjLAh1nk6QhxGF+bZERxmi9JpPaZUvCT6ziY+2JTPGmupKNSnR+vhpDPFW6BIYZIQ60pLCdBssTSYRHLAAJ4NXiUyyJ33RfKyspuHvOxc/1UwComykJR4xk9JT74mr5wxCA43w9ptHQIghSuV8oiNtiA7Vx9PJgKQ4SyJDDFB4zcRu4Sz8FUZ4e5lQ06CWZk+EoWx+shmKEAsqs+0I9hPeSRZo1AaEx1kR66fLQpuZONlNJyjQnI46d+Kj5tPWEvAPWZ8MuH8ecLKuZF3JGJAxIGNAxsC/goG/ISw5sYZ4+Myls1lNWPgc0os9SQubh0ZtSECAKSFqYwKUBihdZ7FIORe1UpfwSBOCfYyIT3UgOWguIaFmpMeYU1DoQ1rSPKJSrAkNMyUp2Qb/QGO83XQwM56Gv48hvtbTCE20I2GRMQ72M4iJtiZwkT5xafbkptvR1qKhu84DryA9aTYkNNqa6CgT1OoFBPjNJzRoHsF+hoRp5qHy0yM0QB8HZz2SYyxReJiQm+tMToYLvV0BVGTb4uRuKIUf8LSZRFK6B/HhhpILdXSQESqFHm6uc0he7ExTmStxUZZ0tmlkwiJPVcoYkDEgY0DGgIyBnxgDEwhLU40b9eUe1Nf4SMa1laWu1NX60VbjRVy0OVXivMKd2GhzSovEhnIuJMRZUVPjQ2OJdoCvLvckfbE95fmOhASYUlHuSU2lgspST2oqvKgs96I4256UBDsqijxoqvSmptyNigpPlqRZk53pQm2VF3lpVsRE2Ug7z3Y0+FJW4kZdpReVZV5UlXrQXOdDZqwl+Uu86KhXkBRjQf4SN9rqfEmOs6KgwI2ach/SIk1YnO4i2ap0NvqSmWhLRYkHiVEmtLdoiA42wFM5n6oqJV11ClLjrCgv8SQuyISsPAVLW1U/KUiF/c2/wkTld2S9yRiQMSBjQMbALwkDEwhLQ6UL3W0BrOoJkrxXhGeO5PHTFcjK7iC6m5WSZ4u4JnkOjRnHim3wxTbzYqt6sRW98K6Rdpkt85RcnbuFUa6ISSS8coS3TJvY/l48o92eXjLabRbvCcNacV14HPlKrs6St1Cj2Kztr+9LaY15FYn8xg1wx8+1njpa76aWal86nwRO1IYXEMSlsdZHkqep1peuNo20zf+495Jwg64u9ZS8lMYrW7ud/kTy8s8YzopnxtP4wccGPykMwI9K4ydmxD+4zLK8/zpeZN3JupMxIGPgF4yBCYSludaDumIngjWGJKY7SfuXJEcYExJiSl21F9GLFlBW4Sd5DolBVBAL4b4ryMTy7kAKku2ISXBmZU+A5Gr8P3dwFe694nkRd0e4HIs0xP9SjJ1WNb2tviSojahvEDGFxK65fiyKNKSyWrgga5myIA7CjVn7rtaNWeQzLos2Ps9Ymi3+rOoJICXenKwCL8mdWRpAhbt0hzZekPBI0ro0+2tlEeSlTS25KY8Ptl1takpTbUmJc2R5T6DkEbWyQ0VUlCmlIpjjOCkR9jYivpLQTbuGrloP4gMW0NwkvJqUtItgjy2CmGldw0XewnMqL9WComIvlj/xXlJL7s9Lm32IDDChTPJWkr8UxutDPspYkDEgY0DGwK8PAxMIS1uTgqzYeYSGLkAjbDrU8whZZEF5gSuZCRZExdjT0+pHmEaPsBhbCjKtcVfosqTEk6wEc6yM3yZgkT15aWYEahZQW+UnEQspqnOjL/EBRnh56+Mv7GGCLWiq8ibAV5/QOBvqS93QuM7A1nQKJQUeBKrmkpFui0KjQ0mVmJlRSvu3tFa6E6bSJy7JnuQ4UxSeOixOd5M8i/x9DSgr8iIvxRqlZj4VZR7EBRlgvOBtUvO96B2bjemo8yIkYA6xsdakxZjjH2hC6RIX1H56aFT6aFS6xKc4SuRDNAoRtboo3hwrk2kEhVlIG9CF+sxirvlUiquUkqu29FyTH7GhxmiCzCnNdsR34VQcrGbQ1hYoERZBfCqz7PHx0CMk3JKCLBvU/gaEhRhStMRNssOJiLalJMMejZcBJSU+lGbYER+7UPZW+gV/Ncgd76+v45XrXK5zGQM/HAMTCUujgrx4IxYunE5EqBkalQ7FlSo+eHcReenWpBd7U5ZgQWCQDctafdD465Gf7Yyb7Qz8IoxJj7PHz9MQB4speLnOYHGmKyu7NNLSSletJ0onAxIXzSdQZUSs8PZR6xObZk9aoBGOtnqkCKNd/7ko3Wfg5DQbX5UB7gG6VNSq6R3bJ6WhwAFfxxnEx1jh7WdAZqYD4V6zcbCYgae7DmGBc3G1nYSnQh8Pz5kkxlsTHWlMcp4nK0VU6GZ/2iqcsPeYTk21H+nxJtiav4lGY0hAmBmB3oaEhJjh4WVCp1j6ErMlHRoKYgUJsyA1yhCN7xwWp9gSFGxIYaWSZWITvRYNNfnWeGoMWdmtwd/LkMUpdoR76NHaFiQRrp5ODZmh84lcZEdC7HwWekwlLMmO9Ggj/PxmExxjzbsdSuzNp+LuMpvwcGvaq5xJjFlAR6vsrSQ38B/ewGWdyTqTMSBj4JeCgf9BWLzIjZ+POlhsoR9ESbo1Ci99iRwkxZgRn+xEU4kzXs46pKTaExlgIBGD0EVmBAXOxcNhNoGBlmgUs/DxnSfNGiTHWtLUqKarzpNQbxNyEyxIDDOXghUmRJvj7a1LgMaY+FBTfBW6KFx1SIo0xclxNgnRFviFGpCd5Uhsgh09HQE0VXoQqpiDm/M83BVz8PY2IDbKgnC1AW6eemSmOxDsrYPC25DFglyp9XFy1SE5zYH4WBvaWgNoq3DGK3guTVUeODtMxsZiCsEhxkQn2xIdaEFCrB3+KkuKcheStthJWgYqiLUgNsKenJQFxEUtIECph5O7HhmZDsQl2EuytVa64uWpQ3y8LdFBC/D20MHPQ4/0ZDvy8z1ZsTSQ3IgFuC7UZVGICUFhBiTmupAdZ0RkpInk+p2WupBQQdTc5pCR405VrgMJcXZ0t6vltVl5lkXGgIwBGQMyBn61GJhAWJqq3Wiu8aa5TruUI4xYy/McyEhzpKXWi7Cg+VRVK6nKdyQ33522WgVZGQtpb9XQUOJCTrojTQ0qmqs9yM10prLAgZh4a2kH2fZGP+orvKX0m4RXUZWCjkYVxdkOlJR5s7RVSV7mQsn7SNiAFGQtpKTQneYGX/JSbVic4SQt0bTVepObtpCmam8WBc0lMtaOtmYNXU3e5KTZU1PlR2uNguw0e5rqlVTkO1FQ4EFZ7kISk+wl+xdh0FtbpZCWq8ryncnPcaGhxhthgNtY5U1jtQ/Ntb6kJZqRk+8pGSC31GivN9UoaGvwoyjLgbJSBUsWj8k2Fr6gttiV7Axn2up9yMlYSE2ZJ6kRplRU+Uo77BbGW+DnY0xNta/0TEOtL2IH3vZGlSRrXq4bnQ0+5KYvpLbck6gAE4rL/CSD56fBkkW4gKeRjpyG/NUmY0DGgIwBGQPPEwMTCIvwEupq1YzFt/GTBjbh0SOMZIVnTlu9Ly31Kmnre8kjR/LsUUtbzAuPIsmYtEVFS50vna0ilo5SMpYVW9CPe9l0NguvHqW0TCSu9bRpPYpEoYXBqjCgFdclTyNBAoRBqzBW/ZZhq7gnbds/9pw4b20Q2/eLLfe1ti7ac5W0zb+Qf1wGkY9If9xQVuQplW8sn/EYQ9r8xmxwxDtjsYfGyyHkFnGAxtMbrzTJGLhVa1C8dKxsrbUiTy2wpdhHrdpyimcFgRCGuEK3wtZHhAgQeQn5hd2OIFFPyj72ZTGeljZvbbrj18aP3743LqNw+RYBGf9neuOyy0e585ExIGNAxoCMgRcVAxMIS0udBxV59uTluUoDfZtwLa73k7yApAG+yZ+WKjfikq0lmw0R7FAMspI30Fjgw7YqN4JU82kUy0BNfrTUC6NULaGQvG+6NCwONCA91ZXeDn+JaEwYQMUA3qSU3HmlWDtj6YtZDWF/IlyfG4oXxJ94+AAAIABJREFUEhQ0n+6OICmYorCP8fM2paHJn86xQV0QIzFAt4jgiC3+tNb7Sd49wt1aKtMYoWqtV0oeOb2N3qi8jCmpELMZ2lkIkZ8otyBgLbW+tDcLbyQRrFBbbnEUZGO8coWNSlaoIYsTHaU0Balpq3DDR/E/ZGsRQRm1LsvjHk4FaVZk5biwrF1NU42vpNO2ej86BYH71hSocAFvqfOR3MtFWZprfBABKqVnRZnrtQEoxT2pzGPu4CIeU3eDF6GqBVRWi2CQcqMcrzf5KGNBxoCMARkDLz4GJhCWtiYvsmLmERZjzcqeQIoyrPB00SEjYyERnrr4+BkSFTYXHePXycx0JFShIxmo5qbb4uEutrQ3Y3GMBemZrnRUuePrPof4ODtiw01w9dKnqNCNuABDbOe/RlKcHdHBhnhrjKgRwRJFMEDJINYVf5fZuHno4eepy6JFFtQVOaN0mk14lB35aTa42k/BzVufnHR7XF30SUmwReG+gPoxwiJmiSpybfBy0SE93YFIlSFObnNIT3ckPcYMd299lixxJSLQEB+lCUtynPD3nIXRvJmUVqu0e7K0qGkoccbNfSaJqXbEBRpK3kRFaXZ4O83GXaGHh4cuCUlOT1yge7sDWKzWZaHZNMJjLCnKdsDNfjqmZvo0t2okMiVmrEqzbXF3ny7tHJwVZ4GfqwEx4cZkZS4kMsiIgGBz8lPs8HOaRUL8Qsl+RZAWQfjyk03w9NAnv8CVpABDAkNMiVPPRe2zgNQEC3w8ZpOR5kROkhVuXnpkZNgT4D8HT3ddCkv8KE2zISnRQZoNkxvoi99A5TqS60jGgIwBGQNaDEwkLI1ekgFoXMpC1i8PIjPRBifrqbi6GBDtP5/SQhccXKcRlGJFYawViXFOJMQZ4uKtR0KmM1lhBvi6z6euSkVGlAFxqa4srXXCK8iIsvSFuJnPJDDagaJ4U4I8ZmFvPQWFtz7ZRQp62sTSiJqGfFsCPQ1JjplPdJQZsaH6qHwXkJbpRlzILJxs51KS70h0sD6OTm/j4WVAiK8xnl4mNDSr6WxQSstaZdk2UgiA5GhLAjwXUFrohJfvDBysJuHrZ4hKNQcr20moFca4us0gPdeJYG9jCsuV9IhZHkF6sq1x8zeho0FBZLAuC2wnE6wyJj7CmigfPZLDTQlVGNHdLWZ6lPR2aUjx1yU5xoakGH08lLrk5rrg52H8RLaedg2Z8SYsSnEgL8YYhfUUkuIcKUo3w89nJqowU9a/E4Kn/XScXXUJ0syXPITGCUtOohneHvrEhZrg5WfOu++GEOY4nSVLPNHYT8PdQ5fwEENc7d7G28cATcA8fEMWkBllS0yUKy3lNv8/e+/Z3MiypGn+lrW1sZm+R5QiWdSaILTWWoMESVABJAFQgVprrUsddXtn5h8+ax4J1KnTYntsbdvWrk19oAFMZEZGeHh4eES8rzvl+WEkY/b3QfDdEH7Xge868F0HvuvAP4oO/CuHZafcj10YOvMmYv5WTMNvyKYGiOp/IBTqZKVqJhpuZ2HOSNzbTC7bx+xkH3rrW/KjOpZLOubLTm527fhcTSwUTeQynXj8baxULIzGO3Ha31CZNZGNtJLKDrG3amFqalgd8dzu2ZnNDFKr6lismChN91ErWwjZmxjN66hODRJ0vyWd7aU6M4Tb287igrzDyNKCnnLFpSLunm07SHibyacGCJve4XO3sli1MZPrIhzpYrtmJxVuJZ0ZZKmsJxZswuOQ9lkozlgUS+psy0Zu2sLVvhWb6SesoRZmxodZmrOxONrHWsnAwpiOxdIQtU0ff3zJsprvpla2sVwdUOkMQp63BAL9rFaNqm5/fBlhc2GQAdMb1Z7KWC+1qpv91WFKs8NkJB/SuJ7KzBAhZwvVRaf6vr4ZUIHl9ldMhGyvmRk3MBZtZ2R8iMlwO8cHEdaKA3jVTpKLhbFe/MFOVuaN5IsGthdsrFQ8bFeMLC65+fz051HWP4qyfq/nd8P6XQe+68B3HfjfVwf+4rDcnnlUSPyTXS8H+wHuL0OcHgR4Og8wE+9i/zCswKA3RwFuLmPcHPm5v0lwUDMzOmnQwvDfhJnOD3Fzk+T6yMv5cYTnqzDHh0G+vKS5OQ1wdhxUkWnvz4OcHAQ43LCxvia4mSSCixHsheBD5FPwIx8fEpzv+7i7TvDpPsbJvk8L238X52jHw1Ud87FRMnB4GFI4k4fLEIe7Xp5vI8wk+9jY9Cn8y8fbmAoS93CbUGyigx2vArleHnq5vYqzv2hme9P3FasieBfB2Fwe+Dk/CX+tV6OOLzcRlhdMXJxrwGABz8pvAgL+/JDgbM+rcDSbc1rdfnlOc7huJT9l4P5aw+toZWmg24dzqbdfpTY43fVydRKiVjRwWT82uzsLcLTr5cNTStX/aNenMDkKzPsQ50TkcSbRdzXZ3FxENcyNtPfMTyE3xNV1UgMtf4ON+W4E/vc1At/7/nvff9eB7zrwj6ADf3VYTj3qWEZC5WsMFy2MvDgZT/cam0ZYLYLD+EXC4z9o+XoE4NoIb/9R8vAciyMjmIu0cjbkPmEVCdtHyhYn5F7AvI8SQl9jBSng7Y3GHhJGUuNPXa+HvBcwrgLC3sW5kRxBKsx9mqeriKIiSz2kfjJ5a4wbYQ3V6/uc4v4yjNCIBQsiTpCwceS73KM9G1e5lH551lhFz4rllFCsIrlPwLjyjNRN2EKNP+15KUP7XZV1G+P8JKDkKY5YI1+SPHt7GuT2UtqfrLOlGqwpjY0kdRPlkXtV2fVcSHLsJO+U6/L7t3VpKJt6RjGSvq3nnywleUYxrL47K9+PxL7rwHcd+K4D33XgH0gH/uKwPF4HOKoZ8HmayUzpub9NICv6+ZkBTk6jyOr/+irBbs1AftqgJnvJ7iy7LB9uotycRdhZNJGb0KvdlMsDH7fXce7PglydRpDdhZcLP8FQG1vHUR7PgsqBkEm5MeGKk3B9EuD6LKQ+H28TfLiNcXbg/0q5XioMEEmZ+eUlwfVFlMOykbGMAWHpNMoRZ+Dy0Kdlm74McXOZYHt5gHTRyK/iVB2FlMNwfxbi8jikHAfJdbQ+3c980cLDbUw5BmrH5DKisk0/PwhGJsrZUVA5OI13qc+rCGcHkjBRYxEdb9uYKA3z8SnDxYGXm+s4T1dhrs5jXO87GM/08/RQd4z+gRTmL23+Xu+v+vZdLt9XqN914LsOfNeB/1wd+IvD8nQbpFbsZnpax2imG1+kiViik4nxXlaKerz2ZlKpXnKJJgZsTdQqRvyuN0zmBxn1NjOWG2ZqvI+T8wQHFQMhTxvLVTMT0TZikQ42hLESbEJva2Jh3kLC/pZEpJf7O9mBiKusycdrZpyudwTcbwn6mlTOotrsIEHnO6pVK6XJPuymt4SiOkqZLgKeVqaTfRRyJr58zCgKsCRH3FsyKBbP0pKVwkg7/lgP2dEO8iUdlWwvQX8n81ODhIxvWFrxKsrzr5/SjLv/hsPRytTkEFtrDmbyvcR97bh97xWuZ3akB5u7ieVNn6IgS8C3zw8RRt1N+H1tFEsG4pFmUrkucsUhNqpG/EGJwGtlJNqOM9DK+WWcpeKAAht/qe+mfFf0/1xF/y7f7/L9rgPfdeC7Dvxj68BfHJbnuxAbxS4GdT+xVLaTzTWzvOtnYaKDiVQfU3kL25V+UulWiltOytE27M5WxvJdJGxNXF3GWSz1cH+fJBvqZO0oyUXVwMSoldWVIUzOn1hbsTNfGlTgUL2lhVyykzOJTnsV5fNzhq3KELlZI4XkILPTFsLeLlLhAY52nfhDb4jme9ledhFwtaMzvCab6iAXaGMiZ+bTsxZj5bePKSYCHdS2YzztmRkZG2CnYkdn+Jn0eCeptImjHQs+698Yjw/w6VOWu6soQkteyrSzvurn7tCBQf8Ti2Ur45FBTvZcBCPCMvqBeKyT0qKLDw+CVUnw8TZE3tfGyZ6HSPg93lQfF8ceIqOtZHw97B6nuN/SMzzwN+LRLnb3wywtGylvBfjlu8PyfZfi+07Vdx34rgPfdeC7DvyHOvAXh0WOhHYXh6kuO/ifv44yX+plY99PbWGQ6oyRpTkHu6t6alUjsXAXq0tmEuH3zJXMzGd7ub1JsTQ9xMKql9NVM35nM9WKhXy0lVi0i/1tJ5nIezyhTtbXHYwGWpmetlCeHaJYcfL7xyyH6xZKizYqU2aWK3amCxaWxMGxvWFtzcXCZD9u61vGCxYWC32kkv1Upo2szNmYGe9jey/Ery9pDmsmvI5mKos2pjPteGPdzJYGWVixUM314PN2Ui3qWZ01Mj/Zp/L2/PYxw+GKnmCkm/sTLx5fMzfXMQL9P+Jyvmdz3UN1aoBYrJu9dTtj2R6ub9IqEWSk/7+qe9arVgpFIxfHXibmhtheNuNxtrC4ZGcm100q3c/FcYDSaK8WwK0eAfe75/+P7fl/77/v/fddB77rwHcd+M/Vgb84LMISEsCoADcF3KlApHWgp1z/9UNGgWTl+qOK/Jrg4VLLwSMAWAHE3p/6mC0ZeHlMI/l3BIPycqNFvBUMy7Ni0cS1SLpXEQXA3a3ZuTiLKMCsAHFVELk6qFXeJf9Lbh8B+0r0XPkuMVs+Ct7lNKxwIx9vwqytWrm70QCp0gZ5v8LXyDPXsXrdNYbMvYBeBUh7F2Vzxc7tVUIdJ0k7hRl0te9lZ83D58cY1YKBs9M6WPc+zu1FhJtjH5trHiQlwYfbCMuTQ5ycRLV31PP1iAwlMu79uSaHD3cx7q5inGzaqDTyGv0ne9VSBwV4/n94jwIyy06PgJX/jftETv8IQF0Vzbcewfjfase31xp907gmYGSJDiz69/9VW6U+oofanwbS/prL6RtAt+jIt9GMG3VqfMoY+DoW6/0j9W/8rn1quvZtaoa//v5v9+2/vOc/qosCbQu4/BtH+1/WRYHy/39M1imRn6VODZk12vjpX2DG/n2Za7JsPPef+flVR+4TKpbTt+9qtEHa8e3179//13T5f1VOImc17v/fyPkuwS8vGWU7FNnj37Cf/1E9VD//q/H81zYqnf53yv739fivZfxH9fhH+P0vDsvduYfb0xDX5xGVeE/C2qucNmJQryOslA3s7AXURK/lutGMgjKowrpRRjipcuxoDJ4G20a7715Au+faxC/GQ4yjKIowjKTTJDbIxaHQgDUnRRmcOkNIJl2NbaO9R7s/raLMyn0yqf72klaG/6Pk6lH10VhADSaSMH0UA+o5rd6l2Ev1/EXqt3psEjG40j55nyr3U+ZPZ0oYT5J/qF6G0K9f7pL8/jnHL8+aoZR3SNtEAZRTpJw5bcIStpCU/7vgbe603xsOhdwrzpk8p1hJ8pxy3IQyrclKriumVr2NCkMjbfimvY0yhCn1dB1mZ93FszCy1H2aHBt1kzxKt8cBzg5Cqq7yPqmHvONFWFhPCfbWnIry/e0kJc/L5NWonzg90n/yf8Ph/Lb/5FmZuEU2XweYYjxpZah7pYxHLSt1o2+UTjVYZiLPb5hl6jepQ30gi8yPNl2cn0X/7D9xQESmdT2Se8XZfb6OcHwYUA6n9OXdaYiTgyAHm05uruJfnRatfZr+SpsbchNZKqaZMNfU5KjpRaMv1X0PSU723RzueDnbC/JwHeXqLFx3vOMqMaakWTjY8ymdb7Sj8R75lBQOAkK/OAmpNBSqzXdxbs8if05wYuyuI+zv+niUfqvXU8aBpvua3JQzooyz1k9f+1n1nbDgYhzsehVQXt7zbT1UXdR7g1wcBZGUFg35S8JUsRVyj+qDdYvaUXyqswdFNxt6qvSq7kyIPqj3NBYn9X4WXVe6Ws/VJeV+fU7urf+u9Exyh9XLU/W9jnK8JfKMqZAAcq/Yms8PcfZ3XTzcamXLs8pu1J0beZ/URRYgIof9PY9abKky/8VE0Xi/kmfd9jR0viETpTf1MSJylvKlDd/aJrkuucOOt12cHEe+jn31TpH/dZTLowBXZxHVRtF9xSwUR/jr+P/TVnyV21/kLfLR2iztbdwj9VT1EiZi3aYpOX/D/Gz0QeN3aZNc+/xNOpKGfOQ3+a7GuLKzmo4puX4jP7EZogvyfvmufv/GDjTkqF3/q81o6PO379TshpaTrWGDGu2QMhp1ashNrkm/yXX5LvW9Pw+wt2HXEuI22vFYl1k9TUzDfsgzDRmKLX+5CrO8oGdvP6jJRv3esIuajqm21sdlQ3f+bEMcbV6M8OlJ01WRgfS1fKpx85jgYtfLk0RyF11XddRkJzaoMS+Kw6TkIfPwN2OiMT4auim/yTVpe6Nvv5WZVobWn3Jf469Rttwr1xpt0Bi5f240aDL6c5zK+8Qxl/uVztXHdaM/pazGM413y6dWfl3n1PhM8BeH5fHSy2ZJh33gnwgGuzjc9bG77uTpLk4534HL3cbBUYSn8yAbK3YuT8NqN0J2UG5UJmaJQaLlHzrbdbGz6VUCkU56Offj874j5O1mrebj9MDN2UmI4y0XR8dh5Xicrlnwul6xexDm8SbK3Zkk/ouzv+lic8WIJ9LK6Vk9IeFNlJ2anfWai/srMVIulZVZdnGOd1wcH4VVHBS552A/yKe7GNvLdnY2nWyu2tnd9HKx71WZmp/vExxtOtne8KqOONpyqOMfYSztrTvY2/YrpZB6SJsPNhxsrNq5OI2oTn+4CKnsyjtbPlXvg00Hh3tB5cDs1xxcnEZ5kh2pO0lmGOZ0183GmlvJTn7f3ZPyE+zXZNBEVe4lCWx3eBBQO1AvkgTxLMDOurzXhsRWOd31qDZ+uNV2iCRz9ON1mM2aQ8WLkQ4X1lNtZoDJopXnyzBbNSfHez72trTYMwdy70WM3RkdhbyVe9nxuo5ysOZQcXbuTwIcbXuYHxtkruzhy7M20EWRJGfRw4UkyIypmDj3p3621jzqf5GRsKsuz7QYPFsbbuUwnO272dl0q5xMMqkKHf3yJKxi/wiL7OEsyMa6W8WYuT3ysbnq4OEuqXaz9nY0GR1s2Nna9KhdtuebBHeXIbV79uE+xd2Ri0yil8urGMdbTg63vRxuubi+iKsM2Fsrdp7uZEcsykyuA/+oni93MaXn2wsm4hkzm+VBqguOr+kQJK/Ty12MW8moLYP3Jsr+mkPp/9FhUF17vI5wcxpUOrC1KYZFo7c/nfpJZ/rZWXWxOKIn43lHMNjB2pqT2ZFOYrEuluZMjJZMXF/Xjfg3hkYcqfWyHoevnbjvLfNFPXPLLvZWjEyNGXiWCV8MgbzvIkB+wUw518vWRkCbCDec7O8F1D0SHfr0NMz6VA+Z5CAfHhLs1RxcXcR5PA+yterk8TLM+KyeY8k19dUR0wyHJDO93rQTMjeRjrUSnRpma9qqxkcu38vtdZJfXzKcrplwWV5TKjsVkF5kfrAXVDujmzU7txJj6TbO/UWI4z2/yjX2chtV164OPezs+rg+kWzvdna3PFrbbmMqv9az7FBeRNRYEPtzcRbm8SLG011UZVsXO/N8FWIxZ2Im30HA28xo0cTNRYjDdRvjxQEuzqLsrTu5Oo9SyLcyUrQqB0XsnCyUrk587NfMTMzquLvVnGsxqA0DKt9vTwOsL9vY3w8ome3Wx5xKYHob5+5Udp0jqu6yyytylvpeXkS53HVzchRSC0B57uI8xsm6RcVlEgPecDZ/fUownusmHO0i4H7Dzm6A8303e9texcAU+3qsYk7F2V2zc3QQ5ObEr+p1dBDi432MLZH3TYKni7q9Po9yeeBhe9OjHIa9VRubW17O5dq6R5EebqX9u36uT3yqzvs7fmQsrq04lJ2VtkiMLs3x0CYhiZ0lu96yeDs/8Kq+29n0qB3uzTUnj41Fhdx3HlNOuDi4Uq+tVZfq+8uTkIrBdXESVmNse92lHEZZwErqFMnjJjZ6f8+nzSl3CVW+OHOit2ITH+o26ONTGtGljVUnL/cpZeeVDt7H2F61s7cb0OzthoOb6yS3Bw6y0XYWax7l3EpfX+552Ko5lL7K/2LjZd6Q9lwc+NmsSZ0SzOXa8HjaOToV1mtAyUzqJLv0L9eNeVFiikVRsb9OA+xueJTTLfr6dOrF7X5L2NfDxrpfLXDOTsIcbjo5UczaJHtVPUHTW07OtXKkrR/uY+xtuFhf0uOJtqk4YOLgXJ+GlNzuLoJcnYVUPws+9PZc9DHO3UVIJdSVPIGn+z7O92QO1MKZXB162VhxqA0Lqa84NI9XYZ4k7921VsaTsHZVOXJdc1yeriNKNlLvJ5kL1diMcn8aUDKUOGnKSZIYaBsOpX/ikJ3JXCw+wl2cnTUX12dhtRATR/38OKQ5XzdRdldtrK86ub+K/dVhkSOh3z6nKQZa2D+M8XziJeR8TTDcQWGki4m85AlyKcaQ3/2WokShXXdSyHYR8XZTm3ZzvGdjac3FdlmHYegnljYC/PKS5uHIRSDVy/zkID5bE65wG/NFHdFoO6l0H0uzemK+FkKBJrL5AcqrDpZyJooTA8QTvcxP9dCh/xu7BxG+vGS53DaSiDaTiPcynevH52wlluxkflan8C7uWDeHey7crtf4U4MszOlIx3spl4ZUBN7xgpmDFTNWw4+UZvUkQs1YHC1s7TiZSLzCF+2jNmsl6mgmEu5maW4Yu+U1oUw3U5lefKZWTs4i6phsszJEJNlF1jvE3HQPLu9bsol+5iaHSfnayOR6KI/Y2JgewhjoYGvNTjTcrGQRMbzD5+tmedZA2v+eVK6fox07AceP+HL9LFUdrE7p8PjfMzPaR9DawVJlGLvtLd7AAJsrOkK+t+TGDayM6/E53jEyoufTS4YvdxEmxga5e0wxE2zG42rB62om4mthc91NebQTi7OZxWk9UWsry0Uzc/l+HMM/M5brI+t8y2jerPA8M+P9PD9l+SiToxz9HfmYjRlYWzawUDUznegmFu5kamSQuLONTOo9I2M9TCQ7MdvfMT45iD/YpKInVxc9/PIxy8OhHb/3LZlEF/50P4XRXgLBNqVj1bF+HLp3LM6YiEsaB08LG5t2xuKvCMb7qU5Y2S9ZMDnfsnUS4/ePabbnDayuBrjYMWB3vMHvaiLgbyEzNczK5BBxXwuFqSGmRgTD1EJsdIhCpB235R0pfxeZMTu/3ofIFoZ4fEjz6T5Cdd7K0kQ/7mAHL6r9Mcojbfh87yjOWdisOIj5Wxgb7yCT7CAU6ubkLKaCFB6s6ilV7Pz6kuXp1MOIu5WF4iBW8ysKeRO//TLCy42WGFScQG0yDGrBGm/jioW2UNQxvx3hdttIeXoAl6cJT6ybl6eMWoE1JlJ5/vOHFMVgM6srfn5/TrA40YvZ/JbJiX48gSZGkr2knK8IeDvUGE5428iPDZDzNBPxt5EZ1yHUfa0uEo4gxMm+XwVB/PSc4qRqpjRq4+NdgFRpmFlvG3pjC2dXSZ4vQlydhlmc6iGX62dm0szmuk31WyE3SGVukHCklWy2n+LsELncIEtVC7OTZjYWhyhLuoqRTkLRTiYmdUSMzUzPWvjwkObDdYjKnJVyrptoTvJsSf81Uxg3sD3lZDrXjmtkWO2wSt1l12Iq+575GR2JaDsu/yvGxwfIzfQymezB6WyhkO3B5/uZYG6ImVwndvMrioUh/IGflYMvq1ltZSxhFoIqrIEYa3Eil6bbSCW7yIzqmIm1E3K9V2O8smimWh4m4G6nOtercoNNjw9THOkgEHhHdc6E3/SaWKSLqWg7YWcLsUwPT/cJZgpDnNbzmEkbfn2IkRkd5Pgmw85CLzPjvbj970hFuliY1uMTu+zvYH/NSdjwily2i9mpAVLJHsbCepYrQ4TD78mOm9kQeXmamC7aOaiZsOp/ZmpET9beTnnNyeaiAfPwz0qf06Em3PYmynPDBD0tjOV1jKa7mJwwsFzREfE2Y4728viY1nZ1lS3wUimaOD9yMzs3TMzSwsSojskxSZnSSmHKxKfnDM+XIYqRYdaXjcxXzRQzvUQD7RRGB0k4Wsll2khnO5nO9WKyvmFscpBgqJlooJX5OTurxX4Mg6/ZPYjy64csp7UhvP73xMPtJCeNFFM9RPztLK+5mIt347K9YqlswOt8i8PVw8aqkUTwNcmsnur0ADbzz+RSvazXhlmvDOMz9/D8nObLU4yCsxXH8Gvmii5+/Zjm6TpExvWesK8XWdD6rD+TSvcwWZ8XV9fcLE3p8LvfUJrpp7bhYDzdQczXw/qMh+N9G4tLVrKeFhzG16yu+vjlQ4bbfSeBTB/z44LTfKecj7lZHZFoO9lsH/MTOiKeFhLOFtLjXaysOyjMmpifHCCe7KNY6KLT8AOHx1EV4X2tNMxc0czUhJBWuqitWNQ8NFe0sD6rx+9rYX5BTy7bz0LFxt6iEZPuB1bWPExO9+MRGzU9wNxsH7fXWQ5WByiXDZRnDEyN6SiXHTxc+qkUe7i7lZOKDIfrJoyW1yQnzewsmvG53lIqDrIw04/L+ZbsgpM/PmR4PPUSsr3B4WhTjN9svIPyvIXx0U5MxndkszpKuW6ysV62t4LqqO1yR+xrB+l4iwqv8pcdFnFYvrwkmHS/Y3c3wtbyIB7nK/ptPzE7ZVBg0fLUEBMlE8vLBlYWeogG3xOJ9TGT7WMhZ2dv28JC2cJEphd97w+MTLv4/VOG51M3g0P/RHbSyOLcICNzTnaX+ilUzCzm+ghb21mpOijm24kmepksmZiJ9hFzd1LbDHN/YMGf6+bjc5aPjxlO1odZ27BwuOVmLNLN/KSdpeoQLs8rHJZ3ZMd0VGaGVT6k/JSOQKKX/eMYv78kWZ4zcX4SoTTZjd34A4l4B6lEG0F3J7MTw6ws6Fmu2lkrW/DafyYR7WU09g6H6z25goHLbR9LeQdfPqfVEcZ6Rcf2SZDdURsT+Q4mly2sjfVjN7VSWXIxO9FK2NCmJuvghJHL8wiFkTYm0l3Eze2kMu3E3O2sLjoZGeugMKFjbd7A6Lye0WQnEXcr4zMGLnYCrE2mEIIGAAAgAElEQVT62FzqYdD0hnxGx9zEAGuLZhYXbCzNDGIz/Ux+VM8nwRvdhpko6Lh/SjHta2Zj0czEWC+LpX7yYz2Mplvot/yowMNd7/5Plne9ZEPvcXrbmCn0knG2cHGd5suVj7npPq4vY1yehdW2+dOJj+hQM6HAO8bGxakcZmfdQND5nlLcxNxCP+XZdlzGH4knehgb7SM7Y2J7YVAZv18/jXCzb2Uq3051xkRkvJdorputqoV8uIfSsoGlCTPFRCc244+kUv2Ui3pW5vWsrjgoRvsJWpoJjgywcRRRDstmycjGWoiD2iCZ4jDTU4OUymaSuW4ywT621+0EI29IZntZW7EQFWfK+IZMuoukv41oxsofTxHS03oe7iQ4Ypxc+D0xmdinhnmQ3ZnHNI8ndlZWDByv23GZmhjPDzI23sbZiZeVopGDgzBfXjLsr+goLzvUzsOHKx/ujv9CalTHTtlIOt7Hw12Cm9Pw1+1V2drdrRrJjw6pGEhyxDk/M8RMLch5TcfcZD+BWCf+gOSo8vN8FeXqOPx1tSuGddbfxNKSj5cLH9lUC8PGv+GJd1BcdlKb7iXpesf6okM5+ZVFJ4VcMzFXK4cbTiLxHu7uGseqSY5rFkay/Vxfxfn8klYOy3TazMOlh/jMEKVANx57C6UlO0erFiYLw1SmBtnbD7A6p2d6coD5JRvbc8Ok461srbtIejrw+l8T8PRwexYg7HxP1PeaXKqFyUkdS9MGJop2tkYtXJ7L8WKSz3cRYp4mUsF2phfMVCeHqC3bFdg+ZWghkuwkOWdXwSxlsv/tY5qJyM/YHM2cbLkIplu4vAiTGGshG+xhpexkdbqTaK6D2q6HuPE14WinCpngTbdyc59Tu5xSlhx/rJcNjI3peLyTI9IUy8VOzk6DLM+bmQi1sr3sYHykh3jsPV5/F7MFPdOjTQQDLXhD/dyduVirGdmcN9A3/JbCRB9jwfdsLznIZbo4voixOGtgb8fH2XFArSx/e4ipxcveeYL12S7GR7vJz9vYnh8kbH6D2djE6Hg/c1MGKiUj1alOZueMnJ5GqKWNjKRb1S5AMtjL9PgAa0s2lQ5lXsIy6H7Cb+1mo+jlf/yWYizVi1n3Cr+7C+fwa5LxDvYPg6xVbGwtW4mN6Pj1U46jVSMO02tMyX5lC2Q3RI4UPtyEmc104HW+ZmHLy2HBxvmWn2S2lY0VG2l/Ly8fsny8CZEcbiYcaCIvC9HoEDvrFkLuJmajRhbKg5SLHXitPxOJdjMx1k9iYpi9FRMj4Tam0l3oOn6kvOzn908jnKwPMZXvYXZKT2pyiER8mK0VA5lUB3NFOyvzAxRGWtGbXpFNDjE3MUht0UStaiNhb8btaWNqaojx+Cv8oU6mQnoeBKLwGGPM2kbI08TktFEd4X7+mOFk3sZOVXbXhnBZf8blkF1PcdT8lKeHGC+ZWV0xsDzfQ9jfQizex3Smj/KIg70di0q9ote9Ih1vZ7nmVgtvWcj3Df4TY7NmysUBxhZcbFb6mF60Uk13Y7d0sLxiZzbcRiTbTklsR76flK+LjZ0o1zsmAvleVZYsJD9ehXAb/4mxspONUjt+fwuhSA/jmW7CrvdMTQ8zmmvHPPyOs/0gM4UOTMb/RnxiiIWqgdqSQy06Qt4f8Qe7KU62q/AiPn8nE9k+XM5mop73TE12cS828iXF6vQQ1ZKR/IzYfSOVRQMby0OU8v3oLW/ILDj442OG+2MPQWcLyUgrUdkEKbv4nx8T+Bz/VaWRmZ+xUy50oXM08/yQUcdixxt2Fhd9XOzomBrv/tc7LJ+eEtQmB7k4jbO9qCPof8/4nIGtqhl/uJPamoNy2ai86b11k5oQT/YD7C1bKES6ifjfEYu3M5HtJeTrpLYeVBiVx1MfxbKF376McrplZ2HFzYfLIPHge0amjVwfeUiH3pPO9asjoGSoibGsgYNNu8q6XF1xUEh1sbTmVavXqwMHe7tOFaytMtqHrvNHxif0CoMzke1hVlb07rfEQh2YXc2sLJiJe1pZXnOzv+FWYN3ZsW7CPi1WzGS+m0xigMKoju0NH0fbbhbnTKxveTndcnO840Y8wvmyjduDAFtlObrQAJVHW3YOjwOcLvmZL7TTqfuBwpyF60MPSVcLM3M2lsYH2ax5WdtxqdxA6XQ3q1UL48EuMhMD7G05SPqaKU0OEPH9oOLWONyvVCj97S0PeztOzvcCbFe8ytvPp7uZmNIxU9BzehBke8VOed6s8BCy6pLjAjnCqYz3UV5xsV3Ss7/hZGXRzM6alZWqnmykjViul5WKle1lJ5VlA2tLVvKhDioVOytTOm5vkmzNGVgou1me7qW85FLHd/enQXYrfu6vAuzteakV+gn6u1hfcnGwKkcAAXY3rayXzaRTfWxWjcphjcYHObvQohzfHrvZ3nKo7eulDTeL00MEY11MjfbgtDcTtL8hN2pguahjND/IwtQw2+s+Dnc8atdpsWhjc8/D4UlERVW+2rExkhvicNdOtWajtmxlfd1JZcnO7qqJgOMdcmSzVhnG726htOxgr2wgm+6jPCu4Cy/7S3oVOFB2FD4/ximNDKjM3tsbDoV/EKNwd+JmZ9vOSc3O7IyF82Mvy9Vhzo597Kw61bGDgOTupP+T/dzcJnm5DLA0qefjhxF+fY5TKfSpnFzVqkMNTJkc5QxajgUk0rL8Lw6MHA2u74W52bMjWdGra15uDz1MTuiYG+9jYdGldhTU5PqSYm2il1CgndmZIXKJTuKZXsbHu+kd+onClJXzfRfJVLfaZo273lNedJCz/ITD+o4N2RJv4EbkPPwhqQV7VLifJFfbLtbLLh6vAsyviiPi4PY8iIy3k7M4f/+c4/bQq1bEM2Ur1dlhjg78HKy72KtZ8HqblANzsO9ld9nKzNQwu9shHs89HOw4mMt344t3cX4VZX/OwZUc/wrm5i7KVGaAw0M/a4sGitMWzg8DyHFTMTPA/mGApQ0Pn+RISMktwVpZp1h4f3+KMTs3pLbHy0vDLM2a2V33sFszsVE1kc3IuDSTinep7fBieVgdE8juiuqTOl5EcHbyvzhQ+2tGzk4CCu8z6XmDSf+a1SUH1TkdtTUPJ+tONmtG7q4j7Ky5uTrysLVhU0eg04kuZoXRGGrGqHtFtWLnat/F5IyRgy2rspFynv/lPkalYuXsMsHxhoXF2X66+38gN2rk6jzE9GiXin8V6H9LLNaGY/Ad5UXtmH5vwa3Snfi9zUzPG1mYNnN2GGSn5qIou1iBThYmLeyv+PnyHKeQ7iLobWd5xasm+Wx6gIvzKLs1J9fnYRZHeojJ7vS0QeGDNg78zE/2M7Vg13B7gje4ibG9Ymbn0M9x1cXlSZTtqgGX9z1r2z61sHu6DLOz4OHhKsiuHEUUdWo3qrboZG9J7omwu2Fme9lGItGjGJbD+r/hj/RzsONhLPFe7WAe7EfUHHCxa+Pg0Mf9ZZCVbc0GxWK9jPk78Tha8ZlfMT1mYW5qgHxhiJnCMEe7crTu5mjHSSbWwfKii+J0D5ubPvbnXTyIg/wYp5LpIxWTYyKnOib6+JTkrObieCvIanmIkO895QXZYTXij3SxtmanXDFxceRmd02bF0/3A+wsWRgPdxH2vSE10sPGnIFsqpeDw4ga9/fHMi/a+OOXPEcbNio1D8/nASKya1syc7HlIOxvZnRkiP1NO/FAC/lZC0dbNgLu9yyvOhhPdrGy6Vcy/vUxRibQxvZhjLNtEzeXYY7lWD8/SG3VxdGOg7V1J8fbbuYLg4zlugmG25mc0bGyaOVy389uzcK47HaNDrK5ZuL6Isj5no/VeSPJWCfTI4Os18w8PWR4PvPgtL0iHmzFZHvD5JxJMWS3V/SszNo4OPCzsu3jy2NKHQGOxTvJpHo42HQzqXLh6dWRpjBvK2UjtTkrtTkzK6syz6e5OvCyveHn8tDB6vzgv3ZYhCmizlIbALQ6MFYBe4TxoFg79ZDxAqqrA0XlvEshma/DHO06VFRa7Zk/Q+UrQOKNYFCSX8Pcyz1fnjPq2Ei+K2CZvLPx3vp3OTMVfMpvH7StcDm3l+1wAfHcKEaPdrYr9ZAyBAy1v+dV30/33AojIBOBGAMFlquju6VMVc96yH35Luf7UrYqvx4eX5VbB7ZKXVT4/DrQUNojhlUyMZ/tO9nak6ByaSUP1SYBtT1rgDmRn5xTKxkIIPRBW0VKnQVt/uUhpvA9stV2vmvn8UEmME3e6ixd6qBAWRqoTWTeqKsYU6mn/C/GVcB292d+lio2Pjxn1HXt92/lrMlDyhGDL58amFSTrQAQa/NmdeYvcWYk31IDN/HxsQ7eqtdH6z9NfgIW09qo1enhPMjauotPIhdhRIjsBPjVmGRUv8kEmeLiwKdwP8/XYQ52A0pxtbZrdZP2iY4KyFfKarB6BNwpDpLgnL6odmi/K12ql6/aWdepr/VVYMgkv4izXjaquECC4ZA6NvRF3iMyVX9K90TOmv5L3wtY82v/1Cc7ySW1uWrh4DCk+kV0VSujDjL7BhvxtezGO8SBqU+QGp5Ek6P0n+iJ6MTxmovbKwF9N7AE2thVOiYTfT11heAWNnf8ajUkzyuZ1ceJlLO/ZOH6Uo5SGvWrl/dNXaR+X/X+Vitb070/gdIa6E8bu9/qohpHddC86Lm8X+mZfNaB21IvrT+032VcNNolcpA0H79+kGOIP3Xglw/aCk/KkOvSV6KbyvET9l4dMKmA3gIyFWZhY7zUdUA922AmCu6rjiNRbVHy08r5tn+k36WvP7+kOF61cXokOdZkfGtjSelnHTDfGEvqmcY4eUpxsmbj5CCkdp/3Vq1s7gSUffvjU04BpeX90iZpz8fHNDcnPtY3NSMuspJ6Pl1GOKr5+PQhxWnNy92lZiPVuGjIs26XpU4iUwH8//pRVq+Ncao5xvK/yE/K1T7/tDnqXtFVJXuNVHG841E4t0YfiTykXjIWGn2n9aemDw0GYsNmaGO40eeNuvzVZkgOulrNyUsdbKzGrkpzIvYjpo6mpRyxI799kOOJFF9eklxs+nm6TfJwHOJkM8iXD2nVX6p+dbsu3xt9I7olspZ6N/q5odtyXV27ifNSnxe0Z+t1r8tE6bTMA6r8ul1Q84RmUwVbdbjjVJHPRUYiL1Wu6JEsEv4yL35Tdt2ONXRL6iNylTqIvRO9+gr0F3DrZYSzXUkJo9knZZNE72Teq+u+2KrfP+WUzFR59bEgZal+qT+rjeG6Xau3Res3DawsZd+fBTjY9/PlMcHRrpv727p9kbLqMhbZiD4rey91lvfV6yNlNGyCfFd9XAfANzAySrYPQozw/wuHReUS0ujLkitIOQkvaWX85WVy5iYPy3ehOGvOijZ4vwrjUROG+l0EqyZiTWFkm1y2kNSEVzeGUkkJob+36dZYEPXJXJ6XyUuebxiq21Mf0xM69gXQ+iGj6tAQoCRWFAE3lEGu//KS1coQwd1LmoGgAiqJUL88xtWOw+F+8KvyiCDlvUpA6r3aJC+OiMR2adRbypbO1RQnpX7TFEgck7TGVrqLq++/1hlQDeqbMFTkHaIoUueGsokcro58itFzdhxWCRTl+OH+JMjFicYSaAwmebfURwxyozwZfFIvKUdNoPWVusjvn7/kviq3+l0pn1YPaevX5+rya/wvzoX0sRgCeZcYO3EYG98b7ZABIIBLAUhLfQSzJLJSxvFFiz4sff/3jxk1SLUJVxsI0o/iXIiuaW1KKLmIfBrGU8r7+k7pZzVp/+n4yLOqzvcJdY77Z84nTR5SVqOdanDU+1mTn9bnco/ITdoq30VO8teQqwweeYfqc/X554SoDXQZhNogbeiKyOKfv4wo8PdHxSzTxpR6V93gSLmNfv32U3ZyGuNNdErpiRjmlxS7AiS+ivP7lxElO2UM6uUoQ1WfPEROUmeRn/SPJkeNhvmnzDPqPVqbpf+0CUfq0tClxuQtsmhM+NK3jZ2gb8eHLD6krvKs6Id8V33z77RT3iMykH5RDrti6NV3mOo5y8T5/f1Dmr01jwKpCn5BnMvdZQ0crup5JSxGCw8Pmo42jLlMqPJ+kYtqv4wRtUjQdKZhpJUOSduFiaFklkKArUtlCzcXstNTl0ej7+9FTzP89in7tb1Sf03PtPbLd5moG/op+qwcYTm2+jzCH581+/L75xHVPpmgF2cHWVp1a7ZD7ERdljKOZVJWsqyPcdEvyRD/QZwaYTjeRNhTLLkIv9SZjt+OFbn/002Yg1WXAtgqO1GXjfSVkCdkVXu0Zmd/J6iAqd/qpBrPzxpLRr6Lk/anLZKxIzrx59hv7EqJfoiuiL1TOqHG17+t9+p99blG5CWxseRoVBurmq3VbEt9J1I5Kyl2a26VhkXq83wdYnXVzqcPWf74rPWP2KhG/6ixJWWqtv9pMwVYLjqiyq/XuaHHovuqzcKErPe9YKUac6EsThrjUI5PlQ2oL3rUBK12K+u2s25XpR6NMdKYCxrXZDwqB0xsitiCl/pYqi+aVd3rz8u92lhP8vk+xsainbubP9mCWh8K/kqbs4Xxu1waZHHFrfRX9FTqrr27nn+vzq4U/WvogDwv9ZX7G+Nf2XvRA2mfckK0PpK+k3vVwl3GXN3haZT17afqj/rGgbRTxq7qr4YTWtcpue8vGJb7S5/a0p2f1bO84uTuLMTKvJG1DS+fbiNUZ4Y5P40qxoXcs7Hh4uQooFgeh9seHs7jnB14qZRMyO+1DQ8Xey6qcxbFHlmvGlmqyNa6JkxRho/XQRKBNyQinYzN2JT3f3XgUc8vLdrUGXRl3qLekYk04wt0cX0hyHob87NGRfe8EwTzkYAV/dxehLg9D3N/Hed0x05txaU64rfnJPlMmwJ1To+YKE0NEI12MTUtOZO0Dpfs0lLvs7MoZzsu9f3yNMLOqpXFsu1rTJcbicNyJkceHk52HCxWbFwe+djfERlEONh0KSri1pKZcsWOsCBWZg0cHUW5OXIzN6PneD/A+oKRXWUYUny5CRMMtzA62kfM0cncgom5VRvFkX52dyQDteaRi/LeHnsplQwqovDlvpv5GQOnRyHuz4S1E+XuOsb5pp3FsoPbMwEsCq4igCDHReaCGBdjXJk3K0T4zXlExYq5PBbWRlRFHRaU+/6ymdqyU9s9kPg0Z0Hmikaub2Ic1qzMz+g52g9wuudioWTg6irB3amXpYqV5/sUx+tW5otGRcfbr9nY2PAhyTGX5/QsLWqsFNlmFKaCbBdXy2ZEtofbPu6uIooR8HgeoDxt5OYqwdGGhbkZExeHfpZmjZyfagkkJWu4IPNvT4Ic7PoUiPHxLMLFXpDHqxinkjVcEOxXUeWwHu25qc4ZVX6nm7quHe37ub2MqIni4SLIw40mh8uDIA8XGpBT8lsdbXu5PI8qNL9Cv9+LPOWeILurHi6PvMzNGXl8SHK+61J9c3MT53jNyuqSk0fJxr0fUIwO+WxMQGKc1ESvdjKSPJ8HKU8Pc3YWZqdqZGvDq5yTjblBBqxNnF7E2C6bEHaYGFMxAFLW+a5HsaYu97ycHodUn+9uuDnZdVJdsCqW2pLIfNunUPyCfzg9CXN7EVYUypvDIFdHEbUT9ihA2nONCSdbsxfHYS72fFyexzhat1JZdqidw80lMwtlm3IEtpdN7O+FFAh3YVaPHGdK3CIxbDLpKMNYdwzFqCmH4i6umH0VOXpetVBbtimDuFczs7gqR14pdhb1DPQ0sXssrAELp4c+Rtwd7B1G1eQgIP/ClJmrfQ+L80aOjoJf9V30++HEz/K8RSVNvT0KcXEe5uosqBhJkhD15TrO9WFQbX/LGD7eD6pjrJFMJ7u7AdU3d+dhHi6FneHk8jTEsti4Vacmu5uwAuYrmZ8HFBPj7DSs+uRemCznMfaE+SHMx2u5V6/s1/Guj+V5I2fnUVamurBam9jcCfFw5lf252BXs2kPkjNN2DtHYYQKf3UR4eksgODxZNdTDP3WfC8+XwvRkX62d9zUFi2Kgl4tGTi5iPHxKsyUHKs4Wjm7lISxYc7PItwfeVmuWJgIvSMW6+dsy0Ehb/hLrjOZuI5WrJTmLVyeBXn8qu8elbLk7ibG7pqVyoJZhVA4XLWwsuhQTs3mkpHqvEXNJfOzBnZ2/XW67p+ToVoU1RfDamdl3qgYY2fbbkolkxr/wlaqVm2IY3G86WRlxa0cus2FIQZ6mjk4i/P7hxTlwiClqpOrPbGNesVKOT90UykaOBWmzYmX8qzYmhg3R2EtKe5VjLsDD8tlqyr/cFnTaWF7LUwPI4zAo5qVlWWPYiXV5oysb3gU+3KxJPom2L6kynu3UzVTrVhVeAC5JmzUs5MIZ4ceri+jandtc8Orxp+aRzfdrC+Y2JXQB6eSu29YsfuONpysr3sVs2dxfphtsYsnEe4vouqo7ubUr7AjZ8dBjnb8ymYdH3pZGNdRWfJ9PSoWh1/ilwk2c/84zGapF4ulidVVN2uLVq5Ef57TyjZVBMpwGVXHSKJz+5sejU59G2WjakD6T3RmvybR650qke/xQYCbY79iv53viJ0xK8e5PKunXLZwJiEYzsOcCGOx3seqv+uLAMGyrS6a1KbF8rxJsYYvpb9mjWyt2lhdtCn8mDjtf3FYnu79bOR15BP9jE70MZvrI+DtJJvrICMgqGQn6fwAe5s2xVaIZAeYKgxSlLOw7ACTvi6FNdhcshIKNFNasDAR72Yk1Ul+rIuo72fs9rccnETruxDisAQIu38mHmkjKEj/j1nuL/wkba1MFcwcbVix6n9QQMmxwhDVaR0rVRuF7ACJSBNzRfEULYRcTUyM9rC+bmJPGDBTw/jsr3CY37CxHeS/f0yRS3eSnxgi6XqLN9XFp095fn9Jqe04WS2tzXTjcL1hesnB9OwgoVA78/lhMp42bOZ3HBxH+eMpTnGii1C4h41tH/urJkxDPzA+ZWQ81Y6j6xWx1BC3Z34yiRaccqY6MkAu1sNIto+Z8VamZw2URvrJxnpIxjvVOfWXqwCxiSE+fsqwmh6mODXA+67/QnXVxz9/zqjBIMb9811U5UZKpbqYkGi/8/1YPa2MjukpRYcozvRRmjOSj/UoDMNsycRsrov85BAz423KCE4UTBxv2bHrfiQS7KFScXK4ame+0M1UoUehwUuFYQrxbpLxVla2A/xfH5KKKZZIdTOW6SOfHmA630VxqodQpJV0skulb4gHmrEaf6ZStVGMC47pHfOzA4oZY7N1srXhwhPrIJ8cYLU8QMjxmkiqi1ysDbPlNZl8H8nYexL+NkKxXqay/WTj3eRH+5gcbaFStjImbYt3k8728fKS43LLyvSo1EengHqFop6Z2AClpImNCR0GdxOTs0YFrJ2fs3K868QtYOu8kdqCiUiwmbmZHsbG+tnelW12HYXxXgrjQxSzw0wmdFyeBVis6BnJdiqMhsPawsZuSIHJVmbaCEXb1Qq/kO9UDJLJKQuVUh9WTxvjU3qmEz1kM11MjHUQ8jcTlIll2sofH9Jq0AsVcGPNxd2NsIPiFOJdjBWMrMzqGIt1k8l2Mj7aw0i8k0Cii7F0Lzbdz4T9nTw/Z5VDK9us66UhtQtZyPaqHGCRcA9rm14O1yyYh/5GftrKyswA8UwfJ7sewg4BOHYyOzNIacrAVGSI6XA/G5s+dlaMCv/0989Z1mcHcftlsmuiOK1jbLSTeKyb5UU7+Wwr9mgvsxODWE0/Ewl1KlxURJhtk11MTQ5QXXap2C3iVEncCdXempPb6wS/P8aIBN8TDrTicTUTDnWxsGAiP9KhwNaC98pkOvG7ehjP9SlgeTTQQsrbw9FxjN9eEizkdVxexymHOrHrXzGRMzA/3cbcrIGpCWHrvcdmeMVorI+tCTtTqzaqi3qWSz2KjTI3oqOU1rG2NkA+2oHf1s3qqovZeBuJCQN//zLC/oqFiLeV4oyF420nMV+rAtkXpzpIx7oUrmN0rFcBEvd3PaRLZn75mOF8xUHK+p6xiWF1NC3HrMXRLkKhXnX8mfa9weVpYWasjwW12DMzXzHgDrRRzA+wujLARKJDAWWXxh2cH7qoLJrI+lqxDv/EZMHEH7/mWSt2M5LrZSzTq5hRwvqaGe8hme5hPN3LSKKPdLSdvL+NyLjgC11kJ3SMRLtZqNrJe14RDffzRSb9EUl4qznq4mxe7NlJxTpZXXYyP/GeSLyDFXFy8h2kM72k4t14wu/JJ7sYT/VRSPaSy3aQz/Yre1FbcTKXbyeRaGd+Wk+hYOTqUhzZJF9psRLe4iWr0r8Y9a+orQhLs5VUupuR0R6S/mbMtrfkC/24na+x29rJZLoVaN5p6eToPMEvd2Fmp3p5eEhRzPVSGO1jerydUPQdyWQP+WQ/+WQfI8lu1WdLYy5ODuxUKiZi9ibF4Bkb6WdkpI+1ZTvTo91MTBpYKQ2TjvQwOtJL2t9M0ttOMtvNusjQ/xazp42X5ywfLgIkht9iNbxjrRZAxs7KbC8BXws+VxuT40O4Da9VguHp6ACjySH299xMJVoxOppYmDUwMjLMWkWH2fwKt7OTaKSNcKKD0UQHU1ED59s+KmU9B/s+oo5XuAK9rIm++FpZ3ArweORQGM7PH3Jfd0O2q0OkM50kot2kFTvHrAgm+ZSw3fQq1EMu3oxe/4ZsbphMtJ1I5D1BVzv3T1meT12MpJpUX86VnWyVhzAO/sxkcoioU7BFb5iaGWR2rAuz9Q35ORvjsdfkxwdYqJrIJdqIJob48jHL42VIBWuVcB+/fsyxNNOBLdDGmYwZ31uVey+RbCESEMp4M8Hwe6pbAbVD/xeH5fHex/qokaO1AGtrBibT/ZQmzMxMd2GztCoPOTnSyXR+iPlJHYlJM8cbgnx/zfl+gNjgG8ITA2pbuVoWMKiPTLCXyoKOSKKZZPA1Ln8HlRUnRxKbQ86Ur/wEXD+xUBwmmu7k5ibFb1/SbI6aONsNM9BPaggAACAASURBVDnWit7wNxzxduZKJvZW7SrB4mjJzNaqjnlxMhzNTOSFqtbDXKmfxXkL09l+ZdATiU529kP8909pkqF3uELdXJ76SMTaWF33crLnVTsnn+7CTGd6mZwcZGRmmLk5HetLdpaLemLhZkWb3j+M8PfnBOOZZjy2Ns72/ORinQz3/UgiZ2JxtJOu//Z/kMoYOFyzMpcfZGRyiGCwm9kZM2PZdgoTHdzeJ1kuDDA2YSKfes/eSYxfbwIEc33c3ccpRwYoCGg41s5otEcB4CT42M11gs+3IbKxVipzJqKBbopjgxSmhsmODDFia1dMhUJBRzKhozLbx8S0no3iILF8PyPJN6QSXWRyQ5QynZgHxGEZUEwjt7mJ4mQPqWgTkVAXE+l+JnJ6Jic6mF1x8z9eEqRSLczPi6FsY2rWwc2xk8ViF7HsAMsVE+ORVlyGtyphZmlySNFO56e6KYy2YTS9JpvSUS3pKC1a2Zg3UZs34LG+JZ3vIeR6RSDUxbSA44pDbFctzBX0yqEqzxnIxN9TKvby5VOO0Wg3paKBVLJdsVpkVTUWfIsvrudwzYAv0kHS1cOUv4eAtYXsnImJ8SGs1lcsrzuYHRnAOPQzLmcv0xUjKytGVgXZH2jGZG8lm28nHRV0fTfF7BBe3TsC/jeMFQaYnh1iuWqhNKpjayvAH5+yVMbfYTO3srHqYDTZRqVkJhLoZm58kMK0npQY8LSOUrGfSLqFpTmdAnTnKg5+/5Dhct9DIT9AYUrP1XWc359ixP0d1HaC1MYFCG5gcrILf7iFxQUj6WwXwWAbNnsLhcIQZ4chTg9CfBAcwm0Y79B/ZbbiUgBwl/U9p3t+RuNd6Pt/JJwycrpuJpLpZWyiB6fpR/yeJkZHu9Uu52hgkBFHKx77ayLhJgXy/funtFoBzsyZWSwNMz/WrZy70sQw8VA3i1M6ctN6stFOzKZ3TEwMMjE1RHXZzGZF4r60YzG/JleyqYCJspOp2lsY5uIyzu/3EaLpLpbKNtIpo6LcplM9TE0MUBrXY3W8pVQxkAn3EPN1YLU2U5joJWrr4OBIc1jK+SHOr2Is+DsJON+RH+tlLP1O6Xsu04/b/o5IrIOZ/CCV+DDJaR0ThR4qs90kkx1qAprN6kkE/0YyrqOSGMbjesdYtpfSop3fPuXYXzRiNP7E3LKN9UUDM1ULW4u9jGXfYTW2qNgZuQlhxw3h97zDOTrMH19yXCzbcPW+IrdgUFG55ahVVqLLyz4OahIu4Ufs1lfK0dzccDMvY2dqgJUlO7XiEDHf34jFBlWdZhJ6NlZMzBaH8drfaYuqso3fvuRZm+7AaH2rdGE038LaYZjieBuz8yYKwXYCwT7KM4OM+t4Ty3dSEPp4sodIqJejiziLmXamC2b++JSmOqVDVs4nu14+PWfZrxmIjg7ycpukNPIGu7VN0/eUULglDUsb8cIwtTkdKaFDZw3Mz/cpivT8lFntYl/umVlbNyuWnNn4mpC3j8dHje4sTKadHb86NjrfdZL0NCl660ion7WqiXiqDZ/1J+LCvBnvxmz+iZHkEInYe4oLBkKODvZO4vx6H2Gm0KeOROaF2Xrkp1bqIJhpp7poYSzUQSDUz9KCnpi/mdm4mdqKgdnZYWym12qxkRMnaNzEy1WIfLyFrb0w2wt64slhtQgJ2V9TnTIyMzFIIteJ1/Ej3fY33D9qDkt8qAmv7y0LSw7+/jHL2qJO2c3lGSMTmR6G9a8ZHethOjbM8Vac6wNJ3/IjvdafGJuS3fA4tzsGBod/YjQ1pOo0U7FSGm1n1DvA+oKVmdlBZsaHsQy/Qm/o5nDbgn7gZzYOYzwdO1ko6bk48avd018/ZlmZ7GJ6Rs9orId4tJvtTRcLRQObiyblyIeTPfi9P+MPdFKc0DMzqWd1zcJsfpDrWwlLYqdSlpx6fuYKw+RDzej7fybhGaQ6bmN5sY/asp6pZBdGZxPz22GOVno5OfQQcb8mnhigPGfm40v2/2bvPXsby7JswV8ynwb90JWVJiLDy1KUKEMnkaL3FL23EklR3lISSRnK24jIqMysqqzXDxhggAfM/LY1WPuSisjq6u6q6nk9jR59SChSIu89d5999tn37LXWxs2JHfnkKJoHHvz+YwzVUj9SyyYcb0xiRv81LMZncMb7sbo2jTCT7rwaufosfvkU/fUJy825DSebVpw23eicOFCPqzA+9hzLK7O4PLQh7OnDBrsP218iNjeIWXc/GqsGxDMToifR2XZjb9uAzS3qsVhwcx3EdoX6J8M4aztQTg8jldSi3bBguaSTI0cyABZSQ4iHh7BB0TDW4+6COFq34vLEh/XKOCJzQ1jfs6G9pEU0OCbHRNs7FlwcWrC3aZTeR1eHLhzumpBPDMDvfAVXZkreENN88+KRPgGZazM4u5iTTeJ0z4SQrx/Zgg4f3sdwtD6G2dlnCLPXkYV9i3hk58JGVY+dPScu23YRQqMA3SGPxw9sWCLFsjSO2Jwa1QW96IScbtiF2WG3fw9fYBizs9/LaUPWP4D6sg0nBzNSa6WQXtLbj/mKWY4geUy8ukGhtABay2bsbJlx2PGhuWZAfWEKsegILi4VMFdzlSJnwyjmVZi1vkPI9QqeoBoXzSDuLl04PnJhqziGaHgCe1sz8pbB4/ujA7PUXI/27Fhf0CASHMLmul10Bo53rdjfnMb5qUuErzqHTlSSQ6D97q6I1wnheNsEr3cAu/s2KdvwFKmzNw2z6TvYXcMCdm1v65HLahAz9cFj74fb+D3mcyZRg8yXtVipanHUcqHTsAht/LTlFnZNe8ciJ1AUZCKIiz7Q3LXjeHMac84BNHYdOGxM4/YmjIuGCSFnPza3KABF0HYIldQg1jbsuD624+IygOs9F7bmtWisWdE+cohAEVWcNxZ1ckycmBvGfEGHtfUZXJ44cLRnQrU4Jm83u9smXF9QxMiN5poJ2fAIivOT2N+1yEJnd3EKLhFsyfrx8YEJ54cOLFWMEgBCPEnLDcNi60PQ+QLRwhTWimNIJcbREcFElqo82Gw4HjEPUu/t1s+ZeHS2phH09AtDqRQdQLmkl7JTiqeVea2o35bDKqysWLCQGsbyOpH4c/jh2ouEbwDHLGu2bDhr2rFc0aNenkB0bgRLNQOKKTXKizPYXTcgOjeIelUnDJz7yyBONmxYzY2LDs/aqhGHbbdc96hhxXkngJu2Qxg69dwIKBcQC72Fzz8Mi+k5auuzWCqqMV/Uol7XS8nleN+EtcUpxCMj2Nl3yUlQr07fwyx9vPKJZgmT8s1VC3bJZmh5UMsMI5KbFNG+bKQP8dgkOsduzGdUqFXIQJvBeUfBXewvTSKd1WJ/0YB0VIWV9RkcN2dFLIsCdSeb00jG1NjbsmE+PAy/r180WhgTjk/cuO/4cbxuQW1pEqdtL9pLZP0YcdZxSWmS/k8wOAXONquTyBXGcXrswlFjGs29WVwe25AK9WFjyyrlmatjB9Z2bIJrujhw4mzPjY3VKexREZUifIcOtA/c6OyZEA7yREmPk30rgoFBbGzNYn3RgMtjRViztjiJTsuD4w0b6ukxRPzv4PK9QXvbIidOO7su2eiPdqbRarnwpx+i2FrXoX3iw3XLBr+3Dxt7DpxuTcPn7cPykklYRDwVWt22ob2sw1xAhb1NEzIZvizoUSoYsbemRSKrlWt/vPZhKaVCKKbBfoMvK/T3aWwtaeELq3CwM4Pxid8iHJvCzVUAi+lhJOMaKV8VEv3IZHS4OHbgqGXDacOCRESFenVGyvU9nIjgjqSUapJEkcxHp+ZbuNxDwhjjS2Ayrkan7ZaXnawwJO3IhPuQjE/KC91P79nPbhyFihGMcxRSOzuYgcP+Fcz2PjSPPThZ1yPoHkZ734lKdAQhzyuRPmivm5BOjElpYzmpQjw1KWzROW8/NjdmsZxWI1MwYiMzLMnB0ooZJ3sm2QtzFR3ub0L4eOlFLaZGIqFG65BrJ4SjvVmcXwTB0vVxy4nNogb5nBb7azactX24OrIgOTeETGkSe7s2EMP46SaAxeI4igsGZBN90OhfYH3LjsMVrtkh2C3folSaRDo8jIWiESvLJjT3LVhbN2IhocHWtkNO8VheZEmVYq/x4DuUlk0iBBj0D2DzwC2Mw0R4WOQ3OvtWxCIj4n+MvYxtrU2zJJv3p040G2acHbrR2rGiklXJS/LW4izOmhTJc6Cxrkdj2YLTjltKTzyVOz9yYrFK5pBSTqcAIMkgPSwMBT9bu9PYOXDgrLsWagtarG0Y0T6wyQlWY8uEvabCNv7VCcsVQbddkByPly+bDpwf+wX0ykSCmRr75rD+yzfDq1MXjvYcklgQrCcIX56aCGhGQbizA/OffhcXQCxBOwr4iuCdsJRiWNMWANoPPNb+jMjmOKQE0gV6Ug+BNSyCohg8+FniOfg7OgUBX2yeyJISZbjbdJaHCP7wSUFDE/zG7/XYHwpQVAGVCq7jxCFS9D/fUy2QG2YXfNQFYfL5pQZPgFsX5MTAI4DDLgBZWAj3BPQGcXbswg/vo6K8eX7mV8B5QoNW6vYCNOp+TwEgfe75QwAdn68Hbnp/4cNpW1H+o734zHzWm44L11dz+Ok+gNNjtwKIvO5+rwsU5nUIpFNYMwrQleMXAF0XFMlrSqJInEEXKc6je5bJeiC03n0JupWxCVtJYXu19u34SNDULVsUxPGnH6O4POAbfxgfz/04b3kEm0RQFmuXfC7ejz4mtuwCmLmBMQHpMYfkb13wFv8tIFQBGisO3wMAEyx43LKJwqOMv8tUIDWZQFixY9df6ANMcLhg6IucQz4rr087yRgEb6GAMunTwkZhHysBbkbEh1hHl0BAdH/XbpJ0fIiKv1OZ+OY6hJ/uAugcuR9tyWvwfvQ5Bui/BLrt2boHNuc8KABHBTBLIDftR3uQ5XO658BdD9R66QOxE7x+j6kj+Bhh2Sigux44kkyB//5zQk6JaCP5zt0cfv+7mAC1+Xwca88/BHja9Q/6/e8fQjg7cok20vsLj2B7xK7vFbAdQZ0cJ++v2LULTOyOrQe8ow04D7QNcTziA7cKSFCeVUCwEbkGn0kAiF1fYoygoNvHSx92Vk0iaMYx9K4nz9SNHT3/IsDxZ45RQK1dSXH6AJPfe2Xdcw32bE7b0AYEU9Ln+JmebTj3MqcColdAsnwu3pcxi98T0O2tAkrtrR/+nWuL8YptOng9Xkexk/KC8OiX9D2uGZ6g0UcfmPDY5IVP8RGOT/FDrkH+uxfruB54z178FNtITFPWAO1NQLhiG8aVCI62zThue3HdcQiegfNOHATtxjXD2KnMq7KGf/4QFeXeZtMlNuW8cy3x+fgM4r+PbTt6wHQ+82cMS88XGKc5Zvo24zjbLHx86AE9lXHKNbugWNqM/sDxCymCTJlzN7a3ZiVO8rN89taBBfd3Yfyu5wtdxpnEOMbrQxs+3Hd9jHNFsgnn5O7znMj8f4zgsmXD+RFFQ8Nihz8w5v0uLvsD4+ovPxFErYz5y7XTm09eh3akn5Oo0NvACVDl/PFzPXtz7k75snymCEky9tNnbjt2wSpyH+hdS2IbFY65Dqg6fOgS1W3xR5IahOCgzB1B+Ao5QYmlyv7w+VlpV36Pz9+zq/j5Y6xU9nAy0nrPQL/oxVvx1xtlv+F64f/3rvk418Lo84s//WosQjLguuzGA+4V3TX464TlhNLqZAPRCApNTAKIsESUB6YTMkEQ47B/zw8xEe0iLevLgYiRrgnUtKO2asCPH2MS6H/6FENnw4j9bQIwlcXSXp+WUxyyHgQJ36Npylh6TqQ4Og3ECVcWtjJ53AhPD2aRiKnRaDjx0w9ROT76dBdEY0knb6f392H8gZPLxcpx06FoCAbI+zAoo16pGIVC92vDKguO9+NbPx1GCaoKG4jO9bhgrgPK4uwuajoInYtlg97mI5Pf3VzozOKA3cSBQYyLVZyWG5owS8L4/Q9RGS/vJQtAgmsIpED+RMrzbUg0MMRJuskiqYuK03STn+6GzUBD5D2TSmXDU+ZS7MHF3qWfKYtJYcVwg+Pzc3HzebiQe89MlDwXrPRxuvCgRlGvTRs+8dmJEv8YESYD/YbXkXvL+JV/95LAP/cd/r8E2+5Y//hDBNt1k7SG4HMRlb9en0KjyTcIZQ7p4Bxjb0OX+39QHF+YJZwXBv4u04M+LPPfpbV+YoLWTQY4bv77y3ExwdhY0aLFRpjXPhAwSRlwztfPD2HsbBpQr04JUJnBXdnglaSIC18SFG5g3Q2b4+B/PfvyeXu/6wVtGUOXPv/lWOTf3PQkKVeS/Z8/xXBN3YI1K34n9lc2DCVQkUWiMDN4fwJqV2s6rNYIrJ6V5Jr2+uEmgJ2aDtmURoCO3Iw4t/QXbrySpNOX6KuSXChMDvqHbGzXQVx3XAIKfE/6c49ZJhuXsuG/v/Ti4twr11I2sy7bROLOFzYn00j8jXbp3VMJfPRDxd+V+3NNUj2Zise0IX1b2QCUNdVLlMX23ZeBx0RC5BKUDa+3wfD69CP6CH2WAf1w04R0dASHhx5RWuXvexsM17GsmW6yzGtLAsyGr1zvQjn1YL2mx+6OTeJBa2NG1G9JImDi1WOc0J/5QsMxfMk+YVyiHWQOuv3IZMOQZEhJeHqxu+fnXKccO7/HZ2fg/zIG8EXzS5vwb5KYvFdeAOVeQqNV4h6Tod44lTjCTY73UBIg8SFJ8hV2Ts/ner7LZ5BxdO3KuMjfKb6nJPCcA5bN+Pyy38hLTo8q3I1fksApcZx25mcZl5jQ9eaL9xQG2kMYv3yKSeIi9uvGZ96TdqIPMpbSfyUh7CY//D3vT1/iNeljnCcqrfPfkhhy72laBcRPYH97m3OqxempX5m77txLrJWkVBkz70WfYcLBMcgLpCR4SgLGdU+70G+VBFuxE21HiQxiP7ivKBs5/efzPiR+x3XbtS3Xv2z+3aS4lxzL/HFNi/9/TrBoN/qNxEKJSYosh8Sp7l7FPYc2l1OxL+QtZD/7qLChvnwZk5cSiQWME8pYOQ4eKvCn7Mm0u9hXSco5Vxw712HPf36dsHRsAr6ppVUol3WiusjeN3srZlyeuVFMDaNKFPEFRYWm5fhqZV6DxfqMnE7wonJy8EWwvm2boDV/JSCr64sAWqs6mFX/gPkFsziDqLGGh3Bw4MJ6YRx5isidKYyHD5deVNNqZDMatFt2YQKxX81meQIZKiDumgXod9x2YM71Supv5yc+HCzrkC8qPURYo8tHx7BU0iIdU2GhNo3GuhHFwhQ6TTsOtqw42bOj2bAL0LXR8ogTiIG4wK/9gjfJFKZweuDD0Y5ZjuZaG3qkiDnouFEtjaJY0Ao7ZTmnxmJtBh9v/ZjPjqCQHZdjW4KtDg7s+CAbnJIYcBM73ZyWRGt704qbUzaddKB1QDEkLw5WTFiujCMZVSn0yjMP/vBDBKctpyiTFjMabG7Y0Nk3I5/iUaYLl00vLvYsyEY1OD304rxll94fhwc2nB475Yi4nBqXI7paRo1SWY/W1qyApU/P/LJ42A+C4loER+7t2LG1MolcahzVPEsFKqyumLDIuSrpZKFUCyOorvJY3I46pe+TWtxcelHOqFDMjiMVHRE1ys0VAwoZDVptjzB+cgQhniuUUdqbC00JBMqJz9WhHamIGk2Wd6oaqPq+w8quRxyYomzh8JjC9uj48XDhxPmRA2ulCSzWTdJLJBXnfRVht3J2BLXajLDKyFrhEXZjgwqUZHvN4PDQjYNFLZYWTbho2gUUTelqBvDeYmFw2F7To3MewGa0H8aZV2hs23F8RDuZwBJKc8+CUmxYGFMMEtTBOT9x4nDTiv19t2xqtx0nTtrsmcN+H14cbOpBMDBP9ig2dnvqRadlRy0/htU1pUz652tLNsBzD+oLPF6eQKflEvnsQkyDtboFnf1ZJGMaUI20kpvA1g5PDZVn4WbKklQp1g+19jnWVi3YJAOgYsTxthnmke+QKU5JL6Clogrp/BSO95y4OfZhl3ZrkO3gxemuExdtJ+bTY1jbZB8WBrYINuaHkZvXS/KwV9ehkNfiuuOVdgAswTaWJzA4+RWabTdW8qNYWTLj/NCKfEoFqu/y9IpjJCutnB4TluL5sVMaO17uuYRRlE+N4uTYj4sDs/jk5r4LFzszSMfHpUXAYnIE2dIUWgduXHfY42VaSglkEbb2rDg/9+HhxIeLphvbi1MolPXCXmTSQZYM/bywYMD+phGF3CROD+3wTHyPYHhETvIaS+NIxcek785lx4fDhgl7uzwO9+B8zyl90HaWdagsGiUmslXGUX0cPtMbRGMq5LOjCLEknBsX/+abKZk3pYxGxC35Fp9Pj+KATUklQfQLy+Kq48TuFo/hHUhEh6WEdnfkE8FHgjArCZWwanjienvhwXxWhbVtKy4OFbbWAZljLRvKKY3owJwfePH+xo/DfSs6Jx6cNqxo7blwvGNCcV6H80O7CAqyiSdZMdxY7s+cKKVGkIqN4ajpQCmrkpJTa9OAdHxURN7KCcqr28Xfe+vngad/7B917sXe5rQop2YzEwIfSCVVaB4x9ir6KHs1HYppDdpNp/ToYol6fcUka4axiCw5zncyPorqwoSUMJeXTdhZnBRV9oduawVuqFRaTmYmQQYNeyWtV00yX4n0GDodD1arBNlrpO/SbnUcpbxW1spSeVSEOamQy1Yla+sW6e22vzUtTDna4nrfDJ/tnZRntlemYWXLiJQagfCQAKyZPP9w6UUtNYLyoklidTypxvllEIfbM4hHVFK+bW/pUV0w4urEhUpBjYUFI1q7Zumhc7HvwPryNPYbs7g78wpteTGvQZJ9wxpOSWpuT50ihU+sJGMIFafX1yl4ahZs1GHLLiBiwfSsmnHeciCXnhTV9e2qFomURhjAfDH5cOnDYmkcFLVk2f/q1IktlmDXjcglR7C168RZ8/Oec77PE12flGubGwYwrrOqIC8w3bjOpKOxpkMxN4WLMw+qebUIeq7XJ4T5RVHTYlkryfDWog61uhlXRw6UUqMoVcg6VQ4sfpWwXJ/ZxZlj9j6kYu9E0TabG4XF/AqlyBjKJQOaG3oBlEVjk7g692I+MYChoW+xT0T5XUgcojavRafjk7LK7aEJVtcLJBJjCMVGEQmNIe99jcWKWTJX0krn0wZRAvVpnmPG8Arb2zxCD+H60Iqwf0Scu1oeQMT9Fl6TCgXPKLYbdplQh/E7GKdfI72gw25dh4V5A3aXpzCl+UekM2MC/PPaX6Kc1SIR6cPSph37y1roR75Ced6Mcuwd7JYhkWLfW9WjsmTBLz8o2iHMKHeWJxFNjONoz4Ko7jX8QRXY3DARH0A+PQ6n7S3c0SHMx4cRcfSjGB+XvjJB95BgJA5bVmQIwMzoUcgMIlfUCRZG3jTOnJibG8TOjgOLaRWW2bxunqDTCeRyo5jRv0RjcxpBrwrbSxMIzb3B3o4N9XkdMmEVZqe/h3dOg1ZjViTwnf5R5K19cIc0WJtnfXNQMDjpeQPKC+MCUvbNvhXmVNjbj0RUIwvXH+qX4JiITCiS/tde2XRTsVHE/Spko2NSx99ZnEAk/BYrxUm47Spks8Pwz71DoTCKeECFaGIUldokHGQ80F+KOhy2LEjZBlErGJCOvRNwYbZqFFqsdvQ3iOVnREqdTQXXa1PY5sbKt7y7ADJzb1GtW7C6oEaIdG/rEFZ3POBbf3t9Eksbs7htWQT4mZx7ISCtlbwKmolvkMyoUaxMoeydRC7RB09kEKXQCGLxCSwmNbCYXyKbH5HeKAQMpmJqGCeeCZo/4XyNhE8lfU22274uk0w5naBE+XZhCFbttzBbX6KxZZZmf5maWRKuP74PobigweqeCz89RHDW0KGyMATb+HOUS+zVFcXFnh5LSxNo7dhQIWtA/y2splcopAeQivUh5B+W4FgMv4Vq9AVOL5QS6OWhFbUyWzv45WSH6rcm11sspNUIzLyE06nCanESGbL8wv1oNNzIRF9jSvcMVssw7u+j8rbNN8P3d2HcH1rgS4zLCdhaeQyTo9/AGRxFsTKN2oIGy2sGlJOvxP8XYjqsREaFyTCXGUXz2IXNiE6eIel5gSnD97i54RtpBOvzwyhVjfin30VBn+FaZM+igGVQfMXlfQFHdAAb5SlkI2NIp4bg8L1AKKFCwjWEg6bS0Z0NNeOeF5gxvUQhpwYDfcw6hubuLOxs+RDWilJxODiEUGECiYAa5dwogq4+ZJwaHLQsKOenkPP0wWx/DYKEN9f0yOXUiMSHkHQOYak8i526BuOqf8DKlkOSYVLPE4FnkoQfbBgwPfE1bO5hJEpGbNYnML8yg6X8G0TCo8imJ7CYm4Jz5nsQcLvVtKFVNKOeGsWM7hsYZ19iY98jJeGjxXEEZt8ilRqAVf8G+/s+/B9/TD6WBj9c+8EXnrmYWtSc3TPfwOYZwie+0d/6hCKf9w0IWysbU0li01jQwzXxPXJlA9hcdM47iFKuH8X8KCyWN1hb1kvyFY2+web6DGLzU/CbX2NG9xxx/xBSthFkkoNIptWoLWrhsr5COq6Giyyc2VeIpUbgd7+Ee/oVwmm9xGyOczE3gnh8CovFYeQKY4h4hxCMDGF1w4JycAil1Bh8wXc4v+bpS1BKE8TpFWMqbK3qUahOYd6vRpGA8hTHq4HXO4oH0d7xIzPzFuap55jPTCE+9ww+Zz9mg8Nwu19Ar3+BgHcEbLq5sW4FVV/nfEOo5SeRCqiRjvehsGSWE/WTXSOCYZUkZ5XUK5htb6Q5YzrejwJBx/Y+2AL9mE+rEXb0IRfRIJcbgs89gCIxLE0nVkvDiMcHsLI0jUpiHDO677B76ANPfeuZUSSLZvyf/yOLny4dcEdG8MsfMsKgnF+3y16yVtUIHoZSEvHIO+nzQ9stV0msGEI6oxFVXpv5FVKxfjhDfSiGR1Ep6RGYfYGxAIF52QAAIABJREFUF/+IfHkaW3UV8plBzKjfYntJC39wUJrXfnqI4nBjAmbfa/nefHkaC4l+qEa/x/6+UxhmpfIYgu6uHQmwdTwXanNsbhR+az9y2RGEMuOyfj9e+bFaHoXJ+BKx2Ds4bcSxWhALvUAsNYaEdwTbm2Rafg2nV42CawSZ+KCou7c2jdCNsgXP57i+sajF/q4VfsdLBGNjItWRSE4K88xo/VbYYBb9NzDNvkY4NgAj2x6YB5D0DcHrGkJy7g2abfaP+jNa892VAxv5MUQiamQi75AI98HqHMZqVSs0y2JBJzRet/sVspFxbNcNMOmfYbj/OTYPfFJuuT6yi+4HpZ2JA7lqTsOVHJRM0RcaQTw6hojzBebLJjkWJSc+n5wAlVC9oy9gcTzH0oZFTl8uWxYU8qR+BuCa/gdEI1OoByewENHj5x9jKISGMKb+BkZDPwolym5rsVCagM/7ElNjXyEeG4KZyVZmEgfbFqwsTcnbcNzyHOOqr5HJGFBLD8Iy24fLqzAOVnUiX8wuwZcXpPSFsVUfx1xsTFrAJwx98MRV2FrXIxbsQyapgdvZD39iDPNpFRK+QSTCo0imB+B39YsUdOfUg52sAe0NF4qpd9Drv4U/q5Uj5fenDvgD/bLoDndMyPjewu7pk8TK5hpGrTApWBiCqi6aRtimf4vp2dfSAI6UczYzTATfIeAexMToN7BYRpB39MMT0mCFSU9sGPPJETh8Q/AF3qFaHkXA+RZOV5/CwFgw44/v/QgE3yKdUCMZZdPEsLwlt1fGoZl8JaCrmG8Ie6IBYcFSfQxHqzMIOUck8IfC/cgkRuS53Y6XsLuHsVqZQi44hEJ2Eqdnbmyl9TjaciEXfysbcyo0iaCnD5rh3yIQNeL3n8LSoZWOvbP7ZcLyGuWKCUulEaE7u6bfYnmbCUsER1t6lKozuD20IuAZRibyBuWiCg7rd1DrvkYwNYLmkQuN1DTyqQH4UyMokUru6YfD8g71mha54hjW1k3YqRlQSKph1D5DPDmG4ly/AG3jUZVQPwmA7p208Aj9dM8q4FKD4Vvs7szCMf1M5LLlOPRhDpWSBjtNdiCP4GJvCgbDVyhEdNhasOJ3n6K42jcilehDKTuObGwUNv0zzEXUWCyrkIj2IUaGVnQMJv13UA29xOGpUodnwkKNIwJNea/LAzNs/kHMZ0cxZ32DYnoGJ2sGxD0qxMN90m+ITQANM6+Qy+jQYKsEAkH5xn4bwnljGrawGu/P3LBOv4Bm+Bn8YQ0qbKDGnj6ZcTmZXGcvE+8wbPo3yC4ZRGK8uDCFnHNU3q6Nuq+g0z4TNgFLb+ulAXgCKtF+cTqfYXTyN/DHR5ByqlDMjSKaHEIgPiyJbyyoRjo5BHfoNWK5UST8g6JXxKPgncVR6Ke+gnn6e2Qy7H81hrRjDJnAO0ypv4bLMYxySovVZRMS81OIeFXIM3lz9mEpOYtffg7BbXyGBBu91XVYnZ+EY/a59OCJJ4eRco+gmpqCx/M9JlT/DZUVK366p9pyBOsLg+gcuxB2voVm5BvYXWrML0xgsTiFdG4SVSY/6ybkoyqYjS9Rq2qRz6uRLWlQ8o1hPjmKWcN3CM6NoH3olXLVYW0M5gml626jopG/7azNyGbKJJ3KzkxY3BEVYrF+6Ca+gsXeh4/vY0LdDllfIDynQrUyjligXzRqdud18BveSN+xxQUNinUjdpd4gqOGzfoWq3UdEolRrFR18DlewZ7UIOR6A6ezDwuFCSQtI8imhpDNqWExvUA+o8XavAZO03fw+0ewUGSPGT1aK0aUS9THCUmyfLQ9g5VVO7bmR0Q7KuQZRDTDRqtRLMVVSEZGEIwOiAbKwa5S/mdH+p3aBNyW50gtGnG0YML+ih3lRB/SyVF4fWOPCUtq+i0cs9+LHMbiggonDQcSC1NwO5/DYuvHQn4cweiQnA6yYzt1VVobJoSYWMb6UFxWEpbjHYMwoQ73XVhIv4TbOiB6RMm5d8ikNPA5B+COqqTJbtI/gFhgFNksN8o+5GJjaLU86OzpsbauQ6MyCcoZLMyPgyfxLIOebBhEWoCYmSZ7izneYGXJIO1pDk/Yuy6MlYUxRJITON6bRcz/VsqtPvcQ0nPDiMWZPI/C3o0B86UReOKDyLM3X0WPpP0VJl/9BsWSCbnwd3D6hlELGXDWsqJc0cqJvfTW25qELdQvJxKJwAhmjc8wMvQS6xsWpIJ9CCaHUZ8fwfGuHdHyBFy27+B0DmCxNIWIbQjFzAhiBa0kLO/PvVgqjMBuf4NY8h2C9leoFE2IJl4jkR9DLqxC0DOIcfU3mJ1VoeBWI5scQqE0ibC7H2PDv4UvYvgiruuwt2vH6vwYzLbvEfYMIBGbkJYT1mifdG63638Lf0CNSn4ERsMzRKMalNgsOT+D1VK/MH0pOvt4wvJ//89T3J3NIml8h0x2DD5jH+ZLRjkyu2y75FiolFLQ+RTCOmlYpNX2clmD+ZJBlDdZf/qyJEQ8zN2ZC7t7FgEA8eicx6+ptHJUzeOy390HMZ9QYWnJjM3ypGiUyHESj63ZB2HfKaI3W5vTuOr4cMIj+F2nYE24aArs0bPtRGd7Gtn4hLSg3qhp5RiX/ScaDZuUNs6P3NKkioJy2/VJ5HNT2N8wo71rl2NKItI5rqN9C+JxtbBRpLZ75cNKbgzZohan+z5cHtmwvW3FwZoe2bIOrW0DxqeeoVqbxceHIOpZNeqL7I/jQzkzjPqSWY6dr459aG0ZpStrU9q/KyC/DtkLUTXo3H/4GBZUNdupHx15cNFySJt69mqiHWsFdp024rDlEkG9Uk6DrU0LWpuKHbbWbbg69OFy34JcfByXHT82KhpQVyAdHULQrxI2y3xWI0JkJ22XBCCyf9ir5+zcL92YmWi21qZQLuvx8w8RbNbHkUlP4rJDYKUTRyt66Eefo75skrpwlWWw9VlQup+llcu289FfyDDjsfv1iQ/7pMllNXJM31jRyQkVRcZ4DPlYEuoCFbmhXrasoilxsOfESnkMhZwO571y4bkbsdAwdgj6Pg3g4dKF07YNS8VJlCs60Shg2eK65cNyeRCa6e+xuWsHBdXa+y4R/mvt20TciQKJ5yceNJd0qFVNWEmyKeYLEXI6WJpEsWQQAKYcbXdxRz/eUSTRir1NC06OCfKbFpDt6a4BmeioUPbpP2Qtbe3O4oaia13q8fsLt3RETcz1wZXVisAhj6GPmqTYe3F75sPxnhXVPOd7Rmj3xD59ubbe34Zw0zJjQvcNCiWi8V1o7zpxdeTE0b4bZIwkY2NSEqoVx7GyYZXTtJ2Ggv7n2PiSsLurtHdfW5hAMauV078Nqq0uzqC9PYvDllu59pYZRw0Hzlgi3jbJuvM43mFhwYBKYRwUeWRzQG68F00LMnEyq3RYrepQKE4JA806+i1yRb2oya5SVG7PhuX8KLY2bFgu92Nq9pWcnCr4KUUgket7dWlaytPsany178bBhhGFtAZbyyZsbVlF8K997BEWTCY+gU7bg07DhY93ATRYzj714qjlEJzO/bkH7f1uSajDkpITK5UpFPOTOO14FQzRdRCnTYsI8O11/ZSspfaKFuW8VvQi9nYdIrzW3prFwQ57alEYyyqaVCH3W+TLM8LEKZW0uD5XgPos8xzvO+WUglos1NjhaQZFxYiVuT6ySXxg51xubnx2rm8myx9vAthfNUnz0dMjFzoHNjk52Vqz4L4TQHt3WsQk+awU3TpuO6UktJAbwdo2MTNRKW83j9wiFMfS086mHRctHz7csNxklbh2w5LWsQdHu2YUcxNo71Mo0SvCnRS7ZKmOvnN17MJJ2yMieHmedFBQ8cghdGKWjPLRYRw2XVgsjGCpy2Dj+iFWgwBtNo+8PKBwnx9XbaskPa1jr5TjGQ/2FvUSK1hG57rm71ptJ84PnchnNGgcOHGxY1JiJ2N704mHmyC2KhMoFVhaUPAmUhKqTCKVVUpCLIVurZjR3JpBMjuOk9asvESmcwY83IewVRlHuaCT+y2V1SiVjCJAyHL62Z5NyncXJ05QNFLwFvdzaKzowfIz49RaheUpFRoHLjnNZOlWmENpNebrJpCyTRmKxYVRuKhtFupDosgYYJL9dmd5HBrDt6ivWXDUtuBgz4Yrihg2bMIAYtnufJcioB4px8n17yLo7ExhTPcNKsuzuDl3Szl5scr+Yzp5cWa5kGVN4mWabZewB9lb6WDXDOc4X9QmcHuh4JvYRqCSY0lpVsqpN2y3s2WBx/0tZl39OKII3PY08vTPdRsumlRi9wlrbpdwjPQ4DvY+x3WWiUk+oGBoqWKQtbKQGkGtPo29PQsYyw63TSjmxnHR8WF3mRUBvVDqj/fp67MiFksV6seE5f/6nx1cHs/i9jSI//FLCj9dU9BHYTJIVt0FwAiwiWwdIpoJriIQk2jpR6Dsn0kuC1q+y8T4AuDDZIXgKqlVd1zC+edxO9H7vJYAdjjZXSYFyzP8DuvwBL8S5EvA4z/9PvkIPCWAS5yoC7ySmjqBUl1wowDPyEh4UEBUHL+AIaUu65YFxuPy61OfAIOU2uuvQbe8Bq/LhUckOJOqy3O/2ICfF3AVQUIiTU4gGN9mCVgkS0kBhPXAl3z+HkiJjiSAvy6ojv/PQCVJEzf07vUE/CuMLAW8RcyHAgyMSm8d3ovf4xsq7aU8a1TGeks1UwHzKQAy5Z7K2zpPLXp2l4B04hIUOjdKcTixrQI6ZlC7IWqdTK8eQEsYUAqamzZSAFNKCUIB9nWl/QWo2AVjdv/N51Zs/cXPLnOJwDDamwA43q83Rm6MxKycnhC8STsp9xSAHNlGXWAoGRDXp25cXykoe9pG/sbasnxG8UHFVsr83FDJ8yKIP/4Qw82pB7f00x4L5/HnZ6lrAcZ1GTVsM3F64vsCYKuAJKUPCeexC2omOJJ1XSqW/nCvrCE+k4BZu4h6bjKkaf7zeyt2ujv3CoujB1zkuqCvc83QrwSwRnnyHxSwOU8Me75He3OeBTPEOrMAqhXgHcHHZMjIWqM/ybrr9uEhrkvabxAsGMANWwTw+l1wKdePAsgjaI/y7QRvRqQuTpkCgpn5PAQSPs7rQxiXJy7cku7Y7WekzJECPOV1iAfieD/cKfcXkKWwvJTfPwL3BEzPNaCsJ86NjF96VingRNqZvi9xoctGUvz/M2uLz8Bxcp3/6aeEtEQQm3ZbQzB2yNqUHjzKGuTJDEGUtCnVpMWm3ZikxDoF5N8jKNBX//hDVPFplum6dE/GDDIuekBSfp7fZxzms8h/wsiLiTCZPB+l5x8UQCPXnvhSF1AqY+q+FHwJuuU4ldikgCp5PwU8/dnGEm+6/ki/6q1T8bOuain99BHYK36lMEp5/cvOZ6bK43cFdK60SJB2Hl0mkwBIu72gFNBtD9SsYK/4dz6XAGDpl3dh/NPPiS6QWBmbxKouaFaxeVA6Tf/pdzGxKdeE2Jeg3y7InP24ZO9gjCBB4r0S1zh/bAnxJWC1l0z39rvPYFKFyKDMORlOn32JsVv2BQG9Kkwsrl2WZdlqg5g6+hmfiwnV5QW1hQiyVeZU9ijGwEe22GegtNiULx/chy4+C7L2YkcPKNtbT/z8ZzsqSezFkbdb6lOUqBXijQKGVWI5DxZCMpcPd2F5NmXf+mJ/684p76fEbGX99eacdhLbCLBWsYfkEre9NhxdMHIvR+iuM/oc12LP3r9KWG5OqWOhgL3Iz6cD861/sz4pnU/ZIpqGILjy6JjsDFLXFCofkcYMchxgb3HRIRgY6Hz8nEy80NG6iPwuRZjfFVR0j7Ysk6Mg9AUxT5pcr7dQl87Jh79uk7+uwr4A07ipK9RUBlRZQBK0u5SqHj2WBiHrhWwQod8paGgGAwY3LnpZOF2kOv+fC4/PSjS8LHKyhW4VOjUdmM4gzvVI+2MipwRkuZfYSPkOF4ySKCjJCoMNx8tr8D9evxcY+Td+n9ggOi2TMcmoaZ8uBVfs22XxKM+jzAOfhwtPrsm5kedTqIa0Deeo50x0SmHxdNlfvX/z3vw3nYbX4785JmVRKvRyLnS5R5fqyYDCz7FTNDdnOioXI8cithOUO+ek16ROYRkI7fILxgKDNE8U+HwMqrxujxbPMfAevCbtQN8im0E2++7c0Nf4jBw7x0v/op+J7R+TDsUGvTGKD0piHsWfPoYxP69GuxOQDb+3idAH5D63IZw0+Farw3ppAp0TUnPnRPl2bWkC+9RoEXqicg9ZK/Q52k8YeNy8lM1cguCjT3HcfqXRmiQLyubDDV5otrQDn5dsuQeF+aYEUYUN07M/N0++KeVig9jaduJgzYDqsiJz35t3brgMpJKcSJlI2bg4Lvo9n5ljoc+xgRx/9/n6YaU8IMk7105387tWEjRel/bo+SG/x7470luErJbumpd40WWE0a4ytksvmk1rl4GlzL2sTdlsFBuKj3VBxGRN7Na0qC2ahOEo67SXtNF/ezYXtstn6qb4U3eN0E+YMHAdi48wYea6vwugllSjUiKQ/jMA+9GGBFa37VhMsU2CTZpRKv6p+FzPXvz5eT1x040JRo94Lq733vV6a5HrlbFCSYa764dsuC7jh3G4TZ2UxAh44s01Levli/FL/6pbPypxNWplNqT9fJ/e/fgdMsuWskY0NvVYYbuFHuX72odWm20CbChWtXhPmmo3IeaaVuKCwuJkDOBz8xl70hGce/o9fbfn9/S1Xjxg3OPald998X2uZfomAbhyXWFeMUYqkhA9f+RJcsKvwuG+V3mJ/bN1/elhDo0FA1bnp9HYJijcjzXq21wojFcmBZ22FRcXTFiYnMxhtajDxYVCaf/DhxDqS3osLepR48lgN5mmjyjz1LWnvFh3E1jGSq4f+l03IeRn6VMy/72+ONKrjLFB6f3Gn8IGEh9nz6UY7js2zNd1Itwn1+vGQNqrN3+9n5I8fxFver//a35yHv+az/E5eonDX/P5/xWf+VXCcn/tFnnnSGQYwegwciUNsimCK9XY35xFOjSEXEmPQvwNhqaeg+ycQnIYW+sWbBTGkBbxHuVNdo21StcADo89WGWNPTCIwwMraikV0tkJXF+y74JPxHsOVhXhm43aJNLpCRFeq1V1IspE4NHFiQcFbz+SSa2grCPudwI+be/Nop4bRyGjw8f3EdwdWVEuaxWQ7pIJnQ0DCH49PPajvawVSfV204XNGlHRWlyduVGIvkMkNYHmhh2XTTcWKhM4OWVvhSDWshqEAwOoL81gpTqBYBdv0tlySUfqhboehwdufLz2Ym9tAtFAP+bmRtFu2JCOq7CzawXtEPT3KZvGul5aix8f+0U/o8FeH4dubC0asL1rE/As+zDsLuoQj43hpOUQka/5uh7tNerERPHh3IX93VlU8mOIRSmf7cFaeRTpzCRuLn2oFUZQm9djKT2KAAWPtiyop1RIZqakPTnR7gurs7KZ0KF44nC+bwJBfNVFIzaWCE4exu6BC3vLGgS9/dhrOLBWnkQqqhZRo+USBY20WJ4fRcDTL3Xkeply1uPSQ4L3qJZMssD5Rr9aHIE/MIy1TTMuTuljU2i32CI+hM7urIh4bexQbNCJ95cetPZMeLiNiNZEs+3E2bYDh1sUBRwW9dzLU49I8XODWimOIeh9h8K8Dlc3AVw3XDjYmMZpxyWAtzbnYEGL7Q0LVgqTCi2awbCbtNIG3AQaK5PCAGk3bUhSFXNlBsH4aznqXggPojRvxtHeDKLhfukt8/v3cyjEVNjec+G0MYu1il7mcnfJiJXVGZxLwzwlEHzk8X91DLnMlLAMSimqjOqxt6EV8bKVFTM6W260GzOorMxIsDvfs+Nw24XOoQ3NXQvyosKsxeWRC/ORYawuzqCaUCHg60d9YQa3x0FcnNhxdOBAcm4A80vTON4nI4JragzXHbco0J5fKEGHGyjZZXPuPiRjo1KeOWvasLIwjU3KeAcGUFyYVnoKHTuQ8Q4gxLbwDRvK8RHMRUfFX89O7NitTaNeMeOSKpuXLixWJgT4ypJiY31G6tEsycwn1AhGRnDcdKJCBllRLz2nOAe9BIZB8f5wFu9U/ztCSY0IoZHpsLowhYx/QJhpPPXKREdQW1K0NtiPLBUawtllSEqZAV8f1hoONOoTSCY0IEOOOKvl9VlRFaYII4+iKwUVwqERKYtRd+ThwoGDrWm0227R0uhs2bBfn8VuzYhIYhiHxA5JE1AlmaBEAjfPO/aYWjYjFnqFg0M/Pl17UcupUCjqpedUIkzGjAO7a1PIpCek31o6PoDKgg7rexQPVBIhimhdHlkRn+sXTEfQ1Y8c+8IsTGAuOCC9ebY2rcLcWapr0dwxohjXoFw24pR9xM4dIIOFGlS//BQTEdD9ukUwWhz/8WlANhzx/W7yx/HfHrvQXHWgtTGB8Fw/TppOxCJjYO+3ocHfYL4yg/19m7zpUvCOXaZ3V7UCxF8pDiE4p8bOllVKSYx3gtl5mMNmZQq7mxbUC1M4bFLIbAQLVb2UiQLeASzVdMgkBpDJTKK57xBRPgqTbqwZ5FR0/8CG7S0rbi8COGuZ0Niaxt1NCJ+uvGB/rOayRZR7U/M6eenjszDx6L0U8jTudNeB9cQYZsafY2d1CkNjX2Nrz4n5lArrqxaEvd9hwt6PrflJ5KJq5GMTWK3ohT26VZvG0uYszk69qKTGcNDkaW5Q1ulF24H5rA63NyE8nLlwsEvxSJfsZ/sbOqSTY2iyXNLiiT377DhQz48gm9dK6VTiTjcGMdl4f+6R9eEPjQjgupih0rMKuSU9zrbNCHsHsbdvQy3P9g3TkpzyGv9/++/XCcuVG9sLw7BYXyKb0MDlfY58zYhyuh95gqi8alSzw5ibe40UqUfBfugNLxDyv4VX9xxrm0ozt59uA7Jx+mNjWFwzI5+eRDE7gOXqKALmb6E3v8LxWQg/3/kQtHwPq3NAGnhtlMcwOfhb1JcsiJt/i7ev/jdkFy24O7GDjJUF3whCjmFRK/WH3oo8dShMmfIhfPiYwE3TALf9O3jsfXClNAj7R7FSm0Qqo0K9YEQ2OoD57AB0ht/COtMHNmerFvqRK2hRCWtR9g1idOYVdo8D+Pneh5JTg+1Vg0gDO3z9WK5pEbG9xXxgCgHnS1jjGqR8gwh7XyGTU2N1QYtqzYxc4AWmZ14gEBqEw98vAM+EdwA7a0YY1b9BIjuDP/4Uw0F9CiF3n+BD8sk+6A1vccxmi8sTmBr7B1COuLmiQyL1DmnrsCilri1Ookypfe8bzJheYXnDAjI8xtTfSb8n46TCdNlcNiCb12CpOoVYQYcfqD5ZUkGnf4bZxOSjbgvLEQfLozAZvoU3NIREbAAW83NRitxYYO8bDeplI9JO9lN6iWJyGNNT32LW9gb1FSMyyXFRlE1HJvHAOiUlriefwTs7ho/ULrjxoTanQpwS9Wm19JWZ0T/D7p4bv3wIIhZ5h1rdgJSrH0HvoEjiRxPD+PRDEu1NLZYaFhyVLVjOjChz6x9EKv4OE/pnsJmHJDnNZwZETdXhfQefYRi1vErsQ+zDfGEKuYgaVs9rOGdeYLvhws+k2C1NoVDSKw3eTuwI2AZwejmHaroP1UUdUp5BmINkgoygmDdgPjMEt/97+BOj8qb36cKFdHFSWklQ/+NwTYuwuw+hsAYP98pRtnJyEsL5lgFTIwSJvkLMPYSFvEHe3tlDI5MeRSk9JXLxfscLzCa1+OXHGJqkEc7b0dw3YKE8CffMS3h9Q5hz90On+x5+Vx8a6wakSxPYLWjhnemDf64fwUg/Sqz/BwYkgZwPjcBseY2b2xAWchMK2r77hvbhzo95rxrr1RksLozBx/4hnkFUSgPYWJtGKj6BD+8jOF0zoRTUYmV5HKXsGEIu4rQm4Am+Qq08CLvuFbJuDcJUN2b7gO1ZzLvGsL8xg2njbzBrfoOYfwQhtxpLNQ2CCTWWkkMYHfgOhydB/HgXxEaVrQvY2C6M98dWmAOv0W5YEQ/1IxobRSHYj2JsHMUigXvPpKeMbXYIl9dhaVpXTurx+5+jWE2MIpkcRWJxGo36FMaHv0KpbkOjqpGeQZQJn7W8gifwFvbQO6wt6BGyDyDgGUTI/T1KOZW8mNSW9FiMTqHsmUQtpBa58dWmF79/mMP+sh7ZhBqVxRkpsUop58GPVOgNTi7C+OnGh/nkMEZHniESVcPGHi/zE5jWfAun9RUS0XeY9b3FzVVIMGA8aeCb66eHIMo+MsRsuL10oeBUY3fZDI/vHRZr9Mk+6fPlCwwI8LM+P4CA7R0i9hEwAZhzP5c+On5fHxbZeJXj9yrjnzK/wgYZbzx1qOtk/LW6SeQo5DSDp3bnDizlB+GwP8OM+TV81n7YQ8O47I6TJwsnDbO07XAanqO6Oo2lQh9yWa1QWUsRNWb1z7DR9OCXj3MoR1WwuF/DPfsGjR0rCuE3mJj8Vph16cQUNhfVcCdVWElpMEeGV2wUdvNrxFN9WCyOIVwgHkQtjJ1Q8BVyybeIxtWiHVTKT6E2N4W0/y20/lE5FSImiyrO2cQoWkdeweN9+iGCk9VppF0kB7CNiBrrmxYUfK9hnHiLSLIP5Q0TCpbvsVibRtIxhINdK0wTX6FUNIsK+I8fw9gpT2Bt1Sql/7VyP6Lhd5gd68MNWwscW1CtjKLTdKGaHYdl6js4bS8RdQ4gNNMPt/e14Ijq2WEM9X+N7aZPYAy73Rj0cBvGw6EFbtMglpem4PS+gMX/DnubBnjjfQi4R9A49GE9PYyJiWfSSuP4bE6qBH+uc/NfPYH5s4TFhc3yEDzBYXy6iyCTeYOVPTuq2QHko+zrYcRWXY18Zhi+yIhwy00zL1AsTiBpfYPjE6XWdbprhM/6Fm5Pn0jI53lqsDomMvZR9yAiSRWOToP48cYr9NxIcghLC5PwGr+FRv0MmZxW+oDYp79GLst+BkMIsN+H6R0i/mFpzJR6r6ioAAAgAElEQVTKqIVuF42zgdkU7u5jQhetVcdFQjtR1UuTvHBgUD7vdw0j5H+FTEIFl+0FgsERFBg4F9h1cgYFVz/clgFk6nrstH348c6HakCLDrtPL4zD4elDZG4YxbQa7rEXyFZ0yNR0yMfHsVhUo1IZFxDv1pYDa/lB6fNCejeDDfuiFFJqRKwvoFH9FsmM0pX6pzsfzONfYXWLXVfV0iCxXpyE0/EM6vHfIDqvxVJWDX+8D0nLAGzTz+B2vRC6uc/zCmZDn/Rdsc48h2bkBVLxcdimnyMS1+CUXTvrBgGX+d2D2Fg3oZpUI+AfRLQ6jd1Vo2zeLOk0Fibhd/ejWB5HlMywmdeYc42gkJqQJnVLCwbEE4OIU9q9rIF9+jkCc6MCYq6QTrlDdP470WepFdUIuQeQ92vx4SNpvSZkIlNY2TIjEOmDzdGP1XmtnFL88UNI6H9e/4A088sk2P9oFLncCH74mMTxtk6YAEnbMIqJYXhs38Li4omfCjPTLxDjid4JWySMSqfYZGEcJd+kINxtM99i2vIa0dQkytlJ7FHPgR1Pd9jFNITOPmX2rbLhfLxwI+J4i8KCEbUsG7n1IRwchiPyFuzLxOdJREYQTfUhUzcK8v93Nz5kY2ocHgfkuPfnBz+sU79Facmm9MtpzqJW0wvQ86ZpgUX3HYIRtfRoiQUHpfdSYm4U22tmQeq7xr5HtqJFus6+NVEc1Q2I2VWS0FGHyDn9EgH3a+lFMmt4IWvkrG2RTaNdMSIfmkChOIpMZgT+YL+wNKLudwgEVKgvstEctRUmJRgvVdlZeQ6/+xjCRkKLo10X5lzPEYtPYWNhCpX5YQGplrJTeM++N2tmLGfMaO4ZpJNsYPotErERZDIDsFifYblgRs0/juLcBAo5FTabDmxEdDhvOxF0PIfLNYiVhSn4p99KE8tIoA827TfQqF+gdaS0zThqmEXzhyWKT5duOBwvsNv0Ih38Hv6cEYfzavhsfdJINJ8ehnH6JZLJSdyxBn5iRzY+httLL1JBjTC/UuUpeEwvMKb6DsmsXtpMeJOjSAffYdbah2pRA4v3e0QiKmQSY8gmJ1HLD6FaVsNjfwHj7CsEXOOougfhnOlDblmP9X2PsIhOCVBdm8E+uw5LGYtJlx8R57dI53VYq0zCqP0OYyMvUS4b4Lc/w1x4ED7LK/gDKlRKaviyavzIppU3AaxUxnF45MXPLEEk2CRTjYOmHetxPToNJ/z+NwjNDaFQ0OFobRLjxrd4uHLAbPxHLORNqM2NIZWeRDU/KONnfDNaXiPonkDFNQCXuV/Gv3ngwY/3QVCCneM/2HdI6YUJy8MltUIGkUtqkI/3wWRhT6wpOB3vsLHtesRFnW0bYNC+wCrByJlRVHNabK2bkJ0bgs3Sh+X6JLb33fjD+wCqeZ5oUkNJh3J2WBhfBv33OGw5UJs3o7U1gWnXayEFZENDsFn7sLKsxcbmLBajgzAGyDRkI9gplHMDyCXewGp6DqPtLSpVI+amXiCZm0CiahSQO3Ehu+szIMtTOqlTnO0hhFZVi3Jcj58/+BFLjiATU8Gk+S2m9f0oFtQIpcZQcL1Be9+BLFmOVSNCjjdC275jifh9SJofUvPkjx8jSPu+hj8yhuWIXpK5D6c2JEKvkI6pEYmMCqvGExjAfHwcpeAEikW1NOE0ab/FyNBzbO578eM9Tzi7MYg+fGyDW/caZCYmEoPw5UZx3jLDmxxAJjgiOjJLuTGYjM8RT09gf82I5YpByqb/1ZOUL5/vVwnLdceGq2MnLk99UhPtUNzqzCct2M+ILD70CLuCR7Kbi0acnnqkdwqPAylkRAYO6/PrlVFE0mySNizdnS/P/Lg7d+Nw14Lrjh+35x757Psrv6CCKVR2sEPGhRErSya09+wiQsMunqd7Fsy5B7FY0SM8NyybzOr8lLQGP2nznn45Jr+/npMukBcdN3jdzqkPN4c2rNSnsZHVIhkYRSWtRjE2LWj2es0gAkxsMc426+wNdHXsFYVOtmvnG89Fi+JLPmn17nG/Riqnl/ud7dtxd+HHyZFL2tXzfleUye94xXYfyGOv6XC4Z0XQ/xaJjBa31yEc785gqWrA2bHSpfThzIH5vAa3VwTpeQQv0Nyx4GDDjOX6tPTdWF7QYnefCHULlqo6tNsuQYg31oxYqk3LePbX9Fitm0T4ikwk2vD2wo+zY0V0ap9vi4tGHDbsEqAuT90opfkW4hP56+OGVTrp3px50N41Y6miR3PXKiDkuwsyVuw4PlSYAncXlMs2Yamu3JvsK9ZqKX7G1uQ8Or4ni6DtkU2RvWyODt24OffKsTCZGHenHlydkZ0wB859lbo9p5QC98rcEYBJcPD9mUfomKRn5wo67KwasLZiESzB7ooBK2uzuKcPnSioefYwuT8hk8sp7JTtDavCbDp04+4yiJsTt9yXYEoB33YxEMQqnB9YsFDS4vLch7XaFA5aLlCs7PbSj+2aFo1dF67PXCKuRawF6/MsOaRzOikvfbhwYT4/hqsLRZ1yb4lCbDOC7aB9TvbNqFeMuL0KiIBStazD/p4T9xd+YeF0uj7VOfY82mV1QYdC7B3K5XFsL00Lap+18N2aDhvrNtxf+nBOAPSxF3dnARHkol+uVbXYa7nA/lpXpz7cXnixXdciX53B0Zoe8wtGwUYQCH5FjMKpTxKU3lric9+c++SIXkoep15cHHplLXR2ZuDSvcQK2SnnXhwdO3F/6sPpgQu3p8QleXF17sNly417+jV7ztQM4jMe/Uvp2vzh0o+NJR021iwyL5wPvr0Tr8DgxHLV0aYZjR0blgrjOLqYw0FpBE5rn2AqWIrZqOuxtmkRTAXLt4vZUdGJOj504/bSJ8f4rc1prNRN0rtscUGLZsst4F/qHbV2ZmBzfodSzYxbrl+qzV55ZR1vLeulKzGf+ezAhssjDy4JajzjZxTfIbaE5c5eMOW8UAiMp7ZkXu2tGbCxapGO2PWKXppaXh5aUK9QyNCFkyMybubw/tyJXGIUF+cKBunhyiN9n3Z3Hbg+9uLjhQ8B72uJIXd3YbSXiamw4NOtH+22A/fnfpweOOWEWsZ/4sLmEhv6mUEwZS+usYxKcsBfGj8TlvszN5YXpnBywr4wXlFrZS+co20TtjftCjiX5aMTN06abjxc+XCwPYvOkVdELjsHDpGrvznjGvOLXDtjA9smkIVHQbS1qh5s7kgfvToLoLU5AaPtFRr7Ltx23Dg75LXcuL4IChbs6swrbS2EbXruFp0ZxsDWnlPiJft53Z37Za+QeegCwjk3PawFn43r/vzQA9KqT9pOXBy7sLaow86WHfenHqzXjbLn3J77cN5ygn3Nbs78OGzYBLpwuWdCKjIuyfHH66C0Abm68OGq5VbagVwHsLvKUtcYXOkJnB2zz5IOR/su3J8RfOrF1akHuyt6rC2bQQHV3jzwFJZ+wKTbo3uBhdoM7i98ODp0ggkY+8LdnThRLUzi9NQHivOtrc4qvagYz7vlxJ4f/lf/+auE5erEKsGyBzpj4BCAYVdljsApbjIEXjExESBVFwDIz3ISaDD2MejVpOkwvJ787PZt4fd6n5V/dxkbPVAaAxfruryXAIK6tUkBw3bl+jmuz+PrBg6Cs7rAIzqWwpYJ4+GCvTUU0CAXeA/U+gjU7F2ri8AXcKsEJmXcvBeZIgIe42d7DIHHzyv35TPKQulKDxN0yMSBtuDvSRcmUJT2oJ3omDcXpMd9/j4dmAtOPtcFsD72ASF4t8sc4jX5GY5VbE02idTXFQCzLIjufXpz8Tjua25uCmNCAaYqgDnZiAlOJhBRAIqf0egKKJH//xlE++U9WBcnaLU3PgJleVzZm0M+ozKvCjuD1+G96Us9m4gviC24cSlgTwHlkcV1+VkumrYTsG0XBCc+KbbvMj+6/WZ4ksJrynWFFqyM/58tagFYKs9NGxCMyc2IPshx034CGO6C5wjS5TU4pxKUGfC/mEv+jYkeE7fevXo+J/PVBTMrtlJUnR/npssWY6IggFgCX6/83X8rYDuCbgmIVcbQtSefU4B8ytrk+On/fHauEzZy5AsF/f/h8vO4hCVC33xc67SXAvDmd3mPL/2TfZu4CRGAK3PajQe8jti5uwZk/rubOzEFHwSMr4Cl+b0egLpnny9/cq6ZEBIvcNNR1sfduU8B7XeTTAEhd+dfTjkufLgQxpgC2BRf7tm5y2aUBOMxlgRkTfM5+NnHsbO9QxcQLM/UtaF85l9iQj4SDbgmlb49j2tO+gMpDDyyHRRfV+Ibn5mgZiax9AuxQTd2cKxcG/w9MRy8HuMG1bB7TLNH/+nOnTJPX4yfPvFXjl/8TYgRXUaixBqFEEDf55xwfLxHLxawlPUY23vMqy6YlGtEbNpdd/x3by0zbvB7XCMPbBFy/xnMy+tLbOh+Rrk+76sAomlfKbXSr7+Iw1/6z5//m3bkXPIZxM8f44Oyvjnfkjh0+5Txuhyv/GTC0/FI4s/f8bke10o3YeXvOD+cWwHM3/TiN+ewu34kjihA7Me5/gKDwu+x+SjBtbQBAcePP+WURwH7K8Ddnr2UGPDnz/tf+f//WcLy/8bDitN1J+MvTc7feg9ej9/58rp/yzU4ht44ej//lu/zswxYf+t3/prv9Z7t77n2v+c7/1/d9+8d8987b3/v/f7a7zGI9T77pU3/Xl/tXevzTwbwz/f4/PvuBvdF0PvX/ibjEZbZ57Xwr33+X/sbN4B/7e//0t/+nu/1vvM4/n/hefn3v3WN/q2f/5ee69/7+39rfr8c579lh3/vWP4jv//3zNl/5Ph69/pbxvlvzWXvmn/pZ8/X/9Lfnn6nxLv/JQnLk3H/ts3kyV5P9nrygScfePKBJx948oF/3QeeEpZ/4Y3tyXH+dcd5ss+TfZ584MkHnnzgyQf+I33gKWF5Slj+ruP9/0gnfbrXU1B88oEnH3jygScfeEpYnhKWp4TlyQeefODJB5584MkH/tP7wF9MWN6z58H7iMiD/3uEaShlTMroQw8B/+QQ/+kd4ukt5ukt5skHnnzgyQeefOA/ow/8s4SFScbVxgyOipO42HXi4wcmLnOSeJDzTfVSJiHvSVHm75mUkILHJIeNzcgg6Dauu9jQoxlVSbfej6Tzdv/+gf0m5LoK7Y4UVtEk6PXqIN1VrhdVrs3+GB+jCs2vS2V7fz+nqDRKEzPl3x9I9ZQ+LBwfxxx6HPt/RuM/jekpKDz5wJMPPPnAkw88+cBf5wO/SliuLxy4Wtdh29WHTk2HzqoJJzUDrtsOnC7PKD0z4iqcbdlxuTmD8z0XLtamcd5w4mJJh1ZMjetjnyQxd81ZrI7/N+x61bjpBHC1YUQzrsbVoRtn1Qm0kmO4pNhQw4r3D1HcHVtxsW+TxIUJ0cWKHnvBAZxTFGnbiFZsBJdtFy43baIuebVlx8WeVboG33asuGxYcbFuxYcforjdd+Biy4LOmlFatnfWFAntJ6f465ziyU5PdnrygScfePKBJx/4z+YDv0pYbm4caAeGcLTuwk+/pPDpxyjOSxrUJ77GedOBZuAFNkwvsWV7i1ZhBKuW51gZ/RqtkgVXO3psjH2FRtyATz/HcVmZxJZHg/NFLfbiWlwfmLFt+H/Ye+voqrKs3fv7/7t3fON97327u4qqoqoaT6guwd2DQyDE3XAPFgJRQoi7nLgbUQgOwV0KiOBOkEDc7feNtc85IVRT0g1VFM0+Y+yx99l77SVzzbPmc9Z65lz9cTPTQuEzh61zBuC7eipb9L9nm8kYPOcPw3vDVCnUcEKMBb4rx+O5YDg+G6YRuU0Ht1mauC8ch7fhSDytx7Blxmh810zE3XgUW42+xXfNFNwmfMu2+WPwNBmH//p5BNuNxmHy94T6Gn10EQH/bIom10ce/GQdkHVA1gFZB95GB14DLIpwA8I2TWaL0QhCnWYTumUeQaun4DTrBwKd5uJjNRiXOYPxXToJv01T8d0wHR/rcfgsmoS78Xc4T+qPu9VUElPmE+2lg4fJSHxXTcB3lRZbDX7AZeo/cJk3jlC3mbjP+R7f1Vp42IzE02Q0znO/x3fzdBLi5xO1bTZuukPxXjgcz0Vj8TAahvOM/myxHo23yRh8lk5i65yx+K6ZhIfNeDytBuBrNxkPnRFssxyM8/ShBKyfS9CycTjNHkygq660RPQ2gpLflX9osg7IOiDrgKwDsg68Px14DbBIofmjLQjdOA3fZRMJcdEhbIuOtKdLiNMcYkJNCVylRYijDooAQ2LEfi8BRijEviubphOwehrh3mI2w0ICCOHO0/Czm0ZslCVhjjMJWDWFsG36hNhPw3/VFCIDTQjZMBn/ldOI8NND4W8okX0D7cay1WocAUvG4mE1ntAt2gTaTSHMWw+Fp6G0JBTpZUiEr74Utjo6xIDIAEOCV03Cf+10FN5GRHjoEuauS3SwISHOc6W9aWRFe3+KJstelr2sA7IOyDog68Db6MA/ARaRWbzYt0Ls/yGRa5V7Bym9fSyU9wXhVbUfkHQW+4io3olT7SEj5SPItXHWkmeMmmgr8ulMK8Jpx9qQEG/dSaAV74l9Q+IkYq61BJKU1zYSyVcQgIXXkSDVSkRdNelW7BcRbyOVJ+og0qnTSHVX7YXxNsKS35V/bLIOyDog64CsA7IOvB8d6AQsewq8CfSagphlee+H2DU6SFWPYN33X58/g0zkOsh68Bt1IDxQR5bVb5TVex/r5HrKuirrwG/WAQmwNDY2c/fOJS5f2k3R5f3yIctA1oEPWAeuXNrD1cv75D78gPtQHodlOyTrwD/rgARYmpvbuHAul505buzZ6S0fsgxkHfhAdaAgbytlj29w8mgSu/K2yv34gfajPA7LdkjWgX/Wgc4lob27fAn2mY4iWF8+ZBnIOvCB6kCovzalxUfYnrqeMP85cj9+oP34MY/DkXKfyb/bn9GBTsByYG+QtI4kk4neD5lIlrss93ehA5EhBlwvPU5u5maiQgzlrSDk7UA+KB1IEJHSIyxIibUmXjhlCGcKhbhnrrwWThbC6UL1TJw7n6muhSOIeE88Uz9/F78tOY/3P0bLgEUe0D6oAU0eNH550JAByy/LR9afP6l8FBYkR5qxaP5obMyHoW88jJBgM0L9jYiKsCAhygJFoBHB/obEiDE73IxQP0Oiwy1IibMm3N+AiFAL0hJsiA4yIsDHgKhQExQhpvL49h9k42TA8h/UmfJg/CcdjP9AHZMBi6wDH+o4EK8wJ9BHH4dloxgyrBfbvPXRn6nJgFF9cdwwmSEjejJ9TB8szCZiOK8PYydoMnP2MBxWT2LquP7MnDaA9asmMXNcf2wXT8Ju6QisFkwgKdZGBi1/4Bj0e+qfDFj+Qzry91QSOe8PxwjKgOXD6Sv5d/V6X4nlm+hQIxxXjmXEeE3MjQcwdYoGQ4d8hZnJYL6f0J/Fc39Ae+pQtCZ3x3zJRCZ914PvB36B/uJpmM38mm5f/zdj9caQn76QUD99gvyN5GWh/yAbJwOW/6DOlAfA1wfAj1EeHytgiVOYIR8fsAwizUmKMGbpghEstR3BTN1BrFo4gjmTv0Fb+3tWrRjHTIMhrLUaySLLCUwa/Rd+GNkbE5vxeGycwsyJ/dGbMxy3TdPRmdQf64UTWLNsONYLx0tLRrJufMC6ofpti/FcBiwyYJGnS/+DdOBjBCwx4eYE+xoS6K0nLSmIZQX5+PBkEOSjj5+HDtvc5hLib4QiyAj/bboSHyXY14AQPwOC/QyIDNTHQEcD2xXTiQoxJkJKN09Kpwg2JthbF093HaUOyDrxp/gtBIhtdYJNCQswItBbH9HXv/UQv+UQfwPJTsmA5T/IWH2MMwpym1+fVfrYAEucwpQQf2v27N7F2bMnOXny6D8dp04e49Qb7r8p7W+59y7z+i3lqdP8O+W+67ar6/Iuz13bderUMU6rDlGG+lpqx6ljiOcnTx7j4oXTnD97vLOvRTrls6PSWf1dfe+31rdrXX7rO+p0b/OuOo93df4tdfktad5Vfc6dPU14mC852clS/x07WkjX4+jRQk6eOMrxY6/fF2lOnDjK7t07CA+aL8+wyAbvdYMny+PDlsfHB1hMCPaz5tGjp3T9tLdDRweIs/qjvifuv3aoEnSo3nnt2c+l/en9X/netR6iuJ+tS5d8pGr9pA3qtohz1/p2zV+d90/vqd9t71LGL7ZVlN2hfkt5Vuf9c++pU7+WTn1Tde76rGv+6nq96Z4oT/35ubLf5v5PZfXTvDrr9DOy63wu+vZn0vw0z87vqoZ1fv9X3/9J+t9Sl99Tlm9qhygvOTmVkpJr0m9PRNdXHy0tbbQ0N/OysoL6phZaW9toanr1vK2tnSfPKgkJWCYDFtlAf9gGWu6/1/vvYwUs9x88ouLhHXbtKuDO0wrU9q29vZGdiQpydp6ltb0dCb90tNPY2CiN2e3tbTTW1vD07lPaaKe+vp76+jrq6xvUYzrtbS00tbRJ3+tf3OX4sQO0As3NTUqD3tEuDbDKF9ppkPIQ+bw6mppbePHwNlnZ2Vy9U9ZZv5aWVlqaW2huVg7UUh4dHTQ31PK07B4tbR20tLZy+/I5jp4v4c7D2zwue8DVH0ulOoj0LS3N0mtP7p7hTNFVZTWAtsZKkqM8OHzhGq0N1ZwsPM3L+hYaG5T1qquro7FJ+W5raxPNzaJV0NTY0Fl3YUjuFJ0hO3cHj1/UqfLuoFWqdzOtXerd0d5GXU0Fd5+XI66l9jc0Ulf5gmvX7vPw/k1Kbt3rrF+zquzTl05w7Wll5/2qslt4hIRQVFZJW3OjlE9DYzMtTTVkpEWy7+SlzrRtLS0qUNohGTr1g+amRkT7xNGs6rsO0Y+qNra3tdHSpuxT0Y/i8/B+MYeLbwooSHNLM80tyv7t6Gijpamee2VPaW5tp7GzXxsQxrappQnaGjh45jjPGqGjtZnm1ld5t6mUsbmpqbOuog/qRD4NjTTUVfL0yUNJP1tbWxFyEec2FYpqbWmSyhV1FH0j2qSUbQPtHR10CH1W9am439ZcT9bOBC4/KJfaIt5ra2vubHtbewdP714gviBf0uuuevp7Xbe3t5OYmMjly5eluldWVlJRUUldfR1lDx9SUXYX/wRvSh9X8vjBPSqqqhBpxFFbW8v9B2WEBi6VAYts8F43eLI8Pmx5fJSAxd+Wsoe3SdriRXjyLqoam7l6djch0fE8qm3kwZmjZCr20dLWwv60eFJy9lJZUcn2lAQKCk9TfDKXxQZLyD34I41NTTQ2NNFYW8m+/HSiI6I5cvYGt4uPoIhJ4Oa182SnhrDv2EluPnhEYUEiCfkHKHv8gOy0eFKz9lJT34QwTg1qI9LQREvdc5KiPcnac4yHT8v58dBeFFEJ3Lp1g5KbRdy9W0xR6XkyoyPYsfs0966dYOl8I5LyT9FUV0FyciIPyp6T5hNBUkYCUZ6Z3Cy6SERIODfuPeN66TFcNi0k6+gpzp/YR3hsLhVNbVw9nMCO/Yckw3VsZw4Fhy8iQJowTE1NTbwou0V0ZAQ/lpZx5/ppFHHJ3CurpqmpkcbmVl48KMYrJJSjpy9Q/rKc/XkJJOTuofj2NYrv3KHoVimXL18kIsKfkyV3OLUzAYMVqzh6oVTKv7Glg+qH5wiLCCQxOpj0PXlcPLGbsMQ0yl6Wc2x3JgscNnLx9hP2JcWSnV+IACFJOfHsL3kILU2SUReAKjfeCctli7ly/SmXr55EERXCmaIbnCjMIDpxFzeuXyA9MZa4lChuPiqnpVmAsBYe3LpIQnQoe05epezeNZJiothz7Aw3z58mIjSCO49ecLv4PJsc7QjOO8C94vvcLr7J3TtlHDmQTErOYR4XncFw/hLCcg5QI80ONFJf9ZziknO8fFbFrZs38InYiptfBLcelfPg4hkiQiK5c/cR5wqziApL5s7TFxzel0NE/A6e19bT1NBAS2s7Fw4msXihJfuOX+bHc2cpe/KE82fOc+bsScIVkfx4rYy7F44SHhbFnScVKt1qoK6mkuKrl7l8pYSK6joaGpRAs7WpgcOndnGnvJp7pT+iiIzgyJkblJddJSIsgkvXn1P1/Ba7Th2hsalVCX46QdgrkP0uwcubAEttQwN3L5/Cz3ELKSl5+KX6EhUViIujF1evlVFfXyMDFtkgf9gGWe6/X+6/jxKw+Fnz4MFDHt29SUxMHAcO7WWb4zIcXNw4cecZlSWX2Jd5lofXTrHUZgk+IVEc2J1CZFo+DY1NPLt5HsWWSMpqBMhooKGplbond/FcZofd2oUo/PaRnxHPfEsbklN2sMXBkKDcozwsOsKyRQvZEh7L/pydRAZncK3kDpXVdVRVVVFbpxz8RX7Vj68QEegvzaw0ld8kOHkXZw9mExnuRvbBPA4eTCM0JoDguFgi0+K5dL2YeMVW7r5o5OW9M+wo3EtrUx15oVkcOnqEPRlJ+CTukMBJZMAWkuLy2LU3icTUYNavW8ymLYGUvGjh/oVcDhw7Ls0gVNy/QNbuAppakYyUAC6X9uex3HYB3tsyOH+qkG0uQVwuuScZejExUXyuAP/s3dL7t48XUrD9AHl7MrEPCabg9HESC1JQBCQRrUgiLnIPJUUncEtIo7ZeKcum1g6e3DzN9oxYjh45SFJCDPkpBzhwfDebvJ3Ys28nsTmpRCUlsWjRavx9ExDv5O3fztFbT5WApb6e5tYOrp5KIywpGjHbEhARQt6JHzl7dBcZu/M5vPMgW7fY47DKnnWrFnDoSpFq3Q12FyQQl5dLbsF+ctOCSc4p4G7JKYKSdnLuaAEx4VtJzUlj+65cAhNTKIgv5GD2XhIC4omPSeZlXSON5XdxDYim5FEFjQ2NEohqb3hJalY8sSHRJOZkEJAYQ1xGMgkFWWzb7IiDgxtH9h0gItKdc0WlFF8oYOnyRWz2CKFYmj1qoqmlnUelR1Eo/KhubEWWV5kAACAASURBVOLcwV3ERCWwv/AoaaGp5O44QF5KKp4OG9ns6MzxS9el2RcBJquf3mbN8vnMX2DPtUdViJkYATLq6uppl6Z12slXJJKWsYeC7dnEBoZy5OIN6qWZtRY62tqk63cJTH4urzcBlta2FrJiIkndd5Xml/dwj3QhJSsNL3dXsgqO0djcJAMW2eD9ssGT5fNhy+ejBCz+tjy8e4fjhXsI9/fk5IkT5GaEo4hLobyqmj2RgWxe701JyVWivL3JzD3G0wc3CQrwZ8eB4zTXVZCm8CN95xmampuktfWaZ4/JV6STvSOO/ZmniIoIZYuzF7tz9nP8cAq56dmcOHeayFAPsncd4NrpSxw5UCoZ9o6WKra62nO4+DEdrWKGoIG25jr2ZKfhFRzJ5dLr5KSl4OcXwo9XLhEb6YNbQCg5B/dxrKiYfccPcPtlFfszQkjYfpiaF/dIzt5OxcsXHDpyjubmWk4fyicrKw8fL19OnDrLzsRYtvj7cOD4MVIUvsRn7aK6torEgA04bvWhqrmDW+cPkb/3CK3tHZJh6+ho4Uh6FJscnUjLPsjtojNs27Se/eeLaGtrk4BBfUUZGSGBKGJTuF5aTFpwAMHJ6Zw9ewxf5y14p2RyYMdprp4r5UDGcapqXhIS4sO+U6+Wpqru3+Ds+VLqKx+Rf3A3eTHR+EbGcfxsIbHB3jhHJ3P8/Cn8vL3YefwS1eUP2Lh5PV6pu2hsaZFmqhpb2im7c5q9JwoFS4Tsvfu5U9lKS/UTEuMC8I9OYv+xbLKTc8mIj+bCzRu0t7ZKZKWDe5JY7erK/rMXuHpqB5dv3IeOZvIz0/D28uPshYvkp4Wz2TeY3FPnyYr0ZatTAGdOXiEtMZDkzIO0tDSwJzmK8MydVDc009jQQHt7M/tys4mLSmDfrt0UnDvN+ZIr5J08TkFmAqExKdy6W8q+w1nUA3Xl9wn3dycpexdVdULPGqhvbKKptpyUCE9y91+A1uc4Oq7nXm0D2Z4BuLqHcqqohD1J0UTEpnDvSZU0+yV0qq6miuvXSigpuSGBZPUMixo0QBv7ImNx3LSNgxeucenUTnyDwrl8rUya/VKn+yPObwIstfUNPCg6S4CLC6mJacTkx7MnJx9Pl81k7z9KY6MMWGQXXtkr6j9aBz5KwOJnzd0796h8+YKyp+W0tHfQWFfN40ePqKmp5WX5c549f0ZtfSM1lS949PgZTS2tVFc8p+zpc2mWpaamiidPyjun1cUgLs22NDRIy0T1tRW8eFlJU6NYKmmhvr6Wmrp6aitf8PjJU+kftzBAjc3NlD8oJS0rk6dVta/4IA2NtDY3Uvb4kXL6vraKp8/LaW1rp6aigsrqWskQCf6LVG5jI/U1NTx58ozWtlZO7M7lwPmbCB6Gum6N9bU8efqMlrZ26qoreVlVI/E46mpe8ujxE2prayh//pznz1/QUPOSXRk7uF5WRUvTK45KY2Mdz8rLpX+zFS+e87T8pcRrUfJ4lByXproaHj18RF1jE1UvyymvrKG9tYWK5y+oFctnYlaqQdS7XjIyddUVPH18j4LcTFJTU9lx5Az1zc0St6ehqZnaqpc8La9AGLHKFy+pqW+gVeT34hllz14g+uL5s+c8L3+h5Hl0LleIcpR1V57rkPKrfMHzl2KGQYAbZRo1j6ijvYNDhTmkH72AIG928nMaGmmsr+6UX31VFRWV1bS0tlBd/YLKSpUsqyt4/PgpdUIP6qsoe/qUuvpX8qurrZUAaX19o1IO9UoZNDXUSX1dWVMr8aVEnzU2tVBbreqbzjbVS/pXW1XFi4oKThfkEpGwkzbayAtN51zRQ0QbGhtqJX2uqhFLP6plGwGEBS9L8LDU97rkKwBpYVIu+w8X0d7RLs3APC17zIuKmk45/hFgRZQh+johIZGSklIlGFb1o+BnVb4sp6K6RuJyNdTX8vSZ0EclUBX92dLSwpOnLwkNlEm3H7Txep/BkOSZmD/nTMzHClju3LknDYqCe6E06I2d/yIbGsV1o9JgCsAhwIBkWF5dizQCcIiz2iB0Gj/JGCvTvrqnMoyq/ESencawvqHTOErESrUREUZPlb/IR12PzrKFsVUBFmUbVGlURvh5RaVkFNXPXstDGGBVuxq6XEv1amqirqaaqspqiSgslgxEHtLxhjqpjb06zWvlqOQkninbogIRkoyUhlwQeRvqqii++iOXLl2i+NY96tV1E+37aR+ojJfIT5p1qFe2W90edT0EEVrURXxXn6XrLu+J+689a2igqrqK6rp6lexegQ2RTl1GV5kpr9XlvFmu6jqpy5POon6ibqr6KeXzproq9U+dh7oNTU0N3L91m4rqBgmAVFZUKUm5XfNT99tvOAs9rqoQS5NCJqK/le1V63fX8n/v6/b2DlJT4snP287Fi5c4e/Zs53H+/AXOnz/HuXPK48KFC5w79+r5hQsXKSwsJCxogUy6/VANrwiWFe4/nzC/BYT7zf/DjjDfBSgC5b05/qx68zEDFqU3hPC6aZIAg/jHLf6diX/vwhtHzFSIJZ+mlmZaWtskgCO8XZQGuoHW9npOZu7h3uMaJM8QlfdOc3Oz0jOji1eNKKulqZGmZqWXzY8XTrLn8h1puUIYbLGkIsoW5ba1iTo1vwIJv8HY/NSASMZVZax/+uy3fX9lnH9b+i6g5t+orzCOwj1VyKG15e3a/rb1lYDQW8nubWXx299vbmnpBL6NAmS/YebkX5GHEjS9Amn/yrvvMq3wTMpIjyM0xIvU1HSSk5N/85GamkZsbBQRwTYyYPmzGp6f1ish2lLaVl253boZIf42BKTNJHLPeOIOaZFQqEXkronEHtQi/tAkFDsnErFzIpG7JxK9ZyKK3ROJOzgJxa6JRO+dJD0Tz6P2TpLejVc9izmgerdgIhFvOCL3jsM3Wg9FkI1Un5/WU/7+fmdePk7AYsPDRw8pPbIPTy8fUvaf4GBhPj5B/pwvvs3unExCFLH8ePISxReuce1UERfP7Cfa15PkzD3UNjRL/8o7aGanTzj2zj4cPHyC08fPcu9OCQdPnZUAjlhGev6giDBff9z9Arhw4y47YsIIT8vm2KkjBMYlc2zncR7dvUGgqyO5+09SVHIev8CtbN97QrWU9NuN17s0GHJestzfpw68WhIqkTzWhIfabz3EkteTpy8ICZDdmj+IJaG4CDMCvPSIFrMqQcbSninBfrYknBlE3u2v2BTxN1aGf0rm7d54JX7ChoTPyb3Xm5w7vUm9/DXhp78i/ce/45XZnZSrXxN59CvpuUiTcuYrlnn/Bfv0z8kq7Yl/bneyH/Yh904vtt/oxc7Hfci715vcu70pKOtD7sMvCc+fRITffBmw/An5QB8lYPG35cnjO6R4r2eZnSfnL1/HNyqKi3fLKT57iPi8w5w6mEWQiwf7MvaSG55GckIQeQXZJOWlcf1ZvTRb0kETub5R7MnfzZ7cVAqPFBAWEcW54rsSZ6OtHYouH2TZCnsc17gSUpBGqMcmVqxZRkZ+DrpGy7hYep/DKRGsXudITsF+MrLTSTl4lqfPn7/GfXifxkMuWwYvf7QO/JR0W1FZJc0eSTFlRLyc+lpqa2qprq6hrq6W6holp6umukrioclxWP6ExuZNsxNxkZbEh+ijPakH6x20WbR8MiFh5oT6zyfuxDDSf+xF0IHerHH+BDu/L1jq/RmLPT7F71hfCu5q4pbwJb6FfXDa9jcmGH/K9hv9WB/QnejLmuQU9WXR5m547+/NhoBurA3rzmrHL/A/0JPIU33JvaXJav/PiTjcm6QLfVnm9RlZt3oRnjuFCFG+4v3OJrxJXh/7vY8VsDy+d4u4QB+ctzhTcLCQfacv8Ly+leaaStLio/ALS5O8XKIDPYhNyaVwbzR2G9ez58gp6hrFslADrW3NHE9Lxsvdnx+vv6T81lHWrfOmoQMpWJgIQHbvfjEZObvYn7uPXSf3EB4cSHxSFscuXmbf8ePk79lN6aXzhPuGcPzcLS5cvsCFO8+g/Y+Jd/FHGyK5PBn8/BYdeA2wiGCCL8tIDAnDzduXwCA/wuLzuH/7CsFeHqTvOsThnbvIzc9nx/FTiCVZGbB8QIAlOmAeK6wHsmD+aPRtJxGmAiyxR4eSc68feaV9WeDYDbek7mza/hWOad1x3NObXaV9WRncjbir/Uk91hMz+y/IKvsGF79ueO7sQ9rJHhh5f8bul98RvbsHVk6foW/y3xh6fk5asSY77vVn6bbP0Bj8/9J/6P/CdN3f2PmoN+G5U2XA8ifVn48WsNy9xfbYWHx9tpBRqIw70lBfJ3lgtDQL4mSTxGFpFq6uQMn5PA6dV0ZMVZNMBRlV8FuEp097SzWJimgOnSulXQ02BIelsYm21lbJm6StpZWmxiaapaivgjfTSnNjAyKqrUT+rauXBltx7zXyrYoToiZsvhrwG6QIq2qPD/H81TPZMMqy+HB14HXA0kRN2XX8XUPIiEsiQZGCn28qO3Zms2Xjepy3pnP7x73MnGJIyZM6mhvqZMDyofwTFzMsUX5zWL1kNC5rxvPD+O9QRFl1zrDkXO2Bke3/ZVXc30k82ZMFW7uxyP1TAk70I7+oDyuCuxFf0p+0473QX/E5WU++wc2vG1tzerPjRj+WOnbDo6AX63y74RD7JWYW/4Op22dEX9Ag65oGux9/w+Kt3TBd+zcKHn5D9u1ehOXIMyx/Vv35KAGLcGu+94Am4XZa9kwKQd6VpKoGBsL7o6riBS8rxHS00vtDDQrE91fXDdTVVlNZLaJnIIEQYSyF+644S+lUXhdKryLhXdQkBeJSpmmkuamOisoKye1UEG/V0WUbVGHvpTxqa6XpbnEtyJEicum9O3eprq2nvq6G6pp6pBDzatKr8HRpbu4EQz9nwAUo6+joeGvC5s/lL9//cIHD++q7nwIWsf1Ccmg6B3N3sStjD/Hxu4gO9mb1kvmE+CrYnp2Jl18gO09coFWeYfmAljIUFsSEGOLlPofoECPWr51KTKQFIX62xJ8eQsalr1ix7RPWhX1G9Pk++KZ8zsbEr8i51Y/8O31xjvscv6O9yCnqjVdeD7Kv9WaNbzcUF/uSd7cfKWd6stz7UxzSv2J7UR/C9/YgZN/XBB3uRc7NvmSW9mXHfQ12PtRg+7W+ZN/tQXjuZHmGRZ5h+VPwv+IUJgT723L/bimH4nfy4GU9Ioy7tPYtIpQKd9qmRpqbG2lrbaIwO5k9R69IQKReAIa6Rlpam6murqRGrJ+rwIEI43/zyim8/UM4VnxXevdlRaW0r4/a/Vl4CDXU1VJb30xd+SMKDp/kmYhR0t7K8X35HL1ymYuHj1NSdImdB48ggETFywqJwCv2qzmfn0/h/iKJhFjX2AwNLwnw9iL33G3am6vJ3ZXHvZc1rwBTUyNP793n+Ysa2lpbpABwoiFtLSovpoZGmhqqOZSbQVx6DpV1wj1WnqV5X0ZaLvcVsFMDlqKiYsmzTvw+y5+/4OWLl9JRXl7JyxdlXCst5lnZY+4/ekJDQy0Pyh5LcZAePX4ux2H5s/5L/qd6KSxIjLYiTmFBaqw1CQozBOk2Ys9Yki/+QFbxELZfHUzy2YGkXR5M5uXBJJ4eSPK5QSj2fsvW7H+QcmEQmVcGE73vW7xS/0HyxUEknhpI8vlBbC8aTOaPg0g6O5DUS4NIuziYlPMDiDnZj9iTfYk99eqIP9+DgNTJKAJkDss/9dOfAMR8lDMsYi+hRzdJdNqGvZMvRTeecX5HCqvsHTh76SQHjp7k+sUznL9wiSSFC6dKHlNWup8tmzeQsnMPd4uL8XFxYq13EC8bVDvFVj0m3i+Qogcvqa9+yc7sLHx8/Tmy9zDnCi9RcvIyp/cXEOy5CUVaFj8WFqBjs4S0wxeoLb9PZtJ26lqbSIuIIikxiqjATHbtS8HbM4Tjl0o5vScLVzt79uw6R36qN8s3OPOgupELZ4+w/ZTwpIArJ3eTVXCCtg7lpoxNLS08vXGVzOgEbj1+ytWThaSnp3Ox5FZnzBmx3n/hSB4um915VF5Hc5cgcbIBfWVAZVn8sbIQgCUpKYFjx07w9NlLHj58yuOy51IQx8ePn/G4TBzlPHtWQdmTcsrKyqVnZWXPefLkBVeu3iA0cLHs1vxnNDq/Vqf4SAFYbHD2ssY9yJStIeZ4R1ngHmjGlkAz6btnqDnuweb4RFngFW6OR6i59Mw9yByfaAv8oi3wilDe9wpTPzPDPUjkYYpHkDWhEb6EKfwJi/DrPCIiA/H2cUERbCaTbv8EAOWnuvKxApaH94rJCUrj6I6D7IzJJjrGm2WLTNlx5BSFe7ajSMjkSXUrJ/MDyT90mgtH48nek8fuPQp25GazyHYpCbvPSlFjxV41jRX3iXQNoOjhSyoflRCdnM+pw3tR+HiSFZlJWngiSZFBZO/LpiA/jEulpUTEplNW28TTkivszToJ7VUosnIpuXGZfNcYghMTOXnsCKE+4YSn57I3JYNMRSLOjssJjojjbnk1BbmpKPackXaVfnGjRNq7p6lDGUpfLDs11jwnLciHwgtFHEyLZt3atew8cl6K+SIFBmuo5/6Ny4RGBXLu9jPaVfvLyAb6jzXQsrxfl7fYGDt7eyx+XhaEBa34lw+xU3NMuIUMWH464H8I3+NVMyxxx4eQfbs3qed64Zn8d9Kv9yPrej9SzvUm8HBv0i/2wif/a+JP9yLqWC+yb/Yj55YGUQe/ljyJtu3qScKZnvgc6snO+5psL+1HZkk/0ku+ZseNMdTWVtNQLzbIauo8Otrh6JFDBPnoyoBFBizvfVlIuSRkw707N7h+toS7pTe5fu4KO3ZkEBOXyc1nlTwsvsSBU0W0Nb4kMcyHsLgMSq9d4Mada9y6eYH8XZmsdXHHzyuUp1WNNDfWS6TaG5dO4h8cwdnr9zhbuJuAkCTuPXrKrowYYpO3U1R0ntLbpZQUneRpRQ3H85NI3H2UprpnpCUkcv9JOSdKr0tE3msnf6TwYA4BiijuPn/GsYIsoqLjuXH3AccOZpGWW8CL50+ICvXHL1bMzrRz4kA2u44VdZJ+RVCxu5cucPHCdTrooK62hpoa4QZap+TWCEBTXU52ahz5+wqprH3Fu5EN6OsGVJbHHysPAVhysmIJC9AmNsLo3ziMpbHm/xEdJ4jzB/YGERE4770PQB8CYHjfdVQDltjjQ8m72wdHz78xTu8T0u70J/e2Bl6x3fHf35vNPn9F2/ovpP3Yl7XB3Um50Z+Ukz2xcPmUsOO9WbXtUxb7fcKSuC+I2t+L5KsaZJZokFbUg/xrY6iqLqempp7a2lqJaFhdXU1razuHC/cR5KsnAxYZsLz38UICLH7W3LlzX1pGkaLYtgmSq/RVIq2KpZT2thYpDkqHuN3RTnNzq7QjsfhadO4gfsEhpKVlU1Er9sZR7njbIkZZOmhuapLIs+K6paVZmv0Q74kouS3NIpqt2MulAbFBrthjR7xXevEYp4uUSztijG1pF3WSSpei3orIn+Ij5dcuqtQm/cakm0BD1XMOHDvGS2mPGpVxEV5KzS2IXW7FjruCrCsdalKudFbuL9PR3v7G/WVkQ/3HGmpZ3kp5vwIsb4cxZMDyJzQ6vwaIOgHLsaFk3exD6vFemG34nKTr/cm52pelXl8QX6RJ8rGerNzwKdsffIO9+6cEn9AgLPcLFoV152jN93hnfone5v9hosF/4ZTSk6wbmmQWvwIslVXPqa9rpLy8nFu3bkn/4sTgLAOWPy9p+6NcEpIAyz1aW//1WCfClVmE0G+oq5M2RFS7FL+NoVHnKfYWUpN4/9X8pDyaW2TS7GtgTAYb/6oe/VnSy4DlAwQavwZEfuvz1wDLrT5knOqF/vLPSLzRn5wrfVjo2Z2E0v6kn+jJ4hWfsP3RN2za8ikBhf3IONMLC5duhB4VMyzdWBH4KVqW/8XqsK/IvPk6YKmqfkFNdR379+8nPj5eAi3iX6IMWGTA8lt19fdO92qG5d8DLOoBXcxUqK/lswwMZB14tzogA5b3AFhiIsxJjrUmLd6G1Djr3206PCbcjPgoK2U58cpyUuNtSU+0JTHKAhGqX3gJxR4byvYbfci41BePzJ6klmqSc1MD9/Du+B/sS9aVvgRk9SDtYh9WeH1O/BVNcm/1J/JADym2isfO3sSf6U3QkV54Zv2d2B812N5lSaiyqpyqqloeP35MWVkZz549o7WljSOH9xMVZkxGog3xCguS42xIT7AlKdqSxBhr0hJsSY21IjZcbdgtUNc/IcqiM41ILzZxVBu1pDhrUuOsEHJOibchLVGZZ3SYOUnCS+o99Lm6bh/KWZ5hebcDrWy4ZHnKOvD2OiADlvdgvJIizbFfPYnFC8aybv0MYiOtJEMqAIxkuGNtJJCRJEBFpCUpcTYkR1uSHGctuSWnxFqTFGNFcowVqQm2JIpnsdZSOmGQxXW8wlwCK0Ees1hoM5o1q6dL6davGIutxSh8fUxIjjZ/BViu9yGzVJO8O5pkFGuw/bom8cd647mrN1k3Ncm79w3xh3sStLuX9D29SIPsG5rsfPANuTc12X5Nk9wbmuTc0pT4KyKPrhyWhoZmKZaF2KhK/Avt6IDC/buwMh6C7fyJKCIscLXTwtZyJJ5eBmyxn8gi2zFs2DSHhGgr4iMtSYw0Y+2yMdhajCbI3xTXDRNYYDUKj636klzEho4ChLmuncL6tdrER5qyZuFYFlmPws/XBJdV49A2GENSnLxL9K8BJxmwvP3gKhsoWYayDrxbHZABy3sALIkKMxwdZrJx5Rh+GPglbtsMWGw+DG39oUSEm7LU/AemTf0Ge1dd3O0moD39eza76LDMdBQujrNYsngUG+y0WL9xOvP1BrPZSZfNduPQ0xnAxs2zWGg1CA9vE1JirAj20sHLdQYjvuuGjfVwRozvg9GUfmhNHUJ6sq0UOE7MsEgclkt9Sb7cj+zrmqRf1ZCASeY1JTDJualJerEGObc1ySjSIKNEgxwBas70JfOaJlnXXgEVAVbUgGXnjXGUPXlA0dUSioqKpOPKlSs8ffqU9LRMhk76lpmj+zBHezAjRmhgYfAPBk/8Bh9PHeysB6IxtCeh4ZZEhVmwdc0oBo7pg6FWX6bPHEZokCFrLL5n4NDeRCqsCA9UbuhoMLYH3w8YSFK8Je6OszGc0IuJWsNJjzNh9LC/4+ghwJpF54zMrxnvj/G5DFje7UArGy5ZnrIOvL0OyIDlPQCWWIUlabEWbFg4gnGTv2Pt6gnMmNIXjX6fsH7jTPTGaTB4dE905k/ERm8gQ3/4kmn6I9D6xxeMHtWb74d+hbXpIPppfsqnf/kvTPWH8UOPT9Ga1JsJ2kMJ8NElPMRMWvpIS15IgMNEvh2qwTKrAYyd/gNbVo1g+BgNUhIXSIBFbH64/UpPlovQ+es/IfioiF6rSdS+nojlnpCcL1m87TNij/XCK6sHWbc0ybmmiXP0F1g7f8rqsC/x3/EV67P+TsG9/kpAo5phKbg5nnv3b3Fg/yEOHjwoHfv27aOkpITk5Ex0bCawTvcHhn37Jd9rDcDbeTK9hvUlLW0JGxcOYsKUAbg5zWLx/AnYzNNg/OzBuC4fxsgJ37IrbznGU3ujpTsab8epWJuPIizGFu+VYxg7fAgZGYtJi7HAaLYmOgajyMlciLGWJgvt5pAWaykDll/QfRmwvP3gKhsoWYayDrxbHZAByy8M2r/LP2sRbTbChDUrJrBx1XiGjOuD7uz+jB/VB61JfTE0GMTQob0ZPuJrpsz5geGjezB5kiZzjUYyc2gvDPUHM2FSH6yNf6D3dz0wmPktC2zGMWnk1+gaj2T1mqkstB7KNh9TUhNsCHGawud/+d9M1BuDr+MURo3vxYxRPdHVH0d6ko1ySej4UNKLepN7vz8OLp9gH9+T3Q80cQrqjuJUP9zDu2G84G+S989q7y+IudKfmL1fYeHxObuff4tT2GcYu/0VW7/P2Jb0d5KKXrk1C8By/8FtDhce5ciRI9Jx6NAhrl2/Tk5WNgNH9WXc8D7YzJ/AlLGaaE/rg9bcgTitm4rdopEMHNafkAhrMpMXEOI2mWFjejJ9RC/MrbRYbfAN/93tLyxbK5aNrJGWyqLMsZrWj280+uLjq8/SFVrYzNFkysxBZCRYMHFkD+zdjOQZll/RexmwvNuBVjZcsjxlHXh7HXi/gEVhrozBoXhFmPxdQMKvDM7vssw4dZt+oUzBL/F0mcWmDdPx8zUiKcqcrZtn4e9tgIXhAKYaj8V+4TB0jUcQ5m+A6+bZBPsbE+ipR3iQMYE+egT7GhASbEqEnwHhIeZEBhng7DATb089vLZoExZsJnFWQjzn4bRpFm6bZxESaEqAhzaOG2cSFWEhcULUpNu8+31RFPyd+ds+J6VU6SVkI7yESvqTdb4Xq9Z/Suajb3B0+4SAwxpE7uyOrf8XHKn9nq2JX2Ds9BeGTPrfuGT3Jl/FgxEclp8DLEXFJRw7so9NdpNwdppLYqw1wZ46ONrPRBFmjp+bUj6BQaYSQVj0UWKUJb5bZuPoMIsYIUPHWbg5zcbNcS5R4RbSlgMxocZs2TQT182zCPA1xG3TDBztZ5EQY4vLyjFMmjWU+FgbmXj7C/opZC0DlrcfXGUDJctQ1oF3qwO/O2ARpNHEGCtiIyxIjhZnJUgRhj061IzYMNX5Zwx9VwAgrruCi67PpHx/ZRDu+n7X69fy/GkeP6lXp4dJ1/uq6+gwM2IiLBDnrnlKdftJ3cWePoIcKzxcxN4+4lqQaEXaePFMdS28ZcSzhChLiVgqnaMsld/FOdoSQTaNj7KUZhiEURd5C1AkPGek+3HK2QeRTjxLibMmQbyjinQbf2o4mee+Zurc/2JpYHdizvcj71o/xGxK7FVN0k/1ZKX9p2Td68/ard0IPtaP3JJ+rPDpxsrgz1nq9TmuKd2x9vyE5V5fkFCs2eklON73WAAAIABJREFU9EuA5ciR/SiCjSSPHiFXoSdilkTUTS2fxEgl10TdX0kxglxsLclMSh/3Sm5KOStlKbUxyhJ1euEVFRFkgliOS4h8XY9+2lfv5LvQCZUuqeuurN/PlC10IF7Z14J7JPVrlIVEru76vvQ7irORZCDaJDyhutZXpO1M30XnpPtdfntd33nTtQxY3u1AKxsuWZ6yDry9DvyugEWAFYXvPNzsZyPiHGx0nE6MwlIy6MLdNNB1Fub6I/D3NiEpRgy+ZsQJTw+FheQZIgxLVKiZdAjDGxtuRlyU2oBZEBP26lmCAEBi1kCAIpFOAKUoC8mYC4+amDBTIkNMJQMu3hMursK7RhrcxTKNyF9hJu0zIAGASKWxiA41leorgIgoQxgIYVCFy7DIR8ojwoz4aGuiAnSxMhmMq5u+BETUhiBOtCPMlFgBEiJVZQpgovJqiQw1lQCd8BAS+QlQEh+pBHIijTBeolwBhKLDlfUW+QhQIu5J6RXKtqrrLuQo3hMGX5KF5PqrBFJSfUJNJY+akIAFiEi3GUW9CNrVA9+8HsSe70fuHU0CUr9iS25vcq5rkHyxH4lHerAupDtpNzQlL6LMK30lN+a4SxpkFvcj+Uo/4s/2Iemy+K70EvolwHL0yH6CvOdJfSLaLWSaEGUl9ZuQrZCzkKHoA6nPws0R7swCiIk2Cz2RwJnUH8p7saIvhGwizIgS/RNlSWSISafcxHN13kJGQjekfhDyU8lQMu4iD9FXAhAohE6K/rJU9mu4So4KoWOvDuGhFCcAkaSjArwq+0qUKeoq8pfArKoc0T9JqnbEBhmwxGQ4NhYjWLx2Or5OOoT6GrJm9Xj8A0xVsrAgPsKE1ZYjsDIfxZZtBiQLt28JiCj7X+i5kI/wFhPlCoAjyTbMVNJBSYcEoBb6IQBdtNB75W9Ora/iLAOWtx9cZQMly1DWgXerA78rYBEzBeFbpmEyfSDuTtPQthiK77a5mOoOZJ39LLw36LJpzQSs10wjxEUb7cnfsXrZFLy9ZuFhPx0ro3FYGXyPocVoXO2nYzF3IOvWziYx3pYov7lYGv2AkeEINq2djrneEIzMR+GzbR625oMwXzgRV5fZ+HjNY6nlGFw3zsTadIS0HLLIehiGJiPx9tZjlelQjE3GERpozBK9ARiZDMPNVRtfH12WW45kmeUodOYOYOOm2axYNAJri3GEBRiyxGQAc8zH4rV1Hgv1B7Fi8SRcnXXY6jAVK+sxREeJWQBzEmKt8HeYgbHuEBYsnIqnyxTEMkeKwgRXh1mssh2DqeEgli8Zg8O6Wfi4abNu9XRWLRyDhc0onFbNwWPdNJatnMoWxxkYzhuMs6M2Xu7T2WKvhanJUNxdtdniro3rqpk4b9Zmg+NsfDbosmXTVMwXjGHzisk4rJyKk5MuaUk2eKyaLNXHwmYMPtssiD82hO03+7Lz4TfsfvwN2dc0JI+gjKJ+RJ3pS9aN/pL7cvK5PqT82I/tpRoIt+acW/0pePgN+bc1JRfnPOHeXKoMGqf2Evo5wFJSWsre/buZN/cH7NdMw85iBPrzhrDJaQ6b12ihO284bh6GpMVb4bpiHHPn/MDKlVos1BuCsekonBxn4uWjx/pFY3BwmEdmoi2b145BV+cHFi+bRoDXHMz0hJ7NxmH1RMxtxhHkZ8Bi4x/QsRyLo+Nc/D10WbZgFBvWT5JmehzdtHGwn02IvxGezlo4OmgREWFFXLAhm9ZOZfXaiWxcq4Wzow6pCfNxXzeOxcsns2zhGNZt1GaB2VDM5o+XANL8OQMxMhiL71YdzAwHs2L9LAK2TlXVbwpb3fTYtmkKC5ZMIjl+PmFbZrNAdxzBvjoYLRvHWrOxmOiNZKPzXBWgEjMnlsQF6WI6+VtsrYZhsXQCXmt1iBfv++jg6DANW7OhmFqOYdtWHSyNhrJw2XT8t8ySfh+Ll47HZN4AjIxG4rhSB2/n6Vgun0yA8wzW281QzYQqZ2xkwPJuB1rZcMnylHXg7XXgdwcsCo+ZzBmjwXyrYUwXxtV5LnqzvmPWnNGsMRmPmeEgjFfNxF0MmsumstF6AquXDsJAZwjLLWfjvWUCXp5zsZg3kDk6g5lvPZq4+IWEbJ3Kxk2T8XSZy2KTUaxYPBNXJy1mzu2Pk/NsNsyfgJHxcMwtR6KvN5TwMDM2LB/PMtvxmJoNxshgOIusx7Fo+Wxc1o9h8dKJOKyegePa0ayzm4Cx6QjpvUCveay1n4b3xmlMHP0NpqZDcdo4C6dFWqx0noWR4VCmzBjIQouhLJg/jvm6QzCyGEOkACyR5iQlWOOxTAuDWYOZbzWeNcuGYGIyjGVLJ7Jy6SRWLp9BkOdsNq4fx8bl45kzdwRrl49l5XItcrIXscFwBOPH/4OAYDM87aegM/kbrMzHYjavFwZGk4kI1MXIfBgOrrPYZD2FDetnssx+Jmv0xmBsMBCzNdpsXjqcCbMGkBhjS0qCJY42k/F20sV+/UTWLR5D/LHB5Fzrjb3/Zyzy+IL4S0pX5sSTvfE/2IeEYz1xSvyKuJO9CT/YWyLfCjfnoLyvsHb6FKeMHkQd6YHbrp4U3P9Gml35NcByrbSU/L17mKM/GBuLwVjNG4bvNl1MTAcxZUZfjA2Gsnz5bGmZJDHMkJV2kyXDu9h4DB6uszAwH8bC+aOZN3cgDpvmkpW8gMULBrHBbS5rTEZhZzcTA+3vmaEzjvgwI2ytR7LZYbbUb8s2z2Dxci1s9YZhajyC5ctGstRmFAaLxrPEegx6OgOxMBvIsvkDMTcfxZLF47F30MF1yUhGTx1MjIh5E2uL+4YRWJkMw8RyLDrmg1njOItNtuOwWz4F+43TcFkwDVuj79HWHoj5gok4rZ+A/drJrFsxhcW2Y7GcMxCLxZNIUgGWFeZTSIg0xnrNJNaYjGTsME02ueuTFqeeRbEkLlgP44n9WbJgNIttRjB/5nBsrMawcvk4Vq+agKnxYMxNxmBq9B3TtAdgazQafYsRePiZsT3BCud1U3F1ncc6o3GYGwxE23ayNPsYFiBcwl+5esuA5e0HV9lAyTKUdeDd6sDvDljC3GewymYSidHGLFo1hoXmo5g86RssLCZiO2cI9k5zWGanhYH2d5joDsREdwSmZj/gsG4uW1bNw8tdi22euriv00JPeyB2a2cTH2dLqOdMnJym4e0+DzvbsWhP+E6a2XDZNAMLgwGY2o5nse0IbBZNxnvzTOzXTcFSfyirFmhhZjYIXe0RbFw7i/mGQzC3GI2F9iAMDYaiO/M7bC1HYL1Qi20Os/D31MF+4wzC/Q0w0x+Aje0E1i7XYuM6bexdZmFvPw0T7QGsWjUVW6NhrLabipvbbDbaTWTj5jlSrBPvNVOYN1MYp7FsWDUCw3kD0DUZydo101m/djZBnto4bp6Kj9NUdOaNID7CGBvjoSxaPgH7+dPYsGoyy1ePx0ZvAFO1vmPx/Ik4bRzP+uUTsDQfxmaH6SywGYaO1vfMnf0DhjajsZ41BHvnuSxfN4UNSyaxyGYszi76pCVZ4bZ0Or6uejg6TMZtsz4Jx4ewvaQ3it09MFv+V7bt7UvBfU22RnQnuLAPjn5/Q8f6r2Rc7Yedf3cSS/tLy0Nmrt1IuqrBOu9u2Hj+jcWRXxCS11O6p9788OdmWEpLS9m9bxeztAewbu1ULCb3x0BnMA7rZ7JywSgMDYbj5q4n/etPCDVi/YZpBG/TRmd0H8zMR+OwVgsD4xF4bNLG3UVH8iJavuB7ps39gRWrJrPMajRTJn6DkfF4NtqNQ990BAsWTsBxwxw2ummz1HYMNlbjcXedgZenAa5rJmGyZALr7Kaz1WUOzvbjWLFoCPrzBqBvPhr7ddNZbzeeJbZjcHaeJ0XcdXcYh5+vIZ4ec1m2ZjLmRoMlHbQyGIyR0WDmThnEulVaGOoOYtVKLZbbTsDDbR6O66ZjrjsEB4cZbNo8k7gYG8I95rDGdhpxEUYsXKeFw6JpeLrMwdpqBPZ201i1ciaJcTbEh+hjMf1bli4ai92ScSyeNwL9ud9jM38kmzdOxcRwAIY6o1m3cgoGuoNYsmIqjusnYaw3lE3Oc9nmOIttHnos0h7EWvtZrHbRwcdxOhvWzJRnWN5iLyHZML1bwyTLU5bnm3TgdwUs0pp4uOCZCI6G4HGYIbw4/LbpoggRa+1mEofA312bNSunE+A5F7tV0wgPV67HC1JuTLipkn8QZYG/xzyC/IwlnovgqUSruCpBrrNZZDFB8poRZMsQH12Cg0yV/BTB4Qg3I8RXX1q+iVFYEOyli6+XAUmxVpKXTUiAIc6LpkrAaNPiqbg765MYK3gvonzBdxEh7i2JDDTAx0MP8W9UzSkRPIBQVX6CFyPxIBRmOG2YKkWTlTgXYSb4eMwjOEiQjE3w2TqPCHGtyluUIf7dertOx8NDTyJUKgINpfoKDo/goSiCjAkPMsTXU0+So+AdCFn6bNOTuAjB3nr4eOrit2U269ZNITJcyaWICDImMsRM4t+EBZpI5Yj2iDJjw00JFhyWY0PJvtOXvOv9WLr5r7js6EXBtX7SXkLxxf3JON2L1WLzw4ff4LDlU4KOaRCe9wWLQrtztPZ7vDK6o7/5fxg96//DOaOXFO3212ZYhJfQ0cP7cN80g7AgQ9ZZj8TFVQAUa+LDTfHeqkN4qJCLcolCcIgifXVYajISP38TidMRLbgbKm6PICk7rBvD8rUicrDgsJhIehYRbIKfx1wCfI2IDDZBvCP0JkqKUyP4MKYInRBbJIiyhLyVXA4zFEFGUl9FhpoTFWJMRKgpiQpzVYA6waEyVeqBSg9DffUJCzRi4+opeHnost5uCt4+xoT56uLvrU9YkEr+ghcVqtQV8ZtQ/04kErrqdyJ4O4J7FB1sIi1RRaj0WdRRlOO1RYdohSUKf31JJ6ME1ybcjADPefh5G0pE7WBvXXy8DSSejf9WHQIDlFuri/aLugtdjZJkYSIRktWyFvWRZ1hkg/EmgyHfk/XiferA7w9YVIRAMQgKoywOQVQUg6V6ClqQHtVkU/FMfV85gIpw60qjJcCBSKs0KK+8IQR5UniMqEmaAlyoiZRSHhJhUlmu+C6ei7xEPhJBU+VlIxEoVV43okz1AK4+i7TqOoh7nfdFfiqysNRONaFWPcWubrMqjdR+6fpVHlKbVfWUvHtUpEh1GeK5KF8pH0EwFV5GVpIXjDDWol7Cm0iQKKOCTSRvJQk8qeos3hdppPxUICAx0lwZOO74UDKv9MIr/e8sc/+EDek92XWzH0s8vyC+pD9pJ3qyZNUnEmDZ6P4pgYf7sf1ib6zdPsUj7+9SwLl14Z+hveL/sML/S1Kvv9r88OdmWARgEV5Cof76RAYaExlsJpGEhfxEKH61PijlrZS7qHvXflbLTNxXykxJIlW2UdleoQciD3X/iGfKvlUSaaU8VPolPVPJRtyX9KqLrirLe6W36nel/LrokihPrUsiT3X5oj8k/eii+1Jdu5T/z8+V4F1dlngu9FetB111QqSRylIR0yU9V/1exP3O8l/7TQodfNUmkb84ZMAiG6b3aZjksmX9e5MO/CGART0IymelMXhbOQhXXdf1k7BdNoNIL22MTUZIsUuCfMU/a3OWGozC21fpWRMXbir9QxcGSxFoRGiA8l++qEOcyq1ZzLDk3OiDR+KX2Md+RXqp2NxQE8/o7njt6UN2cV8i9vUi5UwvVvp+QWKx2BxRk4QTvbAL/JyAwj6kXOxD5Ok+BO3pSXyXzQ9/CbAcPXqAcJ95rLQawfLl04kTICzGCseVozA1Ho6e4QgcHWfis1Ub903TWGWvLQGZt5Wf/P6v66EMWGSD8SaDId+T9eJ96oAMWFT/KD8kIyaWL+ztJjBt5lCWWw5nrt4AfNznYTTnO1baTWWV+RhWWk/Ead0MlpsLzsxQ1i+ZwJwZg3FxMyAxxpIUhRkrN0zD3WchCceHkXm9D7l3+rPzfn8phorYCDHpTB/89itJtnn3+pNwvBeKQuV34SWUdUNT8irquvmh2BBR7NT8a0tCxcUlHD55kHWLJhOwaQ76poNx9zMlPc6SNfMH4etnwlq7ySxeMR7zORosXDKV2GixqeOrGbYPqc8+tLrKgEU2TO/TMMlly/r3Jh2QAcsHCFhSYq0kErHtwkk42U1hycLhrLefgoHOt8wyH4bNzH8wZsogKcbJ+HH9mW89Ahu9wSyeP520RCuJp5EaY8nK5aMxt55O4snhbFft1qwky2pI+wEJQJImNjwU7solGqRd7SeBFBFjRQCa7FINQsTMS5EmWaUapF7p17lT868BlpLiEg6cKGSR4RgsZw9kjtkoXHxMyYyzZO3CwQQEmLJh7RSWrpyA8Yw+6BlPIEIhlruMpRg6HxoA+NDqKwMW2WC8yWDI92S9eJ86IAOWDxCwJMdY4rRxOpu2GpIZY8L6VeNYtng0s2d/i/XKCTgsmcLGjdNYuV6LtfPHYGU5lg0rp+K4Zharl45jm5excmklxAAXBwNijw8j61Zfcn7sw2y7/yHgtIYUXj9iZw+27uiNb9LnWGz6lLjjvdiS8ne23+5PdrEG64M/Y+G2biz3+wKPjO6sTv+a/FuaUoyWroBFbH546OBhCgsLpePAgQMUFRVz+GQhq6yHs3y+Fo5b57DVx0TalNDJbqxEmnbePJM16yazzXU2WzZOYemyyWxYMg4fHxOJiPyhgYAPqb4yYJEN0/s0THLZsv69SQdkwPIBAhZh+JRESSUXQSJbKtSh55UESkHKFOlENNxQfyNlSPowY5wdZxAZoYzgKiIJhwcpvYSkvYQyv2LKqv9L0DkNdt7UwMH/C6LP9cM7/nMslv6NrNua2Hl+TtSl/kQWfImV9+ccqvoOt+jPMXD+K5bun+IW93eSizWlmRaxl9CO62N58fIJT8qeUVZWJh2PHz+murqWw4X7CPbXJynmVfRfdduUZ2U7hUeUaI8U8Tb81/kX4l35eDsZyIBFNhhvMhjyPVkv3qcOyIDlP8i4SSCmS3sk7yrJm0nF+1AZfum+BGbMpN2a408OI/Xs18xf+1emLf5vnHb3oaCkL9bbupNQ2p/t53qxYq1y80MnsflhYT9i9igBy0EBWGI+x8zlrwya9L9wzu7NjruanRyW/GtjqKoup76+ibq6us6jra1DAixBvnqd3la/BjIkj5ou++P8Wnr5+b8PWmTAIhum92mY5LJl/XuTDsiApYuB/9gMnHrzw7gTyr2EfLd/jf6a/4vbvj4U3NJgnc8XxPyoKcVhWevyGdvvaGK3tRuhJzXIu67B+hDVkpB/dzyzv2RZ2Ges9PmCuKsanZsfCsBSWfWcmpp6qqurO4+WlrZ/GbB8bP3zPtsrAxbZYLzJYMj3ZL14nzogAxYZsEiB47bf6EP+3f5kXReEWg2yb2oSnPU1rtm9yLmpQUaJJgmFPXCI/JKMm5qdpNuwA71IKVaSbtNLNEi53I/UK682P5QBy78/yyEDlj9OdmJz1mA50i3v0xjJZctg6Nd0QAYsMmBRApbrfci6pil5BwnCrDi2X9Mg9kJfsm/2J/9efynWigAlardlyXuo9P9n773/ozqyfe33D7j3c++5c86MSSIrSzibnEQSIKGccyAJAQIhgVDO3WqlbnUOyhLKImOCDQZsnLANJoPjOI7HJjrOzPN+arfEYM94zhxMsGb2D1u9e4fa1aXVtZ6uWt9aIgmiO70X3OkTC8adtcPKYNCtDCwPzuneS8CRR1hk5/HfOQ/5vGwjD9oGZGCRgYX6o1PZecWJTdqRpChGYX3FVYKQ+sOOqPY5Yd43jnStA/XHnKjd5UjPJXf6LrqjaBtNQt4wNtePQ7d/PDnbx7PnfU8JdmRgGZqgMgg9MrDIzuhBOyP5ebLN/Xc2IAOLDCw0HJ9K71vjiUz9DQV9jvSI0ZKLbhRpR2M45kKhZhihy39H9zk3NlY5IPILNRwcR2zJSPrf92Rr7QjiSh9hlW4UVR0TfpT8UB5hGZrgIgOL7Dz+O+chn5dt5EHbgAwsMrBIwNL5xgSyq0aRUvwIOT0T2XPelRXK0VIuIaESGkx+mFsyDPURN4w7HFhZZ09+qGwfTUTeb5nq/b8p7HFi+5Ufq4TkoNuhBy0ysMjO6EE7I/l5ss39dzYgA4sMLHZgecuR4rbxpJQMI2+HI7svubK+woGGMx50vDiRtRnD6fnAg81lI9C84ErfKRdWl49ga8MYUstHktMwisjc37JW5UDLuYGVcd+egDzCMvRgRUwLycAiO4//znnI52UbedA2IAOLDCxS0G3fJWdq+sdT2jOBrvPuUgxLZdMYaaXb3nOuNBx3oeXYRNJrHWg77y4t0b/tdWfyG8ZgOuFKxykXGt9wwXzUiea33G4vHCcDiwwsg3Exv+ZXWSUkO98H7Xzl5/3PbU4GFhlYJGDpOu/M9nc92fuhJyJXUOdZN9pPuqB7wZk+kRTxA09aTjjR8JILPefdpOX3uy+4s+9jT/pFwsPz7tKriH8RSiE56HZogsogVMgjLP/zzlR2QHKbyTZwf21ABhYZWCRg6b3iQvPLTlTumiglPBTAIdZjaTvlin7vBGoOOEkQ0iGOC2nzeXe6Trmg7B5Pw0khZXal8aSLdFzcKwOLDCyD8DMUXuURlvvraGRHLrfvvbABGVhkYKHh2FR6z0wkrWQYabUOmI+5sP1dD3Tbx1PQPI4irQOxuY+Q1zyW0tbxdF3xoOeUK+srR7BB60CqchT5zaNY3zZWSoq47bQMLEPBSf+jOsojLLKDuRcORi5DtqN7aQMysMjAQtOJaTQ+Nwb/NY+QaR5D/Wti6X1XNlc6YHndjUOfeZJW/DtK9k0ku3oUptfcMe4YzfJaB47ceJzyZgdC839LZNbvKKgfT/vZvyY/lGNYhuZIiwwssqO5l45GLku2p3thAzKwyMAiAUvDgdHE5o4i1ziCDY3j2HvBlSTlaFrPu1NcN5I03Vj2fOJJXvEwap53pfHgWOLKR7L3s0nk6UeSWPI7Jnv/L/I6Hdnxjixr/kejF0PhnAwssoO5Fw5GLkO2o3tpAzKwyMBC/bEp9F1wokA3kuS84eiPu7Lzshs5dWPQ7puAf8z/I1XlgOWEMxkVozC+7MaOS+4U2hxILBhOumEstXvGsaVlNBlqB2yn5OSHQwFK/lEdZWCRHc29dDRyWbI93QsbeKDA0mCOp9WWSJMlgSZzPA2meBpN8YiOU+yL7a/79qH0Rum6vw6rN5h+fK3U6ZrisF/3t/eL8+Lcj54jPc9epijv9jP/zeBlMFtz/dEp9FxykdRBrW+6SivdiuX3DTvHU9jjSM85N1ped8V6YDyFTePouuwuqYhE7qDGV1zouuAuKYekQNxzbmx7W45hkexyCNuTDCyyg7kXDkYuQ7aje2kD9x1YmqwJNAooMMXTpI9ibfJM4mOnU6aIwKKNQlcbhQAZmy4agzaWZks8+poILMZ4Goyx6GoisRripWtEOWZtDCZ1JEZtrAQ9dscQi7YmAmNdDM3WBIzqKOpNCRKoWHXR6GojpecIcDFqxDlRdjzNlgQaDHHSPaJMmwAmQyw2w18Baag7nn9U/zuBRWRrFoG2uz/0lJIYdrzthpAtt59xY/t7nux+30NSAoljQvYszvdedGfX+570XxLAYpc1DyqEZJXQ0LYhGVhkR3MvHY1clmxP98IG7iuwNJhiqS4JRKeJob0xiZzUuaxYtYQGazwVW32I859MZNw0Crb6EBnwNOHR01CVh5KWOJXYxLnkZc4mIuQJNqxbQEmRH5s2LGLLFh8KNswnMOBpKquj2dacRFHKfKJDJ5O4ygtVgR+x/k+xfNUiGmzJmKoDCQ94guhYL/IyvAkJeYqNGQtYmTiV9LSFRC/3omzrUiJ8HyczYxmlmxeSmxNIiy1RGnn5Rw5/qJ8bBBaRS6jrtCNb6kaRWjwcxbP25fVbX3VBc8CRwrpRrNOPwXrUCetRZ3uuoUsemA+MZ3XZCMp3OdJ4whHVQUd2vivARh5hGeq2IQOL7GDuhYORy5Dt6F7awP0DFlM8LZYYEnwnkVsURk9rMunLZ5OWGcT2nlWoMnwoSg9BUb6U9au82LDal6Lc+cSunkP66qn4LPZk9YpniI18mlVrvEiMeQJfn2lYDLFkps1k0fyJrMsNorctkZxEb2pKwyjIXUhM5CzyCkNYk/QUFdWxdDYlUZK1lAplBCtD3QmLmEZC0nTWrX6atUlexG3wJsT/SQJDprB6xRxp5MZUF8PgVNFQdzz/qP6DwCJiWLrPO2E7PJGY1N+ies6FXe+5U9EwhrLuCVgPObK2/BEybGPINY2l9YIHbccnEl84Av1RJzaUjyClehhr6kdjOeBI62l5pdt/1O5D4ZwMLLKjuZeORi5Ltqd7YQP3D1gG5u+brInSlFCDORFLZRDx4VNITprNptWLqcgOo0Lpx9a0BfjM9CApeS75WYsIXPYo0ZHTSF8/nejwZ1i+ciE5+T7kpS8mbfUcIsOeZKn/Y2wtC6OzJZHitT7UlIZSWOBDcZYYLXlCusdqTqTVlkBZri9KRSTKrEWEhkxlS/pC8nMXSdNPG3OXUZDpTVTgM2TlBFGSuYC87H+vERYRw9L/vgvGHeNIrR3D9g886T3tQqrSgeYLnuw640JS1iOY3nAlVzGCuuNu6PsdWK0fzQvXH0fVNYbQ3P9ifvh/kN82UVq2X4yybJNzCQ3ZUToZWGQHcy8cjFyGbEf30gbuO7Dc/jVpiEPAi4gpqa0IwzoQJ9JoSURXFsCGVd6YjHFSUK6IYTFqY6g3xKCpDJeulQJ0LfGYdTFYNPbYl/qBgNnBZ4jYExEzI+63GkWg7Y/jCETMirYqDMMdIyg2Y5wUy6KrCkevicFmiMWqjx2yjmawLf6Z19sjLEensOtDF7aqh5HT78jOKx70nnJmdeVoGk86E7vyP9loGc+ODzwlOxrPAAAgAElEQVTIKR1O7fOudL7sKI2w6F5wYoNiBOvVw1mY8B9s1I+l65I9zkUGlh/b3z/zP/m1XCMDi+xo7qWjkcuS7ele2MCDA5aBERcBHs2Ny2luSqapaTmNFrs6SMSMDE7DDKp6JEj5G5XQQACu2a4Ikjr4n4CJXTH0952F/dxf720YqNfgPY3WRHvdGpIk1VJTYzJiE4HB9QKCGgbeC7WSJdF+3JxAozWBBqGAEp/JmmAHHkMcjfVJ0v1N9Yk0WOzXiaBf8ZyH7ZzuBJa+d5zR9Y/D9rIr3efc6LvkRrllDBU9E1hfNoKMutHoD04kvcqBxlPu9F/2wHxwAilSDIsTjS87oTniiLJnPPVvyrLmh/2//aXPl4FFdjD3wsHIZch2dC9t4MEDiyUebdZCVCvmoEqejV4VKQFCoy3R7vSFUxf7tgRJzSPtC2c/4OQbbUl2xZCYahKQY06gQexLMGAHCOn9HeVJqiABFwIqLAI6flKGRaiD4iTgMJX5UbliDlWpizCrI6lZMwfVqnkYa2NotMRSu342qtXzsRgSMFUEYqiKxFYbhr40BEO+L8rkWWhLQyQ4EcHF+uylVKycQ+1mX4zlQehKw2k0R6PJW4bNNAA2D0n+eiewdJ1zlqaCdr3nIeUBEhmbm445UbnfmYNfPsrBP0ySsjVrn3WUpnyESqjvigcHPp/Ernfc6b3oIY3M9InRFTn54UOHURlY/v4Plp9rFzmXkOxY76Vjlcu6P/b0gIElXnL6pRGTqM0LRpXwBKpNS1CnzaU8ZDK12UFYqkNRxkylOmMZ9YYolLFPUx41F4suhqrkaZSGTcaoiUazbg7lsbMwKAOpTptPXVkwmqzFqHP8MZb4o4icgibPn7qSAMS0j7Z0KXXZARjKw6ldPR+9Kgrt5kWUR09Hp4yQRkIsygBKo6aiLw/DUBKCvmAphaGTqVw5A8Vab9Qb5qBMWUjdJi8UqxdQs3EmlVsDsBQtpix+Nqq4KVSuW0hpxHSMdfG0NCWgCJiMMmUBJUFT0BYHoUiciXL5TFSblknA9XMd6IM4fiew9L3jgvnZCZR2jadTJDY8KxIaulH/qgvVHWMp7p1I2xsutJ9ypfusmwQt7a86kWMdg+FFVzrecsF0wlmSOssqof+Zs3wQ/+v/6TPkEZb70+HKjkxuV9kG7t4GHjywmGMoT3wak3E5dVtmU5m+gLLYyRjKgymLmExJ+GMUh0ymOHwKuuIAqrcsQhW3EF2pH6oNs6lMnYEqZR7liYvQ5y5BsWIp2i3z2Dx5LFu9nsSsjaLYz5WSsGcoi59GWcIUSqOnUhTzJNVrllAaPZ2CRU9TvWERBT5ulIY8gSJ1ES1tK9GlL0Cx2pdGSwTVqxegK/Cl0NeT/AUeaBURKJOeQq9OotUWQWniVCrXzaK6MJR6pS/liXOojJtCUeDTKFcuwGZOpLkxAWXwZErj51IWMwV9dSz67LnkBjxNQ8OKh/4rfBBYhKy55/QENuQ/QvTaRyjd4cTuDz1Qd42jsGUcFY1jSCx4hK0NYyhqHEfHZQ+6Tjqzqmw4uS1jSS0byWbzSFJbxtDxuivtQiUkB90+9P/v/xRS7rxeBpa771RlhyS3nWwD98cGHhqwGLWJaDJmUZnhjSLmcRQJs6hYuYCatbMp8nuaqnULUUQ/SVncTEq8n0YRP5vqzX7Ubp5D7VYflLHTUcZPp2rjUmoyZlMaN5Wi4Geo2eyDKvFpSkKmUJPhg3LNbNTZvijXzaB6xRwK/KdSs84H9RZfykIfpSx6GrX5IdIIi00dSnncFKpSvSiY9yiV671RpnljKvWjPG42tRkLKY+bjippGqqNPphKfSmNnE5FwhRqcvyojJ9MRZqPfTrIFEdTQzzK0KkoUrxRxk2hJi8MS4UP5SlzabQlP3SH9mNgmcjG0keIzxmJ+nkXdl5yJV3lQP1pdw5+5MGavN+hOuxETuUoDK+4Y9juwMq60bxw43GU20YTkvdbgtb9F/kN4+k4Jyc/vNP5D8V9GVjuT4crOzK5XWUbuHsbeMDAYh8qN9eES6vJWuuisGrCKAn2oHKTLzZDAo2WOHS5y9Dl+VKRMoW6ggCqEuaiSlmKzZyAVRMhrUhrUQZRlxeATR+FqToCmzEWUZ5RGSapi7TZPhiV4Vi00VIsjFUbiUWsoFsXg00Tjc0Qj7UmjLpsH8xqse5KvBREa6uLoG6LjxSTIhRD5tpIaerGpAjGZozHWOSLJsefeos95sZQsIy63AAp/sUy8LnsAbpxUqyNWRWCJmsp2uJgKdbGpo2SyhRxNQ/bkQ0CS6PI1nxgDAnZDhQ2jmTdQPLD5IrRtJxxI6N4GBtN4/6a/PA5V1oOjye2eCQ973iQVTuCFYpHmOb3v9naMpF+OfnhQ//f/lLbkoHl7jtV2SHJbSfbwP2xgQcPLJJyJpmmBqGeWU6jORaDIph6q1DlCKCJl0Y7Gq3x1IscQCJAVgTLiuBaocwZUAcNBtZKAbUDeYnEOaHEkVQ49UlSgK0AEdF5S0Aizov7xSapfBKkZ0nHhMx6MLBXKHsaku3Ps9rVPYOBveJV1F0ogYQCSKiGmpvtoyVSELD4DKLe4pxNBPkOXDeoHBJgNPAZfqlT+aX3DwLLYPLDLMUIkvOHYzrhys4rbhToxlC7czzhq/6LtSoHjEed2KQahfk1N7ZfdkfVMYaE3GFkNY5Hf2gCRf3jyDaNxvaWrBL6pf+bh32/DCz3p8OVHZncrrIN3L0NPHBgEc7apAhEs3kJmi0+mDWxNLesoKkpWZI4C2iQpMEDKiFJVtyUJAGGJCluGgAJmwAeofYRqiIBJ0Iy/FelkShDHBsEGEmCLIFP/IC6SKiCkqTnDoKSTReFuSZSepY0CmSMx6aOwKgKp14fLY2MCGCxilxG5cFos32l6w3lIRKkWKrE6E8CNk04mswl1OUESqMyD9v5/NzzbwPL0SmIXEIiN1CPlMjQne6L7pj3TaBYrMvyngcisWH9oQmUdYynWyQ/PCOkz/b1VnoHcgmJ+8U2mE9IXodl6AbfysBy952q7JDktpNt4P7YwAMGFrH+SBxlEZ5UpHpTFuKJKtMXQ5Evlcmz0SkiaNBHU7PGC21JKA3mGGpS51C1domk9NFsmI9qpZeUGNGQs5jK1EVYasOoy/GREh4aygPRFgVJUz3Vq70wVIRjrAqTYMJYHYShLBRzTTT6PD9M6lhMxX5UpS7AXBcrQY+pdAllq+bQ0pQsBQabjUmoU2aQvXQKVm0E5fHTsdUnU71iFlXrF5I//3H0JUFkT3NDUxZMZawXmsIglNHTqNm0lJoNizFpfr3L/P8UWPqveNB/xV1SAQnZssjY3HXeTYKV7VfscufeK+50vu1Gxxk3BKj0X3a3Jz+84H47aaIMLEMXVAbhVgaW+9Phyo5MblfZBu7eBh48sAiVUNIzmC0r0W6dS+WmhZSGP0nNxkWUxUxHmTSFomVPUBg0Gb0yCOXqGZQFz0GvCES5ahrlcc9QtdEbRdxcatZ5UZG6FHXaHHIWupO39Gn0qjDKIx6jcNmjlMZORbFCqIq8KE16RlIJVazyosDrcaozfCgOnEShjwflqd40t6zErPAhb6EzqsQZ5C6dhLE6XJIgl0dPQ10YRk3qLKozl6BcPhcxGqOImY9ZFUpp8Gwq182nLHwBypSZqDJ9aLbGoc3zw6KLvb0g3qAz+LW83gaWY1Pov+xEQe1IUpVjaDvtLsmWm447UXnAmaajE8lvHkv9cUd0B+zrsIjRFc32sdIUUn7nBCxHJlC8ZyK73/eUkx8+pHV17qVdycBy952q7JDktpNt4P7YwEMBltLYJxAqIfXG6ag2LkCZNJnajMUo4mahiH+GosDJVK5dQOWKmVSsmY8iZCaVqfOoylgqqYSq0hahiB0AlpQlqLfMIW+pB7neT1JXFEBZqAcl4dOo3riY8uRpdmBZPpnq5XPJXfwUqhXe1Gz0psjXTVL91GQH0tS0AlPJYopjp1Kvi6Y0/mmq1s+nyOdJFKGPUxwzD2tNMFtnOFK5NYQGdRD5859CXxhAWdRCDOVL2fK4B+o8P8qjZqLJXEzO3Imoy8KldAH30pncq7IGgaXpxDQa9o8mMn0kJY0O5HVNYM+HHpSZRlP3vDN5VY8QlPQ7Ok+7kl4zmuZzHjQfmUBs0QhaTruRqRpBsvIRUswOaLdPlI6JdVzkKaGhO9IiA8v96XBlRya3q2wDd28DDxhYRPBrLPoSf6z6eMyVwZgqgyn2c6EswQtTdYx9SmjtAjQZiymN9pQWYitfNpkyMZpRF4tJFYhFH4M+W0wJLcRcG4auJACzpBAKkhQ7Qq1TkzofbWEwhoEpIVN1MIbiAPSloZgrwjGLKaESf6rXzsdQGSUF0VrVYejKgqVgXUN5ANpiUW4sTbZ4dEX+UvCuOmMhZl08VlUQquVzMCjC0BeH0WCJQZO+BKsxUSq3KmUetZt8pZxG9wow7nU5g8DScGwqvW9PZGP1KELT/pMU2zj2XXZllXI0jWc86DzhyMYtw+n+0JPskuFojrpJsubVOrusuaJzNGG5/8WsZf+Hgk5H+gZiXGRgkYHlXtvs/SpPXun27p2I7IDltntQNvDAgUV0OIN5dEQgbKMpBnXOUurr7XmFbgfdWuOkRIlNLSsQ+X5sehH/YlcBScv03xl0K5Q8g0v0S8vvJ9iDeAf2RZlSAO4dQbki+FfK/SPyBElL88dSbxrI9SNURdK1A7mChHJpIPePCPyVgnTNCTQ12wN77bmD4iX1kKirpCQSOYgakn7V8tZBYBEqod5zTtR0jCNpy+9Q7HFi1wVX1igdaDzrwbbjE1mzYZgELFtLh6M+7Er3SSeSiodTvn0868pGkGkYif/637C+ZgztF+Tkh/fLsT6ocuURFtkJPSgnJD9HtrV/1gYeCrD8tNMVcuCfHhPvb8t/B+XI/wKxAX/vcz6sY7eB5egU+i45o2geQ07LBLovuUsKIKV1NBX7nOk944JxvyNtLzuSVuVA8xn7+abjjqSrR1H7vDNtJ50xn3BGs28ijXLyw79rzw/r/3w3z5WBRXYi/6wTka+TbeVB2cCvAljupkOV7/nl0w13AkvXeWf63/Vg38eekgpo+/uedL/pQtV+J7ovuLPjfU+ajztiOuLM9nc86JIyOrtLkufeC+70v+PBvo882fGOhyRt7r3gRvvpCew4P5uvrn7O9eu3uHbt2u3t++//xOHn96OpCv3VBiX/O9uYDCyyE3pQTkh+jmxr/6wNyMDybzxqcyew9FxypvMtVzTbHSU5s7J5tJTw0A4n7jS/5Ez9q250vuWM7rAjthPOWE660nPOTZI2a3eMZ0P1KIwvu9L4ghP6oy70XZkoA8sQtS8ZWGQn8s86Efk62VYelA3IwDJEHcq9+PV/J7Bsf9eZvIphzI8cQf0JR+JzHmFF4QhMr7qx86IbuQ2jMRxzYVXa/yO20oGWE45sNY+l/z1PLHvGsyJ/FNXbx5FaOZI0xWjSLROwnhhDvzzCMiSnh2RgkZ3Qg3JC8nNkW/tnbUAGFhlYqD86BTHC0vTcBOLyxlCzYwxFHeMobR6J6rALXS86skkxmq73PdF0jma9zoFdl91YWzGcpvOe5JqGs6lvIi9dn0SW2oGIDcNZFP+fFO8eza7Lc+QpoSFoYzKwyE7kn3Ui8nWyrTwoG3jgwNJkSaBlUHFjSaBdqGnM8dJKtvdi1GAolyGlD3iAeYbuHGHpuewsyZcjNjmgPzSe9ZUjWa8cgfYVN9qen0h6wRj6PpmEacdoVlePYs977qyqGYbxLQ/0vWNZqRhN22tOpCpGkFoykql+/4+8Hgf2vjtXBhYZWH71o0yyrFl2ug/K6crPuXtbe6DA0mxLpK4iiKKCQBrrkzFXh7ExxQuFIoy2hmQJXlpEUkGRT8iSSKstEQE4TdZEmq0J0v62JjvgiGPtIgmhSDQ4kFBQXDt4r3htrU+irT6R+oHEhs0it5ApXiqrdeB54h7pOpFk0RSHOD74XFEXcb5ZPN8SL93bKOTT5ng7aFnipedLMmvxbJHXyGwvX6rfIIyJhI8D9WyU7rGDmijfJuompN4NyzFVB2LWiXVfEqQkkCKPUqNI5igk1GK/fiARo6SaGkisKCTdA0kb7eUkS7mS/hlw+xGwXHKm43Vn8hvH03XBnazq4WwwjqP7kgc9bzmTqR1Fw2kPmo9NRLlzIu2vOLJeNYr28+5sv+hOWf1olucPR3XACcNeR6p2TKSwfgQ9F+ZwVQ66/dU77J/aizzCcvedquyQ5LaTbeD+2MB9BRabMY62puWSsxfrmGhLlhEbNo3khGls3OjNmpBphIZOQ6+LQ1MeyIZ18ykpCsKij0OtDCA31w9NTQR1FcEoS0LRqIJJS52PWhNLndKf7Cw/THWRmPTR2HQx1FaEYdTFolEFYaiLoSzXl/z8YGkNFas2kgplKDZdNJVlQeSnL2Lj2oXUVEZQnLOYzZlLsRjiyM9cRHFxMLWKEBSloeg0ESgKllGliqTRFIdBHYalLprNGxZTWxOFvjYa4fh11SFoa8Mx10ahKg+nVhHI5o2LqKmKQoCSoTYCiykOS3U0usowNm9YiKoiQgIisUaMWRFCkZ8zRVHTpHxHjeYYatfOQ6cMw6aJoDZtIZosf0xVYZg1MVhrIzCUBaMvC8JmiEJXHCiBVF2mN3WFQfakj//NL/s7gaX7gjOdZ92kXEIiF5BQ/WwXeYNEzqCL7mj3TkB9yElaFG7nOx5o90+gQry/YL9G5CES+Yb6RALFi3bZc89FOej2pyAwVN7LwHJ/OlzZkcntKtvA3dvA/QMWMZJhjiE1ajLFZeF0tySzPmk2mfkR7GqNIzbcnYD4RRRmebMmzYs1SbPIzQ9g89oFrE+ZT0rKXLIzvfGf74iP/2MolJHkZszFP2wKa9YvItr/Ufx9n2DDmpmsWzOD1BVepKYuIi99KREBT7Bq7Rx8lk7CZ+lkVDVxtJmiWLNyDutTvFiT7MW6cC/S1s0mJWU2odGTSYmfTmb6MrLWzGDh3McpLQoiKsiTad6Psindh/SUeWxInceGtTNYkTQVb+9HiY/zYu3KeWxaO5vUVZPJ3TqPVbFTiQn0IiN5LoE+nmzc5Edn6wpKshawYu08UkLmUl4UTFLQYyzznU5D4wrq1cEoEmdRnvA05UnTUKyeQ3XKfCpWz0OZ7EVF/HRKImagip1FedwMVOsWULl6FtUZSyj0m0RJyGTyo+agzvCi0Ocx8hdPQl8rRosGRpd+Blx+BCznnSXQGIQUoQ4SCiCRBFGAjJSZ+aybJGnuPutG13l3hJxZSpJ40Z4wsfOcPVuzABx5af5fLjt/mHAjA8vdd6qyQ5LbTraB+2MD9w9YjHE0mWLJWTefyspIxFRO8cb5JCUtRJG3mISYZ1id5k1Z7jKSls9kddJMqqqiqNdGEeDtQlpOCFqlD0tnO7DAexKK4mA2Js9mzdoFJK/0IkQAQ+JstmycQ1LcU8TFzCJ15VyCfJ8iY5M3qSnTWLr0UZLi5lJbG0N743KUOV7MWfw4NaWh5KwKQFPjz5o1s4lfPZ+taV6kxE0nPvBxvGY+RnFhKNFhjzJppjObs5eRvmIOyfHTSVk1laTYpwgInkpGmjcr42eyMmEKa1ZPJTbEnfj4BeSv8mXt2hmE+D/B5kwBLCsp3jyPyIQZJAXMlj5H0EIPvOc/g6VhJbZKf8oSplO5fiaV671QpMykQiR33OKLKnEu5THTUa3zpmr5DGpzAlGEepIXNgtLbTjKFXOoEvmW1i5BtXIKBb5PUZE4C3VZEKX5Af9wpOVOYOm74oJp13jWlYyh86IbW6qGU3XASRox6T7jirJ3Ai2vuZBePRztUWcqdo6XFogTINN82JGV+cNJKBmB+bgzW3VjaXzbnZ7zE9hxTl6H5WGCx90+WwaW+9Phyo5MblfZBu7eBu4rsIgpIRETYg+qFSMusWxZ60VC4mzU2jjUBUtYET8bky6esuwlJCXMQlcTwdrEuWjUsRQX+aFSBlKnCCU1bioBYVNYEfMMCWsWoirxJTVlIaryIAzaSCzaaBS5fhTnB6NXh6GpiSQnfSHrNizGZIijpT6JypxFpKQtpskQS1VROEZtJKW53sxb4M6adb7o1RFsSJnF+vVLKMsJoKwwmIrqEJQ5SyktDqXBGEtdZSDaynBSVswlrzCAGjFVZIxGrfRja/YSdDXRVGUHkF8YjEkThVolkh8moqkMwWCMw6yIRJnny+rls8nctEyKTxFxKrosb/K9J1Lg/ySGikjq9RGo4qahKQulbt1McrwmUZPlS1PrclRRk6lY70+jKRq9IkzKdaQtDsamjaY21YuaDT7oKoLJzfSR0gT8nNO6E1j6rzhTVDsc78QRNJx0IiTs/1LU6ciuDz0x7R5Ldsd4ml+YiF/cf1B51AVd5xgKt01k7/tupBQOp/KwK/XPjmNlyQgSsh3IaR9L9aEx7JFVQkMufkXYiwwsd9+pyg5JbjvZBu6PDdxXYPlbRxkvBdduGwhGHQxMFbEhzbYkxPEGXTR1qghpZKDZIoJtE2mxJWHVRWExJbKtPgFtbSTNNhGkmyTFgNwOdrWJa+2BryLItbUhSQrMlfL7mOPRqcIxamIRga9NVhEwm0C9LkqKRRHPFve0NSZL94ggX7G1DAbdirxEUjDwQPBvYzL2oFx7MK49SNgeBCyCZqXgYXO8HdYMsfaAXCk4VgTlJkojTm13TNk0Na3EULYUgzqaZhEoLJ7VmExz83L0OUvQFIbSIuVViqY23RuzNl6KWRHxL6KdpXxGA/c0NiRKz2sRKQ8MsT/rMO8Elu5LzvS87kTcllF0feKJsmo4xW0T2fuZB2U1oyltd+TZzzzJ1w1HedCFpufHkWxwYM9FV2KKH6H+wiR2vOlEct5IlsX8hkVpw2i74MjOC/IIy99+D37900UysNyfDld2ZHK7yjZw9zbwgIElzq7oEaoek8jcLDa7wxdOXIzECEfd1ph0W5UjOnuhyhHn22wDipiB60QOInviwTgJcAZzEgknLu2b4qTyJIchwUICzfVJUnnSMYP9vlYBSgNl1ot7xDNN9rqIBIm3yxIqIKsdEEQ9xfEf3TcgSZYSLQ6AxO1yBj6nlIhx8Dpx/2B5hjiabEnSSNAgYAlgEvviOU3SfrxUt6b6JAnM7PX8axsO3ifaVbSXuF/6nP9EDIuQNXe85EjUplF0feRJcdkwitomsucTT1TG0RR3TGTfxx5kVQ9D+ZwLDfvGkWoYzZ6PPFGYR5OiciBNNZyCtrGszBlJXM4wSvrHsPddeR2Wf/Q/+LWek4Hl7jtV2SHJbSfbwP2xgfsKLPYpoaTb66y0NySwNmEy6zb4SQ7XaojDZoiRsjJXFAag1cTSbI6joiiASmU4Vn2MBA4WoQBSBlNWEozVaAccW10U+gJ/9KUhEpRYKkLQFQZKMmFzRTD64iDpuFAPCQix6WOw1kWiLwzAXBt9GzRsmkj0ReJYFDYxGiHAqT4Rq1Yoj6IxFPmjLwrEZkrApg5HXxQsTbPYbpcVJSmUhOOxaWOkKR6LKgSDMkx6vlUvRjhipfKs2oH9umhpeslYHIhRGS5dJyDDKBRJJQFYTAk0CFVTaTA2YzxWbQxmfSwWXbR0rVkdQUV5mAR8Vn0c9YYYzNooaS0biy4Wi5jyKg+kosxeh59zij8aYbnoTOcpV8wvONN53p2mF51oes1VCsRtPjaBDNtYSe7ceMKZjjNuFFhHSVmdRQxL30U3VF1jKe6fKCmKbC+60PyyC/rDY9l1SQaWn2v/X/NxGVjuT4crOzK5XWUbuHsbuK/AIoJu8zculIJpxfSPVRNO2ooZrF67gNJ8P7Iy/cjNmEVFeRBrop4iIGw66qpQloU8zYq4ueTnzKckbxGhi6aQs9WH6LAnKC4Lpq1pBepNcymNnkFJ2GPoK8NRJcygMPBxaovDMJcso3ipB5UbfahKn4e2KADlmumYaiOpip9CQcDTWAyJNDcmUbN+FoXLHqcsYSGanEWURs/EUBJI1ebZ1KxfRGngFMoCplCzyY/KFTMpD59KbV4IddnzKAp+AuXaudSsXoQ6J4DK+AVocpdRFvIUhb5PUJ25GNXGxWhzFlCxfg5VmX5Ur51FcaIXurzFFPk9TpH3dMzGRNotscREPkFY2DOsW7WAlOipBAkV1IpFlG/wY32+P3k5CynMWUhc5DMsWzaFjRuWsDXTn6Kt88jYMBNF2WJil01mU4oPyaFTCAmcTJ02gVarfWTmpw7yR8Byp6z5bTcpEeL2ywMqoHNumA870XpKSJw96DvnhvaoE0IVJGTPAmBEcsS9v/dEKIh6B7I9d52Tg25/2uZD5b0MLHffqcoOSW472Qbujw3cP2AxxdNijiEl/GmKSsPpaFlOQdosfPyewmexByuWzyU8YDLhoY+SlbWIxOjHmOkziezcpaRn+1C22YcNK58kNPwZVofMR1MdxZrEp9ia50d70wpqNs6lriIK9eYZqHN9UG1agjp3CVVZPtSsm0WJ32OUhM9DuXIyJeGTKQx7AnXWMpRRU8jxckZfG09LUzJVKdMpiphCefQMKjfMozxhBqX+z1C8agpVqxZSsyUY/ZZlKOJmUZ4yD1OZL+Ur5lC90QtNwVIqM+aiip5JUdAzFC2cimrVDPIWPSZJkavS51MY8AQlQZ4oVs+mOORpSqKnUb5hMcbCpeTP9aBgwXRMhkRJdh2TNAtFaSArgx9l7oLHSU6cztqEuRSu9mFVti9bt8wnY90UFi9xJTl2LhtT5hMe8AxhIY+yce1UIsIfIznMi5KNvkQGP0pwwBSqKiPRVUXYp7h+MjX0U2ARcuS211wlCNHsGI/msLMkXRay5p6zbrS+4SaNprS+6Ur7KTfazrjRJdZpEUqhl51QdI+n7aw7295wpfmkKxKwyAokTcsAACAASURBVLmE/uG03K8VYGRguT8druzI5HaVbeDubeC+AYtVH4VFF0lLfTyNxigaTZFkbZhNbkEAiryFrE6Zg7o6Cm3lMvK3LiQm9BkSVs8hPW0hFYpQqooCydgwi615AdRmBZKx1ovEuGmUKMIk5ZG2wAe9KhJ9yWKq1s+nNtsfgyIQbUkAlUnTKQ+fQvWGZWiKlmHVxVJXuBh15iLKo6dSnjwLszZOmvqpy1pIedx0KlMXos33kc5Xpi6iNt+buiw/tAUhGPIC0BaGoU7zoixsJtp8fyrXemOuDkWdtwRNhh8mdQzaTD8MijCqVs6mInmeVBdNaShWdTCa3MVUJM5FpwxBU+hH3eYl0gJvmnQ/zLp4tlljCFjmjl/AFErKwyjZtIDlSXMoyQ1gdehkgsKeITzkKcpKg9iatoAVy70oLvSnqiIaY7U/OZvnsn7TIrRF4WSvW0xecRA1pUEocpeSuX6xFB/zU+d4J7CI5IeluhH4JY2k+VUnslUjicp+BPVxF3a/605px1i0h13YmP9fLNeMxnZ0IgUdE9j+rgdtxxxJyR/JptqRbDCMJkc7hs3NjnSeHc92GVhkYPkJKP/UDn8N7+Wl+e/eicgOWG67B2UD9wVYDLVBtNansq05nfamDbQ3baRn22Z6O7fQ1ZpOZ9smutoyaGtYI8VhCDWQCLiVltYXS9gPbGIaSQSOClWPpHYRKhizWM4+lgaxRL4I2h1YKv/2q1h+XwS8iiBXEagqlECD10lL88fZpb6DwbXivAiyvX3fQACv9H5AiSOWwhdL84t63LEvAm6l50rL9ov7xDXi+aK+f62bPdDWHghsv2cgoFfUT1xriqPJGEN+7jJ0ujiEukcKmB1Y0l/cI5RUIoBXKJsGg2kH1VHiuFApifvsS//b2+l2Ow4EAP/UMdwJLL2XnNB2jSFo3UjaLnty4AN3lm/9LaqjrvS+5kRGtQPbLnlQpB1BSp0DOy64slE5krZLnhSYR7ChfQIvXp9EZtUoIjeNICJzGIW9o9ghx7DIwCIDCw+qQ5efI8PDv7IN3Htg2adBV+3LC4f7ePvMRU6dOsW5c+fp6u6mt7eP8+fPS8fOnLnI4UMdmLVhQ7JD/6nz/6XvRYCyBBwDIPVLy/tn7r8TWIRKqPtVJ6LSR9F+yY2tyuFsaZrAjg88adw/kY15Y+j/dBLWPWNYUzuKve+5s0JtT36oahlFqnEcBz92J005kuTs4Tw6//+ieG4sz8oqoSFp3/KUkOz4/pUdn/zZhqZ930dg6UdAycVLl+jr66etrR2r1UZffz8XLlzk7NlLHD7UKQPLQ/z1+SNgEckPX3EirXYchn3jWBL7G9bXjcZ60o2ek05sqnGg/bIntgPj2No8lt7TLqxTjKTprDt9p13JrBhJcu4wcraNp7JjAluMY8hQP0Lvpbly8sOH+D/+Z8D1710jA8vQ7NBlRyz/3/6VbQCgv7cBfW3wL/oh+P+JRvrhBzh4xwjLlXc+oL+/H7PZzPHjx3nuuefQaDTSscuX3+PwczKw/D1n8aCO3QksUvLDM270nHej8203tp1ypelVF7addqP/kjvKrrHUHnKWlurvv+yBdu848nom2HMMnRfL8LvR/JqrFIDbfc6eMHHb6Qlsl5fm/0VfrAdlCz99jgwssuP7V3Z88mcbevb9/fff89FHn9HRbsSgDvlF/erfAMtLx3exa/ezVFdX09HRwc6dO+np6ZH2VSqVdO7okR55hOUh/vq+E1i6zjvTe8mDfpG48Jwbba+7sG0AYIRsWaiEWk66Slmc+y640fSGq7Rei1AJdZ93R0BKw8su9Fyy74vkhx1nJrBDDrr9RV+sn4LEg3ovA8vQ69BlJyz/z/5VbeCHH37gwoULnDt3ib4e270FFpMmgB399RQUlGC1WjEYDBw6dIht27ZhsVgwmUwUFpWxc7uVekPkkOzQH5TjuJ/PuRNY+t9xQb1tDAmZDrSecmZT8TBWFo2g4U03RAbnmh3j0R1xoUg/nA22sVhemIhiryNitKXnTRc2KUayPH8Y2W3jUDSNI6/biR3vTpSB5SEC6S+xnX9XYHn33ff585//zDfffCNvchvINvArsAExsiJg5bXXXuPCxSt0d5rvLbDoa5Zx7IXtdHT0IEZTWltbeemll9i9e7e0X1NTw+7dz3Lk+S4sunAZWB6SU7sTWPouO6MwjmRJ8gjaL3nQ9MIEotb/FuNrbvS95UxmnQPNb7uRXvBbkmsc6DvjQoZqFJ3veFLeMIpU03ie+9SDDcoRxGWNYkX5KEr6R7L9orzS7S8Bh4d1778jsGiqkrhw8X2+/uZPXL32tbzJbSDbwEO2gRs3vuX3v/+Mt06dk+JeP/n0Kv29zfc+huXokX4uXnqX5uZmaYRFAMv+/fupq6tj7969XL7ygawSekigMugE7wSW7svO9L7uROzmUbRc8mD7eVdWFg6jcJ8zHS84Siqhvk8mUb9/LOvqHNjzrjsraodhPuVBsW0EaW0TePHaJDKqRhGbMYxH5/8fVEfH8ew7MrAMtvdQev33A5ZYTHUJGLRZWE25WIw58ia3gWwDvwobyKbeko/NnEu9pQCdei31xphfNNDxNzEsQtZ89twlzpw9S3NzC01NzZJKaM+ePZK0WZY1P/yMvXcCy2Dyw4Sc0TS87kx2zUjisoajPu5K18uObFI60PXBJEy7x5CmH83Oi26sVY7A9rY7nSecWJM/ko3VI9hoHE2heSyJeSNIq32E7VdkldBQApXBug4CS2drOtoqXwzq4H/5zagJwlDri67GB32Nr7zJbfAQbMAHXbVsfz///fPBqPbH+Av7o78BlqNHdnD23DucOXOOc+cvYrU2sGvXHi5evMzp02c4d+4djjzXLQfdPsRRljuBRVIJnRbKILGkvhv6PRPQvuAsJTMUQbYFTaNRH3Gh+4x9WX7j/vFk1o+TVEFiaf7WV5xR9U2gXSzNP7B0f/2L4+iTVUK/6JfAIEA86FdTXRgXzx/nyqVXeevkXk69+ay8yW0g28B9tIHTbz7LW2/s5c2TuxH78nfu/rXBX4HlWQ2G2kBpdduu9my62rLo2ZZDW+MmOtuy6GrfSlfbVrrbs2lvTJOyNT/ozlh+nn1052+A5awb/VfcJVmzUPvsfNdDyhUkAEbkB2p81UXK3iySIor9ltNuUrLDjrfd6Lviwb6PPek95yZd03fRnc6zskpoqNqauS6MC+eOc+JYO/t2VrB/T7W8yW0g28B9tIG9OxS8/nIfv//gLHt2lEttfWBPNfJ279vgR8Aihmus+kgpoFYE1Vq04dgMkVj1EX89pgtH5Bsaqh36v0K9fwQsF53pOeeG7bAz2waSHZqed6LtbTdpxMWe0NCNrrddsJ1wpun1AWA540bfZXesz00kxzpGUhW1vuyM9WVXei7KKqGhaieDU0LdbZnoa/wx1QVh1PgjFID/iptx4HOZ60IQo0umulB5k9vggdqArmoZO3uLOP3WfuoqfTDVhaBR+VKr9KG2Qt7uZRv8DbAM1Y7636nedwKLSH5YWD2cheHD6f5oEk17x+Ll81vqz3iw45IbhS1j0L3gQmrGb4ivdqDh+ERym8bT/54nTYcmsjJ3JAUNo1lXO4rMqtFkNEyk5c1xcvLDhzjl90tseRBY+rtypR8cRm0KBm0GRu2mf81Nl4GhLh2LLokGY+y/1Q+pBmMcFm0YRk3I7c2mF8tNxP9btcMv+b7ci3vFqKYYZTlz+hBGTSAm7Sq6uxrYtXMbO7a33fW2c8c29uzqkLZdO9vvupxfUod7ce/O7W3s3NFu335Be4i6yMAyBB3TncDSe8kZy+5xhGeMou2cG6WNowhNG0XDWXc6XnRkk8qBznc8qGgYxVqdAzsvuZGmHEHLRU/yTMNJ757IS9cnsaV2FBEbh+O/5ncUbRfXySqhe9GZPegyBoFle3cOalUge/fu4Msvb/Lxx3/gi69ucePGN1y//jWfffoFH3/yBz755Iv7tP2Bjz/5gj98cZXP/nCVa9e/5fr1W3z22R/5/POrfPKJOP9HqW6ffmq/Vqrj1a+lOl67Jq6111HU89NPv+Tzz7/8UZ3FcVH2J598hdmQLY0Ei8SrrfVJtIqEoqY4bIY4KTlriyVe2v97/49mcY+4XiRFNdmdvbiv2WZP7iryhd15X7NNlJ8gJTRtsdqTujZaEmi2xNNsTaJNevbdQUOjJZG2hiQpqexPn3tnHeqNsVgNibQ0VbCtTUNHu9i0NFi2YjNE/6i+P77vx59FPvfL2+NOYDGo/TBoM/niy1t89/2f+Oab7+9u+/Z7vv36Wz79+FM++P2nXL/5Ld9++wPffPt3yvt7x+587s+dF8d/7tzg/T93/ueOD953x+vXX3/LN9/Y6/7113+n/ndc+3frc8ezZGD5SWc0FL7AdwKLUAkJNVD0Zge0z04gZv1vmbHkN1QedaX98F+TH5p3jSGlxp78cGWtPflh7bbRrK4Zy46LrqxTjGBV/gie9P4PSvaMZt+7c/nq6ueSk7l27RqD2/ff/4nDz+9HUxUqZd0eCu3171THO4GlRhnAkSMH+OGHP/Htd99y+vBeLFYbjT07+eyq6FC/5trVq9y6JRZb+06k++AvP3zPjRs3+TN/4duvb3Lrm++l499/9x1f3/qamzdv8u03X/P1N7e49fU3fPvdd/z5L+LGv/DtN99x4/p1u61cv87XN69x/swZPvnwPdobDNS3dPPJF1f54svP+eb7P8EPt3j5pef5+I83+O6br/n++285uX8nZouNppYOLn3ypb1Of/4T1699yedf/JFvvvuev/zlL1I9/vQXuPaH33Py7fdprC+lXh+GqtiP4lw/CnL8sFqS6G5eTnVZAOWqSDqbkiUgaWtMpr0xGQEbIoO6qtif/ByhYIim0RhPS30ina3JqHL9qFJF0WSxZ6QXdtRkjqMi35eCgiDUqiAKy4LpaV9JbUkQZWURKAuWkpnlK2Wcbzbbs7uLjPYiU32TLZFtjckSHAlIEvsCcgTsSPWxJaKrCGTt6rmUV0RKx9obxchRHG0NyWwb2Bf1aDBFI9af+f3v/yC10eCf/c/uoK4qSMo6L8oVdbfqYxGZ5+1AZgc4sX/7eyFljRcAZgc2UV9xTrxvNA0cE9nsxXPFsYHrBl8F5EkZ6QdeB6HvdvlDsI/9n9T9p8Bi1GXwyadfSN+Dr776irvZvvvuBw7s0pJZWoFRrUDVtYc//fkvXLt+nVu3bnLj5tfcHOyXr17lxs1b3Lh+jes3rnHz1g2+unqVmzdvcPWrr7h27br0/sbN63z15Zd89dWXXL12nevXrnH1q6vcunmLr2/e5MaNG9y8cYNr4p4bN6V9cf+Nmze4Jc6J676+JT3j6lVxzXXpWWL/q6vXEOWLZ4m6XL9+gy+//JIbor+4+SX9rc3sOnqam7du8tXV6/Zyrt+QsqHfuCH8yw2+vnWLa1evSfUR94vyxOvVq1el86JuMrAMwS/Tj4BFJD981ZlM3Thaz7jTdNSRtQoHLG+40fumMxnqUTSf96Th+fEUdo2n6w1n1itH0XLOne3n3MircyAxZxglOyai6Z9Icft4thqG0XNxjpz8cAjaxk+B5fnnn+Xbb7/n+798R68iG2tTL5qKXJ49+gYfvfcZf/7zn3jv3XOcOf0y29rb6XvuJb764hN2tm/jjYuf8O65E7S3t3PkpVd454N3+OKPX3L6/Hkun/uAD66c5fWXX6avexsdXb2cfPtNrt78RgKV6zdu8t65N9i+8xBdjWa69x7jyJ69HNy7l3VFaRw8fooj+9pRVhby6dVvOHT0GJ9+8y1dxZkY63s58cqr/P6DDziwo4/th09wbH8nqeV6Pv7gIru37+Gzz//Ay4f3cvTlVzjU3oXZUEiDMRxlziIWLHYiLtmLzPULKCoNpSBzHosDn6KwIAibPpqt6YvI3LCIClU4qixvosKnkb5pCcnBkwgNmUa1IoTszUuJ851Mbn44Xc1JaKuj2Na6gtKNXkSHTycry4/C7HksCZ5Efm4girxANq2bz6IlLizx98Q7eDJmUxIt5hh0dTFsa0qiKt+X9Sle5OcHUqUIZH3qXCoqozFVBbEhZT4mdQQrwtwJjZlNnTEefak/m9OXSlM8OZsWsn6tNya9gIhBYEnko48+HWQV6fXAge0SsDTXJ1GZ643vsqfYkuMvjRYZNVHUm+Koq4rApIu9/YNDTKXVqcLQqqOo18dSVx1uv742HL02lgZDDPraCOpNCdTrozHqYmmSygnHKiDOkoBFG4WhLkaCGZsApCH43bnbOt8PYPn+2x/o6FbRe/IC3316Ft2u3bxxcDdFORW88NJrvPJCN537DvD66dfRVpXTvf0Ir768B1Wllgtn36W73kituY0921rILciitXMvJ164wF/4iwQ7f/jwFJrKXIpUanYfOkxJWRm1hgbe+fBjOlu16I3bePHEUcorK2nd1s+eF0/y4ovP09S2k9eff47iwjKMxm6e23mCz679wI1P3+X5PW/x/rsnObCrjVdee0Wyx6MvHqVj/xGeP/Y8dTVmPvzqW65+cJ7aYgVltXVcvHyF7e3N1Da389orR9BWaujo28Vrr7/Fqy8e5/ChHkpLCjE01LP/+MsysNytkT7M++4EFknWPKASEvmBei97sOt9D0kFJGTL1dvHoxbJDy/b1UPafeMp2eMoJUPsHLiv96K7lChRer3sTtf5ieyQZc1DstP9OWD57s/fsaO6kIpqI1q9lu09u6nJreONi++wZ7cVvaWIhmYrFc02bPVtWI1WGmptdPaosdRrsdSXo7MosNY3UmZuZpd5P6qqNPTtHewwmjDXddLakkfr9v3S9NO33/2J4/sbeP74YTQN1Vz88gepA7v10dtkqbPRlGmwWZtobtVwePcuohKT0ffupruiEGWlgV0Hn+fsi4fIz1Giq1JiM5kpMZrQK5TkbNmMtclEXslmXrn0BX94azdWfRYWfQTdTYkkp0xGpY4hN3UGi7w9SU2ZS9zy2aTETKOoIJDU5Bkkxk6npNCf5bGzUVTHs29HKtmJT7Fy+Xw2xE0nccUi1kfPIj83hPJcb0ICJpNfEIIqeylxIVNJS19Ccc4CQqOeYuUqL2Jj57EqaS6h8U+RkDyZ4OQ5mOuiSF81g7DoGdRoItkS7cWmtQtYv24uEVGTWbFqDquip5ESP5e0lNlERjzDxoQF5G71YdOqhYT4Po7/4kfJzlxCzOo5JEfPoKIyCjFyI0ZY1JWJfPLJ5z8CloMHdqCpDKK1aTmF62bw1BQXsrYGkJ4ylelTx5O2zpuwxe74LJ1OvZg6a0imfOs8FizxID70aRJCp+Dr8yTLE2eTFPMUUbHT8Pd5lGeemUDaJm8iAtyYv+RxVkRMw3fx4yTFzSAw0I3YpFmsip9HmO/jLAufRVtT8pD8/txNv36/gKWzu5JtL73FV++fQttRT2VtGycOP4u5pJzS3FjaX3iVt147RHF+JgUlSj766lOa1Wp62/bRqFWStLyE199+i5ZeE6dffIUtq/Jo7d3JJ19+w+/PHaS9v4Xdh59FUaelyryHI/ubaehoxaSvJmdLJrZtHWQUl2JUm6hsbKG8sABteROHOg7ybP8RevUdVGVVUK0289Kh5yheW0BB/jpMhnKURZl09+1D3bKN8vpmKmpUlK0p470/fsenpw9TUWzk2Mv7KajaSnZ2BmUFJWw/+ArP9XRQ29xGs1FNQ8deDh9pZeeBfvbuNqCxNsjAcjcG+rDv+Smw9F1yp2tAFdR0zIm6A460i/cDqqHWN1wl2XPX264035H8sOeiWHvFhbpnHem84E7XaftaLXLyw18+r/2wbOTngeVb+iry2XPgFbraGqhWN1CYsoUCZQ4qXSGWpgpeOfkibc92o9HW09raSX15JXpzDS+9dpieLiXVdQWotToq6lspX1OA2ljFgRcPc27/YY4+e5ru1izS0lNRNPcg8OTYXgtH3niTve31tPQe5MCePp4/eJCadiV15VaOHn6Vems5l9/9EF19A6+/9yHd5bls33uCjz7+lDcO7KGteT+H20y0WBpQ2+qpzC2iqLSMphYrJc21fPE1fH5qD1bDVimGZZsllpjkp9mSvYTw4EksXeRBQtJMElMXsmH5DIoLAlm3YibJCTMoKgkme81cVqxaRFVlOJuXTyNtvTcZ8bMpKYlgc/wstm4JonDzfPyWPknmZn80lWGU5fsRG/wUiYlTWJW5kPxcXwKDZ7IyeT6JG2aRnbWAmNXzsWgiWJMwhYDQKSirwshOWExdRRg5W+YTlTCT9E3erI2fSmLkHDalzSM6diobUxeTl7WEzcvns8z3MRLiZrBpnRcbs5ZStMkbRUXEbWDR1iRx4cK73Lz1PbcGtt27utDVhNDauJz81JnMmzeJQP/HmTfFEf/AKZQUBJC5fBoLvB9DZ0ykvXE52WnTiVw1i6yopyVIioucwdxpjiTEzGB57BM8NdWV+XMfI9T/CWbOmkjqukUkBT9BTNhUApY9xhNP/5bAmLmE+Xjg9tgofKKn0dKwXAaWa9fuajpITCF998339G2vo+eV0xKwWPfuYndLMyU55fR09rGjW8vBg69Qb1SxKn0tpWY9hw71oiiooMvWRsamdDanV3H63Nv07Wvj4sk3yE7NIi+7nHPvfcVnl4+x/dk+njvxAsamJjamb0FtMLJrVwcbN6exRVVGW28PafmFWNU2ikvKqWvs4FjLDqrUFg68cJL9TbswlNWwNT2ThrpWuhsOcfRwN91tdVQUbKKgtJLCxm40ujoKtSYO2nbwzqc3+eLiK2SsSUdRW83+wwekEaIylYnd/dspzyuh/8Q5OqtzUNfv49k2HXuPvMDh55ppaJODbofkl+pOYOl/1xmVbRShq0fRec6VlMxhZDWOpfWUG2LdFWXPOLSHXchS/o4UwxisL0ykpH+ilL258xVn1hWNJLV8OBm2MRSZx7K13YneSxNkldAQHdL+W2DZL00J3bx1i7ePHZRWrW7q38NHH33AjtY2Onfv4fVTr/LGWyd4570rnDx3lo8+uEKH2cbh46/x3O6DvPf79zn11nFOXzzL5/8/e+8BHdWR7XvPWu9963vfve+9++59c+eOAWNjY8CAsSePZ8Y44WxsnHEaGxxwAGOyyTknIRDKOeecJZRzzjmrpe5WSy2ppQ5SS79v1WkJ44ANJhl8eq3SOTqnalfVPrvq/E/VDhoNxZVlZCan0tBQS31TPR21DTTVdVJWGIePjw+55Y3ojSaaKvLwDU1lYEBNgKczniGRqHp7SU1LICYmnZbmNkqKs1H1DdLT08OQXk9ZShxOTi64uftTVFBOVUU99WWF1FZWkBibRnVpPl6eftK2VG55ARqNkjgPDxzsduFi+6a0VXFg/xJOn1zK+lWLWL/2WY4ffJmPP1jI5q1Ct+MdNn35BGu/eIL9+1/Hy/E91n3+KJ988iRWR19n3Zon2LvtJWxOvcvJPS9z6uQ/8XP7AOtjb+Hr+TGnDy7hk48eYdOGJZy1eoODh1/F+vhS9ux8hSP7XuPAoZdwsH6bNZ8swtpmGV5C18T6XfzdP8Bqz+vYW7+DrdXrvPPmH3jtrYewsn4fm8NLWLFsIWfPvM+xPc/y8WeP4+C0jFO7XmDNyqfYtul5Th5/C5ujr2Mrtl0cBKAW2y7LcbBdi52wADsr0kac7FZK94T+ytkjr/DRsoVs3f4K1gdeYtVnT3DkwGus/2IRGze+iIuj0HFZjvWRV9i3/xVsDrzE20/P5dXXH8H29Dts/ORhtm1dwp4tz7Hyk0c5engpuzc+wbZtL/Dpaw/w/OK/cuzI6xw9+BLbNj/P6i+fZN/elziw/2XcHJfflHPrT/nQ+O4KyyZJ2VzoewkdjJ+ShB5Zb6+aXm0/gwP9aLQD6LQqKsprGBwepr+/D22PFlVXN9V1dXT39aJqb6Wiuo4hg46m+ho6OpSSjlpvnwbdYD81leXUtbQzbBC6In309vUypDdQknqOXYfc6dSoGTEapICFLd3d9GrUVJSVUd+hoFcj9F6G6FMpaWxrRTs4iFajpaujmfLyCjT9/Wh7Bxgc7Efbp6GuuoLq2hZJt0WlUqPt16HV9KLTm1DWFGG16yxV7V2YR8dQdjRTWdOEtq+HsvJqhnQafJycyKloRdXWQa92EK1Wg0bVLa+w/BQBvdFlLgQsoY2zOek5nZe/nI5TxkyeXvGf7AyaiX/dfAIKZrPx1HR8auez7dhtfHp6OuE1c1l/ZBp+TQvY5zyVLz1mkqldwIZj03h30zTe3zmVvSHTCJethG7KCfc7gCU1GaETOzRkZEScTPzEls3kzzwKIplMY5hHxjGaxqRb4+NIZY1GM6OjSEmci7wix8jIuFTGODKGaWSU0QmSY6NjDA+bGDEYqCwuo0dn2Q4SRIXVhKArfqINooxBb5IsIIaHjdLKjOUujJrHGRkdwzQKIxMkJusYHbU0rk+pIK+kDVeXAziffRNhWePlbLH4kZRr3T7E0+kD/DyEsutySflUKLBOKt0KE2Dpf2GZ47RcstDxmrAYEhZHksKs/ft4Oi3H1e49SUFWKMv6uIo6hGXQcimPoC0UeL2cPpAUUwV9CVgIhVZJ6fZ9PJyXS8qpwmLp9Mm3cHP5EHEuLINE+4QSq7Ay8nP7SFJwFdZIgo63q6UdAoRYwMoFK4B2b+Ni99b55GpvsRASVk6Crr/nx5KSr+iLqEO018KXDyT5nswneCb6bXPsDdydRbss+YT1lLC68vP4WCortpCE8q/I5+KwXKItyoo2+rpZFIrF/652F7TxJgX/lzrPXwhYhPt5uzNrqaltoVOhor296yeltvYuKXhgZ0c37R3ddHYq6ehUoVRp6Ojols47OrvpVKhRKjUoOpXnz8V9ofTb1aU6X1bQUKp6pS1EqU0dSommQqGmLy/MLAAAIABJREFUqbaRkooWVGoN7e0TZRVqqX5h1dfdpZb6IurrUKik/y1tUKLo6pEs/yzt65ZAkmhnt7IXYf0nrisUKkv7FUrpfktjE2Wl9VJ7RFsEDZFXACyVWktbUz3pWfm0dQkrQbWlv6K9CpUMWC5VKH9O+S4ELMJKKLhwNu9tno5j7mxORt3NZ3umsD3y6+CHYcr7cYmbwRfWFiuhFda34VB2H4fcprHa9W7Sexew/tg0lm+ewv2L/o1j6XLww5/T876ctkwClrDA7diffkMKOhYS5EZwoNN1T0FBLkSEuRMS6ETQNahf0AwJdiMkyBWHs59fcWC1y+HzleYV4MhNWin5eb3YLaDqx9sk2i8A1pXy4VYo/w3Aclo4X13GWeuVnD29Wgr4J4L+/ZyTnc0aHG3XXLc22p75Eke7tRetz/b0lzjbb8D29Hf5JlsJ3YTo/9uAxT9vNp/svxOPgjnsPDJVWiWxL5hHUMFsNhyfjn/L/TjFzWCj853SCoswYXarmk9w8b2s2TeNz/ZN4Sv3GRzyvJvVx6ezzuq3hDbKwQ9vxsn0a8CyA+ezb+F89m0ppLvdqde5FZPtKbHN8vpNBVZuRrmS23xxEPdNwCJk8T3c7IU3eOHETxzldLV4IAOWmxywSFZCVfPwK59HUO083DJn41o4l5C6+YTWz2O/752cOjeHkFpxfz5n4+5ii+/dCEXdILFtVD4Xu3OzCayfUNytno9X8d2EyVZCN+XX44WAxcnmrZuyD/LL8eIvR5k3Pz/efBew/PzaeKvIjQxYbgHAElgzn7BmS/DDiLYFxLTdR0DVPITZsrAe8imbR2T7AqKa78O7dC7+4nrVPCaDH8Z0LpAAjbAaEsEPZSuhm3fCkQHLzfvsbpWXyi+tHzJguX5jTgYsNzlgCW6YQ0DZXE6HzyK4cT7H/WewwXUGPlXzCK6bj3fBvTimzGK79e3sDbsHt4I5uJbMlQImhjXOxybibtaevB37vLm4p8/GNuNeQpvk4Ic366QrA5brN3nerDIit/vqyogMWK4uP39IPs8DloRYK2xPviRFYhbRmOX08+WBq+3bktMo14y/IYIf7jx6G0++PRX3nHtYsf02dgTejXvZPCLq57HT406OhM/kVPBdvLd7CruD72KX6wwp+KFTzN2s2HU7J8PvYtXxaaw5fAfrnWbinHsnYbWP/KBr/lPHXsFFlpOf3TgREddrqzMI8d+Kg/XrP7v2yfPKz3dekZ/NT3s29qdeJTrsAJXlidhavSyPuWv4XviVsBUXv8IcHwI9VhLut1FOl8sD/034e67Gy/UzvK9D8nX/DPszX+Ca8SBihcXj3EyW7bkTK987ef+j/2Llqek4Fs/DP2sW6w9OJ7T7AYKLZrF82xTJcdya41PwqF3ADocpbAi1BD/cYj2dt9ZO4ellv2Zf9B1ENV48+GFaaiL2Z5bh4/75denv9eDprVKHu9OHNNTlSBOoh5Mwib0+MinXI/P5lyoD7o4fkBh7ipqqNMls/pfKh+vR718ZDAYa2huJTA0nPDWI8LTgn09KDyEyI4zIjNAfbVNkZigiRdyA9kekhNDcXi8FaNNqe7jWSa/XUVZSgmPKHwgSW0K5s3h703SsI2aw/tR01p6cxvaIOQRkzGLj/hl4l8xm6YbfsD96NjEN8/jUyhL80DZkBp8cvgOfwtmsOjyVVfun8bcl/8HO4OnEXiT4oZCXnJwc2lqbGBwUgbSufX/lOi6PxzrdIP39vfKzkWVTloHrJAMDA32IIH7yXHV5c9Xl8utXYnXFPswe3zg/MsqySClOu8KUSlppJjmV2aQUp5JamkF6WQapJWlSSivJIK00XaojtSSd76Y0UovTSCvN4FxBIlEZ0UTnxJNSYikjrqeXZUp5Uksmz1OISY0lOiWO5MJ0Msozv1HnZB2ib6Idon0ZEzSutL/ZlbnYhToQkhYqrVSJqLfXOgnHWzXVdRbAUj8H/6I57PKYSUDdPHY5T2eV3R341c4npHwOW53v4FjgDN7fdhsbzs7AMeUe1p64Hd/a+YTXz+eg2x2s2DOF44mzsYubxYnIe9jrNpXguu8PfigAS25uLkqlGhG5+Vr3VaZ/+fKk1+sxGERI98svK5eReSbLwE+RASOWcfdTysplLlXmfiVcWXrGetLW1Sa9cCUXlsKN5U9JwOiABl9nW/YdPE5UXIkUdl7Xb9l2EhUI75ci9oX4jZvNjAkPlhfW9bUDTsb1fQTbu5Ce33y+beOjIwz0DVr+Hx1lYIJ2flQEfgGJ6AeH0WoG6OsbZEzQFT9Bc7KOcTANDdKj1EieO89fn7x/uUegqK6IUAFYxpHCZQ8PD1/To9k8RlVltQWw1M2WrIHCmuZLsYPCmu4jvOk+6VwEMzwTMxOb9HuJ7VxAZMt9nE2cydGk2YQKk+aqeUzmF9ZBkpVQgzheXOl2ErB0dXVhNBqvaT+vNR9l+tdWTmX+yvyVZUCWgaspAxJg8Yj1oLallhGTCKJ1ZQw2jJjprMlhj4MXw7o+gmzOcPTQSVKicsgPP0dYeAjuvqGUllUREupHSkomadnZRKalUVESSVZeJVUFhdiePcW5/ALKqwo5feQMSp2ZMV0XVqe3cujIaRKziol2ceTIoZMkR2TRnNuAm99ZPCJiOHFwI9YuLmRUlHMuKhB3twAKSuJpbGohPS2bgMPWOHgGoOgbwmTQX1Gfx83jZJVn3TjAUjtbAhrhE2bNvuVzCaqxgBfJbFkAkAlwElxr8b0ifLAESMES5yNAjV/FPERkZ5EvuHYevhUzibiI0q0MWK5sfFzp+JLLy/yXZUCWgV+qDFwDwDKOsqGQwx4h6FRNfLBiLU6OZwhx8WLju58RVlqDrquJrZu+JDgtm+JzKcQkp+AbH09FSSCxMbGc2nMMJw8fQsI8OWhli42tI8rBEUY19Rz2OktjTS22Ow6zYt12HB1PE+wcgOPOU+yxOU1iUx+1+d40tdbiZn+CgydsiY4KxdF2E/sPHMTePYRU9yyMgEl/5YJ/owFLSNMcHKLu5suDd+KZP4cNh6by+ue/4cS5e4lsnY9t4iyOBd3F6u238anNHVgl3YNVymzJcVxo1VzJ3PmD7bexN3QmVoF3sy98DpFts2TAcoXA/Zc6ocj9vvI5ReahzENZBr5fBq4+YDGZUbdW4hIej1HfT7irPXaOHmQkFlCaXIR/nB/NHc0c33uAeo2ezDA3duzew5bduzl85AD+bj6Ex6dR31CKt7czwfE5VOVm06U1YB5sY+3md9hxzIbcqnISfFyxdfQmKyEOV2sfchuryWnsprY4ktbWOmzszlJaWkdhegI5hYm0traTkpxBTlg+/UYThqvwUrrRgCWscQ57T03hyX9Owb91Ad4ZM/l471S8auYTWn4vX9lOxy7nXsKq5/Lhjts4GDWTbdbTCWpdwHHv6XxuPYOo5rkId/0fbL+dlSfv4EjU7YTVf7+VkLzC8v0DSZ5gZL7IMiDLgCwD11YGrjpgmXxgev0wer0Bk16HQtGFbmgYo2kEk8FAT0czJTmVGM1jDA5oUamUUkjq/PRM2pVaMJvRDw+jNxgZGR2xnOsN6Pu7CY4PoEUp9FPGMQ0PSrQHh4Yxm0cw6ie2dyaOxpFRTCYDw8N6SSFKKEVNpsl2XunxRgOWwPo5BBfN5v3NtxPQsYADZ6ax3fceotvvwyPpHtbtupNI9f2cCrmT1WfuILLRYiXkVHEfu52msC7QYtb8ldV03l1/G3945v9wNP0u4ppkwHKlsiGXv7aT1/Xm75CYZybU4qTDuJnhoaEr2lK+3n2Q67u1ZPKX9jyvIWCxgAeL5rRBAgqCuRYgYpLGu1E/xLDegPhqF2lkVAAMEyMmkzQJSOBCrIJMApFhAwIgGCf0Ti6kLc4n6QuAIp1PXhNA5YJrAkxdrQd9owGLMGv2z5nFOxtuJ7h5PisPT+Vk+r2ENczHO30Wm0/eiV3cDB577/+yw+8egsrv5YtjUxCAxSd9Fp/umMYOp+msPn0722zu5I01t7HW5jYimh/7Xsdx8grL1ZOdqyWDMp3r8UyE5ZWeuqIcQoMDCQoJI7esFtPoKGYpWfT/xEeZ2WzGoNdjNI1K52bx0WUwYDIZLR9hIybpY07kE8lkNEofc4aJeUl8qIlrUhmh2K7XS/lGTLKSuyzr10PWf751fC9gGRrWC4MXYcczcUQaQJZLY9JAFOdiAAnHc5clRGKlZFBFcnwsap3le2V0xMToxKeLQddHS2cXo5YGMGoyXHId4gtodMIySAAf8TOPmCRDINGXkYlKRkeFaRKIei+7/d/aRrrhgEVYCZXPxTF9jmT145g7Gx+hUFs9j9Dauez0uINjEfdw2P8uDgbeg03s3WxwmEFww3xCG+fjkjaLXe4z8CifJ7nx9yyci13ynYRcJPihDFh+voP5ssbht+RYLvsjz1UvtN4GWff4Ip55+Z+8+eIi/vTGl/TrjXS0NlHfpoDxMbpaG6mqqWXIYEKj7KCqspLGJgXDukGUag1GwxDdKqW0slxfU01FZTVqTR896m4Gh/SS5d2gtheVpo+hwX6UPb1gHqWuohyFeoCx0Sufs+Rn/SPPWh4bl/dOv478+h7Aosc4PEhhZgpJ5zLJz8kkJj4VtbafrJRYsoqr6O6oJyE5hU5lr7QycjkDQG8cxaip4fMP/klRfRdx0ZE0K3pors4nOiaektxMXEPDqaksITo2lmZFL0aj2Nb5cSETKy9VxbmkZBeg6VGSFBlJWWMbVbnpJGQV0dneSFRkHLUNjZxLjKO+RXHFprk3HLDUziawdj5RHfdJlj9RbQuIarEEPxRBEb3z78W9aB6JmgdIUi7ALW8ObqVzCa62BD8UwRITVPcTLgBM03zChXl07T1EylZClyRzlyKXcp4fH7s/ex4JwDLew6bFn1DYAcNNaby6Zhfux/fw8GOLWPjIU8TllBFwaBN/mHc3p71jOLltCX/7x8P8buHLeAZ5s8/qNG4n1vGXpesoyvTggQW/Y+HfHmD/6bMc2vk+SSXt0gdiXYYfX+w9RW68D1tO2hHpcoyHFz7Gs68to6K9D/OIvNLys5eXS3hfyX24/HnhO4BFbxgBXTsvP/4wX+0/zmeffcGnX37BitUr2bhlPV+sXc6xwwd4/Onn8EoqkJYqL4fxArCYeuvYse5TNu7Yyep1n/PZp6+xZuNK1nz2JTs372X7iYPs+vIz3nz7HTbYBEmrIT9ah94AI0Mc2/Q+S979nL3rNrN+ix2VeXGs/XQ1H65fz5vvvs1L76xk+9aV/PUfD7HrqA/m8XFpm+pH6V9EAG80YAlunIN37mwOecwksG4ee11uZ63DDPyqLH5VPHLnYBt/DxsOTmWzz9045c7BsfBegkWE5/r5HPOdwWf7p2KdNgfHhFlYJd9LRItsJfRT5UEud/mT0E3BMwmwaNj43AckV/TTWRTJy1/u4MTWNZwKyCbFeR1vfLyKxJhUdnzyKqs27WTvumdZ9PxLPPj3Z3B0c+XlxY+x5PknefjD/aREHefT3UfJijzOnqP7Wf/hQzz69GIWv/QZQf6uLLhvDg/+cQGfbN3JR2++RIHKwNEPXme3baI0H4qt9ZuCb3I75ed0FWXgO4BFeJzT97Syfe9RGupLeHfJC3ywYQcevl5s2bCSjTt3EOjvxbK3X8cuJI2xMfNlPRCDcYTBniaOHtiNvaMDKz75CCtbK2z3f8ULjz/PVztOcsz2FKeP2WBncxYrtyDGxsZ+tA6h4GvQD+JpfYC3li7DzsqOtau+IjAshINfbeDTzbvYc+AAvgl5ZES4sPT9FTh7J0g6M1cy+G80YAlvnsPOI7exSAQ/LJzN+/tvY9mm/8I6816i6ueyzeUOTsbNwjn5Hpbtuo3dIXez0/5OQtsWYBs6gxX7p+Ocdg+rjkzl833TWWt3NzapdxBWJyvdyi8E+aV4XgYmAMvWlz4hpaqfzpJolm7Yh9OBLSx84jmeenoJ3v4+PP7Ygyx+4Xk2HLDi4MYX+cPfH+Iv9y/CwcaRPz/0EF7+wSzbsIW1by1m05kg8qJPcMj6OFs+W8Rf/7GQ++5/BuszVmw4eJLUcBc2HTtDiP1BHn3sSZ57/UNy8nOx2uuAcugCI4Or+EI431+Z5o++c2ReXf/54TuARXgv7Vaq8fPzIzrQg7hE4fY+hwB/f3y8vfDx9cfTww1vH19KCgsue0tF0Fd0dePnH4Cfry/eXt7ExkZTkBSFo4MPPmHx+Pv54ePrg4+PD2kp56Rtp0ml2osJidCt6O3txdfPH19/PwIC/fH2csfV3QPfCVqiD16eHlLbfb29iIyMlITyx2hfrE5x/UYDlqD6OfhmzWLZjjtwzryHz/ZNYdXB27HNnYtf5izW77uDcPUDeKXP5KM9U/GvnMsXJ6bgVn2fJfhh2IXBD2/j4Tf+g4MJdxJzkeCHsg7L9R+kPyR/8r3r9zz0+iG6WjvoGxhC19+Huk+L9bZ1bD7pTX27Ulr5aG0op7KhmQ6VGkVHE0WFBZRVNzI4qKW9W4VBP0Rbext1VbWo+4cZ6O1GqVKhaGuksKCA6oZOhnRaFKoedAN9dCp7GB81UZqXS0uXFrOhn+ryegaE5aMMKmRQ8QuTgW8AltFRM+NjIxgNBmnw/fifcUZGTDBquqTBI4CBsNARL71v/8wTSrbfvi7+FyAH8wgjwkR56OITlKB/Ob/x8fErFvgbDlgmrITe/mq6xXT54FQpkOG20NkEZs9i06EZuGfP5IXPf82+iFlE1s7l85NTcCi7D6fou1ixdzq2iTNZdXQaa4/czuNv/ZotntOI+YHghyKWkOya/+JyKIOIW5c3ws2CsObR642Mj5lpqCqnsVMjGSiI5z5qHpOshoSlo2nEjJhjxCq0mPNGhbWQ3sDoyAijknWQHr3BZLGMnMxrHpHiQInyklsHYRmk1zM2Ps6o0F3R6xk1W1w9yHJ268qZ/Gy//9meByz1bfUMa/uIz6hAqxsgPiEX5/hy1D09xKaV0W8cpb+zlXPZNdTVN+EeU0hrh4qoxBycz1UwMCy2ZL6/EsF8actmeIjeAZ0EiPoHdBMB2izmgsJkUPhq6VUpiUgvY9hgIK+gjOiiFtrb23EIzaKgoQvTJSqcGYxG+pXdOIekEV3WSkt9PR4pVWiH9D/YzssVlBsOWOpnE1ByL0eCZ0nBD3c73s46txn4180ntPJeaUvoaNBdrDoyja8c7sIucSbrTk2X7gtFW6vAGaw6NI0zmffikjKbs8mzOeI/jeDaHw5+KAOWi8v65cqQnP/m5KWwMBQARQCJK7U2lGXg5pQB+bld3+d2HrDUtddhHNDiFZRC14CBPmUnkfF50tKmT3A6HUolNqf9OeB6jqTsUg7ZReISX85gTxdecbl0DeoxXgywiOixOi3BCdmcCckhK6+CY24xeMUXUt3QTEV1PXHxWRz0ykGh7MIlJJWu9la2HQ4kJLeJjIx8tp4NJyKnjlHz6KWtiggfLENDNFVVE5ScyzH7cKyiSunqG7zi+EEXCukNBywTwQ+FdY8IZhjRarESCqyaJ8UYcki6B7use4nrWkBMxwLsUu7hVMYcKfihiDUkgh9GdyyQ/j8f/LBBthK68BnL59d3UpL5LfNblgFZBr5PBr4BWEZ1A5x2jSGvUYGHdyx2CVUMDPRi4xZHYkkDgZGZHPA8R31zF8fso0ksqcfeMxrnuEqGjBdfYRFLm0O93bjGZOEWmkFQbD6ZhWWERiTjEZLMYd9zhMVl88XxKOo6O7B2iyavohFv3wSs3FMIjstmh2M0/plVkufb7+vIt68ZTSZ6FW1sPx1GckEDwVGp7LSPpahBxdjo1TMLvNGAJbB2NiEN90mAI6h2Pn6lc/EunScFMZwMfijAS2jTfQTXzMO/2hLwUAQ/FPmDqufimnOv5JclqNriv8WvUg5++G15kv+XJ1BZBmQZkGXgxsrAecAitoT0AwNkFDfS2KmiuKqJzKoOVD0a0koaqFP2C1drkgMkdbeKohoFBr2OwvJGMirb0eqGf2CrRc/oqJ6IsBS+sI6jXd1Pf78WrbaPuoY2CuoUtHd0U1yvoKdHQ0ZxA+09A3S2KyhvVqPr15Jd2kRn74DkbfJShEbsGfdrNKQX1VParEKlVFFY08GQ5PX26jH9RgOW0OY5WPvdyQdfTcereDaf7/wvvrCZjkfFPMIb53MyXFj93Ms+2ymsdZmBY9o9HIqdRVjjfQSX3suGw9P4eNdtbPO5i8Med7EzaDYRLffIwQ9/YcpslzKm5DxXb96QeSnzUpaBy5eB84CltqWW0RHhbtbMiFEoxQotWIuymDiOGvWSG33hHVZStGVMcj9tUXK1xP4ZGh6W7o2bTd8BL0LZtkfdS+/gMIwJxTWhu2KAcVHnhHtaUeeYxQvtiFGPSXipHTFKbv0teUa/jhf0Iy8UsacsVnak35ho84hUjwh4KNp5tYTlhgOWxtkctp/Gi1/cjnXQHXy+exrrrW9na9hsoqrmsOnMdDwr57F+92/4yGo6oVX3svHY7QQ0L+CQ2+2scribc8r7WHtkKu9vuZ0Vh25nf9g0wuXgh1dNRq6WrMl0rt64lXkp81KWgZtPBr4BWEaMJno0fQwPD1Fd00Jxi1oCHj09veiGDZIH3C5lL9q+PoprO6QXf2VtC9XtPRL4EK76W5s7yK5oo083LAEe4ZXRbB6F8RHGxscYG9JS16KwAKLxEVqa26itayIguZjcylbyq5sprmlGuM8fEdZB46OShVBPt5KskiYUvYMSXeGiWoCbMQGgjEYpTseFSr/CYmhoQEtueRPtPYPoB7Xk13bQrxMKwFfvQd1owBLYMIeQotm8t3k6XtVzOeB0By9/9Bu2hM0mIHMW63beSWj3/bgmzGD1menEtMxnxanbcCy/j30uU1njM5PsgfvZeOJ23tt4Gw888W8cy7iL+GbZD4s8oV29cSLzUualLAOyDFypDJwHLA0dDQyqlVi7J9KlHSQvr4RT3mk0tHZwyj0R1ZCBonPpuARlk5xRwE67GBJy60hJy2Wr5zlUwyO0tzbiEZmNc2gulS1d5JXUUtHSTXlZDeHZ9XSrNbj5J+B/rpLS6mZyqzvJz83jsE0YNqE52DjH4J1aiot3FF5JIsaGhoT8WsobWwhJyMEtNJe0skbyi2vIq2ghqbCWoro2mrt6aG9ToOrXnV/ZEVZCWpWasJh0bOLy8A9J4nBEKQN6w8WVg3/CysuNBixS8MPcWSzbNh3PinvZazuNZXum4lg2n4CcWWw4Op3A9vtxjL6TNbZ3EFk/jy+OTMWlcj4BuXNYtWsaa09MZZ39HexxmsEHO6ey5tRvCW96jP5+NYODwwwMDJxPYlVMNmuWJ54rnXjk8rIMyTIgy8DlysB5wFLbWgsmAxFR6TT16KivrCYxr4Yhg47YmGxKq+vZccSPDbZxlNS0c8I2HMekCno627ANTEE9aCK/MJ+IwgaS4nNx9IzjnZ0eHPFOxiskBd+QVI56x2MbnEb0uUKsnML559EIErPyOWMbQ0W7hrKsYro0GqKiUvAKSeewaxgvb/PmoEcMAdnVFOaW4+KbiG9YBl5RySze6I51aDaxsan4xhSg1RsRWz6CCcKMeljXT3p6EXlFVVi7RnHIK5XSJvVVjcVxIwGLV8Y9xLb8hui6KQSX3UZM41Q8kn6NT+FviW+ZSkLLFI75/RvO2b8ltmEKEbVT8Uz5D3Z7/zvxrdOIa51GWOl/YRv9ayIapxJZdRuRtVMIKPx34ht/JwOWnwBgL3cAyvmHJWu+4cnt2wlHSmKV95fMG7GlPTK5Uy7xZNzCJ1kmf9Fy8UseE6Lv5wGLWGEZ1mo46ZVCdl0rrgHJ2CfW0KXs5oRXMufqVegGtZL1jlCQ9YsroU3VQ1hCLv5pVegMJoYGe4mIz8c5qpCa+nY8IrIIyamhqqmDzvZO0gorsQvJIrWoFu+QNM7GllDV2ExhQT39uiEaapro0vRR3dBCW7uCvLIazgRlkFWroCCvAoeQXHJK66ltUaBWd2Hln0pOo5rouFTiKjok3Ri9QThjMjBiHkXd0cpuxziii1spr6zFI7qQTs0gI0IvxmBA5L1SAbgRgGXMbKaqsorV/htZm7SVz2O3sypuB1/EbueLxB2sjN/BmoTtbEzeweehW/koeCur43fwRfwOPg7ewkeR29mUtJ118dtZGbeDted2sDJ2O6vjdrAqYTvrkjazJ/UIvdpedIO686srYqVFXmGRv4qudMx8u7zBaGJIo8DzzHH27tmLT1w2psnw7VjCcliCuY9Lfk9MRoMUeX3UNBmJXbzRxxgZGcU8Ec14ZOxrT5STkduFvtxkxHZRQgRLlXypfJ1VcuJmHh+VwIHQdRsfG5OuTeAoaYt6eHjC8eW4CEtyobNK0QYzFqdxY1I0+8l+CJ09i7M4g3QUzuPEVrnRKKLKizosunuiHpNBL9XZXJzF8WOH2bf/ALHphZhGvs4jVpDNY6OMmM2SQzqzeUza6p7EOILHk+fn+8+ko0wBBi19EI5ChfM66Tc++rXen2iVcNZptnBetFHQHJ0gKlxYTJYT2/OT9ITuo+CJCKdy4Rb9t5+5/L88j/wUGTgPWGpb6xjWDjKs6WNAqWG4T8uQWkNfdw/6Xi2Dyh76lRqGevrQdvdI+XTqXgbVvQxpehnW6RCDSN/Xh07ovGj60Gv6EHlEGlD3SmUEfUFjuFd7/v6QxkJT5OlX9kg0Lfm1GDR9DKpEHaKcha6oU1wz9GoZVqkpKq5G1aPFaDIyoOmjt0tFX5carVKDsU/LgEqDTtQp9a1HuifyDGr7rxi03AjAMm4epbqqkum7+vjf1vB5PGxOgrm2sDwO1kfDbw/BvxyAP3vDImf4uwe8EwQLPOERN/jXA/C/jsDL4bAhAZ5zg9/7wBJH+NVOmGsD6r4B9EMDktKzACqge4eoAAAgAElEQVRicpcBizzR/JSJ5ofKmMZBWZzAk3Mex87Jjsf+9ihpVUoa89JIzq2UQENlejJJ2UXU1ZWi1OroaKujrq2Dyrw0goODSMkvo6O1haZ2lfTubSjIIjIqlrDYRJqaGokKDqWgsonGqmIioqMJDw+nXaWVnFc2lhUQFRlBbHoeyi4FdVUtSOYHpmHKKiulUCJZCVEEBYeQV9YMYwYSI4NJLKxhfHyE/Mx4goOCySwop6O1lk6VBrWijnalBnVnHZHRcQyZTLTU1aLSDtLR3Ehzcws19S0M9KkpLKlBpRCR5COIjU+hq3dA6oPfljU89Ojb7N+7nkdefZvW3kFS4yOJS82mX9tLXUW95BCzsaGFuuoqhoxmKgoziU/PwzxupjzrHIEB/nSq1GQmRhCdVYJ5XAAbAyaDlpTESAorO+jvaSY0JIz8shb0Az0kRYUTFBJKRX07nXX1xMfEkppTLbWpqTybwJAo+oQKoV5FeHAQZXXt6HVqosNDOJdZgckwRH5eNt19Yov+yj8Kf0h25Hu/rPlIAiy+GQGc8w8j/aAXJV4J5DtEUOydSIlXHPmOERS5xUrX8p2jKXaPodAlhlKfRAocI8h3iqbAI4Jc2zCKveLJOO1HkWs0+U5RlqNDuFQ2zyGCItcYityiJZqijsmU5xBOgWsMZX5JFDpHIf3vHE2hUySi3Nf5LDREvZPXxbHcM570A55UhqWTss+DQtdoiYZoQ6lvEsWu0RSINnvHn29LgWsUSTtd6O1UYhDur3/iUuuNBCyz97dxux3cbwNb0iCgAvZmgU0+vOgO/3Yc9uXDQ47gUg1+xTDdDuxyYdoheCkGXLJhximwK4SjZWATC894wd/sx6XJdaBPQ319PU1NTbS2tkphEmQdll/WJPFTx8alljONgao8hRd//zRW1id47tlXcXK04eEHfsf9f/0b3qGRfPHaM/z+mZfYsH4VZzxCOfjVSkLOZbDs7w+x+IUXeeTVT3CyPspHG47R2NRKmq8T983+Tx56azXZ6Wl88NITPPD3JwkI9OQPd83kL4+9QXVHn6TAv+flZ5j/wF+Z86ff43TmNB+/8CWlDY3odCreWv4Bbj7+vDDvL7zywjO8+eYh/Nz289TiJTzz3KtEJMfx+jNzeGHJYha/+S5O1mvYcsSGU7ve5ZiNLatfX8x98+ey57QXJ7Zu4LhbIJs++5xTZ86yeftRjm/5kD88+A4Hd65m/p/+zG+n3INvTpMEDsIObOEPf36SZe8v5cFXP6alS83Oz97nrinzcHX0YttH+zm9ZRsH9lizY8M6YqIjeeyv85g/54/4hyWx8pFHeP2fK9i3bSXPLX6RZ598Fve4PMbHoTYthEV/+h1Pv72dyppclr7wGHc99i5p0cE8PPtBljz1KKvWneXIh+/yzJK3eGLhK7h5e/HWK4/z1itL2HzMAdsjG3nm+Zf5dOshmjsa+OS9JfzXzAfJqG0h0N+N+u5BhLXnpcqBnE+eV35MBiTA4pcVSKy9Fx1Z5fRpetCPmWjNKKSpuEVatVC2dqIfH8c0PICiUUF/r4qG7HJ05nFGTYN01ndS4BlP7tkw1E1taAeHMJmGUCvEhGAxSBbH5qoqujo0TCxASvfEauwIYwx0K6iOz6N3wLLEOjTYh85oWfL92vDZTFNxDUMTS7hidXJywbIuPo+M4/7UJxdKdEVJvbBISsiiW6FF36+hMb8G/egopgnT6SKPOLqqmjCMiCXNnyYsNxKw3Huwjf84AlOc4UwRbIiCLYmwOR1e84U7XcElE6YegKf8wTYf/uchsC+DedawKRO+ioJfbYd1OeBZBR0aeNUD5p0dR9OvY2iwnz179rB48WKysrKkpV4ZsPw0WfmpMnarl5MAS2kST899hP2nrEkubyHcfjX/d/YDvPjM4xywdSEu0oXnn3uegNBQXnnyDzy3fBOa3jaWPryMyppa1n+5BadTB7l71gMs/OsCDjh5c3Drq4QXtZIW4ofD2dM89Zd5NOpGObn8ExyDq6R5Qsw+u5c8x8NPLOHBR57g2AkrHpk+m8ce+wfLVn3BG598iZ2TMxuXWdFek8uWpVt5+8Ol+OQ04b13Je+vX8eKT5ZS3VjJlk3LsD+1jnm//zN/fmAme/fs4O+3z+S5F5fwxVZ7jm9YwR/+/ghzH3gIN19/nvrLH3n1lVd5/9WNeDqf5t65f2LmvN/jldkgtc178yZWr3ekqbmKxQ+9yEFrR3y83Vm26Gn27DzOlg92cXTterZvPsL2TRs5e2A7d99xF0uefZpTtq5seGktmjHY9vnrWMWWEnNyDa9ttpJoF2dlcuboDp559T0c7FxxczjFH599GXd7R7aucaMhI4rNnx1l1/KPCM+ox2bvxzz47LO8u+U4usYcnl/8BAuXvEtiaSuZOekEerrj5uLII48uxCOzUarjalpj3upjQO7fpc2pFsCSGUi8mz8tUckknPVA2T9MR0EhiTahKBqaiTvqhVLbT6GbGxG2/hTFJRKx6zR553IpdQ4m8GggBQGpFDpFo6woIzcqm6aCQrIDkynxTKC1vp2a8CiiDnlQmlRNXXIu2Q4R5PmGU5FWySjj1AankXDYm4zQeMoCUylKOkdxegHdTR20lFdRFZhETXoxRTHplMdnURyYQX1BLZ21LXTWKahNLiT7dDB1ifkSPb1RbA/1UB0ZR0ZgAqknHTnnnIJOb/HrIuoUgKW7puWmBSz37G3jdicIVcCGSMv2j10ZeBbDo7YwwxWcs+G3B+DZQHAvhn89BA6l8Hsb+KMvuBXCS35glw0rcyC7GrbHwe/PjqPsHcBk1NPR0UF2dra0ry5vCV3awJInoEvnk9E8jqIkhe2fW0+ACOiuL+DdZ55i6XtfUZiXzmuLH2XhM29Sp9ayctFcPtgXQHWaF0+++gldimb27jlOiJcjDy1cxDOLFmLl7s/poyuJL2kjxG4LC59bzGvvLqesuwfHTVtxDyuRAhOOj49is+pDHn/yOR57/lVsXV156x+P8PzzT7F25x7W7zmEf3AwhzbaU1uSzr71jhRkBbLokb/x/IdrcTu6hzfeW02XoppDh77C3XEvvnEZnAs+iHtQOA571/Pci68QXlSJ2/HDJBTV4XXGCh9/f5Y+9wbxSYkcXL0b6xMHCI3IYv+BnfhmiK2mcZLsjvDXBx9l8eLneOXLA6TEefHYokd45+3luLh5s+LJx/nrH//In//0FxY9/zF1jXV88vZiXnp7BRVNNRz6aDvVPaM05Ibw1GN/59HF71DY0IV5bJy8CA8e+8dClq/ai/WOtTz7zCv8c+UGgj19OLbHh/LUaE4ecOPwx8t5/JHnWPLqF1RWlrPpw+dYuPAx3GLzyY205eG//YP3Nx8hws2KRY88zxvvLCc+sxBH+5NUKQYs/rt+4segPIYufQz9Unh1HrDEOfvSlV1KdrA/7Z1aamPjyD9XiNE4RIZXGDUFpSRsOUrgHluay5tJ2WdHkmsISVvP4LvegVSXRIqcIhhQa6iOjyb8bBCV51LwWryZoG0uZAaFk+4VSrp9CuecY8nwCiY9OIh072R0QF1AAuFbPSmNTSHNJpOqkhTSQiKJsfKiJDWHmE9347fckeyoRKKOe5PuHE92QDxRx12pq1PTlFZkASxJBQjVNL1Q5OtXku8WS016OUk2TkQdcqe2TiFFOxV5ijxvcsCyr42ZjrA8At4Igt87WFZSXvWF247Bb07Cjnx4whlm2sBCF3jAG2xyYMZx+PUx+LMXfBgBvzsLcxzhQXtY5AELHUDZN8CwbkBafRKO92SlW3kCuWYT49AQOp1OkjXJQsZsxjCgRd3Th3kMdANa+oeMaFtLeWfpUpLKFZgMOnRDQ5LyrFR2aIheTQ8qtUZSrh3SDaIb0jNi0tMndOsMRgYGdQzpdN8IVjikG6BHrUKjHcQ8YkLbq0GlUjFsHGF4yFKHTjcklRkc1CH0eft71fQbTBiHdQzoDBgNw1L7h4Z0kn8qcRSWT+ZRIyqlUgrmKmgJ/on+ifYaDCZGTUYGB/olBffRMfM32zakQ6NR092tZNg0IrRgJd2VIREoVjconfdoNGg0PfT29Ut9NgwPolT3YjAaJIV5wR/zOAz29dA7pJcUaUUbhMJvf08POr0JoTTb16uVnHIODgxK7RsSeccG2P/WFwTFV0kx3ASIMhmGUal7JZrjY6No1GqGDSOMm0fo6+2T9N10AwP09vUyOCSPl2s2Xn6hIHBiSyiIWEcf6oITyXUIo6Gohny7APJ8MlA2NpFp5Ut9WTvGIS3N1VV0VdRR7JVOj0aHYbCXhuJKchyiyLYORNXYSU9zLeUZJXSWF5N+JojajErKfKIpCEqnuaCBhqI6OmrraW+op7W8kf5BHZ1FdXQ2qNEpVbQUttPdWk9nSws12YUoW1vItQug2D+H1romahPSyXFLlgZLdVIO/QYzVaFpZBzzozI8Q9K81w0Oo66vIvWYO9WJlbQUF5Hvn4xS2Yeuf0DKk2sXRldV8023woJ5lIryMqZub+T/O2jmv+0289/3mPmfB8z8v3vM/D97zfyfQ2b+dZ+ZOfZmFtqZ+R97Lfnmu5hZYGPmX/aZ+fdDZv5lr5n/vtvMvx4w87/2m/kf+838apeZWdajdAllaW0vvb1fJzHRpqeno1AoJH0WeUDKk/JVkYEJz9cX0hJK/EajQXrJi3PhYVvV3kR1Yxsj5hHp5Xj+vrD601usa4RVjNiOEKuB0raE8L0kaIn/hcuDibyTdRkMwvGkCZMwGtDrEXHIxP+T3rjFNUFrePI4PCzNHxI9gwArE22U6FraIRRbRTlJwVW054J6J+u/kKbU1uEL2jyRX2qXaMuERaPoh8grkjifvC/ORX+kvpw/t/RXXBfWSJO8svTb0k9BV+rzBF3Rtq+v6elu66RvQGzxW+iL++Jc9EdYAwleWdqml9oj9WOCT5Y88viYlDP5eOWyIAEWn1Q/MqLiyD4ZSJl/sqT4Kindeghl20hJwVYowObaRVDobFGoLfGOp8AhnFz7CPJdwinxTqA6Kot0ax8KhHKuWwwFzhbl3CK3GIo94ynxiKPQNYoilygKnKKkLSRJydY2jALpmlCmjaTQJZICxygpFbnGSscS70SKPWMpFMq87nEWhWChyOsm7oeTecKfxrQSMo77SUq9Qgk43zGKUp8kSdG30CWWEs948u3DEUAlzzGMjGO+aFUa9BOT4k8RqBuhwyIm7taWFo55JXEsMIcTF0knA3M47JvDQf8cxLlIR/xyOOhnOb9YuWMBOZwOziE9I5OszEwyv5WSkpKkL1YxOf0Unsllrnzg/lJ5KEygxerAL7X/17vfptERaQXretcr1yfPEd8nAxJg8Yhxp76zQbLbFxrkYjlx8icQtNBxFdeMo2bpfESs0Qp/AVJ8HktO8cVjNI9IFjcCAFwsCTqT9yR0LtC6iPQsJSPGEZN0/o1r4gvlgnLfORdfG2JgiTaMCr8CFh8rhsn2jZkZEeuiwvfCJB3xpTAm/A5cmRb7jQAsk+bFjBmFbeG1SWbLV6Xli8vyRTf59SS+6sRX2fcJlHxNnmhkGZBlQJYBWQauhQxYAEusB3Vt9Rh0GgrKMxgc0pGaFkBgViZabQ/5pfkMGMzoelrJLyukvb2KsPRw1D1qolK8CUg7h3bIcAk293rJsZJwfCZ+NSVZVLd2SA6WjKYxxgxaslJyGBqFEYORMbF3ra4hu+QcIi7j5TBAfIkN9HTgG+tKVkMz6s56QrJT6Lukdl66sN0IwHI5fJDzXvqzlHkl80qWAVkGZBn4+crAecBS397IcG8rDt47UPQb6WwpwSfUj+bOJhy8HVBouvBz28QJzyPEp0ey++wWgpIjOO61h+2e7miE4tkPfHXr9UaMul68gk4QlJ5BdnEku6x3UNLWB+MGwmLtsI3wxdXhBNbhfjS2lnHK+zjJudGExZ4kvaKYviHjJXtPFCsDun4tpYWJuMWFY+38FUcjg9EM6q/qEqcMWH6+wi1PPPKzkWVAlgFZBm4dGTgPWMQKy5hei6vvVkrbFERFnsArJYGh4QE8/GxJK83hrPt2tjp9RU1TFUfO7sA/PY262ixO+/lS161l5Ad0QcQKSl9nMV/ufpXP9u/CM8EVRz83ErOTqa4vxcPLCvf4CJKik4nNDMYjzIO3Ny/mZIANB23fw+lcCnqT+ZIjLRuMI/SrG7B2tyOjsACPwKPssN9FQX0zY6Mjl7Va80MCLwOWW2cw/NBzlu/Jz1mWAVkGZBm4sTJwHrBIKyzaLoKTAilvbiQxM4SIvDS6lB0EJgdQ3K6UXMCp1e10ddZxrqCAQd0g5zIDSK2sldzy/9DDFCZ8/Zp2ItPDyaupo64mh+C0BBpaaqlvrCAxM4i4sgI6O1SoNEqqaouJTIuivKkOtbKBwqpiegaHL2HbycJQsSXU292AX7w/GdW1tLVVkJSfjlanv+RVmh/qz+Q9GbDcWAGefA7yUX4OsgzIMiDLwK0tA+cBS21zDaOjFsVUs+lrX7TCTE78xiSzNgOjI2ZME2FEhdmf5ScCXv1wdFVBZ3SinIiFM1nXiGnEEvhLVG0WQcCEKePIBF0wj4xiEq4wgVGTJZ7NpQilUEzVT9IRSrcTccNEQC4R1OxSaFxKHhmwXD1eXgq/5Twyv6+WDAhzXBEAURyvNAk6FjPmq0fzSts0WX6yj1eLbzIdeQzeKBn4GrC01EpgRD88JNnYd3Y20KpWYzKaMAwLp0l6yU+B5HhpsI/mzhaMI2PoBnpoVrRLPgou1gm9wYi2T0ldSyP9QwbJV/+I8IugH2F0ZJQx87gU4VT4MzAZRzCbDLS2d2ISAGpMhFUfQKlop0OhxmwWEVJ/GBxJ7RD6NLp+Gtrq6RscxqTX0dDRwsDQ8IQPgasjdDJguTp8vJjsyNdl/l4LGRAfLepeLSpNHyqNOF5ZUmr66OsfQDswiDi/UnpXvXyv9hvO8q4FT2Wa8li91jJwHrA0dDQxqK7H1ucAyn4d51J8OOHjTlNbLWe87egxjNBYGIpPuDuZeTHsd91PbnkeXsFn8MpOw2Qa+V4gIBwnCeuj4OCTnPSzp66jnYKqHOpaKnDxdKCyrY2SimxaFd30aPvo0WrIyAzgbEgk7R11ZFdV0qWsIyU+jPS0IhRqBTr9j/v/MJhG6OtuxSPECvvkBBISPTgRHcaAYVTeErqKK0zXWkBl+vIkeLVlQDiTEx5gKxs7KKlro6y+/YpTcW0bzQoVnUoNRbVXh+bVaJegUVLfTnlDu+TlV3ZHII+nqz2erie984CltrWWcaOO6NgTtGsN9LSXkp6XxcDQIPFx4dQ2FLFt/1K+st9EXnkRp1x2c8L9MEfObsE5MhhFzwCm7/NpIjw+DvWSmRqIZ4IPXtF+2ITY4xd5CmtXF6LiwvAK9CAhMYyY4ixOeDvgE3QW96hQ/EJ8sfY+QXy6F5GRNhw8vJOsyhrJ/8uPM0ks0eqoKS8juyCTYw4bOBHoRHW7glHTTw92+O165RUWeQL4tkzI//+8ZWISsFQ3d0ov8orGDi6WxIu+TtFLQ4fyB/MKYNDapUah6qV0AiBUt6po7u6joUNNRUP7ReuYrLu8oYP6jh5qWhSIc3Fd1F/V0k1zV6/0f31XL3VtXd9sS0M7lc3dNHdrqWq01CPKVbepaenSSHkrmzpkwCJ/qF01VYgbNcedByxihWW4t42DDhtJr67grOsmTkUH061s5YDjLuIqa2htLSE81Y+W1kqcAz2obm3gXJITDkHeKHsHv9dcWHJRPaQlJtEdu0h34rKTsQuxJrk4g4TkUMKTUuhW9JOf68sOz9OEpaXgGGSNT1IshZXNNNRlklUQSkZmFBGhHsTm5zBsHP3e1ZwLmWgaMaNqLWDdia1E5hWQkxfJaT8bGjpVkt+XC/NeybkMWH7eL6crebZy2Vvz2V4IWMrq26jv1NKmGqBFqaWpW0ujQk1Nm4pm5QCKvn5crE5i7ZFM16CBmtZumlQDNCt7qW1X0947RItCTWld2wWApY2a9h5KSgpxdPfBO/Ic1R39tKkHaOpUU9fRQ1NnDw1dvdR3qmlWDdAq6leoiEvNJqe6ndqWTgmgVDV3UVBSim94IlXtKmJjEojNqaJZ1U+reoC6tm7qlTpqq/PZtns3OQ29tPeIdhtIjgliwxGxit1DVVOnDFhkwHILAZb2BknBVQQLEzEihJLsgG4Q/bAendAZ0RsZF7qvY6CXAnxZdFGEEuuwQSjjChfOIl7Hd5PQgxkeHqBfNzShk6LDNDKOyTgs0RV6LGJLSbwgxs1jkvWRsPIRNEdMo5JujVD2FW52LfE9vlvHd+qVYoeImBdDDOqGETozQ8N6SWfmO3m/p82XmkcoA+dW5hKaFiq1T37J3ZovOfm53jrP9ULAUtumIjTUi73HjmNt64aNvT1uYWmkpZzj+EkrQtLL2L7sHZavOoKHlw8peeU421pz2jmQcykZ7Ni2lwOekVS1qs4DlvKmbqoqClj62ovstfXGMyyBtLw0du87gEtUKvFJ8TiGxOHrGUBgeBK2VtbsP2FHXFo6jyz8C69ttKayTSWBjIaufiL9bPiXafMJT8ng/jv/kxWnQsmIi2bH7qPE5TSSmZzIV2s/Yv6DC0kub8XGzoYzAYl4OhzggcUfUNU1IAMWGazc9GBFzMG/Ei9c+zB70ovT6VQpaOtqo1XRSmtXK21drdL55LUWRYvl3sR96X+Rp6sVcf5DqbWrTaJnKSPqmKA1UVbU+e36zucR9V2Qfqieb94TNMWXz0T5S2jnN8v/cJ9EXqVGSVhaGP5J/pIlk/xiu3VebPKzvDWf5deARUGbWsf6Tx7n6fc/5YkXX2L12g28+dJqbJ2cWfzsszz14RaObl7PtN9M4YPdZ7Dat5lHnl/Ki88/z6pPPmPB3Mc4GyM8divPA5aqdi1JwWf4+3NLaBqCIaOOT154jh3Hz/LWknd4+733eG3jXr54/R3WrNnBs39bxIefv8lb67ew9N132OYaT5NCJa2wCMAS6ufI7xc9z9I33+N3Dz3GZ9t3s/jN9zh+6ggvvPoCTy55i11HD/Pau2+y8cuPefLlV3n4qTdZs+krFr33JVWKfhmwyIDl1gAsIyMjpJekYx9kj0u0C85RznK6DB64RrtyNvAsZfVlCF7KL7lb8yUnP9db57l+E7AMsm7l0/xz1yFe/eBTjlnZsOzpt3jyzZf454qVvPnpFravWsFff/dXlq7azMH923j0uTc4bu/InnUreeGlTXQMjSK2liZ1WMqblVSW5fDSC89y2CWUyJQUVr/3Nmt3HOSj979ky7atPPv+Cl5/fDHrN+zmzedeZ/fBlbyw5is+/fB9Vhz0pkOrl7aougfHCPW05u9vfEpgUDBvvbuUZV/t5p33P2Tn7l188OEKXnz9PdZv28ZTS15g985NPLrkTY6e9uLo7q/4y2ufUqWQV1jk8XtrjN9fCX8lY6Nj0nYGIsTPxLaPfLxEXgiejQsfMaOy2aD8FSMD1ptABr4GLJ1Ut3QRnxxHRFoeoQlpnMsuJComk8S0czi4eRKSlEtCYjpJWWUERESQVlJLWEggLr4hxCWlERKdSWVrt2RlNAlYSuvbqO3QkJudzmkHVzwiUimpqeCsgwvhWRXUNDTg4uaBrbMfSRkFhEcmkZiRRkhqPlnZ6Zx19sDe2ZOzjm6cdfbEJyqB4KQ8OrV6EpISicmrISctjdN2nuRVKcnNycLG0R2XoFgqmjvxDQzCxS+S+LQs/OPSqWjpRla6vTVe2L904PWrXzoD5P7LA1mWgV+WDFwIWMTKSF1HL/XtKho6e6htU1KvsCjGtij7aehQSUqy9R0qGhW91LR00dCllax/hPJsg8JiAfR9VkJC8VYo8jZ2qKhqUdKi6qe+XUllcxfNyn5aVFpqRb0KDbXtPTS0q6jt6KW5s4vo2ESCoxMIjkogvbyZ1m4N5aKtnRrq27olpV5Rvqalk5p2tURbWBJVNikkxeHm7l7q2tU0dvbIVkI3AYiW56BLm4NkwCILs7wqIMvAL0oGJgHLpB8WYYZ8penbflh+Or02yho6qG5TUdNuSZVNnYhVm59KU/bDcmkvQxk0/Pz5JAMW+WX1i3pZyZPSz39Suh7PSHi6Fd5ku3v6UF6FJOj0agfQ9g9eNZpXo12ChtRHTZ/kLO968FauQx5j10oGZMAiAxYZsMgy8IuSAeHtVejudSkUdHZ00Nl55amjvZ0etZre3l7E+dWgebVoKDo7UHR2otPppHhH1+plItOVgcq1lgEZsMgvq1/Uy+paDyiZ/s9/0p4ELM3NzTQ0NNDY2HjFqb6+HoVCgUqlQpxfDZpXk0ZTUxODg4P/f/v205JAEIYB/AN76NA1ELIktFTCKEiIDnkQuvcXiaLsoKCGRjs7M6tm4Jd4YrZEiQx21W1kn4MosjuM4/vO+2N2hmDhfL/S8z3BwgBe6QAmEOwHgm3/0RgsSik4QsDzepCugOMImMIe5mXgMxwOMRqNfARJJf12dK8PJcO1GaYfs+4xOCNYmCu25WLQ/hAsBAvBwhiIVQxMwKIx6GuUj3eQzuZRrlxA9gxeggNjGiyu0ujWa8hltlE8LKHr6H9HC8FCrATFgY3XEywsVrEqVjYmIfsUbTGZBsvHQCGXSqBQOsNt9QlS67lXWPxHOY5A/f4SyfU1PDYFevprxWXWCsiyvydYoo0x5vRyxptgIVgIFsZArGLgJ1jyWwnsHZ3i6uZhIWAxqy1SaXRqd0htbqDaeEVfq1AQWhRkCJblFFDCJNpxJVhYrGJVrDjBRDvB2Dje02B5H2icFJNI7+6jcn4N6XlzPxKS2kPzuYp8JoNs4QCNjgvve0/LogAStB2ChXFvYy4G7RPBQrAQLIyBWMXABCwKQrj+htt2q4n2SxeuDPfoZnoPi7/CIgXarRbeXAVPK1a6qxsAAABRSURBVIgQ+2KCouSv6wkWgiUoDmy8nmBhsYpVsbIxCdmnaIvJGCymiBtcmEJvPpv3sEeJx8eazSmh8bHmedsM25ff7jO/jaeEoo0z5vXix/sTJw43cQ8xlDsAAAAASUVORK5CYII=)"
      ]
    },
    {
      "cell_type": "code",
      "metadata": {
        "colab": {
          "base_uri": "https://localhost:8080/"
        },
        "id": "79BQRnhQ2gN4",
        "outputId": "dcfd57df-4269-40d1-96a9-7f7a61755085"
      },
      "source": [
        "Vika = Customer(\r\n",
        "    FirstName='Vika',\r\n",
        "    LastName='Cohen', \r\n",
        "    Address='Struma 2, Dimona', \r\n",
        "    Phone=\"042-1542565\", \r\n",
        "    Email='Vika@cohen.com')\r\n",
        "\r\n",
        "session.add(Vika)\r\n",
        "session.commit()"
      ],
      "execution_count": null,
      "outputs": [
        {
          "output_type": "stream",
          "text": [
            "2020-12-13 17:09:21,345 INFO sqlalchemy.engine.base.Engine INSERT INTO customers (\"FirstName\", \"LastName\", \"Company\", activity, \"Address\", \"Phone\", \"Email\") VALUES (?, ?, ?, ?, ?, ?, ?)\n",
            "2020-12-13 17:09:21,347 INFO sqlalchemy.engine.base.Engine ('Vika', 'Cohen', None, None, 'Struma 2, Dimona', '042-1542565', 'Vika@cohen.com')\n",
            "2020-12-13 17:09:21,351 INFO sqlalchemy.engine.base.Engine COMMIT\n"
          ],
          "name": "stdout"
        }
      ]
    },
    {
      "cell_type": "code",
      "metadata": {
        "colab": {
          "base_uri": "https://localhost:8080/"
        },
        "id": "0ErR-fGADcvY",
        "outputId": "827a7450-30fd-4e96-ffac-d403bdb16326"
      },
      "source": [
        "Nata = Customer(\r\n",
        "    FirstName='Nata',\r\n",
        "    LastName='Cohen', \r\n",
        "    Address='Struma 2, Dimona', \r\n",
        "    Phone=\"042-1542566\", \r\n",
        "    Email='Nata@cohen.com')\r\n",
        "session.add(Nata)\r\n",
        "session.commit()"
      ],
      "execution_count": null,
      "outputs": [
        {
          "output_type": "stream",
          "text": [
            "2020-12-13 17:09:24,095 INFO sqlalchemy.engine.base.Engine BEGIN (implicit)\n",
            "2020-12-13 17:09:24,096 INFO sqlalchemy.engine.base.Engine INSERT INTO customers (\"FirstName\", \"LastName\", \"Company\", activity, \"Address\", \"Phone\", \"Email\") VALUES (?, ?, ?, ?, ?, ?, ?)\n",
            "2020-12-13 17:09:24,097 INFO sqlalchemy.engine.base.Engine ('Nata', 'Cohen', None, None, 'Struma 2, Dimona', '042-1542566', 'Nata@cohen.com')\n",
            "2020-12-13 17:09:24,099 INFO sqlalchemy.engine.base.Engine COMMIT\n"
          ],
          "name": "stdout"
        }
      ]
    },
    {
      "cell_type": "code",
      "metadata": {
        "colab": {
          "base_uri": "https://localhost:8080/"
        },
        "id": "9EkATh4eFWcJ",
        "outputId": "97b13602-1560-4a47-cee9-0616e68f77a3"
      },
      "source": [
        "Ed = Customer(\r\n",
        "    FirstName='Ed',\r\n",
        "    LastName='Black', \r\n",
        "    Address='Alia 12, Dimona', \r\n",
        "    Phone=\"034-1542560\", \r\n",
        "    Email='Ed@Black.com')\r\n",
        "session.add(Ed)\r\n",
        "session.commit()"
      ],
      "execution_count": null,
      "outputs": [
        {
          "output_type": "stream",
          "text": [
            "2020-12-13 17:09:26,838 INFO sqlalchemy.engine.base.Engine BEGIN (implicit)\n",
            "2020-12-13 17:09:26,840 INFO sqlalchemy.engine.base.Engine INSERT INTO customers (\"FirstName\", \"LastName\", \"Company\", activity, \"Address\", \"Phone\", \"Email\") VALUES (?, ?, ?, ?, ?, ?, ?)\n",
            "2020-12-13 17:09:26,843 INFO sqlalchemy.engine.base.Engine ('Ed', 'Black', None, None, 'Alia 12, Dimona', '034-1542560', 'Ed@Black.com')\n",
            "2020-12-13 17:09:26,845 INFO sqlalchemy.engine.base.Engine COMMIT\n"
          ],
          "name": "stdout"
        }
      ]
    },
    {
      "cell_type": "code",
      "metadata": {
        "colab": {
          "base_uri": "https://localhost:8080/"
        },
        "id": "vtAu73wBGRKY",
        "outputId": "0a1830e5-62fc-43ed-9ef0-ec0b8805ab17"
      },
      "source": [
        "Alan = Customer(\r\n",
        "    FirstName='Alan',\r\n",
        "    LastName='Black', \r\n",
        "    Address='Alia 12, Dimona', \r\n",
        "    Phone=\"034-1542562\", \r\n",
        "    Email='Alan@Black.com')\r\n",
        "session.add(Alan)\r\n",
        "session.commit()"
      ],
      "execution_count": null,
      "outputs": [
        {
          "output_type": "stream",
          "text": [
            "2020-12-13 17:09:30,007 INFO sqlalchemy.engine.base.Engine BEGIN (implicit)\n",
            "2020-12-13 17:09:30,010 INFO sqlalchemy.engine.base.Engine INSERT INTO customers (\"FirstName\", \"LastName\", \"Company\", activity, \"Address\", \"Phone\", \"Email\") VALUES (?, ?, ?, ?, ?, ?, ?)\n",
            "2020-12-13 17:09:30,011 INFO sqlalchemy.engine.base.Engine ('Alan', 'Black', None, None, 'Alia 12, Dimona', '034-1542562', 'Alan@Black.com')\n",
            "2020-12-13 17:09:30,014 INFO sqlalchemy.engine.base.Engine COMMIT\n"
          ],
          "name": "stdout"
        }
      ]
    },
    {
      "cell_type": "code",
      "metadata": {
        "colab": {
          "base_uri": "https://localhost:8080/"
        },
        "id": "UuyQglzCHFqp",
        "outputId": "eedde547-ca78-4cc7-cad1-3839b433ff68"
      },
      "source": [
        "Jessica = Customer(\r\n",
        "    FirstName='Jessica',\r\n",
        "    LastName='Black', \r\n",
        "    Address='Alia 12, Dimona', \r\n",
        "    Phone=\"034-1542561\", \r\n",
        "    Email='Jessica@Black.com')\r\n",
        "session.add(Jessica)\r\n",
        "session.commit()"
      ],
      "execution_count": null,
      "outputs": [
        {
          "output_type": "stream",
          "text": [
            "2020-12-13 17:09:32,544 INFO sqlalchemy.engine.base.Engine BEGIN (implicit)\n",
            "2020-12-13 17:09:32,546 INFO sqlalchemy.engine.base.Engine INSERT INTO customers (\"FirstName\", \"LastName\", \"Company\", activity, \"Address\", \"Phone\", \"Email\") VALUES (?, ?, ?, ?, ?, ?, ?)\n",
            "2020-12-13 17:09:32,547 INFO sqlalchemy.engine.base.Engine ('Jessica', 'Black', None, None, 'Alia 12, Dimona', '034-1542561', 'Jessica@Black.com')\n",
            "2020-12-13 17:09:32,550 INFO sqlalchemy.engine.base.Engine COMMIT\n"
          ],
          "name": "stdout"
        }
      ]
    },
    {
      "cell_type": "code",
      "metadata": {
        "colab": {
          "base_uri": "https://localhost:8080/",
          "height": 368
        },
        "id": "QaWIKhx4Htqx",
        "outputId": "f95a69cf-a049-4802-bcb9-56ef562857c4"
      },
      "source": [
        "customers_query = select([Customer.CustomerId, Customer.FirstName, Customer.LastName, Customer.Address, Customer.Phone, Customer.Email])\r\n",
        "display_results(customers_query)"
      ],
      "execution_count": null,
      "outputs": [
        {
          "output_type": "stream",
          "text": [
            "2020-12-13 17:09:35,231 INFO sqlalchemy.engine.base.OptionEngine SELECT customers.\"CustomerId\", customers.\"FirstName\", customers.\"LastName\", customers.\"Address\", customers.\"Phone\", customers.\"Email\" \n",
            "FROM customers\n",
            "2020-12-13 17:09:35,233 INFO sqlalchemy.engine.base.OptionEngine ()\n"
          ],
          "name": "stdout"
        },
        {
          "output_type": "display_data",
          "data": {
            "text/html": [
              "<div>\n",
              "<style scoped>\n",
              "    .dataframe tbody tr th:only-of-type {\n",
              "        vertical-align: middle;\n",
              "    }\n",
              "\n",
              "    .dataframe tbody tr th {\n",
              "        vertical-align: top;\n",
              "    }\n",
              "\n",
              "    .dataframe thead th {\n",
              "        text-align: right;\n",
              "    }\n",
              "</style>\n",
              "<table border=\"1\" class=\"dataframe\">\n",
              "  <thead>\n",
              "    <tr style=\"text-align: right;\">\n",
              "      <th></th>\n",
              "      <th>CustomerId</th>\n",
              "      <th>FirstName</th>\n",
              "      <th>LastName</th>\n",
              "      <th>Address</th>\n",
              "      <th>Phone</th>\n",
              "      <th>Email</th>\n",
              "    </tr>\n",
              "  </thead>\n",
              "  <tbody>\n",
              "    <tr>\n",
              "      <th>0</th>\n",
              "      <td>1</td>\n",
              "      <td>Moshe</td>\n",
              "      <td>Cohen</td>\n",
              "      <td>Alenbi 99, Tel Aviv</td>\n",
              "      <td>053-5556789</td>\n",
              "      <td>moshe@cohen.com</td>\n",
              "    </tr>\n",
              "    <tr>\n",
              "      <th>1</th>\n",
              "      <td>2</td>\n",
              "      <td>Lisa</td>\n",
              "      <td>Cohen</td>\n",
              "      <td>Alenbi 99, Tel Aviv</td>\n",
              "      <td>052-1234565</td>\n",
              "      <td>lisa@cohen.com</td>\n",
              "    </tr>\n",
              "    <tr>\n",
              "      <th>2</th>\n",
              "      <td>3</td>\n",
              "      <td>Nika</td>\n",
              "      <td>Rave</td>\n",
              "      <td>Green st, LA</td>\n",
              "      <td>330-1234565</td>\n",
              "      <td>Nika@rave.com</td>\n",
              "    </tr>\n",
              "    <tr>\n",
              "      <th>3</th>\n",
              "      <td>4</td>\n",
              "      <td>Vika</td>\n",
              "      <td>Cohen</td>\n",
              "      <td>Struma 2, Dimona</td>\n",
              "      <td>042-1542565</td>\n",
              "      <td>Vika@cohen.com</td>\n",
              "    </tr>\n",
              "    <tr>\n",
              "      <th>4</th>\n",
              "      <td>5</td>\n",
              "      <td>Nata</td>\n",
              "      <td>Cohen</td>\n",
              "      <td>Struma 2, Dimona</td>\n",
              "      <td>042-1542566</td>\n",
              "      <td>Nata@cohen.com</td>\n",
              "    </tr>\n",
              "    <tr>\n",
              "      <th>5</th>\n",
              "      <td>6</td>\n",
              "      <td>Ed</td>\n",
              "      <td>Black</td>\n",
              "      <td>Alia 12, Dimona</td>\n",
              "      <td>034-1542560</td>\n",
              "      <td>Ed@Black.com</td>\n",
              "    </tr>\n",
              "    <tr>\n",
              "      <th>6</th>\n",
              "      <td>7</td>\n",
              "      <td>Alan</td>\n",
              "      <td>Black</td>\n",
              "      <td>Alia 12, Dimona</td>\n",
              "      <td>034-1542562</td>\n",
              "      <td>Alan@Black.com</td>\n",
              "    </tr>\n",
              "    <tr>\n",
              "      <th>7</th>\n",
              "      <td>8</td>\n",
              "      <td>Jessica</td>\n",
              "      <td>Black</td>\n",
              "      <td>Alia 12, Dimona</td>\n",
              "      <td>034-1542561</td>\n",
              "      <td>Jessica@Black.com</td>\n",
              "    </tr>\n",
              "  </tbody>\n",
              "</table>\n",
              "</div>"
            ],
            "text/plain": [
              "   CustomerId FirstName  ...        Phone              Email\n",
              "0           1     Moshe  ...  053-5556789    moshe@cohen.com\n",
              "1           2      Lisa  ...  052-1234565     lisa@cohen.com\n",
              "2           3      Nika  ...  330-1234565      Nika@rave.com\n",
              "3           4      Vika  ...  042-1542565     Vika@cohen.com\n",
              "4           5      Nata  ...  042-1542566     Nata@cohen.com\n",
              "5           6        Ed  ...  034-1542560       Ed@Black.com\n",
              "6           7      Alan  ...  034-1542562     Alan@Black.com\n",
              "7           8   Jessica  ...  034-1542561  Jessica@Black.com\n",
              "\n",
              "[8 rows x 6 columns]"
            ]
          },
          "metadata": {
            "tags": []
          }
        }
      ]
    },
    {
      "cell_type": "code",
      "metadata": {
        "colab": {
          "base_uri": "https://localhost:8080/"
        },
        "id": "5I9crNyWYxRV",
        "outputId": "99b5e869-6fc4-42e0-a244-61f66ef06e57"
      },
      "source": [
        "Lisa = Item(\r\n",
        "    FirstName='Lisa', \r\n",
        "    LastName='Cohen',\r\n",
        "    Name='Туфли', \r\n",
        "    Price='300')\r\n",
        "\r\n",
        "session.add(Lisa)\r\n",
        "session.commit()"
      ],
      "execution_count": null,
      "outputs": [
        {
          "output_type": "stream",
          "text": [
            "2020-12-13 17:11:59,245 INFO sqlalchemy.engine.base.Engine BEGIN (implicit)\n",
            "2020-12-13 17:11:59,251 INFO sqlalchemy.engine.base.Engine INSERT INTO items (\"FirstName\", \"LastName\", \"Name\", \"Price\") VALUES (?, ?, ?, ?)\n",
            "2020-12-13 17:11:59,253 INFO sqlalchemy.engine.base.Engine ('Lisa', 'Cohen', 'Туфли', 300.0)\n",
            "2020-12-13 17:11:59,256 INFO sqlalchemy.engine.base.Engine COMMIT\n"
          ],
          "name": "stdout"
        }
      ]
    },
    {
      "cell_type": "code",
      "metadata": {
        "colab": {
          "base_uri": "https://localhost:8080/"
        },
        "id": "MvB12PrVFdOa",
        "outputId": "125e0e19-4674-4761-9bc4-d3d69c4f6ec1"
      },
      "source": [
        "Lisa = Item(\r\n",
        "    FirstName='Lisa', \r\n",
        "    LastName='Cohen',\r\n",
        "    Name='Пальто', \r\n",
        "    Price='500')\r\n",
        "\r\n",
        "session.add(Lisa)\r\n",
        "session.commit()"
      ],
      "execution_count": null,
      "outputs": [
        {
          "output_type": "stream",
          "text": [
            "2020-12-13 17:12:42,163 INFO sqlalchemy.engine.base.Engine BEGIN (implicit)\n",
            "2020-12-13 17:12:42,165 INFO sqlalchemy.engine.base.Engine INSERT INTO items (\"FirstName\", \"LastName\", \"Name\", \"Price\") VALUES (?, ?, ?, ?)\n",
            "2020-12-13 17:12:42,166 INFO sqlalchemy.engine.base.Engine ('Lisa', 'Cohen', 'Пальто', 500.0)\n",
            "2020-12-13 17:12:42,167 INFO sqlalchemy.engine.base.Engine COMMIT\n"
          ],
          "name": "stdout"
        }
      ]
    },
    {
      "cell_type": "code",
      "metadata": {
        "colab": {
          "base_uri": "https://localhost:8080/"
        },
        "id": "wbGCASM_a2Qg",
        "outputId": "164c7e4d-624b-408d-df09-d5c8e6e1d4c4"
      },
      "source": [
        "Alan = Item(\r\n",
        "    FirstName='Alan', \r\n",
        "    LastName='Black',\r\n",
        "    Name='Рюкзак', \r\n",
        "    Price='200')\r\n",
        "\r\n",
        "session.add(Alan)\r\n",
        "session.commit()"
      ],
      "execution_count": null,
      "outputs": [
        {
          "output_type": "stream",
          "text": [
            "2020-12-13 17:14:33,014 INFO sqlalchemy.engine.base.Engine BEGIN (implicit)\n",
            "2020-12-13 17:14:33,018 INFO sqlalchemy.engine.base.Engine INSERT INTO items (\"FirstName\", \"LastName\", \"Name\", \"Price\") VALUES (?, ?, ?, ?)\n",
            "2020-12-13 17:14:33,019 INFO sqlalchemy.engine.base.Engine ('Alan', 'Black', 'Рюкзак', 200.0)\n",
            "2020-12-13 17:14:33,021 INFO sqlalchemy.engine.base.Engine COMMIT\n"
          ],
          "name": "stdout"
        }
      ]
    },
    {
      "cell_type": "code",
      "metadata": {
        "colab": {
          "base_uri": "https://localhost:8080/",
          "height": 275
        },
        "id": "qG2fdXP-bbaj",
        "outputId": "6f94b01a-ca2f-4a0e-a73c-dad1636a9223"
      },
      "source": [
        "df1 = pd.read_sql('SELECT * FROM items', conn)\r\n",
        "df1.tail()"
      ],
      "execution_count": null,
      "outputs": [
        {
          "output_type": "stream",
          "text": [
            "2020-12-13 17:14:44,199 INFO sqlalchemy.engine.base.Engine PRAGMA main.table_info(\"SELECT * FROM items\")\n",
            "2020-12-13 17:14:44,201 INFO sqlalchemy.engine.base.Engine ()\n",
            "2020-12-13 17:14:44,203 INFO sqlalchemy.engine.base.Engine PRAGMA temp.table_info(\"SELECT * FROM items\")\n",
            "2020-12-13 17:14:44,204 INFO sqlalchemy.engine.base.Engine ()\n",
            "2020-12-13 17:14:44,205 INFO sqlalchemy.engine.base.Engine SELECT * FROM items\n",
            "2020-12-13 17:14:44,206 INFO sqlalchemy.engine.base.Engine ()\n"
          ],
          "name": "stdout"
        },
        {
          "output_type": "execute_result",
          "data": {
            "text/html": [
              "<div>\n",
              "<style scoped>\n",
              "    .dataframe tbody tr th:only-of-type {\n",
              "        vertical-align: middle;\n",
              "    }\n",
              "\n",
              "    .dataframe tbody tr th {\n",
              "        vertical-align: top;\n",
              "    }\n",
              "\n",
              "    .dataframe thead th {\n",
              "        text-align: right;\n",
              "    }\n",
              "</style>\n",
              "<table border=\"1\" class=\"dataframe\">\n",
              "  <thead>\n",
              "    <tr style=\"text-align: right;\">\n",
              "      <th></th>\n",
              "      <th>ItemId</th>\n",
              "      <th>FirstName</th>\n",
              "      <th>LastName</th>\n",
              "      <th>Name</th>\n",
              "      <th>Price</th>\n",
              "    </tr>\n",
              "  </thead>\n",
              "  <tbody>\n",
              "    <tr>\n",
              "      <th>0</th>\n",
              "      <td>1</td>\n",
              "      <td>Moshe</td>\n",
              "      <td>Cohen</td>\n",
              "      <td>Ботинки</td>\n",
              "      <td>300</td>\n",
              "    </tr>\n",
              "    <tr>\n",
              "      <th>1</th>\n",
              "      <td>2</td>\n",
              "      <td>Lisa</td>\n",
              "      <td>Cohen</td>\n",
              "      <td>Туфли</td>\n",
              "      <td>300</td>\n",
              "    </tr>\n",
              "    <tr>\n",
              "      <th>2</th>\n",
              "      <td>3</td>\n",
              "      <td>Lisa</td>\n",
              "      <td>Cohen</td>\n",
              "      <td>Пальто</td>\n",
              "      <td>500</td>\n",
              "    </tr>\n",
              "    <tr>\n",
              "      <th>3</th>\n",
              "      <td>4</td>\n",
              "      <td>Alan</td>\n",
              "      <td>Black</td>\n",
              "      <td>Рюкзак</td>\n",
              "      <td>200</td>\n",
              "    </tr>\n",
              "  </tbody>\n",
              "</table>\n",
              "</div>"
            ],
            "text/plain": [
              "   ItemId FirstName LastName     Name  Price\n",
              "0       1     Moshe    Cohen  Ботинки    300\n",
              "1       2      Lisa    Cohen    Туфли    300\n",
              "2       3      Lisa    Cohen   Пальто    500\n",
              "3       4      Alan    Black   Рюкзак    200"
            ]
          },
          "metadata": {
            "tags": []
          },
          "execution_count": 41
        }
      ]
    },
    {
      "cell_type": "code",
      "metadata": {
        "colab": {
          "base_uri": "https://localhost:8080/",
          "height": 519
        },
        "id": "lz_Fief9GRhG",
        "outputId": "5f9e6e61-7e23-4989-e640-436c49b31f31"
      },
      "source": [
        "sql = \"\"\"\r\n",
        "SELECT \r\n",
        "    *\r\n",
        "FROM\r\n",
        "    items\r\n",
        "WHERE FirstName = 'Lisa';\r\n",
        "\"\"\"\r\n",
        "df = pd.read_sql(sql, conn)\r\n",
        "\r\n",
        "df.head()"
      ],
      "execution_count": null,
      "outputs": [
        {
          "output_type": "stream",
          "text": [
            "2020-12-13 17:35:17,710 INFO sqlalchemy.engine.base.Engine PRAGMA main.table_info(\"\n",
            "SELECT \n",
            "    *\n",
            "FROM\n",
            "    items\n",
            "WHERE FirstName = 'Lisa';\n",
            "\")\n",
            "2020-12-13 17:35:17,712 INFO sqlalchemy.engine.base.Engine ()\n",
            "2020-12-13 17:35:17,715 INFO sqlalchemy.engine.base.Engine PRAGMA temp.table_info(\"\n",
            "SELECT \n",
            "    *\n",
            "FROM\n",
            "    items\n",
            "WHERE FirstName = 'Lisa';\n",
            "\")\n",
            "2020-12-13 17:35:17,716 INFO sqlalchemy.engine.base.Engine ()\n",
            "2020-12-13 17:35:17,721 INFO sqlalchemy.engine.base.Engine \n",
            "SELECT \n",
            "    *\n",
            "FROM\n",
            "    items\n",
            "WHERE FirstName = 'Lisa';\n",
            "\n",
            "2020-12-13 17:35:17,722 INFO sqlalchemy.engine.base.Engine ()\n"
          ],
          "name": "stdout"
        },
        {
          "output_type": "execute_result",
          "data": {
            "text/html": [
              "<div>\n",
              "<style scoped>\n",
              "    .dataframe tbody tr th:only-of-type {\n",
              "        vertical-align: middle;\n",
              "    }\n",
              "\n",
              "    .dataframe tbody tr th {\n",
              "        vertical-align: top;\n",
              "    }\n",
              "\n",
              "    .dataframe thead th {\n",
              "        text-align: right;\n",
              "    }\n",
              "</style>\n",
              "<table border=\"1\" class=\"dataframe\">\n",
              "  <thead>\n",
              "    <tr style=\"text-align: right;\">\n",
              "      <th></th>\n",
              "      <th>ItemId</th>\n",
              "      <th>FirstName</th>\n",
              "      <th>LastName</th>\n",
              "      <th>Name</th>\n",
              "      <th>Price</th>\n",
              "    </tr>\n",
              "  </thead>\n",
              "  <tbody>\n",
              "    <tr>\n",
              "      <th>0</th>\n",
              "      <td>2</td>\n",
              "      <td>Lisa</td>\n",
              "      <td>Cohen</td>\n",
              "      <td>Туфли</td>\n",
              "      <td>300</td>\n",
              "    </tr>\n",
              "    <tr>\n",
              "      <th>1</th>\n",
              "      <td>3</td>\n",
              "      <td>Lisa</td>\n",
              "      <td>Cohen</td>\n",
              "      <td>Пальто</td>\n",
              "      <td>500</td>\n",
              "    </tr>\n",
              "  </tbody>\n",
              "</table>\n",
              "</div>"
            ],
            "text/plain": [
              "   ItemId FirstName LastName    Name  Price\n",
              "0       2      Lisa    Cohen   Туфли    300\n",
              "1       3      Lisa    Cohen  Пальто    500"
            ]
          },
          "metadata": {
            "tags": []
          },
          "execution_count": 53
        }
      ]
    },
    {
      "cell_type": "code",
      "metadata": {
        "colab": {
          "base_uri": "https://localhost:8080/",
          "height": 179
        },
        "id": "j26kcoD-K95E",
        "outputId": "6f52e5ab-552b-4fc7-c6d7-d2f5ab005760"
      },
      "source": [
        "items_query = select([Item.ItemId, Item.FirstName, Item.LastName, Item.Name, Item.Price])\r\n",
        "items_query = items_query.where(Item.FirstName == 'Lisa')\r\n",
        "\r\n",
        "display_results(items_query)"
      ],
      "execution_count": null,
      "outputs": [
        {
          "output_type": "stream",
          "text": [
            "2020-12-13 17:40:23,174 INFO sqlalchemy.engine.base.OptionEngine SELECT items.\"ItemId\", items.\"FirstName\", items.\"LastName\", items.\"Name\", items.\"Price\" \n",
            "FROM items \n",
            "WHERE items.\"FirstName\" = ?\n",
            "2020-12-13 17:40:23,175 INFO sqlalchemy.engine.base.OptionEngine ('Lisa',)\n"
          ],
          "name": "stdout"
        },
        {
          "output_type": "display_data",
          "data": {
            "text/html": [
              "<div>\n",
              "<style scoped>\n",
              "    .dataframe tbody tr th:only-of-type {\n",
              "        vertical-align: middle;\n",
              "    }\n",
              "\n",
              "    .dataframe tbody tr th {\n",
              "        vertical-align: top;\n",
              "    }\n",
              "\n",
              "    .dataframe thead th {\n",
              "        text-align: right;\n",
              "    }\n",
              "</style>\n",
              "<table border=\"1\" class=\"dataframe\">\n",
              "  <thead>\n",
              "    <tr style=\"text-align: right;\">\n",
              "      <th></th>\n",
              "      <th>ItemId</th>\n",
              "      <th>FirstName</th>\n",
              "      <th>LastName</th>\n",
              "      <th>Name</th>\n",
              "      <th>Price</th>\n",
              "    </tr>\n",
              "  </thead>\n",
              "  <tbody>\n",
              "    <tr>\n",
              "      <th>0</th>\n",
              "      <td>2</td>\n",
              "      <td>Lisa</td>\n",
              "      <td>Cohen</td>\n",
              "      <td>Туфли</td>\n",
              "      <td>300.0</td>\n",
              "    </tr>\n",
              "    <tr>\n",
              "      <th>1</th>\n",
              "      <td>3</td>\n",
              "      <td>Lisa</td>\n",
              "      <td>Cohen</td>\n",
              "      <td>Пальто</td>\n",
              "      <td>500.0</td>\n",
              "    </tr>\n",
              "  </tbody>\n",
              "</table>\n",
              "</div>"
            ],
            "text/plain": [
              "   ItemId FirstName LastName    Name  Price\n",
              "0       2      Lisa    Cohen   Туфли  300.0\n",
              "1       3      Lisa    Cohen  Пальто  500.0"
            ]
          },
          "metadata": {
            "tags": []
          }
        }
      ]
    },
    {
      "cell_type": "markdown",
      "metadata": {
        "id": "ijSWr156Mdzt"
      },
      "source": [
        "Добавление еще 5 различных столбцов в идентификацию наших покупателей"
      ]
    },
    {
      "cell_type": "code",
      "metadata": {
        "id": "lE3LHqkxMIxV"
      },
      "source": [
        "from sqlalchemy import Column, DateTime, ForeignKey, Integer, NVARCHAR, Numeric, Sequence\r\n",
        "from sqlalchemy.orm import relationship\r\n",
        "\r\n",
        "class Customer(Base):\r\n",
        "    __tablename__ = 'customers'\r\n",
        "\r\n",
        "    CustomerId = Column(Integer, Sequence('customer_id_seq'), primary_key=True)\r\n",
        "    FirstName = Column(NVARCHAR(40), nullable=False)\r\n",
        "    LastName = Column(NVARCHAR(20), nullable=False)\r\n",
        "    Age = Column(Numeric, nullable=False) # Добавили возраст\r\n",
        "    Gender = Column(NVARCHAR(80), nullable=False) # Добавили пол\r\n",
        "    Family = Column(NVARCHAR(80), nullable=False) # Добавили семейное положение\r\n",
        "    Company = Column(NVARCHAR(80), nullable=False)\r\n",
        "    Activity = Column(NVARCHAR(80), nullable=False) # Добавили род деятельности\r\n",
        "    Address = Column(NVARCHAR(70), nullable=False)\r\n",
        "    Phone = Column(NVARCHAR(24), nullable=False)\r\n",
        "    Social = Column(NVARCHAR(60), nullable=False) # Добавили соцсети\r\n",
        "    Email = Column(NVARCHAR(60), nullable=False)\r\n",
        "    \r\n",
        "class Item(Base):\r\n",
        "    __tablename__ = 'items'\r\n",
        "    \r\n",
        "    ItemId = Column(Integer, Sequence('item_id_seq'), primary_key=True)\r\n",
        "    Name = Column(NVARCHAR(40), nullable=False)\r\n",
        "    Price = Column(Numeric, nullable=False)\r\n",
        "    Weight = Column(Numeric, nullable=False) #  Вес товара\r\n",
        "    Material = Column(NVARCHAR(80), nullable=False) # Из чего изготовлен\r\n",
        "    Food = Column(Numeric, nullable=False) # Признак продуктов питания 1 или 0\r\n",
        "    Clothes = Column(Numeric, nullable=False) # Признак одежды 1 или 0\r\n",
        "    Domestic = Column(Numeric, nullable=False) # Признак бытовой химии 1 или 0\r\n",
        "\r\n",
        "class Purchase(Base):\r\n",
        "    __tablename__ = 'purchases'\r\n",
        "    \r\n",
        "    PurchaseId = Column(Integer, Sequence('purchase_id_seq'), primary_key=True)\r\n",
        "    ItemId = Column(ForeignKey('items.ItemId'), nullable=False, index=True)\r\n",
        "    CustomerId = Column(ForeignKey('customers.CustomerId'), nullable=False, index=True)\r\n",
        "    Date = Column(DateTime, nullable=False)\r\n",
        "    Payment = Column(Numeric, nullable=False) # Наличный - 1/безналичный - 0\r\n",
        "    Delivery = Column(Numeric, nullable=False) # нужна доставка - 1/нет - 0\r\n",
        "    Online = Column(Numeric, nullable=False) # интернет заказ - 1/нет - 0\r\n",
        "    Impulsiv = Column(Numeric, nullable=False) # признак импульсивности покупки - 1/нет - 0\r\n",
        "    Brand = Column(NVARCHAR(80), nullable=False) # Бренд\r\n",
        "    \r\n",
        "    item = relationship('Item')\r\n",
        "    customer = relationship('Customer')"
      ],
      "execution_count": null,
      "outputs": []
    }
  ]
}
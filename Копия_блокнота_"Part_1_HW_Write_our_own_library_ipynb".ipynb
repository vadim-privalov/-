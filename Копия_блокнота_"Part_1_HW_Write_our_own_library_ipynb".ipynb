{
  "nbformat": 4,
  "nbformat_minor": 0,
  "metadata": {
    "colab": {
      "name": "Копия блокнота \"Part_1_HW_Write_our_own_library.ipynb\"",
      "provenance": [],
      "collapsed_sections": [],
      "include_colab_link": true
    },
    "kernelspec": {
      "name": "python3",
      "display_name": "Python 3"
    }
  },
  "cells": [
    {
      "cell_type": "markdown",
      "metadata": {
        "id": "view-in-github",
        "colab_type": "text"
      },
      "source": [
        "<a href=\"https://colab.research.google.com/github/vadim-privalov/-/blob/main/%D0%9A%D0%BE%D0%BF%D0%B8%D1%8F_%D0%B1%D0%BB%D0%BE%D0%BA%D0%BD%D0%BE%D1%82%D0%B0_%22Part_1_HW_Write_our_own_library_ipynb%22.ipynb\" target=\"_parent\"><img src=\"https://colab.research.google.com/assets/colab-badge.svg\" alt=\"Open In Colab\"/></a>"
      ]
    },
    {
      "cell_type": "markdown",
      "metadata": {
        "id": "-PkQ9hSoulSP"
      },
      "source": [
        "## Домашнее задание. Часть 1.\n",
        "\n",
        "- напишем свою собственную библиотеку\n",
        "\n",
        "Вего за эту часть ДЗ можно набрать максимум **11.5 баллов**. Разбиение баллов по каждой из задач представлено непосредственно перед текстом каждой задачи.\n",
        "\n",
        "**Дедлайн - пятница, 11.12.2020 в 23:59.**\n",
        "\n",
        "Дедлайн жесткий, сдача после дедлайна - 0 баллов за ДЗ."
      ]
    },
    {
      "cell_type": "markdown",
      "metadata": {
        "id": "raMUrDs_OUUp"
      },
      "source": [
        "Ссылка на ноутбук в колабе: https://colab.research.google.com/drive/1LgWtESFmiNW1WlVFCHKyNl_BxAWxoL3Z?usp=sharing"
      ]
    },
    {
      "cell_type": "markdown",
      "metadata": {
        "id": "DlJPKMxvBZDq"
      },
      "source": [
        "Допустим мы хотим написать фнкцию, которая складывает 2 числа и сохранить ее в отдельный .py файл. Пример:"
      ]
    },
    {
      "cell_type": "code",
      "metadata": {
        "colab": {
          "base_uri": "https://localhost:8080/"
        },
        "id": "YWxx_tJFBWXc",
        "outputId": "9fa3a5b1-e1c8-4745-f347-a3cdb542fc39"
      },
      "source": [
        "%%writefile lib.py\n",
        "def summ(a1, b1):\n",
        "    return a1+b1"
      ],
      "execution_count": 1,
      "outputs": [
        {
          "output_type": "stream",
          "text": [
            "Writing lib.py\n"
          ],
          "name": "stdout"
        }
      ]
    },
    {
      "cell_type": "code",
      "metadata": {
        "id": "GpwqwV2XBWe0"
      },
      "source": [
        "from lib import summ"
      ],
      "execution_count": 2,
      "outputs": []
    },
    {
      "cell_type": "code",
      "metadata": {
        "colab": {
          "base_uri": "https://localhost:8080/"
        },
        "id": "PdSwrEkYud_1",
        "outputId": "4a42f445-2b24-4f59-db02-86c498cd6de7"
      },
      "source": [
        "summ(2,6)"
      ],
      "execution_count": 3,
      "outputs": [
        {
          "output_type": "execute_result",
          "data": {
            "text/plain": [
              "8"
            ]
          },
          "metadata": {
            "tags": []
          },
          "execution_count": 3
        }
      ]
    },
    {
      "cell_type": "markdown",
      "metadata": {
        "id": "lzVEq6dcB_B6"
      },
      "source": [
        "Попробуем запустить через \"терминал\""
      ]
    },
    {
      "cell_type": "code",
      "metadata": {
        "id": "GnvjY52dB9F0"
      },
      "source": [
        "!python3 lib.py"
      ],
      "execution_count": 4,
      "outputs": []
    },
    {
      "cell_type": "markdown",
      "metadata": {
        "id": "12k4C-iDCGD5"
      },
      "source": [
        "Ничего не происходит. А теперь добавим `if __name__ == \"__main__\"` в наш код и пересохраним файл lib.py"
      ]
    },
    {
      "cell_type": "code",
      "metadata": {
        "colab": {
          "base_uri": "https://localhost:8080/"
        },
        "id": "EXxDy4EoujyT",
        "outputId": "606e2ead-21ea-45e8-8229-8cd06017853d"
      },
      "source": [
        "%%writefile lib.py\n",
        "import sys\n",
        "\n",
        "a1 = float( sys.argv[1] ) # Считываем аргументы прямо из терминала\n",
        "b1 = float( sys.argv[2] ) # Считываем аргументы прямо из терминала\n",
        "\n",
        "def summ(a1, b1):\n",
        "    return a1+b1\n",
        "\n",
        "if __name__ == \"__main__\":\n",
        "    print(summ(a1, b1))\n"
      ],
      "execution_count": 5,
      "outputs": [
        {
          "output_type": "stream",
          "text": [
            "Overwriting lib.py\n"
          ],
          "name": "stdout"
        }
      ]
    },
    {
      "cell_type": "code",
      "metadata": {
        "colab": {
          "base_uri": "https://localhost:8080/"
        },
        "id": "9kg9IKcWuj1F",
        "outputId": "f4073a15-a97f-4fed-91e9-f4a805be6cae"
      },
      "source": [
        "!python3 lib.py 2 4"
      ],
      "execution_count": 6,
      "outputs": [
        {
          "output_type": "stream",
          "text": [
            "6.0\n"
          ],
          "name": "stdout"
        }
      ]
    },
    {
      "cell_type": "markdown",
      "metadata": {
        "id": "MEQd0OJnD4ut"
      },
      "source": [
        "# **Задание 1**\n",
        "\n",
        "Реализуйте следующие функции и сохраните их в библиотеку **my_math_lib.py** (пока без использования конструкции `if __name__ == \"__main__\"`)"
      ]
    },
    {
      "cell_type": "markdown",
      "metadata": {
        "id": "-irvYNmrD9FA"
      },
      "source": [
        "**1 point** \n",
        "1. **def deg_to_rad()**. Напишите программу на Python для преобразования градусов в радианы.  *(Note: Радиан - это стандартная единица измерения угла, используемая во многих областях математики. Измерение угла в радианах численно равно длине соответствующей дуги единичного круга; один радиан чуть меньше 57,3 градуса)* **1 point**\n",
        "\n",
        "**1 point** \n",
        "2. **def rad_to_def()**. Напишите программу Python для преобразования радианов в градусы.\n",
        "\n",
        "**1.5 point** \n",
        "3. **def discriminant()**. Напишите программу на Python для вычисления значения дискриминанта (вспоминаем квадратные уравнения). Входные данные три числа: x, y, z (учтите что корни могут быть комлЕксными!)\n",
        "\n",
        "**1.5 point** \n",
        "4. **def power_base_sum()**. Напишите программу на Python, чтобы вычислить сумму всех цифр основания в указанной степени.\n",
        "\n",
        "Пример: power_base_sum(2, 100)\n",
        "\n",
        "Выход: 115\n",
        "\n",
        "\n",
        "\n",
        "**2 point** \n",
        "5. **def magic_square()**. Напишите программу на Python для вычисления [магического квадрата](https://ru.wikipedia.org/wiki/Магический_квадрат)\n",
        "\n",
        "Note:\n",
        "\n",
        "Магический, или волшебный квадрат — это квадратная таблица , заполненная числами таким образом, что сумма чисел в каждой строке, каждом столбце и на обеих диагоналях одинакова. Сумма чисел в каждой строке, столбце и на диагоналях, называется магической константой, M.\n",
        "\n",
        "**1 point** \n",
        "6. **def mult_list()**. Напишите функцию Python для умножения всех чисел в массиве list(), (размер листа на входе произвольный)\n",
        "\n",
        "**1 point** \n",
        "7. **def create_list()**. Напишите функцию Python для создания и вывода списка (при помощи print()), в котором значения представляют собой квадрат чисел от 1 до 30 (оба включительно)."
      ]
    },
    {
      "cell_type": "code",
      "metadata": {
        "id": "cxjYPNRAIBqe",
        "colab": {
          "base_uri": "https://localhost:8080/"
        },
        "outputId": "e72c37de-e563-4714-fb0e-32df50238ba0"
      },
      "source": [
        " %%writefile my_math_lib.py\n",
        " # 1.1\n",
        "def deg_to_rad(r):\n",
        "    return r * 3.14 / 180 # формула перевода градусов в радианы\n",
        "\n",
        "# 1.2\n",
        "def rad_to_def(d):\n",
        "    return d * 180 / 3.14 # формула перевода радианов в градусы\n",
        "\n",
        "# 1.3\n",
        "def discriminant(x, y, z):\n",
        "    # формула дискриминанта:\n",
        "    d1 = y ** 2 - (4 * x * z)\n",
        "    if d1 >= 0:\n",
        "        return d1\n",
        "    else:\n",
        "        print(d1, 'Дискриминант отрицателен.Корни квадратного уравнения комплексное число')\n",
        "\n",
        "# 1.4\n",
        "def power_base_sum(x, y):\n",
        "        # возведим в степень, помещаем в интовый Лист и суммируем:\n",
        "        s = sum(map(int, (list(str(x ** y)))))\n",
        "        return s\n",
        "\n",
        "\n",
        "# 1.5\n",
        "def magic_square(m):\n",
        "    return int((m * (m ** 2 + 1)) / 2)  # формула магического квадрата\n",
        "\n",
        "# 1.6\n",
        "def mult_list(myList) :\n",
        "    result = 1\n",
        "    for x in myList:\n",
        "         result = result * x # Перемножение чисел по циклу\n",
        "    return result \n",
        "\n",
        "# 1.7\n",
        "def create_list(n): \n",
        "    n1 = ([i**2 for i in range(1, n+1)]) # создание списка квадратов чисел\n",
        "    return n1\n",
        "    print(n1)"
      ],
      "execution_count": 7,
      "outputs": [
        {
          "output_type": "stream",
          "text": [
            "Writing my_math_lib.py\n"
          ],
          "name": "stdout"
        }
      ]
    },
    {
      "cell_type": "code",
      "metadata": {
        "colab": {
          "base_uri": "https://localhost:8080/"
        },
        "id": "qQl0UNO5Tej3",
        "outputId": "3bb0c7e4-40da-4a1a-cdc5-1ebb0b437d64"
      },
      "source": [
        "import numpy as np\n",
        "# построение магического квадрата через цикл (Через функцию не получается)\n",
        "N  = 5\n",
        "magic_square1 = np.zeros((N,N), dtype=int) # Создаем массив N*N и заполняем его нулями\n",
        " \n",
        "n = 1\n",
        "a, b = 0, N//2\n",
        " \n",
        "while n <= N**2: # цикл для заполнения магического квадрата цифрами с условием проверки цифр\n",
        "    magic_square1[a, b] = n\n",
        "    n += 1\n",
        "    newa, newb = (a-1) % N, (b+1)% N\n",
        "    if magic_square1[newa, newb]:\n",
        "        a += 1\n",
        "    else:\n",
        "        a, b = newa, newb\n",
        "print(magic_square1)"
      ],
      "execution_count": 9,
      "outputs": [
        {
          "output_type": "stream",
          "text": [
            "[[17 24  1  8 15]\n",
            " [23  5  7 14 16]\n",
            " [ 4  6 13 20 22]\n",
            " [10 12 19 21  3]\n",
            " [11 18 25  2  9]]\n"
          ],
          "name": "stdout"
        }
      ]
    },
    {
      "cell_type": "markdown",
      "metadata": {
        "id": "cSdLK3ZSID3B"
      },
      "source": [
        "# **Задание 2**\n",
        "Импортируйте все методы из модуля my_math_lib.\n",
        "\n",
        " **0.25 point** \n",
        " - при помощи функции **def discriminant()** посчитайте дискриминант следующего уравнения: \n",
        " $x^{2}+3 x+4=0$\n",
        "\n",
        "**0.25 point** \n",
        " - постройте магический квадрат размера 5х5"
      ]
    },
    {
      "cell_type": "code",
      "metadata": {
        "id": "k1Jhjs6FD8Sy"
      },
      "source": [
        "from my_math_lib import *\n",
        "\n"
      ],
      "execution_count": null,
      "outputs": []
    },
    {
      "cell_type": "code",
      "metadata": {
        "colab": {
          "base_uri": "https://localhost:8080/"
        },
        "id": "dY3BBL0jail8",
        "outputId": "eb0d2d30-9664-4f49-fc5c-7595d8f343e9"
      },
      "source": [
        "discriminant(1, 3, 4)"
      ],
      "execution_count": null,
      "outputs": [
        {
          "output_type": "stream",
          "text": [
            "-7 Дискриминант отрицателен.Корни квадратного уравнения комплексное число\n"
          ],
          "name": "stdout"
        }
      ]
    },
    {
      "cell_type": "code",
      "metadata": {
        "colab": {
          "base_uri": "https://localhost:8080/"
        },
        "id": "WY14AEgkhFxW",
        "outputId": "0716ab57-cb44-4f44-81ba-0c446fcaa1ec"
      },
      "source": [
        "magic_square(5)"
      ],
      "execution_count": null,
      "outputs": [
        {
          "output_type": "execute_result",
          "data": {
            "text/plain": [
              "65"
            ]
          },
          "metadata": {
            "tags": []
          },
          "execution_count": 8
        }
      ]
    },
    {
      "cell_type": "markdown",
      "metadata": {
        "id": "1xqoQlZkId3s"
      },
      "source": [
        "# **Задание 3**\n",
        "\n",
        "**2 point**\n",
        "* Добавьте в вашу библиотеку конструкцию `if __name__ == \"__main__\"`, которая должна принимать одну из вышеперечисленных функций. \n",
        "* Важно! аргументы, подаваемые в функцию, должны подаваться напряму через терминал (как в примере)! Используйте для этого библиотеку `sys`"
      ]
    },
    {
      "cell_type": "code",
      "metadata": {
        "id": "CPMx4V4DJIVx",
        "colab": {
          "base_uri": "https://localhost:8080/"
        },
        "outputId": "a5978204-cbaf-46a1-a53e-f0147c16c709"
      },
      "source": [
        "%%writefile my_math_lib.py\n",
        "import sys\n",
        "\n",
        "r = float( sys.argv[1] ) # Считываем аргументы прямо из терминала\n",
        "\n",
        "\n",
        "def deg_to_rad(r):\n",
        "    return r * 3.14 / 180 # формула перевода градусов в радианы\n",
        "\n",
        "def rad_to_def(d):\n",
        "    return d * 180 / 3.14 # формула перевода радианов в градусы\n",
        "\n",
        "def discriminant(x, y, z):\n",
        "    d1 = y ** 2 - (4 * x * z) # формула дискриминанта:\n",
        "    if d1 >= 0:\n",
        "        return d1\n",
        "    else:\n",
        "        print(d1, 'Дискриминант отрицателен.Корни квадратного уравнения комплексное число')\n",
        "\n",
        "def power_base_sum(x, y):\n",
        "        s = sum(map(int, (list(str(x ** y))))) # возведим в степень, помещаем в интовый Лист и суммируем:\n",
        "        return s\n",
        "\n",
        "\n",
        "def magic_square(m):\n",
        "    return int((m * (m ** 2 + 1)) / 2)  # формула магического квадрата\n",
        "\n",
        "def mult_list(myList) :\n",
        "    result = 1\n",
        "    for x in myList:\n",
        "         result = result * x # Перемножение чисел по циклу\n",
        "    return result \n",
        "\n",
        "# 1.7\n",
        "def create_list(n): \n",
        "    n1 = ([i**2 for i in range(1, n+1)]) # создание списка квадратов чисел\n",
        "    return n1\n",
        "    print(n1)\n",
        "\n",
        "if __name__ == \"__main__\":\n",
        "    print(deg_to_rad(r))"
      ],
      "execution_count": 10,
      "outputs": [
        {
          "output_type": "stream",
          "text": [
            "Overwriting my_math_lib.py\n"
          ],
          "name": "stdout"
        }
      ]
    },
    {
      "cell_type": "code",
      "metadata": {
        "id": "RAeJ3p1BJX05",
        "colab": {
          "base_uri": "https://localhost:8080/"
        },
        "outputId": "10cfa626-d343-4e45-8843-fc5503b258f6"
      },
      "source": [
        "# Пример вызова функции - Вы можете вызвать любую другую\n",
        "!python3 my_math_lib.py 3, 4, 5 # Например если в __main__ вы указали def discriminant()"
      ],
      "execution_count": null,
      "outputs": [
        {
          "output_type": "stream",
          "text": [
            "Traceback (most recent call last):\n",
            "  File \"my_math_lib.py\", line 3, in <module>\n",
            "    x = float( sys.argv[1] ) # Считываем аргументы прямо из терминала\n",
            "ValueError: could not convert string to float: '3,4,5'\n"
          ],
          "name": "stdout"
        }
      ]
    },
    {
      "cell_type": "code",
      "metadata": {
        "id": "UDQ_wTJbJAS7",
        "colab": {
          "base_uri": "https://localhost:8080/"
        },
        "outputId": "b3d8af14-848a-4c60-975f-2f7c968cd3b7"
      },
      "source": [
        "!python3 my_math_lib.py 45 # перевод градусов в радианы"
      ],
      "execution_count": 11,
      "outputs": [
        {
          "output_type": "stream",
          "text": [
            "0.785\n"
          ],
          "name": "stdout"
        }
      ]
    }
  ]
}
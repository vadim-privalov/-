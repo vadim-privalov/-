{
  "nbformat": 4,
  "nbformat_minor": 0,
  "metadata": {
    "colab": {
      "name": "ДЗ от 25.12.2020 Копия блокнота \"HW_lessons_9-10.ipynb\"",
      "provenance": [],
      "collapsed_sections": [],
      "include_colab_link": true
    },
    "kernelspec": {
      "name": "python3",
      "display_name": "Python 3"
    }
  },
  "cells": [
    {
      "cell_type": "markdown",
      "metadata": {
        "id": "view-in-github",
        "colab_type": "text"
      },
      "source": [
        "<a href=\"https://colab.research.google.com/github/vadim-privalov/-/blob/main/%D0%94%D0%97_%D0%BE%D1%82_25_12_2020_%D0%9A%D0%BE%D0%BF%D0%B8%D1%8F_%D0%B1%D0%BB%D0%BE%D0%BA%D0%BD%D0%BE%D1%82%D0%B0_%22HW_lessons_9_10_ipynb%22.ipynb\" target=\"_parent\"><img src=\"https://colab.research.google.com/assets/colab-badge.svg\" alt=\"Open In Colab\"/></a>"
      ]
    },
    {
      "cell_type": "markdown",
      "metadata": {
        "id": "SgxdX4L0dSw7"
      },
      "source": [
        "# Домашнее задание"
      ]
    },
    {
      "cell_type": "markdown",
      "metadata": {
        "id": "piodEhR7orUF"
      },
      "source": [
        "Ноутбук в колаб: https://colab.research.google.com/drive/1d-vvpJW8IWSPeodFnfaEVaZIQrys8uU0?usp=sharing"
      ]
    },
    {
      "cell_type": "markdown",
      "metadata": {
        "id": "r3_T-pcpnme8"
      },
      "source": [
        "**Дедлайн: 01.01.2020, 23:59**\n"
      ]
    },
    {
      "cell_type": "markdown",
      "metadata": {
        "id": "B2RmFtRDn5vy"
      },
      "source": [
        "Формат отчетности - jupyter notebook. Однако вычислять производные не обязательно в Markdown. Если вычисляете вручную, то дополнительно с ноутбуком, отправляйте pdf-файл с расписанным решением."
      ]
    },
    {
      "cell_type": "markdown",
      "metadata": {
        "id": "aCDx6dKzeEhp"
      },
      "source": [
        "### Пример реализации градиентного спуска: https://github.com/ddvika/Data-Science-School-2020/blob/main/lecture_9/gradient_methods.ipynb"
      ]
    },
    {
      "cell_type": "markdown",
      "metadata": {
        "id": "t-G1btbwoStu"
      },
      "source": [
        "# Задания"
      ]
    },
    {
      "cell_type": "markdown",
      "metadata": {
        "id": "B1XambpmoeIj"
      },
      "source": [
        "Перед выполнением ДЗ посмотрите на ноутбук, прикрепленный по ссылке выше. Там вы найдете реализацию градиентного спуска с постоянным и дробным шагом."
      ]
    },
    {
      "cell_type": "markdown",
      "metadata": {
        "id": "VnSTXgrueAp0"
      },
      "source": [
        "### Задание 1. [1 point]"
      ]
    },
    {
      "cell_type": "markdown",
      "metadata": {
        "id": "-XmQ1AO9f1Qz"
      },
      "source": [
        "Релизуйте градиентный спуск с постоянным шагом и с дробным шагом для функции\n",
        "$$\n",
        "y = x_{1}^{2}+5 x_{2}^{2}\n",
        "$$\n",
        "\n",
        "в произвольно выбранной Вами точке."
      ]
    },
    {
      "cell_type": "markdown",
      "metadata": {
        "id": "XAXdL_PDgYpS"
      },
      "source": [
        "Поэксперементируйте с разными значениями шага (скорости обучения), попробуйте хотя бы по 2-3 разных значения."
      ]
    },
    {
      "cell_type": "markdown",
      "metadata": {
        "id": "ucbvMBsdgOwV"
      },
      "source": [
        "### Задание 2. [3 points]\n",
        "\n",
        "Для функции из предыдущего задания реализуйте градиентный спуск, в котором значение шага (скорости обучения) будет изменяться по формуле циклического косинусного ожига. ( в англ. литературе - cosine annealing learning rate или cosine decay lr). \n",
        "\n",
        "Доп. литература:\n",
        "- Циклический косинусный отжиг https://habr.com/ru/post/332534/\n",
        "\n",
        "- Пример colise decay в библиотеке Pytorch:\n",
        "https://www.programmersought.com/article/12164650026/"
      ]
    },
    {
      "cell_type": "markdown",
      "metadata": {
        "id": "d2Non6JiiVoJ"
      },
      "source": [
        "### Задание 3. [0.75 point]\n",
        "Проверьте работу Вашего градиентного спуска с косинусным отжигом на произвольной функции ( полином должен быть не меньше 3-ьего порядка и задан в пространстве не меньше $R^3$)."
      ]
    },
    {
      "cell_type": "markdown",
      "metadata": {
        "id": "UpONErtji81D"
      },
      "source": [
        "### Задание 4.\n",
        "Случайная величина X задана следующей функцией распределения:\n",
        "$$\n",
        "f(x)=\\left\\{\\begin{array}{r}\n",
        "0 \\text { npu } x \\leq \\pi \\\\\n",
        "-\\cos x \\text { npu } \\pi<x \\leq \\frac{3}{2} \\pi \\\\\n",
        "\\text { 0 npu } x>\\frac{3}{2} \\pi\n",
        "\\end{array}\\right.\n",
        "$$\n",
        "\n",
        "1. Постройте данную функцию распределения при помощи библиотеки seaborn **[0.25 point]**\n",
        "2. Найдите плотность вероятности. **[1 point]**\n",
        "3. Постройте график полученной плотности вероятности **[0.25 point]**\n",
        "\n",
        "4. Определить вероятность попадания случайной величины X в интервал $\\left[\\pi, \\frac{5}{4} \\pi\\right]$ **[0.75 point]**\n",
        "\n",
        "5. Найти математическое ожидание и дисперсию случайной величины X . **[0.75 point]**\n",
        "\n",
        "Так как мы не проходили интегрирование, то в 4 и 5 пунктах можете использовать\n",
        "wolfram alpha (https://www.wolframalpha.com) для интегрирования. Однако 2ой пункт задания (на нахождение производной) должен быть расписан!"
      ]
    },
    {
      "cell_type": "markdown",
      "metadata": {
        "id": "-LrqILMHkgTd"
      },
      "source": [
        "### Задание 5 [1.5 point]\n",
        "\n",
        " Случайная величина Х задана функцией распределения F(x).\n",
        "\n",
        " $$F(x)=\\left\\{\\begin{array}{c}0, x \\leq 1 \\\\ x-1,1<x \\leq 2 \\\\ 1, x>2\\end{array}\\right.$$\n",
        "\n",
        " 1. Является ли случайная величина Х непрерывной?\n",
        "\n",
        " 2. имеет ли случайная величина Х плотность вероятности f(X)? Если имеет, найти ее. \n",
        " 3. постройте графики f(X) и F(X), если такое возможно.\n"
      ]
    },
    {
      "cell_type": "markdown",
      "metadata": {
        "id": "xzQy9iYWmGD5"
      },
      "source": [
        "### Задание 6\n",
        "\n",
        "Рассмотрим несбалансированный набор данных с соотношением меньшего класса к большему 1: 100, где 100 экземпляров принадлежит меньшему классу, а 10 000 большему.\n",
        "\n",
        "Модель ML делает прогнозы и предсказывает 120 примеров как принадлежащих к классу меньшинства, 90 из которых верны, а 30 - неверны.\n",
        "\n",
        "Найти:\n",
        "\n",
        "- Precision **[0.5 point]**\n",
        "- Recall **[0.5 point]**\n",
        "- $F_1$ метрику **[0.5 point]**"
      ]
    },
    {
      "cell_type": "markdown",
      "metadata": {
        "id": "UDUnhy3UsrUj"
      },
      "source": [
        "# Первое задание\r\n",
        "# y=x(0)^2+5*x(1)^2 функция\r\n",
        "# dy/dx(0) = 2*x(0), dy/dx(1) = 10*x(1) частные производные\r\n",
        "x=(1,1) заданная точка\r\n",
        "\r\n"
      ]
    },
    {
      "cell_type": "code",
      "metadata": {
        "id": "dnkSjI5tdWJe"
      },
      "source": [
        "import numpy as np\r\n",
        "def f(x):\r\n",
        "    return x[0]**2+5*x[1]**2\r\n",
        "    \r\n",
        "def grad_f(x):\r\n",
        "    return np.array([2*x[0], 10*x[1]])\r\n",
        "\r\n"
      ],
      "execution_count": null,
      "outputs": []
    },
    {
      "cell_type": "code",
      "metadata": {
        "id": "Mye_Q-jgdP0g"
      },
      "source": [
        "def grad_descent_const_step(x = np.array([1, 1]), alpha = 0.001, epsilon = 0.05):\r\n",
        "    grad = grad_f(x)\r\n",
        "    n = 0\r\n",
        "    check = 0\r\n",
        "    while (np.linalg.norm(grad) > epsilon) or (check < 3):\r\n",
        "        x = x - alpha*grad\r\n",
        "        grad = grad_f(x)\r\n",
        "        n+=1\r\n",
        "        if (np.linalg.norm(grad) <= epsilon): check +=1\r\n",
        "    print(\"Градиентный спуск с постоянным шагом выполнил {} шагов\".format(n))\r\n",
        "    print(\"Точка с координатами х1 = {}, x2 = {}\".format(x[0], x[1]))\r\n",
        "    return x"
      ],
      "execution_count": null,
      "outputs": []
    },
    {
      "cell_type": "code",
      "metadata": {
        "colab": {
          "base_uri": "https://localhost:8080/"
        },
        "id": "gr7yNJH1unq7",
        "outputId": "56fb6dc0-2f64-4e2d-c373-49085a5a4f7a"
      },
      "source": [
        "x = grad_descent_const_step(alpha = 0.1)"
      ],
      "execution_count": null,
      "outputs": [
        {
          "output_type": "stream",
          "text": [
            "Градиентный спуск с постоянным шагом выполнил 19 шагов\n",
            "Точка с координатами х1 = 0.014411518807585589, x2 = 0.0\n"
          ],
          "name": "stdout"
        }
      ]
    },
    {
      "cell_type": "code",
      "metadata": {
        "colab": {
          "base_uri": "https://localhost:8080/"
        },
        "id": "ElpkkP4qvc_f",
        "outputId": "a9cced4c-d584-465f-f527-db55c7895989"
      },
      "source": [
        "x = grad_descent_const_step(alpha = 0.001)"
      ],
      "execution_count": null,
      "outputs": [
        {
          "output_type": "stream",
          "text": [
            "Градиентный спуск с постоянным шагом выполнил 1845 шагов\n",
            "Точка с координатами х1 = 0.024879902563127755, x2 = 8.849811746717511e-09\n"
          ],
          "name": "stdout"
        }
      ]
    },
    {
      "cell_type": "code",
      "metadata": {
        "colab": {
          "base_uri": "https://localhost:8080/"
        },
        "id": "8QXy7V4DwGb_",
        "outputId": "e700461d-82a5-40d6-f50d-f94dcd55e208"
      },
      "source": [
        "x = grad_descent_const_step(alpha = 0.15)"
      ],
      "execution_count": null,
      "outputs": [
        {
          "output_type": "stream",
          "text": [
            "Градиентный спуск с постоянным шагом выполнил 13 шагов\n",
            "Точка с координатами х1 = 0.009688901040700002, x2 = -0.0001220703125\n"
          ],
          "name": "stdout"
        }
      ]
    },
    {
      "cell_type": "code",
      "metadata": {
        "id": "1fGqUkuHxr13"
      },
      "source": [
        "def grad_descent_step_splitting(x = np.array([1, 1]), alpha = 1, epsilon = 0.05, ksi = 0.5, lambda_d = 0.15):\r\n",
        "    grad = grad_f(x)\r\n",
        "    n = 0\r\n",
        "    n_alpha = 0\r\n",
        "    alpha_k = alpha\r\n",
        "    x_k0 = x\r\n",
        "    check = 0\r\n",
        "    while np.linalg.norm(grad) > epsilon or check < 3:\r\n",
        "        grad = grad_f(x_k0)\r\n",
        "        x_k1 = x_k0 - alpha_k*grad\r\n",
        "        while f(x_k1) - f(x_k0) > - alpha_k * ksi * (np.linalg.norm(grad)**2):\r\n",
        "            alpha_k *= lambda_d\r\n",
        "            x_k1 = x_k0 - alpha_k*grad\r\n",
        "            n_alpha+=1\r\n",
        "        x_k0 = x_k0 - alpha_k*grad\r\n",
        "        alpha_k = alpha\r\n",
        "        n+=1\r\n",
        "        if (np.linalg.norm(grad) <= epsilon): check +=1\r\n",
        "    x = x_k0\r\n",
        "    print(\"Градиентный спуск с дроблением шага выполнил {} шагов\".format(n))\r\n",
        "    print(\"Выполнено {} итераций дробления шага\".format(n_alpha))\r\n",
        "    print(\"Точка с координатами х1 = {}, x2 = {}\".format(x[0], x[1]))\r\n",
        "    return x"
      ],
      "execution_count": null,
      "outputs": []
    },
    {
      "cell_type": "code",
      "metadata": {
        "colab": {
          "base_uri": "https://localhost:8080/"
        },
        "id": "oVrM68M-xwKX",
        "outputId": "a5d83945-f5c4-4567-cfa0-d1eda7906086"
      },
      "source": [
        "a = grad_descent_step_splitting()"
      ],
      "execution_count": null,
      "outputs": [
        {
          "output_type": "stream",
          "text": [
            "Градиентный спуск с дроблением шага выполнил 20 шагов\n",
            "Выполнено 27 итераций дробления шага\n",
            "Точка с координатами х1 = 0.007019369774313144, x2 = -2.0498494886606934e-05\n"
          ],
          "name": "stdout"
        }
      ]
    },
    {
      "cell_type": "code",
      "metadata": {
        "colab": {
          "base_uri": "https://localhost:8080/"
        },
        "id": "ikLN9aMRTAZK",
        "outputId": "7af93bb3-49db-4d32-c530-fa01c12a050a"
      },
      "source": [
        "pip install torch"
      ],
      "execution_count": 4,
      "outputs": [
        {
          "output_type": "stream",
          "text": [
            "Requirement already satisfied: torch in /usr/local/lib/python3.6/dist-packages (1.7.0+cu101)\n",
            "Requirement already satisfied: future in /usr/local/lib/python3.6/dist-packages (from torch) (0.16.0)\n",
            "Requirement already satisfied: numpy in /usr/local/lib/python3.6/dist-packages (from torch) (1.19.4)\n",
            "Requirement already satisfied: dataclasses in /usr/local/lib/python3.6/dist-packages (from torch) (0.8)\n",
            "Requirement already satisfied: typing-extensions in /usr/local/lib/python3.6/dist-packages (from torch) (3.7.4.3)\n"
          ],
          "name": "stdout"
        }
      ]
    },
    {
      "cell_type": "markdown",
      "metadata": {
        "id": "vOy2f031YWaJ"
      },
      "source": [
        "Задание 2 и 3 выполнить не смог"
      ]
    },
    {
      "cell_type": "code",
      "metadata": {
        "colab": {
          "base_uri": "https://localhost:8080/"
        },
        "id": "YiTn-uIPcdmu",
        "outputId": "acaa2e54-075a-4ad7-9c6f-0664669d57d6"
      },
      "source": [
        "pip install seaborn"
      ],
      "execution_count": null,
      "outputs": [
        {
          "output_type": "stream",
          "text": [
            "Requirement already satisfied: seaborn in /usr/local/lib/python3.6/dist-packages (0.11.0)\n",
            "Requirement already satisfied: scipy>=1.0 in /usr/local/lib/python3.6/dist-packages (from seaborn) (1.4.1)\n",
            "Requirement already satisfied: pandas>=0.23 in /usr/local/lib/python3.6/dist-packages (from seaborn) (1.1.5)\n",
            "Requirement already satisfied: matplotlib>=2.2 in /usr/local/lib/python3.6/dist-packages (from seaborn) (3.2.2)\n",
            "Requirement already satisfied: numpy>=1.15 in /usr/local/lib/python3.6/dist-packages (from seaborn) (1.19.4)\n",
            "Requirement already satisfied: pytz>=2017.2 in /usr/local/lib/python3.6/dist-packages (from pandas>=0.23->seaborn) (2018.9)\n",
            "Requirement already satisfied: python-dateutil>=2.7.3 in /usr/local/lib/python3.6/dist-packages (from pandas>=0.23->seaborn) (2.8.1)\n",
            "Requirement already satisfied: cycler>=0.10 in /usr/local/lib/python3.6/dist-packages (from matplotlib>=2.2->seaborn) (0.10.0)\n",
            "Requirement already satisfied: kiwisolver>=1.0.1 in /usr/local/lib/python3.6/dist-packages (from matplotlib>=2.2->seaborn) (1.3.1)\n",
            "Requirement already satisfied: pyparsing!=2.0.4,!=2.1.2,!=2.1.6,>=2.0.1 in /usr/local/lib/python3.6/dist-packages (from matplotlib>=2.2->seaborn) (2.4.7)\n",
            "Requirement already satisfied: six>=1.5 in /usr/local/lib/python3.6/dist-packages (from python-dateutil>=2.7.3->pandas>=0.23->seaborn) (1.15.0)\n"
          ],
          "name": "stdout"
        }
      ]
    },
    {
      "cell_type": "code",
      "metadata": {
        "id": "BsdX2aBDcuQM"
      },
      "source": [
        "from matplotlib import pyplot as plt\r\n",
        "import seaborn as sb"
      ],
      "execution_count": null,
      "outputs": []
    },
    {
      "cell_type": "code",
      "metadata": {
        "colab": {
          "base_uri": "https://localhost:8080/",
          "height": 301
        },
        "id": "FCucNgYac6h0",
        "outputId": "6590ae4a-1d1b-4b2e-de55-a9c761638278"
      },
      "source": [
        "# Задание 4.3\r\n",
        "# расписываем три графика нашей функция (решение задачи и функция в пдф файле)\r\n",
        "y = lambda x: np.sin(x) # синусоида\r\n",
        "y1 = lambda x1: x1-x1 # \"нулевые\" графики\r\n",
        "y2 = lambda x2: x2-x2\r\n",
        "\r\n",
        "# создаём рисунок с координатную плоскость\r\n",
        "sb.set() \r\n",
        "plt.title('Плотность вероятности')\r\n",
        "plt.xlabel('x')\r\n",
        "plt.ylabel('det f(x)')\r\n",
        "# создаём область, в которой будут отображаться графики\r\n",
        "x = np.linspace(np.pi,3*np.pi/2,100)\r\n",
        "x1 = np.linspace(0,np.pi,100)\r\n",
        "x2 = np.linspace(3*np.pi/2,5,100)\r\n",
        "plt.plot(x, y(x))\r\n",
        "plt.plot(x1,y1(x1))\r\n",
        "plt.plot(x2, y2(x2))\r\n",
        "# рисуем совмещенные графики\r\n",
        "plt.show()"
      ],
      "execution_count": null,
      "outputs": [
        {
          "output_type": "display_data",
          "data": {
            "image/png": "[encoded data removed]",
            "text/plain": [
              "<Figure size 432x288 with 1 Axes>"
            ]
          },
          "metadata": {
            "tags": []
          }
        }
      ]
    },
    {
      "cell_type": "code",
      "metadata": {
        "colab": {
          "base_uri": "https://localhost:8080/",
          "height": 301
        },
        "id": "LvBmGhBV5jG5",
        "outputId": "b62f3cfd-9ebc-4ee3-80c3-6bafe0265687"
      },
      "source": [
        "# Задание 5 (решения и записи функций в пдф файле)\r\n",
        "y = lambda x: x-1  # линенйный график\r\n",
        "y1 = lambda x1: x1-x1 # \"нулевые\" графики\r\n",
        "y2 = lambda x2: x2-x2\r\n",
        "\r\n",
        "# создаём рисунок с координатную плоскость\r\n",
        "sb.set() \r\n",
        "plt.title('Функция распределения')\r\n",
        "plt.xlabel('x')\r\n",
        "plt.ylabel('F(x)')\r\n",
        "# создаём область, в которой будут отображаться графики\r\n",
        "x = np.linspace(1,2,100)\r\n",
        "x1 = np.linspace(0,1,100)\r\n",
        "x2 = np.linspace(2,5,100)\r\n",
        "plt.plot(x, y(x))\r\n",
        "plt.plot(x1,y1(x1))\r\n",
        "plt.plot(x2, y2(x2))\r\n",
        "# рисуем совмещенные графики\r\n",
        "plt.show()"
      ],
      "execution_count": null,
      "outputs": [
        {
          "output_type": "display_data",
          "data": {
            "image/png": "[encoded data removed]",
            "text/plain": [
              "<Figure size 432x288 with 1 Axes>"
            ]
          },
          "metadata": {
            "tags": []
          }
        }
      ]
    },
    {
      "cell_type": "code",
      "metadata": {
        "colab": {
          "base_uri": "https://localhost:8080/",
          "height": 301
        },
        "id": "N-eUpLmZ7LdH",
        "outputId": "2b1d4cd8-abdb-458d-d191-d24e963956ff"
      },
      "source": [
        "# Задание 5 (решения и записи функций в пдф файле)\r\n",
        "y = lambda x: x/x # \"единичный\" график\r\n",
        "y1 = lambda x1: x1-x1 # \"нулевые\" графики\r\n",
        "y2 = lambda x2: x2-x2\r\n",
        "\r\n",
        "# создаём рисунок с координатную плоскость\r\n",
        "sb.set() \r\n",
        "plt.title('Плотность вероятности')\r\n",
        "plt.xlabel('x')\r\n",
        "plt.ylabel('F(x)')\r\n",
        "# создаём область, в которой будут отображаться графики\r\n",
        "x = np.linspace(1,2,100)\r\n",
        "x1 = np.linspace(0,1,100)\r\n",
        "x2 = np.linspace(2,5,100)\r\n",
        "plt.plot(x, y(x))\r\n",
        "plt.plot(x1,y1(x1))\r\n",
        "plt.plot(x2, y2(x2))\r\n",
        "# рисуем совмещенные графики\r\n",
        "plt.show()"
      ],
      "execution_count": null,
      "outputs": [
        {
          "output_type": "display_data",
          "data": {
            "image/png": "[encoded data removed]",
            "text/plain": [
              "<Figure size 432x288 with 1 Axes>"
            ]
          },
          "metadata": {
            "tags": []
          }
        }
      ]
    },
    {
      "cell_type": "markdown",
      "metadata": {
        "id": "UOZXBkvIPqtL"
      },
      "source": [
        "**Задача 6**\r\n",
        "\r\n",
        "> \r\n",
        "\r\n",
        "\r\n",
        "Precision = 90/90+30=0,75\r\n",
        "\r\n",
        "> \r\n",
        "\r\n",
        "\r\n",
        "Recall = 90/90+10=0,9\r\n",
        "\r\n",
        ">\r\n",
        "\r\n",
        "\r\n",
        "F1 метрика = 2*((0,75*0,9)/(0,75+0,9))=0,8181\r\n",
        "\r\n"
      ]
    }
  ]
}